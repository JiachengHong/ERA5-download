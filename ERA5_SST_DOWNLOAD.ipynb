{
 "cells": [
  {
   "cell_type": "code",
   "execution_count": 4,
   "id": "f96176b6",
   "metadata": {
    "ExecuteTime": {
     "end_time": "2022-09-29T13:37:21.821359Z",
     "start_time": "2022-09-29T08:30:33.390626Z"
    }
   },
   "outputs": [
    {
     "name": "stderr",
     "output_type": "stream",
     "text": [
      "2022-09-29 16:30:34,325 INFO Welcome to the CDS\n",
      "2022-09-29 16:30:34,327 INFO Sending request to https://cds.climate.copernicus.eu/api/v2/resources/reanalysis-era5-single-levels\n",
      "2022-09-29 16:30:34,593 INFO Request is queued\n",
      "2022-09-29 16:30:35,859 INFO Request is running\n",
      "2022-09-29 16:30:49,090 INFO Request is completed\n",
      "2022-09-29 16:30:49,091 INFO Downloading https://download-0006-clone.copernicus-climate.eu/cache-compute-0006/cache/data0/adaptor.mars.internal-1664440244.3257105-29662-2-0650cd32-dee1-4d77-ba10-23dfd845170d.nc to g:/ERA5_SST/ERA5_SST_200201.nc (61.5M)\n",
      "2022-09-29 16:32:01,254 INFO Download rate 872.4K/s                                                                    \n"
     ]
    },
    {
     "name": "stdout",
     "output_type": "stream",
     "text": [
      "用时88.71759629249573\n"
     ]
    },
    {
     "name": "stderr",
     "output_type": "stream",
     "text": [
      "2022-09-29 16:32:02,323 INFO Welcome to the CDS\n",
      "2022-09-29 16:32:02,323 INFO Sending request to https://cds.climate.copernicus.eu/api/v2/resources/reanalysis-era5-single-levels\n",
      "2022-09-29 16:32:02,561 INFO Request is queued\n",
      "2022-09-29 16:32:03,793 INFO Request is running\n",
      "2022-09-29 16:32:16,888 INFO Request is completed\n",
      "2022-09-29 16:32:16,890 INFO Downloading https://download-0016.copernicus-climate.eu/cache-compute-0016/cache/data8/adaptor.mars.internal-1664440331.5604742-22826-11-fc32af6e-5c1f-45dd-8f24-3b0d435c1539.nc to g:/ERA5_SST/ERA5_SST_200202.nc (55.5M)\n",
      "2022-09-29 16:32:37,652 INFO Download rate 2.7M/s                                                                      \n"
     ]
    },
    {
     "name": "stdout",
     "output_type": "stream",
     "text": [
      "用时35.75882172584534\n"
     ]
    },
    {
     "name": "stderr",
     "output_type": "stream",
     "text": [
      "2022-09-29 16:32:38,086 INFO Welcome to the CDS\n",
      "2022-09-29 16:32:38,087 INFO Sending request to https://cds.climate.copernicus.eu/api/v2/resources/reanalysis-era5-single-levels\n",
      "2022-09-29 16:32:57,594 WARNING Recovering from connection error [('Connection aborted.', ConnectionResetError(10054, '远程主机强迫关闭了一个现有的连接。', None, 10054, None))], attemps 0 of 500\n",
      "2022-09-29 16:32:57,596 WARNING Retrying in 120 seconds\n",
      "2022-09-29 16:34:57,607 INFO Retrying now...\n",
      "2022-09-29 16:34:58,544 INFO Request is queued\n",
      "2022-09-29 16:34:59,777 INFO Request is running\n",
      "2022-09-29 16:35:12,881 INFO Request is completed\n",
      "2022-09-29 16:35:12,882 INFO Downloading https://download-0006-clone.copernicus-climate.eu/cache-compute-0006/cache/data7/adaptor.mars.internal-1664440508.3457832-15795-13-00764b34-84a1-4013-a18e-4528e52a9e70.nc to g:/ERA5_SST/ERA5_SST_200203.nc (61.5M)\n",
      "2022-09-29 16:36:11,205 INFO Download rate 1.1M/s                                                                      \n"
     ]
    },
    {
     "name": "stdout",
     "output_type": "stream",
     "text": [
      "用时213.33005118370056\n"
     ]
    },
    {
     "name": "stderr",
     "output_type": "stream",
     "text": [
      "2022-09-29 16:36:11,425 INFO Welcome to the CDS\n",
      "2022-09-29 16:36:11,426 INFO Sending request to https://cds.climate.copernicus.eu/api/v2/resources/reanalysis-era5-single-levels\n",
      "2022-09-29 16:36:11,657 INFO Request is queued\n",
      "2022-09-29 16:36:12,892 INFO Request is running\n",
      "2022-09-29 16:36:33,836 INFO Request is completed\n",
      "2022-09-29 16:36:33,837 INFO Downloading https://download-0010-clone.copernicus-climate.eu/cache-compute-0010/cache/data3/adaptor.mars.internal-1664440585.724849-6010-10-04f4887e-bd5e-4327-91d1-fa7a4559efc6.nc to g:/ERA5_SST/ERA5_SST_200204.nc (59.5M)\n",
      "2022-09-29 16:37:11,349 INFO Download rate 1.6M/s                                                                      \n"
     ]
    },
    {
     "name": "stdout",
     "output_type": "stream",
     "text": [
      "用时60.372071266174316\n"
     ]
    },
    {
     "name": "stderr",
     "output_type": "stream",
     "text": [
      "2022-09-29 16:37:11,799 INFO Welcome to the CDS\n",
      "2022-09-29 16:37:11,800 INFO Sending request to https://cds.climate.copernicus.eu/api/v2/resources/reanalysis-era5-single-levels\n",
      "2022-09-29 16:37:12,040 INFO Request is queued\n",
      "2022-09-29 16:37:13,275 INFO Request is running\n",
      "2022-09-29 16:37:26,389 INFO Request is completed\n",
      "2022-09-29 16:37:26,390 INFO Downloading https://download-0003-clone.copernicus-climate.eu/cache-compute-0003/cache/data8/adaptor.mars.internal-1664440641.99009-29899-18-560c0115-0926-4a3f-8938-5f5706b6b615.nc to g:/ERA5_SST/ERA5_SST_200205.nc (61.5M)\n",
      "2022-09-29 16:38:53,230 INFO Download rate 725K/s                                                                      \n",
      "2022-09-29 16:38:55,783 WARNING DELETE https://cds.climate.copernicus.eu/api/v2/tasks/560c0115-0926-4a3f-8938-5f5706b6b615 returns 500 Internal Server Error\n"
     ]
    },
    {
     "name": "stdout",
     "output_type": "stream",
     "text": [
      "用时104.20574402809143\n"
     ]
    },
    {
     "name": "stderr",
     "output_type": "stream",
     "text": [
      "2022-09-29 16:38:56,751 INFO Welcome to the CDS\n",
      "2022-09-29 16:38:56,752 INFO Sending request to https://cds.climate.copernicus.eu/api/v2/resources/reanalysis-era5-single-levels\n",
      "2022-09-29 16:39:07,273 INFO Request is queued\n",
      "2022-09-29 16:39:08,528 INFO Request is running\n",
      "2022-09-29 16:42:01,084 INFO Request is completed\n",
      "2022-09-29 16:42:01,087 INFO Downloading https://download-0020.copernicus-climate.eu/cache-compute-0020/cache/data8/adaptor.mars.internal-1664440862.2719781-31620-7-0f2c135d-a56c-4875-87bb-6bdd3ccbdd30.nc to g:/ERA5_SST/ERA5_SST_200206.nc (59.5M)\n",
      "2022-09-29 16:42:54,582 INFO Download rate 1.1M/s                                                                      \n"
     ]
    },
    {
     "name": "stdout",
     "output_type": "stream",
     "text": [
      "用时239.04579520225525\n"
     ]
    },
    {
     "name": "stderr",
     "output_type": "stream",
     "text": [
      "2022-09-29 16:42:55,072 INFO Welcome to the CDS\n",
      "2022-09-29 16:42:55,074 INFO Sending request to https://cds.climate.copernicus.eu/api/v2/resources/reanalysis-era5-single-levels\n",
      "2022-09-29 16:42:55,357 INFO Request is queued\n",
      "2022-09-29 16:42:56,616 INFO Request is running\n",
      "2022-09-29 16:43:29,303 INFO Request is completed\n",
      "2022-09-29 16:43:29,305 INFO Downloading https://download-0020.copernicus-climate.eu/cache-compute-0020/cache/data6/adaptor.mars.internal-1664441000.7359867-31481-6-744c02ab-efeb-44b8-9860-2b320839d39a.nc to g:/ERA5_SST/ERA5_SST_200207.nc (61.5M)\n",
      "2022-09-29 16:45:26,322 ERROR Download interupted: HTTPSConnectionPool(host='download-0020.copernicus-climate.eu', port=443): Read timed out.\n",
      "2022-09-29 16:45:26,323 ERROR Download incomplete, downloaded 57592832 byte(s) out of 64466056\n",
      "2022-09-29 16:45:26,324 WARNING Sleeping 10 seconds\n",
      "2022-09-29 16:45:36,337 WARNING Resuming download at byte 57592832\n",
      "2022-09-29 16:45:42,261 INFO Download rate 473.5K/s                                                                    \n"
     ]
    },
    {
     "name": "stdout",
     "output_type": "stream",
     "text": [
      "用时168.34595155715942\n"
     ]
    },
    {
     "name": "stderr",
     "output_type": "stream",
     "text": [
      "2022-09-29 16:45:43,404 INFO Welcome to the CDS\n",
      "2022-09-29 16:45:43,405 INFO Sending request to https://cds.climate.copernicus.eu/api/v2/resources/reanalysis-era5-single-levels\n",
      "2022-09-29 16:45:43,640 INFO Request is queued\n",
      "2022-09-29 16:45:44,874 INFO Request is running\n",
      "2022-09-29 16:45:58,064 INFO Request is completed\n",
      "2022-09-29 16:45:58,065 INFO Downloading https://download-0010-clone.copernicus-climate.eu/cache-compute-0010/cache/data8/adaptor.mars.internal-1664441154.7177877-29495-4-5515bc28-9681-4580-b8e2-774c580043a6.nc to g:/ERA5_SST/ERA5_SST_200208.nc (61.5M)\n",
      "2022-09-29 16:46:41,436 INFO Download rate 1.4M/s                                                                      \n"
     ]
    },
    {
     "name": "stdout",
     "output_type": "stream",
     "text": [
      "用时58.490344524383545\n"
     ]
    },
    {
     "name": "stderr",
     "output_type": "stream",
     "text": [
      "2022-09-29 16:46:41,898 INFO Welcome to the CDS\n",
      "2022-09-29 16:46:41,900 INFO Sending request to https://cds.climate.copernicus.eu/api/v2/resources/reanalysis-era5-single-levels\n",
      "2022-09-29 16:46:42,136 INFO Request is queued\n",
      "2022-09-29 16:46:43,370 INFO Request is running\n",
      "2022-09-29 16:46:56,508 INFO Request is completed\n",
      "2022-09-29 16:46:56,509 INFO Downloading https://download-0016.copernicus-climate.eu/cache-compute-0016/cache/data0/adaptor.mars.internal-1664441212.5063531-26813-1-1d884600-08f7-4723-8803-97bbbfad201b.nc to g:/ERA5_SST/ERA5_SST_200209.nc (59.5M)\n",
      "2022-09-29 16:47:22,910 INFO Download rate 2.3M/s                                                                      \n"
     ]
    },
    {
     "name": "stdout",
     "output_type": "stream",
     "text": [
      "用时41.472803592681885\n"
     ]
    },
    {
     "name": "stderr",
     "output_type": "stream",
     "text": [
      "2022-09-29 16:47:23,367 INFO Welcome to the CDS\n",
      "2022-09-29 16:47:23,368 INFO Sending request to https://cds.climate.copernicus.eu/api/v2/resources/reanalysis-era5-single-levels\n",
      "2022-09-29 16:47:23,601 INFO Request is queued\n",
      "2022-09-29 16:47:24,846 INFO Request is running\n",
      "2022-09-29 16:47:37,987 INFO Request is completed\n",
      "2022-09-29 16:47:37,988 INFO Downloading https://download-0021.copernicus-climate.eu/cache-compute-0021/cache/data3/adaptor.mars.internal-1664441254.2781534-24815-1-3abd6741-4175-4eaa-b3b4-eccabcf0861d.nc to g:/ERA5_SST/ERA5_SST_200210.nc (61.5M)\n",
      "2022-09-29 16:48:17,552 INFO Download rate 1.6M/s                                                                      \n"
     ]
    },
    {
     "name": "stdout",
     "output_type": "stream",
     "text": [
      "用时54.64108085632324\n"
     ]
    },
    {
     "name": "stderr",
     "output_type": "stream",
     "text": [
      "2022-09-29 16:48:18,012 INFO Welcome to the CDS\n",
      "2022-09-29 16:48:18,013 INFO Sending request to https://cds.climate.copernicus.eu/api/v2/resources/reanalysis-era5-single-levels\n",
      "2022-09-29 16:48:18,291 INFO Request is queued\n",
      "2022-09-29 16:48:19,527 INFO Request is running\n",
      "2022-09-29 16:48:32,684 INFO Request is completed\n",
      "2022-09-29 16:48:32,687 INFO Downloading https://download-0012-clone.copernicus-climate.eu/cache-compute-0012/cache/data9/adaptor.mars.internal-1664441308.4325533-27705-8-bf28b2a0-d770-43cb-84c8-84c1f5f6af2c.nc to g:/ERA5_SST/ERA5_SST_200211.nc (59.5M)\n",
      "2022-09-29 16:49:05,109 INFO Download rate 1.8M/s                                                                      \n"
     ]
    },
    {
     "name": "stdout",
     "output_type": "stream",
     "text": [
      "用时47.55765771865845\n"
     ]
    },
    {
     "name": "stderr",
     "output_type": "stream",
     "text": [
      "2022-09-29 16:49:05,570 INFO Welcome to the CDS\n",
      "2022-09-29 16:49:05,571 INFO Sending request to https://cds.climate.copernicus.eu/api/v2/resources/reanalysis-era5-single-levels\n",
      "2022-09-29 16:49:05,829 INFO Request is queued\n",
      "2022-09-29 16:49:07,074 INFO Request is running\n",
      "2022-09-29 16:49:20,204 INFO Request is completed\n",
      "2022-09-29 16:49:20,206 INFO Downloading https://download-0010-clone.copernicus-climate.eu/cache-compute-0010/cache/data9/adaptor.mars.internal-1664441357.380852-30053-1-0ebf6f21-f60c-4aa7-bf20-92fe935e300f.nc to g:/ERA5_SST/ERA5_SST_200212.nc (61.5M)\n",
      "2022-09-29 16:49:42,665 INFO Download rate 2.7M/s                                                                      \n"
     ]
    },
    {
     "name": "stdout",
     "output_type": "stream",
     "text": [
      "用时37.55458188056946\n"
     ]
    },
    {
     "name": "stderr",
     "output_type": "stream",
     "text": [
      "2022-09-29 16:49:43,125 INFO Welcome to the CDS\n",
      "2022-09-29 16:49:43,126 INFO Sending request to https://cds.climate.copernicus.eu/api/v2/resources/reanalysis-era5-single-levels\n",
      "2022-09-29 16:49:43,360 INFO Request is queued\n",
      "2022-09-29 16:49:44,604 INFO Request is running\n",
      "2022-09-29 16:49:57,747 INFO Request is completed\n",
      "2022-09-29 16:49:57,749 INFO Downloading https://download-0021.copernicus-climate.eu/cache-compute-0021/cache/data3/adaptor.mars.internal-1664441394.755401-25399-1-cb02c5f9-dcb7-4470-bbeb-d4e0a89f69f9.nc to g:/ERA5_SST/ERA5_SST_200301.nc (61.5M)\n",
      "2022-09-29 16:50:40,353 INFO Download rate 1.4M/s                                                                      \n"
     ]
    },
    {
     "name": "stdout",
     "output_type": "stream",
     "text": [
      "用时57.68908500671387\n"
     ]
    },
    {
     "name": "stderr",
     "output_type": "stream",
     "text": [
      "2022-09-29 16:50:40,818 INFO Welcome to the CDS\n",
      "2022-09-29 16:50:40,820 INFO Sending request to https://cds.climate.copernicus.eu/api/v2/resources/reanalysis-era5-single-levels\n",
      "2022-09-29 16:50:41,075 INFO Request is queued\n",
      "2022-09-29 16:50:42,311 INFO Request is running\n",
      "2022-09-29 16:51:03,280 INFO Request is completed\n",
      "2022-09-29 16:51:03,282 INFO Downloading https://download-0001-clone.copernicus-climate.eu/cache-compute-0001/cache/data1/adaptor.mars.internal-1664441455.005396-13467-6-55ee7e2c-791d-4727-b876-adde3a6b1f37.nc to g:/ERA5_SST/ERA5_SST_200302.nc (55.5M)\n",
      "2022-09-29 16:51:46,518 INFO Download rate 1.3M/s                                                                      \n"
     ]
    },
    {
     "name": "stdout",
     "output_type": "stream",
     "text": [
      "用时66.16507482528687\n"
     ]
    },
    {
     "name": "stderr",
     "output_type": "stream",
     "text": [
      "2022-09-29 16:51:46,980 INFO Welcome to the CDS\n",
      "2022-09-29 16:51:46,980 INFO Sending request to https://cds.climate.copernicus.eu/api/v2/resources/reanalysis-era5-single-levels\n",
      "2022-09-29 16:51:47,216 INFO Request is queued\n",
      "2022-09-29 16:51:48,459 INFO Request is running\n",
      "2022-09-29 16:52:01,607 INFO Request is completed\n",
      "2022-09-29 16:52:01,610 INFO Downloading https://download-0021.copernicus-climate.eu/cache-compute-0021/cache/data1/adaptor.mars.internal-1664441518.28722-25193-2-22d5605f-cdda-4c0c-bdde-dcb84846a3da.nc to g:/ERA5_SST/ERA5_SST_200303.nc (61.5M)\n",
      "2022-09-29 16:52:47,778 INFO Download rate 1.3M/s                                                                      \n"
     ]
    },
    {
     "name": "stdout",
     "output_type": "stream",
     "text": [
      "用时61.260019063949585\n"
     ]
    },
    {
     "name": "stderr",
     "output_type": "stream",
     "text": [
      "2022-09-29 16:52:48,244 INFO Welcome to the CDS\n",
      "2022-09-29 16:52:48,246 INFO Sending request to https://cds.climate.copernicus.eu/api/v2/resources/reanalysis-era5-single-levels\n",
      "2022-09-29 16:52:48,498 INFO Request is queued\n",
      "2022-09-29 16:52:49,734 INFO Request is running\n",
      "2022-09-29 16:53:02,881 INFO Request is completed\n",
      "2022-09-29 16:53:02,882 INFO Downloading https://download-0016.copernicus-climate.eu/cache-compute-0016/cache/data2/adaptor.mars.internal-1664441579.0845923-27369-2-86f4c024-f0d8-47b4-bfc2-fc8b9c423d38.nc to g:/ERA5_SST/ERA5_SST_200304.nc (59.5M)\n",
      "2022-09-29 16:53:57,689 INFO Download rate 1.1M/s                                                                      \n"
     ]
    },
    {
     "name": "stdout",
     "output_type": "stream",
     "text": [
      "用时69.91069650650024\n"
     ]
    },
    {
     "name": "stderr",
     "output_type": "stream",
     "text": [
      "2022-09-29 16:53:58,156 INFO Welcome to the CDS\n",
      "2022-09-29 16:53:58,156 INFO Sending request to https://cds.climate.copernicus.eu/api/v2/resources/reanalysis-era5-single-levels\n",
      "2022-09-29 16:53:58,391 INFO Request is queued\n",
      "2022-09-29 16:53:59,630 INFO Request is running\n",
      "2022-09-29 16:54:12,771 INFO Request is completed\n",
      "2022-09-29 16:54:12,772 INFO Downloading https://download-0015-clone.copernicus-climate.eu/cache-compute-0015/cache/data4/adaptor.mars.internal-1664441649.3033516-4826-5-08c2e1bf-4ba7-4d19-9933-8cab566a586d.nc to g:/ERA5_SST/ERA5_SST_200305.nc (61.5M)\n",
      "2022-09-29 16:54:50,440 INFO Download rate 1.6M/s                                                                      \n"
     ]
    },
    {
     "name": "stdout",
     "output_type": "stream",
     "text": [
      "用时52.75044107437134\n"
     ]
    },
    {
     "name": "stderr",
     "output_type": "stream",
     "text": [
      "2022-09-29 16:54:50,908 INFO Welcome to the CDS\n",
      "2022-09-29 16:54:50,909 INFO Sending request to https://cds.climate.copernicus.eu/api/v2/resources/reanalysis-era5-single-levels\n",
      "2022-09-29 16:54:51,142 INFO Request is queued\n",
      "2022-09-29 16:54:52,387 INFO Request is running\n",
      "2022-09-29 16:55:05,536 INFO Request is completed\n",
      "2022-09-29 16:55:05,539 INFO Downloading https://download-0020.copernicus-climate.eu/cache-compute-0020/cache/data4/adaptor.mars.internal-1664441701.701183-32512-3-02be072a-013b-42fa-ae1c-7926b6bebaf4.nc to g:/ERA5_SST/ERA5_SST_200306.nc (59.5M)\n",
      "2022-09-29 16:55:32,564 INFO Download rate 2.2M/s                                                                      \n"
     ]
    },
    {
     "name": "stdout",
     "output_type": "stream",
     "text": [
      "用时42.12027025222778\n"
     ]
    },
    {
     "name": "stderr",
     "output_type": "stream",
     "text": [
      "2022-09-29 16:55:33,028 INFO Welcome to the CDS\n",
      "2022-09-29 16:55:33,029 INFO Sending request to https://cds.climate.copernicus.eu/api/v2/resources/reanalysis-era5-single-levels\n",
      "2022-09-29 16:55:33,301 INFO Request is queued\n",
      "2022-09-29 16:55:34,538 INFO Request is running\n",
      "2022-09-29 16:55:47,669 INFO Request is completed\n",
      "2022-09-29 16:55:47,671 INFO Downloading https://download-0007-clone.copernicus-climate.eu/cache-compute-0007/cache/data5/adaptor.mars.internal-1664441744.5900843-20193-3-55ffe2a4-8d97-4166-889f-806b7f303310.nc to g:/ERA5_SST/ERA5_SST_200307.nc (61.5M)\n",
      "2022-09-29 17:02:51,650 ERROR Download interupted: HTTPSConnectionPool(host='download-0007-clone.copernicus-climate.eu', port=443): Read timed out.\n",
      "2022-09-29 17:02:51,651 ERROR Download incomplete, downloaded 13845504 byte(s) out of 64466056\n",
      "2022-09-29 17:02:51,651 WARNING Sleeping 10 seconds\n",
      "2022-09-29 17:03:01,660 WARNING Resuming download at byte 13845504\n",
      "2022-09-29 17:03:44,133 INFO Download rate 132.1K/s                                                                    \n"
     ]
    },
    {
     "name": "stdout",
     "output_type": "stream",
     "text": [
      "用时492.327739238739\n"
     ]
    },
    {
     "name": "stderr",
     "output_type": "stream",
     "text": [
      "2022-09-29 17:03:45,374 INFO Welcome to the CDS\n",
      "2022-09-29 17:03:45,377 INFO Sending request to https://cds.climate.copernicus.eu/api/v2/resources/reanalysis-era5-single-levels\n",
      "2022-09-29 17:03:45,676 INFO Request is queued\n",
      "2022-09-29 17:03:46,930 INFO Request is running\n",
      "2022-09-29 17:04:00,126 INFO Request is completed\n",
      "2022-09-29 17:04:00,127 INFO Downloading https://download-0011-clone.copernicus-climate.eu/cache-compute-0011/cache/data2/adaptor.mars.internal-1664442235.6017134-26871-7-37cc12a0-39bd-48bd-8548-7e94caa87762.nc to g:/ERA5_SST/ERA5_SST_200308.nc (61.5M)\n",
      "2022-09-29 17:05:33,657 INFO Download rate 673.1K/s                                                                    \n"
     ]
    },
    {
     "name": "stdout",
     "output_type": "stream",
     "text": [
      "用时109.39557409286499\n"
     ]
    },
    {
     "name": "stderr",
     "output_type": "stream",
     "text": [
      "2022-09-29 17:05:34,736 INFO Welcome to the CDS\n",
      "2022-09-29 17:05:34,738 INFO Sending request to https://cds.climate.copernicus.eu/api/v2/resources/reanalysis-era5-single-levels\n",
      "2022-09-29 17:05:34,958 INFO Request is queued\n",
      "2022-09-29 17:05:36,177 INFO Request is running\n",
      "2022-09-29 17:05:49,268 INFO Request is completed\n",
      "2022-09-29 17:05:49,269 INFO Downloading https://download-0016.copernicus-climate.eu/cache-compute-0016/cache/data6/adaptor.mars.internal-1664442344.9130886-27094-9-6576ff28-ef16-445f-ba1f-03069320cffa.nc to g:/ERA5_SST/ERA5_SST_200309.nc (59.5M)\n",
      "2022-09-29 17:06:56,546 INFO Download rate 905.6K/s                                                                    \n"
     ]
    },
    {
     "name": "stdout",
     "output_type": "stream",
     "text": [
      "用时83.08656859397888\n"
     ]
    },
    {
     "name": "stderr",
     "output_type": "stream",
     "text": [
      "2022-09-29 17:06:57,872 INFO Welcome to the CDS\n",
      "2022-09-29 17:06:57,874 INFO Sending request to https://cds.climate.copernicus.eu/api/v2/resources/reanalysis-era5-single-levels\n",
      "2022-09-29 17:06:58,143 INFO Request is queued\n",
      "2022-09-29 17:06:59,411 INFO Request is running\n",
      "2022-09-29 17:07:12,660 INFO Request is completed\n",
      "2022-09-29 17:07:12,661 INFO Downloading https://download-0014-clone.copernicus-climate.eu/cache-compute-0014/cache/data9/adaptor.mars.internal-1664442428.9564576-23597-8-ccc80941-7599-4845-8682-88b725c1bd25.nc to g:/ERA5_SST/ERA5_SST_200310.nc (61.5M)\n",
      "2022-09-29 17:08:19,884 INFO Download rate 936.5K/s                                                                    \n"
     ]
    },
    {
     "name": "stdout",
     "output_type": "stream",
     "text": [
      "用时83.23912835121155\n"
     ]
    },
    {
     "name": "stderr",
     "output_type": "stream",
     "text": [
      "2022-09-29 17:08:21,090 INFO Welcome to the CDS\n",
      "2022-09-29 17:08:21,092 INFO Sending request to https://cds.climate.copernicus.eu/api/v2/resources/reanalysis-era5-single-levels\n",
      "2022-09-29 17:08:21,356 INFO Request is queued\n",
      "2022-09-29 17:08:22,606 INFO Request is running\n",
      "2022-09-29 17:08:35,820 INFO Request is completed\n",
      "2022-09-29 17:08:35,822 INFO Downloading https://download-0014-clone.copernicus-climate.eu/cache-compute-0014/cache/data4/adaptor.mars.internal-1664442512.5111506-22766-11-129f9ed2-cd4d-47d8-a2c6-8e290a5d94c6.nc to g:/ERA5_SST/ERA5_SST_200311.nc (59.5M)\n",
      "2022-09-29 17:10:29,827 INFO Download rate 534.4K/s                                                                    \n"
     ]
    },
    {
     "name": "stdout",
     "output_type": "stream",
     "text": [
      "用时129.81119561195374\n"
     ]
    },
    {
     "name": "stderr",
     "output_type": "stream",
     "text": [
      "2022-09-29 17:10:30,872 INFO Welcome to the CDS\n",
      "2022-09-29 17:10:30,874 INFO Sending request to https://cds.climate.copernicus.eu/api/v2/resources/reanalysis-era5-single-levels\n",
      "2022-09-29 17:10:31,106 INFO Request is queued\n",
      "2022-09-29 17:10:32,322 INFO Request is running\n",
      "2022-09-29 17:10:45,383 INFO Request is completed\n",
      "2022-09-29 17:10:45,384 INFO Downloading https://download-0000-clone.copernicus-climate.eu/cache-compute-0000/cache/data3/adaptor.mars.internal-1664442642.010835-27387-7-40dba487-1b87-448f-9bfe-a5cb040df0f1.nc to g:/ERA5_SST/ERA5_SST_200312.nc (61.5M)\n",
      "2022-09-29 17:12:15,661 INFO Download rate 697.4K/s                                                                    \n",
      "2022-09-29 17:12:16,709 INFO Welcome to the CDS\n"
     ]
    },
    {
     "name": "stdout",
     "output_type": "stream",
     "text": [
      "用时105.84003520011902\n"
     ]
    },
    {
     "name": "stderr",
     "output_type": "stream",
     "text": [
      "2022-09-29 17:12:16,712 INFO Sending request to https://cds.climate.copernicus.eu/api/v2/resources/reanalysis-era5-single-levels\n",
      "2022-09-29 17:12:16,942 INFO Request is queued\n",
      "2022-09-29 17:12:18,161 INFO Request is running\n",
      "2022-09-29 17:12:31,228 INFO Request is completed\n",
      "2022-09-29 17:12:31,229 INFO Downloading https://download-0003-clone.copernicus-climate.eu/cache-compute-0003/cache/data8/adaptor.mars.internal-1664442746.9872832-2820-10-7f57efe2-9cb5-4226-b575-12ef72ca9459.nc to g:/ERA5_SST/ERA5_SST_200401.nc (61.5M)\n",
      "2022-09-29 17:13:36,639 INFO Download rate 962.5K/s                                                                    \n"
     ]
    },
    {
     "name": "stdout",
     "output_type": "stream",
     "text": [
      "用时81.26737403869629\n"
     ]
    },
    {
     "name": "stderr",
     "output_type": "stream",
     "text": [
      "2022-09-29 17:13:38,053 INFO Welcome to the CDS\n",
      "2022-09-29 17:13:38,054 INFO Sending request to https://cds.climate.copernicus.eu/api/v2/resources/reanalysis-era5-single-levels\n",
      "2022-09-29 17:13:38,359 INFO Request is queued\n",
      "2022-09-29 17:13:39,645 INFO Request is running\n",
      "2022-09-29 17:13:53,008 INFO Request is completed\n",
      "2022-09-29 17:13:53,009 INFO Downloading https://download-0015-clone.copernicus-climate.eu/cache-compute-0015/cache/data8/adaptor.mars.internal-1664442828.533423-5507-6-0fb09132-79db-4c57-834b-37b37ea1af94.nc to g:/ERA5_SST/ERA5_SST_200402.nc (57.5M)\n",
      "2022-09-29 17:15:02,342 INFO Download rate 849.4K/s                                                                    \n"
     ]
    },
    {
     "name": "stdout",
     "output_type": "stream",
     "text": [
      "用时85.59975838661194\n"
     ]
    },
    {
     "name": "stderr",
     "output_type": "stream",
     "text": [
      "2022-09-29 17:15:03,630 INFO Welcome to the CDS\n",
      "2022-09-29 17:15:03,631 INFO Sending request to https://cds.climate.copernicus.eu/api/v2/resources/reanalysis-era5-single-levels\n",
      "2022-09-29 17:15:03,910 INFO Request is queued\n",
      "2022-09-29 17:15:05,166 INFO Request is running\n",
      "2022-09-29 17:15:18,406 INFO Request is completed\n",
      "2022-09-29 17:15:18,408 INFO Downloading https://download-0013-clone.copernicus-climate.eu/cache-compute-0013/cache/data9/adaptor.mars.internal-1664442913.6587608-24195-8-0d10182a-315d-457b-9504-cb56ba6ddf45.nc to g:/ERA5_SST/ERA5_SST_200403.nc (61.5M)\n",
      "2022-09-29 17:16:44,172 INFO Download rate 734.1K/s                                                                    \n"
     ]
    },
    {
     "name": "stdout",
     "output_type": "stream",
     "text": [
      "用时101.8811686038971\n"
     ]
    },
    {
     "name": "stderr",
     "output_type": "stream",
     "text": [
      "2022-09-29 17:16:45,518 INFO Welcome to the CDS\n",
      "2022-09-29 17:16:45,519 INFO Sending request to https://cds.climate.copernicus.eu/api/v2/resources/reanalysis-era5-single-levels\n",
      "2022-09-29 17:16:45,791 INFO Request is queued\n",
      "2022-09-29 17:16:47,076 INFO Request is running\n",
      "2022-09-29 17:17:00,374 INFO Request is completed\n",
      "2022-09-29 17:17:00,377 INFO Downloading https://download-0021.copernicus-climate.eu/cache-compute-0021/cache/data3/adaptor.mars.internal-1664443016.0181353-25090-12-de8d8dfc-614d-41b9-8cd7-e085d23bb100.nc to g:/ERA5_SST/ERA5_SST_200404.nc (59.5M)\n",
      "2022-09-29 17:17:39,599 INFO Download rate 1.5M/s                                                                      \n"
     ]
    },
    {
     "name": "stdout",
     "output_type": "stream",
     "text": [
      "用时54.61015439033508\n"
     ]
    },
    {
     "name": "stderr",
     "output_type": "stream",
     "text": [
      "2022-09-29 17:17:40,130 INFO Welcome to the CDS\n",
      "2022-09-29 17:17:40,133 INFO Sending request to https://cds.climate.copernicus.eu/api/v2/resources/reanalysis-era5-single-levels\n",
      "2022-09-29 17:17:40,411 INFO Request is queued\n",
      "2022-09-29 17:17:41,692 INFO Request is running\n",
      "2022-09-29 17:17:54,976 INFO Request is completed\n",
      "2022-09-29 17:17:54,978 INFO Downloading https://download-0008-clone.copernicus-climate.eu/cache-compute-0008/cache/data8/adaptor.mars.internal-1664443071.0559285-10882-14-504a0d4a-ea96-45ea-81b3-aae2257795a2.nc to g:/ERA5_SST/ERA5_SST_200405.nc (61.5M)\n",
      "2022-09-29 17:19:00,245 INFO Download rate 964.6K/s                                                                    \n"
     ]
    },
    {
     "name": "stdout",
     "output_type": "stream",
     "text": [
      "用时81.37328886985779\n"
     ]
    },
    {
     "name": "stderr",
     "output_type": "stream",
     "text": [
      "2022-09-29 17:19:01,487 INFO Welcome to the CDS\n",
      "2022-09-29 17:19:01,488 INFO Sending request to https://cds.climate.copernicus.eu/api/v2/resources/reanalysis-era5-single-levels\n",
      "2022-09-29 17:19:01,739 INFO Request is queued\n",
      "2022-09-29 17:19:03,002 INFO Request is running\n",
      "2022-09-29 17:19:16,222 INFO Request is completed\n",
      "2022-09-29 17:19:16,224 INFO Downloading https://download-0003-clone.copernicus-climate.eu/cache-compute-0003/cache/data9/adaptor.mars.internal-1664443151.802809-12849-2-f5dd854f-4d7b-4a48-8e5a-9001e37376c8.nc to g:/ERA5_SST/ERA5_SST_200406.nc (59.5M)\n",
      "2022-09-29 17:20:48,933 INFO Download rate 657.2K/s                                                                    \n"
     ]
    },
    {
     "name": "stdout",
     "output_type": "stream",
     "text": [
      "用时108.64098882675171\n"
     ]
    },
    {
     "name": "stderr",
     "output_type": "stream",
     "text": [
      "2022-09-29 17:20:50,107 INFO Welcome to the CDS\n",
      "2022-09-29 17:20:50,108 INFO Sending request to https://cds.climate.copernicus.eu/api/v2/resources/reanalysis-era5-single-levels\n",
      "2022-09-29 17:20:50,362 INFO Request is queued\n",
      "2022-09-29 17:20:51,599 INFO Request is running\n",
      "2022-09-29 17:21:04,741 INFO Request is completed\n",
      "2022-09-29 17:21:04,743 INFO Downloading https://download-0012-clone.copernicus-climate.eu/cache-compute-0012/cache/data9/adaptor.mars.internal-1664443260.2719214-28521-15-f60c1260-9ce1-4720-9818-83327b3a1870.nc to g:/ERA5_SST/ERA5_SST_200407.nc (61.5M)\n",
      "2022-09-29 17:21:46,169 INFO Download rate 1.5M/s                                                                      \n"
     ]
    },
    {
     "name": "stdout",
     "output_type": "stream",
     "text": [
      "用时56.51973867416382\n"
     ]
    },
    {
     "name": "stderr",
     "output_type": "stream",
     "text": [
      "2022-09-29 17:21:46,629 INFO Welcome to the CDS\n",
      "2022-09-29 17:21:46,631 INFO Sending request to https://cds.climate.copernicus.eu/api/v2/resources/reanalysis-era5-single-levels\n",
      "2022-09-29 17:21:46,870 INFO Request is queued\n",
      "2022-09-29 17:21:48,110 INFO Request is running\n",
      "2022-09-29 17:22:01,242 INFO Request is completed\n",
      "2022-09-29 17:22:01,243 INFO Downloading https://download-0010-clone.copernicus-climate.eu/cache-compute-0010/cache/data0/adaptor.mars.internal-1664443317.6906054-30293-15-d2d3c7de-8844-43b6-adf0-71edb7056c94.nc to g:/ERA5_SST/ERA5_SST_200408.nc (61.5M)\n",
      "2022-09-29 17:23:05,972 INFO Download rate 972.6K/s                                                                    \n"
     ]
    },
    {
     "name": "stdout",
     "output_type": "stream",
     "text": [
      "用时79.80842280387878\n"
     ]
    },
    {
     "name": "stderr",
     "output_type": "stream",
     "text": [
      "2022-09-29 17:23:06,436 INFO Welcome to the CDS\n",
      "2022-09-29 17:23:06,436 INFO Sending request to https://cds.climate.copernicus.eu/api/v2/resources/reanalysis-era5-single-levels\n",
      "2022-09-29 17:23:06,695 INFO Request is queued\n",
      "2022-09-29 17:23:07,937 INFO Request is running\n",
      "2022-09-29 17:23:21,075 INFO Request is completed\n",
      "2022-09-29 17:23:21,078 INFO Downloading https://download-0009-clone.copernicus-climate.eu/cache-compute-0009/cache/data2/adaptor.mars.internal-1664443396.5381448-12977-10-de5347f1-10de-4a8b-a098-def8f6334bb8.nc to g:/ERA5_SST/ERA5_SST_200409.nc (59.5M)\n",
      "2022-09-29 17:24:15,188 INFO Download rate 1.1M/s                                                                      \n"
     ]
    },
    {
     "name": "stdout",
     "output_type": "stream",
     "text": [
      "用时69.21009802818298\n"
     ]
    },
    {
     "name": "stderr",
     "output_type": "stream",
     "text": [
      "2022-09-29 17:24:15,650 INFO Welcome to the CDS\n",
      "2022-09-29 17:24:15,652 INFO Sending request to https://cds.climate.copernicus.eu/api/v2/resources/reanalysis-era5-single-levels\n",
      "2022-09-29 17:24:15,911 INFO Request is queued\n",
      "2022-09-29 17:24:17,147 INFO Request is running\n",
      "2022-09-29 17:24:30,290 INFO Request is completed\n",
      "2022-09-29 17:24:30,293 INFO Downloading https://download-0011-clone.copernicus-climate.eu/cache-compute-0011/cache/data7/adaptor.mars.internal-1664443465.2322345-26691-11-8a94bf19-5b9b-496c-aa67-09e156d5fc88.nc to g:/ERA5_SST/ERA5_SST_200410.nc (61.5M)\n",
      "2022-09-29 17:25:16,776 INFO Download rate 1.3M/s                                                                      \n"
     ]
    },
    {
     "name": "stdout",
     "output_type": "stream",
     "text": [
      "用时61.59206700325012\n"
     ]
    },
    {
     "name": "stderr",
     "output_type": "stream",
     "text": [
      "2022-09-29 17:25:17,267 INFO Welcome to the CDS\n",
      "2022-09-29 17:25:17,269 INFO Sending request to https://cds.climate.copernicus.eu/api/v2/resources/reanalysis-era5-single-levels\n",
      "2022-09-29 17:25:17,530 INFO Request is queued\n",
      "2022-09-29 17:25:18,771 INFO Request is running\n",
      "2022-09-29 17:25:31,895 INFO Request is completed\n",
      "2022-09-29 17:25:31,898 INFO Downloading https://download-0000-clone.copernicus-climate.eu/cache-compute-0000/cache/data0/adaptor.mars.internal-1664443527.781249-27959-15-c0539b00-bdfe-434d-b1b9-cc732289e54d.nc to g:/ERA5_SST/ERA5_SST_200411.nc (59.5M)\n",
      "2022-09-29 17:26:07,080 INFO Download rate 1.7M/s                                                                      \n"
     ]
    },
    {
     "name": "stdout",
     "output_type": "stream",
     "text": [
      "用时50.29883813858032\n"
     ]
    },
    {
     "name": "stderr",
     "output_type": "stream",
     "text": [
      "2022-09-29 17:26:07,542 INFO Welcome to the CDS\n",
      "2022-09-29 17:26:07,543 INFO Sending request to https://cds.climate.copernicus.eu/api/v2/resources/reanalysis-era5-single-levels\n",
      "2022-09-29 17:26:07,780 INFO Request is queued\n",
      "2022-09-29 17:26:09,021 INFO Request is running\n",
      "2022-09-29 17:26:22,178 INFO Request is completed\n",
      "2022-09-29 17:26:22,179 INFO Downloading https://download-0003-clone.copernicus-climate.eu/cache-compute-0003/cache/data3/adaptor.mars.internal-1664443577.7723317-3035-17-9bfbe6e0-065b-4727-aec7-78cd74e0698c.nc to g:/ERA5_SST/ERA5_SST_200412.nc (61.5M)\n",
      "2022-09-29 17:27:09,086 INFO Download rate 1.3M/s                                                                      \n"
     ]
    },
    {
     "name": "stdout",
     "output_type": "stream",
     "text": [
      "用时62.00472664833069\n"
     ]
    },
    {
     "name": "stderr",
     "output_type": "stream",
     "text": [
      "2022-09-29 17:27:09,543 INFO Welcome to the CDS\n",
      "2022-09-29 17:27:09,544 INFO Sending request to https://cds.climate.copernicus.eu/api/v2/resources/reanalysis-era5-single-levels\n",
      "2022-09-29 17:27:09,777 INFO Request is queued\n",
      "2022-09-29 17:27:11,023 INFO Request is running\n",
      "2022-09-29 17:27:24,190 INFO Request is completed\n",
      "2022-09-29 17:27:24,192 INFO Downloading https://download-0012-clone.copernicus-climate.eu/cache-compute-0012/cache/data5/adaptor.mars.internal-1664443638.1794934-28728-17-7fcd2874-b145-4352-9793-47529103e0d5.nc to g:/ERA5_SST/ERA5_SST_200501.nc (61.5M)\n",
      "2022-09-29 17:28:11,635 INFO Download rate 1.3M/s                                                                      \n"
     ]
    },
    {
     "name": "stdout",
     "output_type": "stream",
     "text": [
      "用时62.570600509643555\n"
     ]
    },
    {
     "name": "stderr",
     "output_type": "stream",
     "text": [
      "2022-09-29 17:28:12,140 INFO Welcome to the CDS\n",
      "2022-09-29 17:28:12,141 INFO Sending request to https://cds.climate.copernicus.eu/api/v2/resources/reanalysis-era5-single-levels\n",
      "2022-09-29 17:28:12,415 INFO Request is queued\n",
      "2022-09-29 17:28:13,671 INFO Request is running\n",
      "2022-09-29 17:28:26,890 INFO Request is completed\n",
      "2022-09-29 17:28:26,892 INFO Downloading https://download-0017.copernicus-climate.eu/cache-compute-0017/cache/data0/adaptor.mars.internal-1664443702.1188738-31966-2-766444e8-e11b-487c-b285-ddb3aaaf1e1b.nc to g:/ERA5_SST/ERA5_SST_200502.nc (55.5M)\n",
      "2022-09-29 17:29:02,359 INFO Download rate 1.6M/s                                                                      \n"
     ]
    },
    {
     "name": "stdout",
     "output_type": "stream",
     "text": [
      "用时50.72375726699829\n"
     ]
    },
    {
     "name": "stderr",
     "output_type": "stream",
     "text": [
      "2022-09-29 17:29:02,871 INFO Welcome to the CDS\n",
      "2022-09-29 17:29:02,873 INFO Sending request to https://cds.climate.copernicus.eu/api/v2/resources/reanalysis-era5-single-levels\n",
      "2022-09-29 17:29:03,156 INFO Request is queued\n",
      "2022-09-29 17:29:04,421 INFO Request is running\n",
      "2022-09-29 17:29:17,645 INFO Request is completed\n",
      "2022-09-29 17:29:17,648 INFO Downloading https://download-0019.copernicus-climate.eu/cache-compute-0019/cache/data8/adaptor.mars.internal-1664443752.7375581-7434-16-286df773-b90c-47b4-a893-4184f9a8dbb8.nc to g:/ERA5_SST/ERA5_SST_200503.nc (61.5M)\n",
      "2022-09-29 17:30:48,507 INFO Download rate 692.9K/s                                                                    \n"
     ]
    },
    {
     "name": "stdout",
     "output_type": "stream",
     "text": [
      "用时106.7310996055603\n"
     ]
    },
    {
     "name": "stderr",
     "output_type": "stream",
     "text": [
      "2022-09-29 17:30:49,556 INFO Welcome to the CDS\n",
      "2022-09-29 17:30:49,556 INFO Sending request to https://cds.climate.copernicus.eu/api/v2/resources/reanalysis-era5-single-levels\n",
      "2022-09-29 17:30:49,787 INFO Request is queued\n",
      "2022-09-29 17:30:51,003 INFO Request is running\n",
      "2022-09-29 17:31:04,063 INFO Request is completed\n",
      "2022-09-29 17:31:04,065 INFO Downloading https://download-0005-clone.copernicus-climate.eu/cache-compute-0005/cache/data9/adaptor.mars.internal-1664443859.2644932-11121-11-f8cb3379-e747-47d7-b83a-c42cabfb03e6.nc to g:/ERA5_SST/ERA5_SST_200504.nc (59.5M)\n",
      "2022-09-29 17:31:36,945 INFO Download rate 1.8M/s                                                                      \n"
     ]
    },
    {
     "name": "stdout",
     "output_type": "stream",
     "text": [
      "用时47.8124041557312\n"
     ]
    },
    {
     "name": "stderr",
     "output_type": "stream",
     "text": [
      "2022-09-29 17:31:37,364 INFO Welcome to the CDS\n",
      "2022-09-29 17:31:37,365 INFO Sending request to https://cds.climate.copernicus.eu/api/v2/resources/reanalysis-era5-single-levels\n",
      "2022-09-29 17:31:37,580 INFO Request is queued\n",
      "2022-09-29 17:31:38,798 INFO Request is running\n",
      "2022-09-29 17:31:51,860 INFO Request is completed\n",
      "2022-09-29 17:31:51,862 INFO Downloading https://download-0013-clone.copernicus-climate.eu/cache-compute-0013/cache/data8/adaptor.mars.internal-1664443907.1487265-25310-17-0f0e99b7-e8fb-40d9-aeb5-79819bb7572e.nc to g:/ERA5_SST/ERA5_SST_200505.nc (61.5M)\n",
      "2022-09-29 17:32:24,076 INFO Download rate 1.9M/s                                                                      \n",
      "2022-09-29 17:32:24,500 INFO Welcome to the CDS\n"
     ]
    },
    {
     "name": "stdout",
     "output_type": "stream",
     "text": [
      "用时47.13131499290466\n"
     ]
    },
    {
     "name": "stderr",
     "output_type": "stream",
     "text": [
      "2022-09-29 17:32:24,503 INFO Sending request to https://cds.climate.copernicus.eu/api/v2/resources/reanalysis-era5-single-levels\n",
      "2022-09-29 17:32:24,757 INFO Request is queued\n",
      "2022-09-29 17:32:25,980 INFO Request is running\n",
      "2022-09-29 17:32:39,031 INFO Request is completed\n",
      "2022-09-29 17:32:39,034 INFO Downloading https://download-0018.copernicus-climate.eu/cache-compute-0018/cache/data8/adaptor.mars.internal-1664443954.6223214-16302-2-0818b0c3-5894-4983-8524-89eb7ef618ee.nc to g:/ERA5_SST/ERA5_SST_200506.nc (59.5M)\n",
      "2022-09-29 17:33:12,894 INFO Download rate 1.8M/s                                                                      \n"
     ]
    },
    {
     "name": "stdout",
     "output_type": "stream",
     "text": [
      "用时48.81618022918701\n"
     ]
    },
    {
     "name": "stderr",
     "output_type": "stream",
     "text": [
      "2022-09-29 17:33:13,313 INFO Welcome to the CDS\n",
      "2022-09-29 17:33:13,315 INFO Sending request to https://cds.climate.copernicus.eu/api/v2/resources/reanalysis-era5-single-levels\n",
      "2022-09-29 17:33:13,533 INFO Request is queued\n",
      "2022-09-29 17:33:14,757 INFO Request is running\n",
      "2022-09-29 17:33:27,800 INFO Request is completed\n",
      "2022-09-29 17:33:27,803 INFO Downloading https://download-0002-clone.copernicus-climate.eu/cache-compute-0002/cache/data5/adaptor.mars.internal-1664444003.8314238-20459-3-63e92fde-9153-470b-bf9a-3383b2cb1a4d.nc to g:/ERA5_SST/ERA5_SST_200507.nc (61.5M)\n",
      "2022-09-29 17:34:03,847 INFO Download rate 1.7M/s                                                                      \n"
     ]
    },
    {
     "name": "stdout",
     "output_type": "stream",
     "text": [
      "用时50.95181202888489\n"
     ]
    },
    {
     "name": "stderr",
     "output_type": "stream",
     "text": [
      "2022-09-29 17:34:04,271 INFO Welcome to the CDS\n",
      "2022-09-29 17:34:04,273 INFO Sending request to https://cds.climate.copernicus.eu/api/v2/resources/reanalysis-era5-single-levels\n",
      "2022-09-29 17:34:04,493 INFO Request is queued\n",
      "2022-09-29 17:34:05,716 INFO Request is running\n",
      "2022-09-29 17:34:18,778 INFO Request is completed\n",
      "2022-09-29 17:34:18,780 INFO Downloading https://download-0014-clone.copernicus-climate.eu/cache-compute-0014/cache/data5/adaptor.mars.internal-1664444054.4115725-23458-19-5a6ea15a-eae2-4627-b7af-937a4879dffd.nc to g:/ERA5_SST/ERA5_SST_200508.nc (61.5M)\n",
      "2022-09-29 17:35:08,426 INFO Download rate 1.2M/s                                                                      \n",
      "2022-09-29 17:35:08,851 INFO Welcome to the CDS\n"
     ]
    },
    {
     "name": "stdout",
     "output_type": "stream",
     "text": [
      "用时64.5799069404602\n"
     ]
    },
    {
     "name": "stderr",
     "output_type": "stream",
     "text": [
      "2022-09-29 17:35:08,854 INFO Sending request to https://cds.climate.copernicus.eu/api/v2/resources/reanalysis-era5-single-levels\n",
      "2022-09-29 17:35:09,073 INFO Request is queued\n",
      "2022-09-29 17:35:10,294 INFO Request is running\n",
      "2022-09-29 17:35:23,333 INFO Request is completed\n",
      "2022-09-29 17:35:23,335 INFO Downloading https://download-0013-clone.copernicus-climate.eu/cache-compute-0013/cache/data8/adaptor.mars.internal-1664444118.4745946-16718-3-68bf2596-8853-4cc3-82a8-222e5d5fc905.nc to g:/ERA5_SST/ERA5_SST_200509.nc (59.5M)\n",
      "2022-09-29 17:36:09,051 INFO Download rate 1.3M/s                                                                      \n"
     ]
    },
    {
     "name": "stdout",
     "output_type": "stream",
     "text": [
      "用时60.62783598899841\n"
     ]
    },
    {
     "name": "stderr",
     "output_type": "stream",
     "text": [
      "2022-09-29 17:36:09,478 INFO Welcome to the CDS\n",
      "2022-09-29 17:36:09,479 INFO Sending request to https://cds.climate.copernicus.eu/api/v2/resources/reanalysis-era5-single-levels\n",
      "2022-09-29 17:36:09,697 INFO Request is queued\n",
      "2022-09-29 17:36:10,910 INFO Request is running\n",
      "2022-09-29 17:36:24,023 INFO Request is completed\n",
      "2022-09-29 17:36:24,023 INFO Downloading https://download-0012-clone.copernicus-climate.eu/cache-compute-0012/cache/data5/adaptor.mars.internal-1664444179.6622975-27709-17-ddca17d9-70ff-4823-b297-aec72bc21361.nc to g:/ERA5_SST/ERA5_SST_200510.nc (61.5M)\n",
      "2022-09-29 17:37:23,324 INFO Download rate 1M/s                                                                        \n"
     ]
    },
    {
     "name": "stdout",
     "output_type": "stream",
     "text": [
      "用时74.28193092346191\n"
     ]
    },
    {
     "name": "stderr",
     "output_type": "stream",
     "text": [
      "2022-09-29 17:37:23,772 INFO Welcome to the CDS\n",
      "2022-09-29 17:37:23,773 INFO Sending request to https://cds.climate.copernicus.eu/api/v2/resources/reanalysis-era5-single-levels\n",
      "2022-09-29 17:37:24,003 INFO Request is queued\n",
      "2022-09-29 17:37:25,238 INFO Request is running\n",
      "2022-09-29 17:37:38,352 INFO Request is completed\n",
      "2022-09-29 17:37:38,354 INFO Downloading https://download-0008-clone.copernicus-climate.eu/cache-compute-0008/cache/data8/adaptor.mars.internal-1664444253.7686-11726-16-e5c834b0-0b55-4ee7-821a-3d693d9845ea.nc to g:/ERA5_SST/ERA5_SST_200511.nc (59.5M)\n",
      "2022-09-29 17:38:11,814 INFO Download rate 1.8M/s                                                                      \n"
     ]
    },
    {
     "name": "stdout",
     "output_type": "stream",
     "text": [
      "用时48.48986101150513\n"
     ]
    },
    {
     "name": "stderr",
     "output_type": "stream",
     "text": [
      "2022-09-29 17:38:12,267 INFO Welcome to the CDS\n",
      "2022-09-29 17:38:12,269 INFO Sending request to https://cds.climate.copernicus.eu/api/v2/resources/reanalysis-era5-single-levels\n",
      "2022-09-29 17:38:12,504 INFO Request is queued\n",
      "2022-09-29 17:38:13,745 INFO Request is running\n",
      "2022-09-29 17:38:26,864 INFO Request is completed\n",
      "2022-09-29 17:38:26,867 INFO Downloading https://download-0008-clone.copernicus-climate.eu/cache-compute-0008/cache/data0/adaptor.mars.internal-1664444302.4210627-4305-2-3f8b3e7a-77f6-40bd-b4be-16ef8382ce63.nc to g:/ERA5_SST/ERA5_SST_200512.nc (61.5M)\n",
      "2022-09-29 17:39:19,835 INFO Download rate 1.2M/s                                                                      \n"
     ]
    },
    {
     "name": "stdout",
     "output_type": "stream",
     "text": [
      "用时68.0192768573761\n"
     ]
    },
    {
     "name": "stderr",
     "output_type": "stream",
     "text": [
      "2022-09-29 17:39:20,285 INFO Welcome to the CDS\n",
      "2022-09-29 17:39:20,286 INFO Sending request to https://cds.climate.copernicus.eu/api/v2/resources/reanalysis-era5-single-levels\n",
      "2022-09-29 17:39:20,515 INFO Request is queued\n",
      "2022-09-29 17:39:21,744 INFO Request is running\n",
      "2022-09-29 17:39:34,851 INFO Request is completed\n",
      "2022-09-29 17:39:34,854 INFO Downloading https://download-0013-clone.copernicus-climate.eu/cache-compute-0013/cache/data4/adaptor.mars.internal-1664444370.7203727-633-15-bd20492e-294e-4a36-bdd7-a51fbdbb2300.nc to g:/ERA5_SST/ERA5_SST_200601.nc (61.5M)\n",
      "2022-09-29 17:40:09,788 INFO Download rate 1.8M/s                                                                      \n"
     ]
    },
    {
     "name": "stdout",
     "output_type": "stream",
     "text": [
      "用时49.96538949012756\n"
     ]
    },
    {
     "name": "stderr",
     "output_type": "stream",
     "text": [
      "2022-09-29 17:40:10,251 INFO Welcome to the CDS\n",
      "2022-09-29 17:40:10,253 INFO Sending request to https://cds.climate.copernicus.eu/api/v2/resources/reanalysis-era5-single-levels\n",
      "2022-09-29 17:40:10,487 INFO Request is queued\n",
      "2022-09-29 17:40:11,760 INFO Request is running\n",
      "2022-09-29 17:40:24,883 INFO Request is completed\n",
      "2022-09-29 17:40:24,886 INFO Downloading https://download-0021.copernicus-climate.eu/cache-compute-0021/cache/data7/adaptor.mars.internal-1664444420.4950833-17612-4-66d317dc-e656-4ccd-a035-63a79e481376.nc to g:/ERA5_SST/ERA5_SST_200602.nc (55.5M)\n",
      "2022-09-29 17:40:49,108 INFO Download rate 2.3M/s                                                                      \n"
     ]
    },
    {
     "name": "stdout",
     "output_type": "stream",
     "text": [
      "用时39.30505323410034\n"
     ]
    },
    {
     "name": "stderr",
     "output_type": "stream",
     "text": [
      "2022-09-29 17:40:49,561 INFO Welcome to the CDS\n",
      "2022-09-29 17:40:49,563 INFO Sending request to https://cds.climate.copernicus.eu/api/v2/resources/reanalysis-era5-single-levels\n",
      "2022-09-29 17:40:49,817 INFO Request is queued\n",
      "2022-09-29 17:40:51,060 INFO Request is running\n",
      "2022-09-29 17:41:04,173 INFO Request is completed\n",
      "2022-09-29 17:41:04,174 INFO Downloading https://download-0021.copernicus-climate.eu/cache-compute-0021/cache/data6/adaptor.mars.internal-1664444459.964552-24223-9-f32686b4-82dc-4c41-8cf4-afae1b448410.nc to g:/ERA5_SST/ERA5_SST_200603.nc (61.5M)\n",
      "2022-09-29 17:41:44,493 INFO Download rate 1.5M/s                                                                      \n"
     ]
    },
    {
     "name": "stdout",
     "output_type": "stream",
     "text": [
      "用时55.3847713470459\n"
     ]
    },
    {
     "name": "stderr",
     "output_type": "stream",
     "text": [
      "2022-09-29 17:41:44,944 INFO Welcome to the CDS\n",
      "2022-09-29 17:41:44,948 INFO Sending request to https://cds.climate.copernicus.eu/api/v2/resources/reanalysis-era5-single-levels\n",
      "2022-09-29 17:41:45,182 INFO Request is queued\n",
      "2022-09-29 17:41:46,413 INFO Request is running\n",
      "2022-09-29 17:42:00,076 INFO Request is completed\n",
      "2022-09-29 17:42:00,077 INFO Downloading https://download-0006-clone.copernicus-climate.eu/cache-compute-0006/cache/data0/adaptor.mars.internal-1664444515.194082-23385-11-74565860-2ae1-4cb6-8667-c10da4db6df0.nc to g:/ERA5_SST/ERA5_SST_200604.nc (59.5M)\n",
      "2022-09-29 17:42:40,663 INFO Download rate 1.5M/s                                                                      \n",
      "2022-09-29 17:42:41,069 INFO Welcome to the CDS\n"
     ]
    },
    {
     "name": "stdout",
     "output_type": "stream",
     "text": [
      "用时56.14638900756836\n"
     ]
    },
    {
     "name": "stderr",
     "output_type": "stream",
     "text": [
      "2022-09-29 17:42:41,072 INFO Sending request to https://cds.climate.copernicus.eu/api/v2/resources/reanalysis-era5-single-levels\n",
      "2022-09-29 17:42:41,286 INFO Request is queued\n",
      "2022-09-29 17:42:42,496 INFO Request is running\n",
      "2022-09-29 17:42:55,518 INFO Request is completed\n",
      "2022-09-29 17:42:55,521 INFO Downloading https://download-0000-clone.copernicus-climate.eu/cache-compute-0000/cache/data4/adaptor.mars.internal-1664444571.2139034-20699-5-576b12eb-a612-496d-a90f-fb90980c232c.nc to g:/ERA5_SST/ERA5_SST_200605.nc (61.5M)\n",
      "2022-09-29 17:43:25,671 INFO Download rate 2M/s                                                                        \n",
      "2022-09-29 17:43:26,082 INFO Welcome to the CDS\n"
     ]
    },
    {
     "name": "stdout",
     "output_type": "stream",
     "text": [
      "用时45.01038217544556\n"
     ]
    },
    {
     "name": "stderr",
     "output_type": "stream",
     "text": [
      "2022-09-29 17:43:26,083 INFO Sending request to https://cds.climate.copernicus.eu/api/v2/resources/reanalysis-era5-single-levels\n",
      "2022-09-29 17:43:26,293 INFO Request is queued\n",
      "2022-09-29 17:43:27,514 INFO Request is running\n",
      "2022-09-29 17:43:40,541 INFO Request is completed\n",
      "2022-09-29 17:43:40,543 INFO Downloading https://download-0004-clone.copernicus-climate.eu/cache-compute-0004/cache/data5/adaptor.mars.internal-1664444615.832327-947-2-14361126-a498-4a26-9e3f-f20fa05fb55f.nc to g:/ERA5_SST/ERA5_SST_200606.nc (59.5M)\n",
      "2022-09-29 17:44:16,685 INFO Download rate 1.6M/s                                                                      \n",
      "2022-09-29 17:44:17,094 INFO Welcome to the CDS\n"
     ]
    },
    {
     "name": "stdout",
     "output_type": "stream",
     "text": [
      "用时51.013532638549805\n"
     ]
    },
    {
     "name": "stderr",
     "output_type": "stream",
     "text": [
      "2022-09-29 17:44:17,095 INFO Sending request to https://cds.climate.copernicus.eu/api/v2/resources/reanalysis-era5-single-levels\n",
      "2022-09-29 17:44:17,303 INFO Request is queued\n",
      "2022-09-29 17:44:18,519 INFO Request is running\n",
      "2022-09-29 17:44:31,542 INFO Request is completed\n",
      "2022-09-29 17:44:31,544 INFO Downloading https://download-0009-clone.copernicus-climate.eu/cache-compute-0009/cache/data3/adaptor.mars.internal-1664444666.8849475-27690-5-6cdc46f1-3661-4b0e-a7fb-3e4acd147558.nc to g:/ERA5_SST/ERA5_SST_200607.nc (61.5M)\n",
      "2022-09-29 17:45:11,484 INFO Download rate 1.5M/s                                                                      \n",
      "2022-09-29 17:45:11,897 INFO Welcome to the CDS\n"
     ]
    },
    {
     "name": "stdout",
     "output_type": "stream",
     "text": [
      "用时54.799156188964844\n"
     ]
    },
    {
     "name": "stderr",
     "output_type": "stream",
     "text": [
      "2022-09-29 17:45:11,899 INFO Sending request to https://cds.climate.copernicus.eu/api/v2/resources/reanalysis-era5-single-levels\n",
      "2022-09-29 17:45:12,117 INFO Request is queued\n",
      "2022-09-29 17:45:13,337 INFO Request is running\n",
      "2022-09-29 17:45:26,382 INFO Request is completed\n",
      "2022-09-29 17:45:26,382 INFO Downloading https://download-0001-clone.copernicus-climate.eu/cache-compute-0001/cache/data1/adaptor.mars.internal-1664444722.040797-31050-9-624190ad-798d-4269-b4f9-c7e1ee1e0fab.nc to g:/ERA5_SST/ERA5_SST_200608.nc (61.5M)\n",
      "2022-09-29 17:45:56,075 INFO Download rate 2.1M/s                                                                      \n",
      "2022-09-29 17:45:56,488 INFO Welcome to the CDS\n"
     ]
    },
    {
     "name": "stdout",
     "output_type": "stream",
     "text": [
      "用时44.588550090789795\n"
     ]
    },
    {
     "name": "stderr",
     "output_type": "stream",
     "text": [
      "2022-09-29 17:45:56,490 INFO Sending request to https://cds.climate.copernicus.eu/api/v2/resources/reanalysis-era5-single-levels\n",
      "2022-09-29 17:45:56,706 INFO Request is queued\n",
      "2022-09-29 17:45:57,925 INFO Request is running\n",
      "2022-09-29 17:46:10,957 INFO Request is completed\n",
      "2022-09-29 17:46:10,958 INFO Downloading https://download-0010-clone.copernicus-climate.eu/cache-compute-0010/cache/data6/adaptor.mars.internal-1664444765.607944-17267-8-b8c7d544-0de4-4d8b-8cf8-645d4a2d0e69.nc to g:/ERA5_SST/ERA5_SST_200609.nc (59.5M)\n",
      "2022-09-29 17:46:57,170 INFO Download rate 1.3M/s                                                                      \n",
      "2022-09-29 17:46:57,577 INFO Welcome to the CDS\n"
     ]
    },
    {
     "name": "stdout",
     "output_type": "stream",
     "text": [
      "用时61.0936324596405\n"
     ]
    },
    {
     "name": "stderr",
     "output_type": "stream",
     "text": [
      "2022-09-29 17:46:57,579 INFO Sending request to https://cds.climate.copernicus.eu/api/v2/resources/reanalysis-era5-single-levels\n",
      "2022-09-29 17:46:57,809 INFO Request is queued\n",
      "2022-09-29 17:46:59,025 INFO Request is running\n",
      "2022-09-29 17:47:12,055 INFO Request is completed\n",
      "2022-09-29 17:47:12,058 INFO Downloading https://download-0009-clone.copernicus-climate.eu/cache-compute-0009/cache/data6/adaptor.mars.internal-1664444827.756082-5226-6-570fe933-aedc-4fdd-a204-452195cde7b1.nc to g:/ERA5_SST/ERA5_SST_200610.nc (61.5M)\n",
      "2022-09-29 17:47:53,363 INFO Download rate 1.5M/s                                                                      \n"
     ]
    },
    {
     "name": "stdout",
     "output_type": "stream",
     "text": [
      "用时56.193984270095825\n"
     ]
    },
    {
     "name": "stderr",
     "output_type": "stream",
     "text": [
      "2022-09-29 17:47:53,777 INFO Welcome to the CDS\n",
      "2022-09-29 17:47:53,778 INFO Sending request to https://cds.climate.copernicus.eu/api/v2/resources/reanalysis-era5-single-levels\n",
      "2022-09-29 17:47:54,008 INFO Request is queued\n",
      "2022-09-29 17:47:55,226 INFO Request is running\n",
      "2022-09-29 17:48:08,266 INFO Request is completed\n",
      "2022-09-29 17:48:08,268 INFO Downloading https://download-0019.copernicus-climate.eu/cache-compute-0019/cache/data9/adaptor.mars.internal-1664444883.9193072-644-7-2a57d042-6832-447a-a001-6012ecc73eeb.nc to g:/ERA5_SST/ERA5_SST_200611.nc (59.5M)\n",
      "2022-09-29 17:48:39,700 INFO Download rate 1.9M/s                                                                      \n",
      "2022-09-29 17:48:40,107 INFO Welcome to the CDS\n"
     ]
    },
    {
     "name": "stdout",
     "output_type": "stream",
     "text": [
      "用时46.33234214782715\n"
     ]
    },
    {
     "name": "stderr",
     "output_type": "stream",
     "text": [
      "2022-09-29 17:48:40,110 INFO Sending request to https://cds.climate.copernicus.eu/api/v2/resources/reanalysis-era5-single-levels\n",
      "2022-09-29 17:48:40,323 INFO Request is queued\n",
      "2022-09-29 17:48:41,543 INFO Request is running\n",
      "2022-09-29 17:48:54,584 INFO Request is completed\n",
      "2022-09-29 17:48:54,587 INFO Downloading https://download-0000-clone.copernicus-climate.eu/cache-compute-0000/cache/data0/adaptor.mars.internal-1664444930.3435621-14746-9-01b56398-2a5a-41e9-8b68-22487189eb10.nc to g:/ERA5_SST/ERA5_SST_200612.nc (61.5M)\n",
      "2022-09-29 17:49:22,487 INFO Download rate 2.2M/s                                                                      \n"
     ]
    },
    {
     "name": "stdout",
     "output_type": "stream",
     "text": [
      "用时42.789695262908936\n"
     ]
    },
    {
     "name": "stderr",
     "output_type": "stream",
     "text": [
      "2022-09-29 17:49:22,902 INFO Welcome to the CDS\n",
      "2022-09-29 17:49:22,904 INFO Sending request to https://cds.climate.copernicus.eu/api/v2/resources/reanalysis-era5-single-levels\n",
      "2022-09-29 17:49:23,115 INFO Request is queued\n",
      "2022-09-29 17:49:24,338 INFO Request is running\n",
      "2022-09-29 17:49:37,374 INFO Request is completed\n",
      "2022-09-29 17:49:37,376 INFO Downloading https://download-0008-clone.copernicus-climate.eu/cache-compute-0008/cache/data0/adaptor.mars.internal-1664444973.5356703-6822-2-9d5b53dc-f43d-45ef-b682-6bba00eaf80e.nc to g:/ERA5_SST/ERA5_SST_200701.nc (61.5M)\n",
      "2022-09-29 17:50:06,568 INFO Download rate 2.1M/s                                                                      \n",
      "2022-09-29 17:50:06,979 INFO Welcome to the CDS\n"
     ]
    },
    {
     "name": "stdout",
     "output_type": "stream",
     "text": [
      "用时44.07724952697754\n"
     ]
    },
    {
     "name": "stderr",
     "output_type": "stream",
     "text": [
      "2022-09-29 17:50:06,980 INFO Sending request to https://cds.climate.copernicus.eu/api/v2/resources/reanalysis-era5-single-levels\n",
      "2022-09-29 17:50:07,190 INFO Request is queued\n",
      "2022-09-29 17:50:08,401 INFO Request is running\n",
      "2022-09-29 17:50:21,442 INFO Request is completed\n",
      "2022-09-29 17:50:21,443 INFO Downloading https://download-0008-clone.copernicus-climate.eu/cache-compute-0008/cache/data8/adaptor.mars.internal-1664445016.7346454-26884-14-ca5936e7-db9c-486a-b546-ef14583c0190.nc to g:/ERA5_SST/ERA5_SST_200702.nc (55.5M)\n",
      "2022-09-29 17:50:48,501 INFO Download rate 2.1M/s                                                                      \n",
      "2022-09-29 17:50:48,913 INFO Welcome to the CDS\n"
     ]
    },
    {
     "name": "stdout",
     "output_type": "stream",
     "text": [
      "用时41.93176889419556\n"
     ]
    },
    {
     "name": "stderr",
     "output_type": "stream",
     "text": [
      "2022-09-29 17:50:48,915 INFO Sending request to https://cds.climate.copernicus.eu/api/v2/resources/reanalysis-era5-single-levels\n",
      "2022-09-29 17:50:49,129 INFO Request is queued\n",
      "2022-09-29 17:50:50,340 INFO Request is running\n",
      "2022-09-29 17:51:03,387 INFO Request is completed\n",
      "2022-09-29 17:51:03,389 INFO Downloading https://download-0009-clone.copernicus-climate.eu/cache-compute-0009/cache/data1/adaptor.mars.internal-1664445059.1519127-7511-3-926f4112-c499-40b9-a92f-a718e459085b.nc to g:/ERA5_SST/ERA5_SST_200703.nc (61.5M)\n",
      "2022-09-29 17:51:30,440 INFO Download rate 2.3M/s                                                                      \n"
     ]
    },
    {
     "name": "stdout",
     "output_type": "stream",
     "text": [
      "用时41.937193155288696\n"
     ]
    },
    {
     "name": "stderr",
     "output_type": "stream",
     "text": [
      "2022-09-29 17:51:30,850 INFO Welcome to the CDS\n",
      "2022-09-29 17:51:30,850 INFO Sending request to https://cds.climate.copernicus.eu/api/v2/resources/reanalysis-era5-single-levels\n",
      "2022-09-29 17:51:31,136 INFO Request is queued\n",
      "2022-09-29 17:51:32,343 INFO Request is running\n",
      "2022-09-29 17:51:45,376 INFO Request is completed\n",
      "2022-09-29 17:51:45,378 INFO Downloading https://download-0013-clone.copernicus-climate.eu/cache-compute-0013/cache/data3/adaptor.mars.internal-1664445100.6654932-8630-18-abd3d06a-a704-4397-824a-32609021b9b2.nc to g:/ERA5_SST/ERA5_SST_200704.nc (59.5M)\n",
      "2022-09-29 17:52:20,760 INFO Download rate 1.7M/s                                                                      \n"
     ]
    },
    {
     "name": "stdout",
     "output_type": "stream",
     "text": [
      "用时51.08075666427612\n"
     ]
    },
    {
     "name": "stderr",
     "output_type": "stream",
     "text": [
      "2022-09-29 17:52:21,969 INFO Welcome to the CDS\n",
      "2022-09-29 17:52:21,969 INFO Sending request to https://cds.climate.copernicus.eu/api/v2/resources/reanalysis-era5-single-levels\n",
      "2022-09-29 17:52:22,215 INFO Request is queued\n",
      "2022-09-29 17:52:23,472 INFO Request is running\n",
      "2022-09-29 17:52:36,674 INFO Request is completed\n",
      "2022-09-29 17:52:36,676 INFO Downloading https://download-0020.copernicus-climate.eu/cache-compute-0020/cache/data7/adaptor.mars.internal-1664445151.4918706-26549-9-8716ab36-ef3f-4c7c-828b-0fdf3c602b95.nc to g:/ERA5_SST/ERA5_SST_200705.nc (61.5M)\n",
      "2022-09-29 17:53:01,272 INFO Download rate 2.5M/s                                                                      \n"
     ]
    },
    {
     "name": "stdout",
     "output_type": "stream",
     "text": [
      "用时39.78602457046509\n"
     ]
    },
    {
     "name": "stderr",
     "output_type": "stream",
     "text": [
      "2022-09-29 17:53:01,756 INFO Welcome to the CDS\n",
      "2022-09-29 17:53:01,758 INFO Sending request to https://cds.climate.copernicus.eu/api/v2/resources/reanalysis-era5-single-levels\n",
      "2022-09-29 17:53:02,014 INFO Request is queued\n",
      "2022-09-29 17:53:03,262 INFO Request is running\n",
      "2022-09-29 17:53:16,452 INFO Request is completed\n",
      "2022-09-29 17:53:16,453 INFO Downloading https://download-0019.copernicus-climate.eu/cache-compute-0019/cache/data9/adaptor.mars.internal-1664445191.78817-1662-7-854a064a-e4e2-40dd-b6df-f25c6261ee49.nc to g:/ERA5_SST/ERA5_SST_200706.nc (59.5M)\n",
      "2022-09-29 17:53:54,810 INFO Download rate 1.6M/s                                                                      \n"
     ]
    },
    {
     "name": "stdout",
     "output_type": "stream",
     "text": [
      "用时53.540985107421875\n"
     ]
    },
    {
     "name": "stderr",
     "output_type": "stream",
     "text": [
      "2022-09-29 17:53:55,295 INFO Welcome to the CDS\n",
      "2022-09-29 17:53:55,297 INFO Sending request to https://cds.climate.copernicus.eu/api/v2/resources/reanalysis-era5-single-levels\n",
      "2022-09-29 17:53:55,577 INFO Request is queued\n",
      "2022-09-29 17:53:56,839 INFO Request is running\n",
      "2022-09-29 17:54:04,715 INFO Request is completed\n",
      "2022-09-29 17:54:04,718 INFO Downloading https://download-0011-clone.copernicus-climate.eu/cache-compute-0011/cache/data7/adaptor.mars.internal-1664445243.3938947-20202-11-de640f7e-e1ed-46ce-a843-2701d192a98d.nc to g:/ERA5_SST/ERA5_SST_200707.nc (61.5M)\n",
      "2022-09-29 17:54:38,724 INFO Download rate 1.8M/s                                                                      \n"
     ]
    },
    {
     "name": "stdout",
     "output_type": "stream",
     "text": [
      "用时43.90974283218384\n"
     ]
    },
    {
     "name": "stderr",
     "output_type": "stream",
     "text": [
      "2022-09-29 17:54:39,204 INFO Welcome to the CDS\n",
      "2022-09-29 17:54:39,205 INFO Sending request to https://cds.climate.copernicus.eu/api/v2/resources/reanalysis-era5-single-levels\n",
      "2022-09-29 17:54:39,454 INFO Request is queued\n",
      "2022-09-29 17:54:40,705 INFO Request is running\n",
      "2022-09-29 17:54:53,908 INFO Request is completed\n",
      "2022-09-29 17:54:53,911 INFO Downloading https://download-0011-clone.copernicus-climate.eu/cache-compute-0011/cache/data9/adaptor.mars.internal-1664445288.3147333-26234-16-df19b841-526f-47ad-8e88-064c65c9c06e.nc to g:/ERA5_SST/ERA5_SST_200708.nc (61.5M)\n",
      "2022-09-29 17:55:47,017 INFO Download rate 1.2M/s                                                                      \n"
     ]
    },
    {
     "name": "stdout",
     "output_type": "stream",
     "text": [
      "用时68.30324363708496\n"
     ]
    },
    {
     "name": "stderr",
     "output_type": "stream",
     "text": [
      "2022-09-29 17:55:47,518 INFO Welcome to the CDS\n",
      "2022-09-29 17:55:47,519 INFO Sending request to https://cds.climate.copernicus.eu/api/v2/resources/reanalysis-era5-single-levels\n",
      "2022-09-29 17:55:47,777 INFO Request is queued\n",
      "2022-09-29 17:55:49,038 INFO Request is running\n",
      "2022-09-29 17:56:02,255 INFO Request is completed\n",
      "2022-09-29 17:56:02,258 INFO Downloading https://download-0013-clone.copernicus-climate.eu/cache-compute-0013/cache/data7/adaptor.mars.internal-1664445357.7007303-18097-10-c18563bf-1e4b-43a8-b7da-2702bfdbed36.nc to g:/ERA5_SST/ERA5_SST_200709.nc (59.5M)\n",
      "2022-09-29 17:56:32,856 INFO Download rate 1.9M/s                                                                      \n"
     ]
    },
    {
     "name": "stdout",
     "output_type": "stream",
     "text": [
      "用时45.83445453643799\n"
     ]
    },
    {
     "name": "stderr",
     "output_type": "stream",
     "text": [
      "2022-09-29 17:56:33,352 INFO Welcome to the CDS\n",
      "2022-09-29 17:56:33,353 INFO Sending request to https://cds.climate.copernicus.eu/api/v2/resources/reanalysis-era5-single-levels\n",
      "2022-09-29 17:56:33,612 INFO Request is queued\n",
      "2022-09-29 17:56:34,874 INFO Request is running\n",
      "2022-09-29 17:56:48,071 INFO Request is completed\n",
      "2022-09-29 17:56:48,074 INFO Downloading https://download-0014-clone.copernicus-climate.eu/cache-compute-0014/cache/data6/adaptor.mars.internal-1664445403.664254-19847-7-ab92537f-4f2e-4956-aa29-8622d205e556.nc to g:/ERA5_SST/ERA5_SST_200710.nc (61.5M)\n",
      "2022-09-29 17:57:12,178 INFO Download rate 2.6M/s                                                                      \n"
     ]
    },
    {
     "name": "stdout",
     "output_type": "stream",
     "text": [
      "用时39.32063055038452\n"
     ]
    },
    {
     "name": "stderr",
     "output_type": "stream",
     "text": [
      "2022-09-29 17:57:12,673 INFO Welcome to the CDS\n",
      "2022-09-29 17:57:12,674 INFO Sending request to https://cds.climate.copernicus.eu/api/v2/resources/reanalysis-era5-single-levels\n",
      "2022-09-29 17:57:12,927 INFO Request is queued\n",
      "2022-09-29 17:57:14,186 INFO Request is running\n",
      "2022-09-29 17:57:27,410 INFO Request is completed\n",
      "2022-09-29 17:57:27,411 INFO Downloading https://download-0006-clone.copernicus-climate.eu/cache-compute-0006/cache/data8/adaptor.mars.internal-1664445442.9950447-1120-7-aec6de2c-48da-462e-89f2-498583929fda.nc to g:/ERA5_SST/ERA5_SST_200711.nc (59.5M)\n",
      "2022-09-29 17:57:52,507 INFO Download rate 2.4M/s                                                                      \n"
     ]
    },
    {
     "name": "stdout",
     "output_type": "stream",
     "text": [
      "用时40.329033851623535\n"
     ]
    },
    {
     "name": "stderr",
     "output_type": "stream",
     "text": [
      "2022-09-29 17:57:53,003 INFO Welcome to the CDS\n",
      "2022-09-29 17:57:53,005 INFO Sending request to https://cds.climate.copernicus.eu/api/v2/resources/reanalysis-era5-single-levels\n",
      "2022-09-29 17:57:53,278 INFO Request is queued\n",
      "2022-09-29 17:57:54,534 INFO Request is running\n",
      "2022-09-29 17:58:07,754 INFO Request is completed\n",
      "2022-09-29 17:58:07,755 INFO Downloading https://download-0015-clone.copernicus-climate.eu/cache-compute-0015/cache/data0/adaptor.mars.internal-1664445484.011891-30385-9-d048937e-7771-49e0-8691-29eaee562f83.nc to g:/ERA5_SST/ERA5_SST_200712.nc (61.5M)\n",
      "2022-09-29 17:58:36,754 INFO Download rate 2.1M/s                                                                      \n"
     ]
    },
    {
     "name": "stdout",
     "output_type": "stream",
     "text": [
      "用时44.25657653808594\n"
     ]
    },
    {
     "name": "stderr",
     "output_type": "stream",
     "text": [
      "2022-09-29 17:58:37,261 INFO Welcome to the CDS\n",
      "2022-09-29 17:58:37,262 INFO Sending request to https://cds.climate.copernicus.eu/api/v2/resources/reanalysis-era5-single-levels\n",
      "2022-09-29 17:58:37,516 INFO Request is queued\n",
      "2022-09-29 17:58:38,762 INFO Request is running\n",
      "2022-09-29 17:58:51,958 INFO Request is completed\n",
      "2022-09-29 17:58:51,959 INFO Downloading https://download-0007-clone.copernicus-climate.eu/cache-compute-0007/cache/data0/adaptor.mars.internal-1664445527.036697-13998-8-651b0fd6-1a0d-4fc4-ad12-9ba0d53a7dd9.nc to g:/ERA5_SST/ERA5_SST_200801.nc (61.5M)\n",
      "2022-09-29 17:59:16,653 INFO Download rate 2.5M/s                                                                      \n"
     ]
    },
    {
     "name": "stdout",
     "output_type": "stream",
     "text": [
      "用时39.88444256782532\n"
     ]
    },
    {
     "name": "stderr",
     "output_type": "stream",
     "text": [
      "2022-09-29 17:59:17,142 INFO Welcome to the CDS\n",
      "2022-09-29 17:59:17,143 INFO Sending request to https://cds.climate.copernicus.eu/api/v2/resources/reanalysis-era5-single-levels\n",
      "2022-09-29 17:59:17,406 INFO Request is queued\n",
      "2022-09-29 17:59:18,657 INFO Request is running\n",
      "2022-09-29 17:59:31,828 INFO Request is completed\n",
      "2022-09-29 17:59:31,829 INFO Downloading https://download-0012-clone.copernicus-climate.eu/cache-compute-0012/cache/data6/adaptor.mars.internal-1664445568.0072174-17342-14-fb81674e-6f7b-437a-8074-1ccf7a586a2b.nc to g:/ERA5_SST/ERA5_SST_200802.nc (57.5M)\n",
      "2022-09-29 18:00:00,345 INFO Download rate 2M/s                                                                        \n"
     ]
    },
    {
     "name": "stdout",
     "output_type": "stream",
     "text": [
      "用时43.689483642578125\n"
     ]
    },
    {
     "name": "stderr",
     "output_type": "stream",
     "text": [
      "2022-09-29 18:00:00,832 INFO Welcome to the CDS\n",
      "2022-09-29 18:00:00,832 INFO Sending request to https://cds.climate.copernicus.eu/api/v2/resources/reanalysis-era5-single-levels\n",
      "2022-09-29 18:00:01,077 INFO Request is queued\n",
      "2022-09-29 18:00:02,329 INFO Request is running\n",
      "2022-09-29 18:00:15,521 INFO Request is completed\n",
      "2022-09-29 18:00:15,522 INFO Downloading https://download-0021.copernicus-climate.eu/cache-compute-0021/cache/data6/adaptor.mars.internal-1664445611.6006832-18079-8-4625d666-91a0-4894-b9c7-9e447609b5b5.nc to g:/ERA5_SST/ERA5_SST_200803.nc (61.5M)\n",
      "2022-09-29 18:00:50,685 INFO Download rate 1.7M/s                                                                      \n"
     ]
    },
    {
     "name": "stdout",
     "output_type": "stream",
     "text": [
      "用时50.35134482383728\n"
     ]
    },
    {
     "name": "stderr",
     "output_type": "stream",
     "text": [
      "2022-09-29 18:00:51,185 INFO Welcome to the CDS\n",
      "2022-09-29 18:00:51,187 INFO Sending request to https://cds.climate.copernicus.eu/api/v2/resources/reanalysis-era5-single-levels\n",
      "2022-09-29 18:00:51,435 INFO Request is queued\n",
      "2022-09-29 18:00:52,683 INFO Request is running\n",
      "2022-09-29 18:01:05,905 INFO Request is completed\n",
      "2022-09-29 18:01:05,907 INFO Downloading https://download-0005-clone.copernicus-climate.eu/cache-compute-0005/cache/data5/adaptor.mars.internal-1664445662.1177633-3028-13-fb3fcb1c-413a-448e-ac4a-7e580df756ed.nc to g:/ERA5_SST/ERA5_SST_200804.nc (59.5M)\n",
      "2022-09-29 18:01:37,625 INFO Download rate 1.9M/s                                                                      \n"
     ]
    },
    {
     "name": "stdout",
     "output_type": "stream",
     "text": [
      "用时46.932257890701294\n"
     ]
    },
    {
     "name": "stderr",
     "output_type": "stream",
     "text": [
      "2022-09-29 18:01:38,124 INFO Welcome to the CDS\n",
      "2022-09-29 18:01:38,125 INFO Sending request to https://cds.climate.copernicus.eu/api/v2/resources/reanalysis-era5-single-levels\n",
      "2022-09-29 18:01:39,172 INFO Request is queued\n",
      "2022-09-29 18:01:40,429 INFO Request is running\n",
      "2022-09-29 18:01:54,397 INFO Request is completed\n",
      "2022-09-29 18:01:54,400 INFO Downloading https://download-0014-clone.copernicus-climate.eu/cache-compute-0014/cache/data8/adaptor.mars.internal-1664445709.7496464-18011-13-1be53f34-7511-4c23-ba0c-9fe478cddc48.nc to g:/ERA5_SST/ERA5_SST_200805.nc (61.5M)\n",
      "2022-09-29 18:02:27,951 INFO Download rate 1.8M/s                                                                      \n"
     ]
    },
    {
     "name": "stdout",
     "output_type": "stream",
     "text": [
      "用时50.32300686836243\n"
     ]
    },
    {
     "name": "stderr",
     "output_type": "stream",
     "text": [
      "2022-09-29 18:02:28,447 INFO Welcome to the CDS\n",
      "2022-09-29 18:02:28,449 INFO Sending request to https://cds.climate.copernicus.eu/api/v2/resources/reanalysis-era5-single-levels\n",
      "2022-09-29 18:02:28,704 INFO Request is queued\n",
      "2022-09-29 18:02:29,964 INFO Request is running\n",
      "2022-09-29 18:02:51,008 INFO Request is completed\n",
      "2022-09-29 18:02:51,011 INFO Downloading https://download-0010-clone.copernicus-climate.eu/cache-compute-0010/cache/data4/adaptor.mars.internal-1664445760.9409707-25212-12-6846a125-e5ea-4a25-aba8-c198ae450f77.nc to g:/ERA5_SST/ERA5_SST_200806.nc (59.5M)\n",
      "2022-09-29 18:03:30,475 INFO Download rate 1.5M/s                                                                      \n"
     ]
    },
    {
     "name": "stdout",
     "output_type": "stream",
     "text": [
      "用时62.521981716156006\n"
     ]
    },
    {
     "name": "stderr",
     "output_type": "stream",
     "text": [
      "2022-09-29 18:03:30,968 INFO Welcome to the CDS\n",
      "2022-09-29 18:03:30,970 INFO Sending request to https://cds.climate.copernicus.eu/api/v2/resources/reanalysis-era5-single-levels\n",
      "2022-09-29 18:03:31,316 INFO Request is queued\n",
      "2022-09-29 18:03:32,572 INFO Request is running\n",
      "2022-09-29 18:03:45,778 INFO Request is completed\n",
      "2022-09-29 18:03:45,780 INFO Downloading https://download-0019.copernicus-climate.eu/cache-compute-0019/cache/data4/adaptor.mars.internal-1664445821.5749815-7687-14-10eb2788-58d0-4cd0-85af-eec98b681e00.nc to g:/ERA5_SST/ERA5_SST_200807.nc (61.5M)\n",
      "2022-09-29 18:04:19,490 INFO Download rate 1.8M/s                                                                      \n"
     ]
    },
    {
     "name": "stdout",
     "output_type": "stream",
     "text": [
      "用时49.01532793045044\n"
     ]
    },
    {
     "name": "stderr",
     "output_type": "stream",
     "text": [
      "2022-09-29 18:04:19,985 INFO Welcome to the CDS\n",
      "2022-09-29 18:04:19,986 INFO Sending request to https://cds.climate.copernicus.eu/api/v2/resources/reanalysis-era5-single-levels\n",
      "2022-09-29 18:04:20,238 INFO Request is queued\n",
      "2022-09-29 18:04:21,488 INFO Request is running\n",
      "2022-09-29 18:04:42,531 INFO Request is completed\n",
      "2022-09-29 18:04:42,532 INFO Downloading https://download-0001-clone.copernicus-climate.eu/cache-compute-0001/cache/data2/adaptor.mars.internal-1664445873.2801216-32339-19-46781725-32fd-44bc-981b-199981a095d6.nc to g:/ERA5_SST/ERA5_SST_200808.nc (61.5M)\n",
      "2022-09-29 18:05:32,246 INFO Download rate 1.2M/s                                                                      \n"
     ]
    },
    {
     "name": "stdout",
     "output_type": "stream",
     "text": [
      "用时72.75411009788513\n"
     ]
    },
    {
     "name": "stderr",
     "output_type": "stream",
     "text": [
      "2022-09-29 18:05:32,735 INFO Welcome to the CDS\n",
      "2022-09-29 18:05:32,736 INFO Sending request to https://cds.climate.copernicus.eu/api/v2/resources/reanalysis-era5-single-levels\n",
      "2022-09-29 18:05:32,987 INFO Request is queued\n",
      "2022-09-29 18:05:34,240 INFO Request is running\n",
      "2022-09-29 18:05:47,443 INFO Request is completed\n",
      "2022-09-29 18:05:47,445 INFO Downloading https://download-0002-clone.copernicus-climate.eu/cache-compute-0002/cache/data4/adaptor.mars.internal-1664445943.6962142-3772-4-18f704cc-1ae9-4bbb-95c5-b2a264c16481.nc to g:/ERA5_SST/ERA5_SST_200809.nc (59.5M)\n",
      "2022-09-29 18:06:12,043 INFO Download rate 2.4M/s                                                                      \n"
     ]
    },
    {
     "name": "stdout",
     "output_type": "stream",
     "text": [
      "用时39.79643154144287\n"
     ]
    },
    {
     "name": "stderr",
     "output_type": "stream",
     "text": [
      "2022-09-29 18:06:12,535 INFO Welcome to the CDS\n",
      "2022-09-29 18:06:12,537 INFO Sending request to https://cds.climate.copernicus.eu/api/v2/resources/reanalysis-era5-single-levels\n",
      "2022-09-29 18:06:12,788 INFO Request is queued\n",
      "2022-09-29 18:06:14,052 INFO Request is running\n",
      "2022-09-29 18:06:27,252 INFO Request is completed\n",
      "2022-09-29 18:06:27,253 INFO Downloading https://download-0006-clone.copernicus-climate.eu/cache-compute-0006/cache/data2/adaptor.mars.internal-1664445982.7394054-7441-14-f40cda77-7031-4429-83ea-374bea023020.nc to g:/ERA5_SST/ERA5_SST_200810.nc (61.5M)\n",
      "2022-09-29 18:06:53,641 INFO Download rate 2.3M/s                                                                      \n"
     ]
    },
    {
     "name": "stdout",
     "output_type": "stream",
     "text": [
      "用时41.60037565231323\n"
     ]
    },
    {
     "name": "stderr",
     "output_type": "stream",
     "text": [
      "2022-09-29 18:06:54,137 INFO Welcome to the CDS\n",
      "2022-09-29 18:06:54,138 INFO Sending request to https://cds.climate.copernicus.eu/api/v2/resources/reanalysis-era5-single-levels\n",
      "2022-09-29 18:06:54,396 INFO Request is queued\n",
      "2022-09-29 18:06:55,655 INFO Request is running\n",
      "2022-09-29 18:07:08,878 INFO Request is completed\n",
      "2022-09-29 18:07:08,880 INFO Downloading https://download-0004-clone.copernicus-climate.eu/cache-compute-0004/cache/data0/adaptor.mars.internal-1664446025.6537428-4096-10-dadba611-4707-4944-8f79-d72b60eabf7c.nc to g:/ERA5_SST/ERA5_SST_200811.nc (59.5M)\n",
      "2022-09-29 18:07:33,952 INFO Download rate 2.4M/s                                                                      \n"
     ]
    },
    {
     "name": "stdout",
     "output_type": "stream",
     "text": [
      "用时40.30687642097473\n"
     ]
    },
    {
     "name": "stderr",
     "output_type": "stream",
     "text": [
      "2022-09-29 18:07:34,443 INFO Welcome to the CDS\n",
      "2022-09-29 18:07:34,444 INFO Sending request to https://cds.climate.copernicus.eu/api/v2/resources/reanalysis-era5-single-levels\n",
      "2022-09-29 18:07:34,730 INFO Request is queued\n",
      "2022-09-29 18:07:35,978 INFO Request is running\n",
      "2022-09-29 18:07:49,192 INFO Request is completed\n",
      "2022-09-29 18:07:49,195 INFO Downloading https://download-0019.copernicus-climate.eu/cache-compute-0019/cache/data4/adaptor.mars.internal-1664446064.455925-10441-10-16b1af0f-e5c6-4a0c-810f-f7b46bcc4903.nc to g:/ERA5_SST/ERA5_SST_200812.nc (61.5M)\n",
      "2022-09-29 18:08:45,764 INFO Download rate 1.1M/s                                                                      \n"
     ]
    },
    {
     "name": "stdout",
     "output_type": "stream",
     "text": [
      "用时71.84134650230408\n"
     ]
    },
    {
     "name": "stderr",
     "output_type": "stream",
     "text": [
      "2022-09-29 18:08:46,311 INFO Welcome to the CDS\n",
      "2022-09-29 18:08:46,312 INFO Sending request to https://cds.climate.copernicus.eu/api/v2/resources/reanalysis-era5-single-levels\n",
      "2022-09-29 18:08:46,626 INFO Request is queued\n",
      "2022-09-29 18:08:47,905 INFO Request is running\n",
      "2022-09-29 18:09:01,224 INFO Request is completed\n",
      "2022-09-29 18:09:01,226 INFO Downloading https://download-0003-clone.copernicus-climate.eu/cache-compute-0003/cache/data1/adaptor.mars.internal-1664446137.002664-29711-12-50ff5957-f7fc-4904-95f1-f40c6dce1b1c.nc to g:/ERA5_SST/ERA5_SST_200901.nc (61.5M)\n",
      "2022-09-29 18:09:30,325 INFO Download rate 2.1M/s                                                                      \n"
     ]
    },
    {
     "name": "stdout",
     "output_type": "stream",
     "text": [
      "用时44.55819773674011\n"
     ]
    },
    {
     "name": "stderr",
     "output_type": "stream",
     "text": [
      "2022-09-29 18:09:30,871 INFO Welcome to the CDS\n",
      "2022-09-29 18:09:30,873 INFO Sending request to https://cds.climate.copernicus.eu/api/v2/resources/reanalysis-era5-single-levels\n",
      "2022-09-29 18:09:31,163 INFO Request is queued\n",
      "2022-09-29 18:09:32,446 INFO Request is running\n",
      "2022-09-29 18:09:45,762 INFO Request is completed\n",
      "2022-09-29 18:09:45,765 INFO Downloading https://download-0019.copernicus-climate.eu/cache-compute-0019/cache/data4/adaptor.mars.internal-1664446180.2415042-11140-9-d6326d9b-3d1b-4c98-961e-21e2f7580b69.nc to g:/ERA5_SST/ERA5_SST_200902.nc (55.5M)\n",
      "2022-09-29 18:10:05,838 INFO Download rate 2.8M/s                                                                      \n"
     ]
    },
    {
     "name": "stdout",
     "output_type": "stream",
     "text": [
      "用时35.51559519767761\n"
     ]
    },
    {
     "name": "stderr",
     "output_type": "stream",
     "text": [
      "2022-09-29 18:10:06,389 INFO Welcome to the CDS\n",
      "2022-09-29 18:10:06,390 INFO Sending request to https://cds.climate.copernicus.eu/api/v2/resources/reanalysis-era5-single-levels\n",
      "2022-09-29 18:10:06,702 INFO Request is queued\n",
      "2022-09-29 18:10:07,988 INFO Request is running\n",
      "2022-09-29 18:10:21,317 INFO Request is completed\n",
      "2022-09-29 18:10:21,319 INFO Downloading https://download-0012-clone.copernicus-climate.eu/cache-compute-0012/cache/data8/adaptor.mars.internal-1664446217.4616454-5776-2-1396413e-5d06-42fd-b452-2d8cc614787a.nc to g:/ERA5_SST/ERA5_SST_200903.nc (61.5M)\n",
      "2022-09-29 18:10:49,261 INFO Download rate 2.2M/s                                                                      \n"
     ]
    },
    {
     "name": "stdout",
     "output_type": "stream",
     "text": [
      "用时43.41955757141113\n"
     ]
    },
    {
     "name": "stderr",
     "output_type": "stream",
     "text": [
      "2022-09-29 18:10:49,806 INFO Welcome to the CDS\n",
      "2022-09-29 18:10:49,808 INFO Sending request to https://cds.climate.copernicus.eu/api/v2/resources/reanalysis-era5-single-levels\n",
      "2022-09-29 18:10:50,093 INFO Request is queued\n",
      "2022-09-29 18:10:51,372 INFO Request is running\n",
      "2022-09-29 18:11:04,679 INFO Request is completed\n",
      "2022-09-29 18:11:04,680 INFO Downloading https://download-0021.copernicus-climate.eu/cache-compute-0021/cache/data3/adaptor.mars.internal-1664446260.7689576-21520-14-c699dff5-dc12-4e55-bedd-839eb9947c4f.nc to g:/ERA5_SST/ERA5_SST_200904.nc (59.5M)\n",
      "2022-09-29 18:11:19,049 INFO Download rate 4.1M/s                                                                      \n"
     ]
    },
    {
     "name": "stdout",
     "output_type": "stream",
     "text": [
      "用时29.788442373275757\n"
     ]
    },
    {
     "name": "stderr",
     "output_type": "stream",
     "text": [
      "2022-09-29 18:11:19,599 INFO Welcome to the CDS\n",
      "2022-09-29 18:11:19,600 INFO Sending request to https://cds.climate.copernicus.eu/api/v2/resources/reanalysis-era5-single-levels\n",
      "2022-09-29 18:11:19,877 INFO Request is queued\n",
      "2022-09-29 18:11:21,160 INFO Request is running\n",
      "2022-09-29 18:11:42,970 INFO Request is completed\n",
      "2022-09-29 18:11:42,972 INFO Downloading https://download-0000-clone.copernicus-climate.eu/cache-compute-0000/cache/data9/adaptor.mars.internal-1664446294.5372365-25042-12-e90f3e0a-540e-492c-905b-06ef860357d9.nc to g:/ERA5_SST/ERA5_SST_200905.nc (61.5M)\n",
      "2022-09-29 18:12:07,120 INFO Download rate 2.5M/s                                                                      \n"
     ]
    },
    {
     "name": "stdout",
     "output_type": "stream",
     "text": [
      "用时48.02496862411499\n"
     ]
    },
    {
     "name": "stderr",
     "output_type": "stream",
     "text": [
      "2022-09-29 18:12:07,578 INFO Welcome to the CDS\n",
      "2022-09-29 18:12:07,579 INFO Sending request to https://cds.climate.copernicus.eu/api/v2/resources/reanalysis-era5-single-levels\n",
      "2022-09-29 18:12:07,814 INFO Request is queued\n",
      "2022-09-29 18:12:09,059 INFO Request is running\n",
      "2022-09-29 18:12:22,215 INFO Request is completed\n",
      "2022-09-29 18:12:22,217 INFO Downloading https://download-0015-clone.copernicus-climate.eu/cache-compute-0015/cache/data8/adaptor.mars.internal-1664446336.347391-2124-14-9d83a300-8f71-47d7-b2fe-8766bcb46856.nc to g:/ERA5_SST/ERA5_SST_200906.nc (59.5M)\n",
      "2022-09-29 18:13:03,049 INFO Download rate 1.5M/s                                                                      \n"
     ]
    },
    {
     "name": "stdout",
     "output_type": "stream",
     "text": [
      "用时55.93201756477356\n"
     ]
    },
    {
     "name": "stderr",
     "output_type": "stream",
     "text": [
      "2022-09-29 18:13:03,512 INFO Welcome to the CDS\n",
      "2022-09-29 18:13:03,513 INFO Sending request to https://cds.climate.copernicus.eu/api/v2/resources/reanalysis-era5-single-levels\n",
      "2022-09-29 18:13:03,825 INFO Request is queued\n",
      "2022-09-29 18:13:05,069 INFO Request is running\n",
      "2022-09-29 18:13:18,215 INFO Request is completed\n",
      "2022-09-29 18:13:18,216 INFO Downloading https://download-0020.copernicus-climate.eu/cache-compute-0020/cache/data3/adaptor.mars.internal-1664446394.2390244-28078-14-51a30284-1e7d-4c2c-aaa1-9e1611e3049b.nc to g:/ERA5_SST/ERA5_SST_200907.nc (61.5M)\n",
      "2022-09-29 18:14:04,444 INFO Download rate 1.3M/s                                                                      \n"
     ]
    },
    {
     "name": "stdout",
     "output_type": "stream",
     "text": [
      "用时61.39505958557129\n"
     ]
    },
    {
     "name": "stderr",
     "output_type": "stream",
     "text": [
      "2022-09-29 18:14:04,907 INFO Welcome to the CDS\n",
      "2022-09-29 18:14:04,909 INFO Sending request to https://cds.climate.copernicus.eu/api/v2/resources/reanalysis-era5-single-levels\n",
      "2022-09-29 18:14:05,157 INFO Request is queued\n",
      "2022-09-29 18:14:06,398 INFO Request is running\n",
      "2022-09-29 18:14:19,539 INFO Request is completed\n",
      "2022-09-29 18:14:19,540 INFO Downloading https://download-0002-clone.copernicus-climate.eu/cache-compute-0002/cache/data0/adaptor.mars.internal-1664446455.915575-28744-19-8cf90ce1-a934-401b-8550-b97bb80dbcfb.nc to g:/ERA5_SST/ERA5_SST_200908.nc (61.5M)\n",
      "2022-09-29 18:14:41,507 INFO Download rate 2.8M/s                                                                      \n"
     ]
    },
    {
     "name": "stdout",
     "output_type": "stream",
     "text": [
      "用时37.05899429321289\n"
     ]
    },
    {
     "name": "stderr",
     "output_type": "stream",
     "text": [
      "2022-09-29 18:14:41,971 INFO Welcome to the CDS\n",
      "2022-09-29 18:14:41,973 INFO Sending request to https://cds.climate.copernicus.eu/api/v2/resources/reanalysis-era5-single-levels\n",
      "2022-09-29 18:14:42,269 INFO Request is queued\n",
      "2022-09-29 18:14:43,507 INFO Request is running\n",
      "2022-09-29 18:15:04,482 INFO Request is completed\n",
      "2022-09-29 18:15:04,485 INFO Downloading https://download-0010-clone.copernicus-climate.eu/cache-compute-0010/cache/data0/adaptor.mars.internal-1664446494.9134552-25630-19-87205736-bb3c-4484-b2a1-fe0317326406.nc to g:/ERA5_SST/ERA5_SST_200909.nc (59.5M)\n",
      "2022-09-29 18:15:27,934 INFO Download rate 2.5M/s                                                                      \n"
     ]
    },
    {
     "name": "stdout",
     "output_type": "stream",
     "text": [
      "用时46.42796587944031\n"
     ]
    },
    {
     "name": "stderr",
     "output_type": "stream",
     "text": [
      "2022-09-29 18:15:28,398 INFO Welcome to the CDS\n",
      "2022-09-29 18:15:28,399 INFO Sending request to https://cds.climate.copernicus.eu/api/v2/resources/reanalysis-era5-single-levels\n",
      "2022-09-29 18:15:28,654 INFO Request is queued\n",
      "2022-09-29 18:15:29,903 INFO Request is running\n",
      "2022-09-29 18:15:43,044 INFO Request is completed\n",
      "2022-09-29 18:15:43,046 INFO Downloading https://download-0010-clone.copernicus-climate.eu/cache-compute-0010/cache/data8/adaptor.mars.internal-1664446539.3080542-4933-4-38c7246f-2c83-45ab-a847-fb56ac735d83.nc to g:/ERA5_SST/ERA5_SST_200910.nc (61.5M)\n",
      "2022-09-29 18:16:23,995 INFO Download rate 1.5M/s                                                                      \n"
     ]
    },
    {
     "name": "stdout",
     "output_type": "stream",
     "text": [
      "用时56.06143617630005\n"
     ]
    },
    {
     "name": "stderr",
     "output_type": "stream",
     "text": [
      "2022-09-29 18:16:24,464 INFO Welcome to the CDS\n",
      "2022-09-29 18:16:24,466 INFO Sending request to https://cds.climate.copernicus.eu/api/v2/resources/reanalysis-era5-single-levels\n",
      "2022-09-29 18:16:24,710 INFO Request is queued\n",
      "2022-09-29 18:16:25,946 INFO Request is running\n",
      "2022-09-29 18:16:39,111 INFO Request is completed\n",
      "2022-09-29 18:16:39,113 INFO Downloading https://download-0007-clone.copernicus-climate.eu/cache-compute-0007/cache/data1/adaptor.mars.internal-1664446594.0159116-28532-1-c103cbbc-bc7c-47d5-8d5c-e2650be3c7f6.nc to g:/ERA5_SST/ERA5_SST_200911.nc (59.5M)\n",
      "2022-09-29 18:17:17,669 INFO Download rate 1.5M/s                                                                      \n"
     ]
    },
    {
     "name": "stdout",
     "output_type": "stream",
     "text": [
      "用时53.67238092422485\n"
     ]
    },
    {
     "name": "stderr",
     "output_type": "stream",
     "text": [
      "2022-09-29 18:17:18,139 INFO Welcome to the CDS\n",
      "2022-09-29 18:17:18,141 INFO Sending request to https://cds.climate.copernicus.eu/api/v2/resources/reanalysis-era5-single-levels\n",
      "2022-09-29 18:17:18,397 INFO Request is queued\n",
      "2022-09-29 18:17:19,636 INFO Request is running\n",
      "2022-09-29 18:17:32,788 INFO Request is completed\n",
      "2022-09-29 18:17:32,791 INFO Downloading https://download-0019.copernicus-climate.eu/cache-compute-0019/cache/data2/adaptor.mars.internal-1664446648.285946-15582-4-a410c5ef-77c0-4770-9080-112d114b7542.nc to g:/ERA5_SST/ERA5_SST_200912.nc (61.5M)\n",
      "2022-09-29 18:17:56,337 INFO Download rate 2.6M/s                                                                      \n"
     ]
    },
    {
     "name": "stdout",
     "output_type": "stream",
     "text": [
      "用时38.661616802215576\n"
     ]
    },
    {
     "name": "stderr",
     "output_type": "stream",
     "text": [
      "2022-09-29 18:17:56,795 INFO Welcome to the CDS\n",
      "2022-09-29 18:17:56,798 INFO Sending request to https://cds.climate.copernicus.eu/api/v2/resources/reanalysis-era5-single-levels\n",
      "2022-09-29 18:17:57,052 INFO Request is queued\n",
      "2022-09-29 18:17:58,289 INFO Request is running\n",
      "2022-09-29 18:18:11,436 INFO Request is completed\n",
      "2022-09-29 18:18:11,437 INFO Downloading https://download-0019.copernicus-climate.eu/cache-compute-0019/cache/data4/adaptor.mars.internal-1664446687.1272984-17925-1-23a154dd-7060-4abb-8e0f-6220c5303ac4.nc to g:/ERA5_SST/ERA5_SST_201001.nc (61.5M)\n",
      "2022-09-29 18:18:38,948 INFO Download rate 2.2M/s                                                                      \n"
     ]
    },
    {
     "name": "stdout",
     "output_type": "stream",
     "text": [
      "用时42.61296272277832\n"
     ]
    },
    {
     "name": "stderr",
     "output_type": "stream",
     "text": [
      "2022-09-29 18:18:39,410 INFO Welcome to the CDS\n",
      "2022-09-29 18:18:39,411 INFO Sending request to https://cds.climate.copernicus.eu/api/v2/resources/reanalysis-era5-single-levels\n",
      "2022-09-29 18:18:39,674 INFO Request is queued\n",
      "2022-09-29 18:18:40,916 INFO Request is running\n",
      "2022-09-29 18:18:54,063 INFO Request is completed\n",
      "2022-09-29 18:18:54,066 INFO Downloading https://download-0017.copernicus-climate.eu/cache-compute-0017/cache/data5/adaptor.mars.internal-1664446728.8025744-22111-7-4dcfbb85-de72-446f-a59c-3330f72a7106.nc to g:/ERA5_SST/ERA5_SST_201002.nc (55.5M)\n",
      "2022-09-29 18:19:33,764 INFO Download rate 1.4M/s                                                                      \n"
     ]
    },
    {
     "name": "stdout",
     "output_type": "stream",
     "text": [
      "用时54.81645154953003\n"
     ]
    },
    {
     "name": "stderr",
     "output_type": "stream",
     "text": [
      "2022-09-29 18:19:34,230 INFO Welcome to the CDS\n",
      "2022-09-29 18:19:34,232 INFO Sending request to https://cds.climate.copernicus.eu/api/v2/resources/reanalysis-era5-single-levels\n",
      "2022-09-29 18:19:34,472 INFO Request is queued\n",
      "2022-09-29 18:19:35,709 INFO Request is running\n",
      "2022-09-29 18:19:48,861 INFO Request is completed\n",
      "2022-09-29 18:19:48,864 INFO Downloading https://download-0005-clone.copernicus-climate.eu/cache-compute-0005/cache/data9/adaptor.mars.internal-1664446784.6541421-20812-1-79eafb90-7bd6-4b32-9861-ddaed8fe7695.nc to g:/ERA5_SST/ERA5_SST_201003.nc (61.5M)\n",
      "2022-09-29 18:20:12,623 INFO Download rate 2.6M/s                                                                      \n"
     ]
    },
    {
     "name": "stdout",
     "output_type": "stream",
     "text": [
      "用时38.85743165016174\n"
     ]
    },
    {
     "name": "stderr",
     "output_type": "stream",
     "text": [
      "2022-09-29 18:20:13,089 INFO Welcome to the CDS\n",
      "2022-09-29 18:20:13,091 INFO Sending request to https://cds.climate.copernicus.eu/api/v2/resources/reanalysis-era5-single-levels\n",
      "2022-09-29 18:20:13,355 INFO Request is queued\n",
      "2022-09-29 18:20:14,606 INFO Request is running\n",
      "2022-09-29 18:20:27,748 INFO Request is completed\n",
      "2022-09-29 18:20:27,751 INFO Downloading https://download-0010-clone.copernicus-climate.eu/cache-compute-0010/cache/data6/adaptor.mars.internal-1664446823.4391341-18280-18-64d599e2-a4fd-4afa-930a-ffa609eac2a6.nc to g:/ERA5_SST/ERA5_SST_201004.nc (59.5M)\n",
      "2022-09-29 18:20:52,046 INFO Download rate 2.4M/s                                                                      \n"
     ]
    },
    {
     "name": "stdout",
     "output_type": "stream",
     "text": [
      "用时39.423760414123535\n"
     ]
    },
    {
     "name": "stderr",
     "output_type": "stream",
     "text": [
      "2022-09-29 18:20:52,515 INFO Welcome to the CDS\n",
      "2022-09-29 18:20:52,516 INFO Sending request to https://cds.climate.copernicus.eu/api/v2/resources/reanalysis-era5-single-levels\n",
      "2022-09-29 18:20:52,753 INFO Request is queued\n",
      "2022-09-29 18:20:53,999 INFO Request is running\n",
      "2022-09-29 18:21:07,142 INFO Request is completed\n",
      "2022-09-29 18:21:07,143 INFO Downloading https://download-0013-clone.copernicus-climate.eu/cache-compute-0013/cache/data1/adaptor.mars.internal-1664446862.2151444-1117-6-a5040c77-027f-487d-9109-d21ae7e500db.nc to g:/ERA5_SST/ERA5_SST_201005.nc (61.5M)\n",
      "2022-09-29 18:21:32,361 INFO Download rate 2.4M/s                                                                      \n"
     ]
    },
    {
     "name": "stdout",
     "output_type": "stream",
     "text": [
      "用时40.312143087387085\n"
     ]
    },
    {
     "name": "stderr",
     "output_type": "stream",
     "text": [
      "2022-09-29 18:21:33,682 INFO Welcome to the CDS\n",
      "2022-09-29 18:21:33,684 INFO Sending request to https://cds.climate.copernicus.eu/api/v2/resources/reanalysis-era5-single-levels\n",
      "2022-09-29 18:21:33,981 INFO Request is queued\n",
      "2022-09-29 18:21:35,267 INFO Request is running\n",
      "2022-09-29 18:21:48,594 INFO Request is completed\n",
      "2022-09-29 18:21:48,596 INFO Downloading https://download-0010-clone.copernicus-climate.eu/cache-compute-0010/cache/data4/adaptor.mars.internal-1664446904.213599-25451-12-3e6da2aa-2642-445d-8953-8ce37afa2995.nc to g:/ERA5_SST/ERA5_SST_201006.nc (59.5M)\n",
      "2022-09-29 18:22:39,023 INFO Download rate 1.2M/s                                                                      \n"
     ]
    },
    {
     "name": "stdout",
     "output_type": "stream",
     "text": [
      "用时66.70463037490845\n"
     ]
    },
    {
     "name": "stderr",
     "output_type": "stream",
     "text": [
      "2022-09-29 18:22:39,594 INFO Welcome to the CDS\n",
      "2022-09-29 18:22:39,595 INFO Sending request to https://cds.climate.copernicus.eu/api/v2/resources/reanalysis-era5-single-levels\n",
      "2022-09-29 18:22:39,915 INFO Request is queued\n",
      "2022-09-29 18:22:41,191 INFO Request is running\n",
      "2022-09-29 18:22:54,496 INFO Request is completed\n",
      "2022-09-29 18:22:54,499 INFO Downloading https://download-0017.copernicus-climate.eu/cache-compute-0017/cache/data4/adaptor.mars.internal-1664446969.7381477-21897-9-c53eceb5-c9bd-45ae-908b-97e30432ce4e.nc to g:/ERA5_SST/ERA5_SST_201007.nc (61.5M)\n",
      "2022-09-29 18:23:28,830 INFO Download rate 1.8M/s                                                                      \n"
     ]
    },
    {
     "name": "stdout",
     "output_type": "stream",
     "text": [
      "用时49.79292273521423\n"
     ]
    },
    {
     "name": "stderr",
     "output_type": "stream",
     "text": [
      "2022-09-29 18:23:29,356 INFO Welcome to the CDS\n",
      "2022-09-29 18:23:29,358 INFO Sending request to https://cds.climate.copernicus.eu/api/v2/resources/reanalysis-era5-single-levels\n",
      "2022-09-29 18:23:29,626 INFO Request is queued\n",
      "2022-09-29 18:23:30,897 INFO Request is running\n",
      "2022-09-29 18:23:44,153 INFO Request is completed\n",
      "2022-09-29 18:23:44,156 INFO Downloading https://download-0004-clone.copernicus-climate.eu/cache-compute-0004/cache/data3/adaptor.mars.internal-1664447019.823964-8246-12-6a4568b1-4376-4c4a-9ce8-18ee111f1f96.nc to g:/ERA5_SST/ERA5_SST_201008.nc (61.5M)\n",
      "2022-09-29 18:24:16,811 INFO Download rate 1.9M/s                                                                      \n"
     ]
    },
    {
     "name": "stdout",
     "output_type": "stream",
     "text": [
      "用时47.98953127861023\n"
     ]
    },
    {
     "name": "stderr",
     "output_type": "stream",
     "text": [
      "2022-09-29 18:24:17,357 INFO Welcome to the CDS\n",
      "2022-09-29 18:24:17,358 INFO Sending request to https://cds.climate.copernicus.eu/api/v2/resources/reanalysis-era5-single-levels\n",
      "2022-09-29 18:24:17,673 INFO Request is queued\n",
      "2022-09-29 18:24:18,957 INFO Request is running\n",
      "2022-09-29 18:24:32,286 INFO Request is completed\n",
      "2022-09-29 18:24:32,289 INFO Downloading https://download-0006-clone.copernicus-climate.eu/cache-compute-0006/cache/data9/adaptor.mars.internal-1664447067.6384823-17750-3-b2607510-2b4e-4017-9f69-65ae5c6b235f.nc to g:/ERA5_SST/ERA5_SST_201009.nc (59.5M)\n",
      "2022-09-29 18:25:20,066 INFO Download rate 1.2M/s                                                                      \n"
     ]
    },
    {
     "name": "stdout",
     "output_type": "stream",
     "text": [
      "用时63.256099700927734\n"
     ]
    },
    {
     "name": "stderr",
     "output_type": "stream",
     "text": [
      "2022-09-29 18:25:20,615 INFO Welcome to the CDS\n",
      "2022-09-29 18:25:20,616 INFO Sending request to https://cds.climate.copernicus.eu/api/v2/resources/reanalysis-era5-single-levels\n",
      "2022-09-29 18:25:20,903 INFO Request is queued\n",
      "2022-09-29 18:25:22,175 INFO Request is running\n",
      "2022-09-29 18:25:35,500 INFO Request is completed\n",
      "2022-09-29 18:25:35,502 INFO Downloading https://download-0016.copernicus-climate.eu/cache-compute-0016/cache/data4/adaptor.mars.internal-1664447131.4635754-753-14-96d5819c-5e79-43e0-a2fa-3962cc437a5a.nc to g:/ERA5_SST/ERA5_SST_201010.nc (61.5M)\n",
      "2022-09-29 18:26:06,408 INFO Download rate 2M/s                                                                        \n"
     ]
    },
    {
     "name": "stdout",
     "output_type": "stream",
     "text": [
      "用时46.33821415901184\n"
     ]
    },
    {
     "name": "stderr",
     "output_type": "stream",
     "text": [
      "2022-09-29 18:26:06,954 INFO Welcome to the CDS\n",
      "2022-09-29 18:26:06,955 INFO Sending request to https://cds.climate.copernicus.eu/api/v2/resources/reanalysis-era5-single-levels\n",
      "2022-09-29 18:26:07,246 INFO Request is queued\n",
      "2022-09-29 18:26:08,523 INFO Request is running\n",
      "2022-09-29 18:26:21,819 INFO Request is completed\n",
      "2022-09-29 18:26:21,822 INFO Downloading https://download-0003-clone.copernicus-climate.eu/cache-compute-0003/cache/data8/adaptor.mars.internal-1664447177.3024464-10548-8-4216db7d-4ef5-4842-a067-970d063e338d.nc to g:/ERA5_SST/ERA5_SST_201011.nc (59.5M)\n",
      "2022-09-29 18:26:56,434 INFO Download rate 1.7M/s                                                                      \n"
     ]
    },
    {
     "name": "stdout",
     "output_type": "stream",
     "text": [
      "用时50.029786109924316\n"
     ]
    },
    {
     "name": "stderr",
     "output_type": "stream",
     "text": [
      "2022-09-29 18:26:56,986 INFO Welcome to the CDS\n",
      "2022-09-29 18:26:56,988 INFO Sending request to https://cds.climate.copernicus.eu/api/v2/resources/reanalysis-era5-single-levels\n",
      "2022-09-29 18:26:57,273 INFO Request is queued\n",
      "2022-09-29 18:26:58,551 INFO Request is running\n",
      "2022-09-29 18:27:11,869 INFO Request is completed\n",
      "2022-09-29 18:27:11,871 INFO Downloading https://download-0019.copernicus-climate.eu/cache-compute-0019/cache/data4/adaptor.mars.internal-1664447227.2178698-7504-14-41f3cab2-d92c-45aa-a4f1-7e02e7c2328a.nc to g:/ERA5_SST/ERA5_SST_201012.nc (61.5M)\n",
      "2022-09-29 18:27:40,272 INFO Download rate 2.2M/s                                                                      \n"
     ]
    },
    {
     "name": "stdout",
     "output_type": "stream",
     "text": [
      "用时43.831727027893066\n"
     ]
    },
    {
     "name": "stderr",
     "output_type": "stream",
     "text": [
      "2022-09-29 18:27:40,815 INFO Welcome to the CDS\n",
      "2022-09-29 18:27:40,816 INFO Sending request to https://cds.climate.copernicus.eu/api/v2/resources/reanalysis-era5-single-levels\n",
      "2022-09-29 18:27:41,093 INFO Request is queued\n",
      "2022-09-29 18:27:42,378 INFO Request is running\n",
      "2022-09-29 18:27:55,702 INFO Request is completed\n",
      "2022-09-29 18:27:55,704 INFO Downloading https://download-0007-clone.copernicus-climate.eu/cache-compute-0007/cache/data9/adaptor.mars.internal-1664447270.8286014-29737-4-83bdbd5e-5410-4972-9fbe-2cefc6643cb8.nc to g:/ERA5_SST/ERA5_SST_201101.nc (61.5M)\n",
      "2022-09-29 18:28:44,330 INFO Download rate 1.3M/s                                                                      \n"
     ]
    },
    {
     "name": "stdout",
     "output_type": "stream",
     "text": [
      "用时64.06055355072021\n"
     ]
    },
    {
     "name": "stderr",
     "output_type": "stream",
     "text": [
      "2022-09-29 18:28:44,879 INFO Welcome to the CDS\n",
      "2022-09-29 18:28:44,881 INFO Sending request to https://cds.climate.copernicus.eu/api/v2/resources/reanalysis-era5-single-levels\n",
      "2022-09-29 18:28:45,163 INFO Request is queued\n",
      "2022-09-29 18:28:46,452 INFO Request is running\n",
      "2022-09-29 18:28:59,805 INFO Request is completed\n",
      "2022-09-29 18:28:59,806 INFO Downloading https://download-0014-clone.copernicus-climate.eu/cache-compute-0014/cache/data7/adaptor.mars.internal-1664447335.615886-31538-15-c1eda8c7-8eab-4d1a-880f-cc8cb2cf563c.nc to g:/ERA5_SST/ERA5_SST_201102.nc (55.5M)\n",
      "2022-09-29 18:29:36,376 INFO Download rate 1.5M/s                                                                      \n"
     ]
    },
    {
     "name": "stdout",
     "output_type": "stream",
     "text": [
      "用时52.04117512702942\n"
     ]
    },
    {
     "name": "stderr",
     "output_type": "stream",
     "text": [
      "2022-09-29 18:29:36,917 INFO Welcome to the CDS\n",
      "2022-09-29 18:29:36,919 INFO Sending request to https://cds.climate.copernicus.eu/api/v2/resources/reanalysis-era5-single-levels\n",
      "2022-09-29 18:29:37,203 INFO Request is queued\n",
      "2022-09-29 18:29:38,486 INFO Request is running\n",
      "2022-09-29 18:29:51,804 INFO Request is completed\n",
      "2022-09-29 18:29:51,806 INFO Downloading https://download-0011-clone.copernicus-climate.eu/cache-compute-0011/cache/data7/adaptor.mars.internal-1664447387.044745-4366-11-a0e2a4d3-7e28-47f3-915e-bf12b4b774ba.nc to g:/ERA5_SST/ERA5_SST_201103.nc (61.5M)\n",
      "2022-09-29 18:30:35,497 INFO Download rate 1.4M/s                                                                      \n"
     ]
    },
    {
     "name": "stdout",
     "output_type": "stream",
     "text": [
      "用时59.12138795852661\n"
     ]
    },
    {
     "name": "stderr",
     "output_type": "stream",
     "text": [
      "2022-09-29 18:30:36,043 INFO Welcome to the CDS\n",
      "2022-09-29 18:30:36,045 INFO Sending request to https://cds.climate.copernicus.eu/api/v2/resources/reanalysis-era5-single-levels\n",
      "2022-09-29 18:30:36,327 INFO Request is queued\n",
      "2022-09-29 18:30:37,600 INFO Request is running\n",
      "2022-09-29 18:30:50,897 INFO Request is completed\n",
      "2022-09-29 18:30:50,900 INFO Downloading https://download-0020.copernicus-climate.eu/cache-compute-0020/cache/data4/adaptor.mars.internal-1664447446.16029-14782-5-cfa4df49-3db4-48f1-9f7b-5a7ae5429280.nc to g:/ERA5_SST/ERA5_SST_201104.nc (59.5M)\n",
      "2022-09-29 18:31:13,510 INFO Download rate 2.6M/s                                                                      \n"
     ]
    },
    {
     "name": "stdout",
     "output_type": "stream",
     "text": [
      "用时38.011549949645996\n"
     ]
    },
    {
     "name": "stderr",
     "output_type": "stream",
     "text": [
      "2022-09-29 18:31:14,051 INFO Welcome to the CDS\n",
      "2022-09-29 18:31:14,053 INFO Sending request to https://cds.climate.copernicus.eu/api/v2/resources/reanalysis-era5-single-levels\n",
      "2022-09-29 18:31:14,333 INFO Request is queued\n",
      "2022-09-29 18:31:15,617 INFO Request is running\n",
      "2022-09-29 18:31:28,909 INFO Request is completed\n",
      "2022-09-29 18:31:28,912 INFO Downloading https://download-0009-clone.copernicus-climate.eu/cache-compute-0009/cache/data0/adaptor.mars.internal-1664447484.7181141-23674-4-04b9a865-13d1-455a-b401-4020e7d0e9ad.nc to g:/ERA5_SST/ERA5_SST_201105.nc (61.5M)\n",
      "2022-09-29 18:32:36,490 INFO Download rate 931.6K/s                                                                    \n"
     ]
    },
    {
     "name": "stdout",
     "output_type": "stream",
     "text": [
      "用时83.65243220329285\n"
     ]
    },
    {
     "name": "stderr",
     "output_type": "stream",
     "text": [
      "2022-09-29 18:32:37,674 INFO Welcome to the CDS\n",
      "2022-09-29 18:32:37,676 INFO Sending request to https://cds.climate.copernicus.eu/api/v2/resources/reanalysis-era5-single-levels\n",
      "2022-09-29 18:32:37,940 INFO Request is queued\n",
      "2022-09-29 18:32:39,188 INFO Request is running\n",
      "2022-09-29 18:32:52,389 INFO Request is completed\n",
      "2022-09-29 18:32:52,392 INFO Downloading https://download-0012-clone.copernicus-climate.eu/cache-compute-0012/cache/data4/adaptor.mars.internal-1664447567.5219228-8655-7-509e53a4-cc47-4f31-a1de-fe10f18d8017.nc to g:/ERA5_SST/ERA5_SST_201106.nc (59.5M)\n",
      "2022-09-29 18:33:53,269 INFO Download rate 1000.8K/s                                                                   \n"
     ]
    },
    {
     "name": "stdout",
     "output_type": "stream",
     "text": [
      "用时76.07197761535645\n"
     ]
    },
    {
     "name": "stderr",
     "output_type": "stream",
     "text": [
      "2022-09-29 18:33:53,743 INFO Welcome to the CDS\n",
      "2022-09-29 18:33:53,744 INFO Sending request to https://cds.climate.copernicus.eu/api/v2/resources/reanalysis-era5-single-levels\n",
      "2022-09-29 18:33:54,002 INFO Request is queued\n",
      "2022-09-29 18:33:55,250 INFO Request is running\n",
      "2022-09-29 18:34:08,408 INFO Request is completed\n",
      "2022-09-29 18:34:08,411 INFO Downloading https://download-0000-clone.copernicus-climate.eu/cache-compute-0000/cache/data9/adaptor.mars.internal-1664447644.1017442-4253-12-3552b6a7-fa34-4203-9677-ea8ca526604b.nc to g:/ERA5_SST/ERA5_SST_201107.nc (61.5M)\n",
      "2022-09-29 18:34:32,651 INFO Download rate 2.5M/s                                                                      \n"
     ]
    },
    {
     "name": "stdout",
     "output_type": "stream",
     "text": [
      "用时39.38091039657593\n"
     ]
    },
    {
     "name": "stderr",
     "output_type": "stream",
     "text": [
      "2022-09-29 18:34:33,124 INFO Welcome to the CDS\n",
      "2022-09-29 18:34:33,125 INFO Sending request to https://cds.climate.copernicus.eu/api/v2/resources/reanalysis-era5-single-levels\n",
      "2022-09-29 18:34:33,404 INFO Request is queued\n",
      "2022-09-29 18:34:34,659 INFO Request is running\n",
      "2022-09-29 18:34:47,835 INFO Request is completed\n",
      "2022-09-29 18:34:47,836 INFO Downloading https://download-0013-clone.copernicus-climate.eu/cache-compute-0013/cache/data9/adaptor.mars.internal-1664447683.0873075-4010-8-a86a2cbe-57f9-4bcd-ac28-fffb7566ac7f.nc to g:/ERA5_SST/ERA5_SST_201108.nc (61.5M)\n",
      "2022-09-29 18:35:20,437 INFO Download rate 1.9M/s                                                                      \n"
     ]
    },
    {
     "name": "stdout",
     "output_type": "stream",
     "text": [
      "用时47.786596059799194\n"
     ]
    },
    {
     "name": "stderr",
     "output_type": "stream",
     "text": [
      "2022-09-29 18:35:20,912 INFO Welcome to the CDS\n",
      "2022-09-29 18:35:20,913 INFO Sending request to https://cds.climate.copernicus.eu/api/v2/resources/reanalysis-era5-single-levels\n",
      "2022-09-29 18:35:21,183 INFO Request is queued\n",
      "2022-09-29 18:35:22,429 INFO Request is running\n",
      "2022-09-29 18:35:35,614 INFO Request is completed\n",
      "2022-09-29 18:35:35,615 INFO Downloading https://download-0004-clone.copernicus-climate.eu/cache-compute-0004/cache/data6/adaptor.mars.internal-1664447731.257951-14819-13-c002261f-aa20-4ad2-a84a-fbe25086ca26.nc to g:/ERA5_SST/ERA5_SST_201109.nc (59.5M)\n",
      "2022-09-29 18:35:57,032 INFO Download rate 2.8M/s                                                                      \n"
     ]
    },
    {
     "name": "stdout",
     "output_type": "stream",
     "text": [
      "用时36.59195899963379\n"
     ]
    },
    {
     "name": "stderr",
     "output_type": "stream",
     "text": [
      "2022-09-29 18:35:57,509 INFO Welcome to the CDS\n",
      "2022-09-29 18:35:57,511 INFO Sending request to https://cds.climate.copernicus.eu/api/v2/resources/reanalysis-era5-single-levels\n",
      "2022-09-29 18:35:57,770 INFO Request is queued\n",
      "2022-09-29 18:35:59,023 INFO Request is running\n",
      "2022-09-29 18:36:12,168 INFO Request is completed\n",
      "2022-09-29 18:36:12,170 INFO Downloading https://download-0013-clone.copernicus-climate.eu/cache-compute-0013/cache/data9/adaptor.mars.internal-1664447767.5330107-11609-5-3b698a9a-85cf-4689-9c14-5bc01133b075.nc to g:/ERA5_SST/ERA5_SST_201110.nc (61.5M)\n",
      "2022-09-29 18:36:43,605 INFO Download rate 2M/s                                                                        \n"
     ]
    },
    {
     "name": "stdout",
     "output_type": "stream",
     "text": [
      "用时46.57357668876648\n"
     ]
    },
    {
     "name": "stderr",
     "output_type": "stream",
     "text": [
      "2022-09-29 18:36:44,082 INFO Welcome to the CDS\n",
      "2022-09-29 18:36:44,083 INFO Sending request to https://cds.climate.copernicus.eu/api/v2/resources/reanalysis-era5-single-levels\n",
      "2022-09-29 18:36:44,351 INFO Request is queued\n",
      "2022-09-29 18:36:45,597 INFO Request is running\n",
      "2022-09-29 18:36:58,749 INFO Request is completed\n",
      "2022-09-29 18:36:58,751 INFO Downloading https://download-0011-clone.copernicus-climate.eu/cache-compute-0011/cache/data7/adaptor.mars.internal-1664447814.291018-4714-13-16ee115c-4e33-412f-9bdf-f6a549a4a9b6.nc to g:/ERA5_SST/ERA5_SST_201111.nc (59.5M)\n",
      "2022-09-29 18:37:58,469 INFO Download rate 1020.2K/s                                                                   \n"
     ]
    },
    {
     "name": "stdout",
     "output_type": "stream",
     "text": [
      "用时74.85599517822266\n"
     ]
    },
    {
     "name": "stderr",
     "output_type": "stream",
     "text": [
      "2022-09-29 18:37:58,931 INFO Welcome to the CDS\n",
      "2022-09-29 18:37:58,932 INFO Sending request to https://cds.climate.copernicus.eu/api/v2/resources/reanalysis-era5-single-levels\n",
      "2022-09-29 18:37:59,180 INFO Request is queued\n",
      "2022-09-29 18:38:00,423 INFO Request is running\n",
      "2022-09-29 18:38:13,574 INFO Request is completed\n",
      "2022-09-29 18:38:13,574 INFO Downloading https://download-0001-clone.copernicus-climate.eu/cache-compute-0001/cache/data4/adaptor.mars.internal-1664447889.523967-27461-5-6fcb30fd-c3c8-4207-b32f-688350ec28af.nc to g:/ERA5_SST/ERA5_SST_201112.nc (61.5M)\n",
      "2022-09-29 18:39:06,905 INFO Download rate 1.2M/s                                                                      \n"
     ]
    },
    {
     "name": "stdout",
     "output_type": "stream",
     "text": [
      "用时68.43915128707886\n"
     ]
    },
    {
     "name": "stderr",
     "output_type": "stream",
     "text": [
      "2022-09-29 18:39:07,372 INFO Welcome to the CDS\n",
      "2022-09-29 18:39:07,373 INFO Sending request to https://cds.climate.copernicus.eu/api/v2/resources/reanalysis-era5-single-levels\n",
      "2022-09-29 18:39:07,614 INFO Request is queued\n",
      "2022-09-29 18:39:08,854 INFO Request is running\n",
      "2022-09-29 18:39:22,017 INFO Request is completed\n",
      "2022-09-29 18:39:22,020 INFO Downloading https://download-0015-clone.copernicus-climate.eu/cache-compute-0015/cache/data8/adaptor.mars.internal-1664447958.1419287-14005-15-006f5918-4670-4980-a4f1-2c7ee33ec2a6.nc to g:/ERA5_SST/ERA5_SST_201201.nc (61.5M)\n",
      "2022-09-29 18:40:22,359 INFO Download rate 1M/s                                                                        \n"
     ]
    },
    {
     "name": "stdout",
     "output_type": "stream",
     "text": [
      "用时75.46910643577576\n"
     ]
    },
    {
     "name": "stderr",
     "output_type": "stream",
     "text": [
      "2022-09-29 18:40:22,859 INFO Welcome to the CDS\n",
      "2022-09-29 18:40:22,860 INFO Sending request to https://cds.climate.copernicus.eu/api/v2/resources/reanalysis-era5-single-levels\n",
      "2022-09-29 18:40:23,132 INFO Request is queued\n",
      "2022-09-29 18:40:24,388 INFO Request is running\n",
      "2022-09-29 18:40:37,628 INFO Request is completed\n",
      "2022-09-29 18:40:37,629 INFO Downloading https://download-0006-clone.copernicus-climate.eu/cache-compute-0006/cache/data8/adaptor.mars.internal-1664448032.7872684-18973-7-862a161e-1c61-470d-89e7-ef49d186616f.nc to g:/ERA5_SST/ERA5_SST_201202.nc (57.5M)\n",
      "2022-09-29 18:41:25,352 INFO Download rate 1.2M/s                                                                      \n"
     ]
    },
    {
     "name": "stdout",
     "output_type": "stream",
     "text": [
      "用时62.97038221359253\n"
     ]
    },
    {
     "name": "stderr",
     "output_type": "stream",
     "text": [
      "2022-09-29 18:41:25,820 INFO Welcome to the CDS\n",
      "2022-09-29 18:41:25,820 INFO Sending request to https://cds.climate.copernicus.eu/api/v2/resources/reanalysis-era5-single-levels\n",
      "2022-09-29 18:41:26,055 INFO Request is queued\n",
      "2022-09-29 18:41:27,288 INFO Request is running\n",
      "2022-09-29 18:41:40,423 INFO Request is completed\n",
      "2022-09-29 18:41:40,426 INFO Downloading https://download-0014-clone.copernicus-climate.eu/cache-compute-0014/cache/data8/adaptor.mars.internal-1664448096.124581-421-13-193aff6e-1667-47d1-9af6-d5c24c866f7c.nc to g:/ERA5_SST/ERA5_SST_201203.nc (61.5M)\n",
      "2022-09-29 18:42:30,605 INFO Download rate 1.2M/s                                                                      \n"
     ]
    },
    {
     "name": "stdout",
     "output_type": "stream",
     "text": [
      "用时65.25491452217102\n"
     ]
    },
    {
     "name": "stderr",
     "output_type": "stream",
     "text": [
      "2022-09-29 18:42:31,070 INFO Welcome to the CDS\n",
      "2022-09-29 18:42:31,071 INFO Sending request to https://cds.climate.copernicus.eu/api/v2/resources/reanalysis-era5-single-levels\n",
      "2022-09-29 18:42:31,317 INFO Request is queued\n",
      "2022-09-29 18:42:32,555 INFO Request is running\n",
      "2022-09-29 18:42:45,723 INFO Request is completed\n",
      "2022-09-29 18:42:45,726 INFO Downloading https://download-0002-clone.copernicus-climate.eu/cache-compute-0002/cache/data4/adaptor.mars.internal-1664448162.422182-15452-6-6511a84e-0a34-4675-9dc4-bdbb7938ffd8.nc to g:/ERA5_SST/ERA5_SST_201204.nc (59.5M)\n",
      "2022-09-29 18:44:01,670 INFO Download rate 802.3K/s                                                                    \n"
     ]
    },
    {
     "name": "stdout",
     "output_type": "stream",
     "text": [
      "用时91.92148160934448\n"
     ]
    },
    {
     "name": "stderr",
     "output_type": "stream",
     "text": [
      "2022-09-29 18:44:03,033 INFO Welcome to the CDS\n",
      "2022-09-29 18:44:03,034 INFO Sending request to https://cds.climate.copernicus.eu/api/v2/resources/reanalysis-era5-single-levels\n",
      "2022-09-29 18:44:03,365 INFO Request is queued\n",
      "2022-09-29 18:44:04,644 INFO Request is running\n",
      "2022-09-29 18:44:17,973 INFO Request is completed\n",
      "2022-09-29 18:44:17,976 INFO Downloading https://download-0017.copernicus-climate.eu/cache-compute-0017/cache/data1/adaptor.mars.internal-1664448253.3430583-22898-16-886e999c-1e73-4c89-a275-8f2c2508fdfc.nc to g:/ERA5_SST/ERA5_SST_201205.nc (61.5M)\n",
      "2022-09-29 18:45:30,543 INFO Download rate 867.6K/s                                                                    \n"
     ]
    },
    {
     "name": "stdout",
     "output_type": "stream",
     "text": [
      "用时88.70183992385864\n"
     ]
    },
    {
     "name": "stderr",
     "output_type": "stream",
     "text": [
      "2022-09-29 18:45:31,693 INFO Welcome to the CDS\n",
      "2022-09-29 18:45:31,694 INFO Sending request to https://cds.climate.copernicus.eu/api/v2/resources/reanalysis-era5-single-levels\n",
      "2022-09-29 18:45:31,931 INFO Request is queued\n",
      "2022-09-29 18:45:33,171 INFO Request is running\n",
      "2022-09-29 18:45:46,327 INFO Request is completed\n",
      "2022-09-29 18:45:46,328 INFO Downloading https://download-0013-clone.copernicus-climate.eu/cache-compute-0013/cache/data7/adaptor.mars.internal-1664448341.2954843-6077-10-ccad3c5b-28e6-4b34-81bc-dbea59b3bdeb.nc to g:/ERA5_SST/ERA5_SST_201206.nc (59.5M)\n",
      "2022-09-29 18:47:03,776 INFO Download rate 786.7K/s                                                                    \n"
     ]
    },
    {
     "name": "stdout",
     "output_type": "stream",
     "text": [
      "用时93.28022861480713\n"
     ]
    },
    {
     "name": "stderr",
     "output_type": "stream",
     "text": [
      "2022-09-29 18:47:04,990 INFO Welcome to the CDS\n",
      "2022-09-29 18:47:04,992 INFO Sending request to https://cds.climate.copernicus.eu/api/v2/resources/reanalysis-era5-single-levels\n",
      "2022-09-29 18:47:05,244 INFO Request is queued\n",
      "2022-09-29 18:47:06,496 INFO Request is running\n",
      "2022-09-29 18:47:19,661 INFO Request is completed\n",
      "2022-09-29 18:47:19,663 INFO Downloading https://download-0005-clone.copernicus-climate.eu/cache-compute-0005/cache/data9/adaptor.mars.internal-1664448435.8313706-23111-11-7178990f-4f68-43c8-875e-337b94090ad9.nc to g:/ERA5_SST/ERA5_SST_201207.nc (61.5M)\n",
      "2022-09-29 18:48:48,190 INFO Download rate 711.2K/s                                                                    \n"
     ]
    },
    {
     "name": "stdout",
     "output_type": "stream",
     "text": [
      "用时104.39012002944946\n"
     ]
    },
    {
     "name": "stderr",
     "output_type": "stream",
     "text": [
      "2022-09-29 18:48:49,374 INFO Welcome to the CDS\n",
      "2022-09-29 18:48:49,375 INFO Sending request to https://cds.climate.copernicus.eu/api/v2/resources/reanalysis-era5-single-levels\n",
      "2022-09-29 18:48:49,615 INFO Request is queued\n",
      "2022-09-29 18:48:50,855 INFO Request is running\n",
      "2022-09-29 18:49:04,010 INFO Request is completed\n",
      "2022-09-29 18:49:04,012 INFO Downloading https://download-0017.copernicus-climate.eu/cache-compute-0017/cache/data5/adaptor.mars.internal-1664448539.4892693-3139-5-3e205bbd-0eeb-4806-9095-171b89da4f23.nc to g:/ERA5_SST/ERA5_SST_201208.nc (61.5M)\n",
      "2022-09-29 18:50:06,689 INFO Download rate 1004.5K/s                                                                   \n"
     ]
    },
    {
     "name": "stdout",
     "output_type": "stream",
     "text": [
      "用时77.78809261322021\n"
     ]
    },
    {
     "name": "stderr",
     "output_type": "stream",
     "text": [
      "2022-09-29 18:50:07,159 INFO Welcome to the CDS\n",
      "2022-09-29 18:50:07,160 INFO Sending request to https://cds.climate.copernicus.eu/api/v2/resources/reanalysis-era5-single-levels\n",
      "2022-09-29 18:50:07,401 INFO Request is queued\n",
      "2022-09-29 18:50:08,645 INFO Request is running\n",
      "2022-09-29 18:50:21,806 INFO Request is completed\n",
      "2022-09-29 18:50:21,807 INFO Downloading https://download-0019.copernicus-climate.eu/cache-compute-0019/cache/data6/adaptor.mars.internal-1664448618.3872323-15016-18-3c944f35-2132-4260-bc1f-6bdef08818ea.nc to g:/ERA5_SST/ERA5_SST_201209.nc (59.5M)\n",
      "2022-09-29 18:51:42,496 INFO Download rate 755.1K/s                                                                    \n"
     ]
    },
    {
     "name": "stdout",
     "output_type": "stream",
     "text": [
      "用时96.53217077255249\n"
     ]
    },
    {
     "name": "stderr",
     "output_type": "stream",
     "text": [
      "2022-09-29 18:51:43,695 INFO Welcome to the CDS\n",
      "2022-09-29 18:51:43,697 INFO Sending request to https://cds.climate.copernicus.eu/api/v2/resources/reanalysis-era5-single-levels\n",
      "2022-09-29 18:51:43,995 INFO Request is queued\n",
      "2022-09-29 18:51:45,240 INFO Request is running\n",
      "2022-09-29 18:51:58,417 INFO Request is completed\n",
      "2022-09-29 18:51:58,420 INFO Downloading https://download-0014-clone.copernicus-climate.eu/cache-compute-0014/cache/data1/adaptor.mars.internal-1664448715.2207072-15593-6-bf19c87c-817d-4667-9aa4-700824ec1220.nc to g:/ERA5_SST/ERA5_SST_201210.nc (61.5M)\n",
      "2022-09-29 18:52:54,376 INFO Download rate 1.1M/s                                                                      \n"
     ]
    },
    {
     "name": "stdout",
     "output_type": "stream",
     "text": [
      "用时71.16034841537476\n"
     ]
    },
    {
     "name": "stderr",
     "output_type": "stream",
     "text": [
      "2022-09-29 18:52:54,855 INFO Welcome to the CDS\n",
      "2022-09-29 18:52:54,857 INFO Sending request to https://cds.climate.copernicus.eu/api/v2/resources/reanalysis-era5-single-levels\n",
      "2022-09-29 18:52:55,125 INFO Request is queued\n",
      "2022-09-29 18:52:56,368 INFO Request is running\n",
      "2022-09-29 18:53:09,541 INFO Request is completed\n",
      "2022-09-29 18:53:09,542 INFO Downloading https://download-0009-clone.copernicus-climate.eu/cache-compute-0009/cache/data7/adaptor.mars.internal-1664448784.8025079-23996-13-fc0453e2-d17d-481a-a86c-12622c6cf5fa.nc to g:/ERA5_SST/ERA5_SST_201211.nc (59.5M)\n",
      "2022-09-29 18:54:21,038 INFO Download rate 852.1K/s                                                                    \n"
     ]
    },
    {
     "name": "stdout",
     "output_type": "stream",
     "text": [
      "用时87.3633804321289\n"
     ]
    },
    {
     "name": "stderr",
     "output_type": "stream",
     "text": [
      "2022-09-29 18:54:22,221 INFO Welcome to the CDS\n",
      "2022-09-29 18:54:22,222 INFO Sending request to https://cds.climate.copernicus.eu/api/v2/resources/reanalysis-era5-single-levels\n",
      "2022-09-29 18:54:22,477 INFO Request is queued\n",
      "2022-09-29 18:54:23,725 INFO Request is running\n",
      "2022-09-29 18:54:36,912 INFO Request is completed\n",
      "2022-09-29 18:54:36,913 INFO Downloading https://download-0002-clone.copernicus-climate.eu/cache-compute-0002/cache/data8/adaptor.mars.internal-1664448872.7119937-22775-8-d3847339-b639-4a73-90f8-6c12b825f628.nc to g:/ERA5_SST/ERA5_SST_201212.nc (61.5M)\n",
      "2022-09-29 18:56:16,483 INFO Download rate 632.3K/s                                                                    \n"
     ]
    },
    {
     "name": "stdout",
     "output_type": "stream",
     "text": [
      "用时115.56756091117859\n"
     ]
    },
    {
     "name": "stderr",
     "output_type": "stream",
     "text": [
      "2022-09-29 18:56:17,816 INFO Welcome to the CDS\n",
      "2022-09-29 18:56:17,818 INFO Sending request to https://cds.climate.copernicus.eu/api/v2/resources/reanalysis-era5-single-levels\n",
      "2022-09-29 18:56:18,146 INFO Request is queued\n",
      "2022-09-29 18:56:19,428 INFO Request is running\n",
      "2022-09-29 18:56:32,724 INFO Request is completed\n",
      "2022-09-29 18:56:32,725 INFO Downloading https://download-0009-clone.copernicus-climate.eu/cache-compute-0009/cache/data1/adaptor.mars.internal-1664448989.5643034-24167-14-a0d5a447-906c-40ce-a025-0da28bf395f7.nc to g:/ERA5_SST/ERA5_SST_201301.nc (61.5M)\n",
      "2022-09-29 18:57:27,086 INFO Download rate 1.1M/s                                                                      \n"
     ]
    },
    {
     "name": "stdout",
     "output_type": "stream",
     "text": [
      "用时69.80116891860962\n"
     ]
    },
    {
     "name": "stderr",
     "output_type": "stream",
     "text": [
      "2022-09-29 18:57:27,622 INFO Welcome to the CDS\n",
      "2022-09-29 18:57:27,623 INFO Sending request to https://cds.climate.copernicus.eu/api/v2/resources/reanalysis-era5-single-levels\n",
      "2022-09-29 18:57:27,894 INFO Request is queued\n",
      "2022-09-29 18:57:29,177 INFO Request is running\n",
      "2022-09-29 18:57:42,440 INFO Request is completed\n",
      "2022-09-29 18:57:42,442 INFO Downloading https://download-0014-clone.copernicus-climate.eu/cache-compute-0014/cache/data5/adaptor.mars.internal-1664449058.0279398-13533-12-5ae4befd-1494-43af-8db4-63aedd910fc1.nc to g:/ERA5_SST/ERA5_SST_201302.nc (55.5M)\n",
      "2022-09-29 18:57:56,288 INFO Download rate 4M/s                                                                        \n"
     ]
    },
    {
     "name": "stdout",
     "output_type": "stream",
     "text": [
      "用时29.19819712638855\n"
     ]
    },
    {
     "name": "stderr",
     "output_type": "stream",
     "text": [
      "2022-09-29 18:57:56,820 INFO Welcome to the CDS\n",
      "2022-09-29 18:57:56,822 INFO Sending request to https://cds.climate.copernicus.eu/api/v2/resources/reanalysis-era5-single-levels\n",
      "2022-09-29 18:57:57,098 INFO Request is queued\n",
      "2022-09-29 18:57:58,366 INFO Request is running\n",
      "2022-09-29 18:58:11,650 INFO Request is completed\n",
      "2022-09-29 18:58:11,651 INFO Downloading https://download-0012-clone.copernicus-climate.eu/cache-compute-0012/cache/data3/adaptor.mars.internal-1664449088.0609815-21217-6-4ca27c54-de82-42b9-b3ba-0a12bf53e3be.nc to g:/ERA5_SST/ERA5_SST_201303.nc (61.5M)\n",
      "2022-09-29 18:58:55,096 INFO Download rate 1.4M/s                                                                      \n"
     ]
    },
    {
     "name": "stdout",
     "output_type": "stream",
     "text": [
      "用时58.81078362464905\n"
     ]
    },
    {
     "name": "stderr",
     "output_type": "stream",
     "text": [
      "2022-09-29 18:58:55,632 INFO Welcome to the CDS\n",
      "2022-09-29 18:58:55,633 INFO Sending request to https://cds.climate.copernicus.eu/api/v2/resources/reanalysis-era5-single-levels\n",
      "2022-09-29 18:58:55,919 INFO Request is queued\n",
      "2022-09-29 18:58:57,201 INFO Request is running\n",
      "2022-09-29 18:59:10,486 INFO Request is completed\n",
      "2022-09-29 18:59:10,489 INFO Downloading https://download-0014-clone.copernicus-climate.eu/cache-compute-0014/cache/data1/adaptor.mars.internal-1664449146.48238-22422-1-6405ee00-d125-4482-83be-8c9fb6adf9a6.nc to g:/ERA5_SST/ERA5_SST_201304.nc (59.5M)\n",
      "2022-09-29 18:59:57,531 INFO Download rate 1.3M/s                                                                      \n"
     ]
    },
    {
     "name": "stdout",
     "output_type": "stream",
     "text": [
      "用时62.43306565284729\n"
     ]
    },
    {
     "name": "stderr",
     "output_type": "stream",
     "text": [
      "2022-09-29 18:59:58,066 INFO Welcome to the CDS\n",
      "2022-09-29 18:59:58,068 INFO Sending request to https://cds.climate.copernicus.eu/api/v2/resources/reanalysis-era5-single-levels\n",
      "2022-09-29 18:59:58,369 INFO Request is queued\n",
      "2022-09-29 18:59:59,641 INFO Request is running\n",
      "2022-09-29 19:00:12,922 INFO Request is completed\n",
      "2022-09-29 19:00:12,925 INFO Downloading https://download-0006-clone.copernicus-climate.eu/cache-compute-0006/cache/data5/adaptor.mars.internal-1664449209.0780587-4070-1-43a90616-6c8c-4fe4-98a1-0e6361c6e190.nc to g:/ERA5_SST/ERA5_SST_201305.nc (61.5M)\n",
      "2022-09-29 19:00:36,344 INFO Download rate 2.6M/s                                                                      \n"
     ]
    },
    {
     "name": "stdout",
     "output_type": "stream",
     "text": [
      "用时39.31028628349304\n"
     ]
    },
    {
     "name": "stderr",
     "output_type": "stream",
     "text": [
      "2022-09-29 19:00:37,380 INFO Welcome to the CDS\n",
      "2022-09-29 19:00:37,382 INFO Sending request to https://cds.climate.copernicus.eu/api/v2/resources/reanalysis-era5-single-levels\n",
      "2022-09-29 19:00:37,643 INFO Request is queued\n",
      "2022-09-29 19:00:38,911 INFO Request is running\n",
      "2022-09-29 19:00:52,196 INFO Request is completed\n",
      "2022-09-29 19:00:52,198 INFO Downloading https://download-0012-clone.copernicus-climate.eu/cache-compute-0012/cache/data8/adaptor.mars.internal-1664449247.9763486-24869-2-a35491aa-864d-4622-945f-2d384f608f42.nc to g:/ERA5_SST/ERA5_SST_201306.nc (59.5M)\n",
      "2022-09-29 19:01:46,473 INFO Download rate 1.1M/s                                                                      \n"
     ]
    },
    {
     "name": "stdout",
     "output_type": "stream",
     "text": [
      "用时69.63311648368835\n"
     ]
    },
    {
     "name": "stderr",
     "output_type": "stream",
     "text": [
      "2022-09-29 19:01:47,015 INFO Welcome to the CDS\n",
      "2022-09-29 19:01:47,017 INFO Sending request to https://cds.climate.copernicus.eu/api/v2/resources/reanalysis-era5-single-levels\n",
      "2022-09-29 19:01:47,306 INFO Request is queued\n",
      "2022-09-29 19:01:48,576 INFO Request is running\n",
      "2022-09-29 19:02:01,870 INFO Request is completed\n",
      "2022-09-29 19:02:01,873 INFO Downloading https://download-0003-clone.copernicus-climate.eu/cache-compute-0003/cache/data7/adaptor.mars.internal-1664449317.2381258-1423-1-e1f3ee2b-75dc-4746-9ae8-8a02ba1eb0e7.nc to g:/ERA5_SST/ERA5_SST_201307.nc (61.5M)\n",
      "2022-09-29 19:03:05,502 INFO Download rate 989.4K/s                                                                    \n"
     ]
    },
    {
     "name": "stdout",
     "output_type": "stream",
     "text": [
      "用时79.03291726112366\n"
     ]
    },
    {
     "name": "stderr",
     "output_type": "stream",
     "text": [
      "2022-09-29 19:03:06,045 INFO Welcome to the CDS\n",
      "2022-09-29 19:03:06,047 INFO Sending request to https://cds.climate.copernicus.eu/api/v2/resources/reanalysis-era5-single-levels\n",
      "2022-09-29 19:03:06,324 INFO Request is queued\n",
      "2022-09-29 19:03:07,596 INFO Request is running\n",
      "2022-09-29 19:03:20,893 INFO Request is completed\n",
      "2022-09-29 19:03:20,896 INFO Downloading https://download-0002-clone.copernicus-climate.eu/cache-compute-0002/cache/data4/adaptor.mars.internal-1664449397.2407575-26940-4-ca4df9f0-d509-4406-8e10-9f069312acf3.nc to g:/ERA5_SST/ERA5_SST_201308.nc (61.5M)\n",
      "2022-09-29 19:03:48,585 INFO Download rate 2.2M/s                                                                      \n"
     ]
    },
    {
     "name": "stdout",
     "output_type": "stream",
     "text": [
      "用时43.073843479156494\n"
     ]
    },
    {
     "name": "stderr",
     "output_type": "stream",
     "text": [
      "2022-09-29 19:03:49,121 INFO Welcome to the CDS\n",
      "2022-09-29 19:03:49,122 INFO Sending request to https://cds.climate.copernicus.eu/api/v2/resources/reanalysis-era5-single-levels\n",
      "2022-09-29 19:03:49,430 INFO Request is queued\n",
      "2022-09-29 19:03:50,710 INFO Request is running\n",
      "2022-09-29 19:04:03,984 INFO Request is completed\n",
      "2022-09-29 19:04:03,987 INFO Downloading https://download-0018.copernicus-climate.eu/cache-compute-0018/cache/data3/adaptor.mars.internal-1664449439.3095343-22423-3-1e66fde5-2cb0-40eb-8fcf-a99fa076b6d5.nc to g:/ERA5_SST/ERA5_SST_201309.nc (59.5M)\n",
      "2022-09-29 19:04:40,749 INFO Download rate 1.6M/s                                                                      \n"
     ]
    },
    {
     "name": "stdout",
     "output_type": "stream",
     "text": [
      "用时52.16479277610779\n"
     ]
    },
    {
     "name": "stderr",
     "output_type": "stream",
     "text": [
      "2022-09-29 19:04:41,287 INFO Welcome to the CDS\n",
      "2022-09-29 19:04:41,289 INFO Sending request to https://cds.climate.copernicus.eu/api/v2/resources/reanalysis-era5-single-levels\n",
      "2022-09-29 19:04:41,577 INFO Request is queued\n",
      "2022-09-29 19:04:43,350 INFO Request is running\n",
      "2022-09-29 19:04:57,107 INFO Request is completed\n",
      "2022-09-29 19:04:57,108 INFO Downloading https://download-0001-clone.copernicus-climate.eu/cache-compute-0001/cache/data5/adaptor.mars.internal-1664449492.4951396-9678-3-b4a1a515-197d-4875-a29e-12cd46a104dc.nc to g:/ERA5_SST/ERA5_SST_201310.nc (61.5M)\n",
      "2022-09-29 19:05:26,253 INFO Download rate 2.1M/s                                                                      \n"
     ]
    },
    {
     "name": "stdout",
     "output_type": "stream",
     "text": [
      "用时45.486315965652466\n"
     ]
    },
    {
     "name": "stderr",
     "output_type": "stream",
     "text": [
      "2022-09-29 19:05:26,761 INFO Welcome to the CDS\n",
      "2022-09-29 19:05:26,763 INFO Sending request to https://cds.climate.copernicus.eu/api/v2/resources/reanalysis-era5-single-levels\n",
      "2022-09-29 19:05:27,028 INFO Request is queued\n",
      "2022-09-29 19:05:28,296 INFO Request is running\n",
      "2022-09-29 19:05:41,531 INFO Request is completed\n",
      "2022-09-29 19:05:41,533 INFO Downloading https://download-0003-clone.copernicus-climate.eu/cache-compute-0003/cache/data9/adaptor.mars.internal-1664449536.8332887-26087-8-9daac960-9d0f-49fb-ad5b-2de5819f9c40.nc to g:/ERA5_SST/ERA5_SST_201311.nc (59.5M)\n",
      "2022-09-29 19:06:13,750 INFO Download rate 1.8M/s                                                                      \n"
     ]
    },
    {
     "name": "stdout",
     "output_type": "stream",
     "text": [
      "用时47.49417567253113\n"
     ]
    },
    {
     "name": "stderr",
     "output_type": "stream",
     "text": [
      "2022-09-29 19:06:14,253 INFO Welcome to the CDS\n",
      "2022-09-29 19:06:14,255 INFO Sending request to https://cds.climate.copernicus.eu/api/v2/resources/reanalysis-era5-single-levels\n",
      "2022-09-29 19:06:14,546 INFO Request is queued\n",
      "2022-09-29 19:06:15,809 INFO Request is running\n",
      "2022-09-29 19:06:29,055 INFO Request is completed\n",
      "2022-09-29 19:06:29,057 INFO Downloading https://download-0005-clone.copernicus-climate.eu/cache-compute-0005/cache/data2/adaptor.mars.internal-1664449584.3670814-6279-4-e61331ae-6ae8-4498-b8ee-909247e3f3e7.nc to g:/ERA5_SST/ERA5_SST_201312.nc (61.5M)\n",
      "2022-09-29 19:07:13,512 INFO Download rate 1.4M/s                                                                      \n"
     ]
    },
    {
     "name": "stdout",
     "output_type": "stream",
     "text": [
      "用时59.77162432670593\n"
     ]
    },
    {
     "name": "stderr",
     "output_type": "stream",
     "text": [
      "2022-09-29 19:07:14,025 INFO Welcome to the CDS\n",
      "2022-09-29 19:07:14,026 INFO Sending request to https://cds.climate.copernicus.eu/api/v2/resources/reanalysis-era5-single-levels\n",
      "2022-09-29 19:07:14,283 INFO Request is queued\n",
      "2022-09-29 19:07:15,545 INFO Request is running\n",
      "2022-09-29 19:07:29,566 INFO Request is completed\n",
      "2022-09-29 19:07:29,567 INFO Downloading https://download-0002-clone.copernicus-climate.eu/cache-compute-0002/cache/data7/adaptor.mars.internal-1664449647.2101078-3094-13-1f471273-e104-4d33-96fa-76e9f22def42.nc to g:/ERA5_SST/ERA5_SST_201401.nc (61.5M)\n",
      "2022-09-29 19:08:12,597 INFO Download rate 1.4M/s                                                                      \n"
     ]
    },
    {
     "name": "stdout",
     "output_type": "stream",
     "text": [
      "用时59.082250356674194\n"
     ]
    },
    {
     "name": "stderr",
     "output_type": "stream",
     "text": [
      "2022-09-29 19:08:13,115 INFO Welcome to the CDS\n",
      "2022-09-29 19:08:13,116 INFO Sending request to https://cds.climate.copernicus.eu/api/v2/resources/reanalysis-era5-single-levels\n",
      "2022-09-29 19:08:13,386 INFO Request is queued\n",
      "2022-09-29 19:08:14,644 INFO Request is running\n",
      "2022-09-29 19:08:27,870 INFO Request is completed\n",
      "2022-09-29 19:08:27,872 INFO Downloading https://download-0005-clone.copernicus-climate.eu/cache-compute-0005/cache/data4/adaptor.mars.internal-1664449702.7905312-22845-16-d2beb227-b2b9-47f7-bf22-97891c62ebc9.nc to g:/ERA5_SST/ERA5_SST_201402.nc (55.5M)\n",
      "2022-09-29 19:09:10,819 INFO Download rate 1.3M/s                                                                      \n"
     ]
    },
    {
     "name": "stdout",
     "output_type": "stream",
     "text": [
      "用时58.22141456604004\n"
     ]
    },
    {
     "name": "stderr",
     "output_type": "stream",
     "text": [
      "2022-09-29 19:09:11,334 INFO Welcome to the CDS\n",
      "2022-09-29 19:09:11,335 INFO Sending request to https://cds.climate.copernicus.eu/api/v2/resources/reanalysis-era5-single-levels\n",
      "2022-09-29 19:09:11,605 INFO Request is queued\n",
      "2022-09-29 19:09:12,875 INFO Request is running\n",
      "2022-09-29 19:09:26,140 INFO Request is completed\n",
      "2022-09-29 19:09:26,143 INFO Downloading https://download-0000-clone.copernicus-climate.eu/cache-compute-0000/cache/data8/adaptor.mars.internal-1664449762.0123932-30825-1-68c0a441-2b01-4ec8-91ea-bed0050f9145.nc to g:/ERA5_SST/ERA5_SST_201403.nc (61.5M)\n",
      "2022-09-29 19:10:07,429 INFO Download rate 1.5M/s                                                                      \n"
     ]
    },
    {
     "name": "stdout",
     "output_type": "stream",
     "text": [
      "用时56.61193323135376\n"
     ]
    },
    {
     "name": "stderr",
     "output_type": "stream",
     "text": [
      "2022-09-29 19:10:07,951 INFO Welcome to the CDS\n",
      "2022-09-29 19:10:07,953 INFO Sending request to https://cds.climate.copernicus.eu/api/v2/resources/reanalysis-era5-single-levels\n",
      "2022-09-29 19:10:08,243 INFO Request is queued\n",
      "2022-09-29 19:10:09,516 INFO Request is running\n",
      "2022-09-29 19:10:22,791 INFO Request is completed\n",
      "2022-09-29 19:10:22,793 INFO Downloading https://download-0011-clone.copernicus-climate.eu/cache-compute-0011/cache/data8/adaptor.mars.internal-1664449817.6589205-26816-5-7111fee6-cdc7-400a-b307-434456af13e0.nc to g:/ERA5_SST/ERA5_SST_201404.nc (59.5M)\n",
      "2022-09-29 19:11:10,183 INFO Download rate 1.3M/s                                                                      \n"
     ]
    },
    {
     "name": "stdout",
     "output_type": "stream",
     "text": [
      "用时62.75162434577942\n"
     ]
    },
    {
     "name": "stderr",
     "output_type": "stream",
     "text": [
      "2022-09-29 19:11:10,703 INFO Welcome to the CDS\n",
      "2022-09-29 19:11:10,703 INFO Sending request to https://cds.climate.copernicus.eu/api/v2/resources/reanalysis-era5-single-levels\n",
      "2022-09-29 19:11:10,970 INFO Request is queued\n",
      "2022-09-29 19:11:12,238 INFO Request is running\n",
      "2022-09-29 19:11:25,485 INFO Request is completed\n",
      "2022-09-29 19:11:25,486 INFO Downloading https://download-0010-clone.copernicus-climate.eu/cache-compute-0010/cache/data7/adaptor.mars.internal-1664449881.3384805-28316-5-c3cc9acc-36d4-4de4-b3f0-21b301f13313.nc to g:/ERA5_SST/ERA5_SST_201405.nc (61.5M)\n",
      "2022-09-29 19:11:50,672 INFO Download rate 2.4M/s                                                                      \n"
     ]
    },
    {
     "name": "stdout",
     "output_type": "stream",
     "text": [
      "用时40.50859451293945\n"
     ]
    },
    {
     "name": "stderr",
     "output_type": "stream",
     "text": [
      "2022-09-29 19:11:51,215 INFO Welcome to the CDS\n",
      "2022-09-29 19:11:51,217 INFO Sending request to https://cds.climate.copernicus.eu/api/v2/resources/reanalysis-era5-single-levels\n",
      "2022-09-29 19:11:51,488 INFO Request is queued\n",
      "2022-09-29 19:11:52,762 INFO Request is running\n",
      "2022-09-29 19:12:06,013 INFO Request is completed\n",
      "2022-09-29 19:12:06,015 INFO Downloading https://download-0008-clone.copernicus-climate.eu/cache-compute-0008/cache/data6/adaptor.mars.internal-1664449921.8598502-6123-6-a97606da-9da5-4b3c-8eb3-94b4a593dadb.nc to g:/ERA5_SST/ERA5_SST_201406.nc (59.5M)\n",
      "2022-09-29 19:12:55,235 INFO Download rate 1.2M/s                                                                      \n"
     ]
    },
    {
     "name": "stdout",
     "output_type": "stream",
     "text": [
      "用时64.54323816299438\n"
     ]
    },
    {
     "name": "stderr",
     "output_type": "stream",
     "text": [
      "2022-09-29 19:12:55,758 INFO Welcome to the CDS\n",
      "2022-09-29 19:12:55,759 INFO Sending request to https://cds.climate.copernicus.eu/api/v2/resources/reanalysis-era5-single-levels\n",
      "2022-09-29 19:12:56,060 INFO Request is queued\n",
      "2022-09-29 19:12:57,334 INFO Request is running\n",
      "2022-09-29 19:13:10,610 INFO Request is completed\n",
      "2022-09-29 19:13:10,611 INFO Downloading https://download-0003-clone.copernicus-climate.eu/cache-compute-0003/cache/data9/adaptor.mars.internal-1664449986.1274846-4692-2-805878dc-43fc-49ed-955b-e6e49e44a441.nc to g:/ERA5_SST/ERA5_SST_201407.nc (61.5M)\n",
      "2022-09-29 19:14:00,348 INFO Download rate 1.2M/s                                                                      \n"
     ]
    },
    {
     "name": "stdout",
     "output_type": "stream",
     "text": [
      "用时65.11016750335693\n"
     ]
    },
    {
     "name": "stderr",
     "output_type": "stream",
     "text": [
      "2022-09-29 19:14:00,869 INFO Welcome to the CDS\n",
      "2022-09-29 19:14:00,870 INFO Sending request to https://cds.climate.copernicus.eu/api/v2/resources/reanalysis-era5-single-levels\n",
      "2022-09-29 19:14:01,137 INFO Request is queued\n",
      "2022-09-29 19:14:02,408 INFO Request is running\n",
      "2022-09-29 19:14:15,754 INFO Request is completed\n",
      "2022-09-29 19:14:15,755 INFO Downloading https://download-0015-clone.copernicus-climate.eu/cache-compute-0015/cache/data1/adaptor.mars.internal-1664450051.0697508-9491-3-8ff45823-c106-4ca9-af69-26df54b7b503.nc to g:/ERA5_SST/ERA5_SST_201408.nc (61.5M)\n",
      "2022-09-29 19:15:08,840 INFO Download rate 1.2M/s                                                                      \n"
     ]
    },
    {
     "name": "stdout",
     "output_type": "stream",
     "text": [
      "用时68.49201965332031\n"
     ]
    },
    {
     "name": "stderr",
     "output_type": "stream",
     "text": [
      "2022-09-29 19:15:09,364 INFO Welcome to the CDS\n",
      "2022-09-29 19:15:09,366 INFO Sending request to https://cds.climate.copernicus.eu/api/v2/resources/reanalysis-era5-single-levels\n",
      "2022-09-29 19:15:09,646 INFO Request is queued\n",
      "2022-09-29 19:15:10,917 INFO Request is running\n",
      "2022-09-29 19:15:24,190 INFO Request is completed\n",
      "2022-09-29 19:15:24,193 INFO Downloading https://download-0003-clone.copernicus-climate.eu/cache-compute-0003/cache/data7/adaptor.mars.internal-1664450119.279298-31328-7-992eff0e-c239-44b6-9336-b6c60af92ce3.nc to g:/ERA5_SST/ERA5_SST_201409.nc (59.5M)\n",
      "2022-09-29 19:16:18,981 INFO Download rate 1.1M/s                                                                      \n"
     ]
    },
    {
     "name": "stdout",
     "output_type": "stream",
     "text": [
      "用时70.14009356498718\n"
     ]
    },
    {
     "name": "stderr",
     "output_type": "stream",
     "text": [
      "2022-09-29 19:16:19,502 INFO Welcome to the CDS\n",
      "2022-09-29 19:16:19,504 INFO Sending request to https://cds.climate.copernicus.eu/api/v2/resources/reanalysis-era5-single-levels\n",
      "2022-09-29 19:16:19,774 INFO Request is queued\n",
      "2022-09-29 19:16:21,054 INFO Request is running\n",
      "2022-09-29 19:16:34,313 INFO Request is completed\n",
      "2022-09-29 19:16:34,314 INFO Downloading https://download-0011-clone.copernicus-climate.eu/cache-compute-0011/cache/data2/adaptor.mars.internal-1664450188.4818983-29339-7-5ca1891f-23ae-40e4-b661-8684902bfa83.nc to g:/ERA5_SST/ERA5_SST_201410.nc (61.5M)\n",
      "2022-09-29 19:17:48,486 INFO Download rate 848.8K/s                                                                    \n"
     ]
    },
    {
     "name": "stdout",
     "output_type": "stream",
     "text": [
      "用时90.15394425392151\n"
     ]
    },
    {
     "name": "stderr",
     "output_type": "stream",
     "text": [
      "2022-09-29 19:17:49,623 INFO Welcome to the CDS\n",
      "2022-09-29 19:17:49,624 INFO Sending request to https://cds.climate.copernicus.eu/api/v2/resources/reanalysis-era5-single-levels\n",
      "2022-09-29 19:17:49,868 INFO Request is queued\n",
      "2022-09-29 19:17:51,101 INFO Request is running\n",
      "2022-09-29 19:18:04,242 INFO Request is completed\n",
      "2022-09-29 19:18:04,243 INFO Downloading https://download-0012-clone.copernicus-climate.eu/cache-compute-0012/cache/data9/adaptor.mars.internal-1664450279.7581134-602-4-1f66100f-93fc-41b6-beaa-6c8afbf8128c.nc to g:/ERA5_SST/ERA5_SST_201411.nc (59.5M)\n",
      "2022-09-29 19:19:26,446 INFO Download rate 741.1K/s                                                                    \n"
     ]
    },
    {
     "name": "stdout",
     "output_type": "stream",
     "text": [
      "用时98.08610200881958\n"
     ]
    },
    {
     "name": "stderr",
     "output_type": "stream",
     "text": [
      "2022-09-29 19:19:27,739 INFO Welcome to the CDS\n",
      "2022-09-29 19:19:27,740 INFO Sending request to https://cds.climate.copernicus.eu/api/v2/resources/reanalysis-era5-single-levels\n",
      "2022-09-29 19:19:28,033 INFO Request is queued\n",
      "2022-09-29 19:19:29,290 INFO Request is running\n",
      "2022-09-29 19:19:42,542 INFO Request is completed\n",
      "2022-09-29 19:19:42,545 INFO Downloading https://download-0000-clone.copernicus-climate.eu/cache-compute-0000/cache/data4/adaptor.mars.internal-1664450377.2636445-30692-5-cedb3684-6eeb-4cbe-9c2d-a24c80a9482b.nc to g:/ERA5_SST/ERA5_SST_201412.nc (61.5M)\n",
      "2022-09-29 19:20:25,129 INFO Download rate 1.4M/s                                                                      \n"
     ]
    },
    {
     "name": "stdout",
     "output_type": "stream",
     "text": [
      "用时57.903335094451904\n"
     ]
    },
    {
     "name": "stderr",
     "output_type": "stream",
     "text": [
      "2022-09-29 19:20:25,645 INFO Welcome to the CDS\n",
      "2022-09-29 19:20:25,646 INFO Sending request to https://cds.climate.copernicus.eu/api/v2/resources/reanalysis-era5-single-levels\n",
      "2022-09-29 19:20:25,944 INFO Request is queued\n",
      "2022-09-29 19:20:27,210 INFO Request is running\n",
      "2022-09-29 19:20:40,466 INFO Request is completed\n",
      "2022-09-29 19:20:40,469 INFO Downloading https://download-0014-clone.copernicus-climate.eu/cache-compute-0014/cache/data8/adaptor.mars.internal-1664450435.9571059-22709-11-5d99e304-334d-4ee8-84b6-1908b62f0a29.nc to g:/ERA5_SST/ERA5_SST_201501.nc (61.5M)\n",
      "2022-09-29 19:21:42,837 INFO Download rate 1009.4K/s                                                                   \n"
     ]
    },
    {
     "name": "stdout",
     "output_type": "stream",
     "text": [
      "用时77.70602655410767\n"
     ]
    },
    {
     "name": "stderr",
     "output_type": "stream",
     "text": [
      "2022-09-29 19:21:43,350 INFO Welcome to the CDS\n",
      "2022-09-29 19:21:43,353 INFO Sending request to https://cds.climate.copernicus.eu/api/v2/resources/reanalysis-era5-single-levels\n",
      "2022-09-29 19:21:43,708 INFO Request is queued\n",
      "2022-09-29 19:21:44,967 INFO Request is running\n",
      "2022-09-29 19:21:58,201 INFO Request is completed\n",
      "2022-09-29 19:21:58,202 INFO Downloading https://download-0001-clone.copernicus-climate.eu/cache-compute-0001/cache/data4/adaptor.mars.internal-1664450514.260209-17895-5-984dc3ad-6e8e-4bf2-b4c1-689e9d3c3f44.nc to g:/ERA5_SST/ERA5_SST_201502.nc (55.5M)\n",
      "2022-09-29 19:22:25,370 INFO Download rate 2M/s                                                                        \n"
     ]
    },
    {
     "name": "stdout",
     "output_type": "stream",
     "text": [
      "用时42.531407594680786\n"
     ]
    },
    {
     "name": "stderr",
     "output_type": "stream",
     "text": [
      "2022-09-29 19:22:25,886 INFO Welcome to the CDS\n",
      "2022-09-29 19:22:25,888 INFO Sending request to https://cds.climate.copernicus.eu/api/v2/resources/reanalysis-era5-single-levels\n",
      "2022-09-29 19:22:26,157 INFO Request is queued\n",
      "2022-09-29 19:22:27,428 INFO Request is running\n",
      "2022-09-29 19:22:40,667 INFO Request is completed\n",
      "2022-09-29 19:22:40,668 INFO Downloading https://download-0019.copernicus-climate.eu/cache-compute-0019/cache/data8/adaptor.mars.internal-1664450556.1038291-29226-16-ff4726c6-9a7a-42a7-b473-6d7eabc2aaba.nc to g:/ERA5_SST/ERA5_SST_201503.nc (61.5M)\n",
      "2022-09-29 19:23:28,772 INFO Download rate 1.3M/s                                                                      \n"
     ]
    },
    {
     "name": "stdout",
     "output_type": "stream",
     "text": [
      "用时63.405357122421265\n"
     ]
    },
    {
     "name": "stderr",
     "output_type": "stream",
     "text": [
      "2022-09-29 19:23:29,291 INFO Welcome to the CDS\n",
      "2022-09-29 19:23:29,291 INFO Sending request to https://cds.climate.copernicus.eu/api/v2/resources/reanalysis-era5-single-levels\n",
      "2022-09-29 19:23:29,564 INFO Request is queued\n",
      "2022-09-29 19:23:30,822 INFO Request is running\n",
      "2022-09-29 19:23:44,063 INFO Request is completed\n",
      "2022-09-29 19:23:44,065 INFO Downloading https://download-0018.copernicus-climate.eu/cache-compute-0018/cache/data8/adaptor.mars.internal-1664450620.0703177-22548-11-61b1103a-c038-4020-8ce4-62d6e1c2f540.nc to g:/ERA5_SST/ERA5_SST_201504.nc (59.5M)\n",
      "2022-09-29 19:25:11,665 INFO Download rate 695.5K/s                                                                    \n"
     ]
    },
    {
     "name": "stdout",
     "output_type": "stream",
     "text": [
      "用时103.6360239982605\n"
     ]
    },
    {
     "name": "stderr",
     "output_type": "stream",
     "text": [
      "2022-09-29 19:25:12,924 INFO Welcome to the CDS\n",
      "2022-09-29 19:25:12,924 INFO Sending request to https://cds.climate.copernicus.eu/api/v2/resources/reanalysis-era5-single-levels\n",
      "2022-09-29 19:25:13,255 INFO Request is queued\n",
      "2022-09-29 19:25:14,523 INFO Request is running\n",
      "2022-09-29 19:25:27,771 INFO Request is completed\n",
      "2022-09-29 19:25:27,772 INFO Downloading https://download-0015-clone.copernicus-climate.eu/cache-compute-0015/cache/data5/adaptor.mars.internal-1664450723.5835786-4049-8-e012781f-79ce-4829-b8a2-0deff8a70c41.nc to g:/ERA5_SST/ERA5_SST_201505.nc (61.5M)\n",
      "2022-09-29 19:26:21,697 INFO Download rate 1.1M/s                                                                      \n"
     ]
    },
    {
     "name": "stdout",
     "output_type": "stream",
     "text": [
      "用时69.2769067287445\n"
     ]
    },
    {
     "name": "stderr",
     "output_type": "stream",
     "text": [
      "2022-09-29 19:26:22,198 INFO Welcome to the CDS\n",
      "2022-09-29 19:26:22,199 INFO Sending request to https://cds.climate.copernicus.eu/api/v2/resources/reanalysis-era5-single-levels\n",
      "2022-09-29 19:26:22,512 INFO Request is queued\n",
      "2022-09-29 19:26:23,766 INFO Request is running\n",
      "2022-09-29 19:26:37,003 INFO Request is completed\n",
      "2022-09-29 19:26:37,005 INFO Downloading https://download-0001-clone.copernicus-climate.eu/cache-compute-0001/cache/data0/adaptor.mars.internal-1664450793.4715977-9764-11-e65902a9-9cf5-4865-98ba-8f856d62c2d7.nc to g:/ERA5_SST/ERA5_SST_201506.nc (59.5M)\n",
      "2022-09-29 19:28:01,269 INFO Download rate 723K/s                                                                      \n"
     ]
    },
    {
     "name": "stdout",
     "output_type": "stream",
     "text": [
      "用时100.24546813964844\n"
     ]
    },
    {
     "name": "stderr",
     "output_type": "stream",
     "text": [
      "2022-09-29 19:28:02,430 INFO Welcome to the CDS\n",
      "2022-09-29 19:28:02,432 INFO Sending request to https://cds.climate.copernicus.eu/api/v2/resources/reanalysis-era5-single-levels\n",
      "2022-09-29 19:28:02,717 INFO Request is queued\n",
      "2022-09-29 19:28:03,955 INFO Request is running\n",
      "2022-09-29 19:28:17,094 INFO Request is completed\n",
      "2022-09-29 19:28:17,097 INFO Downloading https://download-0009-clone.copernicus-climate.eu/cache-compute-0009/cache/data0/adaptor.mars.internal-1664450893.2699034-12605-12-a406ebbb-1f18-4a25-92e9-246ca3bd73b9.nc to g:/ERA5_SST/ERA5_SST_201507.nc (61.5M)\n",
      "2022-09-29 19:29:26,575 INFO Download rate 906.1K/s                                                                    \n"
     ]
    },
    {
     "name": "stdout",
     "output_type": "stream",
     "text": [
      "用时85.41610026359558\n"
     ]
    },
    {
     "name": "stderr",
     "output_type": "stream",
     "text": [
      "2022-09-29 19:29:27,869 INFO Welcome to the CDS\n",
      "2022-09-29 19:29:27,871 INFO Sending request to https://cds.climate.copernicus.eu/api/v2/resources/reanalysis-era5-single-levels\n",
      "2022-09-29 19:29:28,148 INFO Request is queued\n",
      "2022-09-29 19:29:29,415 INFO Request is running\n",
      "2022-09-29 19:29:42,666 INFO Request is completed\n",
      "2022-09-29 19:29:42,667 INFO Downloading https://download-0012-clone.copernicus-climate.eu/cache-compute-0012/cache/data4/adaptor.mars.internal-1664450978.8749695-25582-13-66a77a59-5296-4e3f-abfe-0de239b5495b.nc to g:/ERA5_SST/ERA5_SST_201508.nc (61.5M)\n",
      "2022-09-29 19:30:16,796 INFO Download rate 1.8M/s                                                                      \n"
     ]
    },
    {
     "name": "stdout",
     "output_type": "stream",
     "text": [
      "用时49.44543814659119\n"
     ]
    },
    {
     "name": "stderr",
     "output_type": "stream",
     "text": [
      "2022-09-29 19:30:17,317 INFO Welcome to the CDS\n",
      "2022-09-29 19:30:17,319 INFO Sending request to https://cds.climate.copernicus.eu/api/v2/resources/reanalysis-era5-single-levels\n",
      "2022-09-29 19:30:17,597 INFO Request is queued\n",
      "2022-09-29 19:30:18,876 INFO Request is running\n",
      "2022-09-29 19:30:32,148 INFO Request is completed\n",
      "2022-09-29 19:30:32,149 INFO Downloading https://download-0009-clone.copernicus-climate.eu/cache-compute-0009/cache/data1/adaptor.mars.internal-1664451027.6776283-8133-15-c29841b4-9ac9-407c-b59a-2efcc738e71b.nc to g:/ERA5_SST/ERA5_SST_201509.nc (59.5M)\n",
      "2022-09-29 19:31:24,533 INFO Download rate 1.1M/s                                                                      \n"
     ]
    },
    {
     "name": "stdout",
     "output_type": "stream",
     "text": [
      "用时67.73968648910522\n"
     ]
    },
    {
     "name": "stderr",
     "output_type": "stream",
     "text": [
      "2022-09-29 19:31:25,054 INFO Welcome to the CDS\n",
      "2022-09-29 19:31:25,055 INFO Sending request to https://cds.climate.copernicus.eu/api/v2/resources/reanalysis-era5-single-levels\n",
      "2022-09-29 19:31:25,348 INFO Request is queued\n",
      "2022-09-29 19:31:26,616 INFO Request is running\n",
      "2022-09-29 19:31:39,882 INFO Request is completed\n",
      "2022-09-29 19:31:39,883 INFO Downloading https://download-0000-clone.copernicus-climate.eu/cache-compute-0000/cache/data0/adaptor.mars.internal-1664451095.764344-31146-8-a0e509e2-5441-428f-b5fa-ae74668c5272.nc to g:/ERA5_SST/ERA5_SST_201510.nc (61.5M)\n",
      "2022-09-29 19:32:56,888 INFO Download rate 817.6K/s                                                                    \n"
     ]
    },
    {
     "name": "stdout",
     "output_type": "stream",
     "text": [
      "用时93.1011073589325\n"
     ]
    },
    {
     "name": "stderr",
     "output_type": "stream",
     "text": [
      "2022-09-29 19:32:58,153 INFO Welcome to the CDS\n",
      "2022-09-29 19:32:58,155 INFO Sending request to https://cds.climate.copernicus.eu/api/v2/resources/reanalysis-era5-single-levels\n",
      "2022-09-29 19:32:58,416 INFO Request is queued\n",
      "2022-09-29 19:32:59,679 INFO Request is running\n",
      "2022-09-29 19:33:12,950 INFO Request is completed\n",
      "2022-09-29 19:33:12,953 INFO Downloading https://download-0003-clone.copernicus-climate.eu/cache-compute-0003/cache/data8/adaptor.mars.internal-1664451188.9264448-4609-10-5159d0e8-c788-4d87-ad03-a891fb78927c.nc to g:/ERA5_SST/ERA5_SST_201511.nc (59.5M)\n",
      "2022-09-29 19:34:13,598 INFO Download rate 1004.6K/s                                                                   \n"
     ]
    },
    {
     "name": "stdout",
     "output_type": "stream",
     "text": [
      "用时75.96522164344788\n"
     ]
    },
    {
     "name": "stderr",
     "output_type": "stream",
     "text": [
      "2022-09-29 19:34:14,127 INFO Welcome to the CDS\n",
      "2022-09-29 19:34:14,128 INFO Sending request to https://cds.climate.copernicus.eu/api/v2/resources/reanalysis-era5-single-levels\n",
      "2022-09-29 19:34:14,406 INFO Request is queued\n",
      "2022-09-29 19:34:15,679 INFO Request is running\n",
      "2022-09-29 19:34:28,956 INFO Request is completed\n",
      "2022-09-29 19:34:28,958 INFO Downloading https://download-0015-clone.copernicus-climate.eu/cache-compute-0015/cache/data8/adaptor.mars.internal-1664451264.718252-2670-14-24243395-81bd-4339-9a76-702a880adf3d.nc to g:/ERA5_SST/ERA5_SST_201512.nc (61.5M)\n",
      "2022-09-29 19:35:18,991 INFO Download rate 1.2M/s                                                                      \n"
     ]
    },
    {
     "name": "stdout",
     "output_type": "stream",
     "text": [
      "用时65.39645910263062\n"
     ]
    },
    {
     "name": "stderr",
     "output_type": "stream",
     "text": [
      "2022-09-29 19:35:19,530 INFO Welcome to the CDS\n",
      "2022-09-29 19:35:19,532 INFO Sending request to https://cds.climate.copernicus.eu/api/v2/resources/reanalysis-era5-single-levels\n",
      "2022-09-29 19:35:19,858 INFO Request is queued\n",
      "2022-09-29 19:35:21,146 INFO Request is running\n",
      "2022-09-29 19:35:34,400 INFO Request is completed\n",
      "2022-09-29 19:35:34,401 INFO Downloading https://download-0001-clone.copernicus-climate.eu/cache-compute-0001/cache/data7/adaptor.mars.internal-1664451330.90946-8887-10-c63e5b77-cd70-4fa2-8d4e-2fce770ae66a.nc to g:/ERA5_SST/ERA5_SST_201601.nc (61.5M)\n",
      "2022-09-29 19:36:28,887 INFO Download rate 1.1M/s                                                                      \n"
     ]
    },
    {
     "name": "stdout",
     "output_type": "stream",
     "text": [
      "用时69.85426163673401\n"
     ]
    },
    {
     "name": "stderr",
     "output_type": "stream",
     "text": [
      "2022-09-29 19:36:29,348 INFO Welcome to the CDS\n",
      "2022-09-29 19:36:29,349 INFO Sending request to https://cds.climate.copernicus.eu/api/v2/resources/reanalysis-era5-single-levels\n",
      "2022-09-29 19:36:29,584 INFO Request is queued\n",
      "2022-09-29 19:36:30,826 INFO Request is running\n",
      "2022-09-29 19:36:43,981 INFO Request is completed\n",
      "2022-09-29 19:36:43,982 INFO Downloading https://download-0021.copernicus-climate.eu/cache-compute-0021/cache/data5/adaptor.mars.internal-1664451399.9803479-30904-7-46ca35ae-4753-4afb-82a9-96fab40e8d7f.nc to g:/ERA5_SST/ERA5_SST_201602.nc (57.5M)\n",
      "2022-09-29 19:37:36,362 INFO Download rate 1.1M/s                                                                      \n"
     ]
    },
    {
     "name": "stdout",
     "output_type": "stream",
     "text": [
      "用时67.47895431518555\n"
     ]
    },
    {
     "name": "stderr",
     "output_type": "stream",
     "text": [
      "2022-09-29 19:37:36,831 INFO Welcome to the CDS\n",
      "2022-09-29 19:37:36,832 INFO Sending request to https://cds.climate.copernicus.eu/api/v2/resources/reanalysis-era5-single-levels\n",
      "2022-09-29 19:37:37,093 INFO Request is queued\n",
      "2022-09-29 19:37:38,332 INFO Request is running\n",
      "2022-09-29 19:37:51,482 INFO Request is completed\n",
      "2022-09-29 19:37:51,484 INFO Downloading https://download-0014-clone.copernicus-climate.eu/cache-compute-0014/cache/data3/adaptor.mars.internal-1664451467.2411385-22526-18-0bd6d215-d853-4918-9dd6-4ed294fc0a9f.nc to g:/ERA5_SST/ERA5_SST_201603.nc (61.5M)\n",
      "2022-09-29 19:38:55,613 INFO Download rate 981.7K/s                                                                    \n"
     ]
    },
    {
     "name": "stdout",
     "output_type": "stream",
     "text": [
      "用时79.25321507453918\n"
     ]
    },
    {
     "name": "stderr",
     "output_type": "stream",
     "text": [
      "2022-09-29 19:38:56,084 INFO Welcome to the CDS\n",
      "2022-09-29 19:38:56,085 INFO Sending request to https://cds.climate.copernicus.eu/api/v2/resources/reanalysis-era5-single-levels\n",
      "2022-09-29 19:38:56,374 INFO Request is queued\n",
      "2022-09-29 19:38:57,617 INFO Request is running\n",
      "2022-09-29 19:39:10,774 INFO Request is completed\n",
      "2022-09-29 19:39:10,776 INFO Downloading https://download-0001-clone.copernicus-climate.eu/cache-compute-0001/cache/data2/adaptor.mars.internal-1664451546.57799-9456-14-eec626be-469b-441f-87b4-249a79c6c68a.nc to g:/ERA5_SST/ERA5_SST_201604.nc (59.5M)\n",
      "2022-09-29 19:40:11,224 INFO Download rate 1007.9K/s                                                                   \n"
     ]
    },
    {
     "name": "stdout",
     "output_type": "stream",
     "text": [
      "用时75.60772728919983\n"
     ]
    },
    {
     "name": "stderr",
     "output_type": "stream",
     "text": [
      "2022-09-29 19:40:11,692 INFO Welcome to the CDS\n",
      "2022-09-29 19:40:11,693 INFO Sending request to https://cds.climate.copernicus.eu/api/v2/resources/reanalysis-era5-single-levels\n",
      "2022-09-29 19:40:12,068 INFO Request is queued\n",
      "2022-09-29 19:40:13,306 INFO Request is running\n",
      "2022-09-29 19:40:26,459 INFO Request is completed\n",
      "2022-09-29 19:40:26,460 INFO Downloading https://download-0010-clone.copernicus-climate.eu/cache-compute-0010/cache/data0/adaptor.mars.internal-1664451622.7642365-4761-14-1ccaaab7-1994-4b02-86ac-cde8dad15522.nc to g:/ERA5_SST/ERA5_SST_201605.nc (61.5M)\n",
      "2022-09-29 19:41:24,763 INFO Download rate 1.1M/s                                                                      \n"
     ]
    },
    {
     "name": "stdout",
     "output_type": "stream",
     "text": [
      "用时73.53599667549133\n"
     ]
    },
    {
     "name": "stderr",
     "output_type": "stream",
     "text": [
      "2022-09-29 19:41:25,232 INFO Welcome to the CDS\n",
      "2022-09-29 19:41:25,234 INFO Sending request to https://cds.climate.copernicus.eu/api/v2/resources/reanalysis-era5-single-levels\n",
      "2022-09-29 19:41:25,526 INFO Request is queued\n",
      "2022-09-29 19:41:26,772 INFO Request is running\n",
      "2022-09-29 19:41:39,922 INFO Request is completed\n",
      "2022-09-29 19:41:39,924 INFO Downloading https://download-0000-clone.copernicus-climate.eu/cache-compute-0000/cache/data7/adaptor.mars.internal-1664451696.000507-31110-14-acd01e0d-abfd-4c8a-aef4-c9eb79ca1a91.nc to g:/ERA5_SST/ERA5_SST_201606.nc (59.5M)\n",
      "2022-09-29 19:42:10,126 INFO Download rate 2M/s                                                                        \n"
     ]
    },
    {
     "name": "stdout",
     "output_type": "stream",
     "text": [
      "用时45.36165738105774\n"
     ]
    },
    {
     "name": "stderr",
     "output_type": "stream",
     "text": [
      "2022-09-29 19:42:10,604 INFO Welcome to the CDS\n",
      "2022-09-29 19:42:10,607 INFO Sending request to https://cds.climate.copernicus.eu/api/v2/resources/reanalysis-era5-single-levels\n",
      "2022-09-29 19:42:10,904 INFO Request is queued\n",
      "2022-09-29 19:42:12,148 INFO Request is running\n",
      "2022-09-29 19:42:25,292 INFO Request is completed\n",
      "2022-09-29 19:42:25,293 INFO Downloading https://download-0009-clone.copernicus-climate.eu/cache-compute-0009/cache/data7/adaptor.mars.internal-1664451741.1481252-12543-15-00b4a8c1-fc28-4203-a449-1d8434ebdc80.nc to g:/ERA5_SST/ERA5_SST_201607.nc (61.5M)\n",
      "2022-09-29 19:42:53,138 INFO Download rate 2.2M/s                                                                      \n"
     ]
    },
    {
     "name": "stdout",
     "output_type": "stream",
     "text": [
      "用时43.01167440414429\n"
     ]
    },
    {
     "name": "stderr",
     "output_type": "stream",
     "text": [
      "2022-09-29 19:42:53,607 INFO Welcome to the CDS\n",
      "2022-09-29 19:42:53,608 INFO Sending request to https://cds.climate.copernicus.eu/api/v2/resources/reanalysis-era5-single-levels\n",
      "2022-09-29 19:42:53,873 INFO Request is queued\n",
      "2022-09-29 19:42:55,104 INFO Request is running\n",
      "2022-09-29 19:43:08,244 INFO Request is completed\n",
      "2022-09-29 19:43:08,246 INFO Downloading https://download-0020.copernicus-climate.eu/cache-compute-0020/cache/data6/adaptor.mars.internal-1664451783.8606334-5113-6-1d0f2375-6db3-4400-b172-1c583e9bd4a0.nc to g:/ERA5_SST/ERA5_SST_201608.nc (61.5M)\n",
      "2022-09-29 19:44:06,475 INFO Download rate 1.1M/s                                                                      \n"
     ]
    },
    {
     "name": "stdout",
     "output_type": "stream",
     "text": [
      "用时73.34060192108154\n"
     ]
    },
    {
     "name": "stderr",
     "output_type": "stream",
     "text": [
      "2022-09-29 19:44:06,945 INFO Welcome to the CDS\n",
      "2022-09-29 19:44:06,945 INFO Sending request to https://cds.climate.copernicus.eu/api/v2/resources/reanalysis-era5-single-levels\n",
      "2022-09-29 19:44:07,181 INFO Request is queued\n",
      "2022-09-29 19:44:08,429 INFO Request is running\n",
      "2022-09-29 19:44:21,596 INFO Request is completed\n",
      "2022-09-29 19:44:21,597 INFO Downloading https://download-0017.copernicus-climate.eu/cache-compute-0017/cache/data6/adaptor.mars.internal-1664451857.5556135-17712-15-1968e1f2-f337-4a5e-9b47-4aeebc7deb51.nc to g:/ERA5_SST/ERA5_SST_201609.nc (59.5M)\n",
      "2022-09-29 19:45:32,884 INFO Download rate 854.7K/s                                                                    \n"
     ]
    },
    {
     "name": "stdout",
     "output_type": "stream",
     "text": [
      "用时87.20388841629028\n"
     ]
    },
    {
     "name": "stderr",
     "output_type": "stream",
     "text": [
      "2022-09-29 19:45:34,175 INFO Welcome to the CDS\n",
      "2022-09-29 19:45:34,177 INFO Sending request to https://cds.climate.copernicus.eu/api/v2/resources/reanalysis-era5-single-levels\n",
      "2022-09-29 19:45:34,437 INFO Request is queued\n",
      "2022-09-29 19:45:35,710 INFO Request is running\n",
      "2022-09-29 19:45:48,962 INFO Request is completed\n",
      "2022-09-29 19:45:48,965 INFO Downloading https://download-0006-clone.copernicus-climate.eu/cache-compute-0006/cache/data3/adaptor.mars.internal-1664451945.4591994-9260-16-e5ad1c24-adc7-4731-94fa-276113e39063.nc to g:/ERA5_SST/ERA5_SST_201610.nc (61.5M)\n",
      "2022-09-29 19:46:37,680 INFO Download rate 1.3M/s                                                                      \n"
     ]
    },
    {
     "name": "stdout",
     "output_type": "stream",
     "text": [
      "用时64.01594567298889\n"
     ]
    },
    {
     "name": "stderr",
     "output_type": "stream",
     "text": [
      "2022-09-29 19:46:38,191 INFO Welcome to the CDS\n",
      "2022-09-29 19:46:38,192 INFO Sending request to https://cds.climate.copernicus.eu/api/v2/resources/reanalysis-era5-single-levels\n",
      "2022-09-29 19:46:38,576 INFO Request is queued\n",
      "2022-09-29 19:46:39,845 INFO Request is running\n",
      "2022-09-29 19:46:53,088 INFO Request is completed\n",
      "2022-09-29 19:46:53,090 INFO Downloading https://download-0019.copernicus-climate.eu/cache-compute-0019/cache/data1/adaptor.mars.internal-1664452008.1970503-7003-20-35d473a2-f2cb-458b-aefd-4e74fce55fb8.nc to g:/ERA5_SST/ERA5_SST_201611.nc (59.5M)\n",
      "2022-09-29 19:47:49,743 INFO Download rate 1.1M/s                                                                      \n"
     ]
    },
    {
     "name": "stdout",
     "output_type": "stream",
     "text": [
      "用时72.06852126121521\n"
     ]
    },
    {
     "name": "stderr",
     "output_type": "stream",
     "text": [
      "2022-09-29 19:47:50,262 INFO Welcome to the CDS\n",
      "2022-09-29 19:47:50,263 INFO Sending request to https://cds.climate.copernicus.eu/api/v2/resources/reanalysis-era5-single-levels\n",
      "2022-09-29 19:47:50,523 INFO Request is queued\n",
      "2022-09-29 19:47:51,781 INFO Request is running\n",
      "2022-09-29 19:48:05,027 INFO Request is completed\n",
      "2022-09-29 19:48:05,028 INFO Downloading https://download-0002-clone.copernicus-climate.eu/cache-compute-0002/cache/data5/adaptor.mars.internal-1664452081.6111937-4593-17-e6d75155-7b19-415f-8af2-4782d1d7c7a1.nc to g:/ERA5_SST/ERA5_SST_201612.nc (61.5M)\n",
      "2022-09-29 19:49:29,650 INFO Download rate 744K/s                                                                      \n"
     ]
    },
    {
     "name": "stdout",
     "output_type": "stream",
     "text": [
      "用时100.69595313072205\n"
     ]
    },
    {
     "name": "stderr",
     "output_type": "stream",
     "text": [
      "2022-09-29 19:49:30,968 INFO Welcome to the CDS\n",
      "2022-09-29 19:49:30,968 INFO Sending request to https://cds.climate.copernicus.eu/api/v2/resources/reanalysis-era5-single-levels\n",
      "2022-09-29 19:49:31,280 INFO Request is queued\n",
      "2022-09-29 19:49:32,559 INFO Request is running\n",
      "2022-09-29 19:49:45,833 INFO Request is completed\n",
      "2022-09-29 19:49:45,834 INFO Downloading https://download-0009-clone.copernicus-climate.eu/cache-compute-0009/cache/data1/adaptor.mars.internal-1664452181.3535852-17042-14-08b838ab-8f5b-46e2-9442-e3c8a3ec4b2f.nc to g:/ERA5_SST/ERA5_SST_201701.nc (61.5M)\n",
      "2022-09-29 19:50:54,257 INFO Download rate 920.1K/s                                                                    \n"
     ]
    },
    {
     "name": "stdout",
     "output_type": "stream",
     "text": [
      "用时84.58224248886108\n"
     ]
    },
    {
     "name": "stderr",
     "output_type": "stream",
     "text": [
      "2022-09-29 19:50:55,538 INFO Welcome to the CDS\n",
      "2022-09-29 19:50:55,539 INFO Sending request to https://cds.climate.copernicus.eu/api/v2/resources/reanalysis-era5-single-levels\n",
      "2022-09-29 19:50:55,814 INFO Request is queued\n",
      "2022-09-29 19:51:10,325 INFO Request is running\n",
      "2022-09-29 19:51:29,831 INFO Request is completed\n",
      "2022-09-29 19:51:29,832 INFO Downloading https://download-0009-clone.copernicus-climate.eu/cache-compute-0009/cache/data4/adaptor.mars.internal-1664452277.0234249-26738-8-2e5b2080-ae1a-4d5b-85f6-2cee09d4cf55.nc to g:/ERA5_SST/ERA5_SST_201702.nc (55.5M)\n",
      "2022-09-29 19:52:29,404 INFO Download rate 954.5K/s                                                                    \n"
     ]
    },
    {
     "name": "stdout",
     "output_type": "stream",
     "text": [
      "用时94.37494421005249\n"
     ]
    },
    {
     "name": "stderr",
     "output_type": "stream",
     "text": [
      "2022-09-29 19:52:29,916 INFO Welcome to the CDS\n",
      "2022-09-29 19:52:29,917 INFO Sending request to https://cds.climate.copernicus.eu/api/v2/resources/reanalysis-era5-single-levels\n",
      "2022-09-29 19:52:30,227 INFO Request is queued\n",
      "2022-09-29 19:52:31,496 INFO Request is running\n",
      "2022-09-29 19:52:44,725 INFO Request is completed\n",
      "2022-09-29 19:52:44,727 INFO Downloading https://download-0007-clone.copernicus-climate.eu/cache-compute-0007/cache/data2/adaptor.mars.internal-1664452360.736665-19801-19-4969da24-6837-451b-9f53-2777e6d21582.nc to g:/ERA5_SST/ERA5_SST_201703.nc (61.5M)\n",
      "2022-09-29 19:53:16,947 INFO Download rate 1.9M/s                                                                      \n"
     ]
    },
    {
     "name": "stdout",
     "output_type": "stream",
     "text": [
      "用时47.54085087776184\n"
     ]
    },
    {
     "name": "stderr",
     "output_type": "stream",
     "text": [
      "2022-09-29 19:53:17,456 INFO Welcome to the CDS\n",
      "2022-09-29 19:53:17,457 INFO Sending request to https://cds.climate.copernicus.eu/api/v2/resources/reanalysis-era5-single-levels\n",
      "2022-09-29 19:53:17,744 INFO Request is queued\n",
      "2022-09-29 19:53:19,003 INFO Request is running\n",
      "2022-09-29 19:53:32,238 INFO Request is completed\n",
      "2022-09-29 19:53:32,239 INFO Downloading https://download-0020.copernicus-climate.eu/cache-compute-0020/cache/data9/adaptor.mars.internal-1664452408.2583938-14741-12-e371d3be-8c6d-4659-bb6e-2a420fa3f0b5.nc to g:/ERA5_SST/ERA5_SST_201704.nc (59.5M)\n",
      "2022-09-29 19:54:26,345 INFO Download rate 1.1M/s                                                                      \n"
     ]
    },
    {
     "name": "stdout",
     "output_type": "stream",
     "text": [
      "用时69.40020251274109\n"
     ]
    },
    {
     "name": "stderr",
     "output_type": "stream",
     "text": [
      "2022-09-29 19:54:26,856 INFO Welcome to the CDS\n",
      "2022-09-29 19:54:26,858 INFO Sending request to https://cds.climate.copernicus.eu/api/v2/resources/reanalysis-era5-single-levels\n",
      "2022-09-29 19:54:27,123 INFO Request is queued\n",
      "2022-09-29 19:54:28,381 INFO Request is running\n",
      "2022-09-29 19:54:41,606 INFO Request is completed\n",
      "2022-09-29 19:54:41,608 INFO Downloading https://download-0021.copernicus-climate.eu/cache-compute-0021/cache/data5/adaptor.mars.internal-1664452478.1434352-27852-15-fe3c848d-9f2e-41a2-b345-1a49c1bd1413.nc to g:/ERA5_SST/ERA5_SST_201705.nc (61.5M)\n",
      "2022-09-29 19:55:32,510 INFO Download rate 1.2M/s                                                                      \n"
     ]
    },
    {
     "name": "stdout",
     "output_type": "stream",
     "text": [
      "用时66.16411542892456\n"
     ]
    },
    {
     "name": "stderr",
     "output_type": "stream",
     "text": [
      "2022-09-29 19:55:33,023 INFO Welcome to the CDS\n",
      "2022-09-29 19:55:33,024 INFO Sending request to https://cds.climate.copernicus.eu/api/v2/resources/reanalysis-era5-single-levels\n",
      "2022-09-29 19:55:33,282 INFO Request is queued\n",
      "2022-09-29 19:55:34,538 INFO Request is running\n",
      "2022-09-29 19:55:47,758 INFO Request is completed\n",
      "2022-09-29 19:55:47,759 INFO Downloading https://download-0021.copernicus-climate.eu/cache-compute-0021/cache/data7/adaptor.mars.internal-1664452543.8038445-26835-12-8668aee5-050d-4d04-adda-40b4d3e5395a.nc to g:/ERA5_SST/ERA5_SST_201706.nc (59.5M)\n",
      "2022-09-29 19:56:35,415 INFO Download rate 1.2M/s                                                                      \n"
     ]
    },
    {
     "name": "stdout",
     "output_type": "stream",
     "text": [
      "用时62.905170917510986\n"
     ]
    },
    {
     "name": "stderr",
     "output_type": "stream",
     "text": [
      "2022-09-29 19:56:35,927 INFO Welcome to the CDS\n",
      "2022-09-29 19:56:35,928 INFO Sending request to https://cds.climate.copernicus.eu/api/v2/resources/reanalysis-era5-single-levels\n",
      "2022-09-29 19:56:36,187 INFO Request is queued\n",
      "2022-09-29 19:56:37,463 INFO Request is running\n",
      "2022-09-29 19:56:50,708 INFO Request is completed\n",
      "2022-09-29 19:56:50,710 INFO Downloading https://download-0011-clone.copernicus-climate.eu/cache-compute-0011/cache/data7/adaptor.mars.internal-1664452606.3788946-17608-3-c871938c-b47a-4173-9681-96cad37363f4.nc to g:/ERA5_SST/ERA5_SST_201707.nc (61.5M)\n",
      "2022-09-29 19:57:39,086 INFO Download rate 1.3M/s                                                                      \n"
     ]
    },
    {
     "name": "stdout",
     "output_type": "stream",
     "text": [
      "用时63.66658139228821\n"
     ]
    },
    {
     "name": "stderr",
     "output_type": "stream",
     "text": [
      "2022-09-29 19:57:39,599 INFO Welcome to the CDS\n",
      "2022-09-29 19:57:39,600 INFO Sending request to https://cds.climate.copernicus.eu/api/v2/resources/reanalysis-era5-single-levels\n",
      "2022-09-29 19:57:39,890 INFO Request is queued\n",
      "2022-09-29 19:57:41,153 INFO Request is running\n",
      "2022-09-29 19:57:54,382 INFO Request is completed\n",
      "2022-09-29 19:57:54,383 INFO Downloading https://download-0019.copernicus-climate.eu/cache-compute-0019/cache/data4/adaptor.mars.internal-1664452670.5362763-433-1-61ff5076-2894-462a-bcea-36387429a454.nc to g:/ERA5_SST/ERA5_SST_201708.nc (61.5M)\n",
      "2022-09-29 19:58:45,523 INFO Download rate 1.2M/s                                                                      \n"
     ]
    },
    {
     "name": "stdout",
     "output_type": "stream",
     "text": [
      "用时66.43927240371704\n"
     ]
    },
    {
     "name": "stderr",
     "output_type": "stream",
     "text": [
      "2022-09-29 19:58:46,036 INFO Welcome to the CDS\n",
      "2022-09-29 19:58:46,037 INFO Sending request to https://cds.climate.copernicus.eu/api/v2/resources/reanalysis-era5-single-levels\n",
      "2022-09-29 19:58:46,318 INFO Request is queued\n",
      "2022-09-29 19:58:47,591 INFO Request is running\n",
      "2022-09-29 19:59:00,836 INFO Request is completed\n",
      "2022-09-29 19:59:00,837 INFO Downloading https://download-0018.copernicus-climate.eu/cache-compute-0018/cache/data8/adaptor.mars.internal-1664452737.174559-16274-2-a912fdbe-770b-4c01-a0c5-f6e08945b519.nc to g:/ERA5_SST/ERA5_SST_201709.nc (59.5M)\n",
      "2022-09-29 19:59:40,191 INFO Download rate 1.5M/s                                                                      \n"
     ]
    },
    {
     "name": "stdout",
     "output_type": "stream",
     "text": [
      "用时54.66360807418823\n"
     ]
    },
    {
     "name": "stderr",
     "output_type": "stream",
     "text": [
      "2022-09-29 19:59:40,703 INFO Welcome to the CDS\n",
      "2022-09-29 19:59:40,704 INFO Sending request to https://cds.climate.copernicus.eu/api/v2/resources/reanalysis-era5-single-levels\n",
      "2022-09-29 19:59:40,981 INFO Request is queued\n",
      "2022-09-29 19:59:42,245 INFO Request is running\n",
      "2022-09-29 19:59:55,500 INFO Request is completed\n",
      "2022-09-29 19:59:55,500 INFO Downloading https://download-0020.copernicus-climate.eu/cache-compute-0020/cache/data7/adaptor.mars.internal-1664452791.5152917-5415-17-55386884-60b1-4c67-a6d3-63ee9736fb7a.nc to g:/ERA5_SST/ERA5_SST_201710.nc (61.5M)\n",
      "2022-09-29 20:01:01,160 INFO Download rate 958.8K/s                                                                    \n"
     ]
    },
    {
     "name": "stdout",
     "output_type": "stream",
     "text": [
      "用时81.60821413993835\n"
     ]
    },
    {
     "name": "stderr",
     "output_type": "stream",
     "text": [
      "2022-09-29 20:01:02,280 INFO Welcome to the CDS\n",
      "2022-09-29 20:01:02,281 INFO Sending request to https://cds.climate.copernicus.eu/api/v2/resources/reanalysis-era5-single-levels\n",
      "2022-09-29 20:01:02,508 INFO Request is queued\n",
      "2022-09-29 20:01:03,736 INFO Request is running\n",
      "2022-09-29 20:01:16,853 INFO Request is completed\n",
      "2022-09-29 20:01:16,854 INFO Downloading https://download-0013-clone.copernicus-climate.eu/cache-compute-0013/cache/data7/adaptor.mars.internal-1664452873.3898087-10821-10-1f0db437-7ec4-4e5f-bbb2-cf0ad9e3c78e.nc to g:/ERA5_SST/ERA5_SST_201711.nc (59.5M)\n",
      "2022-09-29 20:02:10,568 INFO Download rate 1.1M/s                                                                      \n"
     ]
    },
    {
     "name": "stdout",
     "output_type": "stream",
     "text": [
      "用时68.73815274238586\n"
     ]
    },
    {
     "name": "stderr",
     "output_type": "stream",
     "text": [
      "2022-09-29 20:02:11,017 INFO Welcome to the CDS\n",
      "2022-09-29 20:02:11,017 INFO Sending request to https://cds.climate.copernicus.eu/api/v2/resources/reanalysis-era5-single-levels\n",
      "2022-09-29 20:02:11,265 INFO Request is queued\n",
      "2022-09-29 20:02:12,495 INFO Request is running\n",
      "2022-09-29 20:02:25,598 INFO Request is completed\n",
      "2022-09-29 20:02:25,599 INFO Downloading https://download-0007-clone.copernicus-climate.eu/cache-compute-0007/cache/data0/adaptor.mars.internal-1664452941.1398578-3213-7-4eaa90da-330a-492d-b075-2dcbe2580a8a.nc to g:/ERA5_SST/ERA5_SST_201712.nc (61.5M)\n",
      "2022-09-29 20:03:06,298 INFO Download rate 1.5M/s                                                                      \n"
     ]
    },
    {
     "name": "stdout",
     "output_type": "stream",
     "text": [
      "用时55.7300386428833\n"
     ]
    },
    {
     "name": "stderr",
     "output_type": "stream",
     "text": [
      "2022-09-29 20:03:06,748 INFO Welcome to the CDS\n",
      "2022-09-29 20:03:06,748 INFO Sending request to https://cds.climate.copernicus.eu/api/v2/resources/reanalysis-era5-single-levels\n",
      "2022-09-29 20:03:07,019 INFO Request is queued\n",
      "2022-09-29 20:03:08,247 INFO Request is running\n",
      "2022-09-29 20:03:21,360 INFO Request is completed\n",
      "2022-09-29 20:03:21,361 INFO Downloading https://download-0012-clone.copernicus-climate.eu/cache-compute-0012/cache/data9/adaptor.mars.internal-1664452997.5763466-16624-10-1a8c343b-33f0-4f70-9bb9-aeedebf7d4ad.nc to g:/ERA5_SST/ERA5_SST_201801.nc (61.5M)\n",
      "2022-09-29 20:03:52,364 INFO Download rate 2M/s                                                                        \n"
     ]
    },
    {
     "name": "stdout",
     "output_type": "stream",
     "text": [
      "用时46.06214690208435\n"
     ]
    },
    {
     "name": "stderr",
     "output_type": "stream",
     "text": [
      "2022-09-29 20:03:52,812 INFO Welcome to the CDS\n",
      "2022-09-29 20:03:52,813 INFO Sending request to https://cds.climate.copernicus.eu/api/v2/resources/reanalysis-era5-single-levels\n",
      "2022-09-29 20:03:53,093 INFO Request is queued\n",
      "2022-09-29 20:03:54,322 INFO Request is running\n",
      "2022-09-29 20:04:07,439 INFO Request is completed\n",
      "2022-09-29 20:04:07,440 INFO Downloading https://download-0020.copernicus-climate.eu/cache-compute-0020/cache/data4/adaptor.mars.internal-1664453042.2907429-28044-3-4bde5c91-4bbb-4191-ae89-065e0290c5c7.nc to g:/ERA5_SST/ERA5_SST_201802.nc (55.5M)\n",
      "2022-09-29 20:04:48,903 INFO Download rate 1.3M/s                                                                      \n"
     ]
    },
    {
     "name": "stdout",
     "output_type": "stream",
     "text": [
      "用时56.53781485557556\n"
     ]
    },
    {
     "name": "stderr",
     "output_type": "stream",
     "text": [
      "2022-09-29 20:04:49,351 INFO Welcome to the CDS\n",
      "2022-09-29 20:04:49,352 INFO Sending request to https://cds.climate.copernicus.eu/api/v2/resources/reanalysis-era5-single-levels\n",
      "2022-09-29 20:04:49,718 INFO Request is queued\n",
      "2022-09-29 20:04:50,944 INFO Request is running\n",
      "2022-09-29 20:05:04,047 INFO Request is completed\n",
      "2022-09-29 20:05:04,047 INFO Downloading https://download-0019.copernicus-climate.eu/cache-compute-0019/cache/data2/adaptor.mars.internal-1664453099.8687115-542-4-104e038c-c7ab-4b4c-8d52-86cd6c521b8f.nc to g:/ERA5_SST/ERA5_SST_201803.nc (61.5M)\n",
      "2022-09-29 20:05:49,852 INFO Download rate 1.3M/s                                                                      \n"
     ]
    },
    {
     "name": "stdout",
     "output_type": "stream",
     "text": [
      "用时60.947967767715454\n"
     ]
    },
    {
     "name": "stderr",
     "output_type": "stream",
     "text": [
      "2022-09-29 20:05:50,300 INFO Welcome to the CDS\n",
      "2022-09-29 20:05:50,301 INFO Sending request to https://cds.climate.copernicus.eu/api/v2/resources/reanalysis-era5-single-levels\n",
      "2022-09-29 20:05:50,582 INFO Request is queued\n",
      "2022-09-29 20:05:51,816 INFO Request is running\n",
      "2022-09-29 20:06:04,923 INFO Request is completed\n",
      "2022-09-29 20:06:04,924 INFO Downloading https://download-0008-clone.copernicus-climate.eu/cache-compute-0008/cache/data0/adaptor.mars.internal-1664453161.332624-21218-13-cce06e89-3086-43cc-94aa-632be288b1f9.nc to g:/ERA5_SST/ERA5_SST_201804.nc (59.5M)\n",
      "2022-09-29 20:06:42,834 INFO Download rate 1.6M/s                                                                      \n"
     ]
    },
    {
     "name": "stdout",
     "output_type": "stream",
     "text": [
      "用时52.9808349609375\n"
     ]
    },
    {
     "name": "stderr",
     "output_type": "stream",
     "text": [
      "2022-09-29 20:06:43,282 INFO Welcome to the CDS\n",
      "2022-09-29 20:06:43,283 INFO Sending request to https://cds.climate.copernicus.eu/api/v2/resources/reanalysis-era5-single-levels\n",
      "2022-09-29 20:06:43,513 INFO Request is queued\n",
      "2022-09-29 20:06:44,742 INFO Request is running\n",
      "2022-09-29 20:06:57,847 INFO Request is completed\n",
      "2022-09-29 20:06:57,849 INFO Downloading https://download-0020.copernicus-climate.eu/cache-compute-0020/cache/data9/adaptor.mars.internal-1664453213.686263-16898-12-2e8a55e4-be70-40fb-8048-2f0eb56bbb8c.nc to g:/ERA5_SST/ERA5_SST_201805.nc (61.5M)\n",
      "2022-09-29 20:07:47,352 INFO Download rate 1.2M/s                                                                      \n"
     ]
    },
    {
     "name": "stdout",
     "output_type": "stream",
     "text": [
      "用时64.5161714553833\n"
     ]
    },
    {
     "name": "stderr",
     "output_type": "stream",
     "text": [
      "2022-09-29 20:07:47,797 INFO Welcome to the CDS\n",
      "2022-09-29 20:07:47,798 INFO Sending request to https://cds.climate.copernicus.eu/api/v2/resources/reanalysis-era5-single-levels\n",
      "2022-09-29 20:07:48,051 INFO Request is queued\n",
      "2022-09-29 20:07:49,280 INFO Request is running\n",
      "2022-09-29 20:08:02,411 INFO Request is completed\n",
      "2022-09-29 20:08:02,412 INFO Downloading https://download-0011-clone.copernicus-climate.eu/cache-compute-0011/cache/data0/adaptor.mars.internal-1664453278.7897813-15665-12-0616f82a-c425-40ff-9f5a-dbe5fa9028a0.nc to g:/ERA5_SST/ERA5_SST_201806.nc (59.5M)\n",
      "2022-09-29 20:08:30,553 INFO Download rate 2.1M/s                                                                      \n"
     ]
    },
    {
     "name": "stdout",
     "output_type": "stream",
     "text": [
      "用时43.1995062828064\n"
     ]
    },
    {
     "name": "stderr",
     "output_type": "stream",
     "text": [
      "2022-09-29 20:08:30,996 INFO Welcome to the CDS\n",
      "2022-09-29 20:08:30,997 INFO Sending request to https://cds.climate.copernicus.eu/api/v2/resources/reanalysis-era5-single-levels\n",
      "2022-09-29 20:08:31,247 INFO Request is queued\n",
      "2022-09-29 20:08:32,470 INFO Request is running\n",
      "2022-09-29 20:08:45,565 INFO Request is completed\n",
      "2022-09-29 20:08:45,566 INFO Downloading https://download-0008-clone.copernicus-climate.eu/cache-compute-0008/cache/data6/adaptor.mars.internal-1664453322.205674-29942-6-a032d7b5-964f-4c3c-9bef-9286560cb776.nc to g:/ERA5_SST/ERA5_SST_201807.nc (61.5M)\n",
      "2022-09-29 20:09:26,487 INFO Download rate 1.5M/s                                                                      \n"
     ]
    },
    {
     "name": "stdout",
     "output_type": "stream",
     "text": [
      "用时55.942346811294556\n"
     ]
    },
    {
     "name": "stderr",
     "output_type": "stream",
     "text": [
      "2022-09-29 20:09:26,941 INFO Welcome to the CDS\n",
      "2022-09-29 20:09:26,942 INFO Sending request to https://cds.climate.copernicus.eu/api/v2/resources/reanalysis-era5-single-levels\n",
      "2022-09-29 20:09:27,170 INFO Request is queued\n",
      "2022-09-29 20:09:28,407 INFO Request is running\n",
      "2022-09-29 20:09:41,544 INFO Request is completed\n",
      "2022-09-29 20:09:41,546 INFO Downloading https://download-0004-clone.copernicus-climate.eu/cache-compute-0004/cache/data3/adaptor.mars.internal-1664453377.427414-23240-12-583fdd7f-16b8-4a2b-bc01-7906188ea32f.nc to g:/ERA5_SST/ERA5_SST_201808.nc (61.5M)\n",
      "2022-09-29 20:10:21,923 INFO Download rate 1.5M/s                                                                      \n"
     ]
    },
    {
     "name": "stdout",
     "output_type": "stream",
     "text": [
      "用时55.426987648010254\n"
     ]
    },
    {
     "name": "stderr",
     "output_type": "stream",
     "text": [
      "2022-09-29 20:10:22,369 INFO Welcome to the CDS\n",
      "2022-09-29 20:10:22,371 INFO Sending request to https://cds.climate.copernicus.eu/api/v2/resources/reanalysis-era5-single-levels\n",
      "2022-09-29 20:10:22,630 INFO Request is queued\n",
      "2022-09-29 20:10:23,865 INFO Request is running\n",
      "2022-09-29 20:10:36,979 INFO Request is completed\n",
      "2022-09-29 20:10:36,980 INFO Downloading https://download-0012-clone.copernicus-climate.eu/cache-compute-0012/cache/data8/adaptor.mars.internal-1664453433.3269424-20447-5-827cc8f4-5342-4769-a62d-df3aeafcfc09.nc to g:/ERA5_SST/ERA5_SST_201809.nc (59.5M)\n",
      "2022-09-29 20:11:49,807 INFO Download rate 836.6K/s                                                                    \n",
      "2022-09-29 20:11:50,847 INFO Welcome to the CDS\n"
     ]
    },
    {
     "name": "stdout",
     "output_type": "stream",
     "text": [
      "用时88.49370336532593\n"
     ]
    },
    {
     "name": "stderr",
     "output_type": "stream",
     "text": [
      "2022-09-29 20:11:50,848 INFO Sending request to https://cds.climate.copernicus.eu/api/v2/resources/reanalysis-era5-single-levels\n",
      "2022-09-29 20:11:51,063 INFO Request is queued\n",
      "2022-09-29 20:11:52,276 INFO Request is running\n",
      "2022-09-29 20:12:05,341 INFO Request is completed\n",
      "2022-09-29 20:12:05,344 INFO Downloading https://download-0003-clone.copernicus-climate.eu/cache-compute-0003/cache/data8/adaptor.mars.internal-1664453520.7500415-18498-10-0168972a-2096-48b6-93ac-7f088de8367a.nc to g:/ERA5_SST/ERA5_SST_201810.nc (61.5M)\n",
      "2022-09-29 20:12:45,765 INFO Download rate 1.5M/s                                                                      \n",
      "2022-09-29 20:12:46,214 INFO Welcome to the CDS\n"
     ]
    },
    {
     "name": "stdout",
     "output_type": "stream",
     "text": [
      "用时55.36554145812988\n"
     ]
    },
    {
     "name": "stderr",
     "output_type": "stream",
     "text": [
      "2022-09-29 20:12:46,214 INFO Sending request to https://cds.climate.copernicus.eu/api/v2/resources/reanalysis-era5-single-levels\n",
      "2022-09-29 20:12:46,452 INFO Request is queued\n",
      "2022-09-29 20:12:47,669 INFO Request is running\n",
      "2022-09-29 20:13:00,723 INFO Request is completed\n",
      "2022-09-29 20:13:00,724 INFO Downloading https://download-0010-clone.copernicus-climate.eu/cache-compute-0010/cache/data4/adaptor.mars.internal-1664453576.2411528-21847-12-76be5f2b-2cbc-4614-8a08-78140096a8e0.nc to g:/ERA5_SST/ERA5_SST_201811.nc (59.5M)\n",
      "2022-09-29 20:14:03,294 INFO Download rate 973.7K/s                                                                    \n",
      "2022-09-29 20:14:03,717 INFO Welcome to the CDS\n"
     ]
    },
    {
     "name": "stdout",
     "output_type": "stream",
     "text": [
      "用时77.49991750717163\n"
     ]
    },
    {
     "name": "stderr",
     "output_type": "stream",
     "text": [
      "2022-09-29 20:14:03,718 INFO Sending request to https://cds.climate.copernicus.eu/api/v2/resources/reanalysis-era5-single-levels\n",
      "2022-09-29 20:14:03,933 INFO Request is queued\n",
      "2022-09-29 20:14:05,151 INFO Request is running\n",
      "2022-09-29 20:14:18,195 INFO Request is completed\n",
      "2022-09-29 20:14:18,197 INFO Downloading https://download-0012-clone.copernicus-climate.eu/cache-compute-0012/cache/data9/adaptor.mars.internal-1664453655.0347083-16392-15-07eee626-bfcd-4cad-bbdd-e44a2d789beb.nc to g:/ERA5_SST/ERA5_SST_201812.nc (61.5M)\n",
      "2022-09-29 20:14:56,523 INFO Download rate 1.6M/s                                                                      \n"
     ]
    },
    {
     "name": "stdout",
     "output_type": "stream",
     "text": [
      "用时53.22668528556824\n"
     ]
    },
    {
     "name": "stderr",
     "output_type": "stream",
     "text": [
      "2022-09-29 20:14:56,946 INFO Welcome to the CDS\n",
      "2022-09-29 20:14:56,947 INFO Sending request to https://cds.climate.copernicus.eu/api/v2/resources/reanalysis-era5-single-levels\n",
      "2022-09-29 20:14:57,193 INFO Request is queued\n",
      "2022-09-29 20:14:58,415 INFO Request is running\n",
      "2022-09-29 20:15:11,475 INFO Request is completed\n",
      "2022-09-29 20:15:11,476 INFO Downloading https://download-0005-clone.copernicus-climate.eu/cache-compute-0005/cache/data9/adaptor.mars.internal-1664453707.9907072-30952-11-8e2a5804-fc92-4a52-be5c-5c2a8f91820e.nc to g:/ERA5_SST/ERA5_SST_201901.nc (61.5M)\n",
      "2022-09-29 20:15:38,973 INFO Download rate 2.2M/s                                                                      \n",
      "2022-09-29 20:15:39,389 INFO Welcome to the CDS\n"
     ]
    },
    {
     "name": "stdout",
     "output_type": "stream",
     "text": [
      "用时42.44562768936157\n"
     ]
    },
    {
     "name": "stderr",
     "output_type": "stream",
     "text": [
      "2022-09-29 20:15:39,390 INFO Sending request to https://cds.climate.copernicus.eu/api/v2/resources/reanalysis-era5-single-levels\n",
      "2022-09-29 20:15:39,604 INFO Request is queued\n",
      "2022-09-29 20:15:40,817 INFO Request is running\n",
      "2022-09-29 20:15:53,882 INFO Request is completed\n",
      "2022-09-29 20:15:53,885 INFO Downloading https://download-0017.copernicus-climate.eu/cache-compute-0017/cache/data6/adaptor.mars.internal-1664453749.3069708-30003-15-aa53e21c-adf8-4442-a2cb-bff333db5ffa.nc to g:/ERA5_SST/ERA5_SST_201902.nc (55.5M)\n",
      "2022-09-29 20:16:31,758 INFO Download rate 1.5M/s                                                                      \n"
     ]
    },
    {
     "name": "stdout",
     "output_type": "stream",
     "text": [
      "用时52.784531593322754\n"
     ]
    },
    {
     "name": "stderr",
     "output_type": "stream",
     "text": [
      "2022-09-29 20:16:32,180 INFO Welcome to the CDS\n",
      "2022-09-29 20:16:32,182 INFO Sending request to https://cds.climate.copernicus.eu/api/v2/resources/reanalysis-era5-single-levels\n",
      "2022-09-29 20:16:32,407 INFO Request is queued\n",
      "2022-09-29 20:16:33,631 INFO Request is running\n",
      "2022-09-29 20:16:46,711 INFO Request is completed\n",
      "2022-09-29 20:16:46,712 INFO Downloading https://download-0010-clone.copernicus-climate.eu/cache-compute-0010/cache/data6/adaptor.mars.internal-1664453804.0374057-26442-9-53945e40-1e4e-4f2a-ac57-524315f9d58e.nc to g:/ERA5_SST/ERA5_SST_201903.nc (61.5M)\n",
      "2022-09-29 20:17:53,467 INFO Download rate 943.1K/s                                                                    \n"
     ]
    },
    {
     "name": "stdout",
     "output_type": "stream",
     "text": [
      "用时82.42596197128296\n"
     ]
    },
    {
     "name": "stderr",
     "output_type": "stream",
     "text": [
      "2022-09-29 20:17:54,621 INFO Welcome to the CDS\n",
      "2022-09-29 20:17:54,622 INFO Sending request to https://cds.climate.copernicus.eu/api/v2/resources/reanalysis-era5-single-levels\n",
      "2022-09-29 20:17:54,913 INFO Request is queued\n",
      "2022-09-29 20:17:56,150 INFO Request is running\n",
      "2022-09-29 20:18:09,308 INFO Request is completed\n",
      "2022-09-29 20:18:09,309 INFO Downloading https://download-0009-clone.copernicus-climate.eu/cache-compute-0009/cache/data2/adaptor.mars.internal-1664453885.963792-31239-11-460d0aae-2a58-4be3-a5df-3320509057c6.nc to g:/ERA5_SST/ERA5_SST_201904.nc (59.5M)\n",
      "2022-09-29 20:18:35,405 INFO Download rate 2.3M/s                                                                      \n"
     ]
    },
    {
     "name": "stdout",
     "output_type": "stream",
     "text": [
      "用时41.24222779273987\n"
     ]
    },
    {
     "name": "stderr",
     "output_type": "stream",
     "text": [
      "2022-09-29 20:18:35,866 INFO Welcome to the CDS\n",
      "2022-09-29 20:18:35,866 INFO Sending request to https://cds.climate.copernicus.eu/api/v2/resources/reanalysis-era5-single-levels\n",
      "2022-09-29 20:18:36,156 INFO Request is queued\n",
      "2022-09-29 20:18:37,402 INFO Request is running\n",
      "2022-09-29 20:18:50,550 INFO Request is completed\n",
      "2022-09-29 20:18:50,551 INFO Downloading https://download-0017.copernicus-climate.eu/cache-compute-0017/cache/data6/adaptor.mars.internal-1664453926.2197812-12150-4-aafac56e-1782-46de-bf21-d6438be36e18.nc to g:/ERA5_SST/ERA5_SST_201905.nc (61.5M)\n",
      "2022-09-29 20:19:45,785 INFO Download rate 1.1M/s                                                                      \n"
     ]
    },
    {
     "name": "stdout",
     "output_type": "stream",
     "text": [
      "用时70.3759093284607\n"
     ]
    },
    {
     "name": "stderr",
     "output_type": "stream",
     "text": [
      "2022-09-29 20:19:46,241 INFO Welcome to the CDS\n",
      "2022-09-29 20:19:46,242 INFO Sending request to https://cds.climate.copernicus.eu/api/v2/resources/reanalysis-era5-single-levels\n",
      "2022-09-29 20:19:46,473 INFO Request is queued\n",
      "2022-09-29 20:19:47,715 INFO Request is running\n",
      "2022-09-29 20:22:40,077 INFO Request is completed\n",
      "2022-09-29 20:22:40,078 INFO Downloading https://download-0008-clone.copernicus-climate.eu/cache-compute-0008/cache/data8/adaptor.mars.internal-1664454129.1559985-28595-8-84c8060c-9b31-4391-b72a-22c9748df748.nc to g:/ERA5_SST/ERA5_SST_201906.nc (59.5M)\n",
      "2022-09-29 20:23:08,206 INFO Download rate 2.1M/s                                                                      \n"
     ]
    },
    {
     "name": "stdout",
     "output_type": "stream",
     "text": [
      "用时202.42003202438354\n"
     ]
    },
    {
     "name": "stderr",
     "output_type": "stream",
     "text": [
      "2022-09-29 20:23:08,664 INFO Welcome to the CDS\n",
      "2022-09-29 20:23:08,665 INFO Sending request to https://cds.climate.copernicus.eu/api/v2/resources/reanalysis-era5-single-levels\n",
      "2022-09-29 20:23:08,916 INFO Request is queued\n",
      "2022-09-29 20:23:10,160 INFO Request is running\n",
      "2022-09-29 20:23:23,301 INFO Request is completed\n",
      "2022-09-29 20:23:23,304 INFO Downloading https://download-0017.copernicus-climate.eu/cache-compute-0017/cache/data1/adaptor.mars.internal-1664454200.3534765-4662-10-91bbf33c-2ee7-41a9-9fb9-a329d05a43ae.nc to g:/ERA5_SST/ERA5_SST_201907.nc (61.5M)\n",
      "2022-09-29 20:23:50,544 INFO Download rate 2.3M/s                                                                      \n"
     ]
    },
    {
     "name": "stdout",
     "output_type": "stream",
     "text": [
      "用时42.33798313140869\n"
     ]
    },
    {
     "name": "stderr",
     "output_type": "stream",
     "text": [
      "2022-09-29 20:23:51,003 INFO Welcome to the CDS\n",
      "2022-09-29 20:23:51,004 INFO Sending request to https://cds.climate.copernicus.eu/api/v2/resources/reanalysis-era5-single-levels\n",
      "2022-09-29 20:23:51,247 INFO Request is queued\n",
      "2022-09-29 20:23:52,486 INFO Request is running\n",
      "2022-09-29 20:24:05,623 INFO Request is completed\n",
      "2022-09-29 20:24:05,624 INFO Downloading https://download-0019.copernicus-climate.eu/cache-compute-0019/cache/data7/adaptor.mars.internal-1664454240.7987788-31601-12-bbca8a9e-e7e6-46eb-bee3-2474d0ed0d56.nc to g:/ERA5_SST/ERA5_SST_201908.nc (61.5M)\n",
      "2022-09-29 20:24:32,608 INFO Download rate 2.3M/s                                                                      \n"
     ]
    },
    {
     "name": "stdout",
     "output_type": "stream",
     "text": [
      "用时42.067811489105225\n"
     ]
    },
    {
     "name": "stderr",
     "output_type": "stream",
     "text": [
      "2022-09-29 20:24:33,072 INFO Welcome to the CDS\n",
      "2022-09-29 20:24:33,073 INFO Sending request to https://cds.climate.copernicus.eu/api/v2/resources/reanalysis-era5-single-levels\n",
      "2022-09-29 20:24:33,313 INFO Request is queued\n",
      "2022-09-29 20:24:34,545 INFO Request is running\n",
      "2022-09-29 20:24:47,693 INFO Request is completed\n",
      "2022-09-29 20:24:47,695 INFO Downloading https://download-0020.copernicus-climate.eu/cache-compute-0020/cache/data7/adaptor.mars.internal-1664454284.446018-28044-11-aca04bb6-c981-4e17-b0fb-1584f6c14b83.nc to g:/ERA5_SST/ERA5_SST_201909.nc (59.5M)\n",
      "2022-09-29 20:25:10,687 INFO Download rate 2.6M/s                                                                      \n"
     ]
    },
    {
     "name": "stdout",
     "output_type": "stream",
     "text": [
      "用时38.07340383529663\n"
     ]
    },
    {
     "name": "stderr",
     "output_type": "stream",
     "text": [
      "2022-09-29 20:25:11,146 INFO Welcome to the CDS\n",
      "2022-09-29 20:25:11,147 INFO Sending request to https://cds.climate.copernicus.eu/api/v2/resources/reanalysis-era5-single-levels\n",
      "2022-09-29 20:25:11,392 INFO Request is queued\n",
      "2022-09-29 20:25:12,625 INFO Request is running\n",
      "2022-09-29 20:25:25,765 INFO Request is completed\n",
      "2022-09-29 20:25:25,767 INFO Downloading https://download-0011-clone.copernicus-climate.eu/cache-compute-0011/cache/data3/adaptor.mars.internal-1664454321.9158833-15634-18-713cd160-10a6-4c02-96b0-302b324bc341.nc to g:/ERA5_SST/ERA5_SST_201910.nc (61.5M)\n",
      "2022-09-29 20:26:10,353 INFO Download rate 1.4M/s                                                                      \n"
     ]
    },
    {
     "name": "stdout",
     "output_type": "stream",
     "text": [
      "用时59.66641712188721\n"
     ]
    },
    {
     "name": "stderr",
     "output_type": "stream",
     "text": [
      "2022-09-29 20:26:10,811 INFO Welcome to the CDS\n",
      "2022-09-29 20:26:10,812 INFO Sending request to https://cds.climate.copernicus.eu/api/v2/resources/reanalysis-era5-single-levels\n",
      "2022-09-29 20:26:11,077 INFO Request is queued\n",
      "2022-09-29 20:26:12,311 INFO Request is running\n",
      "2022-09-29 20:26:25,431 INFO Request is completed\n",
      "2022-09-29 20:26:25,434 INFO Downloading https://download-0014-clone.copernicus-climate.eu/cache-compute-0014/cache/data3/adaptor.mars.internal-1664454381.1547213-13145-17-da6bf826-af05-4fa2-b0b8-7b1a69ed5f03.nc to g:/ERA5_SST/ERA5_SST_201911.nc (59.5M)\n",
      "2022-09-29 20:27:22,216 INFO Download rate 1M/s                                                                        \n"
     ]
    },
    {
     "name": "stdout",
     "output_type": "stream",
     "text": [
      "用时71.85898280143738\n"
     ]
    },
    {
     "name": "stderr",
     "output_type": "stream",
     "text": [
      "2022-09-29 20:27:22,671 INFO Welcome to the CDS\n",
      "2022-09-29 20:27:22,672 INFO Sending request to https://cds.climate.copernicus.eu/api/v2/resources/reanalysis-era5-single-levels\n",
      "2022-09-29 20:27:22,920 INFO Request is queued\n",
      "2022-09-29 20:27:24,161 INFO Request is running\n",
      "2022-09-29 20:27:37,291 INFO Request is completed\n",
      "2022-09-29 20:27:37,292 INFO Downloading https://download-0018.copernicus-climate.eu/cache-compute-0018/cache/data0/adaptor.mars.internal-1664454453.5062473-15448-16-a81dd125-5aa3-452a-88d6-a87302ae7aa4.nc to g:/ERA5_SST/ERA5_SST_201912.nc (61.5M)\n",
      "2022-09-29 20:28:54,418 INFO Download rate 816.3K/s                                                                    \n"
     ]
    },
    {
     "name": "stdout",
     "output_type": "stream",
     "text": [
      "用时92.94848704338074\n"
     ]
    },
    {
     "name": "stderr",
     "output_type": "stream",
     "text": [
      "2022-09-29 20:28:55,632 INFO Welcome to the CDS\n",
      "2022-09-29 20:28:55,633 INFO Sending request to https://cds.climate.copernicus.eu/api/v2/resources/reanalysis-era5-single-levels\n",
      "2022-09-29 20:28:55,894 INFO Request is queued\n",
      "2022-09-29 20:28:57,139 INFO Request is running\n",
      "2022-09-29 20:29:10,314 INFO Request is completed\n",
      "2022-09-29 20:29:10,315 INFO Downloading https://download-0003-clone.copernicus-climate.eu/cache-compute-0003/cache/data1/adaptor.mars.internal-1664454546.6845407-12606-15-1e3e7d0f-9d4e-4e12-ad8c-c63ab8567be9.nc to g:/ERA5_SST/ERA5_SST_202001.nc (61.5M)\n",
      "2022-09-29 20:29:51,539 INFO Download rate 1.5M/s                                                                      \n"
     ]
    },
    {
     "name": "stdout",
     "output_type": "stream",
     "text": [
      "用时56.40201783180237\n"
     ]
    },
    {
     "name": "stderr",
     "output_type": "stream",
     "text": [
      "2022-09-29 20:29:52,054 INFO Welcome to the CDS\n",
      "2022-09-29 20:29:52,055 INFO Sending request to https://cds.climate.copernicus.eu/api/v2/resources/reanalysis-era5-single-levels\n",
      "2022-09-29 20:29:52,340 INFO Request is queued\n",
      "2022-09-29 20:29:53,613 INFO Request is running\n",
      "2022-09-29 20:30:06,811 INFO Request is completed\n",
      "2022-09-29 20:30:06,812 INFO Downloading https://download-0009-clone.copernicus-climate.eu/cache-compute-0009/cache/data0/adaptor.mars.internal-1664454602.4257436-8778-12-1fef8d40-f8dd-4eb1-b5b2-5833d8dbaed3.nc to g:/ERA5_SST/ERA5_SST_202002.nc (57.5M)\n",
      "2022-09-29 20:30:35,543 INFO Download rate 2M/s                                                                        \n"
     ]
    },
    {
     "name": "stdout",
     "output_type": "stream",
     "text": [
      "用时43.9897243976593\n"
     ]
    },
    {
     "name": "stderr",
     "output_type": "stream",
     "text": [
      "2022-09-29 20:30:36,029 INFO Welcome to the CDS\n",
      "2022-09-29 20:30:36,030 INFO Sending request to https://cds.climate.copernicus.eu/api/v2/resources/reanalysis-era5-single-levels\n",
      "2022-09-29 20:30:36,302 INFO Request is queued\n",
      "2022-09-29 20:30:37,542 INFO Request is running\n",
      "2022-09-29 20:30:50,734 INFO Request is completed\n",
      "2022-09-29 20:30:50,737 INFO Downloading https://download-0020.copernicus-climate.eu/cache-compute-0020/cache/data9/adaptor.mars.internal-1664454646.7076807-29888-12-5ad977f5-6ee1-42f1-889b-234a8808bd41.nc to g:/ERA5_SST/ERA5_SST_202003.nc (61.5M)\n",
      "2022-09-29 20:31:43,501 INFO Download rate 1.2M/s                                                                      \n"
     ]
    },
    {
     "name": "stdout",
     "output_type": "stream",
     "text": [
      "用时67.9573564529419\n"
     ]
    },
    {
     "name": "stderr",
     "output_type": "stream",
     "text": [
      "2022-09-29 20:31:43,988 INFO Welcome to the CDS\n",
      "2022-09-29 20:31:43,989 INFO Sending request to https://cds.climate.copernicus.eu/api/v2/resources/reanalysis-era5-single-levels\n",
      "2022-09-29 20:31:44,256 INFO Request is queued\n",
      "2022-09-29 20:31:45,506 INFO Request is running\n",
      "2022-09-29 20:31:58,685 INFO Request is completed\n",
      "2022-09-29 20:31:58,686 INFO Downloading https://download-0015-clone.copernicus-climate.eu/cache-compute-0015/cache/data7/adaptor.mars.internal-1664454715.0122266-27890-17-1d3bcf2b-096a-4240-97a8-f0524a5e1a19.nc to g:/ERA5_SST/ERA5_SST_202004.nc (59.5M)\n",
      "2022-09-29 20:33:06,499 INFO Download rate 898.4K/s                                                                    \n"
     ]
    },
    {
     "name": "stdout",
     "output_type": "stream",
     "text": [
      "用时83.72936868667603\n"
     ]
    },
    {
     "name": "stderr",
     "output_type": "stream",
     "text": [
      "2022-09-29 20:33:07,714 INFO Welcome to the CDS\n",
      "2022-09-29 20:33:07,715 INFO Sending request to https://cds.climate.copernicus.eu/api/v2/resources/reanalysis-era5-single-levels\n",
      "2022-09-29 20:33:07,973 INFO Request is queued\n",
      "2022-09-29 20:33:09,230 INFO Request is running\n",
      "2022-09-29 20:33:22,394 INFO Request is completed\n",
      "2022-09-29 20:33:22,397 INFO Downloading https://download-0012-clone.copernicus-climate.eu/cache-compute-0012/cache/data9/adaptor.mars.internal-1664454798.368128-22386-15-0f4b6959-c2c4-4a3f-ae52-2b4a6bcf700a.nc to g:/ERA5_SST/ERA5_SST_202005.nc (61.5M)\n",
      "2022-09-29 20:34:05,067 INFO Download rate 1.4M/s                                                                      \n"
     ]
    },
    {
     "name": "stdout",
     "output_type": "stream",
     "text": [
      "用时57.83336162567139\n"
     ]
    },
    {
     "name": "stderr",
     "output_type": "stream",
     "text": [
      "2022-09-29 20:34:05,549 INFO Welcome to the CDS\n",
      "2022-09-29 20:34:05,550 INFO Sending request to https://cds.climate.copernicus.eu/api/v2/resources/reanalysis-era5-single-levels\n",
      "2022-09-29 20:34:05,822 INFO Request is queued\n",
      "2022-09-29 20:34:07,074 INFO Request is running\n",
      "2022-09-29 20:34:20,247 INFO Request is completed\n",
      "2022-09-29 20:34:20,249 INFO Downloading https://download-0001-clone.copernicus-climate.eu/cache-compute-0001/cache/data0/adaptor.mars.internal-1664454857.1581795-12712-11-2683be9f-9f20-4206-9ae6-b29e2e4a8f24.nc to g:/ERA5_SST/ERA5_SST_202006.nc (59.5M)\n",
      "2022-09-29 20:34:46,164 INFO Download rate 2.3M/s                                                                      \n"
     ]
    },
    {
     "name": "stdout",
     "output_type": "stream",
     "text": [
      "用时41.09459733963013\n"
     ]
    },
    {
     "name": "stderr",
     "output_type": "stream",
     "text": [
      "2022-09-29 20:34:46,645 INFO Welcome to the CDS\n",
      "2022-09-29 20:34:46,646 INFO Sending request to https://cds.climate.copernicus.eu/api/v2/resources/reanalysis-era5-single-levels\n",
      "2022-09-29 20:34:46,921 INFO Request is queued\n",
      "2022-09-29 20:34:48,170 INFO Request is running\n",
      "2022-09-29 20:35:01,333 INFO Request is completed\n",
      "2022-09-29 20:35:01,334 INFO Downloading https://download-0013-clone.copernicus-climate.eu/cache-compute-0013/cache/data1/adaptor.mars.internal-1664454897.2886822-28405-6-d8f262fc-fa4e-4557-a5a4-9eaaf35ba959.nc to g:/ERA5_SST/ERA5_SST_202007.nc (61.5M)\n",
      "2022-09-29 20:35:59,514 INFO Download rate 1.1M/s                                                                      \n"
     ]
    },
    {
     "name": "stdout",
     "output_type": "stream",
     "text": [
      "用时73.35388851165771\n"
     ]
    },
    {
     "name": "stderr",
     "output_type": "stream",
     "text": [
      "2022-09-29 20:36:00,001 INFO Welcome to the CDS\n",
      "2022-09-29 20:36:00,003 INFO Sending request to https://cds.climate.copernicus.eu/api/v2/resources/reanalysis-era5-single-levels\n",
      "2022-09-29 20:36:00,291 INFO Request is queued\n",
      "2022-09-29 20:36:01,544 INFO Request is running\n",
      "2022-09-29 20:36:14,707 INFO Request is completed\n",
      "2022-09-29 20:36:14,709 INFO Downloading https://download-0021.copernicus-climate.eu/cache-compute-0021/cache/data3/adaptor.mars.internal-1664454970.373255-32103-1-6f685b63-bdaf-481a-9c37-caf7deabf315.nc to g:/ERA5_SST/ERA5_SST_202008.nc (61.5M)\n",
      "2022-09-29 20:36:55,884 INFO Download rate 1.5M/s                                                                      \n"
     ]
    },
    {
     "name": "stdout",
     "output_type": "stream",
     "text": [
      "用时56.36747932434082\n"
     ]
    },
    {
     "name": "stderr",
     "output_type": "stream",
     "text": [
      "2022-09-29 20:36:56,368 INFO Welcome to the CDS\n",
      "2022-09-29 20:36:56,370 INFO Sending request to https://cds.climate.copernicus.eu/api/v2/resources/reanalysis-era5-single-levels\n",
      "2022-09-29 20:36:56,618 INFO Request is queued\n",
      "2022-09-29 20:36:57,862 INFO Request is running\n",
      "2022-09-29 20:37:11,038 INFO Request is completed\n",
      "2022-09-29 20:37:11,039 INFO Downloading https://download-0018.copernicus-climate.eu/cache-compute-0018/cache/data3/adaptor.mars.internal-1664455026.842415-12928-19-3e526680-3cdf-4c00-a424-7891c02ab309.nc to g:/ERA5_SST/ERA5_SST_202009.nc (59.5M)\n",
      "2022-09-29 20:37:52,442 INFO Download rate 1.4M/s                                                                      \n"
     ]
    },
    {
     "name": "stdout",
     "output_type": "stream",
     "text": [
      "用时56.55440068244934\n"
     ]
    },
    {
     "name": "stderr",
     "output_type": "stream",
     "text": [
      "2022-09-29 20:37:52,925 INFO Welcome to the CDS\n",
      "2022-09-29 20:37:52,925 INFO Sending request to https://cds.climate.copernicus.eu/api/v2/resources/reanalysis-era5-single-levels\n",
      "2022-09-29 20:37:53,282 INFO Request is queued\n",
      "2022-09-29 20:37:54,536 INFO Request is running\n",
      "2022-09-29 20:38:07,725 INFO Request is completed\n",
      "2022-09-29 20:38:07,726 INFO Downloading https://download-0001-clone.copernicus-climate.eu/cache-compute-0001/cache/data1/adaptor.mars.internal-1664455083.7928467-13149-13-a70c5a06-fe8b-4d1b-a69e-392e89d6bf4a.nc to g:/ERA5_SST/ERA5_SST_202010.nc (61.5M)\n",
      "2022-09-29 20:38:52,529 INFO Download rate 1.4M/s                                                                      \n"
     ]
    },
    {
     "name": "stdout",
     "output_type": "stream",
     "text": [
      "用时60.08897018432617\n"
     ]
    },
    {
     "name": "stderr",
     "output_type": "stream",
     "text": [
      "2022-09-29 20:38:53,016 INFO Welcome to the CDS\n",
      "2022-09-29 20:38:53,017 INFO Sending request to https://cds.climate.copernicus.eu/api/v2/resources/reanalysis-era5-single-levels\n",
      "2022-09-29 20:38:53,262 INFO Request is queued\n",
      "2022-09-29 20:38:54,519 INFO Request is running\n",
      "2022-09-29 20:39:07,706 INFO Request is completed\n",
      "2022-09-29 20:39:07,708 INFO Downloading https://download-0012-clone.copernicus-climate.eu/cache-compute-0012/cache/data9/adaptor.mars.internal-1664455142.9287584-4038-4-a1454021-11e7-471c-99b1-afa4d66bb0e7.nc to g:/ERA5_SST/ERA5_SST_202011.nc (59.5M)\n",
      "2022-09-29 20:40:00,438 INFO Download rate 1.1M/s                                                                      \n"
     ]
    },
    {
     "name": "stdout",
     "output_type": "stream",
     "text": [
      "用时67.90752077102661\n"
     ]
    },
    {
     "name": "stderr",
     "output_type": "stream",
     "text": [
      "2022-09-29 20:40:00,924 INFO Welcome to the CDS\n",
      "2022-09-29 20:40:00,925 INFO Sending request to https://cds.climate.copernicus.eu/api/v2/resources/reanalysis-era5-single-levels\n",
      "2022-09-29 20:40:01,176 INFO Request is queued\n",
      "2022-09-29 20:40:02,424 INFO Request is running\n",
      "2022-09-29 20:40:15,623 INFO Request is completed\n",
      "2022-09-29 20:40:15,626 INFO Downloading https://download-0021.copernicus-climate.eu/cache-compute-0021/cache/data3/adaptor.mars.internal-1664455211.2762997-20529-14-55ba9f5a-0e4b-434a-8bbc-99a069ce5c0b.nc to g:/ERA5_SST/ERA5_SST_202012.nc (61.5M)\n",
      "2022-09-29 20:41:20,811 INFO Download rate 965.8K/s                                                                    \n"
     ]
    },
    {
     "name": "stdout",
     "output_type": "stream",
     "text": [
      "用时81.0683605670929\n"
     ]
    },
    {
     "name": "stderr",
     "output_type": "stream",
     "text": [
      "2022-09-29 20:41:21,984 INFO Welcome to the CDS\n",
      "2022-09-29 20:41:21,985 INFO Sending request to https://cds.climate.copernicus.eu/api/v2/resources/reanalysis-era5-single-levels\n",
      "2022-09-29 20:41:22,236 INFO Request is queued\n",
      "2022-09-29 20:41:23,473 INFO Request is running\n",
      "2022-09-29 20:41:36,636 INFO Request is completed\n",
      "2022-09-29 20:41:36,638 INFO Downloading https://download-0013-clone.copernicus-climate.eu/cache-compute-0013/cache/data2/adaptor.mars.internal-1664455292.7587152-3843-1-035b5d1e-5318-4e00-b3f4-5adc251e8442.nc to g:/ERA5_SST/ERA5_SST_202101.nc (61.5M)\n",
      "2022-09-29 20:43:09,371 ERROR Download interupted: HTTPSConnectionPool(host='download-0013-clone.copernicus-climate.eu', port=443): Read timed out.\n",
      "2022-09-29 20:43:09,372 ERROR Download incomplete, downloaded 12532736 byte(s) out of 64466056\n",
      "2022-09-29 20:43:09,373 WARNING Sleeping 10 seconds\n",
      "2022-09-29 20:43:19,383 WARNING Resuming download at byte 12532736\n",
      "2022-09-29 20:44:04,933 INFO Download rate 424.5K/s                                                                    \n"
     ]
    },
    {
     "name": "stdout",
     "output_type": "stream",
     "text": [
      "用时164.16315340995789\n"
     ]
    },
    {
     "name": "stderr",
     "output_type": "stream",
     "text": [
      "2022-09-29 20:44:06,158 INFO Welcome to the CDS\n",
      "2022-09-29 20:44:06,158 INFO Sending request to https://cds.climate.copernicus.eu/api/v2/resources/reanalysis-era5-single-levels\n",
      "2022-09-29 20:44:06,429 INFO Request is queued\n",
      "2022-09-29 20:44:07,683 INFO Request is running\n",
      "2022-09-29 20:44:20,896 INFO Request is completed\n",
      "2022-09-29 20:44:20,898 INFO Downloading https://download-0000-clone.copernicus-climate.eu/cache-compute-0000/cache/data9/adaptor.mars.internal-1664455455.624012-28350-12-5c0c932a-4143-4e84-8cc9-91e40a064fc3.nc to g:/ERA5_SST/ERA5_SST_202102.nc (55.5M)\n",
      "2022-09-29 21:11:51,679 INFO Download rate 34.4K/s                                                                     \n"
     ]
    },
    {
     "name": "stdout",
     "output_type": "stream",
     "text": [
      "用时1666.667382478714\n"
     ]
    },
    {
     "name": "stderr",
     "output_type": "stream",
     "text": [
      "2022-09-29 21:11:52,811 INFO Welcome to the CDS\n",
      "2022-09-29 21:11:52,812 INFO Sending request to https://cds.climate.copernicus.eu/api/v2/resources/reanalysis-era5-single-levels\n",
      "2022-09-29 21:11:53,041 INFO Request is queued\n",
      "2022-09-29 21:11:54,271 INFO Request is running\n",
      "2022-09-29 21:12:15,198 INFO Request is completed\n",
      "2022-09-29 21:12:15,199 INFO Downloading https://download-0001-clone.copernicus-climate.eu/cache-compute-0001/cache/data4/adaptor.mars.internal-1664457125.751955-23262-12-5d2b23ce-40bb-4d68-b720-b8cfaf321fb6.nc to g:/ERA5_SST/ERA5_SST_202103.nc (61.5M)\n",
      "2022-09-29 21:13:00,598 INFO Download rate 1.4M/s                                                                      \n"
     ]
    },
    {
     "name": "stdout",
     "output_type": "stream",
     "text": [
      "用时68.23964762687683\n"
     ]
    },
    {
     "name": "stderr",
     "output_type": "stream",
     "text": [
      "2022-09-29 21:13:01,049 INFO Welcome to the CDS\n",
      "2022-09-29 21:13:01,050 INFO Sending request to https://cds.climate.copernicus.eu/api/v2/resources/reanalysis-era5-single-levels\n",
      "2022-09-29 21:13:01,296 INFO Request is queued\n",
      "2022-09-29 21:13:02,531 INFO Request is running\n",
      "2022-09-29 21:13:15,655 INFO Request is completed\n",
      "2022-09-29 21:13:15,657 INFO Downloading https://download-0012-clone.copernicus-climate.eu/cache-compute-0012/cache/data9/adaptor.mars.internal-1664457191.0823545-8195-15-6e7329ba-1c68-4564-9654-df9fbf035052.nc to g:/ERA5_SST/ERA5_SST_202104.nc (59.5M)\n",
      "2022-09-29 21:14:53,684 ERROR Download interupted: HTTPSConnectionPool(host='download-0012-clone.copernicus-climate.eu', port=443): Read timed out.\n",
      "2022-09-29 21:14:53,685 ERROR Download incomplete, downloaded 47319040 byte(s) out of 62386680\n",
      "2022-09-29 21:14:53,686 WARNING Sleeping 10 seconds\n",
      "2022-09-29 21:15:03,698 WARNING Resuming download at byte 47319040\n",
      "2022-09-29 21:15:29,522 INFO Download rate 455.1K/s                                                                    \n"
     ]
    },
    {
     "name": "stdout",
     "output_type": "stream",
     "text": [
      "用时149.55111503601074\n"
     ]
    },
    {
     "name": "stderr",
     "output_type": "stream",
     "text": [
      "2022-09-29 21:15:30,584 INFO Welcome to the CDS\n",
      "2022-09-29 21:15:30,587 INFO Sending request to https://cds.climate.copernicus.eu/api/v2/resources/reanalysis-era5-single-levels\n",
      "2022-09-29 21:15:30,840 INFO Request is queued\n",
      "2022-09-29 21:15:32,057 INFO Request is running\n",
      "2022-09-29 21:15:45,116 INFO Request is completed\n",
      "2022-09-29 21:15:45,118 INFO Downloading https://download-0011-clone.copernicus-climate.eu/cache-compute-0011/cache/data8/adaptor.mars.internal-1664457340.7719433-8038-15-b42aa7a9-f9b5-4743-991f-c05585ecc534.nc to g:/ERA5_SST/ERA5_SST_202105.nc (61.5M)\n",
      "2022-09-29 21:19:19,065 INFO Download rate 294.3K/s                                                                    \n"
     ]
    },
    {
     "name": "stdout",
     "output_type": "stream",
     "text": [
      "用时229.72829055786133\n"
     ]
    },
    {
     "name": "stderr",
     "output_type": "stream",
     "text": [
      "2022-09-29 21:19:20,376 INFO Welcome to the CDS\n",
      "2022-09-29 21:19:20,377 INFO Sending request to https://cds.climate.copernicus.eu/api/v2/resources/reanalysis-era5-single-levels\n",
      "2022-09-29 21:19:20,652 INFO Request is queued\n",
      "2022-09-29 21:19:21,925 INFO Request is running\n",
      "2022-09-29 21:19:35,182 INFO Request is completed\n",
      "2022-09-29 21:19:35,183 INFO Downloading https://download-0000-clone.copernicus-climate.eu/cache-compute-0000/cache/data0/adaptor.mars.internal-1664457570.5720222-8255-15-52c894c8-adef-4450-8bc1-d8577f1243eb.nc to g:/ERA5_SST/ERA5_SST_202106.nc (59.5M)\n",
      "2022-09-29 21:26:28,811 INFO Download rate 147.3K/s                                                                    \n"
     ]
    },
    {
     "name": "stdout",
     "output_type": "stream",
     "text": [
      "用时429.63402485847473\n"
     ]
    },
    {
     "name": "stderr",
     "output_type": "stream",
     "text": [
      "2022-09-29 21:26:29,972 INFO Welcome to the CDS\n",
      "2022-09-29 21:26:29,974 INFO Sending request to https://cds.climate.copernicus.eu/api/v2/resources/reanalysis-era5-single-levels\n",
      "2022-09-29 21:26:30,274 INFO Request is queued\n",
      "2022-09-29 21:26:31,513 INFO Request is running\n",
      "2022-09-29 21:26:44,673 INFO Request is completed\n",
      "2022-09-29 21:26:44,676 INFO Downloading https://download-0021.copernicus-climate.eu/cache-compute-0021/cache/data3/adaptor.mars.internal-1664458000.802228-15134-12-d3505c1b-3b62-433b-9d19-444e177facfd.nc to g:/ERA5_SST/ERA5_SST_202107.nc (61.5M)\n",
      "2022-09-29 21:27:07,869 INFO Download rate 2.7M/s                                                                      \n"
     ]
    },
    {
     "name": "stdout",
     "output_type": "stream",
     "text": [
      "用时38.36053705215454\n"
     ]
    },
    {
     "name": "stderr",
     "output_type": "stream",
     "text": [
      "2022-09-29 21:27:08,336 INFO Welcome to the CDS\n",
      "2022-09-29 21:27:08,338 INFO Sending request to https://cds.climate.copernicus.eu/api/v2/resources/reanalysis-era5-single-levels\n",
      "2022-09-29 21:27:08,601 INFO Request is queued\n",
      "2022-09-29 21:27:09,839 INFO Request is running\n",
      "2022-09-29 21:27:22,993 INFO Request is completed\n",
      "2022-09-29 21:27:22,995 INFO Downloading https://download-0011-clone.copernicus-climate.eu/cache-compute-0011/cache/data9/adaptor.mars.internal-1664458039.2097547-16145-16-32a01fcf-319d-4ff6-a054-9220fae9a0c7.nc to g:/ERA5_SST/ERA5_SST_202108.nc (61.5M)\n",
      "2022-09-29 21:27:53,081 INFO Download rate 2M/s                                                                        \n"
     ]
    },
    {
     "name": "stdout",
     "output_type": "stream",
     "text": [
      "用时45.21106505393982\n"
     ]
    },
    {
     "name": "stderr",
     "output_type": "stream",
     "text": [
      "2022-09-29 21:27:53,542 INFO Welcome to the CDS\n",
      "2022-09-29 21:27:53,543 INFO Sending request to https://cds.climate.copernicus.eu/api/v2/resources/reanalysis-era5-single-levels\n",
      "2022-09-29 21:27:53,797 INFO Request is queued\n",
      "2022-09-29 21:27:55,041 INFO Request is running\n",
      "2022-09-29 21:28:08,174 INFO Request is completed\n",
      "2022-09-29 21:28:08,175 INFO Downloading https://download-0003-clone.copernicus-climate.eu/cache-compute-0003/cache/data9/adaptor.mars.internal-1664458084.2224517-29161-6-aa62b25e-6fe5-4876-b3d7-ff1b0bf13b8b.nc to g:/ERA5_SST/ERA5_SST_202109.nc (59.5M)\n",
      "2022-09-29 21:30:44,732 ERROR Download interupted: HTTPSConnectionPool(host='download-0003-clone.copernicus-climate.eu', port=443): Read timed out.\n",
      "2022-09-29 21:30:44,734 ERROR Download incomplete, downloaded 40074240 byte(s) out of 62386680\n",
      "2022-09-29 21:30:44,735 WARNING Sleeping 10 seconds\n",
      "2022-09-29 21:30:54,740 WARNING Resuming download at byte 40074240\n",
      "2022-09-29 21:31:46,307 INFO Download rate 279.3K/s                                                                    \n"
     ]
    },
    {
     "name": "stdout",
     "output_type": "stream",
     "text": [
      "用时233.9140658378601\n"
     ]
    },
    {
     "name": "stderr",
     "output_type": "stream",
     "text": [
      "2022-09-29 21:31:47,464 INFO Welcome to the CDS\n",
      "2022-09-29 21:31:47,466 INFO Sending request to https://cds.climate.copernicus.eu/api/v2/resources/reanalysis-era5-single-levels\n",
      "2022-09-29 21:31:47,736 INFO Request is queued\n",
      "2022-09-29 21:31:48,969 INFO Request is running\n",
      "2022-09-29 21:32:02,082 INFO Request is completed\n",
      "2022-09-29 21:32:02,083 INFO Downloading https://download-0018.copernicus-climate.eu/cache-compute-0018/cache/data0/adaptor.mars.internal-1664458318.2437646-24730-8-e64925f2-770b-4399-906a-2294fa61d9b2.nc to g:/ERA5_SST/ERA5_SST_202110.nc (61.5M)\n",
      "2022-09-29 21:32:41,858 INFO Download rate 1.5M/s                                                                      \n"
     ]
    },
    {
     "name": "stdout",
     "output_type": "stream",
     "text": [
      "用时54.85659313201904\n"
     ]
    },
    {
     "name": "stderr",
     "output_type": "stream",
     "text": [
      "2022-09-29 21:32:42,310 INFO Welcome to the CDS\n",
      "2022-09-29 21:32:42,312 INFO Sending request to https://cds.climate.copernicus.eu/api/v2/resources/reanalysis-era5-single-levels\n",
      "2022-09-29 21:32:42,576 INFO Request is queued\n",
      "2022-09-29 21:32:43,804 INFO Request is running\n",
      "2022-09-29 21:32:56,913 INFO Request is completed\n",
      "2022-09-29 21:32:56,915 INFO Downloading https://download-0005-clone.copernicus-climate.eu/cache-compute-0005/cache/data7/adaptor.mars.internal-1664458372.7432697-17206-2-88629d76-047b-4a7f-8f9e-655428053e3d.nc to g:/ERA5_SST/ERA5_SST_202111.nc (59.5M)\n",
      "2022-09-29 21:33:25,981 INFO Download rate 2M/s                                                                        \n"
     ]
    },
    {
     "name": "stdout",
     "output_type": "stream",
     "text": [
      "用时44.12613105773926\n"
     ]
    },
    {
     "name": "stderr",
     "output_type": "stream",
     "text": [
      "2022-09-29 21:33:26,448 INFO Welcome to the CDS\n",
      "2022-09-29 21:33:26,451 INFO Sending request to https://cds.climate.copernicus.eu/api/v2/resources/reanalysis-era5-single-levels\n",
      "2022-09-29 21:33:26,692 INFO Request is queued\n",
      "2022-09-29 21:33:27,933 INFO Request is running\n",
      "2022-09-29 21:33:41,108 INFO Request is completed\n",
      "2022-09-29 21:33:41,109 INFO Downloading https://download-0014-clone.copernicus-climate.eu/cache-compute-0014/cache/data3/adaptor.mars.internal-1664458417.7751744-11642-18-668ba005-6d6a-4e18-ba2b-fb5786feb31b.nc to g:/ERA5_SST/ERA5_SST_202112.nc (61.5M)\n",
      "2022-09-29 21:34:02,162 WARNING Recovering from connection error [HTTPSConnectionPool(host='download-0014-clone.copernicus-climate.eu', port=443): Max retries exceeded with url: /cache-compute-0014/cache/data3/adaptor.mars.internal-1664458417.7751744-11642-18-668ba005-6d6a-4e18-ba2b-fb5786feb31b.nc (Caused by NewConnectionError('<urllib3.connection.HTTPSConnection object at 0x000001FAF79D5E50>: Failed to establish a new connection: [WinError 10060] 由于连接方在一段时间后没有正确答复或连接的主机没有反应，连接尝试失败。'))], attemps 0 of 500\n",
      "2022-09-29 21:34:02,163 WARNING Retrying in 120 seconds\n",
      "2022-09-29 21:36:02,179 INFO Retrying now...\n",
      "2022-09-29 21:37:21,802 INFO Download rate 285.3K/s                                                                    \n"
     ]
    },
    {
     "name": "stdout",
     "output_type": "stream",
     "text": [
      "用时235.58707976341248\n"
     ]
    }
   ],
   "source": [
    "import cdsapi\n",
    "import os\n",
    "import time\n",
    "\n",
    "c = cdsapi.Client()\n",
    "years = ('2001', '2002', '2003',\n",
    "            '2004', '2005', '2006',\n",
    "            '2007', '2008', '2009',\n",
    "            '2010', '2011', '2012',\n",
    "            '2013', '2014', '2015',\n",
    "            '2016', '2017', '2018',\n",
    "            '2019', '2020',\"2021\")\n",
    "months = ('01', '02', '03',\n",
    "            '04', '05', '06',\n",
    "            '07', '08', '09',\n",
    "            '10', '11', '12')\n",
    "for Y in years:\n",
    "    for M in months:\n",
    "        target_filename = \"g:/ERA5_SST/ERA5_SST_\" + Y + M + \".nc\"\n",
    "        if not os.path.isfile(target_filename):\n",
    "            start_time = time.time()\n",
    "            c.retrieve(\n",
    "            'reanalysis-era5-single-levels',\n",
    "            {\n",
    "                'product_type': 'reanalysis',\n",
    "                'variable': [\n",
    "                    'sea_surface_temperature',\n",
    "                ],\n",
    "                'grid':[0.5, 0.5],\n",
    "              #'area':[12, 72, 42, 128],\n",
    "                'year': Y,\n",
    "                'month': M,\n",
    "                 'day':[\n",
    "                            '01','02','03',\n",
    "                            '04','05','06',\n",
    "                            '07','08','09',\n",
    "                            '10','11','12',\n",
    "                            '13','14','15',\n",
    "                            '16','17','18',\n",
    "                            '19','20','21',\n",
    "                            '22','23','24',\n",
    "                            '25','26','27',\n",
    "                            '28','29','30',\n",
    "                            '31'\n",
    "                        ],\n",
    "                'time': [\n",
    "                    '00:00', '06:00', '12:00',\n",
    "                    '18:00',\n",
    "                ],\n",
    "                'format': 'netcdf',\n",
    "            },\n",
    "            target_filename)\n",
    "            end_time = time.time()\n",
    "            print(\"用时{}\".format(end_time-start_time))"
   ]
  },
  {
   "cell_type": "code",
   "execution_count": null,
   "id": "4c8d82e2",
   "metadata": {},
   "outputs": [],
   "source": []
  }
 ],
 "metadata": {
  "kernelspec": {
   "display_name": "Python 3",
   "language": "python",
   "name": "python3"
  },
  "language_info": {
   "codemirror_mode": {
    "name": "ipython",
    "version": 3
   },
   "file_extension": ".py",
   "mimetype": "text/x-python",
   "name": "python",
   "nbconvert_exporter": "python",
   "pygments_lexer": "ipython3",
   "version": "3.8.8"
  },
  "toc": {
   "base_numbering": 1,
   "nav_menu": {},
   "number_sections": true,
   "sideBar": true,
   "skip_h1_title": false,
   "title_cell": "Table of Contents",
   "title_sidebar": "Contents",
   "toc_cell": false,
   "toc_position": {},
   "toc_section_display": true,
   "toc_window_display": false
  }
 },
 "nbformat": 4,
 "nbformat_minor": 5
}
