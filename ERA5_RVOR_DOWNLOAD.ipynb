{
 "cells": [
  {
   "cell_type": "code",
   "execution_count": 1,
   "id": "9df954d7",
   "metadata": {
    "ExecuteTime": {
     "end_time": "2022-09-29T18:54:09.853680Z",
     "start_time": "2022-09-29T12:56:56.184945Z"
    }
   },
   "outputs": [
    {
     "name": "stderr",
     "output_type": "stream",
     "text": [
      "2022-09-29 20:56:58,255 INFO Welcome to the CDS\n",
      "2022-09-29 20:56:58,258 INFO Sending request to https://cds.climate.copernicus.eu/api/v2/resources/reanalysis-era5-pressure-levels\n",
      "2022-09-29 20:56:58,524 INFO Request is queued\n",
      "2022-09-29 20:56:59,803 INFO Request is running\n",
      "2022-09-29 20:57:13,075 INFO Request is completed\n",
      "2022-09-29 20:57:13,077 INFO Downloading https://download-0012-clone.copernicus-climate.eu/cache-compute-0012/cache/data5/adaptor.mars.internal-1664456228.2501132-7383-9-63865d9a-c545-4b69-8a1c-db5c6eeb1ab4.nc to g:/ERA5_RVOR/ERA5_RVOR_200101.nc (61.5M)\n",
      "2022-09-29 20:57:35,114 INFO Download rate 2.8M/s                                                                      \n"
     ]
    },
    {
     "name": "stdout",
     "output_type": "stream",
     "text": [
      "用时38.20218563079834\n"
     ]
    },
    {
     "name": "stderr",
     "output_type": "stream",
     "text": [
      "2022-09-29 20:57:35,646 INFO Welcome to the CDS\n",
      "2022-09-29 20:57:35,648 INFO Sending request to https://cds.climate.copernicus.eu/api/v2/resources/reanalysis-era5-pressure-levels\n",
      "2022-09-29 20:57:35,928 INFO Request is queued\n",
      "2022-09-29 20:57:37,210 INFO Request is running\n",
      "2022-09-29 20:57:45,147 INFO Request is completed\n",
      "2022-09-29 20:57:45,149 INFO Downloading https://download-0003-clone.copernicus-climate.eu/cache-compute-0003/cache/data1/adaptor.mars.internal-1664456263.6079905-3333-16-f6ae9205-f0aa-4ec2-a127-2df39bcb4913.nc to g:/ERA5_RVOR/ERA5_RVOR_200102.nc (55.5M)\n",
      "2022-09-29 20:59:41,660 INFO Download rate 488.1K/s                                                                    \n",
      "2022-09-29 20:59:42,686 INFO Welcome to the CDS\n"
     ]
    },
    {
     "name": "stdout",
     "output_type": "stream",
     "text": [
      "用时127.10326647758484\n"
     ]
    },
    {
     "name": "stderr",
     "output_type": "stream",
     "text": [
      "2022-09-29 20:59:42,688 INFO Sending request to https://cds.climate.copernicus.eu/api/v2/resources/reanalysis-era5-pressure-levels\n",
      "2022-09-29 20:59:42,903 INFO Request is queued\n",
      "2022-09-29 20:59:44,134 INFO Request is running\n",
      "2022-09-29 20:59:57,179 INFO Request is completed\n",
      "2022-09-29 20:59:57,182 INFO Downloading https://download-0010-clone.copernicus-climate.eu/cache-compute-0010/cache/data9/adaptor.mars.internal-1664456392.4227881-7121-17-3ec5c044-ead0-4473-b85c-c581ae6e9ecf.nc to g:/ERA5_RVOR/ERA5_RVOR_200103.nc (61.5M)\n",
      "2022-09-29 21:00:48,215 INFO Download rate 1.2M/s                                                                      \n",
      "2022-09-29 21:00:48,620 INFO Welcome to the CDS\n"
     ]
    },
    {
     "name": "stdout",
     "output_type": "stream",
     "text": [
      "用时65.93384742736816\n"
     ]
    },
    {
     "name": "stderr",
     "output_type": "stream",
     "text": [
      "2022-09-29 21:00:48,623 INFO Sending request to https://cds.climate.copernicus.eu/api/v2/resources/reanalysis-era5-pressure-levels\n",
      "2022-09-29 21:00:48,875 INFO Request is queued\n",
      "2022-09-29 21:00:50,079 INFO Request is running\n",
      "2022-09-29 21:01:03,117 INFO Request is completed\n",
      "2022-09-29 21:01:03,119 INFO Downloading https://download-0008-clone.copernicus-climate.eu/cache-compute-0008/cache/data0/adaptor.mars.internal-1664456458.1257844-23324-5-b5c93ed1-c0a7-40ac-98fe-d07cf3a99fbb.nc to g:/ERA5_RVOR/ERA5_RVOR_200104.nc (59.5M)\n",
      "2022-09-29 21:03:42,449 INFO Download rate 382.4K/s                                                                    \n"
     ]
    },
    {
     "name": "stdout",
     "output_type": "stream",
     "text": [
      "用时175.07072067260742\n"
     ]
    },
    {
     "name": "stderr",
     "output_type": "stream",
     "text": [
      "2022-09-29 21:03:43,744 INFO Welcome to the CDS\n",
      "2022-09-29 21:03:43,745 INFO Sending request to https://cds.climate.copernicus.eu/api/v2/resources/reanalysis-era5-pressure-levels\n",
      "2022-09-29 21:03:44,023 INFO Request is queued\n",
      "2022-09-29 21:03:45,302 INFO Request is running\n",
      "2022-09-29 21:03:53,232 INFO Request is completed\n",
      "2022-09-29 21:03:53,234 INFO Downloading https://download-0021.copernicus-climate.eu/cache-compute-0021/cache/data5/adaptor.mars.internal-1664456632.5073447-7027-7-726d852b-46bf-4b25-b3c7-e2a5585df8ca.nc to g:/ERA5_RVOR/ERA5_RVOR_200105.nc (61.5M)\n",
      "2022-09-29 21:04:54,285 INFO Download rate 1M/s                                                                        \n"
     ]
    },
    {
     "name": "stdout",
     "output_type": "stream",
     "text": [
      "用时71.05348777770996\n"
     ]
    },
    {
     "name": "stderr",
     "output_type": "stream",
     "text": [
      "2022-09-29 21:04:54,802 INFO Welcome to the CDS\n",
      "2022-09-29 21:04:54,802 INFO Sending request to https://cds.climate.copernicus.eu/api/v2/resources/reanalysis-era5-pressure-levels\n",
      "2022-09-29 21:04:55,062 INFO Request is queued\n",
      "2022-09-29 21:04:56,331 INFO Request is running\n",
      "2022-09-29 21:05:09,551 INFO Request is completed\n",
      "2022-09-29 21:05:09,552 INFO Downloading https://download-0002-clone.copernicus-climate.eu/cache-compute-0002/cache/data5/adaptor.mars.internal-1664456704.6071231-17358-3-638546c7-4044-4602-bcef-5b6a92669195.nc to g:/ERA5_RVOR/ERA5_RVOR_200106.nc (59.5M)\n",
      "2022-09-29 21:05:33,955 INFO Download rate 2.4M/s                                                                      \n"
     ]
    },
    {
     "name": "stdout",
     "output_type": "stream",
     "text": [
      "用时39.66902780532837\n"
     ]
    },
    {
     "name": "stderr",
     "output_type": "stream",
     "text": [
      "2022-09-29 21:05:34,472 INFO Welcome to the CDS\n",
      "2022-09-29 21:05:34,474 INFO Sending request to https://cds.climate.copernicus.eu/api/v2/resources/reanalysis-era5-pressure-levels\n",
      "2022-09-29 21:05:34,740 INFO Request is queued\n",
      "2022-09-29 21:05:36,001 INFO Request is running\n",
      "2022-09-29 21:05:49,231 INFO Request is completed\n",
      "2022-09-29 21:05:49,234 INFO Downloading https://download-0006-clone.copernicus-climate.eu/cache-compute-0006/cache/data9/adaptor.mars.internal-1664456744.0383067-10129-19-10c3c758-05c7-4d8c-9200-02f75710aecc.nc to g:/ERA5_RVOR/ERA5_RVOR_200107.nc (61.5M)\n",
      "2022-09-29 21:06:11,618 INFO Download rate 2.7M/s                                                                      \n"
     ]
    },
    {
     "name": "stdout",
     "output_type": "stream",
     "text": [
      "用时37.66201400756836\n"
     ]
    },
    {
     "name": "stderr",
     "output_type": "stream",
     "text": [
      "2022-09-29 21:06:12,130 INFO Welcome to the CDS\n",
      "2022-09-29 21:06:12,131 INFO Sending request to https://cds.climate.copernicus.eu/api/v2/resources/reanalysis-era5-pressure-levels\n",
      "2022-09-29 21:06:12,421 INFO Request is queued\n",
      "2022-09-29 21:06:13,677 INFO Request is running\n",
      "2022-09-29 21:06:26,934 INFO Request is completed\n",
      "2022-09-29 21:06:26,936 INFO Downloading https://download-0010-clone.copernicus-climate.eu/cache-compute-0010/cache/data9/adaptor.mars.internal-1664456781.957076-4064-18-72617976-41ab-4598-bbd8-b4509900ae8a.nc to g:/ERA5_RVOR/ERA5_RVOR_200108.nc (61.5M)\n",
      "2022-09-29 21:06:49,652 INFO Download rate 2.7M/s                                                                      \n"
     ]
    },
    {
     "name": "stdout",
     "output_type": "stream",
     "text": [
      "用时38.032705545425415\n"
     ]
    },
    {
     "name": "stderr",
     "output_type": "stream",
     "text": [
      "2022-09-29 21:06:50,168 INFO Welcome to the CDS\n",
      "2022-09-29 21:06:50,169 INFO Sending request to https://cds.climate.copernicus.eu/api/v2/resources/reanalysis-era5-pressure-levels\n",
      "2022-09-29 21:06:50,429 INFO Request is queued\n",
      "2022-09-29 21:06:51,701 INFO Request is running\n",
      "2022-09-29 21:06:59,628 INFO Request is completed\n",
      "2022-09-29 21:06:59,630 INFO Downloading https://download-0011-clone.copernicus-climate.eu/cache-compute-0011/cache/data6/adaptor.mars.internal-1664456818.7022521-13105-10-c5e5faa3-90b1-485d-9b31-533884f9da4d.nc to g:/ERA5_RVOR/ERA5_RVOR_200109.nc (59.5M)\n",
      "2022-09-29 21:07:24,724 INFO Download rate 2.4M/s                                                                      \n"
     ]
    },
    {
     "name": "stdout",
     "output_type": "stream",
     "text": [
      "用时35.07134819030762\n"
     ]
    },
    {
     "name": "stderr",
     "output_type": "stream",
     "text": [
      "2022-09-29 21:07:25,238 INFO Welcome to the CDS\n",
      "2022-09-29 21:07:25,239 INFO Sending request to https://cds.climate.copernicus.eu/api/v2/resources/reanalysis-era5-pressure-levels\n",
      "2022-09-29 21:07:25,534 INFO Request is queued\n",
      "2022-09-29 21:07:26,800 INFO Request is running\n",
      "2022-09-29 21:07:40,035 INFO Request is completed\n",
      "2022-09-29 21:07:40,036 INFO Downloading https://download-0007-clone.copernicus-climate.eu/cache-compute-0007/cache/data0/adaptor.mars.internal-1664456854.8100762-24656-7-4c43ae2d-cdfc-4403-b48f-b0392f7a9206.nc to g:/ERA5_RVOR/ERA5_RVOR_200110.nc (61.5M)\n",
      "2022-09-29 21:09:53,826 INFO Download rate 470.6K/s                                                                    \n",
      "2022-09-29 21:09:54,834 INFO Welcome to the CDS\n"
     ]
    },
    {
     "name": "stdout",
     "output_type": "stream",
     "text": [
      "用时149.65250992774963\n"
     ]
    },
    {
     "name": "stderr",
     "output_type": "stream",
     "text": [
      "2022-09-29 21:09:54,837 INFO Sending request to https://cds.climate.copernicus.eu/api/v2/resources/reanalysis-era5-pressure-levels\n",
      "2022-09-29 21:09:55,102 INFO Request is queued\n",
      "2022-09-29 21:09:56,320 INFO Request is running\n",
      "2022-09-29 21:10:09,340 INFO Request is completed\n",
      "2022-09-29 21:10:09,342 INFO Downloading https://download-0021.copernicus-climate.eu/cache-compute-0021/cache/data7/adaptor.mars.internal-1664457005.2364585-5526-13-31f6e8c4-4c05-42a5-a072-ed039001a3c5.nc to g:/ERA5_RVOR/ERA5_RVOR_200111.nc (59.5M)\n",
      "2022-09-29 21:10:20,647 INFO Download rate 5.3M/s                                                                      \n",
      "2022-09-29 21:10:21,040 INFO Welcome to the CDS\n"
     ]
    },
    {
     "name": "stdout",
     "output_type": "stream",
     "text": [
      "用时26.20786428451538\n"
     ]
    },
    {
     "name": "stderr",
     "output_type": "stream",
     "text": [
      "2022-09-29 21:10:21,041 INFO Sending request to https://cds.climate.copernicus.eu/api/v2/resources/reanalysis-era5-pressure-levels\n",
      "2022-09-29 21:10:21,290 INFO Request is queued\n",
      "2022-09-29 21:10:22,500 INFO Request is running\n",
      "2022-09-29 21:10:35,537 INFO Request is completed\n",
      "2022-09-29 21:10:35,539 INFO Downloading https://download-0021.copernicus-climate.eu/cache-compute-0021/cache/data6/adaptor.mars.internal-1664457030.6212363-5502-10-4538af6a-41fb-44d3-8e27-d81c40a2fdae.nc to g:/ERA5_RVOR/ERA5_RVOR_200112.nc (61.5M)\n",
      "2022-09-29 21:11:00,364 INFO Download rate 2.5M/s                                                                      \n",
      "2022-09-29 21:11:00,760 INFO Welcome to the CDS\n"
     ]
    },
    {
     "name": "stdout",
     "output_type": "stream",
     "text": [
      "用时39.71979570388794\n"
     ]
    },
    {
     "name": "stderr",
     "output_type": "stream",
     "text": [
      "2022-09-29 21:11:00,761 INFO Sending request to https://cds.climate.copernicus.eu/api/v2/resources/reanalysis-era5-pressure-levels\n",
      "2022-09-29 21:11:01,022 INFO Request is queued\n",
      "2022-09-29 21:11:02,234 INFO Request is running\n",
      "2022-09-29 21:11:15,250 INFO Request is completed\n",
      "2022-09-29 21:11:15,253 INFO Downloading https://download-0000-clone.copernicus-climate.eu/cache-compute-0000/cache/data5/adaptor.mars.internal-1664457071.779171-1255-17-288f7979-7fbd-4f52-a9e8-015fac82acbb.nc to g:/ERA5_RVOR/ERA5_RVOR_200201.nc (61.5M)\n",
      "2022-09-29 21:11:41,661 INFO Download rate 2.3M/s                                                                      \n",
      "2022-09-29 21:11:42,063 INFO Welcome to the CDS\n"
     ]
    },
    {
     "name": "stdout",
     "output_type": "stream",
     "text": [
      "用时41.29750156402588\n"
     ]
    },
    {
     "name": "stderr",
     "output_type": "stream",
     "text": [
      "2022-09-29 21:11:42,066 INFO Sending request to https://cds.climate.copernicus.eu/api/v2/resources/reanalysis-era5-pressure-levels\n",
      "2022-09-29 21:11:42,274 INFO Request is queued\n",
      "2022-09-29 21:11:43,484 INFO Request is running\n",
      "2022-09-29 21:11:51,248 INFO Request is completed\n",
      "2022-09-29 21:11:51,251 INFO Downloading https://download-0016.copernicus-climate.eu/cache-compute-0016/cache/data1/adaptor.mars.internal-1664457110.764878-969-16-6b747e3e-45c7-46d8-8ed0-27821a2a79f3.nc to g:/ERA5_RVOR/ERA5_RVOR_200202.nc (55.5M)\n",
      "2022-09-29 21:12:20,646 INFO Download rate 1.9M/s                                                                      \n",
      "2022-09-29 21:12:21,045 INFO Welcome to the CDS\n"
     ]
    },
    {
     "name": "stdout",
     "output_type": "stream",
     "text": [
      "用时38.98074007034302\n"
     ]
    },
    {
     "name": "stderr",
     "output_type": "stream",
     "text": [
      "2022-09-29 21:12:21,048 INFO Sending request to https://cds.climate.copernicus.eu/api/v2/resources/reanalysis-era5-pressure-levels\n",
      "2022-09-29 21:12:21,257 INFO Request is queued\n",
      "2022-09-29 21:12:22,467 INFO Request is running\n",
      "2022-09-29 21:12:35,468 INFO Request is completed\n",
      "2022-09-29 21:12:35,469 INFO Downloading https://download-0020.copernicus-climate.eu/cache-compute-0020/cache/data9/adaptor.mars.internal-1664457150.2810485-7286-18-f1f5659b-d3b0-47de-8a94-e4505c501c25.nc to g:/ERA5_RVOR/ERA5_RVOR_200203.nc (61.5M)\n",
      "2022-09-29 21:13:44,031 INFO Download rate 918.3K/s                                                                    \n",
      "2022-09-29 21:13:45,077 INFO Welcome to the CDS\n"
     ]
    },
    {
     "name": "stdout",
     "output_type": "stream",
     "text": [
      "用时84.02416515350342\n"
     ]
    },
    {
     "name": "stderr",
     "output_type": "stream",
     "text": [
      "2022-09-29 21:13:45,080 INFO Sending request to https://cds.climate.copernicus.eu/api/v2/resources/reanalysis-era5-pressure-levels\n",
      "2022-09-29 21:13:45,303 INFO Request is queued\n",
      "2022-09-29 21:13:46,523 INFO Request is running\n",
      "2022-09-29 21:13:59,571 INFO Request is completed\n",
      "2022-09-29 21:13:59,573 INFO Downloading https://download-0020.copernicus-climate.eu/cache-compute-0020/cache/data6/adaptor.mars.internal-1664457234.6382065-14501-16-ad650cd9-a2bb-401a-b173-1ecc85378b76.nc to g:/ERA5_RVOR/ERA5_RVOR_200204.nc (59.5M)\n",
      "2022-09-29 21:18:21,948 INFO Download rate 232.2K/s                                                                    \n"
     ]
    },
    {
     "name": "stdout",
     "output_type": "stream",
     "text": [
      "用时278.0733697414398\n"
     ]
    },
    {
     "name": "stderr",
     "output_type": "stream",
     "text": [
      "2022-09-29 21:18:23,191 INFO Welcome to the CDS\n",
      "2022-09-29 21:18:23,192 INFO Sending request to https://cds.climate.copernicus.eu/api/v2/resources/reanalysis-era5-pressure-levels\n",
      "2022-09-29 21:18:23,475 INFO Request is queued\n",
      "2022-09-29 21:18:24,742 INFO Request is running\n",
      "2022-09-29 21:18:32,644 INFO Request is completed\n",
      "2022-09-29 21:18:32,645 INFO Downloading https://download-0011-clone.copernicus-climate.eu/cache-compute-0011/cache/data2/adaptor.mars.internal-1664457512.1125336-25917-2-70d50591-2391-4781-9e2c-6677516e22c1.nc to g:/ERA5_RVOR/ERA5_RVOR_200205.nc (61.5M)\n",
      "2022-09-29 21:20:05,657 INFO Download rate 676.8K/s                                                                    \n"
     ]
    },
    {
     "name": "stdout",
     "output_type": "stream",
     "text": [
      "用时103.73285126686096\n"
     ]
    },
    {
     "name": "stderr",
     "output_type": "stream",
     "text": [
      "2022-09-29 21:20:06,927 INFO Welcome to the CDS\n",
      "2022-09-29 21:20:06,928 INFO Sending request to https://cds.climate.copernicus.eu/api/v2/resources/reanalysis-era5-pressure-levels\n",
      "2022-09-29 21:20:07,219 INFO Request is queued\n",
      "2022-09-29 21:20:08,479 INFO Request is running\n",
      "2022-09-29 21:20:16,412 INFO Request is completed\n",
      "2022-09-29 21:20:16,413 INFO Downloading https://download-0019.copernicus-climate.eu/cache-compute-0019/cache/data7/adaptor.mars.internal-1664457615.5754764-16097-5-6aa4b320-812b-496e-937b-95caeb3b5b2a.nc to g:/ERA5_RVOR/ERA5_RVOR_200206.nc (59.5M)\n",
      "2022-09-29 21:24:58,345 INFO Download rate 216.1K/s                                                                    \n"
     ]
    },
    {
     "name": "stdout",
     "output_type": "stream",
     "text": [
      "用时292.50964879989624\n"
     ]
    },
    {
     "name": "stderr",
     "output_type": "stream",
     "text": [
      "2022-09-29 21:24:59,396 INFO Welcome to the CDS\n",
      "2022-09-29 21:24:59,397 INFO Sending request to https://cds.climate.copernicus.eu/api/v2/resources/reanalysis-era5-pressure-levels\n",
      "2022-09-29 21:24:59,619 INFO Request is queued\n",
      "2022-09-29 21:25:00,831 INFO Request is running\n",
      "2022-09-29 21:25:13,900 INFO Request is completed\n",
      "2022-09-29 21:25:13,903 INFO Downloading https://download-0008-clone.copernicus-climate.eu/cache-compute-0008/cache/data0/adaptor.mars.internal-1664457910.534476-7386-2-d0053488-4911-4c74-9b7a-a6e1a07fc040.nc to g:/ERA5_RVOR/ERA5_RVOR_200207.nc (61.5M)\n",
      "2022-09-29 21:27:46,297 INFO Download rate 413.1K/s                                                                    \n"
     ]
    },
    {
     "name": "stdout",
     "output_type": "stream",
     "text": [
      "用时168.13148593902588\n"
     ]
    },
    {
     "name": "stderr",
     "output_type": "stream",
     "text": [
      "2022-09-29 21:27:47,574 INFO Welcome to the CDS\n",
      "2022-09-29 21:27:47,575 INFO Sending request to https://cds.climate.copernicus.eu/api/v2/resources/reanalysis-era5-pressure-levels\n",
      "2022-09-29 21:27:47,836 INFO Request is queued\n",
      "2022-09-29 21:27:49,096 INFO Request is running\n",
      "2022-09-29 21:28:02,329 INFO Request is completed\n",
      "2022-09-29 21:28:02,330 INFO Downloading https://download-0003-clone.copernicus-climate.eu/cache-compute-0003/cache/data2/adaptor.mars.internal-1664458077.2400026-17049-13-a553517b-6085-4608-b80c-196e835c0a92.nc to g:/ERA5_RVOR/ERA5_RVOR_200208.nc (61.5M)\n",
      "2022-09-29 21:28:27,188 INFO Download rate 2.5M/s                                                                      \n"
     ]
    },
    {
     "name": "stdout",
     "output_type": "stream",
     "text": [
      "用时40.13181924819946\n"
     ]
    },
    {
     "name": "stderr",
     "output_type": "stream",
     "text": [
      "2022-09-29 21:28:27,707 INFO Welcome to the CDS\n",
      "2022-09-29 21:28:27,708 INFO Sending request to https://cds.climate.copernicus.eu/api/v2/resources/reanalysis-era5-pressure-levels\n",
      "2022-09-29 21:28:27,999 INFO Request is queued\n",
      "2022-09-29 21:28:29,260 INFO Request is running\n",
      "2022-09-29 21:28:37,170 INFO Request is completed\n",
      "2022-09-29 21:28:37,172 INFO Downloading https://download-0018.copernicus-climate.eu/cache-compute-0018/cache/data4/adaptor.mars.internal-1664458116.1956432-21943-12-8e6a0a0b-1d2c-4e41-a86a-276bd60d012f.nc to g:/ERA5_RVOR/ERA5_RVOR_200209.nc (59.5M)\n",
      "2022-09-29 21:29:49,651 ERROR Download interupted: HTTPSConnectionPool(host='download-0018.copernicus-climate.eu', port=443): Read timed out.\n",
      "2022-09-29 21:29:49,652 ERROR Download incomplete, downloaded 2944000 byte(s) out of 62386740\n",
      "2022-09-29 21:29:49,652 WARNING Sleeping 10 seconds\n",
      "2022-09-29 21:29:59,658 WARNING Resuming download at byte 2944000\n",
      "2022-09-29 21:31:19,832 INFO Download rate 374.6K/s                                                                    \n"
     ]
    },
    {
     "name": "stdout",
     "output_type": "stream",
     "text": [
      "用时173.37435674667358\n"
     ]
    },
    {
     "name": "stderr",
     "output_type": "stream",
     "text": [
      "2022-09-29 21:31:21,082 INFO Welcome to the CDS\n",
      "2022-09-29 21:31:21,084 INFO Sending request to https://cds.climate.copernicus.eu/api/v2/resources/reanalysis-era5-pressure-levels\n",
      "2022-09-29 21:31:21,345 INFO Request is queued\n",
      "2022-09-29 21:31:22,604 INFO Request is running\n",
      "2022-09-29 21:31:35,842 INFO Request is completed\n",
      "2022-09-29 21:31:35,844 INFO Downloading https://download-0010-clone.copernicus-climate.eu/cache-compute-0010/cache/data0/adaptor.mars.internal-1664458290.3805697-24039-14-6f613fef-ba32-494f-be2f-d4c4536268ff.nc to g:/ERA5_RVOR/ERA5_RVOR_200210.nc (61.5M)\n",
      "2022-09-29 21:32:24,265 INFO Download rate 1.3M/s                                                                      \n"
     ]
    },
    {
     "name": "stdout",
     "output_type": "stream",
     "text": [
      "用时63.68881940841675\n"
     ]
    },
    {
     "name": "stderr",
     "output_type": "stream",
     "text": [
      "2022-09-29 21:32:24,757 INFO Welcome to the CDS\n",
      "2022-09-29 21:32:24,759 INFO Sending request to https://cds.climate.copernicus.eu/api/v2/resources/reanalysis-era5-pressure-levels\n",
      "2022-09-29 21:32:25,023 INFO Request is queued\n",
      "2022-09-29 21:32:26,282 INFO Request is running\n",
      "2022-09-29 21:32:34,157 INFO Request is completed\n",
      "2022-09-29 21:32:34,158 INFO Downloading https://download-0005-clone.copernicus-climate.eu/cache-compute-0005/cache/data5/adaptor.mars.internal-1664458353.6853569-7675-12-6063f643-4216-4a6f-8b37-2cc775fef54f.nc to g:/ERA5_RVOR/ERA5_RVOR_200211.nc (59.5M)\n",
      "2022-09-29 21:34:37,941 INFO Download rate 492.2K/s                                                                    \n"
     ]
    },
    {
     "name": "stdout",
     "output_type": "stream",
     "text": [
      "用时134.46756291389465\n"
     ]
    },
    {
     "name": "stderr",
     "output_type": "stream",
     "text": [
      "2022-09-29 21:34:39,242 INFO Welcome to the CDS\n",
      "2022-09-29 21:34:39,243 INFO Sending request to https://cds.climate.copernicus.eu/api/v2/resources/reanalysis-era5-pressure-levels\n",
      "2022-09-29 21:34:39,539 INFO Request is queued\n",
      "2022-09-29 21:34:40,814 INFO Request is running\n",
      "2022-09-29 21:34:54,091 INFO Request is completed\n",
      "2022-09-29 21:34:54,094 INFO Downloading https://download-0014-clone.copernicus-climate.eu/cache-compute-0014/cache/data8/adaptor.mars.internal-1664458488.2105052-13731-13-b55cf684-b467-48b9-9123-142aafe6260e.nc to g:/ERA5_RVOR/ERA5_RVOR_200212.nc (61.5M)\n",
      "2022-09-29 21:35:28,295 INFO Download rate 1.8M/s                                                                      \n"
     ]
    },
    {
     "name": "stdout",
     "output_type": "stream",
     "text": [
      "用时49.57452034950256\n"
     ]
    },
    {
     "name": "stderr",
     "output_type": "stream",
     "text": [
      "2022-09-29 21:35:28,821 INFO Welcome to the CDS\n",
      "2022-09-29 21:35:28,824 INFO Sending request to https://cds.climate.copernicus.eu/api/v2/resources/reanalysis-era5-pressure-levels\n",
      "2022-09-29 21:35:29,147 INFO Request is queued\n",
      "2022-09-29 21:35:30,422 INFO Request is running\n",
      "2022-09-29 21:35:43,689 INFO Request is completed\n",
      "2022-09-29 21:35:43,692 INFO Downloading https://download-0001-clone.copernicus-climate.eu/cache-compute-0001/cache/data0/adaptor.mars.internal-1664458538.0890293-21354-17-945b8e21-1649-4bb8-b3ec-9e8fe3f9f1da.nc to g:/ERA5_RVOR/ERA5_RVOR_200301.nc (61.5M)\n",
      "2022-09-29 21:37:22,872 INFO Download rate 634.8K/s                                                                    \n"
     ]
    },
    {
     "name": "stdout",
     "output_type": "stream",
     "text": [
      "用时115.34836459159851\n"
     ]
    },
    {
     "name": "stderr",
     "output_type": "stream",
     "text": [
      "2022-09-29 21:37:24,165 INFO Welcome to the CDS\n",
      "2022-09-29 21:37:24,166 INFO Sending request to https://cds.climate.copernicus.eu/api/v2/resources/reanalysis-era5-pressure-levels\n",
      "2022-09-29 21:37:24,459 INFO Request is queued\n",
      "2022-09-29 21:37:25,723 INFO Request is running\n",
      "2022-09-29 21:37:33,647 INFO Request is completed\n",
      "2022-09-29 21:37:33,649 INFO Downloading https://download-0009-clone.copernicus-climate.eu/cache-compute-0009/cache/data2/adaptor.mars.internal-1664458653.3644357-8478-10-48beb4e0-d6c9-4ad3-984b-dbc07440799b.nc to g:/ERA5_RVOR/ERA5_RVOR_200302.nc (55.5M)\n",
      "2022-09-29 21:38:42,422 INFO Download rate 826.8K/s                                                                    \n"
     ]
    },
    {
     "name": "stdout",
     "output_type": "stream",
     "text": [
      "用时79.56764245033264\n"
     ]
    },
    {
     "name": "stderr",
     "output_type": "stream",
     "text": [
      "2022-09-29 21:38:43,739 INFO Welcome to the CDS\n",
      "2022-09-29 21:38:43,740 INFO Sending request to https://cds.climate.copernicus.eu/api/v2/resources/reanalysis-era5-pressure-levels\n",
      "2022-09-29 21:38:44,029 INFO Request is queued\n",
      "2022-09-29 21:38:45,293 INFO Request is running\n",
      "2022-09-29 21:38:53,233 INFO Request is completed\n",
      "2022-09-29 21:38:53,235 INFO Downloading https://download-0020.copernicus-climate.eu/cache-compute-0020/cache/data4/adaptor.mars.internal-1664458733.128356-9774-3-f424d15f-f730-4954-97d8-fe7aa4193bd9.nc to g:/ERA5_RVOR/ERA5_RVOR_200303.nc (61.5M)\n",
      "2022-09-29 21:39:37,018 INFO Download rate 1.4M/s                                                                      \n"
     ]
    },
    {
     "name": "stdout",
     "output_type": "stream",
     "text": [
      "用时53.80602788925171\n"
     ]
    },
    {
     "name": "stderr",
     "output_type": "stream",
     "text": [
      "2022-09-29 21:39:37,549 INFO Welcome to the CDS\n",
      "2022-09-29 21:39:37,551 INFO Sending request to https://cds.climate.copernicus.eu/api/v2/resources/reanalysis-era5-pressure-levels\n",
      "2022-09-29 21:39:37,826 INFO Request is queued\n",
      "2022-09-29 21:39:39,107 INFO Request is running\n",
      "2022-09-29 21:39:47,038 INFO Request is completed\n",
      "2022-09-29 21:39:47,039 INFO Downloading https://download-0008-clone.copernicus-climate.eu/cache-compute-0008/cache/data6/adaptor.mars.internal-1664458786.1633143-9602-6-72d34443-0659-4186-915a-774cf998ae98.nc to g:/ERA5_RVOR/ERA5_RVOR_200304.nc (59.5M)\n",
      "2022-09-29 21:42:25,441 INFO Download rate 384.6K/s                                                                    \n"
     ]
    },
    {
     "name": "stdout",
     "output_type": "stream",
     "text": [
      "用时169.098872423172\n"
     ]
    },
    {
     "name": "stderr",
     "output_type": "stream",
     "text": [
      "2022-09-29 21:42:26,620 INFO Welcome to the CDS\n",
      "2022-09-29 21:42:26,621 INFO Sending request to https://cds.climate.copernicus.eu/api/v2/resources/reanalysis-era5-pressure-levels\n",
      "2022-09-29 21:42:26,862 INFO Request is queued\n",
      "2022-09-29 21:42:28,101 INFO Request is running\n",
      "2022-09-29 21:42:41,245 INFO Request is completed\n",
      "2022-09-29 21:42:41,246 INFO Downloading https://download-0001-clone.copernicus-climate.eu/cache-compute-0001/cache/data4/adaptor.mars.internal-1664458956.324383-18111-5-50c83745-f9b3-44aa-be69-777baf724fa5.nc to g:/ERA5_RVOR/ERA5_RVOR_200305.nc (61.5M)\n",
      "2022-09-29 21:46:25,614 INFO Download rate 280.6K/s                                                                    \n"
     ]
    },
    {
     "name": "stdout",
     "output_type": "stream",
     "text": [
      "用时240.13791751861572\n"
     ]
    },
    {
     "name": "stderr",
     "output_type": "stream",
     "text": [
      "2022-09-29 21:46:26,751 INFO Welcome to the CDS\n",
      "2022-09-29 21:46:26,753 INFO Sending request to https://cds.climate.copernicus.eu/api/v2/resources/reanalysis-era5-pressure-levels\n",
      "2022-09-29 21:46:27,006 INFO Request is queued\n",
      "2022-09-29 21:46:28,250 INFO Request is running\n",
      "2022-09-29 21:46:49,223 INFO Request is completed\n",
      "2022-09-29 21:46:49,224 INFO Downloading https://download-0004-clone.copernicus-climate.eu/cache-compute-0004/cache/data3/adaptor.mars.internal-1664459203.393545-22199-15-42ae5157-8890-4b5c-81d0-056bdb3dce7c.nc to g:/ERA5_RVOR/ERA5_RVOR_200306.nc (59.5M)\n",
      "2022-09-29 21:50:21,889 INFO Download rate 286.5K/s                                                                    \n"
     ]
    },
    {
     "name": "stdout",
     "output_type": "stream",
     "text": [
      "用时236.3156771659851\n"
     ]
    },
    {
     "name": "stderr",
     "output_type": "stream",
     "text": [
      "2022-09-29 21:50:23,068 INFO Welcome to the CDS\n",
      "2022-09-29 21:50:23,069 INFO Sending request to https://cds.climate.copernicus.eu/api/v2/resources/reanalysis-era5-pressure-levels\n",
      "2022-09-29 21:50:23,324 INFO Request is queued\n",
      "2022-09-29 21:50:24,561 INFO Request is running\n",
      "2022-09-29 21:50:37,696 INFO Request is completed\n",
      "2022-09-29 21:50:37,699 INFO Downloading https://download-0010-clone.copernicus-climate.eu/cache-compute-0010/cache/data6/adaptor.mars.internal-1664459432.86604-6903-8-41699593-13db-4e20-9dd5-85fa35bbc86f.nc to g:/ERA5_RVOR/ERA5_RVOR_200307.nc (61.5M)\n",
      "2022-09-29 21:51:04,033 INFO Download rate 2.3M/s                                                                      \n"
     ]
    },
    {
     "name": "stdout",
     "output_type": "stream",
     "text": [
      "用时41.4271240234375\n"
     ]
    },
    {
     "name": "stderr",
     "output_type": "stream",
     "text": [
      "2022-09-29 21:51:04,501 INFO Welcome to the CDS\n",
      "2022-09-29 21:51:04,502 INFO Sending request to https://cds.climate.copernicus.eu/api/v2/resources/reanalysis-era5-pressure-levels\n",
      "2022-09-29 21:51:04,756 INFO Request is queued\n",
      "2022-09-29 21:51:05,997 INFO Request is running\n",
      "2022-09-29 21:51:19,148 INFO Request is completed\n",
      "2022-09-29 21:51:19,151 INFO Downloading https://download-0005-clone.copernicus-climate.eu/cache-compute-0005/cache/data8/adaptor.mars.internal-1664459474.613999-24332-1-c5e976f8-e1a3-4dd3-bd4d-afd511a12bf9.nc to g:/ERA5_RVOR/ERA5_RVOR_200308.nc (61.5M)\n",
      "2022-09-29 21:51:51,713 INFO Download rate 1.9M/s                                                                      \n"
     ]
    },
    {
     "name": "stdout",
     "output_type": "stream",
     "text": [
      "用时47.67754316329956\n"
     ]
    },
    {
     "name": "stderr",
     "output_type": "stream",
     "text": [
      "2022-09-29 21:51:52,175 INFO Welcome to the CDS\n",
      "2022-09-29 21:51:52,177 INFO Sending request to https://cds.climate.copernicus.eu/api/v2/resources/reanalysis-era5-pressure-levels\n",
      "2022-09-29 21:51:52,465 INFO Request is queued\n",
      "2022-09-29 21:51:53,706 INFO Request is running\n",
      "2022-09-29 21:52:06,856 INFO Request is completed\n",
      "2022-09-29 21:52:06,859 INFO Downloading https://download-0005-clone.copernicus-climate.eu/cache-compute-0005/cache/data9/adaptor.mars.internal-1664459521.5365198-20603-8-4c3c114e-36b2-4976-a253-f5ec5fd6e0a7.nc to g:/ERA5_RVOR/ERA5_RVOR_200309.nc (59.5M)\n",
      "2022-09-29 21:52:39,834 INFO Download rate 1.8M/s                                                                      \n"
     ]
    },
    {
     "name": "stdout",
     "output_type": "stream",
     "text": [
      "用时48.13561725616455\n"
     ]
    },
    {
     "name": "stderr",
     "output_type": "stream",
     "text": [
      "2022-09-29 21:52:40,326 INFO Welcome to the CDS\n",
      "2022-09-29 21:52:40,327 INFO Sending request to https://cds.climate.copernicus.eu/api/v2/resources/reanalysis-era5-pressure-levels\n",
      "2022-09-29 21:52:40,592 INFO Request is queued\n",
      "2022-09-29 21:52:41,837 INFO Request is running\n",
      "2022-09-29 21:52:55,036 INFO Request is completed\n",
      "2022-09-29 21:52:55,039 INFO Downloading https://download-0015-clone.copernicus-climate.eu/cache-compute-0015/cache/data0/adaptor.mars.internal-1664459570.1116624-30878-12-05297c47-352f-47b0-b73f-b28fbc0681c0.nc to g:/ERA5_RVOR/ERA5_RVOR_200310.nc (61.5M)\n",
      "2022-09-29 21:53:36,484 INFO Download rate 1.5M/s                                                                      \n"
     ]
    },
    {
     "name": "stdout",
     "output_type": "stream",
     "text": [
      "用时56.64667344093323\n"
     ]
    },
    {
     "name": "stderr",
     "output_type": "stream",
     "text": [
      "2022-09-29 21:53:36,970 INFO Welcome to the CDS\n",
      "2022-09-29 21:53:36,972 INFO Sending request to https://cds.climate.copernicus.eu/api/v2/resources/reanalysis-era5-pressure-levels\n",
      "2022-09-29 21:53:37,247 INFO Request is queued\n",
      "2022-09-29 21:53:38,509 INFO Request is running\n",
      "2022-09-29 21:53:51,721 INFO Request is completed\n",
      "2022-09-29 21:53:51,724 INFO Downloading https://download-0020.copernicus-climate.eu/cache-compute-0020/cache/data6/adaptor.mars.internal-1664459626.2282202-12030-6-f21106ef-7f81-4c0b-8f5b-851792780f07.nc to g:/ERA5_RVOR/ERA5_RVOR_200311.nc (59.5M)\n",
      "2022-09-29 21:58:41,151 ERROR Download interupted: HTTPSConnectionPool(host='download-0020.copernicus-climate.eu', port=443): Read timed out.\n",
      "2022-09-29 21:58:41,152 ERROR Download incomplete, downloaded 61310976 byte(s) out of 62386740\n",
      "2022-09-29 21:58:41,152 WARNING Sleeping 10 seconds\n",
      "2022-09-29 21:58:51,162 WARNING Resuming download at byte 61310976\n",
      "2022-09-29 21:58:56,038 INFO Download rate 200.2K/s                                                                    \n"
     ]
    },
    {
     "name": "stdout",
     "output_type": "stream",
     "text": [
      "用时320.22906517982483\n"
     ]
    },
    {
     "name": "stderr",
     "output_type": "stream",
     "text": [
      "2022-09-29 21:58:57,179 INFO Welcome to the CDS\n",
      "2022-09-29 21:58:57,181 INFO Sending request to https://cds.climate.copernicus.eu/api/v2/resources/reanalysis-era5-pressure-levels\n",
      "2022-09-29 21:58:57,407 INFO Request is queued\n",
      "2022-09-29 21:58:58,638 INFO Request is running\n",
      "2022-09-29 21:59:11,768 INFO Request is completed\n",
      "2022-09-29 21:59:11,771 INFO Downloading https://download-0021.copernicus-climate.eu/cache-compute-0021/cache/data7/adaptor.mars.internal-1664459947.4263148-31540-13-6f1289f2-d9db-4540-8e29-e1fde5ef1de8.nc to g:/ERA5_RVOR/ERA5_RVOR_200312.nc (61.5M)\n",
      "2022-09-29 22:00:37,720 ERROR Download interupted: HTTPSConnectionPool(host='download-0021.copernicus-climate.eu', port=443): Read timed out.\n",
      "2022-09-29 22:00:37,721 ERROR Download incomplete, downloaded 2542592 byte(s) out of 64466120\n",
      "2022-09-29 22:00:37,722 WARNING Sleeping 10 seconds\n",
      "2022-09-29 22:00:47,728 WARNING Resuming download at byte 2542592\n",
      "2022-09-29 22:02:33,167 INFO Download rate 312.6K/s                                                                    \n"
     ]
    },
    {
     "name": "stdout",
     "output_type": "stream",
     "text": [
      "用时218.20256924629211\n"
     ]
    },
    {
     "name": "stderr",
     "output_type": "stream",
     "text": [
      "2022-09-29 22:02:35,413 INFO Welcome to the CDS\n",
      "2022-09-29 22:02:35,415 INFO Sending request to https://cds.climate.copernicus.eu/api/v2/resources/reanalysis-era5-pressure-levels\n",
      "2022-09-29 22:02:35,806 INFO Request is queued\n",
      "2022-09-29 22:02:37,076 INFO Request is running\n",
      "2022-09-29 22:02:44,976 INFO Request is completed\n",
      "2022-09-29 22:02:44,977 INFO Downloading https://download-0008-clone.copernicus-climate.eu/cache-compute-0008/cache/data3/adaptor.mars.internal-1664460164.1508691-11676-15-8cb885ae-5e39-4798-8e5d-10bf43cfc3df.nc to g:/ERA5_RVOR/ERA5_RVOR_200401.nc (61.5M)\n",
      "2022-09-29 22:03:29,641 INFO Download rate 1.4M/s                                                                      \n"
     ]
    },
    {
     "name": "stdout",
     "output_type": "stream",
     "text": [
      "用时54.73284959793091\n"
     ]
    },
    {
     "name": "stderr",
     "output_type": "stream",
     "text": [
      "2022-09-29 22:03:30,144 INFO Welcome to the CDS\n",
      "2022-09-29 22:03:30,146 INFO Sending request to https://cds.climate.copernicus.eu/api/v2/resources/reanalysis-era5-pressure-levels\n",
      "2022-09-29 22:03:30,433 INFO Request is queued\n",
      "2022-09-29 22:03:31,700 INFO Request is running\n",
      "2022-09-29 22:03:39,610 INFO Request is completed\n",
      "2022-09-29 22:03:39,612 INFO Downloading https://download-0017.copernicus-climate.eu/cache-compute-0017/cache/data1/adaptor.mars.internal-1664460218.3774617-16512-16-7f89a808-9e00-4485-928c-786cb97145c5.nc to g:/ERA5_RVOR/ERA5_RVOR_200402.nc (57.5M)\n",
      "2022-09-29 22:04:21,345 INFO Download rate 1.4M/s                                                                      \n"
     ]
    },
    {
     "name": "stdout",
     "output_type": "stream",
     "text": [
      "用时51.70503330230713\n"
     ]
    },
    {
     "name": "stderr",
     "output_type": "stream",
     "text": [
      "2022-09-29 22:04:21,851 INFO Welcome to the CDS\n",
      "2022-09-29 22:04:21,852 INFO Sending request to https://cds.climate.copernicus.eu/api/v2/resources/reanalysis-era5-pressure-levels\n",
      "2022-09-29 22:04:22,150 INFO Request is queued\n",
      "2022-09-29 22:04:23,411 INFO Request is running\n",
      "2022-09-29 22:04:36,652 INFO Request is completed\n",
      "2022-09-29 22:04:36,652 INFO Downloading https://download-0014-clone.copernicus-climate.eu/cache-compute-0014/cache/data6/adaptor.mars.internal-1664460271.9512634-9696-4-b4f143e1-45a0-45a8-955a-8c4e64cc7391.nc to g:/ERA5_RVOR/ERA5_RVOR_200403.nc (61.5M)\n",
      "2022-09-29 22:05:01,116 INFO Download rate 2.5M/s                                                                      \n"
     ]
    },
    {
     "name": "stdout",
     "output_type": "stream",
     "text": [
      "用时39.76968860626221\n"
     ]
    },
    {
     "name": "stderr",
     "output_type": "stream",
     "text": [
      "2022-09-29 22:05:01,622 INFO Welcome to the CDS\n",
      "2022-09-29 22:05:01,623 INFO Sending request to https://cds.climate.copernicus.eu/api/v2/resources/reanalysis-era5-pressure-levels\n",
      "2022-09-29 22:05:01,892 INFO Request is queued\n",
      "2022-09-29 22:05:03,159 INFO Request is running\n",
      "2022-09-29 22:05:16,409 INFO Request is completed\n",
      "2022-09-29 22:05:16,410 INFO Downloading https://download-0004-clone.copernicus-climate.eu/cache-compute-0004/cache/data3/adaptor.mars.internal-1664460311.2475066-6110-15-e6b63b86-c763-4697-a725-2f7e0bbaa4a4.nc to g:/ERA5_RVOR/ERA5_RVOR_200404.nc (59.5M)\n",
      "2022-09-29 22:07:12,010 INFO Download rate 527K/s                                                                      \n",
      "2022-09-29 22:07:13,038 INFO Welcome to the CDS\n"
     ]
    },
    {
     "name": "stdout",
     "output_type": "stream",
     "text": [
      "用时131.46240258216858\n"
     ]
    },
    {
     "name": "stderr",
     "output_type": "stream",
     "text": [
      "2022-09-29 22:07:13,039 INFO Sending request to https://cds.climate.copernicus.eu/api/v2/resources/reanalysis-era5-pressure-levels\n",
      "2022-09-29 22:07:13,249 INFO Request is queued\n",
      "2022-09-29 22:07:14,472 INFO Request is running\n",
      "2022-09-29 22:07:27,507 INFO Request is completed\n",
      "2022-09-29 22:07:27,508 INFO Downloading https://download-0007-clone.copernicus-climate.eu/cache-compute-0007/cache/data0/adaptor.mars.internal-1664460443.0753288-26006-7-50a4ad71-94e9-4c28-af99-14245d688f32.nc to g:/ERA5_RVOR/ERA5_RVOR_200405.nc (61.5M)\n",
      "2022-09-29 22:08:15,633 INFO Download rate 1.3M/s                                                                      \n"
     ]
    },
    {
     "name": "stdout",
     "output_type": "stream",
     "text": [
      "用时63.00651788711548\n"
     ]
    },
    {
     "name": "stderr",
     "output_type": "stream",
     "text": [
      "2022-09-29 22:08:16,048 INFO Welcome to the CDS\n",
      "2022-09-29 22:08:16,050 INFO Sending request to https://cds.climate.copernicus.eu/api/v2/resources/reanalysis-era5-pressure-levels\n",
      "2022-09-29 22:08:16,322 INFO Request is queued\n",
      "2022-09-29 22:08:17,537 INFO Request is running\n",
      "2022-09-29 22:08:25,302 INFO Request is completed\n",
      "2022-09-29 22:08:25,305 INFO Downloading https://download-0003-clone.copernicus-climate.eu/cache-compute-0003/cache/data1/adaptor.mars.internal-1664460504.9187958-10148-12-80cd3995-d749-4b3b-af3e-9ddb06e338a1.nc to g:/ERA5_RVOR/ERA5_RVOR_200406.nc (59.5M)\n",
      "2022-09-29 22:13:44,583 INFO Download rate 190.8K/s                                                                    \n",
      "2022-09-29 22:13:45,621 INFO Welcome to the CDS\n"
     ]
    },
    {
     "name": "stdout",
     "output_type": "stream",
     "text": [
      "用时329.57100319862366\n"
     ]
    },
    {
     "name": "stderr",
     "output_type": "stream",
     "text": [
      "2022-09-29 22:13:45,624 INFO Sending request to https://cds.climate.copernicus.eu/api/v2/resources/reanalysis-era5-pressure-levels\n",
      "2022-09-29 22:13:45,857 INFO Request is queued\n",
      "2022-09-29 22:13:47,070 INFO Request is running\n",
      "2022-09-29 22:14:00,098 INFO Request is completed\n",
      "2022-09-29 22:14:00,099 INFO Downloading https://download-0007-clone.copernicus-climate.eu/cache-compute-0007/cache/data8/adaptor.mars.internal-1664460834.6092024-25065-12-48109573-ae9d-4a5f-b039-9d0e00eb116d.nc to g:/ERA5_RVOR/ERA5_RVOR_200407.nc (61.5M)\n",
      "2022-09-29 22:24:39,294 INFO Download rate 98.5K/s                                                                     \n"
     ]
    },
    {
     "name": "stdout",
     "output_type": "stream",
     "text": [
      "用时654.961430311203\n"
     ]
    },
    {
     "name": "stderr",
     "output_type": "stream",
     "text": [
      "2022-09-29 22:24:40,651 INFO Welcome to the CDS\n",
      "2022-09-29 22:24:40,653 INFO Sending request to https://cds.climate.copernicus.eu/api/v2/resources/reanalysis-era5-pressure-levels\n",
      "2022-09-29 22:24:40,975 INFO Request is queued\n",
      "2022-09-29 22:24:42,258 INFO Request is running\n",
      "2022-09-29 22:24:55,596 INFO Request is completed\n",
      "2022-09-29 22:24:55,599 INFO Downloading https://download-0004-clone.copernicus-climate.eu/cache-compute-0004/cache/data3/adaptor.mars.internal-1664461490.480316-22812-7-f8f4b860-bfa0-4d33-a4f2-22f8c3396fbf.nc to g:/ERA5_RVOR/ERA5_RVOR_200408.nc (61.5M)\n",
      "2022-09-29 22:34:54,091 INFO Download rate 105.2K/s                                                                    \n",
      "2022-09-29 22:34:55,143 INFO Welcome to the CDS\n"
     ]
    },
    {
     "name": "stdout",
     "output_type": "stream",
     "text": [
      "用时614.5593802928925\n"
     ]
    },
    {
     "name": "stderr",
     "output_type": "stream",
     "text": [
      "2022-09-29 22:34:55,146 INFO Sending request to https://cds.climate.copernicus.eu/api/v2/resources/reanalysis-era5-pressure-levels\n",
      "2022-09-29 22:34:55,393 INFO Request is queued\n",
      "2022-09-29 22:34:56,605 INFO Request is running\n",
      "2022-09-29 22:35:09,678 INFO Request is completed\n",
      "2022-09-29 22:35:09,680 INFO Downloading https://download-0008-clone.copernicus-climate.eu/cache-compute-0008/cache/data8/adaptor.mars.internal-1664462104.4263074-30056-8-9541ed53-c5e3-456d-b4fa-4d681ae90da2.nc to g:/ERA5_RVOR/ERA5_RVOR_200409.nc (59.5M)\n",
      "2022-09-29 22:52:27,021 INFO Download rate 58.7K/s                                                                     \n"
     ]
    },
    {
     "name": "stdout",
     "output_type": "stream",
     "text": [
      "用时1053.0317778587341\n"
     ]
    },
    {
     "name": "stderr",
     "output_type": "stream",
     "text": [
      "2022-09-29 22:52:28,200 INFO Welcome to the CDS\n",
      "2022-09-29 22:52:28,201 INFO Sending request to https://cds.climate.copernicus.eu/api/v2/resources/reanalysis-era5-pressure-levels\n",
      "2022-09-29 22:52:28,487 INFO Request is queued\n",
      "2022-09-29 22:52:29,744 INFO Request is running\n",
      "2022-09-29 22:52:42,910 INFO Request is completed\n",
      "2022-09-29 22:52:42,911 INFO Downloading https://download-0002-clone.copernicus-climate.eu/cache-compute-0002/cache/data5/adaptor.mars.internal-1664463157.5229795-5530-3-995d4423-ffdb-4833-92b8-fc8c0a856c4e.nc to g:/ERA5_RVOR/ERA5_RVOR_200410.nc (61.5M)\n",
      "2022-09-29 23:08:40,333 INFO Download rate 65.8K/s                                                                     \n"
     ]
    },
    {
     "name": "stdout",
     "output_type": "stream",
     "text": [
      "用时973.3963196277618\n"
     ]
    },
    {
     "name": "stderr",
     "output_type": "stream",
     "text": [
      "2022-09-29 23:08:41,618 INFO Welcome to the CDS\n",
      "2022-09-29 23:08:41,620 INFO Sending request to https://cds.climate.copernicus.eu/api/v2/resources/reanalysis-era5-pressure-levels\n",
      "2022-09-29 23:08:41,882 INFO Request is queued\n",
      "2022-09-29 23:08:43,152 INFO Request is running\n",
      "2022-09-29 23:08:51,045 INFO Request is completed\n",
      "2022-09-29 23:08:51,047 INFO Downloading https://download-0019.copernicus-climate.eu/cache-compute-0019/cache/data4/adaptor.mars.internal-1664464130.6924276-15512-2-56e0a531-cd25-498c-a49a-515f47214caa.nc to g:/ERA5_RVOR/ERA5_RVOR_200411.nc (59.5M)\n",
      "2022-09-29 23:18:09,209 INFO Download rate 109.2K/s                                                                    \n"
     ]
    },
    {
     "name": "stdout",
     "output_type": "stream",
     "text": [
      "用时568.910040140152\n"
     ]
    },
    {
     "name": "stderr",
     "output_type": "stream",
     "text": [
      "2022-09-29 23:18:10,547 INFO Welcome to the CDS\n",
      "2022-09-29 23:18:10,549 INFO Sending request to https://cds.climate.copernicus.eu/api/v2/resources/reanalysis-era5-pressure-levels\n",
      "2022-09-29 23:18:10,867 INFO Request is queued\n",
      "2022-09-29 23:18:12,132 INFO Request is running\n",
      "2022-09-29 23:18:20,091 INFO Request is completed\n",
      "2022-09-29 23:18:20,094 INFO Downloading https://download-0013-clone.copernicus-climate.eu/cache-compute-0013/cache/data1/adaptor.mars.internal-1664464699.4630046-15565-6-7c29b56c-d259-4e97-a4bc-3c52637003e0.nc to g:/ERA5_RVOR/ERA5_RVOR_200412.nc (61.5M)\n",
      "2022-09-29 23:34:31,046 INFO Download rate 64.8K/s                                                                     \n",
      "2022-09-29 23:34:32,096 INFO Welcome to the CDS\n"
     ]
    },
    {
     "name": "stdout",
     "output_type": "stream",
     "text": [
      "用时981.615749835968\n"
     ]
    },
    {
     "name": "stderr",
     "output_type": "stream",
     "text": [
      "2022-09-29 23:34:32,097 INFO Sending request to https://cds.climate.copernicus.eu/api/v2/resources/reanalysis-era5-pressure-levels\n",
      "2022-09-29 23:34:32,342 INFO Request is queued\n",
      "2022-09-29 23:34:33,564 INFO Request is running\n",
      "2022-09-29 23:34:41,793 INFO Request is completed\n",
      "2022-09-29 23:34:41,794 INFO Downloading https://download-0004-clone.copernicus-climate.eu/cache-compute-0004/cache/data0/adaptor.mars.internal-1664465679.6584632-21267-16-e7c7b0a7-48ea-4dd5-9550-c23764c242a6.nc to g:/ERA5_RVOR/ERA5_RVOR_200501.nc (61.5M)\n",
      "2022-09-29 23:43:18,446 INFO Download rate 121.9K/s                                                                    \n"
     ]
    },
    {
     "name": "stdout",
     "output_type": "stream",
     "text": [
      "用时528.3914122581482\n"
     ]
    },
    {
     "name": "stderr",
     "output_type": "stream",
     "text": [
      "2022-09-29 23:43:20,518 INFO Welcome to the CDS\n",
      "2022-09-29 23:43:20,520 INFO Sending request to https://cds.climate.copernicus.eu/api/v2/resources/reanalysis-era5-pressure-levels\n",
      "2022-09-29 23:43:20,764 INFO Request is queued\n",
      "2022-09-29 23:43:22,000 INFO Request is running\n",
      "2022-09-29 23:43:29,832 INFO Request is completed\n",
      "2022-09-29 23:43:29,834 INFO Downloading https://download-0008-clone.copernicus-climate.eu/cache-compute-0008/cache/data0/adaptor.mars.internal-1664466207.459681-9826-12-383a5ba4-ea34-4ca6-891a-5ba283d941e0.nc to g:/ERA5_RVOR/ERA5_RVOR_200502.nc (55.5M)\n",
      "2022-09-29 23:50:08,185 INFO Download rate 142.7K/s                                                                    \n"
     ]
    },
    {
     "name": "stdout",
     "output_type": "stream",
     "text": [
      "用时408.8492679595947\n"
     ]
    },
    {
     "name": "stderr",
     "output_type": "stream",
     "text": [
      "2022-09-29 23:50:09,374 INFO Welcome to the CDS\n",
      "2022-09-29 23:50:09,375 INFO Sending request to https://cds.climate.copernicus.eu/api/v2/resources/reanalysis-era5-pressure-levels\n",
      "2022-09-29 23:50:09,624 INFO Request is queued\n",
      "2022-09-29 23:50:10,865 INFO Request is running\n",
      "2022-09-29 23:50:18,720 INFO Request is completed\n",
      "2022-09-29 23:50:18,723 INFO Downloading https://download-0017.copernicus-climate.eu/cache-compute-0017/cache/data9/adaptor.mars.internal-1664466616.6044173-3505-11-a920af09-e6b4-479b-96de-3066a1dd3454.nc to g:/ERA5_RVOR/ERA5_RVOR_200503.nc (61.5M)\n",
      "2022-09-29 23:59:10,067 INFO Download rate 118.5K/s                                                                    \n"
     ]
    },
    {
     "name": "stdout",
     "output_type": "stream",
     "text": [
      "用时542.0414826869965\n"
     ]
    },
    {
     "name": "stderr",
     "output_type": "stream",
     "text": [
      "2022-09-29 23:59:11,445 INFO Welcome to the CDS\n",
      "2022-09-29 23:59:11,447 INFO Sending request to https://cds.climate.copernicus.eu/api/v2/resources/reanalysis-era5-pressure-levels\n",
      "2022-09-29 23:59:11,724 INFO Request is queued\n",
      "2022-09-29 23:59:13,004 INFO Request is running\n",
      "2022-09-29 23:59:26,280 INFO Request is completed\n",
      "2022-09-29 23:59:26,281 INFO Downloading https://download-0011-clone.copernicus-climate.eu/cache-compute-0011/cache/data7/adaptor.mars.internal-1664467159.6053402-30067-11-420810e7-af41-4473-83dc-99407af82856.nc to g:/ERA5_RVOR/ERA5_RVOR_200504.nc (59.5M)\n",
      "2022-09-30 00:00:12,616 INFO Download rate 1.3M/s                                                                      \n"
     ]
    },
    {
     "name": "stdout",
     "output_type": "stream",
     "text": [
      "用时61.70410680770874\n"
     ]
    },
    {
     "name": "stderr",
     "output_type": "stream",
     "text": [
      "2022-09-30 00:00:13,146 INFO Welcome to the CDS\n",
      "2022-09-30 00:00:13,148 INFO Sending request to https://cds.climate.copernicus.eu/api/v2/resources/reanalysis-era5-pressure-levels\n",
      "2022-09-30 00:00:13,449 INFO Request is queued\n",
      "2022-09-30 00:00:14,721 INFO Request is running\n",
      "2022-09-30 00:00:28,012 INFO Request is completed\n",
      "2022-09-30 00:00:28,015 INFO Downloading https://download-0019.copernicus-climate.eu/cache-compute-0019/cache/data4/adaptor.mars.internal-1664467221.088234-7355-1-da8183f6-bb7c-4a95-926c-aed7017fb2b6.nc to g:/ERA5_RVOR/ERA5_RVOR_200505.nc (61.5M)\n",
      "2022-09-30 00:04:51,649 INFO Download rate 238.8K/s                                                                    \n"
     ]
    },
    {
     "name": "stdout",
     "output_type": "stream",
     "text": [
      "用时279.6760039329529\n"
     ]
    },
    {
     "name": "stderr",
     "output_type": "stream",
     "text": [
      "2022-09-30 00:04:52,792 INFO Welcome to the CDS\n",
      "2022-09-30 00:04:52,794 INFO Sending request to https://cds.climate.copernicus.eu/api/v2/resources/reanalysis-era5-pressure-levels\n",
      "2022-09-30 00:04:53,056 INFO Request is queued\n",
      "2022-09-30 00:04:54,287 INFO Request is running\n",
      "2022-09-30 00:05:07,918 INFO Request is completed\n",
      "2022-09-30 00:05:07,920 INFO Downloading https://download-0009-clone.copernicus-climate.eu/cache-compute-0009/cache/data0/adaptor.mars.internal-1664467500.7997158-19204-4-8c701853-2b47-408d-92ac-b6978c63e4ac.nc to g:/ERA5_RVOR/ERA5_RVOR_200506.nc (59.5M)\n",
      "2022-09-30 00:06:37,604 INFO Download rate 679.3K/s                                                                    \n"
     ]
    },
    {
     "name": "stdout",
     "output_type": "stream",
     "text": [
      "用时105.97195792198181\n"
     ]
    },
    {
     "name": "stderr",
     "output_type": "stream",
     "text": [
      "2022-09-30 00:06:38,765 INFO Welcome to the CDS\n",
      "2022-09-30 00:06:38,766 INFO Sending request to https://cds.climate.copernicus.eu/api/v2/resources/reanalysis-era5-pressure-levels\n",
      "2022-09-30 00:06:39,005 INFO Request is queued\n",
      "2022-09-30 00:06:40,256 INFO Request is running\n",
      "2022-09-30 00:06:53,423 INFO Request is completed\n",
      "2022-09-30 00:06:53,426 INFO Downloading https://download-0015-clone.copernicus-climate.eu/cache-compute-0015/cache/data6/adaptor.mars.internal-1664467606.6164508-5360-20-1e4bb973-6b49-40a9-b8c8-3809a14fed16.nc to g:/ERA5_RVOR/ERA5_RVOR_200507.nc (61.5M)\n",
      "2022-09-30 00:10:40,423 ERROR Download interupted: HTTPSConnectionPool(host='download-0015-clone.copernicus-climate.eu', port=443): Read timed out.\n",
      "2022-09-30 00:10:40,423 ERROR Download incomplete, downloaded 41010176 byte(s) out of 64466116\n",
      "2022-09-30 00:10:40,424 WARNING Sleeping 10 seconds\n",
      "2022-09-30 00:10:50,437 WARNING Resuming download at byte 41010176\n",
      "2022-09-30 00:11:07,280 INFO Download rate 248K/s                                                                      \n"
     ]
    },
    {
     "name": "stdout",
     "output_type": "stream",
     "text": [
      "用时269.72467947006226\n"
     ]
    },
    {
     "name": "stderr",
     "output_type": "stream",
     "text": [
      "2022-09-30 00:11:08,506 INFO Welcome to the CDS\n",
      "2022-09-30 00:11:08,508 INFO Sending request to https://cds.climate.copernicus.eu/api/v2/resources/reanalysis-era5-pressure-levels\n",
      "2022-09-30 00:11:08,779 INFO Request is queued\n",
      "2022-09-30 00:11:10,039 INFO Request is running\n",
      "2022-09-30 00:11:23,294 INFO Request is completed\n",
      "2022-09-30 00:11:23,295 INFO Downloading https://download-0012-clone.copernicus-climate.eu/cache-compute-0012/cache/data7/adaptor.mars.internal-1664467876.907741-3003-16-3555893d-16c2-4ce0-8b78-28e6ccd36ba8.nc to g:/ERA5_RVOR/ERA5_RVOR_200508.nc (61.5M)\n",
      "2022-09-30 00:12:21,432 INFO Download rate 1.1M/s                                                                      \n"
     ]
    },
    {
     "name": "stdout",
     "output_type": "stream",
     "text": [
      "用时73.41937232017517\n"
     ]
    },
    {
     "name": "stderr",
     "output_type": "stream",
     "text": [
      "2022-09-30 00:12:21,922 INFO Welcome to the CDS\n",
      "2022-09-30 00:12:21,923 INFO Sending request to https://cds.climate.copernicus.eu/api/v2/resources/reanalysis-era5-pressure-levels\n",
      "2022-09-30 00:12:22,272 INFO Request is queued\n",
      "2022-09-30 00:12:23,530 INFO Request is running\n",
      "2022-09-30 00:12:31,425 INFO Request is completed\n",
      "2022-09-30 00:12:31,426 INFO Downloading https://download-0019.copernicus-climate.eu/cache-compute-0019/cache/data7/adaptor.mars.internal-1664467949.0833094-31190-8-aa2a3d90-984e-49f4-9d52-b3e059231ed8.nc to g:/ERA5_RVOR/ERA5_RVOR_200509.nc (59.5M)\n",
      "2022-09-30 00:15:15,886 INFO Download rate 370.5K/s                                                                    \n"
     ]
    },
    {
     "name": "stdout",
     "output_type": "stream",
     "text": [
      "用时175.2601819038391\n"
     ]
    },
    {
     "name": "stderr",
     "output_type": "stream",
     "text": [
      "2022-09-30 00:15:17,193 INFO Welcome to the CDS\n",
      "2022-09-30 00:15:17,193 INFO Sending request to https://cds.climate.copernicus.eu/api/v2/resources/reanalysis-era5-pressure-levels\n",
      "2022-09-30 00:15:17,474 INFO Request is queued\n",
      "2022-09-30 00:15:18,751 INFO Request is running\n",
      "2022-09-30 00:15:26,658 INFO Request is completed\n",
      "2022-09-30 00:15:26,659 INFO Downloading https://download-0005-clone.copernicus-climate.eu/cache-compute-0005/cache/data4/adaptor.mars.internal-1664468124.2077274-14658-16-8c584db0-10d3-4a13-a2c7-720de5dc0103.nc to g:/ERA5_RVOR/ERA5_RVOR_200510.nc (61.5M)\n",
      "2022-09-30 00:16:29,357 INFO Download rate 1004.1K/s                                                                   \n"
     ]
    },
    {
     "name": "stdout",
     "output_type": "stream",
     "text": [
      "用时72.67521595954895\n"
     ]
    },
    {
     "name": "stderr",
     "output_type": "stream",
     "text": [
      "2022-09-30 00:16:29,869 INFO Welcome to the CDS\n",
      "2022-09-30 00:16:29,870 INFO Sending request to https://cds.climate.copernicus.eu/api/v2/resources/reanalysis-era5-pressure-levels\n",
      "2022-09-30 00:16:30,155 INFO Request is queued\n",
      "2022-09-30 00:16:31,418 INFO Request is running\n",
      "2022-09-30 00:16:39,342 INFO Request is completed\n",
      "2022-09-30 00:16:39,345 INFO Downloading https://download-0011-clone.copernicus-climate.eu/cache-compute-0011/cache/data8/adaptor.mars.internal-1664468196.5940309-4286-15-9fa645b2-0431-4c3b-ab60-3688e00330ba.nc to g:/ERA5_RVOR/ERA5_RVOR_200511.nc (59.5M)\n",
      "2022-09-30 00:17:08,350 INFO Download rate 2.1M/s                                                                      \n"
     ]
    },
    {
     "name": "stdout",
     "output_type": "stream",
     "text": [
      "用时39.0425910949707\n"
     ]
    },
    {
     "name": "stderr",
     "output_type": "stream",
     "text": [
      "2022-09-30 00:17:08,916 INFO Welcome to the CDS\n",
      "2022-09-30 00:17:08,918 INFO Sending request to https://cds.climate.copernicus.eu/api/v2/resources/reanalysis-era5-pressure-levels\n",
      "2022-09-30 00:17:09,227 INFO Request is queued\n",
      "2022-09-30 00:17:10,490 INFO Request is running\n",
      "2022-09-30 00:17:18,414 INFO Request is completed\n",
      "2022-09-30 00:17:18,414 INFO Downloading https://download-0000-clone.copernicus-climate.eu/cache-compute-0000/cache/data9/adaptor.mars.internal-1664468236.2667513-11484-3-25e22252-07f2-4f31-878d-f41a37ec7fe4.nc to g:/ERA5_RVOR/ERA5_RVOR_200512.nc (61.5M)\n",
      "2022-09-30 00:18:19,353 INFO Download rate 1M/s                                                                        \n"
     ]
    },
    {
     "name": "stdout",
     "output_type": "stream",
     "text": [
      "用时70.95267629623413\n"
     ]
    },
    {
     "name": "stderr",
     "output_type": "stream",
     "text": [
      "2022-09-30 00:18:19,870 INFO Welcome to the CDS\n",
      "2022-09-30 00:18:19,871 INFO Sending request to https://cds.climate.copernicus.eu/api/v2/resources/reanalysis-era5-pressure-levels\n",
      "2022-09-30 00:18:20,133 INFO Request is queued\n",
      "2022-09-30 00:18:21,397 INFO Request is running\n",
      "2022-09-30 00:18:29,333 INFO Request is completed\n",
      "2022-09-30 00:18:29,335 INFO Downloading https://download-0004-clone.copernicus-climate.eu/cache-compute-0004/cache/data5/adaptor.mars.internal-1664468307.108365-17847-4-0a8cc7a4-ae84-44f2-bd39-d7bcc248e8d4.nc to g:/ERA5_RVOR/ERA5_RVOR_200601.nc (61.5M)\n",
      "2022-09-30 00:20:13,059 INFO Download rate 607K/s                                                                      \n"
     ]
    },
    {
     "name": "stdout",
     "output_type": "stream",
     "text": [
      "用时114.32546043395996\n"
     ]
    },
    {
     "name": "stderr",
     "output_type": "stream",
     "text": [
      "2022-09-30 00:20:14,152 INFO Welcome to the CDS\n",
      "2022-09-30 00:20:14,154 INFO Sending request to https://cds.climate.copernicus.eu/api/v2/resources/reanalysis-era5-pressure-levels\n",
      "2022-09-30 00:20:14,385 INFO Request is queued\n",
      "2022-09-30 00:20:15,611 INFO Request is running\n",
      "2022-09-30 00:20:23,419 INFO Request is completed\n",
      "2022-09-30 00:20:23,422 INFO Downloading https://download-0005-clone.copernicus-climate.eu/cache-compute-0005/cache/data5/adaptor.mars.internal-1664468421.2706804-15052-12-eb57eb29-4d1f-4796-b583-d893b993b2b6.nc to g:/ERA5_RVOR/ERA5_RVOR_200602.nc (55.5M)\n",
      "2022-09-30 00:21:08,701 INFO Download rate 1.2M/s                                                                      \n"
     ]
    },
    {
     "name": "stdout",
     "output_type": "stream",
     "text": [
      "用时54.97490358352661\n"
     ]
    },
    {
     "name": "stderr",
     "output_type": "stream",
     "text": [
      "2022-09-30 00:21:09,126 INFO Welcome to the CDS\n",
      "2022-09-30 00:21:09,127 INFO Sending request to https://cds.climate.copernicus.eu/api/v2/resources/reanalysis-era5-pressure-levels\n",
      "2022-09-30 00:21:09,345 INFO Request is queued\n",
      "2022-09-30 00:21:10,564 INFO Request is running\n",
      "2022-09-30 00:21:18,376 INFO Request is completed\n",
      "2022-09-30 00:21:18,379 INFO Downloading https://download-0012-clone.copernicus-climate.eu/cache-compute-0012/cache/data9/adaptor.mars.internal-1664468476.0817823-14521-4-4de80e21-1b48-4834-bf2e-867d3a9492ae.nc to g:/ERA5_RVOR/ERA5_RVOR_200603.nc (61.5M)\n",
      "2022-09-30 00:21:53,579 INFO Download rate 1.7M/s                                                                      \n"
     ]
    },
    {
     "name": "stdout",
     "output_type": "stream",
     "text": [
      "用时44.87978792190552\n"
     ]
    },
    {
     "name": "stderr",
     "output_type": "stream",
     "text": [
      "2022-09-30 00:21:54,008 INFO Welcome to the CDS\n",
      "2022-09-30 00:21:54,009 INFO Sending request to https://cds.climate.copernicus.eu/api/v2/resources/reanalysis-era5-pressure-levels\n",
      "2022-09-30 00:21:54,266 INFO Request is queued\n",
      "2022-09-30 00:21:55,499 INFO Request is running\n",
      "2022-09-30 00:22:08,589 INFO Request is completed\n",
      "2022-09-30 00:22:08,592 INFO Downloading https://download-0019.copernicus-climate.eu/cache-compute-0019/cache/data1/adaptor.mars.internal-1664468522.515574-32387-20-9e885168-f4b4-4808-8403-7e0a18d16ed3.nc to g:/ERA5_RVOR/ERA5_RVOR_200604.nc (59.5M)\n",
      "2022-09-30 00:22:41,326 INFO Download rate 1.8M/s                                                                      \n"
     ]
    },
    {
     "name": "stdout",
     "output_type": "stream",
     "text": [
      "用时47.747941732406616\n"
     ]
    },
    {
     "name": "stderr",
     "output_type": "stream",
     "text": [
      "2022-09-30 00:22:41,760 INFO Welcome to the CDS\n",
      "2022-09-30 00:22:41,762 INFO Sending request to https://cds.climate.copernicus.eu/api/v2/resources/reanalysis-era5-pressure-levels\n",
      "2022-09-30 00:22:42,000 INFO Request is queued\n",
      "2022-09-30 00:22:43,234 INFO Request is running\n",
      "2022-09-30 00:22:51,031 INFO Request is completed\n",
      "2022-09-30 00:22:51,033 INFO Downloading https://download-0000-clone.copernicus-climate.eu/cache-compute-0000/cache/data7/adaptor.mars.internal-1664468568.9978733-5008-14-7d18a295-fa45-4387-ab91-75d5783c0998.nc to g:/ERA5_RVOR/ERA5_RVOR_200605.nc (61.5M)\n",
      "2022-09-30 00:23:42,906 INFO Download rate 1.2M/s                                                                      \n"
     ]
    },
    {
     "name": "stdout",
     "output_type": "stream",
     "text": [
      "用时61.579609394073486\n"
     ]
    },
    {
     "name": "stderr",
     "output_type": "stream",
     "text": [
      "2022-09-30 00:23:43,349 INFO Welcome to the CDS\n",
      "2022-09-30 00:23:43,351 INFO Sending request to https://cds.climate.copernicus.eu/api/v2/resources/reanalysis-era5-pressure-levels\n",
      "2022-09-30 00:23:43,608 INFO Request is queued\n",
      "2022-09-30 00:23:44,827 INFO Request is running\n",
      "2022-09-30 00:23:52,630 INFO Request is completed\n",
      "2022-09-30 00:23:52,632 INFO Downloading https://download-0006-clone.copernicus-climate.eu/cache-compute-0006/cache/data1/adaptor.mars.internal-1664468630.121234-15592-4-f11064ab-dd48-4c30-9959-1edd525816b3.nc to g:/ERA5_RVOR/ERA5_RVOR_200606.nc (59.5M)\n",
      "2022-09-30 00:25:11,315 INFO Download rate 774.3K/s                                                                    \n"
     ]
    },
    {
     "name": "stdout",
     "output_type": "stream",
     "text": [
      "用时89.15308690071106\n"
     ]
    },
    {
     "name": "stderr",
     "output_type": "stream",
     "text": [
      "2022-09-30 00:25:12,520 INFO Welcome to the CDS\n",
      "2022-09-30 00:25:12,521 INFO Sending request to https://cds.climate.copernicus.eu/api/v2/resources/reanalysis-era5-pressure-levels\n",
      "2022-09-30 00:25:12,781 INFO Request is queued\n",
      "2022-09-30 00:25:14,031 INFO Request is running\n",
      "2022-09-30 00:25:21,911 INFO Request is completed\n",
      "2022-09-30 00:25:21,913 INFO Downloading https://download-0018.copernicus-climate.eu/cache-compute-0018/cache/data7/adaptor.mars.internal-1664468720.1471589-5055-17-4df1435f-c4e5-4899-afe9-2260b951d415.nc to g:/ERA5_RVOR/ERA5_RVOR_200607.nc (61.5M)\n",
      "2022-09-30 00:25:52,378 INFO Download rate 2M/s                                                                        \n"
     ]
    },
    {
     "name": "stdout",
     "output_type": "stream",
     "text": [
      "用时40.340853214263916\n"
     ]
    },
    {
     "name": "stderr",
     "output_type": "stream",
     "text": [
      "2022-09-30 00:25:52,863 INFO Welcome to the CDS\n",
      "2022-09-30 00:25:52,865 INFO Sending request to https://cds.climate.copernicus.eu/api/v2/resources/reanalysis-era5-pressure-levels\n",
      "2022-09-30 00:25:53,148 INFO Request is queued\n",
      "2022-09-30 00:25:54,401 INFO Request is running\n",
      "2022-09-30 00:28:46,906 INFO Request is completed\n",
      "2022-09-30 00:28:46,907 INFO Downloading https://download-0016.copernicus-climate.eu/cache-compute-0016/cache/data5/adaptor.mars.internal-1664468875.689769-4360-13-a88cecd5-b2ab-4663-8e31-12d0c4a97eda.nc to g:/ERA5_RVOR/ERA5_RVOR_200608.nc (61.5M)\n",
      "2022-09-30 00:30:54,028 INFO Download rate 495.2K/s                                                                    \n"
     ]
    },
    {
     "name": "stdout",
     "output_type": "stream",
     "text": [
      "用时302.4211394786835\n"
     ]
    },
    {
     "name": "stderr",
     "output_type": "stream",
     "text": [
      "2022-09-30 00:30:55,295 INFO Welcome to the CDS\n",
      "2022-09-30 00:30:55,297 INFO Sending request to https://cds.climate.copernicus.eu/api/v2/resources/reanalysis-era5-pressure-levels\n",
      "2022-09-30 00:30:55,576 INFO Request is queued\n",
      "2022-09-30 00:30:56,834 INFO Request is running\n",
      "2022-09-30 00:31:10,062 INFO Request is completed\n",
      "2022-09-30 00:31:10,063 INFO Downloading https://download-0020.copernicus-climate.eu/cache-compute-0020/cache/data7/adaptor.mars.internal-1664469064.1192837-14107-13-5fe01b9e-ff76-4107-8d32-6b124ed4caaf.nc to g:/ERA5_RVOR/ERA5_RVOR_200609.nc (59.5M)\n",
      "2022-09-30 00:31:48,245 INFO Download rate 1.6M/s                                                                      \n"
     ]
    },
    {
     "name": "stdout",
     "output_type": "stream",
     "text": [
      "用时53.45423197746277\n"
     ]
    },
    {
     "name": "stderr",
     "output_type": "stream",
     "text": [
      "2022-09-30 00:31:48,751 INFO Welcome to the CDS\n",
      "2022-09-30 00:31:48,753 INFO Sending request to https://cds.climate.copernicus.eu/api/v2/resources/reanalysis-era5-pressure-levels\n",
      "2022-09-30 00:31:49,038 INFO Request is queued\n",
      "2022-09-30 00:31:50,293 INFO Request is running\n",
      "2022-09-30 00:32:03,514 INFO Request is completed\n",
      "2022-09-30 00:32:03,517 INFO Downloading https://download-0020.copernicus-climate.eu/cache-compute-0020/cache/data4/adaptor.mars.internal-1664469117.3304498-24678-3-553f81fa-f5d0-4789-b744-48678107883b.nc to g:/ERA5_RVOR/ERA5_RVOR_200610.nc (61.5M)\n",
      "2022-09-30 00:32:35,536 INFO Download rate 1.9M/s                                                                      \n"
     ]
    },
    {
     "name": "stdout",
     "output_type": "stream",
     "text": [
      "用时47.28618144989014\n"
     ]
    },
    {
     "name": "stderr",
     "output_type": "stream",
     "text": [
      "2022-09-30 00:32:36,035 INFO Welcome to the CDS\n",
      "2022-09-30 00:32:36,036 INFO Sending request to https://cds.climate.copernicus.eu/api/v2/resources/reanalysis-era5-pressure-levels\n",
      "2022-09-30 00:32:36,291 INFO Request is queued\n",
      "2022-09-30 00:32:37,551 INFO Request is running\n",
      "2022-09-30 00:32:50,788 INFO Request is completed\n",
      "2022-09-30 00:32:50,791 INFO Downloading https://download-0007-clone.copernicus-climate.eu/cache-compute-0007/cache/data7/adaptor.mars.internal-1664469164.2437603-28242-6-e1c99c68-9ac7-4821-94fe-3829144fba43.nc to g:/ERA5_RVOR/ERA5_RVOR_200611.nc (59.5M)\n",
      "2022-09-30 00:33:32,528 INFO Download rate 1.4M/s                                                                      \n"
     ]
    },
    {
     "name": "stdout",
     "output_type": "stream",
     "text": [
      "用时56.994203329086304\n"
     ]
    },
    {
     "name": "stderr",
     "output_type": "stream",
     "text": [
      "2022-09-30 00:33:33,034 INFO Welcome to the CDS\n",
      "2022-09-30 00:33:33,036 INFO Sending request to https://cds.climate.copernicus.eu/api/v2/resources/reanalysis-era5-pressure-levels\n",
      "2022-09-30 00:33:33,291 INFO Request is queued\n",
      "2022-09-30 00:33:34,549 INFO Request is running\n",
      "2022-09-30 00:33:42,475 INFO Request is completed\n",
      "2022-09-30 00:33:42,476 INFO Downloading https://download-0015-clone.copernicus-climate.eu/cache-compute-0015/cache/data0/adaptor.mars.internal-1664469220.0247133-19189-13-28440aac-b02d-4d80-a86a-33c13a346244.nc to g:/ERA5_RVOR/ERA5_RVOR_200612.nc (61.5M)\n",
      "2022-09-30 00:42:06,886 INFO Download rate 124.8K/s                                                                    \n"
     ]
    },
    {
     "name": "stdout",
     "output_type": "stream",
     "text": [
      "用时515.0744156837463\n"
     ]
    },
    {
     "name": "stderr",
     "output_type": "stream",
     "text": [
      "2022-09-30 00:42:08,093 INFO Welcome to the CDS\n",
      "2022-09-30 00:42:08,095 INFO Sending request to https://cds.climate.copernicus.eu/api/v2/resources/reanalysis-era5-pressure-levels\n",
      "2022-09-30 00:42:08,354 INFO Request is queued\n",
      "2022-09-30 00:42:09,609 INFO Request is running\n",
      "2022-09-30 00:42:17,489 INFO Request is completed\n",
      "2022-09-30 00:42:17,491 INFO Downloading https://download-0019.copernicus-climate.eu/cache-compute-0019/cache/data7/adaptor.mars.internal-1664469735.511067-19249-6-471085bd-38f5-4a66-b595-d52c143fd082.nc to g:/ERA5_RVOR/ERA5_RVOR_200701.nc (61.5M)\n",
      "2022-09-30 00:42:40,109 INFO Download rate 2.7M/s                                                                      \n"
     ]
    },
    {
     "name": "stdout",
     "output_type": "stream",
     "text": [
      "用时32.48598051071167\n"
     ]
    },
    {
     "name": "stderr",
     "output_type": "stream",
     "text": [
      "2022-09-30 00:42:40,576 INFO Welcome to the CDS\n",
      "2022-09-30 00:42:40,577 INFO Sending request to https://cds.climate.copernicus.eu/api/v2/resources/reanalysis-era5-pressure-levels\n",
      "2022-09-30 00:42:40,855 INFO Request is queued\n",
      "2022-09-30 00:42:42,100 INFO Request is running\n",
      "2022-09-30 00:42:49,961 INFO Request is completed\n",
      "2022-09-30 00:42:49,963 INFO Downloading https://download-0019.copernicus-climate.eu/cache-compute-0019/cache/data1/adaptor.mars.internal-1664469768.3942966-30018-15-9f3f2b1d-94eb-4eb2-8351-55901a27c201.nc to g:/ERA5_RVOR/ERA5_RVOR_200702.nc (55.5M)\n",
      "2022-09-30 00:43:11,331 INFO Download rate 2.6M/s                                                                      \n"
     ]
    },
    {
     "name": "stdout",
     "output_type": "stream",
     "text": [
      "用时31.22191619873047\n"
     ]
    },
    {
     "name": "stderr",
     "output_type": "stream",
     "text": [
      "2022-09-30 00:43:11,800 INFO Welcome to the CDS\n",
      "2022-09-30 00:43:11,802 INFO Sending request to https://cds.climate.copernicus.eu/api/v2/resources/reanalysis-era5-pressure-levels\n",
      "2022-09-30 00:43:12,080 INFO Request is queued\n",
      "2022-09-30 00:43:13,327 INFO Request is running\n",
      "2022-09-30 00:43:26,472 INFO Request is completed\n",
      "2022-09-30 00:43:26,474 INFO Downloading https://download-0001-clone.copernicus-climate.eu/cache-compute-0001/cache/data0/adaptor.mars.internal-1664469800.248356-23631-11-1bd03293-a64a-4dd7-95fd-df20fec346f1.nc to g:/ERA5_RVOR/ERA5_RVOR_200703.nc (61.5M)\n",
      "2022-09-30 00:43:56,083 INFO Download rate 2.1M/s                                                                      \n"
     ]
    },
    {
     "name": "stdout",
     "output_type": "stream",
     "text": [
      "用时44.750370502471924\n"
     ]
    },
    {
     "name": "stderr",
     "output_type": "stream",
     "text": [
      "2022-09-30 00:43:56,550 INFO Welcome to the CDS\n",
      "2022-09-30 00:43:56,552 INFO Sending request to https://cds.climate.copernicus.eu/api/v2/resources/reanalysis-era5-pressure-levels\n",
      "2022-09-30 00:43:56,815 INFO Request is queued\n",
      "2022-09-30 00:43:58,062 INFO Request is running\n",
      "2022-09-30 00:44:05,909 INFO Request is completed\n",
      "2022-09-30 00:44:05,911 INFO Downloading https://download-0003-clone.copernicus-climate.eu/cache-compute-0003/cache/data8/adaptor.mars.internal-1664469843.46344-17252-8-981ee8d5-95c2-457f-9003-632c48f389ca.nc to g:/ERA5_RVOR/ERA5_RVOR_200704.nc (59.5M)\n",
      "2022-09-30 00:44:46,422 INFO Download rate 1.5M/s                                                                      \n"
     ]
    },
    {
     "name": "stdout",
     "output_type": "stream",
     "text": [
      "用时50.33664512634277\n"
     ]
    },
    {
     "name": "stderr",
     "output_type": "stream",
     "text": [
      "2022-09-30 00:44:46,887 INFO Welcome to the CDS\n",
      "2022-09-30 00:44:46,889 INFO Sending request to https://cds.climate.copernicus.eu/api/v2/resources/reanalysis-era5-pressure-levels\n",
      "2022-09-30 00:44:47,180 INFO Request is queued\n",
      "2022-09-30 00:44:48,429 INFO Request is running\n",
      "2022-09-30 00:44:56,285 INFO Request is completed\n",
      "2022-09-30 00:44:56,287 INFO Downloading https://download-0016.copernicus-climate.eu/cache-compute-0016/cache/data9/adaptor.mars.internal-1664469894.166364-18500-3-848bc20f-9e1b-4321-adbf-78b6cc3e814e.nc to g:/ERA5_RVOR/ERA5_RVOR_200705.nc (61.5M)\n",
      "2022-09-30 00:45:35,086 INFO Download rate 1.6M/s                                                                      \n"
     ]
    },
    {
     "name": "stdout",
     "output_type": "stream",
     "text": [
      "用时48.66331100463867\n"
     ]
    },
    {
     "name": "stderr",
     "output_type": "stream",
     "text": [
      "2022-09-30 00:45:35,553 INFO Welcome to the CDS\n",
      "2022-09-30 00:45:35,554 INFO Sending request to https://cds.climate.copernicus.eu/api/v2/resources/reanalysis-era5-pressure-levels\n",
      "2022-09-30 00:45:35,793 INFO Request is queued\n",
      "2022-09-30 00:45:37,037 INFO Request is running\n",
      "2022-09-30 00:45:44,886 INFO Request is completed\n",
      "2022-09-30 00:45:44,889 INFO Downloading https://download-0008-clone.copernicus-climate.eu/cache-compute-0008/cache/data5/adaptor.mars.internal-1664469942.2733452-23512-8-9d4fb67a-12b3-4e83-86a2-4cb661c0484a.nc to g:/ERA5_RVOR/ERA5_RVOR_200706.nc (59.5M)\n",
      "2022-09-30 00:46:05,293 INFO Download rate 2.9M/s                                                                      \n"
     ]
    },
    {
     "name": "stdout",
     "output_type": "stream",
     "text": [
      "用时30.208036422729492\n"
     ]
    },
    {
     "name": "stderr",
     "output_type": "stream",
     "text": [
      "2022-09-30 00:46:05,761 INFO Welcome to the CDS\n",
      "2022-09-30 00:46:05,763 INFO Sending request to https://cds.climate.copernicus.eu/api/v2/resources/reanalysis-era5-pressure-levels\n",
      "2022-09-30 00:46:06,035 INFO Request is queued\n",
      "2022-09-30 00:46:07,279 INFO Request is running\n",
      "2022-09-30 00:46:15,136 INFO Request is completed\n",
      "2022-09-30 00:46:15,139 INFO Downloading https://download-0006-clone.copernicus-climate.eu/cache-compute-0006/cache/data2/adaptor.mars.internal-1664469972.9719527-26447-5-d2a79592-e6c5-4b69-8534-cdaaa15a7ce9.nc to g:/ERA5_RVOR/ERA5_RVOR_200707.nc (61.5M)\n",
      "2022-09-30 00:46:38,726 INFO Download rate 2.6M/s                                                                      \n"
     ]
    },
    {
     "name": "stdout",
     "output_type": "stream",
     "text": [
      "用时33.42994570732117\n"
     ]
    },
    {
     "name": "stderr",
     "output_type": "stream",
     "text": [
      "2022-09-30 00:46:39,194 INFO Welcome to the CDS\n",
      "2022-09-30 00:46:39,195 INFO Sending request to https://cds.climate.copernicus.eu/api/v2/resources/reanalysis-era5-pressure-levels\n",
      "2022-09-30 00:46:39,436 INFO Request is queued\n",
      "2022-09-30 00:46:40,674 INFO Request is running\n",
      "2022-09-30 00:46:48,512 INFO Request is completed\n",
      "2022-09-30 00:46:48,513 INFO Downloading https://download-0002-clone.copernicus-climate.eu/cache-compute-0002/cache/data4/adaptor.mars.internal-1664470006.2742116-16980-9-dd1aff11-0807-47ff-8834-ff1e40c662ed.nc to g:/ERA5_RVOR/ERA5_RVOR_200708.nc (61.5M)\n",
      "2022-09-30 00:47:14,679 INFO Download rate 2.3M/s                                                                      \n"
     ]
    },
    {
     "name": "stdout",
     "output_type": "stream",
     "text": [
      "用时35.955836057662964\n"
     ]
    },
    {
     "name": "stderr",
     "output_type": "stream",
     "text": [
      "2022-09-30 00:47:15,150 INFO Welcome to the CDS\n",
      "2022-09-30 00:47:15,152 INFO Sending request to https://cds.climate.copernicus.eu/api/v2/resources/reanalysis-era5-pressure-levels\n",
      "2022-09-30 00:47:15,409 INFO Request is queued\n",
      "2022-09-30 00:47:16,654 INFO Request is running\n",
      "2022-09-30 00:47:24,502 INFO Request is completed\n",
      "2022-09-30 00:47:24,504 INFO Downloading https://download-0012-clone.copernicus-climate.eu/cache-compute-0012/cache/data4/adaptor.mars.internal-1664470042.5508077-23536-7-2bfbf234-a222-4b19-a146-246cdcccf126.nc to g:/ERA5_RVOR/ERA5_RVOR_200709.nc (59.5M)\n",
      "2022-09-30 00:47:47,601 INFO Download rate 2.6M/s                                                                      \n"
     ]
    },
    {
     "name": "stdout",
     "output_type": "stream",
     "text": [
      "用时32.91939449310303\n"
     ]
    },
    {
     "name": "stderr",
     "output_type": "stream",
     "text": [
      "2022-09-30 00:47:48,071 INFO Welcome to the CDS\n",
      "2022-09-30 00:47:48,073 INFO Sending request to https://cds.climate.copernicus.eu/api/v2/resources/reanalysis-era5-pressure-levels\n",
      "2022-09-30 00:47:48,334 INFO Request is queued\n",
      "2022-09-30 00:47:49,586 INFO Request is running\n",
      "2022-09-30 00:48:02,733 INFO Request is completed\n",
      "2022-09-30 00:48:02,735 INFO Downloading https://download-0002-clone.copernicus-climate.eu/cache-compute-0002/cache/data0/adaptor.mars.internal-1664470075.7934139-27024-1-47433f6c-8ec7-49fc-af29-77cbbb74bd8a.nc to g:/ERA5_RVOR/ERA5_RVOR_200710.nc (61.5M)\n",
      "2022-09-30 00:48:31,708 INFO Download rate 2.1M/s                                                                      \n"
     ]
    },
    {
     "name": "stdout",
     "output_type": "stream",
     "text": [
      "用时44.1048686504364\n"
     ]
    },
    {
     "name": "stderr",
     "output_type": "stream",
     "text": [
      "2022-09-30 00:48:32,172 INFO Welcome to the CDS\n",
      "2022-09-30 00:48:32,174 INFO Sending request to https://cds.climate.copernicus.eu/api/v2/resources/reanalysis-era5-pressure-levels\n",
      "2022-09-30 00:48:32,444 INFO Request is queued\n",
      "2022-09-30 00:48:33,693 INFO Request is running\n",
      "2022-09-30 00:48:46,827 INFO Request is completed\n",
      "2022-09-30 00:48:46,828 INFO Downloading https://download-0000-clone.copernicus-climate.eu/cache-compute-0000/cache/data4/adaptor.mars.internal-1664470121.270843-23555-5-9b3ac267-27c1-4a1c-a836-d6f9046f1f46.nc to g:/ERA5_RVOR/ERA5_RVOR_200711.nc (59.5M)\n",
      "2022-09-30 00:49:13,023 INFO Download rate 2.3M/s                                                                      \n"
     ]
    },
    {
     "name": "stdout",
     "output_type": "stream",
     "text": [
      "用时41.31515336036682\n"
     ]
    },
    {
     "name": "stderr",
     "output_type": "stream",
     "text": [
      "2022-09-30 00:49:13,492 INFO Welcome to the CDS\n",
      "2022-09-30 00:49:13,493 INFO Sending request to https://cds.climate.copernicus.eu/api/v2/resources/reanalysis-era5-pressure-levels\n",
      "2022-09-30 00:49:13,763 INFO Request is queued\n",
      "2022-09-30 00:49:15,006 INFO Request is running\n",
      "2022-09-30 00:49:28,161 INFO Request is completed\n",
      "2022-09-30 00:49:28,163 INFO Downloading https://download-0019.copernicus-climate.eu/cache-compute-0019/cache/data4/adaptor.mars.internal-1664470161.5009685-16916-10-710ad416-5805-4214-89b4-6ee291aeea9c.nc to g:/ERA5_RVOR/ERA5_RVOR_200712.nc (61.5M)\n",
      "2022-09-30 00:50:08,345 INFO Download rate 1.5M/s                                                                      \n"
     ]
    },
    {
     "name": "stdout",
     "output_type": "stream",
     "text": [
      "用时55.32174491882324\n"
     ]
    },
    {
     "name": "stderr",
     "output_type": "stream",
     "text": [
      "2022-09-30 00:50:08,816 INFO Welcome to the CDS\n",
      "2022-09-30 00:50:08,818 INFO Sending request to https://cds.climate.copernicus.eu/api/v2/resources/reanalysis-era5-pressure-levels\n",
      "2022-09-30 00:50:09,083 INFO Request is queued\n",
      "2022-09-30 00:50:10,334 INFO Request is running\n",
      "2022-09-30 00:50:23,491 INFO Request is completed\n",
      "2022-09-30 00:50:23,493 INFO Downloading https://download-0000-clone.copernicus-climate.eu/cache-compute-0000/cache/data4/adaptor.mars.internal-1664470216.705863-9285-20-6f19c267-969a-45aa-acd2-b96c24973f5e.nc to g:/ERA5_RVOR/ERA5_RVOR_200801.nc (61.5M)\n",
      "2022-09-30 00:51:10,066 INFO Download rate 1.3M/s                                                                      \n"
     ]
    },
    {
     "name": "stdout",
     "output_type": "stream",
     "text": [
      "用时61.71580195426941\n"
     ]
    },
    {
     "name": "stderr",
     "output_type": "stream",
     "text": [
      "2022-09-30 00:51:10,528 INFO Welcome to the CDS\n",
      "2022-09-30 00:51:10,529 INFO Sending request to https://cds.climate.copernicus.eu/api/v2/resources/reanalysis-era5-pressure-levels\n",
      "2022-09-30 00:51:10,846 INFO Request is queued\n",
      "2022-09-30 00:51:12,097 INFO Request is running\n",
      "2022-09-30 00:51:20,605 INFO Request is completed\n",
      "2022-09-30 00:51:20,608 INFO Downloading https://download-0005-clone.copernicus-climate.eu/cache-compute-0005/cache/data5/adaptor.mars.internal-1664470278.172614-24935-18-a98d1124-9187-4159-905d-51b1e3f4308c.nc to g:/ERA5_RVOR/ERA5_RVOR_200802.nc (57.5M)\n",
      "2022-09-30 00:51:44,866 INFO Download rate 2.4M/s                                                                      \n"
     ]
    },
    {
     "name": "stdout",
     "output_type": "stream",
     "text": [
      "用时34.98672389984131\n"
     ]
    },
    {
     "name": "stderr",
     "output_type": "stream",
     "text": [
      "2022-09-30 00:51:45,511 INFO Welcome to the CDS\n",
      "2022-09-30 00:51:45,513 INFO Sending request to https://cds.climate.copernicus.eu/api/v2/resources/reanalysis-era5-pressure-levels\n",
      "2022-09-30 00:51:45,784 INFO Request is queued\n",
      "2022-09-30 00:51:47,018 INFO Request is running\n",
      "2022-09-30 00:51:54,843 INFO Request is completed\n",
      "2022-09-30 00:51:54,845 INFO Downloading https://download-0018.copernicus-climate.eu/cache-compute-0018/cache/data7/adaptor.mars.internal-1664470313.2925904-22106-6-eba0eee4-f334-462c-a4ec-b2b2f4294af4.nc to g:/ERA5_RVOR/ERA5_RVOR_200803.nc (61.5M)\n",
      "2022-09-30 00:52:17,703 INFO Download rate 2.7M/s                                                                      \n"
     ]
    },
    {
     "name": "stdout",
     "output_type": "stream",
     "text": [
      "用时32.6488938331604\n"
     ]
    },
    {
     "name": "stderr",
     "output_type": "stream",
     "text": [
      "2022-09-30 00:52:18,159 INFO Welcome to the CDS\n",
      "2022-09-30 00:52:18,161 INFO Sending request to https://cds.climate.copernicus.eu/api/v2/resources/reanalysis-era5-pressure-levels\n",
      "2022-09-30 00:52:18,478 INFO Request is queued\n",
      "2022-09-30 00:52:19,706 INFO Request is running\n",
      "2022-09-30 00:52:27,541 INFO Request is completed\n",
      "2022-09-30 00:52:27,543 INFO Downloading https://download-0015-clone.copernicus-climate.eu/cache-compute-0015/cache/data4/adaptor.mars.internal-1664470344.940861-1050-5-1abba487-3363-420e-b4ee-2fa27cd3c230.nc to g:/ERA5_RVOR/ERA5_RVOR_200804.nc (59.5M)\n",
      "2022-09-30 00:52:48,748 INFO Download rate 2.8M/s                                                                      \n"
     ]
    },
    {
     "name": "stdout",
     "output_type": "stream",
     "text": [
      "用时31.038870573043823\n"
     ]
    },
    {
     "name": "stderr",
     "output_type": "stream",
     "text": [
      "2022-09-30 00:52:49,202 INFO Welcome to the CDS\n",
      "2022-09-30 00:52:49,204 INFO Sending request to https://cds.climate.copernicus.eu/api/v2/resources/reanalysis-era5-pressure-levels\n",
      "2022-09-30 00:52:49,485 INFO Request is queued\n",
      "2022-09-30 00:52:50,718 INFO Request is running\n",
      "2022-09-30 00:53:03,842 INFO Request is completed\n",
      "2022-09-30 00:53:03,843 INFO Downloading https://download-0021.copernicus-climate.eu/cache-compute-0021/cache/data5/adaptor.mars.internal-1664470377.1231053-8400-16-edf856c9-1eb6-4e69-9562-a8687f2a33a8.nc to g:/ERA5_RVOR/ERA5_RVOR_200805.nc (61.5M)\n",
      "2022-09-30 00:53:38,526 INFO Download rate 1.8M/s                                                                      \n"
     ]
    },
    {
     "name": "stdout",
     "output_type": "stream",
     "text": [
      "用时49.77879285812378\n"
     ]
    },
    {
     "name": "stderr",
     "output_type": "stream",
     "text": [
      "2022-09-30 00:53:38,980 INFO Welcome to the CDS\n",
      "2022-09-30 00:53:38,981 INFO Sending request to https://cds.climate.copernicus.eu/api/v2/resources/reanalysis-era5-pressure-levels\n",
      "2022-09-30 00:53:39,240 INFO Request is queued\n",
      "2022-09-30 00:53:40,485 INFO Request is running\n",
      "2022-09-30 00:53:53,616 INFO Request is completed\n",
      "2022-09-30 00:53:53,618 INFO Downloading https://download-0011-clone.copernicus-climate.eu/cache-compute-0011/cache/data9/adaptor.mars.internal-1664470427.4241378-15601-18-535ba835-ed25-42b2-b95e-eb3b052b5630.nc to g:/ERA5_RVOR/ERA5_RVOR_200806.nc (59.5M)\n",
      "2022-09-30 00:54:17,282 INFO Download rate 2.5M/s                                                                      \n"
     ]
    },
    {
     "name": "stdout",
     "output_type": "stream",
     "text": [
      "用时38.75603437423706\n"
     ]
    },
    {
     "name": "stderr",
     "output_type": "stream",
     "text": [
      "2022-09-30 00:54:17,736 INFO Welcome to the CDS\n",
      "2022-09-30 00:54:17,737 INFO Sending request to https://cds.climate.copernicus.eu/api/v2/resources/reanalysis-era5-pressure-levels\n",
      "2022-09-30 00:54:17,968 INFO Request is queued\n",
      "2022-09-30 00:54:19,200 INFO Request is running\n",
      "2022-09-30 00:54:32,327 INFO Request is completed\n",
      "2022-09-30 00:54:32,328 INFO Downloading https://download-0003-clone.copernicus-climate.eu/cache-compute-0003/cache/data9/adaptor.mars.internal-1664470464.948063-29839-2-4c44b15c-5aaa-4ed1-91f9-1d23e7a5dbe9.nc to g:/ERA5_RVOR/ERA5_RVOR_200807.nc (61.5M)\n",
      "2022-09-30 00:55:01,078 INFO Download rate 2.1M/s                                                                      \n"
     ]
    },
    {
     "name": "stdout",
     "output_type": "stream",
     "text": [
      "用时43.791561126708984\n"
     ]
    },
    {
     "name": "stderr",
     "output_type": "stream",
     "text": [
      "2022-09-30 00:55:01,527 INFO Welcome to the CDS\n",
      "2022-09-30 00:55:01,528 INFO Sending request to https://cds.climate.copernicus.eu/api/v2/resources/reanalysis-era5-pressure-levels\n",
      "2022-09-30 00:55:01,778 INFO Request is queued\n",
      "2022-09-30 00:55:03,017 INFO Request is running\n",
      "2022-09-30 00:55:10,851 INFO Request is completed\n",
      "2022-09-30 00:55:10,852 INFO Downloading https://download-0015-clone.copernicus-climate.eu/cache-compute-0015/cache/data9/adaptor.mars.internal-1664470508.492117-21649-18-158ec2f9-ed75-4da5-9a42-28a5779304aa.nc to g:/ERA5_RVOR/ERA5_RVOR_200808.nc (61.5M)\n",
      "2022-09-30 00:55:44,085 INFO Download rate 1.9M/s                                                                      \n"
     ]
    },
    {
     "name": "stdout",
     "output_type": "stream",
     "text": [
      "用时43.00727820396423\n"
     ]
    },
    {
     "name": "stderr",
     "output_type": "stream",
     "text": [
      "2022-09-30 00:55:44,539 INFO Welcome to the CDS\n",
      "2022-09-30 00:55:44,541 INFO Sending request to https://cds.climate.copernicus.eu/api/v2/resources/reanalysis-era5-pressure-levels\n",
      "2022-09-30 00:55:44,790 INFO Request is queued\n",
      "2022-09-30 00:55:46,031 INFO Request is running\n",
      "2022-09-30 00:55:53,861 INFO Request is completed\n",
      "2022-09-30 00:55:53,863 INFO Downloading https://download-0020.copernicus-climate.eu/cache-compute-0020/cache/data7/adaptor.mars.internal-1664470551.7582903-23729-13-8e97a9de-7120-4db7-a31c-4cc167357714.nc to g:/ERA5_RVOR/ERA5_RVOR_200809.nc (59.5M)\n",
      "2022-09-30 00:56:16,146 INFO Download rate 2.7M/s                                                                      \n"
     ]
    },
    {
     "name": "stdout",
     "output_type": "stream",
     "text": [
      "用时32.0597939491272\n"
     ]
    },
    {
     "name": "stderr",
     "output_type": "stream",
     "text": [
      "2022-09-30 00:56:16,596 INFO Welcome to the CDS\n",
      "2022-09-30 00:56:16,598 INFO Sending request to https://cds.climate.copernicus.eu/api/v2/resources/reanalysis-era5-pressure-levels\n",
      "2022-09-30 00:56:16,858 INFO Request is queued\n",
      "2022-09-30 00:56:18,102 INFO Request is running\n",
      "2022-09-30 00:56:25,935 INFO Request is completed\n",
      "2022-09-30 00:56:25,938 INFO Downloading https://download-0001-clone.copernicus-climate.eu/cache-compute-0001/cache/data6/adaptor.mars.internal-1664470583.723126-30665-8-c070b5ba-dc58-478a-83fb-3c2a8cb3a4de.nc to g:/ERA5_RVOR/ERA5_RVOR_200810.nc (61.5M)\n",
      "2022-09-30 00:56:50,005 INFO Download rate 2.6M/s                                                                      \n"
     ]
    },
    {
     "name": "stdout",
     "output_type": "stream",
     "text": [
      "用时33.8593692779541\n"
     ]
    },
    {
     "name": "stderr",
     "output_type": "stream",
     "text": [
      "2022-09-30 00:56:50,457 INFO Welcome to the CDS\n",
      "2022-09-30 00:56:50,459 INFO Sending request to https://cds.climate.copernicus.eu/api/v2/resources/reanalysis-era5-pressure-levels\n",
      "2022-09-30 00:56:50,702 INFO Request is queued\n",
      "2022-09-30 00:56:51,937 INFO Request is running\n",
      "2022-09-30 00:56:59,761 INFO Request is completed\n",
      "2022-09-30 00:56:59,764 INFO Downloading https://download-0009-clone.copernicus-climate.eu/cache-compute-0009/cache/data1/adaptor.mars.internal-1664470616.940128-19475-18-96967410-b567-4b83-9476-0dd7f6892205.nc to g:/ERA5_RVOR/ERA5_RVOR_200811.nc (59.5M)\n",
      "2022-09-30 00:57:23,866 INFO Download rate 2.5M/s                                                                      \n"
     ]
    },
    {
     "name": "stdout",
     "output_type": "stream",
     "text": [
      "用时33.85998773574829\n"
     ]
    },
    {
     "name": "stderr",
     "output_type": "stream",
     "text": [
      "2022-09-30 00:57:24,319 INFO Welcome to the CDS\n",
      "2022-09-30 00:57:24,320 INFO Sending request to https://cds.climate.copernicus.eu/api/v2/resources/reanalysis-era5-pressure-levels\n",
      "2022-09-30 00:57:24,593 INFO Request is queued\n",
      "2022-09-30 00:57:25,824 INFO Request is running\n",
      "2022-09-30 00:57:33,662 INFO Request is completed\n",
      "2022-09-30 00:57:33,663 INFO Downloading https://download-0010-clone.copernicus-climate.eu/cache-compute-0010/cache/data9/adaptor.mars.internal-1664470651.2888803-8609-1-72588370-b61a-41ef-a4e6-6017ff09fa49.nc to g:/ERA5_RVOR/ERA5_RVOR_200812.nc (61.5M)\n",
      "2022-09-30 00:58:09,239 INFO Download rate 1.7M/s                                                                      \n"
     ]
    },
    {
     "name": "stdout",
     "output_type": "stream",
     "text": [
      "用时45.37031579017639\n"
     ]
    },
    {
     "name": "stderr",
     "output_type": "stream",
     "text": [
      "2022-09-30 00:58:09,687 INFO Welcome to the CDS\n",
      "2022-09-30 00:58:09,689 INFO Sending request to https://cds.climate.copernicus.eu/api/v2/resources/reanalysis-era5-pressure-levels\n",
      "2022-09-30 00:58:09,946 INFO Request is queued\n",
      "2022-09-30 00:58:11,190 INFO Request is running\n",
      "2022-09-30 00:58:19,022 INFO Request is completed\n",
      "2022-09-30 00:58:19,023 INFO Downloading https://download-0010-clone.copernicus-climate.eu/cache-compute-0010/cache/data4/adaptor.mars.internal-1664470697.008907-26271-13-062ba95f-ddeb-4738-8dce-7005a038a597.nc to g:/ERA5_RVOR/ERA5_RVOR_200901.nc (61.5M)\n",
      "2022-09-30 00:58:52,736 INFO Download rate 1.8M/s                                                                      \n"
     ]
    },
    {
     "name": "stdout",
     "output_type": "stream",
     "text": [
      "用时43.4988009929657\n"
     ]
    },
    {
     "name": "stderr",
     "output_type": "stream",
     "text": [
      "2022-09-30 00:58:53,189 INFO Welcome to the CDS\n",
      "2022-09-30 00:58:53,191 INFO Sending request to https://cds.climate.copernicus.eu/api/v2/resources/reanalysis-era5-pressure-levels\n",
      "2022-09-30 00:58:53,461 INFO Request is queued\n",
      "2022-09-30 00:58:54,693 INFO Request is running\n",
      "2022-09-30 00:59:02,513 INFO Request is completed\n",
      "2022-09-30 00:59:02,515 INFO Downloading https://download-0003-clone.copernicus-climate.eu/cache-compute-0003/cache/data1/adaptor.mars.internal-1664470740.1574821-24545-12-7e609a46-b0ee-49c5-bf5e-d5d20781eb14.nc to g:/ERA5_RVOR/ERA5_RVOR_200902.nc (55.5M)\n",
      "2022-09-30 00:59:31,337 INFO Download rate 1.9M/s                                                                      \n"
     ]
    },
    {
     "name": "stdout",
     "output_type": "stream",
     "text": [
      "用时38.5989203453064\n"
     ]
    },
    {
     "name": "stderr",
     "output_type": "stream",
     "text": [
      "2022-09-30 00:59:31,789 INFO Welcome to the CDS\n",
      "2022-09-30 00:59:31,790 INFO Sending request to https://cds.climate.copernicus.eu/api/v2/resources/reanalysis-era5-pressure-levels\n",
      "2022-09-30 00:59:32,064 INFO Request is queued\n",
      "2022-09-30 00:59:33,305 INFO Request is running\n",
      "2022-09-30 00:59:41,132 INFO Request is completed\n",
      "2022-09-30 00:59:41,134 INFO Downloading https://download-0014-clone.copernicus-climate.eu/cache-compute-0014/cache/data3/adaptor.mars.internal-1664470779.4150198-23841-11-b872e059-b683-414d-87a0-feb8f4bf55fd.nc to g:/ERA5_RVOR/ERA5_RVOR_200903.nc (61.5M)\n",
      "2022-09-30 01:00:15,403 INFO Download rate 1.8M/s                                                                      \n"
     ]
    },
    {
     "name": "stdout",
     "output_type": "stream",
     "text": [
      "用时44.067200660705566\n"
     ]
    },
    {
     "name": "stderr",
     "output_type": "stream",
     "text": [
      "2022-09-30 01:00:15,859 INFO Welcome to the CDS\n",
      "2022-09-30 01:00:15,861 INFO Sending request to https://cds.climate.copernicus.eu/api/v2/resources/reanalysis-era5-pressure-levels\n",
      "2022-09-30 01:00:16,107 INFO Request is queued\n",
      "2022-09-30 01:00:18,067 INFO Request is running\n",
      "2022-09-30 01:00:25,931 INFO Request is completed\n",
      "2022-09-30 01:00:25,933 INFO Downloading https://download-0016.copernicus-climate.eu/cache-compute-0016/cache/data1/adaptor.mars.internal-1664470823.1407802-9246-19-44805245-1eff-461b-b244-1a7c2d4574de.nc to g:/ERA5_RVOR/ERA5_RVOR_200904.nc (59.5M)\n",
      "2022-09-30 01:00:48,795 INFO Download rate 2.6M/s                                                                      \n"
     ]
    },
    {
     "name": "stdout",
     "output_type": "stream",
     "text": [
      "用时33.398273944854736\n"
     ]
    },
    {
     "name": "stderr",
     "output_type": "stream",
     "text": [
      "2022-09-30 01:00:49,266 INFO Welcome to the CDS\n",
      "2022-09-30 01:00:49,267 INFO Sending request to https://cds.climate.copernicus.eu/api/v2/resources/reanalysis-era5-pressure-levels\n",
      "2022-09-30 01:00:49,506 INFO Request is queued\n",
      "2022-09-30 01:00:50,754 INFO Request is running\n",
      "2022-09-30 01:00:58,603 INFO Request is completed\n",
      "2022-09-30 01:00:58,604 INFO Downloading https://download-0020.copernicus-climate.eu/cache-compute-0020/cache/data0/adaptor.mars.internal-1664470856.786597-7608-1-23d7823d-b14b-462f-bee8-c9a7af836c80.nc to g:/ERA5_RVOR/ERA5_RVOR_200905.nc (61.5M)\n",
      "2022-09-30 01:01:29,757 INFO Download rate 2M/s                                                                        \n"
     ]
    },
    {
     "name": "stdout",
     "output_type": "stream",
     "text": [
      "用时40.96224236488342\n"
     ]
    },
    {
     "name": "stderr",
     "output_type": "stream",
     "text": [
      "2022-09-30 01:01:30,230 INFO Welcome to the CDS\n",
      "2022-09-30 01:01:30,231 INFO Sending request to https://cds.climate.copernicus.eu/api/v2/resources/reanalysis-era5-pressure-levels\n",
      "2022-09-30 01:01:30,486 INFO Request is queued\n",
      "2022-09-30 01:01:31,725 INFO Request is running\n",
      "2022-09-30 01:01:39,564 INFO Request is completed\n",
      "2022-09-30 01:01:39,566 INFO Downloading https://download-0011-clone.copernicus-climate.eu/cache-compute-0011/cache/data1/adaptor.mars.internal-1664470897.005434-8716-1-c3915405-bf6c-4a88-9270-25475917f89c.nc to g:/ERA5_RVOR/ERA5_RVOR_200906.nc (59.5M)\n",
      "2022-09-30 01:02:23,152 INFO Download rate 1.4M/s                                                                      \n"
     ]
    },
    {
     "name": "stdout",
     "output_type": "stream",
     "text": [
      "用时53.394084453582764\n"
     ]
    },
    {
     "name": "stderr",
     "output_type": "stream",
     "text": [
      "2022-09-30 01:02:23,624 INFO Welcome to the CDS\n",
      "2022-09-30 01:02:23,625 INFO Sending request to https://cds.climate.copernicus.eu/api/v2/resources/reanalysis-era5-pressure-levels\n",
      "2022-09-30 01:02:23,865 INFO Request is queued\n",
      "2022-09-30 01:02:25,105 INFO Request is running\n",
      "2022-09-30 01:02:32,976 INFO Request is completed\n",
      "2022-09-30 01:02:32,978 INFO Downloading https://download-0003-clone.copernicus-climate.eu/cache-compute-0003/cache/data6/adaptor.mars.internal-1664470950.8565817-29961-5-ebf3e9ae-a882-49df-adca-6a1048a85563.nc to g:/ERA5_RVOR/ERA5_RVOR_200907.nc (61.5M)\n",
      "2022-09-30 01:03:04,121 INFO Download rate 2M/s                                                                        \n"
     ]
    },
    {
     "name": "stdout",
     "output_type": "stream",
     "text": [
      "用时40.970181465148926\n"
     ]
    },
    {
     "name": "stderr",
     "output_type": "stream",
     "text": [
      "2022-09-30 01:03:04,594 INFO Welcome to the CDS\n",
      "2022-09-30 01:03:04,595 INFO Sending request to https://cds.climate.copernicus.eu/api/v2/resources/reanalysis-era5-pressure-levels\n",
      "2022-09-30 01:03:04,859 INFO Request is queued\n",
      "2022-09-30 01:03:06,099 INFO Request is running\n",
      "2022-09-30 01:03:13,964 INFO Request is completed\n",
      "2022-09-30 01:03:13,966 INFO Downloading https://download-0018.copernicus-climate.eu/cache-compute-0018/cache/data4/adaptor.mars.internal-1664470992.2632995-28459-3-b0330e60-ebd0-46e4-bea0-f00c5ca685d8.nc to g:/ERA5_RVOR/ERA5_RVOR_200908.nc (61.5M)\n",
      "2022-09-30 01:03:36,361 INFO Download rate 2.7M/s                                                                      \n"
     ]
    },
    {
     "name": "stdout",
     "output_type": "stream",
     "text": [
      "用时32.23809456825256\n"
     ]
    },
    {
     "name": "stderr",
     "output_type": "stream",
     "text": [
      "2022-09-30 01:03:36,832 INFO Welcome to the CDS\n",
      "2022-09-30 01:03:36,834 INFO Sending request to https://cds.climate.copernicus.eu/api/v2/resources/reanalysis-era5-pressure-levels\n",
      "2022-09-30 01:03:37,080 INFO Request is queued\n",
      "2022-09-30 01:03:38,317 INFO Request is running\n",
      "2022-09-30 01:03:51,465 INFO Request is completed\n",
      "2022-09-30 01:03:51,467 INFO Downloading https://download-0003-clone.copernicus-climate.eu/cache-compute-0003/cache/data8/adaptor.mars.internal-1664471025.494336-26796-10-c53b637d-25c4-479b-bb3c-3044062ab6b5.nc to g:/ERA5_RVOR/ERA5_RVOR_200909.nc (59.5M)\n",
      "2022-09-30 01:04:12,964 INFO Download rate 2.8M/s                                                                      \n"
     ]
    },
    {
     "name": "stdout",
     "output_type": "stream",
     "text": [
      "用时36.59843921661377\n"
     ]
    },
    {
     "name": "stderr",
     "output_type": "stream",
     "text": [
      "2022-09-30 01:04:13,435 INFO Welcome to the CDS\n",
      "2022-09-30 01:04:13,437 INFO Sending request to https://cds.climate.copernicus.eu/api/v2/resources/reanalysis-era5-pressure-levels\n",
      "2022-09-30 01:04:13,733 INFO Request is queued\n",
      "2022-09-30 01:04:14,979 INFO Request is running\n",
      "2022-09-30 01:04:22,836 INFO Request is completed\n",
      "2022-09-30 01:04:22,837 INFO Downloading https://download-0003-clone.copernicus-climate.eu/cache-compute-0003/cache/data7/adaptor.mars.internal-1664471061.1024125-29234-7-3ed0a2b4-6a1d-4995-95cf-d8aafdf22256.nc to g:/ERA5_RVOR/ERA5_RVOR_200910.nc (61.5M)\n",
      "2022-09-30 01:04:46,043 INFO Download rate 2.6M/s                                                                      \n"
     ]
    },
    {
     "name": "stdout",
     "output_type": "stream",
     "text": [
      "用时33.081541776657104\n"
     ]
    },
    {
     "name": "stderr",
     "output_type": "stream",
     "text": [
      "2022-09-30 01:04:46,517 INFO Welcome to the CDS\n",
      "2022-09-30 01:04:46,519 INFO Sending request to https://cds.climate.copernicus.eu/api/v2/resources/reanalysis-era5-pressure-levels\n",
      "2022-09-30 01:04:46,815 INFO Request is queued\n",
      "2022-09-30 01:04:48,066 INFO Request is running\n",
      "2022-09-30 01:04:55,911 INFO Request is completed\n",
      "2022-09-30 01:04:55,912 INFO Downloading https://download-0017.copernicus-climate.eu/cache-compute-0017/cache/data1/adaptor.mars.internal-1664471093.5047834-30866-16-bd628abd-1f86-4996-bda5-dcb3dcf3258b.nc to g:/ERA5_RVOR/ERA5_RVOR_200911.nc (59.5M)\n",
      "2022-09-30 01:05:29,489 INFO Download rate 1.8M/s                                                                      \n"
     ]
    },
    {
     "name": "stdout",
     "output_type": "stream",
     "text": [
      "用时43.44342017173767\n"
     ]
    },
    {
     "name": "stderr",
     "output_type": "stream",
     "text": [
      "2022-09-30 01:05:29,962 INFO Welcome to the CDS\n",
      "2022-09-30 01:05:29,964 INFO Sending request to https://cds.climate.copernicus.eu/api/v2/resources/reanalysis-era5-pressure-levels\n",
      "2022-09-30 01:05:30,238 INFO Request is queued\n",
      "2022-09-30 01:05:31,492 INFO Request is running\n",
      "2022-09-30 01:05:44,670 INFO Request is completed\n",
      "2022-09-30 01:05:44,672 INFO Downloading https://download-0009-clone.copernicus-climate.eu/cache-compute-0009/cache/data5/adaptor.mars.internal-1664471138.9870882-16667-15-e28cb50b-26ac-4616-bf4d-38b8c55c84aa.nc to g:/ERA5_RVOR/ERA5_RVOR_200912.nc (61.5M)\n",
      "2022-09-30 01:06:06,924 INFO Download rate 2.8M/s                                                                      \n"
     ]
    },
    {
     "name": "stdout",
     "output_type": "stream",
     "text": [
      "用时37.43357038497925\n"
     ]
    },
    {
     "name": "stderr",
     "output_type": "stream",
     "text": [
      "2022-09-30 01:06:07,395 INFO Welcome to the CDS\n",
      "2022-09-30 01:06:07,395 INFO Sending request to https://cds.climate.copernicus.eu/api/v2/resources/reanalysis-era5-pressure-levels\n",
      "2022-09-30 01:06:07,656 INFO Request is queued\n",
      "2022-09-30 01:06:08,912 INFO Request is running\n",
      "2022-09-30 01:06:22,094 INFO Request is completed\n",
      "2022-09-30 01:06:22,095 INFO Downloading https://download-0009-clone.copernicus-climate.eu/cache-compute-0009/cache/data6/adaptor.mars.internal-1664471175.248495-7017-6-5dad0ddb-1191-48a8-86cc-4f90dfb32ce4.nc to g:/ERA5_RVOR/ERA5_RVOR_201001.nc (61.5M)\n",
      "2022-09-30 01:06:43,988 INFO Download rate 2.8M/s                                                                      \n"
     ]
    },
    {
     "name": "stdout",
     "output_type": "stream",
     "text": [
      "用时37.064619064331055\n"
     ]
    },
    {
     "name": "stderr",
     "output_type": "stream",
     "text": [
      "2022-09-30 01:06:44,464 INFO Welcome to the CDS\n",
      "2022-09-30 01:06:44,465 INFO Sending request to https://cds.climate.copernicus.eu/api/v2/resources/reanalysis-era5-pressure-levels\n",
      "2022-09-30 01:06:44,790 INFO Request is queued\n",
      "2022-09-30 01:06:46,038 INFO Request is running\n",
      "2022-09-30 01:06:53,887 INFO Request is completed\n",
      "2022-09-30 01:06:53,888 INFO Downloading https://download-0004-clone.copernicus-climate.eu/cache-compute-0004/cache/data3/adaptor.mars.internal-1664471211.5002937-3780-5-9baeb794-5ce2-4d7e-adfc-7c01b374ee43.nc to g:/ERA5_RVOR/ERA5_RVOR_201002.nc (55.5M)\n",
      "2022-09-30 01:07:23,570 INFO Download rate 1.9M/s                                                                      \n"
     ]
    },
    {
     "name": "stdout",
     "output_type": "stream",
     "text": [
      "用时39.57952094078064\n"
     ]
    },
    {
     "name": "stderr",
     "output_type": "stream",
     "text": [
      "2022-09-30 01:07:24,039 INFO Welcome to the CDS\n",
      "2022-09-30 01:07:24,041 INFO Sending request to https://cds.climate.copernicus.eu/api/v2/resources/reanalysis-era5-pressure-levels\n",
      "2022-09-30 01:07:24,287 INFO Request is queued\n",
      "2022-09-30 01:07:25,535 INFO Request is running\n",
      "2022-09-30 01:07:33,404 INFO Request is completed\n",
      "2022-09-30 01:07:33,406 INFO Downloading https://download-0008-clone.copernicus-climate.eu/cache-compute-0008/cache/data4/adaptor.mars.internal-1664471248.8206172-8082-4-d2bfa85b-90d5-4866-b46d-21ffe85efad7.nc to g:/ERA5_RVOR/ERA5_RVOR_201003.nc (61.5M)\n",
      "2022-09-30 01:08:12,164 INFO Download rate 1.6M/s                                                                      \n"
     ]
    },
    {
     "name": "stdout",
     "output_type": "stream",
     "text": [
      "用时48.59196710586548\n"
     ]
    },
    {
     "name": "stderr",
     "output_type": "stream",
     "text": [
      "2022-09-30 01:08:12,634 INFO Welcome to the CDS\n",
      "2022-09-30 01:08:12,635 INFO Sending request to https://cds.climate.copernicus.eu/api/v2/resources/reanalysis-era5-pressure-levels\n",
      "2022-09-30 01:08:12,940 INFO Request is queued\n",
      "2022-09-30 01:08:14,190 INFO Request is running\n",
      "2022-09-30 01:08:22,054 INFO Request is completed\n",
      "2022-09-30 01:08:22,056 INFO Downloading https://download-0008-clone.copernicus-climate.eu/cache-compute-0008/cache/data8/adaptor.mars.internal-1664471297.302871-24843-15-96d4d602-40c5-4d6c-96f2-b0e0221f765f.nc to g:/ERA5_RVOR/ERA5_RVOR_201004.nc (59.5M)\n",
      "2022-09-30 01:08:42,633 INFO Download rate 2.9M/s                                                                      \n"
     ]
    },
    {
     "name": "stdout",
     "output_type": "stream",
     "text": [
      "用时30.46881628036499\n"
     ]
    },
    {
     "name": "stderr",
     "output_type": "stream",
     "text": [
      "2022-09-30 01:08:43,106 INFO Welcome to the CDS\n",
      "2022-09-30 01:08:43,107 INFO Sending request to https://cds.climate.copernicus.eu/api/v2/resources/reanalysis-era5-pressure-levels\n",
      "2022-09-30 01:08:43,360 INFO Request is queued\n",
      "2022-09-30 01:08:44,602 INFO Request is running\n",
      "2022-09-30 01:08:52,447 INFO Request is completed\n",
      "2022-09-30 01:08:52,449 INFO Downloading https://download-0007-clone.copernicus-climate.eu/cache-compute-0007/cache/data1/adaptor.mars.internal-1664471330.2911334-8596-10-c16d58e6-9a80-4b11-ab65-9c7899a51c42.nc to g:/ERA5_RVOR/ERA5_RVOR_201005.nc (61.5M)\n",
      "2022-09-30 01:09:23,987 INFO Download rate 1.9M/s                                                                      \n"
     ]
    },
    {
     "name": "stdout",
     "output_type": "stream",
     "text": [
      "用时41.35317325592041\n"
     ]
    },
    {
     "name": "stderr",
     "output_type": "stream",
     "text": [
      "2022-09-30 01:09:24,458 INFO Welcome to the CDS\n",
      "2022-09-30 01:09:24,459 INFO Sending request to https://cds.climate.copernicus.eu/api/v2/resources/reanalysis-era5-pressure-levels\n",
      "2022-09-30 01:09:25,401 INFO Request is queued\n",
      "2022-09-30 01:09:26,645 INFO Request is running\n",
      "2022-09-30 01:09:34,483 INFO Request is completed\n",
      "2022-09-30 01:09:34,484 INFO Downloading https://download-0019.copernicus-climate.eu/cache-compute-0019/cache/data3/adaptor.mars.internal-1664471372.0385468-22751-12-512dc453-58da-4ab1-b43d-d12dd2c48b78.nc to g:/ERA5_RVOR/ERA5_RVOR_201006.nc (59.5M)\n",
      "2022-09-30 01:10:03,266 INFO Download rate 2.1M/s                                                                      \n"
     ]
    },
    {
     "name": "stdout",
     "output_type": "stream",
     "text": [
      "用时39.271793365478516\n"
     ]
    },
    {
     "name": "stderr",
     "output_type": "stream",
     "text": [
      "2022-09-30 01:10:03,729 INFO Welcome to the CDS\n",
      "2022-09-30 01:10:03,731 INFO Sending request to https://cds.climate.copernicus.eu/api/v2/resources/reanalysis-era5-pressure-levels\n",
      "2022-09-30 01:10:03,989 INFO Request is queued\n",
      "2022-09-30 01:10:05,232 INFO Request is running\n",
      "2022-09-30 01:10:13,064 INFO Request is completed\n",
      "2022-09-30 01:10:13,065 INFO Downloading https://download-0015-clone.copernicus-climate.eu/cache-compute-0015/cache/data4/adaptor.mars.internal-1664471410.6872623-7869-5-c85249f5-fd94-424e-af5a-99f058184f7c.nc to g:/ERA5_RVOR/ERA5_RVOR_201007.nc (61.5M)\n",
      "2022-09-30 01:10:42,980 INFO Download rate 2.1M/s                                                                      \n"
     ]
    },
    {
     "name": "stdout",
     "output_type": "stream",
     "text": [
      "用时39.71482300758362\n"
     ]
    },
    {
     "name": "stderr",
     "output_type": "stream",
     "text": [
      "2022-09-30 01:10:43,444 INFO Welcome to the CDS\n",
      "2022-09-30 01:10:43,446 INFO Sending request to https://cds.climate.copernicus.eu/api/v2/resources/reanalysis-era5-pressure-levels\n",
      "2022-09-30 01:10:43,714 INFO Request is queued\n",
      "2022-09-30 01:10:44,954 INFO Request is running\n",
      "2022-09-30 01:10:52,791 INFO Request is completed\n",
      "2022-09-30 01:10:52,795 INFO Downloading https://download-0016.copernicus-climate.eu/cache-compute-0016/cache/data1/adaptor.mars.internal-1664471450.7282665-18096-16-6b5f4b66-08c8-41fa-9733-2d5a8167d765.nc to g:/ERA5_RVOR/ERA5_RVOR_201008.nc (61.5M)\n",
      "2022-09-30 01:11:16,916 INFO Download rate 2.5M/s                                                                      \n"
     ]
    },
    {
     "name": "stdout",
     "output_type": "stream",
     "text": [
      "用时33.934091567993164\n"
     ]
    },
    {
     "name": "stderr",
     "output_type": "stream",
     "text": [
      "2022-09-30 01:11:17,379 INFO Welcome to the CDS\n",
      "2022-09-30 01:11:17,380 INFO Sending request to https://cds.climate.copernicus.eu/api/v2/resources/reanalysis-era5-pressure-levels\n",
      "2022-09-30 01:11:17,617 INFO Request is queued\n",
      "2022-09-30 01:11:18,847 INFO Request is running\n",
      "2022-09-30 01:11:26,688 INFO Request is completed\n",
      "2022-09-30 01:11:26,691 INFO Downloading https://download-0006-clone.copernicus-climate.eu/cache-compute-0006/cache/data1/adaptor.mars.internal-1664471484.202152-26447-15-b2e31f84-0a10-4b08-bdd9-85c54a2ba1ff.nc to g:/ERA5_RVOR/ERA5_RVOR_201009.nc (59.5M)\n",
      "2022-09-30 01:11:59,906 INFO Download rate 1.8M/s                                                                      \n"
     ]
    },
    {
     "name": "stdout",
     "output_type": "stream",
     "text": [
      "用时42.99091625213623\n"
     ]
    },
    {
     "name": "stderr",
     "output_type": "stream",
     "text": [
      "2022-09-30 01:12:00,369 INFO Welcome to the CDS\n",
      "2022-09-30 01:12:00,371 INFO Sending request to https://cds.climate.copernicus.eu/api/v2/resources/reanalysis-era5-pressure-levels\n",
      "2022-09-30 01:12:00,625 INFO Request is queued\n",
      "2022-09-30 01:12:01,867 INFO Request is running\n",
      "2022-09-30 01:12:09,718 INFO Request is completed\n",
      "2022-09-30 01:12:09,720 INFO Downloading https://download-0019.copernicus-climate.eu/cache-compute-0019/cache/data5/adaptor.mars.internal-1664471527.303764-22533-10-e4a895da-64e5-4374-921a-e603872b219c.nc to g:/ERA5_RVOR/ERA5_RVOR_201010.nc (61.5M)\n",
      "2022-09-30 01:12:35,217 INFO Download rate 2.4M/s                                                                      \n"
     ]
    },
    {
     "name": "stdout",
     "output_type": "stream",
     "text": [
      "用时35.30735635757446\n"
     ]
    },
    {
     "name": "stderr",
     "output_type": "stream",
     "text": [
      "2022-09-30 01:12:35,675 INFO Welcome to the CDS\n",
      "2022-09-30 01:12:35,677 INFO Sending request to https://cds.climate.copernicus.eu/api/v2/resources/reanalysis-era5-pressure-levels\n",
      "2022-09-30 01:12:35,918 INFO Request is queued\n",
      "2022-09-30 01:12:37,151 INFO Request is running\n",
      "2022-09-30 01:12:45,000 INFO Request is completed\n",
      "2022-09-30 01:12:45,003 INFO Downloading https://download-0010-clone.copernicus-climate.eu/cache-compute-0010/cache/data0/adaptor.mars.internal-1664471562.4117932-28617-16-48b25b5c-da86-4915-ac88-ac87ba24a252.nc to g:/ERA5_RVOR/ERA5_RVOR_201011.nc (59.5M)\n",
      "2022-09-30 01:13:07,495 INFO Download rate 2.6M/s                                                                      \n"
     ]
    },
    {
     "name": "stdout",
     "output_type": "stream",
     "text": [
      "用时32.2780966758728\n"
     ]
    },
    {
     "name": "stderr",
     "output_type": "stream",
     "text": [
      "2022-09-30 01:13:07,952 INFO Welcome to the CDS\n",
      "2022-09-30 01:13:07,953 INFO Sending request to https://cds.climate.copernicus.eu/api/v2/resources/reanalysis-era5-pressure-levels\n",
      "2022-09-30 01:13:08,187 INFO Request is queued\n",
      "2022-09-30 01:13:09,429 INFO Request is running\n",
      "2022-09-30 01:13:17,278 INFO Request is completed\n",
      "2022-09-30 01:13:17,280 INFO Downloading https://download-0019.copernicus-climate.eu/cache-compute-0019/cache/data4/adaptor.mars.internal-1664471594.6505587-31560-9-df4432bf-4d3f-448e-807c-365a3d3b4c34.nc to g:/ERA5_RVOR/ERA5_RVOR_201012.nc (61.5M)\n",
      "2022-09-30 01:13:39,389 INFO Download rate 2.8M/s                                                                      \n"
     ]
    },
    {
     "name": "stdout",
     "output_type": "stream",
     "text": [
      "用时31.89371967315674\n"
     ]
    },
    {
     "name": "stderr",
     "output_type": "stream",
     "text": [
      "2022-09-30 01:13:39,849 INFO Welcome to the CDS\n",
      "2022-09-30 01:13:39,849 INFO Sending request to https://cds.climate.copernicus.eu/api/v2/resources/reanalysis-era5-pressure-levels\n",
      "2022-09-30 01:13:40,104 INFO Request is queued\n",
      "2022-09-30 01:13:41,340 INFO Request is running\n",
      "2022-09-30 01:13:49,167 INFO Request is completed\n",
      "2022-09-30 01:13:49,168 INFO Downloading https://download-0006-clone.copernicus-climate.eu/cache-compute-0006/cache/data8/adaptor.mars.internal-1664471626.8030324-31896-7-3adc386d-7128-4a15-be2e-ae3255b8363c.nc to g:/ERA5_RVOR/ERA5_RVOR_201101.nc (61.5M)\n",
      "2022-09-30 01:14:13,894 INFO Download rate 2.5M/s                                                                      \n"
     ]
    },
    {
     "name": "stdout",
     "output_type": "stream",
     "text": [
      "用时34.50370693206787\n"
     ]
    },
    {
     "name": "stderr",
     "output_type": "stream",
     "text": [
      "2022-09-30 01:14:14,356 INFO Welcome to the CDS\n",
      "2022-09-30 01:14:14,358 INFO Sending request to https://cds.climate.copernicus.eu/api/v2/resources/reanalysis-era5-pressure-levels\n",
      "2022-09-30 01:14:14,604 INFO Request is queued\n",
      "2022-09-30 01:14:15,852 INFO Request is running\n",
      "2022-09-30 01:14:23,704 INFO Request is completed\n",
      "2022-09-30 01:14:23,707 INFO Downloading https://download-0012-clone.copernicus-climate.eu/cache-compute-0012/cache/data4/adaptor.mars.internal-1664471660.7492738-27366-17-073b8435-8a08-4a10-91a2-f04f80cacd4b.nc to g:/ERA5_RVOR/ERA5_RVOR_201102.nc (55.5M)\n",
      "2022-09-30 01:14:56,163 INFO Download rate 1.7M/s                                                                      \n"
     ]
    },
    {
     "name": "stdout",
     "output_type": "stream",
     "text": [
      "用时42.275564193725586\n"
     ]
    },
    {
     "name": "stderr",
     "output_type": "stream",
     "text": [
      "2022-09-30 01:14:56,633 INFO Welcome to the CDS\n",
      "2022-09-30 01:14:56,635 INFO Sending request to https://cds.climate.copernicus.eu/api/v2/resources/reanalysis-era5-pressure-levels\n",
      "2022-09-30 01:14:56,894 INFO Request is queued\n",
      "2022-09-30 01:14:58,138 INFO Request is running\n",
      "2022-09-30 01:15:11,283 INFO Request is completed\n",
      "2022-09-30 01:15:11,285 INFO Downloading https://download-0009-clone.copernicus-climate.eu/cache-compute-0009/cache/data2/adaptor.mars.internal-1664471704.785276-5640-11-ee36d4fa-25f5-4030-87d5-fe14c14b40de.nc to g:/ERA5_RVOR/ERA5_RVOR_201103.nc (61.5M)\n",
      "2022-09-30 01:15:35,069 INFO Download rate 2.6M/s                                                                      \n",
      "2022-09-30 01:15:35,481 INFO Welcome to the CDS\n"
     ]
    },
    {
     "name": "stdout",
     "output_type": "stream",
     "text": [
      "用时38.871487617492676\n"
     ]
    },
    {
     "name": "stderr",
     "output_type": "stream",
     "text": [
      "2022-09-30 01:15:35,483 INFO Sending request to https://cds.climate.copernicus.eu/api/v2/resources/reanalysis-era5-pressure-levels\n",
      "2022-09-30 01:15:35,712 INFO Request is queued\n",
      "2022-09-30 01:15:36,921 INFO Request is running\n",
      "2022-09-30 01:15:44,685 INFO Request is completed\n",
      "2022-09-30 01:15:44,688 INFO Downloading https://download-0010-clone.copernicus-climate.eu/cache-compute-0010/cache/data4/adaptor.mars.internal-1664471742.8486423-5204-13-31a755dc-de4a-4008-b2f2-4f2639ae1ccf.nc to g:/ERA5_RVOR/ERA5_RVOR_201104.nc (59.5M)\n",
      "2022-09-30 01:16:11,299 INFO Download rate 2.2M/s                                                                      \n",
      "2022-09-30 01:16:11,707 INFO Welcome to the CDS\n"
     ]
    },
    {
     "name": "stdout",
     "output_type": "stream",
     "text": [
      "用时36.22874188423157\n"
     ]
    },
    {
     "name": "stderr",
     "output_type": "stream",
     "text": [
      "2022-09-30 01:16:11,710 INFO Sending request to https://cds.climate.copernicus.eu/api/v2/resources/reanalysis-era5-pressure-levels\n",
      "2022-09-30 01:16:11,949 INFO Request is queued\n",
      "2022-09-30 01:16:13,165 INFO Request is running\n",
      "2022-09-30 01:16:26,220 INFO Request is completed\n",
      "2022-09-30 01:16:26,222 INFO Downloading https://download-0003-clone.copernicus-climate.eu/cache-compute-0003/cache/data9/adaptor.mars.internal-1664471781.108097-30740-9-8262f858-82c4-4535-9c6b-0cfbfe6ed9c2.nc to g:/ERA5_RVOR/ERA5_RVOR_201105.nc (61.5M)\n",
      "2022-09-30 01:16:49,666 INFO Download rate 2.6M/s                                                                      \n",
      "2022-09-30 01:16:50,079 INFO Welcome to the CDS\n"
     ]
    },
    {
     "name": "stdout",
     "output_type": "stream",
     "text": [
      "用时38.36753463745117\n"
     ]
    },
    {
     "name": "stderr",
     "output_type": "stream",
     "text": [
      "2022-09-30 01:16:50,081 INFO Sending request to https://cds.climate.copernicus.eu/api/v2/resources/reanalysis-era5-pressure-levels\n",
      "2022-09-30 01:16:50,337 INFO Request is queued\n",
      "2022-09-30 01:16:51,551 INFO Request is running\n",
      "2022-09-30 01:16:59,309 INFO Request is completed\n",
      "2022-09-30 01:16:59,310 INFO Downloading https://download-0012-clone.copernicus-climate.eu/cache-compute-0012/cache/data6/adaptor.mars.internal-1664471816.6389165-27366-18-8a640cc3-e031-4495-a511-b7f2b07ec1aa.nc to g:/ERA5_RVOR/ERA5_RVOR_201106.nc (59.5M)\n",
      "2022-09-30 01:17:24,508 INFO Download rate 2.4M/s                                                                      \n",
      "2022-09-30 01:17:24,923 INFO Welcome to the CDS\n"
     ]
    },
    {
     "name": "stdout",
     "output_type": "stream",
     "text": [
      "用时34.84372854232788\n"
     ]
    },
    {
     "name": "stderr",
     "output_type": "stream",
     "text": [
      "2022-09-30 01:17:24,926 INFO Sending request to https://cds.climate.copernicus.eu/api/v2/resources/reanalysis-era5-pressure-levels\n",
      "2022-09-30 01:17:25,163 INFO Request is queued\n",
      "2022-09-30 01:17:26,384 INFO Request is running\n",
      "2022-09-30 01:17:34,152 INFO Request is completed\n",
      "2022-09-30 01:17:34,154 INFO Downloading https://download-0006-clone.copernicus-climate.eu/cache-compute-0006/cache/data1/adaptor.mars.internal-1664471852.1042552-16897-14-aa729dee-5465-4fec-bb52-375647a82e2a.nc to g:/ERA5_RVOR/ERA5_RVOR_201107.nc (61.5M)\n",
      "2022-09-30 01:17:58,219 INFO Download rate 2.6M/s                                                                      \n",
      "2022-09-30 01:17:58,629 INFO Welcome to the CDS\n"
     ]
    },
    {
     "name": "stdout",
     "output_type": "stream",
     "text": [
      "用时33.707887411117554\n"
     ]
    },
    {
     "name": "stderr",
     "output_type": "stream",
     "text": [
      "2022-09-30 01:17:58,631 INFO Sending request to https://cds.climate.copernicus.eu/api/v2/resources/reanalysis-era5-pressure-levels\n",
      "2022-09-30 01:17:59,653 INFO Request is queued\n",
      "2022-09-30 01:18:00,902 INFO Request is running\n",
      "2022-09-30 01:18:08,780 INFO Request is completed\n",
      "2022-09-30 01:18:08,781 INFO Downloading https://download-0009-clone.copernicus-climate.eu/cache-compute-0009/cache/data5/adaptor.mars.internal-1664471886.81296-20757-16-cb23678e-2d9f-4b4c-9ddb-f1067e7684aa.nc to g:/ERA5_RVOR/ERA5_RVOR_201108.nc (61.5M)\n",
      "2022-09-30 01:18:35,310 INFO Download rate 2.3M/s                                                                      \n"
     ]
    },
    {
     "name": "stdout",
     "output_type": "stream",
     "text": [
      "用时37.126710414886475\n"
     ]
    },
    {
     "name": "stderr",
     "output_type": "stream",
     "text": [
      "2022-09-30 01:18:35,795 INFO Welcome to the CDS\n",
      "2022-09-30 01:18:35,797 INFO Sending request to https://cds.climate.copernicus.eu/api/v2/resources/reanalysis-era5-pressure-levels\n",
      "2022-09-30 01:18:36,073 INFO Request is queued\n",
      "2022-09-30 01:18:37,325 INFO Request is running\n",
      "2022-09-30 01:18:45,206 INFO Request is completed\n",
      "2022-09-30 01:18:45,209 INFO Downloading https://download-0011-clone.copernicus-climate.eu/cache-compute-0011/cache/data6/adaptor.mars.internal-1664471923.2806137-633-10-07035493-d219-44e3-84db-f13b79b6e516.nc to g:/ERA5_RVOR/ERA5_RVOR_201109.nc (59.5M)\n",
      "2022-09-30 01:19:08,934 INFO Download rate 2.5M/s                                                                      \n"
     ]
    },
    {
     "name": "stdout",
     "output_type": "stream",
     "text": [
      "用时33.62177562713623\n"
     ]
    },
    {
     "name": "stderr",
     "output_type": "stream",
     "text": [
      "2022-09-30 01:19:09,418 INFO Welcome to the CDS\n",
      "2022-09-30 01:19:09,419 INFO Sending request to https://cds.climate.copernicus.eu/api/v2/resources/reanalysis-era5-pressure-levels\n",
      "2022-09-30 01:19:09,700 INFO Request is queued\n",
      "2022-09-30 01:19:10,946 INFO Request is running\n",
      "2022-09-30 01:19:18,814 INFO Request is completed\n",
      "2022-09-30 01:19:18,817 INFO Downloading https://download-0008-clone.copernicus-climate.eu/cache-compute-0008/cache/data8/adaptor.mars.internal-1664471956.8151958-32067-17-f805b129-5faf-48c7-849a-6a0dc19c2957.nc to g:/ERA5_RVOR/ERA5_RVOR_201110.nc (61.5M)\n",
      "2022-09-30 01:19:40,549 INFO Download rate 2.8M/s                                                                      \n"
     ]
    },
    {
     "name": "stdout",
     "output_type": "stream",
     "text": [
      "用时31.61467146873474\n"
     ]
    },
    {
     "name": "stderr",
     "output_type": "stream",
     "text": [
      "2022-09-30 01:19:41,031 INFO Welcome to the CDS\n",
      "2022-09-30 01:19:41,031 INFO Sending request to https://cds.climate.copernicus.eu/api/v2/resources/reanalysis-era5-pressure-levels\n",
      "2022-09-30 01:19:41,289 INFO Request is queued\n",
      "2022-09-30 01:19:42,542 INFO Request is running\n",
      "2022-09-30 01:19:50,425 INFO Request is completed\n",
      "2022-09-30 01:19:50,426 INFO Downloading https://download-0020.copernicus-climate.eu/cache-compute-0020/cache/data8/adaptor.mars.internal-1664471987.6502-8833-7-cfc2acda-0317-4c05-bb40-72e86f2e5e1d.nc to g:/ERA5_RVOR/ERA5_RVOR_201111.nc (59.5M)\n",
      "2022-09-30 01:20:14,837 INFO Download rate 2.4M/s                                                                      \n"
     ]
    },
    {
     "name": "stdout",
     "output_type": "stream",
     "text": [
      "用时34.284355878829956\n"
     ]
    },
    {
     "name": "stderr",
     "output_type": "stream",
     "text": [
      "2022-09-30 01:20:15,317 INFO Welcome to the CDS\n",
      "2022-09-30 01:20:15,318 INFO Sending request to https://cds.climate.copernicus.eu/api/v2/resources/reanalysis-era5-pressure-levels\n",
      "2022-09-30 01:20:15,576 INFO Request is queued\n",
      "2022-09-30 01:20:16,819 INFO Request is running\n",
      "2022-09-30 01:20:24,689 INFO Request is completed\n",
      "2022-09-30 01:20:24,691 INFO Downloading https://download-0004-clone.copernicus-climate.eu/cache-compute-0004/cache/data4/adaptor.mars.internal-1664472022.4436953-10167-8-743d10fb-37b2-4d93-8088-7e4f6d6b559f.nc to g:/ERA5_RVOR/ERA5_RVOR_201112.nc (61.5M)\n",
      "2022-09-30 01:20:57,893 INFO Download rate 1.9M/s                                                                      \n"
     ]
    },
    {
     "name": "stdout",
     "output_type": "stream",
     "text": [
      "用时43.05728363990784\n"
     ]
    },
    {
     "name": "stderr",
     "output_type": "stream",
     "text": [
      "2022-09-30 01:20:58,373 INFO Welcome to the CDS\n",
      "2022-09-30 01:20:58,374 INFO Sending request to https://cds.climate.copernicus.eu/api/v2/resources/reanalysis-era5-pressure-levels\n",
      "2022-09-30 01:20:58,636 INFO Request is queued\n",
      "2022-09-30 01:20:59,890 INFO Request is running\n",
      "2022-09-30 01:21:13,070 INFO Request is completed\n",
      "2022-09-30 01:21:13,073 INFO Downloading https://download-0005-clone.copernicus-climate.eu/cache-compute-0005/cache/data4/adaptor.mars.internal-1664472066.291243-6028-18-b5b7b8c4-b391-4cf9-9840-4b237d9a3869.nc to g:/ERA5_RVOR/ERA5_RVOR_201201.nc (61.5M)\n",
      "2022-09-30 01:21:35,885 INFO Download rate 2.7M/s                                                                      \n"
     ]
    },
    {
     "name": "stdout",
     "output_type": "stream",
     "text": [
      "用时37.98883390426636\n"
     ]
    },
    {
     "name": "stderr",
     "output_type": "stream",
     "text": [
      "2022-09-30 01:21:36,367 INFO Welcome to the CDS\n",
      "2022-09-30 01:21:36,369 INFO Sending request to https://cds.climate.copernicus.eu/api/v2/resources/reanalysis-era5-pressure-levels\n",
      "2022-09-30 01:21:36,701 INFO Request is queued\n",
      "2022-09-30 01:21:37,955 INFO Request is running\n",
      "2022-09-30 01:21:45,823 INFO Request is completed\n",
      "2022-09-30 01:21:45,826 INFO Downloading https://download-0009-clone.copernicus-climate.eu/cache-compute-0009/cache/data4/adaptor.mars.internal-1664472102.868178-9570-8-aed26d45-70bf-453f-94db-5d69da2c194f.nc to g:/ERA5_RVOR/ERA5_RVOR_201202.nc (57.5M)\n",
      "2022-09-30 01:22:10,279 INFO Download rate 2.4M/s                                                                      \n"
     ]
    },
    {
     "name": "stdout",
     "output_type": "stream",
     "text": [
      "用时34.400811195373535\n"
     ]
    },
    {
     "name": "stderr",
     "output_type": "stream",
     "text": [
      "2022-09-30 01:22:10,768 INFO Welcome to the CDS\n",
      "2022-09-30 01:22:10,769 INFO Sending request to https://cds.climate.copernicus.eu/api/v2/resources/reanalysis-era5-pressure-levels\n",
      "2022-09-30 01:22:11,020 INFO Request is queued\n",
      "2022-09-30 01:22:12,262 INFO Request is running\n",
      "2022-09-30 01:22:25,444 INFO Request is completed\n",
      "2022-09-30 01:22:25,447 INFO Downloading https://download-0014-clone.copernicus-climate.eu/cache-compute-0014/cache/data5/adaptor.mars.internal-1664472139.919106-30163-12-cc0dddca-eea1-4d88-a023-f890255480ae.nc to g:/ERA5_RVOR/ERA5_RVOR_201203.nc (61.5M)\n",
      "2022-09-30 01:22:47,222 INFO Download rate 2.8M/s                                                                      \n"
     ]
    },
    {
     "name": "stdout",
     "output_type": "stream",
     "text": [
      "用时36.9323194026947\n"
     ]
    },
    {
     "name": "stderr",
     "output_type": "stream",
     "text": [
      "2022-09-30 01:22:47,697 INFO Welcome to the CDS\n",
      "2022-09-30 01:22:47,697 INFO Sending request to https://cds.climate.copernicus.eu/api/v2/resources/reanalysis-era5-pressure-levels\n",
      "2022-09-30 01:22:47,955 INFO Request is queued\n",
      "2022-09-30 01:22:49,203 INFO Request is running\n",
      "2022-09-30 01:22:57,071 INFO Request is completed\n",
      "2022-09-30 01:22:57,072 INFO Downloading https://download-0016.copernicus-climate.eu/cache-compute-0016/cache/data2/adaptor.mars.internal-1664472174.3850608-7694-17-ef975225-668a-4596-a3dd-89112b30344d.nc to g:/ERA5_RVOR/ERA5_RVOR_201204.nc (59.5M)\n",
      "2022-09-30 01:23:29,939 INFO Download rate 1.8M/s                                                                      \n"
     ]
    },
    {
     "name": "stdout",
     "output_type": "stream",
     "text": [
      "用时42.724764823913574\n"
     ]
    },
    {
     "name": "stderr",
     "output_type": "stream",
     "text": [
      "2022-09-30 01:23:30,424 INFO Welcome to the CDS\n",
      "2022-09-30 01:23:30,425 INFO Sending request to https://cds.climate.copernicus.eu/api/v2/resources/reanalysis-era5-pressure-levels\n",
      "2022-09-30 01:23:30,710 INFO Request is queued\n",
      "2022-09-30 01:23:31,960 INFO Request is running\n",
      "2022-09-30 01:23:45,124 INFO Request is completed\n",
      "2022-09-30 01:23:45,127 INFO Downloading https://download-0011-clone.copernicus-climate.eu/cache-compute-0011/cache/data0/adaptor.mars.internal-1664472218.303952-31617-12-c195665c-abb9-45bb-bdc9-f2ce217c62e2.nc to g:/ERA5_RVOR/ERA5_RVOR_201205.nc (61.5M)\n",
      "2022-09-30 01:24:12,557 INFO Download rate 2.2M/s                                                                      \n",
      "2022-09-30 01:24:12,989 INFO Welcome to the CDS\n"
     ]
    },
    {
     "name": "stdout",
     "output_type": "stream",
     "text": [
      "用时42.586296796798706\n"
     ]
    },
    {
     "name": "stderr",
     "output_type": "stream",
     "text": [
      "2022-09-30 01:24:12,992 INFO Sending request to https://cds.climate.copernicus.eu/api/v2/resources/reanalysis-era5-pressure-levels\n",
      "2022-09-30 01:24:13,236 INFO Request is queued\n",
      "2022-09-30 01:24:14,466 INFO Request is running\n",
      "2022-09-30 01:24:22,246 INFO Request is completed\n",
      "2022-09-30 01:24:22,249 INFO Downloading https://download-0011-clone.copernicus-climate.eu/cache-compute-0011/cache/data7/adaptor.mars.internal-1664472260.402407-4177-11-286426ca-a354-48b3-b24a-fd287d76b9b1.nc to g:/ERA5_RVOR/ERA5_RVOR_201206.nc (59.5M)\n",
      "2022-09-30 01:24:57,281 INFO Download rate 1.7M/s                                                                      \n"
     ]
    },
    {
     "name": "stdout",
     "output_type": "stream",
     "text": [
      "用时44.72160768508911\n"
     ]
    },
    {
     "name": "stderr",
     "output_type": "stream",
     "text": [
      "2022-09-30 01:24:57,708 INFO Welcome to the CDS\n",
      "2022-09-30 01:24:57,711 INFO Sending request to https://cds.climate.copernicus.eu/api/v2/resources/reanalysis-era5-pressure-levels\n",
      "2022-09-30 01:24:57,936 INFO Request is queued\n",
      "2022-09-30 01:24:59,165 INFO Request is running\n",
      "2022-09-30 01:25:12,236 INFO Request is completed\n",
      "2022-09-30 01:25:12,239 INFO Downloading https://download-0007-clone.copernicus-climate.eu/cache-compute-0007/cache/data7/adaptor.mars.internal-1664472305.3452816-22299-2-730d73c2-a8c7-4b2f-bbb6-10bc478d22df.nc to g:/ERA5_RVOR/ERA5_RVOR_201207.nc (61.5M)\n",
      "2022-09-30 01:25:35,953 INFO Download rate 2.6M/s                                                                      \n"
     ]
    },
    {
     "name": "stdout",
     "output_type": "stream",
     "text": [
      "用时38.67129111289978\n"
     ]
    },
    {
     "name": "stderr",
     "output_type": "stream",
     "text": [
      "2022-09-30 01:25:36,382 INFO Welcome to the CDS\n",
      "2022-09-30 01:25:36,384 INFO Sending request to https://cds.climate.copernicus.eu/api/v2/resources/reanalysis-era5-pressure-levels\n",
      "2022-09-30 01:25:36,635 INFO Request is queued\n",
      "2022-09-30 01:25:37,863 INFO Request is running\n",
      "2022-09-30 01:25:50,949 INFO Request is completed\n",
      "2022-09-30 01:25:50,952 INFO Downloading https://download-0016.copernicus-climate.eu/cache-compute-0016/cache/data3/adaptor.mars.internal-1664472344.3165946-31186-10-7bf115e1-ff50-40b8-b50a-493404e5b305.nc to g:/ERA5_RVOR/ERA5_RVOR_201208.nc (61.5M)\n",
      "2022-09-30 01:26:13,473 INFO Download rate 2.7M/s                                                                      \n"
     ]
    },
    {
     "name": "stdout",
     "output_type": "stream",
     "text": [
      "用时37.52056264877319\n"
     ]
    },
    {
     "name": "stderr",
     "output_type": "stream",
     "text": [
      "2022-09-30 01:26:13,906 INFO Welcome to the CDS\n",
      "2022-09-30 01:26:13,908 INFO Sending request to https://cds.climate.copernicus.eu/api/v2/resources/reanalysis-era5-pressure-levels\n",
      "2022-09-30 01:26:14,196 INFO Request is queued\n",
      "2022-09-30 01:26:15,421 INFO Request is running\n",
      "2022-09-30 01:26:23,922 INFO Request is completed\n",
      "2022-09-30 01:26:23,925 INFO Downloading https://download-0000-clone.copernicus-climate.eu/cache-compute-0000/cache/data8/adaptor.mars.internal-1664472382.0208616-9785-1-7a74c84a-defb-4738-8da6-9f891e4c2114.nc to g:/ERA5_RVOR/ERA5_RVOR_201209.nc (59.5M)\n",
      "2022-09-30 01:39:48,863 INFO Download rate 75.7K/s                                                                     \n"
     ]
    },
    {
     "name": "stdout",
     "output_type": "stream",
     "text": [
      "用时816.0315878391266\n"
     ]
    },
    {
     "name": "stderr",
     "output_type": "stream",
     "text": [
      "2022-09-30 01:39:49,937 INFO Welcome to the CDS\n",
      "2022-09-30 01:39:49,939 INFO Sending request to https://cds.climate.copernicus.eu/api/v2/resources/reanalysis-era5-pressure-levels\n",
      "2022-09-30 01:39:50,181 INFO Request is queued\n",
      "2022-09-30 01:39:51,411 INFO Request is running\n",
      "2022-09-30 01:39:59,194 INFO Request is completed\n",
      "2022-09-30 01:39:59,196 INFO Downloading https://download-0019.copernicus-climate.eu/cache-compute-0019/cache/data7/adaptor.mars.internal-1664473197.4761066-9157-8-75a3a4b5-ac8c-4e3a-a02a-b241c8b7ac34.nc to g:/ERA5_RVOR/ERA5_RVOR_201210.nc (61.5M)\n",
      "2022-09-30 01:40:28,712 INFO Download rate 2.1M/s                                                                      \n"
     ]
    },
    {
     "name": "stdout",
     "output_type": "stream",
     "text": [
      "用时39.20307731628418\n"
     ]
    },
    {
     "name": "stderr",
     "output_type": "stream",
     "text": [
      "2022-09-30 01:40:29,142 INFO Welcome to the CDS\n",
      "2022-09-30 01:40:29,144 INFO Sending request to https://cds.climate.copernicus.eu/api/v2/resources/reanalysis-era5-pressure-levels\n",
      "2022-09-30 01:40:29,394 INFO Request is queued\n",
      "2022-09-30 01:40:30,622 INFO Request is running\n",
      "2022-09-30 01:40:43,710 INFO Request is completed\n",
      "2022-09-30 01:40:43,711 INFO Downloading https://download-0020.copernicus-climate.eu/cache-compute-0020/cache/data4/adaptor.mars.internal-1664473237.14859-19274-8-7250c504-0ece-48c4-8a67-28f41e4627a6.nc to g:/ERA5_RVOR/ERA5_RVOR_201211.nc (59.5M)\n",
      "2022-09-30 01:41:08,055 INFO Download rate 2.4M/s                                                                      \n"
     ]
    },
    {
     "name": "stdout",
     "output_type": "stream",
     "text": [
      "用时39.34507775306702\n"
     ]
    },
    {
     "name": "stderr",
     "output_type": "stream",
     "text": [
      "2022-09-30 01:41:08,484 INFO Welcome to the CDS\n",
      "2022-09-30 01:41:08,487 INFO Sending request to https://cds.climate.copernicus.eu/api/v2/resources/reanalysis-era5-pressure-levels\n",
      "2022-09-30 01:41:08,723 INFO Request is queued\n",
      "2022-09-30 01:41:09,940 INFO Request is running\n",
      "2022-09-30 01:41:23,006 INFO Request is completed\n",
      "2022-09-30 01:41:23,009 INFO Downloading https://download-0015-clone.copernicus-climate.eu/cache-compute-0015/cache/data0/adaptor.mars.internal-1664473277.8536217-30207-1-05c28d95-fe9b-4c03-b1a7-619a9fc8bfdb.nc to g:/ERA5_RVOR/ERA5_RVOR_201212.nc (61.5M)\n",
      "2022-09-30 01:41:59,950 INFO Download rate 1.7M/s                                                                      \n"
     ]
    },
    {
     "name": "stdout",
     "output_type": "stream",
     "text": [
      "用时51.89248085021973\n"
     ]
    },
    {
     "name": "stderr",
     "output_type": "stream",
     "text": [
      "2022-09-30 01:42:00,381 INFO Welcome to the CDS\n",
      "2022-09-30 01:42:00,384 INFO Sending request to https://cds.climate.copernicus.eu/api/v2/resources/reanalysis-era5-pressure-levels\n",
      "2022-09-30 01:42:00,652 INFO Request is queued\n",
      "2022-09-30 01:42:01,871 INFO Request is running\n",
      "2022-09-30 01:42:14,948 INFO Request is completed\n",
      "2022-09-30 01:42:14,950 INFO Downloading https://download-0003-clone.copernicus-climate.eu/cache-compute-0003/cache/data9/adaptor.mars.internal-1664473328.1260376-17161-6-6158651d-34f6-481c-b07a-d7668f8ffa40.nc to g:/ERA5_RVOR/ERA5_RVOR_201301.nc (61.5M)\n",
      "2022-09-30 01:42:40,077 INFO Download rate 2.4M/s                                                                      \n"
     ]
    },
    {
     "name": "stdout",
     "output_type": "stream",
     "text": [
      "用时40.126665353775024\n"
     ]
    },
    {
     "name": "stderr",
     "output_type": "stream",
     "text": [
      "2022-09-30 01:42:40,508 INFO Welcome to the CDS\n",
      "2022-09-30 01:42:40,510 INFO Sending request to https://cds.climate.copernicus.eu/api/v2/resources/reanalysis-era5-pressure-levels\n",
      "2022-09-30 01:42:40,746 INFO Request is queued\n",
      "2022-09-30 01:42:41,978 INFO Request is running\n",
      "2022-09-30 01:42:49,762 INFO Request is completed\n",
      "2022-09-30 01:42:49,765 INFO Downloading https://download-0012-clone.copernicus-climate.eu/cache-compute-0012/cache/data9/adaptor.mars.internal-1664473366.7560341-21938-4-39b0c753-ef8c-4832-b85e-82436ac5e8bd.nc to g:/ERA5_RVOR/ERA5_RVOR_201302.nc (55.5M)\n",
      "2022-09-30 01:43:19,504 INFO Download rate 1.9M/s                                                                      \n"
     ]
    },
    {
     "name": "stdout",
     "output_type": "stream",
     "text": [
      "用时39.42511320114136\n"
     ]
    },
    {
     "name": "stderr",
     "output_type": "stream",
     "text": [
      "2022-09-30 01:43:19,933 INFO Welcome to the CDS\n",
      "2022-09-30 01:43:19,935 INFO Sending request to https://cds.climate.copernicus.eu/api/v2/resources/reanalysis-era5-pressure-levels\n",
      "2022-09-30 01:43:20,169 INFO Request is queued\n",
      "2022-09-30 01:43:21,394 INFO Request is running\n",
      "2022-09-30 01:43:34,464 INFO Request is completed\n",
      "2022-09-30 01:43:34,465 INFO Downloading https://download-0014-clone.copernicus-climate.eu/cache-compute-0014/cache/data2/adaptor.mars.internal-1664473407.7696576-22166-2-5d126cf2-2752-4da1-81f4-929986e78082.nc to g:/ERA5_RVOR/ERA5_RVOR_201303.nc (61.5M)\n",
      "2022-09-30 01:44:01,467 INFO Download rate 2.3M/s                                                                      \n"
     ]
    },
    {
     "name": "stdout",
     "output_type": "stream",
     "text": [
      "用时41.96162295341492\n"
     ]
    },
    {
     "name": "stderr",
     "output_type": "stream",
     "text": [
      "2022-09-30 01:44:01,897 INFO Welcome to the CDS\n",
      "2022-09-30 01:44:01,898 INFO Sending request to https://cds.climate.copernicus.eu/api/v2/resources/reanalysis-era5-pressure-levels\n",
      "2022-09-30 01:44:02,132 INFO Request is queued\n",
      "2022-09-30 01:44:03,352 INFO Request is running\n",
      "2022-09-30 01:44:11,137 INFO Request is completed\n",
      "2022-09-30 01:44:11,139 INFO Downloading https://download-0007-clone.copernicus-climate.eu/cache-compute-0007/cache/data0/adaptor.mars.internal-1664473448.957214-19304-14-a2e136b5-e66b-4ca6-b8e7-19cd18d8e4d7.nc to g:/ERA5_RVOR/ERA5_RVOR_201304.nc (59.5M)\n",
      "2022-09-30 01:44:40,674 INFO Download rate 2M/s                                                                        \n"
     ]
    },
    {
     "name": "stdout",
     "output_type": "stream",
     "text": [
      "用时39.20937728881836\n"
     ]
    },
    {
     "name": "stderr",
     "output_type": "stream",
     "text": [
      "2022-09-30 01:44:41,108 INFO Welcome to the CDS\n",
      "2022-09-30 01:44:41,109 INFO Sending request to https://cds.climate.copernicus.eu/api/v2/resources/reanalysis-era5-pressure-levels\n",
      "2022-09-30 01:44:41,389 INFO Request is queued\n",
      "2022-09-30 01:44:42,614 INFO Request is running\n",
      "2022-09-30 01:44:55,689 INFO Request is completed\n",
      "2022-09-30 01:44:55,692 INFO Downloading https://download-0009-clone.copernicus-climate.eu/cache-compute-0009/cache/data2/adaptor.mars.internal-1664473488.987677-19815-10-6bf19262-2be7-40f4-bd4e-294c4d55d117.nc to g:/ERA5_RVOR/ERA5_RVOR_201305.nc (61.5M)\n",
      "2022-09-30 01:45:18,954 INFO Download rate 2.6M/s                                                                      \n",
      "2022-09-30 01:45:19,381 INFO Welcome to the CDS\n"
     ]
    },
    {
     "name": "stdout",
     "output_type": "stream",
     "text": [
      "用时38.27599382400513\n"
     ]
    },
    {
     "name": "stderr",
     "output_type": "stream",
     "text": [
      "2022-09-30 01:45:19,382 INFO Sending request to https://cds.climate.copernicus.eu/api/v2/resources/reanalysis-era5-pressure-levels\n",
      "2022-09-30 01:45:19,644 INFO Request is queued\n",
      "2022-09-30 01:45:20,872 INFO Request is running\n",
      "2022-09-30 01:45:28,658 INFO Request is completed\n",
      "2022-09-30 01:45:28,661 INFO Downloading https://download-0011-clone.copernicus-climate.eu/cache-compute-0011/cache/data0/adaptor.mars.internal-1664473526.8731327-17101-8-a0277f43-04e6-4ab4-8bb7-82bf30ee5579.nc to g:/ERA5_RVOR/ERA5_RVOR_201306.nc (59.5M)\n",
      "2022-09-30 01:45:59,464 INFO Download rate 1.9M/s                                                                      \n",
      "2022-09-30 01:45:59,891 INFO Welcome to the CDS\n"
     ]
    },
    {
     "name": "stdout",
     "output_type": "stream",
     "text": [
      "用时40.50896906852722\n"
     ]
    },
    {
     "name": "stderr",
     "output_type": "stream",
     "text": [
      "2022-09-30 01:45:59,892 INFO Sending request to https://cds.climate.copernicus.eu/api/v2/resources/reanalysis-era5-pressure-levels\n",
      "2022-09-30 01:46:00,145 INFO Request is queued\n",
      "2022-09-30 01:46:01,369 INFO Request is running\n",
      "2022-09-30 01:46:14,441 INFO Request is completed\n",
      "2022-09-30 01:46:14,443 INFO Downloading https://download-0015-clone.copernicus-climate.eu/cache-compute-0015/cache/data0/adaptor.mars.internal-1664473568.117605-30917-3-ac41a80a-1150-4c84-8e0d-865da8358e93.nc to g:/ERA5_RVOR/ERA5_RVOR_201307.nc (61.5M)\n",
      "2022-09-30 01:46:38,280 INFO Download rate 2.6M/s                                                                      \n"
     ]
    },
    {
     "name": "stdout",
     "output_type": "stream",
     "text": [
      "用时38.8166561126709\n"
     ]
    },
    {
     "name": "stderr",
     "output_type": "stream",
     "text": [
      "2022-09-30 01:46:38,711 INFO Welcome to the CDS\n",
      "2022-09-30 01:46:38,714 INFO Sending request to https://cds.climate.copernicus.eu/api/v2/resources/reanalysis-era5-pressure-levels\n",
      "2022-09-30 01:46:38,944 INFO Request is queued\n",
      "2022-09-30 01:46:40,166 INFO Request is running\n",
      "2022-09-30 01:46:53,236 INFO Request is completed\n",
      "2022-09-30 01:46:53,239 INFO Downloading https://download-0004-clone.copernicus-climate.eu/cache-compute-0004/cache/data2/adaptor.mars.internal-1664473606.2788134-24048-5-4b177e6b-7824-4dc2-a225-733b9d8ca315.nc to g:/ERA5_RVOR/ERA5_RVOR_201308.nc (61.5M)\n",
      "2022-09-30 01:47:14,602 INFO Download rate 2.9M/s                                                                      \n",
      "2022-09-30 01:47:15,032 INFO Welcome to the CDS\n"
     ]
    },
    {
     "name": "stdout",
     "output_type": "stream",
     "text": [
      "用时36.31913900375366\n"
     ]
    },
    {
     "name": "stderr",
     "output_type": "stream",
     "text": [
      "2022-09-30 01:47:15,035 INFO Sending request to https://cds.climate.copernicus.eu/api/v2/resources/reanalysis-era5-pressure-levels\n",
      "2022-09-30 01:47:15,277 INFO Request is queued\n",
      "2022-09-30 01:47:16,509 INFO Request is running\n",
      "2022-09-30 01:47:24,301 INFO Request is completed\n",
      "2022-09-30 01:47:24,302 INFO Downloading https://download-0007-clone.copernicus-climate.eu/cache-compute-0007/cache/data3/adaptor.mars.internal-1664473642.2660453-20888-11-89877aa1-086b-4334-ae23-68b20c745c4b.nc to g:/ERA5_RVOR/ERA5_RVOR_201309.nc (59.5M)\n",
      "2022-09-30 01:47:47,437 INFO Download rate 2.6M/s                                                                      \n"
     ]
    },
    {
     "name": "stdout",
     "output_type": "stream",
     "text": [
      "用时32.834041118621826\n"
     ]
    },
    {
     "name": "stderr",
     "output_type": "stream",
     "text": [
      "2022-09-30 01:47:47,866 INFO Welcome to the CDS\n",
      "2022-09-30 01:47:47,869 INFO Sending request to https://cds.climate.copernicus.eu/api/v2/resources/reanalysis-era5-pressure-levels\n",
      "2022-09-30 01:47:48,129 INFO Request is queued\n",
      "2022-09-30 01:47:49,350 INFO Request is running\n",
      "2022-09-30 01:48:02,424 INFO Request is completed\n",
      "2022-09-30 01:48:02,426 INFO Downloading https://download-0007-clone.copernicus-climate.eu/cache-compute-0007/cache/data6/adaptor.mars.internal-1664473676.3276918-30658-6-7db027c1-a79d-45fe-9b65-815e35094fb2.nc to g:/ERA5_RVOR/ERA5_RVOR_201310.nc (61.5M)\n",
      "2022-09-30 01:48:22,073 INFO Download rate 3.1M/s                                                                      \n"
     ]
    },
    {
     "name": "stdout",
     "output_type": "stream",
     "text": [
      "用时34.634320974349976\n"
     ]
    },
    {
     "name": "stderr",
     "output_type": "stream",
     "text": [
      "2022-09-30 01:48:23,369 INFO Welcome to the CDS\n",
      "2022-09-30 01:48:23,369 INFO Sending request to https://cds.climate.copernicus.eu/api/v2/resources/reanalysis-era5-pressure-levels\n",
      "2022-09-30 01:48:23,695 INFO Request is queued\n",
      "2022-09-30 01:48:24,973 INFO Request is running\n",
      "2022-09-30 01:48:32,937 INFO Request is completed\n",
      "2022-09-30 01:48:32,940 INFO Downloading https://download-0004-clone.copernicus-climate.eu/cache-compute-0004/cache/data3/adaptor.mars.internal-1664473711.3467941-13469-15-dc81ca5c-405a-412f-8087-25d8dec1f64e.nc to g:/ERA5_RVOR/ERA5_RVOR_201311.nc (59.5M)\n",
      "2022-09-30 01:48:55,111 INFO Download rate 2.7M/s                                                                      \n"
     ]
    },
    {
     "name": "stdout",
     "output_type": "stream",
     "text": [
      "用时33.09512400627136\n"
     ]
    },
    {
     "name": "stderr",
     "output_type": "stream",
     "text": [
      "2022-09-30 01:48:55,655 INFO Welcome to the CDS\n",
      "2022-09-30 01:48:55,657 INFO Sending request to https://cds.climate.copernicus.eu/api/v2/resources/reanalysis-era5-pressure-levels\n",
      "2022-09-30 01:48:55,951 INFO Request is queued\n",
      "2022-09-30 01:48:57,230 INFO Request is running\n",
      "2022-09-30 01:49:10,534 INFO Request is completed\n",
      "2022-09-30 01:49:10,537 INFO Downloading https://download-0002-clone.copernicus-climate.eu/cache-compute-0002/cache/data9/adaptor.mars.internal-1664473744.2474725-11268-10-687ebf47-b9d8-4a14-a8a7-d8883b1b62a1.nc to g:/ERA5_RVOR/ERA5_RVOR_201312.nc (61.5M)\n",
      "2022-09-30 01:49:36,334 INFO Download rate 2.4M/s                                                                      \n"
     ]
    },
    {
     "name": "stdout",
     "output_type": "stream",
     "text": [
      "用时41.2249174118042\n"
     ]
    },
    {
     "name": "stderr",
     "output_type": "stream",
     "text": [
      "2022-09-30 01:49:36,881 INFO Welcome to the CDS\n",
      "2022-09-30 01:49:36,882 INFO Sending request to https://cds.climate.copernicus.eu/api/v2/resources/reanalysis-era5-pressure-levels\n",
      "2022-09-30 01:49:37,172 INFO Request is queued\n",
      "2022-09-30 01:49:38,452 INFO Request is running\n",
      "2022-09-30 01:49:51,762 INFO Request is completed\n",
      "2022-09-30 01:49:51,764 INFO Downloading https://download-0000-clone.copernicus-climate.eu/cache-compute-0000/cache/data4/adaptor.mars.internal-1664473789.8449569-18640-5-d90cef74-728f-4f0d-a71b-32c15dbc4272.nc to g:/ERA5_RVOR/ERA5_RVOR_201401.nc (61.5M)\n",
      "2022-09-30 01:50:17,006 INFO Download rate 2.4M/s                                                                      \n"
     ]
    },
    {
     "name": "stdout",
     "output_type": "stream",
     "text": [
      "用时40.667532444000244\n"
     ]
    },
    {
     "name": "stderr",
     "output_type": "stream",
     "text": [
      "2022-09-30 01:50:17,549 INFO Welcome to the CDS\n",
      "2022-09-30 01:50:17,551 INFO Sending request to https://cds.climate.copernicus.eu/api/v2/resources/reanalysis-era5-pressure-levels\n",
      "2022-09-30 01:50:17,860 INFO Request is queued\n",
      "2022-09-30 01:50:19,144 INFO Request is running\n",
      "2022-09-30 01:50:27,104 INFO Request is completed\n",
      "2022-09-30 01:50:27,106 INFO Downloading https://download-0015-clone.copernicus-climate.eu/cache-compute-0015/cache/data9/adaptor.mars.internal-1664473823.8002167-30199-5-e052b16b-8253-465b-b4f4-daad2c409ecb.nc to g:/ERA5_RVOR/ERA5_RVOR_201402.nc (55.5M)\n",
      "2022-09-30 01:50:55,937 INFO Download rate 1.9M/s                                                                      \n"
     ]
    },
    {
     "name": "stdout",
     "output_type": "stream",
     "text": [
      "用时38.92985796928406\n"
     ]
    },
    {
     "name": "stderr",
     "output_type": "stream",
     "text": [
      "2022-09-30 01:50:56,482 INFO Welcome to the CDS\n",
      "2022-09-30 01:50:56,484 INFO Sending request to https://cds.climate.copernicus.eu/api/v2/resources/reanalysis-era5-pressure-levels\n",
      "2022-09-30 01:50:56,809 INFO Request is queued\n",
      "2022-09-30 01:50:58,092 INFO Request is running\n",
      "2022-09-30 01:52:14,236 INFO Request is completed\n",
      "2022-09-30 01:52:14,239 INFO Downloading https://download-0020.copernicus-climate.eu/cache-compute-0020/cache/data3/adaptor.mars.internal-1664473914.5295284-30593-2-c5918901-ced0-4ce0-b89b-6f6b91f8d01b.nc to g:/ERA5_RVOR/ERA5_RVOR_201403.nc (61.5M)\n",
      "2022-09-30 01:52:46,422 INFO Download rate 1.9M/s                                                                      \n"
     ]
    },
    {
     "name": "stdout",
     "output_type": "stream",
     "text": [
      "用时110.48573708534241\n"
     ]
    },
    {
     "name": "stderr",
     "output_type": "stream",
     "text": [
      "2022-09-30 01:52:46,964 INFO Welcome to the CDS\n",
      "2022-09-30 01:52:46,966 INFO Sending request to https://cds.climate.copernicus.eu/api/v2/resources/reanalysis-era5-pressure-levels\n",
      "2022-09-30 01:52:47,287 INFO Request is queued\n",
      "2022-09-30 01:52:48,562 INFO Request is running\n",
      "2022-09-30 01:52:56,532 INFO Request is completed\n",
      "2022-09-30 01:52:56,533 INFO Downloading https://download-0017.copernicus-climate.eu/cache-compute-0017/cache/data7/adaptor.mars.internal-1664473974.473742-1738-4-7f684612-5414-4e5d-96dc-dc6f666c029f.nc to g:/ERA5_RVOR/ERA5_RVOR_201404.nc (59.5M)\n",
      "2022-09-30 01:53:35,867 INFO Download rate 1.5M/s                                                                      \n"
     ]
    },
    {
     "name": "stdout",
     "output_type": "stream",
     "text": [
      "用时49.445115089416504\n"
     ]
    },
    {
     "name": "stderr",
     "output_type": "stream",
     "text": [
      "2022-09-30 01:53:36,411 INFO Welcome to the CDS\n",
      "2022-09-30 01:53:36,412 INFO Sending request to https://cds.climate.copernicus.eu/api/v2/resources/reanalysis-era5-pressure-levels\n",
      "2022-09-30 01:53:36,705 INFO Request is queued\n",
      "2022-09-30 01:53:37,987 INFO Request is running\n",
      "2022-09-30 01:53:45,957 INFO Request is completed\n",
      "2022-09-30 01:53:45,959 INFO Downloading https://download-0020.copernicus-climate.eu/cache-compute-0020/cache/data8/adaptor.mars.internal-1664474022.8713243-23155-7-7f945e37-4dce-4c41-b416-593eb72a7c12.nc to g:/ERA5_RVOR/ERA5_RVOR_201405.nc (61.5M)\n",
      "2022-09-30 01:54:09,843 INFO Download rate 2.6M/s                                                                      \n"
     ]
    },
    {
     "name": "stdout",
     "output_type": "stream",
     "text": [
      "用时33.97218346595764\n"
     ]
    },
    {
     "name": "stderr",
     "output_type": "stream",
     "text": [
      "2022-09-30 01:54:10,384 INFO Welcome to the CDS\n",
      "2022-09-30 01:54:10,385 INFO Sending request to https://cds.climate.copernicus.eu/api/v2/resources/reanalysis-era5-pressure-levels\n",
      "2022-09-30 01:54:10,677 INFO Request is queued\n",
      "2022-09-30 01:54:11,958 INFO Request is running\n",
      "2022-09-30 01:54:19,936 INFO Request is completed\n",
      "2022-09-30 01:54:19,939 INFO Downloading https://download-0009-clone.copernicus-climate.eu/cache-compute-0009/cache/data1/adaptor.mars.internal-1664474058.0252056-32451-2-6c8d6e62-3238-4dba-8326-9fc757365876.nc to g:/ERA5_RVOR/ERA5_RVOR_201406.nc (59.5M)\n",
      "2022-09-30 01:54:42,153 INFO Download rate 2.7M/s                                                                      \n"
     ]
    },
    {
     "name": "stdout",
     "output_type": "stream",
     "text": [
      "用时32.31019401550293\n"
     ]
    },
    {
     "name": "stderr",
     "output_type": "stream",
     "text": [
      "2022-09-30 01:54:42,698 INFO Welcome to the CDS\n",
      "2022-09-30 01:54:42,699 INFO Sending request to https://cds.climate.copernicus.eu/api/v2/resources/reanalysis-era5-pressure-levels\n",
      "2022-09-30 01:54:42,986 INFO Request is queued\n",
      "2022-09-30 01:54:44,271 INFO Request is running\n",
      "2022-09-30 01:54:57,583 INFO Request is completed\n",
      "2022-09-30 01:54:57,584 INFO Downloading https://download-0001-clone.copernicus-climate.eu/cache-compute-0001/cache/data1/adaptor.mars.internal-1664474091.4454627-29275-9-2edef524-12c9-48f0-990b-15cdfecaabb3.nc to g:/ERA5_RVOR/ERA5_RVOR_201407.nc (61.5M)\n",
      "2022-09-30 01:55:20,396 INFO Download rate 2.7M/s                                                                      \n"
     ]
    },
    {
     "name": "stdout",
     "output_type": "stream",
     "text": [
      "用时38.24199318885803\n"
     ]
    },
    {
     "name": "stderr",
     "output_type": "stream",
     "text": [
      "2022-09-30 01:55:20,941 INFO Welcome to the CDS\n",
      "2022-09-30 01:55:20,942 INFO Sending request to https://cds.climate.copernicus.eu/api/v2/resources/reanalysis-era5-pressure-levels\n",
      "2022-09-30 01:55:21,236 INFO Request is queued\n",
      "2022-09-30 01:55:22,518 INFO Request is running\n",
      "2022-09-30 01:55:30,489 INFO Request is completed\n",
      "2022-09-30 01:55:30,492 INFO Downloading https://download-0005-clone.copernicus-climate.eu/cache-compute-0005/cache/data8/adaptor.mars.internal-1664474128.261476-20656-18-6e2a390e-8964-477c-b6b9-270721eb2581.nc to g:/ERA5_RVOR/ERA5_RVOR_201408.nc (61.5M)\n",
      "2022-09-30 01:55:56,343 INFO Download rate 2.4M/s                                                                      \n"
     ]
    },
    {
     "name": "stdout",
     "output_type": "stream",
     "text": [
      "用时35.94588780403137\n"
     ]
    },
    {
     "name": "stderr",
     "output_type": "stream",
     "text": [
      "2022-09-30 01:55:56,889 INFO Welcome to the CDS\n",
      "2022-09-30 01:55:56,891 INFO Sending request to https://cds.climate.copernicus.eu/api/v2/resources/reanalysis-era5-pressure-levels\n",
      "2022-09-30 01:55:57,185 INFO Request is queued\n",
      "2022-09-30 01:55:58,457 INFO Request is running\n",
      "2022-09-30 01:56:11,780 INFO Request is completed\n",
      "2022-09-30 01:56:11,782 INFO Downloading https://download-0001-clone.copernicus-climate.eu/cache-compute-0001/cache/data7/adaptor.mars.internal-1664474165.9235675-3496-1-b66c7d1a-2814-4b10-91bc-1d3439fb699f.nc to g:/ERA5_RVOR/ERA5_RVOR_201409.nc (59.5M)\n",
      "2022-09-30 01:56:37,092 INFO Download rate 2.4M/s                                                                      \n"
     ]
    },
    {
     "name": "stdout",
     "output_type": "stream",
     "text": [
      "用时40.74817609786987\n"
     ]
    },
    {
     "name": "stderr",
     "output_type": "stream",
     "text": [
      "2022-09-30 01:56:37,639 INFO Welcome to the CDS\n",
      "2022-09-30 01:56:37,641 INFO Sending request to https://cds.climate.copernicus.eu/api/v2/resources/reanalysis-era5-pressure-levels\n",
      "2022-09-30 01:56:37,922 INFO Request is queued\n",
      "2022-09-30 01:56:39,201 INFO Request is running\n",
      "2022-09-30 01:56:47,169 INFO Request is completed\n",
      "2022-09-30 01:56:47,172 INFO Downloading https://download-0003-clone.copernicus-climate.eu/cache-compute-0003/cache/data3/adaptor.mars.internal-1664474204.5621054-7602-20-7b786601-5c2c-4bd7-a90b-c7c4eba80514.nc to g:/ERA5_RVOR/ERA5_RVOR_201410.nc (61.5M)\n",
      "2022-09-30 01:57:19,897 INFO Download rate 1.9M/s                                                                      \n"
     ]
    },
    {
     "name": "stdout",
     "output_type": "stream",
     "text": [
      "用时42.806870222091675\n"
     ]
    },
    {
     "name": "stderr",
     "output_type": "stream",
     "text": [
      "2022-09-30 01:57:20,444 INFO Welcome to the CDS\n",
      "2022-09-30 01:57:20,446 INFO Sending request to https://cds.climate.copernicus.eu/api/v2/resources/reanalysis-era5-pressure-levels\n",
      "2022-09-30 01:57:20,753 INFO Request is queued\n",
      "2022-09-30 01:57:22,036 INFO Request is running\n",
      "2022-09-30 01:57:35,342 INFO Request is completed\n",
      "2022-09-30 01:57:35,342 INFO Downloading https://download-0016.copernicus-climate.eu/cache-compute-0016/cache/data0/adaptor.mars.internal-1664474248.9557064-18734-1-40117472-e948-4fcb-98dd-5a9fd88e97fe.nc to g:/ERA5_RVOR/ERA5_RVOR_201411.nc (59.5M)\n",
      "2022-09-30 01:57:56,728 INFO Download rate 2.8M/s                                                                      \n"
     ]
    },
    {
     "name": "stdout",
     "output_type": "stream",
     "text": [
      "用时37.47832655906677\n"
     ]
    },
    {
     "name": "stderr",
     "output_type": "stream",
     "text": [
      "2022-09-30 01:57:57,887 INFO Welcome to the CDS\n",
      "2022-09-30 01:57:57,889 INFO Sending request to https://cds.climate.copernicus.eu/api/v2/resources/reanalysis-era5-pressure-levels\n",
      "2022-09-30 01:57:58,130 INFO Request is queued\n",
      "2022-09-30 01:57:59,379 INFO Request is running\n",
      "2022-09-30 01:58:07,230 INFO Request is completed\n",
      "2022-09-30 01:58:07,231 INFO Downloading https://download-0015-clone.copernicus-climate.eu/cache-compute-0015/cache/data6/adaptor.mars.internal-1664474285.396698-30205-8-12163a0e-03b8-4d65-a9b1-50c0a539b97b.nc to g:/ERA5_RVOR/ERA5_RVOR_201412.nc (61.5M)\n",
      "2022-09-30 01:58:29,582 INFO Download rate 2.8M/s                                                                      \n"
     ]
    },
    {
     "name": "stdout",
     "output_type": "stream",
     "text": [
      "用时32.16387152671814\n"
     ]
    },
    {
     "name": "stderr",
     "output_type": "stream",
     "text": [
      "2022-09-30 01:58:30,051 INFO Welcome to the CDS\n",
      "2022-09-30 01:58:30,051 INFO Sending request to https://cds.climate.copernicus.eu/api/v2/resources/reanalysis-era5-pressure-levels\n",
      "2022-09-30 01:58:30,321 INFO Request is queued\n",
      "2022-09-30 01:58:31,555 INFO Request is running\n",
      "2022-09-30 01:58:44,705 INFO Request is completed\n",
      "2022-09-30 01:58:44,708 INFO Downloading https://download-0021.copernicus-climate.eu/cache-compute-0021/cache/data6/adaptor.mars.internal-1664474317.9622228-12038-10-a536676c-271a-4519-9c9b-ef5a210a7e5e.nc to g:/ERA5_RVOR/ERA5_RVOR_201501.nc (61.5M)\n",
      "2022-09-30 01:59:17,359 INFO Download rate 1.9M/s                                                                      \n"
     ]
    },
    {
     "name": "stdout",
     "output_type": "stream",
     "text": [
      "用时47.77610731124878\n"
     ]
    },
    {
     "name": "stderr",
     "output_type": "stream",
     "text": [
      "2022-09-30 01:59:17,829 INFO Welcome to the CDS\n",
      "2022-09-30 01:59:17,831 INFO Sending request to https://cds.climate.copernicus.eu/api/v2/resources/reanalysis-era5-pressure-levels\n",
      "2022-09-30 01:59:18,086 INFO Request is queued\n",
      "2022-09-30 01:59:19,326 INFO Request is running\n",
      "2022-09-30 01:59:27,189 INFO Request is completed\n",
      "2022-09-30 01:59:27,192 INFO Downloading https://download-0007-clone.copernicus-climate.eu/cache-compute-0007/cache/data0/adaptor.mars.internal-1664474363.8362823-31134-8-49a99d6b-8dff-45ca-9b66-2c69ace4d60a.nc to g:/ERA5_RVOR/ERA5_RVOR_201502.nc (55.5M)\n",
      "2022-09-30 01:59:48,731 INFO Download rate 2.6M/s                                                                      \n"
     ]
    },
    {
     "name": "stdout",
     "output_type": "stream",
     "text": [
      "用时31.369051456451416\n"
     ]
    },
    {
     "name": "stderr",
     "output_type": "stream",
     "text": [
      "2022-09-30 01:59:49,193 INFO Welcome to the CDS\n",
      "2022-09-30 01:59:49,194 INFO Sending request to https://cds.climate.copernicus.eu/api/v2/resources/reanalysis-era5-pressure-levels\n",
      "2022-09-30 01:59:49,459 INFO Request is queued\n",
      "2022-09-30 01:59:50,698 INFO Request is running\n",
      "2022-09-30 01:59:58,546 INFO Request is completed\n",
      "2022-09-30 01:59:58,548 INFO Downloading https://download-0001-clone.copernicus-climate.eu/cache-compute-0001/cache/data6/adaptor.mars.internal-1664474396.9203694-31390-8-fb9f1aab-2fca-40b4-a3e3-68765889af9e.nc to g:/ERA5_RVOR/ERA5_RVOR_201503.nc (61.5M)\n",
      "2022-09-30 02:00:21,597 INFO Download rate 2.7M/s                                                                      \n"
     ]
    },
    {
     "name": "stdout",
     "output_type": "stream",
     "text": [
      "用时32.86519432067871\n"
     ]
    },
    {
     "name": "stderr",
     "output_type": "stream",
     "text": [
      "2022-09-30 02:00:22,064 INFO Welcome to the CDS\n",
      "2022-09-30 02:00:22,066 INFO Sending request to https://cds.climate.copernicus.eu/api/v2/resources/reanalysis-era5-pressure-levels\n",
      "2022-09-30 02:00:22,321 INFO Request is queued\n",
      "2022-09-30 02:00:23,567 INFO Request is running\n",
      "2022-09-30 02:00:31,413 INFO Request is completed\n",
      "2022-09-30 02:00:31,416 INFO Downloading https://download-0018.copernicus-climate.eu/cache-compute-0018/cache/data1/adaptor.mars.internal-1664474429.3705354-2711-18-8560fb6f-d652-4de5-8a09-f2ce686ff14f.nc to g:/ERA5_RVOR/ERA5_RVOR_201504.nc (59.5M)\n",
      "2022-09-30 02:01:00,507 INFO Download rate 2M/s                                                                        \n"
     ]
    },
    {
     "name": "stdout",
     "output_type": "stream",
     "text": [
      "用时38.910051107406616\n"
     ]
    },
    {
     "name": "stderr",
     "output_type": "stream",
     "text": [
      "2022-09-30 02:01:00,974 INFO Welcome to the CDS\n",
      "2022-09-30 02:01:00,974 INFO Sending request to https://cds.climate.copernicus.eu/api/v2/resources/reanalysis-era5-pressure-levels\n",
      "2022-09-30 02:01:01,228 INFO Request is queued\n",
      "2022-09-30 02:01:02,471 INFO Request is running\n",
      "2022-09-30 02:01:15,623 INFO Request is completed\n",
      "2022-09-30 02:01:15,626 INFO Downloading https://download-0012-clone.copernicus-climate.eu/cache-compute-0012/cache/data9/adaptor.mars.internal-1664474471.1799693-9538-20-cfcf3cd2-a655-483c-ac2b-4db44341030e.nc to g:/ERA5_RVOR/ERA5_RVOR_201505.nc (61.5M)\n",
      "2022-09-30 02:01:37,779 INFO Download rate 2.8M/s                                                                      \n"
     ]
    },
    {
     "name": "stdout",
     "output_type": "stream",
     "text": [
      "用时37.268035650253296\n"
     ]
    },
    {
     "name": "stderr",
     "output_type": "stream",
     "text": [
      "2022-09-30 02:01:38,241 INFO Welcome to the CDS\n",
      "2022-09-30 02:01:38,243 INFO Sending request to https://cds.climate.copernicus.eu/api/v2/resources/reanalysis-era5-pressure-levels\n",
      "2022-09-30 02:01:38,500 INFO Request is queued\n",
      "2022-09-30 02:01:39,744 INFO Request is running\n",
      "2022-09-30 02:01:47,611 INFO Request is completed\n",
      "2022-09-30 02:01:47,613 INFO Downloading https://download-0005-clone.copernicus-climate.eu/cache-compute-0005/cache/data5/adaptor.mars.internal-1664474505.6086488-12889-1-78cd2933-012e-4ec6-9b11-62b057ff0503.nc to g:/ERA5_RVOR/ERA5_RVOR_201506.nc (59.5M)\n",
      "2022-09-30 02:02:09,718 INFO Download rate 2.7M/s                                                                      \n"
     ]
    },
    {
     "name": "stdout",
     "output_type": "stream",
     "text": [
      "用时31.940725803375244\n"
     ]
    },
    {
     "name": "stderr",
     "output_type": "stream",
     "text": [
      "2022-09-30 02:02:10,185 INFO Welcome to the CDS\n",
      "2022-09-30 02:02:10,186 INFO Sending request to https://cds.climate.copernicus.eu/api/v2/resources/reanalysis-era5-pressure-levels\n",
      "2022-09-30 02:02:10,477 INFO Request is queued\n",
      "2022-09-30 02:02:11,725 INFO Request is running\n",
      "2022-09-30 02:02:19,572 INFO Request is completed\n",
      "2022-09-30 02:02:19,573 INFO Downloading https://download-0021.copernicus-climate.eu/cache-compute-0021/cache/data1/adaptor.mars.internal-1664474537.474523-15560-6-eb165b11-3d42-4674-b05d-7f961cd421c2.nc to g:/ERA5_RVOR/ERA5_RVOR_201507.nc (61.5M)\n",
      "2022-09-30 02:02:59,485 INFO Download rate 1.5M/s                                                                      \n"
     ]
    },
    {
     "name": "stdout",
     "output_type": "stream",
     "text": [
      "用时49.766130685806274\n"
     ]
    },
    {
     "name": "stderr",
     "output_type": "stream",
     "text": [
      "2022-09-30 02:02:59,950 INFO Welcome to the CDS\n",
      "2022-09-30 02:02:59,952 INFO Sending request to https://cds.climate.copernicus.eu/api/v2/resources/reanalysis-era5-pressure-levels\n",
      "2022-09-30 02:03:00,215 INFO Request is queued\n",
      "2022-09-30 02:03:01,467 INFO Request is running\n",
      "2022-09-30 02:03:14,616 INFO Request is completed\n",
      "2022-09-30 02:03:14,619 INFO Downloading https://download-0002-clone.copernicus-climate.eu/cache-compute-0002/cache/data6/adaptor.mars.internal-1664474589.1493075-19434-12-728dd56a-3010-47ea-8151-763a3fd7c28d.nc to g:/ERA5_RVOR/ERA5_RVOR_201508.nc (61.5M)\n",
      "2022-09-30 02:03:41,847 INFO Download rate 2.3M/s                                                                      \n"
     ]
    },
    {
     "name": "stdout",
     "output_type": "stream",
     "text": [
      "用时42.359527587890625\n"
     ]
    },
    {
     "name": "stderr",
     "output_type": "stream",
     "text": [
      "2022-09-30 02:03:42,313 INFO Welcome to the CDS\n",
      "2022-09-30 02:03:42,314 INFO Sending request to https://cds.climate.copernicus.eu/api/v2/resources/reanalysis-era5-pressure-levels\n",
      "2022-09-30 02:03:42,799 INFO Request is queued\n",
      "2022-09-30 02:03:44,043 INFO Request is running\n",
      "2022-09-30 02:03:51,898 INFO Request is completed\n",
      "2022-09-30 02:03:51,901 INFO Downloading https://download-0008-clone.copernicus-climate.eu/cache-compute-0008/cache/data9/adaptor.mars.internal-1664474629.7992449-6006-2-bfb58590-6dee-43d9-8b15-8e6a5209572e.nc to g:/ERA5_RVOR/ERA5_RVOR_201509.nc (59.5M)\n",
      "2022-09-30 02:04:14,840 INFO Download rate 2.6M/s                                                                      \n"
     ]
    },
    {
     "name": "stdout",
     "output_type": "stream",
     "text": [
      "用时32.99454307556152\n"
     ]
    },
    {
     "name": "stderr",
     "output_type": "stream",
     "text": [
      "2022-09-30 02:04:15,309 INFO Welcome to the CDS\n",
      "2022-09-30 02:04:15,310 INFO Sending request to https://cds.climate.copernicus.eu/api/v2/resources/reanalysis-era5-pressure-levels\n",
      "2022-09-30 02:04:15,563 INFO Request is queued\n",
      "2022-09-30 02:04:16,800 INFO Request is running\n",
      "2022-09-30 02:04:24,645 INFO Request is completed\n",
      "2022-09-30 02:04:24,646 INFO Downloading https://download-0001-clone.copernicus-climate.eu/cache-compute-0001/cache/data3/adaptor.mars.internal-1664474662.8489492-3394-5-b23db525-8ba3-41dc-9ef1-a477257b11c6.nc to g:/ERA5_RVOR/ERA5_RVOR_201510.nc (61.5M)\n",
      "2022-09-30 02:04:48,960 INFO Download rate 2.5M/s                                                                      \n"
     ]
    },
    {
     "name": "stdout",
     "output_type": "stream",
     "text": [
      "用时34.11555576324463\n"
     ]
    },
    {
     "name": "stderr",
     "output_type": "stream",
     "text": [
      "2022-09-30 02:04:49,422 INFO Welcome to the CDS\n",
      "2022-09-30 02:04:49,424 INFO Sending request to https://cds.climate.copernicus.eu/api/v2/resources/reanalysis-era5-pressure-levels\n",
      "2022-09-30 02:04:49,678 INFO Request is queued\n",
      "2022-09-30 02:04:50,912 INFO Request is running\n",
      "2022-09-30 02:04:58,776 INFO Request is completed\n",
      "2022-09-30 02:04:58,779 INFO Downloading https://download-0021.copernicus-climate.eu/cache-compute-0021/cache/data1/adaptor.mars.internal-1664474696.7468355-22948-5-d113742f-a922-409c-b7f8-9f8d4b053f53.nc to g:/ERA5_RVOR/ERA5_RVOR_201511.nc (59.5M)\n",
      "2022-09-30 02:05:20,871 INFO Download rate 2.7M/s                                                                      \n"
     ]
    },
    {
     "name": "stdout",
     "output_type": "stream",
     "text": [
      "用时31.91307258605957\n"
     ]
    },
    {
     "name": "stderr",
     "output_type": "stream",
     "text": [
      "2022-09-30 02:05:21,338 INFO Welcome to the CDS\n",
      "2022-09-30 02:05:21,340 INFO Sending request to https://cds.climate.copernicus.eu/api/v2/resources/reanalysis-era5-pressure-levels\n",
      "2022-09-30 02:05:21,708 INFO Request is queued\n",
      "2022-09-30 02:05:22,943 INFO Request is running\n",
      "2022-09-30 02:05:30,783 INFO Request is completed\n",
      "2022-09-30 02:05:30,784 INFO Downloading https://download-0011-clone.copernicus-climate.eu/cache-compute-0011/cache/data6/adaptor.mars.internal-1664474728.9948983-25169-10-5d8d317e-2287-4bf8-9965-103b39beb3a7.nc to g:/ERA5_RVOR/ERA5_RVOR_201512.nc (61.5M)\n",
      "2022-09-30 02:05:53,097 INFO Download rate 2.8M/s                                                                      \n"
     ]
    },
    {
     "name": "stdout",
     "output_type": "stream",
     "text": [
      "用时32.22459650039673\n"
     ]
    },
    {
     "name": "stderr",
     "output_type": "stream",
     "text": [
      "2022-09-30 02:05:53,565 INFO Welcome to the CDS\n",
      "2022-09-30 02:05:53,567 INFO Sending request to https://cds.climate.copernicus.eu/api/v2/resources/reanalysis-era5-pressure-levels\n",
      "2022-09-30 02:05:53,843 INFO Request is queued\n",
      "2022-09-30 02:05:55,088 INFO Request is running\n",
      "2022-09-30 02:07:11,775 INFO Request is completed\n",
      "2022-09-30 02:07:11,776 INFO Downloading https://download-0011-clone.copernicus-climate.eu/cache-compute-0011/cache/data1/adaptor.mars.internal-1664474819.437545-13197-20-f0f15cb3-07aa-4055-9681-1ad9f10968a7.nc to g:/ERA5_RVOR/ERA5_RVOR_201601.nc (61.5M)\n",
      "2022-09-30 02:07:37,134 INFO Download rate 2.4M/s                                                                      \n"
     ]
    },
    {
     "name": "stdout",
     "output_type": "stream",
     "text": [
      "用时104.05402636528015\n"
     ]
    },
    {
     "name": "stderr",
     "output_type": "stream",
     "text": [
      "2022-09-30 02:07:37,637 INFO Welcome to the CDS\n",
      "2022-09-30 02:07:37,639 INFO Sending request to https://cds.climate.copernicus.eu/api/v2/resources/reanalysis-era5-pressure-levels\n",
      "2022-09-30 02:07:37,922 INFO Request is queued\n",
      "2022-09-30 02:07:39,185 INFO Request is running\n",
      "2022-09-30 02:07:47,074 INFO Request is completed\n",
      "2022-09-30 02:07:47,077 INFO Downloading https://download-0020.copernicus-climate.eu/cache-compute-0020/cache/data8/adaptor.mars.internal-1664474864.8496428-2794-4-89ad4688-4244-49e7-910a-b84cee6c9fe9.nc to g:/ERA5_RVOR/ERA5_RVOR_201602.nc (57.5M)\n",
      "2022-09-30 02:08:06,659 INFO Download rate 2.9M/s                                                                      \n"
     ]
    },
    {
     "name": "stdout",
     "output_type": "stream",
     "text": [
      "用时29.522262811660767\n"
     ]
    },
    {
     "name": "stderr",
     "output_type": "stream",
     "text": [
      "2022-09-30 02:08:07,158 INFO Welcome to the CDS\n",
      "2022-09-30 02:08:07,161 INFO Sending request to https://cds.climate.copernicus.eu/api/v2/resources/reanalysis-era5-pressure-levels\n",
      "2022-09-30 02:08:07,437 INFO Request is queued\n",
      "2022-09-30 02:08:08,704 INFO Request is running\n",
      "2022-09-30 02:08:21,913 INFO Request is completed\n",
      "2022-09-30 02:08:21,915 INFO Downloading https://download-0020.copernicus-climate.eu/cache-compute-0020/cache/data3/adaptor.mars.internal-1664474895.3359776-22223-14-2bd3e5ec-9248-4a7c-9da3-bea8cc880e3b.nc to g:/ERA5_RVOR/ERA5_RVOR_201603.nc (61.5M)\n",
      "2022-09-30 02:08:46,775 INFO Download rate 2.5M/s                                                                      \n"
     ]
    },
    {
     "name": "stdout",
     "output_type": "stream",
     "text": [
      "用时40.118497371673584\n"
     ]
    },
    {
     "name": "stderr",
     "output_type": "stream",
     "text": [
      "2022-09-30 02:08:47,279 INFO Welcome to the CDS\n",
      "2022-09-30 02:08:47,280 INFO Sending request to https://cds.climate.copernicus.eu/api/v2/resources/reanalysis-era5-pressure-levels\n",
      "2022-09-30 02:08:47,550 INFO Request is queued\n",
      "2022-09-30 02:08:48,802 INFO Request is running\n",
      "2022-09-30 02:08:56,694 INFO Request is completed\n",
      "2022-09-30 02:08:56,696 INFO Downloading https://download-0004-clone.copernicus-climate.eu/cache-compute-0004/cache/data0/adaptor.mars.internal-1664474934.752591-26646-10-19a7ecac-620c-4bc0-af46-458a80cbde1c.nc to g:/ERA5_RVOR/ERA5_RVOR_201604.nc (59.5M)\n",
      "2022-09-30 02:09:19,597 INFO Download rate 2.6M/s                                                                      \n"
     ]
    },
    {
     "name": "stdout",
     "output_type": "stream",
     "text": [
      "用时32.81772041320801\n"
     ]
    },
    {
     "name": "stderr",
     "output_type": "stream",
     "text": [
      "2022-09-30 02:09:20,099 INFO Welcome to the CDS\n",
      "2022-09-30 02:09:20,101 INFO Sending request to https://cds.climate.copernicus.eu/api/v2/resources/reanalysis-era5-pressure-levels\n",
      "2022-09-30 02:09:20,376 INFO Request is queued\n",
      "2022-09-30 02:09:21,626 INFO Request is running\n",
      "2022-09-30 02:09:34,857 INFO Request is completed\n",
      "2022-09-30 02:09:34,860 INFO Downloading https://download-0020.copernicus-climate.eu/cache-compute-0020/cache/data9/adaptor.mars.internal-1664474970.9912336-23841-12-022e33f4-8829-4d7a-bcf8-0f55370de48d.nc to g:/ERA5_RVOR/ERA5_RVOR_201605.nc (61.5M)\n",
      "2022-09-30 02:09:58,539 INFO Download rate 2.6M/s                                                                      \n"
     ]
    },
    {
     "name": "stdout",
     "output_type": "stream",
     "text": [
      "用时38.939793825149536\n"
     ]
    },
    {
     "name": "stderr",
     "output_type": "stream",
     "text": [
      "2022-09-30 02:09:59,041 INFO Welcome to the CDS\n",
      "2022-09-30 02:09:59,043 INFO Sending request to https://cds.climate.copernicus.eu/api/v2/resources/reanalysis-era5-pressure-levels\n",
      "2022-09-30 02:09:59,314 INFO Request is queued\n",
      "2022-09-30 02:10:00,579 INFO Request is running\n",
      "2022-09-30 02:10:13,769 INFO Request is completed\n",
      "2022-09-30 02:10:13,770 INFO Downloading https://download-0008-clone.copernicus-climate.eu/cache-compute-0008/cache/data8/adaptor.mars.internal-1664475006.012753-5641-4-160d1334-2bdf-4553-bc92-9890e14fb2a3.nc to g:/ERA5_RVOR/ERA5_RVOR_201606.nc (59.5M)\n",
      "2022-09-30 02:10:34,449 INFO Download rate 2.9M/s                                                                      \n"
     ]
    },
    {
     "name": "stdout",
     "output_type": "stream",
     "text": [
      "用时35.909279346466064\n"
     ]
    },
    {
     "name": "stderr",
     "output_type": "stream",
     "text": [
      "2022-09-30 02:10:34,949 INFO Welcome to the CDS\n",
      "2022-09-30 02:10:34,951 INFO Sending request to https://cds.climate.copernicus.eu/api/v2/resources/reanalysis-era5-pressure-levels\n",
      "2022-09-30 02:10:35,257 INFO Request is queued\n",
      "2022-09-30 02:10:36,509 INFO Request is running\n",
      "2022-09-30 02:10:44,413 INFO Request is completed\n",
      "2022-09-30 02:10:44,416 INFO Downloading https://download-0016.copernicus-climate.eu/cache-compute-0016/cache/data2/adaptor.mars.internal-1664475041.9742236-27825-2-959acdfb-1e1c-4324-ad5d-6436e5452693.nc to g:/ERA5_RVOR/ERA5_RVOR_201607.nc (61.5M)\n",
      "2022-09-30 02:11:04,212 INFO Download rate 3.1M/s                                                                      \n"
     ]
    },
    {
     "name": "stdout",
     "output_type": "stream",
     "text": [
      "用时29.763793230056763\n"
     ]
    },
    {
     "name": "stderr",
     "output_type": "stream",
     "text": [
      "2022-09-30 02:11:04,714 INFO Welcome to the CDS\n",
      "2022-09-30 02:11:04,716 INFO Sending request to https://cds.climate.copernicus.eu/api/v2/resources/reanalysis-era5-pressure-levels\n",
      "2022-09-30 02:11:04,981 INFO Request is queued\n",
      "2022-09-30 02:11:06,245 INFO Request is running\n",
      "2022-09-30 02:11:19,473 INFO Request is completed\n",
      "2022-09-30 02:11:19,476 INFO Downloading https://download-0015-clone.copernicus-climate.eu/cache-compute-0015/cache/data2/adaptor.mars.internal-1664475073.2007844-30556-13-3c328a6b-7d37-4d8f-b72a-5cc70f5f6081.nc to g:/ERA5_RVOR/ERA5_RVOR_201608.nc (61.5M)\n",
      "2022-09-30 02:11:43,461 INFO Download rate 2.6M/s                                                                      \n"
     ]
    },
    {
     "name": "stdout",
     "output_type": "stream",
     "text": [
      "用时39.2455039024353\n"
     ]
    },
    {
     "name": "stderr",
     "output_type": "stream",
     "text": [
      "2022-09-30 02:11:43,961 INFO Welcome to the CDS\n",
      "2022-09-30 02:11:43,963 INFO Sending request to https://cds.climate.copernicus.eu/api/v2/resources/reanalysis-era5-pressure-levels\n",
      "2022-09-30 02:11:44,222 INFO Request is queued\n",
      "2022-09-30 02:11:45,476 INFO Request is running\n",
      "2022-09-30 02:11:53,375 INFO Request is completed\n",
      "2022-09-30 02:11:53,377 INFO Downloading https://download-0000-clone.copernicus-climate.eu/cache-compute-0000/cache/data3/adaptor.mars.internal-1664475111.691909-22721-7-537240b7-cfc5-42dc-9e85-22c481f54189.nc to g:/ERA5_RVOR/ERA5_RVOR_201609.nc (59.5M)\n",
      "2022-09-30 02:12:15,064 INFO Download rate 2.7M/s                                                                      \n"
     ]
    },
    {
     "name": "stdout",
     "output_type": "stream",
     "text": [
      "用时31.608363151550293\n"
     ]
    },
    {
     "name": "stderr",
     "output_type": "stream",
     "text": [
      "2022-09-30 02:12:15,570 INFO Welcome to the CDS\n",
      "2022-09-30 02:12:15,571 INFO Sending request to https://cds.climate.copernicus.eu/api/v2/resources/reanalysis-era5-pressure-levels\n",
      "2022-09-30 02:12:15,841 INFO Request is queued\n",
      "2022-09-30 02:12:17,104 INFO Request is running\n",
      "2022-09-30 02:12:25,009 INFO Request is completed\n",
      "2022-09-30 02:12:25,011 INFO Downloading https://download-0008-clone.copernicus-climate.eu/cache-compute-0008/cache/data8/adaptor.mars.internal-1664475143.27308-4897-5-2dc5d65f-2f72-4a21-b860-6a573630a08a.nc to g:/ERA5_RVOR/ERA5_RVOR_201610.nc (61.5M)\n",
      "2022-09-30 02:12:43,850 INFO Download rate 3.3M/s                                                                      \n"
     ]
    },
    {
     "name": "stdout",
     "output_type": "stream",
     "text": [
      "用时28.78040051460266\n"
     ]
    },
    {
     "name": "stderr",
     "output_type": "stream",
     "text": [
      "2022-09-30 02:12:44,347 INFO Welcome to the CDS\n",
      "2022-09-30 02:12:44,348 INFO Sending request to https://cds.climate.copernicus.eu/api/v2/resources/reanalysis-era5-pressure-levels\n",
      "2022-09-30 02:12:44,619 INFO Request is queued\n",
      "2022-09-30 02:12:45,889 INFO Request is running\n",
      "2022-09-30 02:12:53,784 INFO Request is completed\n",
      "2022-09-30 02:12:53,786 INFO Downloading https://download-0016.copernicus-climate.eu/cache-compute-0016/cache/data1/adaptor.mars.internal-1664475171.8283212-12245-19-a9e7479c-7011-42e7-aa7e-499f17f1d67e.nc to g:/ERA5_RVOR/ERA5_RVOR_201611.nc (59.5M)\n",
      "2022-09-30 02:13:16,280 INFO Download rate 2.6M/s                                                                      \n"
     ]
    },
    {
     "name": "stdout",
     "output_type": "stream",
     "text": [
      "用时32.43148422241211\n"
     ]
    },
    {
     "name": "stderr",
     "output_type": "stream",
     "text": [
      "2022-09-30 02:13:16,781 INFO Welcome to the CDS\n",
      "2022-09-30 02:13:16,782 INFO Sending request to https://cds.climate.copernicus.eu/api/v2/resources/reanalysis-era5-pressure-levels\n",
      "2022-09-30 02:13:17,068 INFO Request is queued\n",
      "2022-09-30 02:13:18,324 INFO Request is running\n",
      "2022-09-30 02:13:31,547 INFO Request is completed\n",
      "2022-09-30 02:13:31,549 INFO Downloading https://download-0015-clone.copernicus-climate.eu/cache-compute-0015/cache/data4/adaptor.mars.internal-1664475204.9605386-30881-11-fb76242e-2f1e-48b4-951b-5d004453e2a9.nc to g:/ERA5_RVOR/ERA5_RVOR_201612.nc (61.5M)\n",
      "2022-09-30 02:13:55,160 INFO Download rate 2.6M/s                                                                      \n"
     ]
    },
    {
     "name": "stdout",
     "output_type": "stream",
     "text": [
      "用时38.87968564033508\n"
     ]
    },
    {
     "name": "stderr",
     "output_type": "stream",
     "text": [
      "2022-09-30 02:13:55,663 INFO Welcome to the CDS\n",
      "2022-09-30 02:13:55,665 INFO Sending request to https://cds.climate.copernicus.eu/api/v2/resources/reanalysis-era5-pressure-levels\n",
      "2022-09-30 02:13:55,985 INFO Request is queued\n",
      "2022-09-30 02:13:57,242 INFO Request is running\n",
      "2022-09-30 02:14:10,450 INFO Request is completed\n",
      "2022-09-30 02:14:10,453 INFO Downloading https://download-0015-clone.copernicus-climate.eu/cache-compute-0015/cache/data3/adaptor.mars.internal-1664475245.699596-31201-14-4655e9c1-6e2d-4b80-9653-e9d2addcb33a.nc to g:/ERA5_RVOR/ERA5_RVOR_201701.nc (61.5M)\n",
      "2022-09-30 02:14:31,807 INFO Download rate 2.9M/s                                                                      \n"
     ]
    },
    {
     "name": "stdout",
     "output_type": "stream",
     "text": [
      "用时36.643672466278076\n"
     ]
    },
    {
     "name": "stderr",
     "output_type": "stream",
     "text": [
      "2022-09-30 02:14:32,307 INFO Welcome to the CDS\n",
      "2022-09-30 02:14:32,308 INFO Sending request to https://cds.climate.copernicus.eu/api/v2/resources/reanalysis-era5-pressure-levels\n",
      "2022-09-30 02:14:32,574 INFO Request is queued\n",
      "2022-09-30 02:14:33,834 INFO Request is running\n",
      "2022-09-30 02:14:42,512 INFO Request is completed\n",
      "2022-09-30 02:14:42,515 INFO Downloading https://download-0012-clone.copernicus-climate.eu/cache-compute-0012/cache/data8/adaptor.mars.internal-1664475279.504572-26723-5-b3fa8317-ac38-4a33-8256-02f0f0e258c8.nc to g:/ERA5_RVOR/ERA5_RVOR_201702.nc (55.5M)\n",
      "2022-09-30 02:15:04,123 INFO Download rate 2.6M/s                                                                      \n"
     ]
    },
    {
     "name": "stdout",
     "output_type": "stream",
     "text": [
      "用时32.31771445274353\n"
     ]
    },
    {
     "name": "stderr",
     "output_type": "stream",
     "text": [
      "2022-09-30 02:15:04,629 INFO Welcome to the CDS\n",
      "2022-09-30 02:15:04,630 INFO Sending request to https://cds.climate.copernicus.eu/api/v2/resources/reanalysis-era5-pressure-levels\n",
      "2022-09-30 02:15:04,987 INFO Request is queued\n",
      "2022-09-30 02:15:06,243 INFO Request is running\n",
      "2022-09-30 02:15:19,487 INFO Request is completed\n",
      "2022-09-30 02:15:19,490 INFO Downloading https://download-0000-clone.copernicus-climate.eu/cache-compute-0000/cache/data8/adaptor.mars.internal-1664475313.338895-21081-11-17174c47-e9e6-4b9e-8a70-5f7295e910d5.nc to g:/ERA5_RVOR/ERA5_RVOR_201703.nc (61.5M)\n",
      "2022-09-30 02:15:53,520 INFO Download rate 1.8M/s                                                                      \n"
     ]
    },
    {
     "name": "stdout",
     "output_type": "stream",
     "text": [
      "用时49.39694309234619\n"
     ]
    },
    {
     "name": "stderr",
     "output_type": "stream",
     "text": [
      "2022-09-30 02:15:54,027 INFO Welcome to the CDS\n",
      "2022-09-30 02:15:54,028 INFO Sending request to https://cds.climate.copernicus.eu/api/v2/resources/reanalysis-era5-pressure-levels\n",
      "2022-09-30 02:15:54,285 INFO Request is queued\n",
      "2022-09-30 02:15:55,549 INFO Request is running\n",
      "2022-09-30 02:16:08,802 INFO Request is completed\n",
      "2022-09-30 02:16:08,805 INFO Downloading https://download-0006-clone.copernicus-climate.eu/cache-compute-0006/cache/data0/adaptor.mars.internal-1664475362.3802521-21004-11-82996a7c-67d0-4cde-8f28-4809a4334649.nc to g:/ERA5_RVOR/ERA5_RVOR_201704.nc (59.5M)\n",
      "2022-09-30 02:16:31,136 INFO Download rate 2.7M/s                                                                      \n"
     ]
    },
    {
     "name": "stdout",
     "output_type": "stream",
     "text": [
      "用时37.612547636032104\n"
     ]
    },
    {
     "name": "stderr",
     "output_type": "stream",
     "text": [
      "2022-09-30 02:16:31,642 INFO Welcome to the CDS\n",
      "2022-09-30 02:16:31,642 INFO Sending request to https://cds.climate.copernicus.eu/api/v2/resources/reanalysis-era5-pressure-levels\n",
      "2022-09-30 02:16:31,919 INFO Request is queued\n",
      "2022-09-30 02:16:33,183 INFO Request is running\n",
      "2022-09-30 02:16:41,105 INFO Request is completed\n",
      "2022-09-30 02:16:41,106 INFO Downloading https://download-0006-clone.copernicus-climate.eu/cache-compute-0006/cache/data2/adaptor.mars.internal-1664475399.2972004-31972-5-cd91a9bb-a290-490f-a47a-a174c259fdcc.nc to g:/ERA5_RVOR/ERA5_RVOR_201705.nc (61.5M)\n",
      "2022-09-30 02:17:02,908 INFO Download rate 2.8M/s                                                                      \n"
     ]
    },
    {
     "name": "stdout",
     "output_type": "stream",
     "text": [
      "用时31.77158260345459\n"
     ]
    },
    {
     "name": "stderr",
     "output_type": "stream",
     "text": [
      "2022-09-30 02:17:03,409 INFO Welcome to the CDS\n",
      "2022-09-30 02:17:03,410 INFO Sending request to https://cds.climate.copernicus.eu/api/v2/resources/reanalysis-era5-pressure-levels\n",
      "2022-09-30 02:17:03,697 INFO Request is queued\n",
      "2022-09-30 02:17:04,964 INFO Request is running\n",
      "2022-09-30 02:17:18,185 INFO Request is completed\n",
      "2022-09-30 02:17:18,188 INFO Downloading https://download-0007-clone.copernicus-climate.eu/cache-compute-0007/cache/data8/adaptor.mars.internal-1664475431.756309-13483-6-437b71c7-d70c-40e5-9ae1-f5ff518ce9b0.nc to g:/ERA5_RVOR/ERA5_RVOR_201706.nc (59.5M)\n",
      "2022-09-30 02:17:43,844 INFO Download rate 2.3M/s                                                                      \n"
     ]
    },
    {
     "name": "stdout",
     "output_type": "stream",
     "text": [
      "用时40.936068058013916\n"
     ]
    },
    {
     "name": "stderr",
     "output_type": "stream",
     "text": [
      "2022-09-30 02:17:44,350 INFO Welcome to the CDS\n",
      "2022-09-30 02:17:44,352 INFO Sending request to https://cds.climate.copernicus.eu/api/v2/resources/reanalysis-era5-pressure-levels\n",
      "2022-09-30 02:17:44,643 INFO Request is queued\n",
      "2022-09-30 02:17:45,908 INFO Request is running\n",
      "2022-09-30 02:17:59,157 INFO Request is completed\n",
      "2022-09-30 02:17:59,160 INFO Downloading https://download-0003-clone.copernicus-climate.eu/cache-compute-0003/cache/data2/adaptor.mars.internal-1664475472.3487-24409-11-4c1ea2e3-4aad-4776-848b-58cfc1a40000.nc to g:/ERA5_RVOR/ERA5_RVOR_201707.nc (61.5M)\n",
      "2022-09-30 02:18:18,576 INFO Download rate 3.2M/s                                                                      \n"
     ]
    },
    {
     "name": "stdout",
     "output_type": "stream",
     "text": [
      "用时34.729942321777344\n"
     ]
    },
    {
     "name": "stderr",
     "output_type": "stream",
     "text": [
      "2022-09-30 02:18:19,080 INFO Welcome to the CDS\n",
      "2022-09-30 02:18:19,082 INFO Sending request to https://cds.climate.copernicus.eu/api/v2/resources/reanalysis-era5-pressure-levels\n",
      "2022-09-30 02:18:19,342 INFO Request is queued\n",
      "2022-09-30 02:18:20,608 INFO Request is running\n",
      "2022-09-30 02:18:33,854 INFO Request is completed\n",
      "2022-09-30 02:18:33,855 INFO Downloading https://download-0002-clone.copernicus-climate.eu/cache-compute-0002/cache/data2/adaptor.mars.internal-1664475507.1391306-31812-5-7fccf603-c23d-44ae-96b1-77313eae10f7.nc to g:/ERA5_RVOR/ERA5_RVOR_201708.nc (61.5M)\n",
      "2022-09-30 02:18:57,277 INFO Download rate 2.6M/s                                                                      \n"
     ]
    },
    {
     "name": "stdout",
     "output_type": "stream",
     "text": [
      "用时38.69912314414978\n"
     ]
    },
    {
     "name": "stderr",
     "output_type": "stream",
     "text": [
      "2022-09-30 02:18:57,778 INFO Welcome to the CDS\n",
      "2022-09-30 02:18:57,779 INFO Sending request to https://cds.climate.copernicus.eu/api/v2/resources/reanalysis-era5-pressure-levels\n",
      "2022-09-30 02:18:58,045 INFO Request is queued\n",
      "2022-09-30 02:18:59,306 INFO Request is running\n",
      "2022-09-30 02:19:12,534 INFO Request is completed\n",
      "2022-09-30 02:19:12,537 INFO Downloading https://download-0018.copernicus-climate.eu/cache-compute-0018/cache/data7/adaptor.mars.internal-1664475545.8359785-31329-6-a240a783-a1d8-49f4-bd95-14f9c6f5fe51.nc to g:/ERA5_RVOR/ERA5_RVOR_201709.nc (59.5M)\n",
      "2022-09-30 02:19:33,883 INFO Download rate 2.8M/s                                                                      \n"
     ]
    },
    {
     "name": "stdout",
     "output_type": "stream",
     "text": [
      "用时36.60784459114075\n"
     ]
    },
    {
     "name": "stderr",
     "output_type": "stream",
     "text": [
      "2022-09-30 02:19:34,389 INFO Welcome to the CDS\n",
      "2022-09-30 02:19:34,391 INFO Sending request to https://cds.climate.copernicus.eu/api/v2/resources/reanalysis-era5-pressure-levels\n",
      "2022-09-30 02:19:34,653 INFO Request is queued\n",
      "2022-09-30 02:19:35,910 INFO Request is running\n",
      "2022-09-30 02:19:49,147 INFO Request is completed\n",
      "2022-09-30 02:19:49,149 INFO Downloading https://download-0002-clone.copernicus-climate.eu/cache-compute-0002/cache/data5/adaptor.mars.internal-1664475582.5078568-23737-3-700ff01f-6246-412a-ba29-48277dbdcf29.nc to g:/ERA5_RVOR/ERA5_RVOR_201710.nc (61.5M)\n",
      "2022-09-30 02:20:24,240 INFO Download rate 1.8M/s                                                                      \n"
     ]
    },
    {
     "name": "stdout",
     "output_type": "stream",
     "text": [
      "用时50.35524797439575\n"
     ]
    },
    {
     "name": "stderr",
     "output_type": "stream",
     "text": [
      "2022-09-30 02:20:24,747 INFO Welcome to the CDS\n",
      "2022-09-30 02:20:24,748 INFO Sending request to https://cds.climate.copernicus.eu/api/v2/resources/reanalysis-era5-pressure-levels\n",
      "2022-09-30 02:20:25,021 INFO Request is queued\n",
      "2022-09-30 02:20:26,278 INFO Request is running\n",
      "2022-09-30 02:20:39,523 INFO Request is completed\n",
      "2022-09-30 02:20:39,525 INFO Downloading https://download-0009-clone.copernicus-climate.eu/cache-compute-0009/cache/data2/adaptor.mars.internal-1664475632.95247-17146-18-6d87461a-1368-4281-ac4d-93ad99d96f96.nc to g:/ERA5_RVOR/ERA5_RVOR_201711.nc (59.5M)\n",
      "2022-09-30 02:21:13,804 INFO Download rate 1.7M/s                                                                      \n"
     ]
    },
    {
     "name": "stdout",
     "output_type": "stream",
     "text": [
      "用时49.56272912025452\n"
     ]
    },
    {
     "name": "stderr",
     "output_type": "stream",
     "text": [
      "2022-09-30 02:21:14,307 INFO Welcome to the CDS\n",
      "2022-09-30 02:21:14,309 INFO Sending request to https://cds.climate.copernicus.eu/api/v2/resources/reanalysis-era5-pressure-levels\n",
      "2022-09-30 02:21:14,584 INFO Request is queued\n",
      "2022-09-30 02:21:15,839 INFO Request is running\n",
      "2022-09-30 02:22:05,934 INFO Request is completed\n",
      "2022-09-30 02:22:05,937 INFO Downloading https://download-0001-clone.copernicus-climate.eu/cache-compute-0001/cache/data1/adaptor.mars.internal-1664475720.136656-14765-2-38b58764-75a3-4e58-982a-7afa0a97c43b.nc to g:/ERA5_RVOR/ERA5_RVOR_201712.nc (61.5M)\n",
      "2022-09-30 02:22:36,430 INFO Download rate 2M/s                                                                        \n"
     ]
    },
    {
     "name": "stdout",
     "output_type": "stream",
     "text": [
      "用时82.63141536712646\n"
     ]
    },
    {
     "name": "stderr",
     "output_type": "stream",
     "text": [
      "2022-09-30 02:22:36,939 INFO Welcome to the CDS\n",
      "2022-09-30 02:22:36,941 INFO Sending request to https://cds.climate.copernicus.eu/api/v2/resources/reanalysis-era5-pressure-levels\n",
      "2022-09-30 02:22:37,220 INFO Request is queued\n",
      "2022-09-30 02:22:38,480 INFO Request is running\n",
      "2022-09-30 02:22:51,703 INFO Request is completed\n",
      "2022-09-30 02:22:51,705 INFO Downloading https://download-0009-clone.copernicus-climate.eu/cache-compute-0009/cache/data2/adaptor.mars.internal-1664475765.6567855-4711-10-d2bfd6c9-6984-4e5e-b574-deac02e2d0b6.nc to g:/ERA5_RVOR/ERA5_RVOR_201801.nc (61.5M)\n",
      "2022-09-30 02:23:14,365 INFO Download rate 2.7M/s                                                                      \n"
     ]
    },
    {
     "name": "stdout",
     "output_type": "stream",
     "text": [
      "用时37.92913293838501\n"
     ]
    },
    {
     "name": "stderr",
     "output_type": "stream",
     "text": [
      "2022-09-30 02:23:14,870 INFO Welcome to the CDS\n",
      "2022-09-30 02:23:14,871 INFO Sending request to https://cds.climate.copernicus.eu/api/v2/resources/reanalysis-era5-pressure-levels\n",
      "2022-09-30 02:23:15,140 INFO Request is queued\n",
      "2022-09-30 02:23:16,407 INFO Request is running\n",
      "2022-09-30 02:23:24,331 INFO Request is completed\n",
      "2022-09-30 02:23:24,333 INFO Downloading https://download-0008-clone.copernicus-climate.eu/cache-compute-0008/cache/data4/adaptor.mars.internal-1664475801.3034189-5641-9-12e3f8df-3df4-446a-94f8-f0669583651c.nc to g:/ERA5_RVOR/ERA5_RVOR_201802.nc (55.5M)\n",
      "2022-09-30 02:23:57,319 INFO Download rate 1.7M/s                                                                      \n"
     ]
    },
    {
     "name": "stdout",
     "output_type": "stream",
     "text": [
      "用时43.671685218811035\n"
     ]
    },
    {
     "name": "stderr",
     "output_type": "stream",
     "text": [
      "2022-09-30 02:23:58,528 INFO Welcome to the CDS\n",
      "2022-09-30 02:23:58,529 INFO Sending request to https://cds.climate.copernicus.eu/api/v2/resources/reanalysis-era5-pressure-levels\n",
      "2022-09-30 02:23:58,790 INFO Request is queued\n",
      "2022-09-30 02:24:00,037 INFO Request is running\n",
      "2022-09-30 02:24:13,215 INFO Request is completed\n",
      "2022-09-30 02:24:13,218 INFO Downloading https://download-0005-clone.copernicus-climate.eu/cache-compute-0005/cache/data1/adaptor.mars.internal-1664475847.2654572-13573-9-f9236633-2786-4543-be3f-a982ca4e3838.nc to g:/ERA5_RVOR/ERA5_RVOR_201803.nc (61.5M)\n",
      "2022-09-30 02:24:36,881 INFO Download rate 2.6M/s                                                                      \n"
     ]
    },
    {
     "name": "stdout",
     "output_type": "stream",
     "text": [
      "用时38.830891132354736\n"
     ]
    },
    {
     "name": "stderr",
     "output_type": "stream",
     "text": [
      "2022-09-30 02:24:37,361 INFO Welcome to the CDS\n",
      "2022-09-30 02:24:37,362 INFO Sending request to https://cds.climate.copernicus.eu/api/v2/resources/reanalysis-era5-pressure-levels\n",
      "2022-09-30 02:24:37,648 INFO Request is queued\n",
      "2022-09-30 02:24:38,901 INFO Request is running\n",
      "2022-09-30 02:24:46,781 INFO Request is completed\n",
      "2022-09-30 02:24:46,782 INFO Downloading https://download-0003-clone.copernicus-climate.eu/cache-compute-0003/cache/data4/adaptor.mars.internal-1664475884.4777708-5730-3-1b22a088-903a-4d2c-a8f4-30fb7dc2f2f5.nc to g:/ERA5_RVOR/ERA5_RVOR_201804.nc (59.5M)\n",
      "2022-09-30 02:25:09,239 INFO Download rate 2.6M/s                                                                      \n"
     ]
    },
    {
     "name": "stdout",
     "output_type": "stream",
     "text": [
      "用时32.35540413856506\n"
     ]
    },
    {
     "name": "stderr",
     "output_type": "stream",
     "text": [
      "2022-09-30 02:25:09,718 INFO Welcome to the CDS\n",
      "2022-09-30 02:25:09,719 INFO Sending request to https://cds.climate.copernicus.eu/api/v2/resources/reanalysis-era5-pressure-levels\n",
      "2022-09-30 02:25:09,986 INFO Request is queued\n",
      "2022-09-30 02:25:11,239 INFO Request is running\n",
      "2022-09-30 02:25:19,103 INFO Request is completed\n",
      "2022-09-30 02:25:19,106 INFO Downloading https://download-0015-clone.copernicus-climate.eu/cache-compute-0015/cache/data8/adaptor.mars.internal-1664475916.9464188-31023-18-8e525a64-1d24-4112-a39c-d0abe4150c90.nc to g:/ERA5_RVOR/ERA5_RVOR_201805.nc (61.5M)\n",
      "2022-09-30 02:25:44,751 INFO Download rate 2.4M/s                                                                      \n"
     ]
    },
    {
     "name": "stdout",
     "output_type": "stream",
     "text": [
      "用时35.50943160057068\n"
     ]
    },
    {
     "name": "stderr",
     "output_type": "stream",
     "text": [
      "2022-09-30 02:25:45,226 INFO Welcome to the CDS\n",
      "2022-09-30 02:25:45,227 INFO Sending request to https://cds.climate.copernicus.eu/api/v2/resources/reanalysis-era5-pressure-levels\n",
      "2022-09-30 02:25:45,483 INFO Request is queued\n",
      "2022-09-30 02:25:46,739 INFO Request is running\n",
      "2022-09-30 02:25:54,619 INFO Request is completed\n",
      "2022-09-30 02:25:54,621 INFO Downloading https://download-0014-clone.copernicus-climate.eu/cache-compute-0014/cache/data1/adaptor.mars.internal-1664475953.1438162-8272-1-1916bade-fc7d-4b33-ac99-9956769d9d14.nc to g:/ERA5_RVOR/ERA5_RVOR_201806.nc (59.5M)\n",
      "2022-09-30 02:26:18,722 INFO Download rate 2.5M/s                                                                      \n"
     ]
    },
    {
     "name": "stdout",
     "output_type": "stream",
     "text": [
      "用时33.97234606742859\n"
     ]
    },
    {
     "name": "stderr",
     "output_type": "stream",
     "text": [
      "2022-09-30 02:26:19,203 INFO Welcome to the CDS\n",
      "2022-09-30 02:26:19,203 INFO Sending request to https://cds.climate.copernicus.eu/api/v2/resources/reanalysis-era5-pressure-levels\n",
      "2022-09-30 02:26:19,448 INFO Request is queued\n",
      "2022-09-30 02:26:20,697 INFO Request is running\n",
      "2022-09-30 02:26:28,584 INFO Request is completed\n",
      "2022-09-30 02:26:28,586 INFO Downloading https://download-0016.copernicus-climate.eu/cache-compute-0016/cache/data7/adaptor.mars.internal-1664475985.96169-22879-11-ffb674ff-e4b7-43c1-a2fa-ef4aa274394c.nc to g:/ERA5_RVOR/ERA5_RVOR_201807.nc (61.5M)\n",
      "2022-09-30 02:27:10,112 INFO Download rate 1.5M/s                                                                      \n"
     ]
    },
    {
     "name": "stdout",
     "output_type": "stream",
     "text": [
      "用时51.39138627052307\n"
     ]
    },
    {
     "name": "stderr",
     "output_type": "stream",
     "text": [
      "2022-09-30 02:27:10,594 INFO Welcome to the CDS\n",
      "2022-09-30 02:27:10,595 INFO Sending request to https://cds.climate.copernicus.eu/api/v2/resources/reanalysis-era5-pressure-levels\n",
      "2022-09-30 02:27:10,901 INFO Request is queued\n",
      "2022-09-30 02:27:12,148 INFO Request is running\n",
      "2022-09-30 02:27:20,035 INFO Request is completed\n",
      "2022-09-30 02:27:20,037 INFO Downloading https://download-0002-clone.copernicus-climate.eu/cache-compute-0002/cache/data5/adaptor.mars.internal-1664476038.235418-22972-13-400ffef1-299e-4fc8-a3bb-4abc806b9348.nc to g:/ERA5_RVOR/ERA5_RVOR_201808.nc (61.5M)\n",
      "2022-09-30 02:27:39,977 INFO Download rate 3.1M/s                                                                      \n"
     ]
    },
    {
     "name": "stdout",
     "output_type": "stream",
     "text": [
      "用时29.868415355682373\n"
     ]
    },
    {
     "name": "stderr",
     "output_type": "stream",
     "text": [
      "2022-09-30 02:27:40,463 INFO Welcome to the CDS\n",
      "2022-09-30 02:27:40,465 INFO Sending request to https://cds.climate.copernicus.eu/api/v2/resources/reanalysis-era5-pressure-levels\n",
      "2022-09-30 02:27:40,715 INFO Request is queued\n",
      "2022-09-30 02:27:41,964 INFO Request is running\n",
      "2022-09-30 02:27:55,150 INFO Request is completed\n",
      "2022-09-30 02:27:55,152 INFO Downloading https://download-0009-clone.copernicus-climate.eu/cache-compute-0009/cache/data5/adaptor.mars.internal-1664476068.8055043-31967-16-c24e5048-0055-4ce4-b9f0-f96fe6a20851.nc to g:/ERA5_RVOR/ERA5_RVOR_201809.nc (59.5M)\n",
      "2022-09-30 02:28:24,271 INFO Download rate 2M/s                                                                        \n"
     ]
    },
    {
     "name": "stdout",
     "output_type": "stream",
     "text": [
      "用时44.28967022895813\n"
     ]
    },
    {
     "name": "stderr",
     "output_type": "stream",
     "text": [
      "2022-09-30 02:28:24,754 INFO Welcome to the CDS\n",
      "2022-09-30 02:28:24,756 INFO Sending request to https://cds.climate.copernicus.eu/api/v2/resources/reanalysis-era5-pressure-levels\n",
      "2022-09-30 02:28:25,013 INFO Request is queued\n",
      "2022-09-30 02:28:26,267 INFO Request is running\n",
      "2022-09-30 02:28:39,466 INFO Request is completed\n",
      "2022-09-30 02:28:39,467 INFO Downloading https://download-0021.copernicus-climate.eu/cache-compute-0021/cache/data8/adaptor.mars.internal-1664476113.076083-12906-19-0080216f-15ce-4f25-85b8-796d8c463d86.nc to g:/ERA5_RVOR/ERA5_RVOR_201810.nc (61.5M)\n",
      "2022-09-30 02:29:04,684 INFO Download rate 2.4M/s                                                                      \n"
     ]
    },
    {
     "name": "stdout",
     "output_type": "stream",
     "text": [
      "用时40.410104751586914\n"
     ]
    },
    {
     "name": "stderr",
     "output_type": "stream",
     "text": [
      "2022-09-30 02:29:05,163 INFO Welcome to the CDS\n",
      "2022-09-30 02:29:05,164 INFO Sending request to https://cds.climate.copernicus.eu/api/v2/resources/reanalysis-era5-pressure-levels\n",
      "2022-09-30 02:29:05,435 INFO Request is queued\n",
      "2022-09-30 02:29:06,689 INFO Request is running\n",
      "2022-09-30 02:29:19,863 INFO Request is completed\n",
      "2022-09-30 02:29:19,864 INFO Downloading https://download-0014-clone.copernicus-climate.eu/cache-compute-0014/cache/data8/adaptor.mars.internal-1664476154.3051918-26178-13-91ad1c4e-0aea-42fd-a9fa-9aa475d79289.nc to g:/ERA5_RVOR/ERA5_RVOR_201811.nc (59.5M)\n",
      "2022-09-30 02:29:46,391 INFO Download rate 2.2M/s                                                                      \n"
     ]
    },
    {
     "name": "stdout",
     "output_type": "stream",
     "text": [
      "用时41.70965337753296\n"
     ]
    },
    {
     "name": "stderr",
     "output_type": "stream",
     "text": [
      "2022-09-30 02:29:46,872 INFO Welcome to the CDS\n",
      "2022-09-30 02:29:46,873 INFO Sending request to https://cds.climate.copernicus.eu/api/v2/resources/reanalysis-era5-pressure-levels\n",
      "2022-09-30 02:29:47,135 INFO Request is queued\n",
      "2022-09-30 02:29:48,393 INFO Request is running\n",
      "2022-09-30 02:29:56,251 INFO Request is completed\n",
      "2022-09-30 02:29:56,253 INFO Downloading https://download-0004-clone.copernicus-climate.eu/cache-compute-0004/cache/data8/adaptor.mars.internal-1664476194.3554764-24277-11-0a53e837-e1fa-41b1-a22c-74bdbec2f7ca.nc to g:/ERA5_RVOR/ERA5_RVOR_201812.nc (61.5M)\n",
      "2022-09-30 02:30:25,376 INFO Download rate 2.1M/s                                                                      \n"
     ]
    },
    {
     "name": "stdout",
     "output_type": "stream",
     "text": [
      "用时38.981996297836304\n"
     ]
    },
    {
     "name": "stderr",
     "output_type": "stream",
     "text": [
      "2022-09-30 02:30:25,858 INFO Welcome to the CDS\n",
      "2022-09-30 02:30:25,859 INFO Sending request to https://cds.climate.copernicus.eu/api/v2/resources/reanalysis-era5-pressure-levels\n",
      "2022-09-30 02:30:26,104 INFO Request is queued\n",
      "2022-09-30 02:30:27,363 INFO Request is running\n",
      "2022-09-30 02:30:40,548 INFO Request is completed\n",
      "2022-09-30 02:30:40,550 INFO Downloading https://download-0016.copernicus-climate.eu/cache-compute-0016/cache/data1/adaptor.mars.internal-1664476234.6767366-30898-16-ccaf96f2-6d14-41b3-b8e6-b76425578a95.nc to g:/ERA5_RVOR/ERA5_RVOR_201901.nc (61.5M)\n",
      "2022-09-30 02:31:06,757 INFO Download rate 2.3M/s                                                                      \n"
     ]
    },
    {
     "name": "stdout",
     "output_type": "stream",
     "text": [
      "用时41.378944873809814\n"
     ]
    },
    {
     "name": "stderr",
     "output_type": "stream",
     "text": [
      "2022-09-30 02:31:07,236 INFO Welcome to the CDS\n",
      "2022-09-30 02:31:07,238 INFO Sending request to https://cds.climate.copernicus.eu/api/v2/resources/reanalysis-era5-pressure-levels\n",
      "2022-09-30 02:31:07,489 INFO Request is queued\n",
      "2022-09-30 02:31:08,744 INFO Request is running\n",
      "2022-09-30 02:31:16,610 INFO Request is completed\n",
      "2022-09-30 02:31:16,612 INFO Downloading https://download-0002-clone.copernicus-climate.eu/cache-compute-0002/cache/data5/adaptor.mars.internal-1664476273.8154309-1227-7-7d95d91a-ca24-4ed1-acaf-5a6bbf10a43b.nc to g:/ERA5_RVOR/ERA5_RVOR_201902.nc (55.5M)\n",
      "2022-09-30 02:31:45,057 INFO Download rate 2M/s                                                                        \n"
     ]
    },
    {
     "name": "stdout",
     "output_type": "stream",
     "text": [
      "用时38.298887729644775\n"
     ]
    },
    {
     "name": "stderr",
     "output_type": "stream",
     "text": [
      "2022-09-30 02:31:45,534 INFO Welcome to the CDS\n",
      "2022-09-30 02:31:45,536 INFO Sending request to https://cds.climate.copernicus.eu/api/v2/resources/reanalysis-era5-pressure-levels\n",
      "2022-09-30 02:31:45,802 INFO Request is queued\n",
      "2022-09-30 02:31:47,050 INFO Request is running\n",
      "2022-09-30 02:32:00,250 INFO Request is completed\n",
      "2022-09-30 02:32:00,252 INFO Downloading https://download-0007-clone.copernicus-climate.eu/cache-compute-0007/cache/data8/adaptor.mars.internal-1664476315.1511583-12657-10-f22b5b90-d4cb-4ae0-8f94-70b15550257e.nc to g:/ERA5_RVOR/ERA5_RVOR_201903.nc (61.5M)\n",
      "2022-09-30 02:32:21,013 INFO Download rate 3M/s                                                                        \n"
     ]
    },
    {
     "name": "stdout",
     "output_type": "stream",
     "text": [
      "用时35.95693063735962\n"
     ]
    },
    {
     "name": "stderr",
     "output_type": "stream",
     "text": [
      "2022-09-30 02:32:21,495 INFO Welcome to the CDS\n",
      "2022-09-30 02:32:21,496 INFO Sending request to https://cds.climate.copernicus.eu/api/v2/resources/reanalysis-era5-pressure-levels\n",
      "2022-09-30 02:32:21,754 INFO Request is queued\n",
      "2022-09-30 02:32:23,767 INFO Request is running\n",
      "2022-09-30 02:32:31,636 INFO Request is completed\n",
      "2022-09-30 02:32:31,638 INFO Downloading https://download-0006-clone.copernicus-climate.eu/cache-compute-0006/cache/data6/adaptor.mars.internal-1664476349.8399255-25207-12-09b1e718-e71c-4619-b826-109e1e024ff5.nc to g:/ERA5_RVOR/ERA5_RVOR_201904.nc (59.5M)\n",
      "2022-09-30 02:33:17,358 INFO Download rate 1.3M/s                                                                      \n"
     ]
    },
    {
     "name": "stdout",
     "output_type": "stream",
     "text": [
      "用时56.35151481628418\n"
     ]
    },
    {
     "name": "stderr",
     "output_type": "stream",
     "text": [
      "2022-09-30 02:33:17,851 INFO Welcome to the CDS\n",
      "2022-09-30 02:33:17,853 INFO Sending request to https://cds.climate.copernicus.eu/api/v2/resources/reanalysis-era5-pressure-levels\n",
      "2022-09-30 02:33:18,132 INFO Request is queued\n",
      "2022-09-30 02:33:19,389 INFO Request is running\n",
      "2022-09-30 02:33:32,596 INFO Request is completed\n",
      "2022-09-30 02:33:32,598 INFO Downloading https://download-0001-clone.copernicus-climate.eu/cache-compute-0001/cache/data7/adaptor.mars.internal-1664476407.0172834-20225-1-e1c23461-3c51-4a75-88ee-189c0e87c2ae.nc to g:/ERA5_RVOR/ERA5_RVOR_201905.nc (61.5M)\n",
      "2022-09-30 02:33:56,986 INFO Download rate 2.5M/s                                                                      \n"
     ]
    },
    {
     "name": "stdout",
     "output_type": "stream",
     "text": [
      "用时39.62343120574951\n"
     ]
    },
    {
     "name": "stderr",
     "output_type": "stream",
     "text": [
      "2022-09-30 02:33:57,475 INFO Welcome to the CDS\n",
      "2022-09-30 02:33:57,476 INFO Sending request to https://cds.climate.copernicus.eu/api/v2/resources/reanalysis-era5-pressure-levels\n",
      "2022-09-30 02:33:57,740 INFO Request is queued\n",
      "2022-09-30 02:33:59,000 INFO Request is running\n",
      "2022-09-30 02:34:12,256 INFO Request is completed\n",
      "2022-09-30 02:34:12,258 INFO Downloading https://download-0004-clone.copernicus-climate.eu/cache-compute-0004/cache/data5/adaptor.mars.internal-1664476445.591482-10034-4-35e97ff5-98d0-4895-81cb-c9cfb8652487.nc to g:/ERA5_RVOR/ERA5_RVOR_201906.nc (59.5M)\n",
      "2022-09-30 02:34:36,675 INFO Download rate 2.4M/s                                                                      \n"
     ]
    },
    {
     "name": "stdout",
     "output_type": "stream",
     "text": [
      "用时39.68655228614807\n"
     ]
    },
    {
     "name": "stderr",
     "output_type": "stream",
     "text": [
      "2022-09-30 02:34:37,161 INFO Welcome to the CDS\n",
      "2022-09-30 02:34:37,163 INFO Sending request to https://cds.climate.copernicus.eu/api/v2/resources/reanalysis-era5-pressure-levels\n",
      "2022-09-30 02:34:37,423 INFO Request is queued\n",
      "2022-09-30 02:34:38,680 INFO Request is running\n",
      "2022-09-30 02:34:51,879 INFO Request is completed\n",
      "2022-09-30 02:34:51,883 INFO Downloading https://download-0003-clone.copernicus-climate.eu/cache-compute-0003/cache/data3/adaptor.mars.internal-1664476486.700901-24409-19-119ad814-cbad-4746-975a-a08646cc6ed9.nc to g:/ERA5_RVOR/ERA5_RVOR_201907.nc (61.5M)\n",
      "2022-09-30 02:35:23,040 INFO Download rate 2M/s                                                                        \n"
     ]
    },
    {
     "name": "stdout",
     "output_type": "stream",
     "text": [
      "用时46.365225315093994\n"
     ]
    },
    {
     "name": "stderr",
     "output_type": "stream",
     "text": [
      "2022-09-30 02:35:23,531 INFO Welcome to the CDS\n",
      "2022-09-30 02:35:23,533 INFO Sending request to https://cds.climate.copernicus.eu/api/v2/resources/reanalysis-era5-pressure-levels\n",
      "2022-09-30 02:35:23,783 INFO Request is queued\n",
      "2022-09-30 02:35:25,027 INFO Request is running\n",
      "2022-09-30 02:35:38,236 INFO Request is completed\n",
      "2022-09-30 02:35:38,236 INFO Downloading https://download-0015-clone.copernicus-climate.eu/cache-compute-0015/cache/data5/adaptor.mars.internal-1664476531.7900348-30304-20-e8aa618a-68d6-4804-8559-82d0ab4c172f.nc to g:/ERA5_RVOR/ERA5_RVOR_201908.nc (61.5M)\n",
      "2022-09-30 02:36:06,826 INFO Download rate 2.2M/s                                                                      \n"
     ]
    },
    {
     "name": "stdout",
     "output_type": "stream",
     "text": [
      "用时43.78248596191406\n"
     ]
    },
    {
     "name": "stderr",
     "output_type": "stream",
     "text": [
      "2022-09-30 02:36:07,313 INFO Welcome to the CDS\n",
      "2022-09-30 02:36:07,315 INFO Sending request to https://cds.climate.copernicus.eu/api/v2/resources/reanalysis-era5-pressure-levels\n",
      "2022-09-30 02:36:07,567 INFO Request is queued\n",
      "2022-09-30 02:36:08,813 INFO Request is running\n",
      "2022-09-30 02:36:21,989 INFO Request is completed\n",
      "2022-09-30 02:36:21,990 INFO Downloading https://download-0011-clone.copernicus-climate.eu/cache-compute-0011/cache/data8/adaptor.mars.internal-1664476576.2060964-8231-9-a7cbbee6-a5d4-4829-b89e-5a1359a50258.nc to g:/ERA5_RVOR/ERA5_RVOR_201909.nc (59.5M)\n",
      "2022-09-30 02:36:46,011 INFO Download rate 2.5M/s                                                                      \n"
     ]
    },
    {
     "name": "stdout",
     "output_type": "stream",
     "text": [
      "用时39.18743824958801\n"
     ]
    },
    {
     "name": "stderr",
     "output_type": "stream",
     "text": [
      "2022-09-30 02:36:46,500 INFO Welcome to the CDS\n",
      "2022-09-30 02:36:46,502 INFO Sending request to https://cds.climate.copernicus.eu/api/v2/resources/reanalysis-era5-pressure-levels\n",
      "2022-09-30 02:36:46,772 INFO Request is queued\n",
      "2022-09-30 02:36:48,019 INFO Request is running\n",
      "2022-09-30 02:36:55,904 INFO Request is completed\n",
      "2022-09-30 02:36:55,907 INFO Downloading https://download-0009-clone.copernicus-climate.eu/cache-compute-0009/cache/data6/adaptor.mars.internal-1664476613.9779205-14589-6-6c484ae4-62d4-43e9-869d-42728804d846.nc to g:/ERA5_RVOR/ERA5_RVOR_201910.nc (61.5M)\n",
      "2022-09-30 02:37:18,365 INFO Download rate 2.7M/s                                                                      \n"
     ]
    },
    {
     "name": "stdout",
     "output_type": "stream",
     "text": [
      "用时32.35127115249634\n"
     ]
    },
    {
     "name": "stderr",
     "output_type": "stream",
     "text": [
      "2022-09-30 02:37:18,849 INFO Welcome to the CDS\n",
      "2022-09-30 02:37:18,851 INFO Sending request to https://cds.climate.copernicus.eu/api/v2/resources/reanalysis-era5-pressure-levels\n",
      "2022-09-30 02:37:19,110 INFO Request is queued\n",
      "2022-09-30 02:37:20,357 INFO Request is running\n",
      "2022-09-30 02:37:28,241 INFO Request is completed\n",
      "2022-09-30 02:37:28,244 INFO Downloading https://download-0016.copernicus-climate.eu/cache-compute-0016/cache/data3/adaptor.mars.internal-1664476646.5459683-22879-17-e48d2540-ee05-4cda-b840-d87581a91652.nc to g:/ERA5_RVOR/ERA5_RVOR_201911.nc (59.5M)\n",
      "2022-09-30 02:37:51,232 INFO Download rate 2.6M/s                                                                      \n"
     ]
    },
    {
     "name": "stdout",
     "output_type": "stream",
     "text": [
      "用时32.86890745162964\n"
     ]
    },
    {
     "name": "stderr",
     "output_type": "stream",
     "text": [
      "2022-09-30 02:37:51,720 INFO Welcome to the CDS\n",
      "2022-09-30 02:37:51,721 INFO Sending request to https://cds.climate.copernicus.eu/api/v2/resources/reanalysis-era5-pressure-levels\n",
      "2022-09-30 02:37:52,182 INFO Request is queued\n",
      "2022-09-30 02:37:53,436 INFO Request is running\n",
      "2022-09-30 02:38:01,335 INFO Request is completed\n",
      "2022-09-30 02:38:01,337 INFO Downloading https://download-0009-clone.copernicus-climate.eu/cache-compute-0009/cache/data0/adaptor.mars.internal-1664476679.33878-10701-12-1a12227d-7f77-410e-89f7-7846a604f541.nc to g:/ERA5_RVOR/ERA5_RVOR_201912.nc (61.5M)\n",
      "2022-09-30 02:38:30,024 INFO Download rate 2.1M/s                                                                      \n"
     ]
    },
    {
     "name": "stdout",
     "output_type": "stream",
     "text": [
      "用时38.7873854637146\n"
     ]
    },
    {
     "name": "stderr",
     "output_type": "stream",
     "text": [
      "2022-09-30 02:38:30,506 INFO Welcome to the CDS\n",
      "2022-09-30 02:38:30,507 INFO Sending request to https://cds.climate.copernicus.eu/api/v2/resources/reanalysis-era5-pressure-levels\n",
      "2022-09-30 02:38:30,760 INFO Request is queued\n",
      "2022-09-30 02:38:32,007 INFO Request is running\n",
      "2022-09-30 02:38:39,895 INFO Request is completed\n",
      "2022-09-30 02:38:39,897 INFO Downloading https://download-0002-clone.copernicus-climate.eu/cache-compute-0002/cache/data4/adaptor.mars.internal-1664476718.0150633-8940-2-4f78ef9c-0ab2-4ed8-9070-58eab56d2774.nc to g:/ERA5_RVOR/ERA5_RVOR_202001.nc (61.5M)\n",
      "2022-09-30 02:39:02,068 INFO Download rate 2.8M/s                                                                      \n"
     ]
    },
    {
     "name": "stdout",
     "output_type": "stream",
     "text": [
      "用时32.04698657989502\n"
     ]
    },
    {
     "name": "stderr",
     "output_type": "stream",
     "text": [
      "2022-09-30 02:39:02,555 INFO Welcome to the CDS\n",
      "2022-09-30 02:39:02,557 INFO Sending request to https://cds.climate.copernicus.eu/api/v2/resources/reanalysis-era5-pressure-levels\n",
      "2022-09-30 02:39:02,804 INFO Request is queued\n",
      "2022-09-30 02:39:04,064 INFO Request is running\n",
      "2022-09-30 02:39:17,269 INFO Request is completed\n",
      "2022-09-30 02:39:17,272 INFO Downloading https://download-0001-clone.copernicus-climate.eu/cache-compute-0001/cache/data5/adaptor.mars.internal-1664476750.5725863-20687-3-0a402a5d-bf55-4b37-b6e9-78760e32c660.nc to g:/ERA5_RVOR/ERA5_RVOR_202002.nc (57.5M)\n",
      "2022-09-30 02:39:58,471 INFO Download rate 1.4M/s                                                                      \n"
     ]
    },
    {
     "name": "stdout",
     "output_type": "stream",
     "text": [
      "用时56.401596784591675\n"
     ]
    },
    {
     "name": "stderr",
     "output_type": "stream",
     "text": [
      "2022-09-30 02:39:58,960 INFO Welcome to the CDS\n",
      "2022-09-30 02:39:58,962 INFO Sending request to https://cds.climate.copernicus.eu/api/v2/resources/reanalysis-era5-pressure-levels\n",
      "2022-09-30 02:39:59,216 INFO Request is queued\n",
      "2022-09-30 02:40:00,469 INFO Request is running\n",
      "2022-09-30 02:40:08,345 INFO Request is completed\n",
      "2022-09-30 02:40:08,347 INFO Downloading https://download-0012-clone.copernicus-climate.eu/cache-compute-0012/cache/data6/adaptor.mars.internal-1664476806.1891515-6706-11-063f3a58-a20f-4862-84ed-0b7af8d7d166.nc to g:/ERA5_RVOR/ERA5_RVOR_202003.nc (61.5M)\n",
      "2022-09-30 02:40:30,001 INFO Download rate 2.8M/s                                                                      \n"
     ]
    },
    {
     "name": "stdout",
     "output_type": "stream",
     "text": [
      "用时31.530718564987183\n"
     ]
    },
    {
     "name": "stderr",
     "output_type": "stream",
     "text": [
      "2022-09-30 02:40:30,488 INFO Welcome to the CDS\n",
      "2022-09-30 02:40:30,489 INFO Sending request to https://cds.climate.copernicus.eu/api/v2/resources/reanalysis-era5-pressure-levels\n",
      "2022-09-30 02:40:30,737 INFO Request is queued\n",
      "2022-09-30 02:40:31,986 INFO Request is running\n",
      "2022-09-30 02:40:45,188 INFO Request is completed\n",
      "2022-09-30 02:40:45,190 INFO Downloading https://download-0017.copernicus-climate.eu/cache-compute-0017/cache/data9/adaptor.mars.internal-1664476838.4199557-15891-11-36aa0097-7d63-4501-822b-68118353b12d.nc to g:/ERA5_RVOR/ERA5_RVOR_202004.nc (59.5M)\n",
      "2022-09-30 02:41:11,024 INFO Download rate 2.3M/s                                                                      \n"
     ]
    },
    {
     "name": "stdout",
     "output_type": "stream",
     "text": [
      "用时41.01926398277283\n"
     ]
    },
    {
     "name": "stderr",
     "output_type": "stream",
     "text": [
      "2022-09-30 02:41:11,511 INFO Welcome to the CDS\n",
      "2022-09-30 02:41:11,512 INFO Sending request to https://cds.climate.copernicus.eu/api/v2/resources/reanalysis-era5-pressure-levels\n",
      "2022-09-30 02:41:11,759 INFO Request is queued\n",
      "2022-09-30 02:41:13,014 INFO Request is running\n",
      "2022-09-30 02:41:21,664 INFO Request is completed\n",
      "2022-09-30 02:41:21,664 INFO Downloading https://download-0021.copernicus-climate.eu/cache-compute-0021/cache/data1/adaptor.mars.internal-1664476879.1946616-2286-2-f13a390d-66fe-4d9b-be71-370fd6c4bda0.nc to g:/ERA5_RVOR/ERA5_RVOR_202005.nc (61.5M)\n",
      "2022-09-30 02:41:45,679 INFO Download rate 2.6M/s                                                                      \n"
     ]
    },
    {
     "name": "stdout",
     "output_type": "stream",
     "text": [
      "用时34.65438771247864\n"
     ]
    },
    {
     "name": "stderr",
     "output_type": "stream",
     "text": [
      "2022-09-30 02:41:46,167 INFO Welcome to the CDS\n",
      "2022-09-30 02:41:46,168 INFO Sending request to https://cds.climate.copernicus.eu/api/v2/resources/reanalysis-era5-pressure-levels\n",
      "2022-09-30 02:41:46,434 INFO Request is queued\n",
      "2022-09-30 02:41:47,682 INFO Request is running\n",
      "2022-09-30 02:41:51,948 INFO Request is completed\n",
      "2022-09-30 02:41:51,949 INFO Downloading https://download-0010-clone.copernicus-climate.eu/cache-compute-0010/cache/data0/adaptor.mars.internal-1664476910.1465354-7082-16-3648259a-ff89-40e0-b066-b0ac92a4d349.nc to g:/ERA5_RVOR/ERA5_RVOR_202006.nc (59.5M)\n",
      "2022-09-30 02:42:27,309 INFO Download rate 1.7M/s                                                                      \n"
     ]
    },
    {
     "name": "stdout",
     "output_type": "stream",
     "text": [
      "用时41.62967300415039\n"
     ]
    },
    {
     "name": "stderr",
     "output_type": "stream",
     "text": [
      "2022-09-30 02:42:27,797 INFO Welcome to the CDS\n",
      "2022-09-30 02:42:27,798 INFO Sending request to https://cds.climate.copernicus.eu/api/v2/resources/reanalysis-era5-pressure-levels\n",
      "2022-09-30 02:42:28,081 INFO Request is queued\n",
      "2022-09-30 02:42:29,332 INFO Request is running\n",
      "2022-09-30 02:42:42,538 INFO Request is completed\n",
      "2022-09-30 02:42:42,540 INFO Downloading https://download-0014-clone.copernicus-climate.eu/cache-compute-0014/cache/data1/adaptor.mars.internal-1664476956.6980565-4307-14-0732145c-b2cc-4147-8331-7db4bfdca4fd.nc to g:/ERA5_RVOR/ERA5_RVOR_202007.nc (61.5M)\n",
      "2022-09-30 02:43:14,031 INFO Download rate 2M/s                                                                        \n"
     ]
    },
    {
     "name": "stdout",
     "output_type": "stream",
     "text": [
      "用时46.72123670578003\n"
     ]
    },
    {
     "name": "stderr",
     "output_type": "stream",
     "text": [
      "2022-09-30 02:43:14,521 INFO Welcome to the CDS\n",
      "2022-09-30 02:43:14,523 INFO Sending request to https://cds.climate.copernicus.eu/api/v2/resources/reanalysis-era5-pressure-levels\n",
      "2022-09-30 02:43:14,785 INFO Request is queued\n",
      "2022-09-30 02:43:16,040 INFO Request is running\n",
      "2022-09-30 02:43:23,927 INFO Request is completed\n",
      "2022-09-30 02:43:23,929 INFO Downloading https://download-0006-clone.copernicus-climate.eu/cache-compute-0006/cache/data1/adaptor.mars.internal-1664477001.522637-9015-4-5911f67a-4d32-4671-90e1-3c207c3fc713.nc to g:/ERA5_RVOR/ERA5_RVOR_202008.nc (61.5M)\n",
      "2022-09-30 02:43:46,814 INFO Download rate 2.7M/s                                                                      \n"
     ]
    },
    {
     "name": "stdout",
     "output_type": "stream",
     "text": [
      "用时32.783960819244385\n"
     ]
    },
    {
     "name": "stderr",
     "output_type": "stream",
     "text": [
      "2022-09-30 02:43:47,306 INFO Welcome to the CDS\n",
      "2022-09-30 02:43:47,309 INFO Sending request to https://cds.climate.copernicus.eu/api/v2/resources/reanalysis-era5-pressure-levels\n",
      "2022-09-30 02:43:47,560 INFO Request is queued\n",
      "2022-09-30 02:43:48,808 INFO Request is running\n",
      "2022-09-30 02:44:02,008 INFO Request is completed\n",
      "2022-09-30 02:44:02,010 INFO Downloading https://download-0002-clone.copernicus-climate.eu/cache-compute-0002/cache/data4/adaptor.mars.internal-1664477036.3316631-10102-2-751182ec-026a-4381-a103-3bceca8d7fc3.nc to g:/ERA5_RVOR/ERA5_RVOR_202009.nc (59.5M)\n",
      "2022-09-30 02:44:23,367 INFO Download rate 2.8M/s                                                                      \n"
     ]
    },
    {
     "name": "stdout",
     "output_type": "stream",
     "text": [
      "用时36.5506432056427\n"
     ]
    },
    {
     "name": "stderr",
     "output_type": "stream",
     "text": [
      "2022-09-30 02:44:23,857 INFO Welcome to the CDS\n",
      "2022-09-30 02:44:23,859 INFO Sending request to https://cds.climate.copernicus.eu/api/v2/resources/reanalysis-era5-pressure-levels\n",
      "2022-09-30 02:44:24,114 INFO Request is queued\n",
      "2022-09-30 02:44:25,373 INFO Request is running\n",
      "2022-09-30 02:44:33,258 INFO Request is completed\n",
      "2022-09-30 02:44:33,260 INFO Downloading https://download-0012-clone.copernicus-climate.eu/cache-compute-0012/cache/data6/adaptor.mars.internal-1664477071.1293619-6250-14-b2974787-a34c-4cbd-a34a-d8ad09afc746.nc to g:/ERA5_RVOR/ERA5_RVOR_202010.nc (61.5M)\n",
      "2022-09-30 02:45:01,528 INFO Download rate 2.2M/s                                                                      \n"
     ]
    },
    {
     "name": "stdout",
     "output_type": "stream",
     "text": [
      "用时38.16102147102356\n"
     ]
    },
    {
     "name": "stderr",
     "output_type": "stream",
     "text": [
      "2022-09-30 02:45:02,019 INFO Welcome to the CDS\n",
      "2022-09-30 02:45:02,020 INFO Sending request to https://cds.climate.copernicus.eu/api/v2/resources/reanalysis-era5-pressure-levels\n",
      "2022-09-30 02:45:02,324 INFO Request is queued\n",
      "2022-09-30 02:45:03,570 INFO Request is running\n",
      "2022-09-30 02:45:16,768 INFO Request is completed\n",
      "2022-09-30 02:45:16,770 INFO Downloading https://download-0001-clone.copernicus-climate.eu/cache-compute-0001/cache/data5/adaptor.mars.internal-1664477111.1036506-17294-7-39192b24-b7e3-4fae-9703-3f7f85b83bf8.nc to g:/ERA5_RVOR/ERA5_RVOR_202011.nc (59.5M)\n",
      "2022-09-30 02:45:57,729 INFO Download rate 1.5M/s                                                                      \n"
     ]
    },
    {
     "name": "stdout",
     "output_type": "stream",
     "text": [
      "用时56.19523334503174\n"
     ]
    },
    {
     "name": "stderr",
     "output_type": "stream",
     "text": [
      "2022-09-30 02:45:58,214 INFO Welcome to the CDS\n",
      "2022-09-30 02:45:58,215 INFO Sending request to https://cds.climate.copernicus.eu/api/v2/resources/reanalysis-era5-pressure-levels\n",
      "2022-09-30 02:45:58,488 INFO Request is queued\n",
      "2022-09-30 02:45:59,741 INFO Request is running\n",
      "2022-09-30 02:46:07,631 INFO Request is completed\n",
      "2022-09-30 02:46:07,632 INFO Downloading https://download-0011-clone.copernicus-climate.eu/cache-compute-0011/cache/data9/adaptor.mars.internal-1664477165.398481-5825-17-ee68bb68-d086-427d-bb17-5c64c406efc1.nc to g:/ERA5_RVOR/ERA5_RVOR_202012.nc (61.5M)\n",
      "2022-09-30 02:46:36,120 INFO Download rate 2.2M/s                                                                      \n"
     ]
    },
    {
     "name": "stdout",
     "output_type": "stream",
     "text": [
      "用时38.39616775512695\n"
     ]
    },
    {
     "name": "stderr",
     "output_type": "stream",
     "text": [
      "2022-09-30 02:46:36,613 INFO Welcome to the CDS\n",
      "2022-09-30 02:46:36,615 INFO Sending request to https://cds.climate.copernicus.eu/api/v2/resources/reanalysis-era5-pressure-levels\n",
      "2022-09-30 02:46:36,870 INFO Request is queued\n",
      "2022-09-30 02:46:38,119 INFO Request is running\n",
      "2022-09-30 02:46:46,011 INFO Request is completed\n",
      "2022-09-30 02:46:46,014 INFO Downloading https://download-0005-clone.copernicus-climate.eu/cache-compute-0005/cache/data5/adaptor.mars.internal-1664477204.2085967-26259-1-1e5c518f-3500-4879-a808-080f9205b451.nc to g:/ERA5_RVOR/ERA5_RVOR_202101.nc (61.5M)\n",
      "2022-09-30 02:47:13,229 INFO Download rate 2.3M/s                                                                      \n"
     ]
    },
    {
     "name": "stdout",
     "output_type": "stream",
     "text": [
      "用时37.106160163879395\n"
     ]
    },
    {
     "name": "stderr",
     "output_type": "stream",
     "text": [
      "2022-09-30 02:47:13,717 INFO Welcome to the CDS\n",
      "2022-09-30 02:47:13,719 INFO Sending request to https://cds.climate.copernicus.eu/api/v2/resources/reanalysis-era5-pressure-levels\n",
      "2022-09-30 02:47:13,988 INFO Request is queued\n",
      "2022-09-30 02:47:15,248 INFO Request is running\n",
      "2022-09-30 02:47:23,143 INFO Request is completed\n",
      "2022-09-30 02:47:23,145 INFO Downloading https://download-0018.copernicus-climate.eu/cache-compute-0018/cache/data3/adaptor.mars.internal-1664477240.1387627-897-14-7702ec83-18e1-4293-8fcc-03e487c30f45.nc to g:/ERA5_RVOR/ERA5_RVOR_202102.nc (55.5M)\n",
      "2022-09-30 02:47:48,957 INFO Download rate 2.2M/s                                                                      \n"
     ]
    },
    {
     "name": "stdout",
     "output_type": "stream",
     "text": [
      "用时35.727957010269165\n"
     ]
    },
    {
     "name": "stderr",
     "output_type": "stream",
     "text": [
      "2022-09-30 02:47:49,448 INFO Welcome to the CDS\n",
      "2022-09-30 02:47:49,449 INFO Sending request to https://cds.climate.copernicus.eu/api/v2/resources/reanalysis-era5-pressure-levels\n",
      "2022-09-30 02:47:49,703 INFO Request is queued\n",
      "2022-09-30 02:47:50,953 INFO Request is running\n",
      "2022-09-30 02:47:58,833 INFO Request is completed\n",
      "2022-09-30 02:47:58,836 INFO Downloading https://download-0010-clone.copernicus-climate.eu/cache-compute-0010/cache/data8/adaptor.mars.internal-1664477276.7752893-25888-4-7ab58870-e0c4-41ef-b358-8da2cc2132e1.nc to g:/ERA5_RVOR/ERA5_RVOR_202103.nc (61.5M)\n",
      "2022-09-30 02:48:27,715 INFO Download rate 2.1M/s                                                                      \n"
     ]
    },
    {
     "name": "stdout",
     "output_type": "stream",
     "text": [
      "用时38.75666260719299\n"
     ]
    },
    {
     "name": "stderr",
     "output_type": "stream",
     "text": [
      "2022-09-30 02:48:28,205 INFO Welcome to the CDS\n",
      "2022-09-30 02:48:28,206 INFO Sending request to https://cds.climate.copernicus.eu/api/v2/resources/reanalysis-era5-pressure-levels\n",
      "2022-09-30 02:48:28,455 INFO Request is queued\n",
      "2022-09-30 02:48:29,700 INFO Request is running\n",
      "2022-09-30 02:48:37,576 INFO Request is completed\n",
      "2022-09-30 02:48:37,577 INFO Downloading https://download-0006-clone.copernicus-climate.eu/cache-compute-0006/cache/data9/adaptor.mars.internal-1664477315.564916-1370-13-5a562af9-0e95-4de7-8ee5-2c1676acbf4c.nc to g:/ERA5_RVOR/ERA5_RVOR_202104.nc (59.5M)\n",
      "2022-09-30 02:49:09,522 INFO Download rate 1.9M/s                                                                      \n"
     ]
    },
    {
     "name": "stdout",
     "output_type": "stream",
     "text": [
      "用时41.80557990074158\n"
     ]
    },
    {
     "name": "stderr",
     "output_type": "stream",
     "text": [
      "2022-09-30 02:49:10,012 INFO Welcome to the CDS\n",
      "2022-09-30 02:49:10,014 INFO Sending request to https://cds.climate.copernicus.eu/api/v2/resources/reanalysis-era5-pressure-levels\n",
      "2022-09-30 02:49:10,284 INFO Request is queued\n",
      "2022-09-30 02:49:11,533 INFO Request is running\n",
      "2022-09-30 02:49:19,413 INFO Request is completed\n",
      "2022-09-30 02:49:19,416 INFO Downloading https://download-0007-clone.copernicus-climate.eu/cache-compute-0007/cache/data3/adaptor.mars.internal-1664477356.6525304-13201-19-b5005f93-8846-417f-bfe4-65a3a6175268.nc to g:/ERA5_RVOR/ERA5_RVOR_202105.nc (61.5M)\n",
      "2022-09-30 02:49:49,746 INFO Download rate 2M/s                                                                        \n"
     ]
    },
    {
     "name": "stdout",
     "output_type": "stream",
     "text": [
      "用时40.22385859489441\n"
     ]
    },
    {
     "name": "stderr",
     "output_type": "stream",
     "text": [
      "2022-09-30 02:49:50,236 INFO Welcome to the CDS\n",
      "2022-09-30 02:49:50,238 INFO Sending request to https://cds.climate.copernicus.eu/api/v2/resources/reanalysis-era5-pressure-levels\n",
      "2022-09-30 02:49:50,494 INFO Request is queued\n",
      "2022-09-30 02:49:51,745 INFO Request is running\n",
      "2022-09-30 02:49:59,647 INFO Request is completed\n",
      "2022-09-30 02:49:59,649 INFO Downloading https://download-0011-clone.copernicus-climate.eu/cache-compute-0011/cache/data6/adaptor.mars.internal-1664477396.9630563-6961-16-cf7cbad9-61f7-415e-9fc4-3e58f94b5998.nc to g:/ERA5_RVOR/ERA5_RVOR_202106.nc (59.5M)\n",
      "2022-09-30 02:50:22,269 INFO Download rate 2.6M/s                                                                      \n"
     ]
    },
    {
     "name": "stdout",
     "output_type": "stream",
     "text": [
      "用时32.521361112594604\n"
     ]
    },
    {
     "name": "stderr",
     "output_type": "stream",
     "text": [
      "2022-09-30 02:50:22,755 INFO Welcome to the CDS\n",
      "2022-09-30 02:50:22,757 INFO Sending request to https://cds.climate.copernicus.eu/api/v2/resources/reanalysis-era5-pressure-levels\n",
      "2022-09-30 02:50:23,028 INFO Request is queued\n",
      "2022-09-30 02:50:24,277 INFO Request is running\n",
      "2022-09-30 02:50:32,915 INFO Request is completed\n",
      "2022-09-30 02:50:32,916 INFO Downloading https://download-0000-clone.copernicus-climate.eu/cache-compute-0000/cache/data9/adaptor.mars.internal-1664477429.8478665-4378-12-05d57ea3-cb3c-4050-aadf-ce0be8cdb917.nc to g:/ERA5_RVOR/ERA5_RVOR_202107.nc (61.5M)\n",
      "2022-09-30 02:51:02,460 INFO Download rate 2.1M/s                                                                      \n"
     ]
    },
    {
     "name": "stdout",
     "output_type": "stream",
     "text": [
      "用时40.19290566444397\n"
     ]
    },
    {
     "name": "stderr",
     "output_type": "stream",
     "text": [
      "2022-09-30 02:51:02,950 INFO Welcome to the CDS\n",
      "2022-09-30 02:51:02,952 INFO Sending request to https://cds.climate.copernicus.eu/api/v2/resources/reanalysis-era5-pressure-levels\n",
      "2022-09-30 02:51:03,231 INFO Request is queued\n",
      "2022-09-30 02:51:04,486 INFO Request is running\n",
      "2022-09-30 02:51:12,370 INFO Request is completed\n",
      "2022-09-30 02:51:12,371 INFO Downloading https://download-0016.copernicus-climate.eu/cache-compute-0016/cache/data2/adaptor.mars.internal-1664477470.2805665-6749-2-ac057b16-0da9-4895-a577-fed2393d4747.nc to g:/ERA5_RVOR/ERA5_RVOR_202108.nc (61.5M)\n",
      "2022-09-30 02:51:36,294 INFO Download rate 2.6M/s                                                                      \n"
     ]
    },
    {
     "name": "stdout",
     "output_type": "stream",
     "text": [
      "用时33.835819721221924\n"
     ]
    },
    {
     "name": "stderr",
     "output_type": "stream",
     "text": [
      "2022-09-30 02:51:36,789 INFO Welcome to the CDS\n",
      "2022-09-30 02:51:36,791 INFO Sending request to https://cds.climate.copernicus.eu/api/v2/resources/reanalysis-era5-pressure-levels\n",
      "2022-09-30 02:51:37,055 INFO Request is queued\n",
      "2022-09-30 02:51:38,315 INFO Request is running\n",
      "2022-09-30 02:51:46,213 INFO Request is completed\n",
      "2022-09-30 02:51:46,216 INFO Downloading https://download-0008-clone.copernicus-climate.eu/cache-compute-0008/cache/data5/adaptor.mars.internal-1664477503.428731-22891-1-84782477-def2-41d3-a635-2d82f6a3e38f.nc to g:/ERA5_RVOR/ERA5_RVOR_202109.nc (59.5M)\n",
      "2022-09-30 02:52:12,970 INFO Download rate 2.2M/s                                                                      \n"
     ]
    },
    {
     "name": "stdout",
     "output_type": "stream",
     "text": [
      "用时36.67491865158081\n"
     ]
    },
    {
     "name": "stderr",
     "output_type": "stream",
     "text": [
      "2022-09-30 02:52:13,467 INFO Welcome to the CDS\n",
      "2022-09-30 02:52:13,468 INFO Sending request to https://cds.climate.copernicus.eu/api/v2/resources/reanalysis-era5-pressure-levels\n",
      "2022-09-30 02:52:13,718 INFO Request is queued\n",
      "2022-09-30 02:52:14,975 INFO Request is running\n",
      "2022-09-30 02:52:22,871 INFO Request is completed\n",
      "2022-09-30 02:52:22,873 INFO Downloading https://download-0010-clone.copernicus-climate.eu/cache-compute-0010/cache/data9/adaptor.mars.internal-1664477540.8481917-31386-1-dfd2659f-695e-43af-b1e8-07222592397e.nc to g:/ERA5_RVOR/ERA5_RVOR_202110.nc (61.5M)\n",
      "2022-09-30 02:52:45,727 INFO Download rate 2.7M/s                                                                      \n"
     ]
    },
    {
     "name": "stdout",
     "output_type": "stream",
     "text": [
      "用时32.754353761672974\n"
     ]
    },
    {
     "name": "stderr",
     "output_type": "stream",
     "text": [
      "2022-09-30 02:52:46,221 INFO Welcome to the CDS\n",
      "2022-09-30 02:52:46,223 INFO Sending request to https://cds.climate.copernicus.eu/api/v2/resources/reanalysis-era5-pressure-levels\n",
      "2022-09-30 02:52:46,475 INFO Request is queued\n",
      "2022-09-30 02:52:47,728 INFO Request is running\n",
      "2022-09-30 02:52:55,628 INFO Request is completed\n",
      "2022-09-30 02:52:55,630 INFO Downloading https://download-0002-clone.copernicus-climate.eu/cache-compute-0002/cache/data1/adaptor.mars.internal-1664477573.4752607-17818-1-6938c1f4-ab04-420f-b551-61a98fe690a1.nc to g:/ERA5_RVOR/ERA5_RVOR_202111.nc (59.5M)\n",
      "2022-09-30 02:53:30,011 INFO Download rate 1.7M/s                                                                      \n"
     ]
    },
    {
     "name": "stdout",
     "output_type": "stream",
     "text": [
      "用时44.28279495239258\n"
     ]
    },
    {
     "name": "stderr",
     "output_type": "stream",
     "text": [
      "2022-09-30 02:53:30,504 INFO Welcome to the CDS\n",
      "2022-09-30 02:53:30,506 INFO Sending request to https://cds.climate.copernicus.eu/api/v2/resources/reanalysis-era5-pressure-levels\n",
      "2022-09-30 02:53:30,791 INFO Request is queued\n",
      "2022-09-30 02:53:32,042 INFO Request is running\n",
      "2022-09-30 02:53:45,252 INFO Request is completed\n",
      "2022-09-30 02:53:45,254 INFO Downloading https://download-0010-clone.copernicus-climate.eu/cache-compute-0010/cache/data0/adaptor.mars.internal-1664477618.2987216-13979-14-c99ea50e-455e-4565-85b7-990b37797ab5.nc to g:/ERA5_RVOR/ERA5_RVOR_202112.nc (61.5M)\n",
      "2022-09-30 02:54:09,556 INFO Download rate 2.5M/s                                                                      \n"
     ]
    },
    {
     "name": "stdout",
     "output_type": "stream",
     "text": [
      "用时39.54534435272217\n"
     ]
    }
   ],
   "source": [
    "import cdsapi\n",
    "import os\n",
    "import time\n",
    "\n",
    "c = cdsapi.Client()\n",
    "years = ('2001', '2002', '2003',\n",
    "            '2004', '2005', '2006',\n",
    "            '2007', '2008', '2009',\n",
    "            '2010', '2011', '2012',\n",
    "            '2013', '2014', '2015',\n",
    "            '2016', '2017', '2018',\n",
    "            '2019', '2020',\"2021\")\n",
    "months = ('01', '02', '03',\n",
    "            '04', '05', '06',\n",
    "            '07', '08', '09',\n",
    "            '10', '11', '12')\n",
    "for Y in years:\n",
    "    for M in months:\n",
    "        target_filename = \"g:/ERA5_RVOR/ERA5_RVOR_\" + Y + M + \".nc\"\n",
    "        if not os.path.isfile(target_filename):\n",
    "            start_time = time.time()\n",
    "            c.retrieve(\n",
    "            'reanalysis-era5-pressure-levels',\n",
    "            {\n",
    "                'product_type': 'reanalysis',\n",
    "                'variable': [\n",
    "                    'vorticity',\n",
    "                ],\n",
    "                'pressure_level': [\n",
    "                    '850',\n",
    "                ],\n",
    "                'grid':[0.5, 0.5],\n",
    "              #'area':[12, 72, 42, 128],\n",
    "                'year': Y,\n",
    "                'month': M,\n",
    "                 'day':[\n",
    "                            '01','02','03',\n",
    "                            '04','05','06',\n",
    "                            '07','08','09',\n",
    "                            '10','11','12',\n",
    "                            '13','14','15',\n",
    "                            '16','17','18',\n",
    "                            '19','20','21',\n",
    "                            '22','23','24',\n",
    "                            '25','26','27',\n",
    "                            '28','29','30',\n",
    "                            '31'\n",
    "                        ],\n",
    "                'time': [\n",
    "                    '00:00', '06:00', '12:00',\n",
    "                    '18:00',\n",
    "                ],\n",
    "                'format': 'netcdf',\n",
    "            },\n",
    "            target_filename)\n",
    "            end_time = time.time()\n",
    "            print(\"用时{}\".format(end_time-start_time))"
   ]
  },
  {
   "cell_type": "code",
   "execution_count": null,
   "id": "27ef9578",
   "metadata": {},
   "outputs": [],
   "source": []
  }
 ],
 "metadata": {
  "kernelspec": {
   "display_name": "Python 3",
   "language": "python",
   "name": "python3"
  },
  "language_info": {
   "codemirror_mode": {
    "name": "ipython",
    "version": 3
   },
   "file_extension": ".py",
   "mimetype": "text/x-python",
   "name": "python",
   "nbconvert_exporter": "python",
   "pygments_lexer": "ipython3",
   "version": "3.8.8"
  },
  "toc": {
   "base_numbering": 1,
   "nav_menu": {},
   "number_sections": true,
   "sideBar": true,
   "skip_h1_title": false,
   "title_cell": "Table of Contents",
   "title_sidebar": "Contents",
   "toc_cell": false,
   "toc_position": {},
   "toc_section_display": true,
   "toc_window_display": false
  }
 },
 "nbformat": 4,
 "nbformat_minor": 5
}
