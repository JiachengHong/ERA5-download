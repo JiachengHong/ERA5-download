{
 "cells": [
  {
   "cell_type": "code",
   "execution_count": 17,
   "id": "e4d55036",
   "metadata": {
    "ExecuteTime": {
     "end_time": "2022-09-29T16:29:37.825333Z",
     "start_time": "2022-09-29T08:22:33.133669Z"
    }
   },
   "outputs": [
    {
     "name": "stderr",
     "output_type": "stream",
     "text": [
      "2022-09-29 16:22:33,377 INFO Welcome to the CDS\n",
      "2022-09-29 16:22:33,378 INFO Sending request to https://cds.climate.copernicus.eu/api/v2/resources/reanalysis-era5-pressure-levels\n",
      "2022-09-29 16:22:33,623 INFO Request is queued\n",
      "2022-09-29 16:22:34,872 INFO Request is running\n",
      "2022-09-29 16:22:55,868 INFO Request is completed\n",
      "2022-09-29 16:22:55,870 INFO Downloading https://download-0014-clone.copernicus-climate.eu/cache-compute-0014/cache/data3/adaptor.mars.internal-1664439768.1344922-12873-1-302fe9aa-d994-44e3-ae17-dd179246fa78.nc to g:/ERA5_RH/ERA5_RH_201304.nc (119M)\n",
      "2022-09-29 16:24:40,096 ERROR Download interupted: HTTPSConnectionPool(host='download-0014-clone.copernicus-climate.eu', port=443): Read timed out.\n",
      "2022-09-29 16:24:40,097 ERROR Download incomplete, downloaded 71045120 byte(s) out of 124767668\n",
      "2022-09-29 16:24:40,098 WARNING Sleeping 10 seconds\n",
      "2022-09-29 16:24:50,107 WARNING Resuming download at byte 71045120\n",
      "2022-09-29 16:25:30,259 INFO Download rate 789.2K/s                                                                    \n"
     ]
    },
    {
     "name": "stdout",
     "output_type": "stream",
     "text": [
      "用时178.10269713401794\n"
     ]
    },
    {
     "name": "stderr",
     "output_type": "stream",
     "text": [
      "2022-09-29 16:25:31,489 INFO Welcome to the CDS\n",
      "2022-09-29 16:25:31,489 INFO Sending request to https://cds.climate.copernicus.eu/api/v2/resources/reanalysis-era5-pressure-levels\n",
      "2022-09-29 16:25:31,767 INFO Request is queued\n",
      "2022-09-29 16:25:33,016 INFO Request is running\n",
      "2022-09-29 16:25:54,079 INFO Request is completed\n",
      "2022-09-29 16:25:54,081 INFO Downloading https://download-0004-clone.copernicus-climate.eu/cache-compute-0004/cache/data1/adaptor.mars.internal-1664439946.368691-27345-3-72f55fa0-ca51-47cd-80b0-4e1b25cce105.nc to g:/ERA5_RH/ERA5_RH_201305.nc (123M)\n",
      "2022-09-29 16:27:26,984 INFO Download rate 1.3M/s                                                                      \n"
     ]
    },
    {
     "name": "stdout",
     "output_type": "stream",
     "text": [
      "用时116.67163968086243\n"
     ]
    },
    {
     "name": "stderr",
     "output_type": "stream",
     "text": [
      "2022-09-29 16:27:28,147 INFO Welcome to the CDS\n",
      "2022-09-29 16:27:28,148 INFO Sending request to https://cds.climate.copernicus.eu/api/v2/resources/reanalysis-era5-pressure-levels\n",
      "2022-09-29 16:27:28,424 INFO Request is queued\n",
      "2022-09-29 16:27:29,662 INFO Request is running\n",
      "2022-09-29 16:27:50,639 INFO Request is completed\n",
      "2022-09-29 16:27:50,640 INFO Downloading https://download-0005-clone.copernicus-climate.eu/cache-compute-0005/cache/data9/adaptor.mars.internal-1664440062.086964-8147-17-97cbe247-2af5-44c6-b91b-bafbd56bca20.nc to g:/ERA5_RH/ERA5_RH_201306.nc (119M)\n",
      "2022-09-29 16:29:23,706 INFO Download rate 1.3M/s                                                                      \n",
      "2022-09-29 16:29:27,100 WARNING DELETE https://cds.climate.copernicus.eu/api/v2/tasks/97cbe247-2af5-44c6-b91b-bafbd56bca20 returns 500 Internal Server Error\n"
     ]
    },
    {
     "name": "stdout",
     "output_type": "stream",
     "text": [
      "用时119.18048763275146\n"
     ]
    },
    {
     "name": "stderr",
     "output_type": "stream",
     "text": [
      "2022-09-29 16:29:28,145 INFO Welcome to the CDS\n",
      "2022-09-29 16:29:28,147 INFO Sending request to https://cds.climate.copernicus.eu/api/v2/resources/reanalysis-era5-pressure-levels\n",
      "2022-09-29 16:29:28,414 WARNING Recovering from HTTP error [500 Internal Server Error], attemps 0 of 500\n",
      "2022-09-29 16:29:28,416 WARNING Retrying in 120 seconds\n",
      "2022-09-29 16:31:28,429 INFO Retrying now...\n",
      "2022-09-29 16:31:29,419 INFO Request is queued\n",
      "2022-09-29 16:31:30,673 INFO Request is running\n",
      "2022-09-29 16:31:51,667 INFO Request is completed\n",
      "2022-09-29 16:31:51,670 INFO Downloading https://download-0005-clone.copernicus-climate.eu/cache-compute-0005/cache/data5/adaptor.mars.internal-1664440305.4146574-32207-3-9d92f052-8491-4c81-85bb-d7d501b47cb7.nc to g:/ERA5_RH/ERA5_RH_201307.nc (123M)\n",
      "2022-09-29 16:33:13,865 ERROR Download interupted: HTTPSConnectionPool(host='download-0005-clone.copernicus-climate.eu', port=443): Read timed out.\n",
      "2022-09-29 16:33:13,867 ERROR Download incomplete, downloaded 10951680 byte(s) out of 128926404\n",
      "2022-09-29 16:33:13,870 WARNING Sleeping 10 seconds\n",
      "2022-09-29 16:33:23,886 WARNING Resuming download at byte 10951680\n",
      "2022-09-29 16:34:14,435 INFO Download rate 881.9K/s                                                                    \n"
     ]
    },
    {
     "name": "stdout",
     "output_type": "stream",
     "text": [
      "用时288.32946610450745\n"
     ]
    },
    {
     "name": "stderr",
     "output_type": "stream",
     "text": [
      "2022-09-29 16:34:15,679 INFO Welcome to the CDS\n",
      "2022-09-29 16:34:15,680 INFO Sending request to https://cds.climate.copernicus.eu/api/v2/resources/reanalysis-era5-pressure-levels\n",
      "2022-09-29 16:34:15,935 INFO Request is queued\n",
      "2022-09-29 16:34:17,195 INFO Request is running\n",
      "2022-09-29 16:34:38,283 INFO Request is completed\n",
      "2022-09-29 16:34:38,285 INFO Downloading https://download-0018.copernicus-climate.eu/cache-compute-0018/cache/data4/adaptor.mars.internal-1664440470.8052137-6063-9-b03ca7ef-f6e0-4ae0-bdc7-a32ee3e83b95.nc to g:/ERA5_RH/ERA5_RH_201308.nc (123M)\n",
      "2022-09-29 16:35:56,882 INFO Download rate 1.6M/s                                                                      \n"
     ]
    },
    {
     "name": "stdout",
     "output_type": "stream",
     "text": [
      "用时102.29643273353577\n"
     ]
    },
    {
     "name": "stderr",
     "output_type": "stream",
     "text": [
      "2022-09-29 16:35:57,937 INFO Welcome to the CDS\n",
      "2022-09-29 16:35:57,937 INFO Sending request to https://cds.climate.copernicus.eu/api/v2/resources/reanalysis-era5-pressure-levels\n",
      "2022-09-29 16:35:58,173 INFO Request is queued\n",
      "2022-09-29 16:35:59,392 INFO Request is running\n",
      "2022-09-29 16:36:20,246 INFO Request is completed\n",
      "2022-09-29 16:36:20,248 INFO Downloading https://download-0007-clone.copernicus-climate.eu/cache-compute-0007/cache/data5/adaptor.mars.internal-1664440572.3107798-30598-12-4e17219c-62a9-4827-bbd9-1d827aff8f65.nc to g:/ERA5_RH/ERA5_RH_201309.nc (119M)\n",
      "2022-09-29 16:38:05,424 INFO Download rate 1.1M/s                                                                      \n"
     ]
    },
    {
     "name": "stdout",
     "output_type": "stream",
     "text": [
      "用时128.70500445365906\n"
     ]
    },
    {
     "name": "stderr",
     "output_type": "stream",
     "text": [
      "2022-09-29 16:38:06,681 INFO Welcome to the CDS\n",
      "2022-09-29 16:38:06,683 INFO Sending request to https://cds.climate.copernicus.eu/api/v2/resources/reanalysis-era5-pressure-levels\n",
      "2022-09-29 16:38:06,959 INFO Request is queued\n",
      "2022-09-29 16:38:08,218 INFO Request is running\n",
      "2022-09-29 16:44:37,831 INFO Request is queued\n",
      "2022-09-29 16:46:38,852 INFO Request is completed\n",
      "2022-09-29 16:46:38,853 INFO Downloading https://download-0012-clone.copernicus-climate.eu/cache-compute-0012/cache/data7/adaptor.mars.internal-1664441120.834142-27952-3-120e3645-3a0b-4994-b570-1d3af66a0a7c.nc to g:/ERA5_RH/ERA5_RH_201310.nc (123M)\n",
      "2022-09-29 16:47:23,912 INFO Download rate 2.7M/s                                                                      \n"
     ]
    },
    {
     "name": "stdout",
     "output_type": "stream",
     "text": [
      "用时557.731448173523\n"
     ]
    },
    {
     "name": "stderr",
     "output_type": "stream",
     "text": [
      "2022-09-29 16:47:24,414 INFO Welcome to the CDS\n",
      "2022-09-29 16:47:24,415 INFO Sending request to https://cds.climate.copernicus.eu/api/v2/resources/reanalysis-era5-pressure-levels\n",
      "2022-09-29 16:47:24,671 INFO Request is queued\n",
      "2022-09-29 16:47:25,940 INFO Request is running\n",
      "2022-09-29 16:47:47,016 INFO Request is completed\n",
      "2022-09-29 16:47:47,017 INFO Downloading https://download-0011-clone.copernicus-climate.eu/cache-compute-0011/cache/data1/adaptor.mars.internal-1664441263.1549149-26445-1-bfb5b7ca-d2e5-4567-95a8-e21811feef1c.nc to g:/ERA5_RH/ERA5_RH_201311.nc (119M)\n",
      "2022-09-29 16:48:55,618 INFO Download rate 1.7M/s                                                                      \n"
     ]
    },
    {
     "name": "stdout",
     "output_type": "stream",
     "text": [
      "用时92.52855443954468\n"
     ]
    },
    {
     "name": "stderr",
     "output_type": "stream",
     "text": [
      "2022-09-29 16:48:56,967 INFO Welcome to the CDS\n",
      "2022-09-29 16:48:56,968 INFO Sending request to https://cds.climate.copernicus.eu/api/v2/resources/reanalysis-era5-pressure-levels\n",
      "2022-09-29 16:48:57,254 INFO Request is queued\n",
      "2022-09-29 16:48:58,530 INFO Request is running\n",
      "2022-09-29 16:49:19,675 INFO Request is completed\n",
      "2022-09-29 16:49:19,677 INFO Downloading https://download-0017.copernicus-climate.eu/cache-compute-0017/cache/data3/adaptor.mars.internal-1664441354.3393917-15692-1-6074ba91-4d2d-494e-9703-dcc165ead0bc.nc to g:/ERA5_RH/ERA5_RH_201312.nc (123M)\n",
      "2022-09-29 16:50:33,092 INFO Download rate 1.7M/s                                                                      \n",
      "2022-09-29 16:50:34,118 INFO Welcome to the CDS\n"
     ]
    },
    {
     "name": "stdout",
     "output_type": "stream",
     "text": [
      "用时97.2167820930481\n"
     ]
    },
    {
     "name": "stderr",
     "output_type": "stream",
     "text": [
      "2022-09-29 16:50:34,119 INFO Sending request to https://cds.climate.copernicus.eu/api/v2/resources/reanalysis-era5-pressure-levels\n",
      "2022-09-29 16:50:34,328 INFO Request is queued\n",
      "2022-09-29 16:50:35,533 INFO Request is running\n",
      "2022-09-29 16:51:07,971 INFO Request is completed\n",
      "2022-09-29 16:51:07,972 INFO Downloading https://download-0019.copernicus-climate.eu/cache-compute-0019/cache/data5/adaptor.mars.internal-1664441461.119231-7760-2-db9098ac-e9c1-4144-9606-88ff117b59da.nc to g:/ERA5_RH/ERA5_RH_201401.nc (123M)\n",
      "2022-09-29 16:52:27,335 INFO Download rate 1.5M/s                                                                      \n"
     ]
    },
    {
     "name": "stdout",
     "output_type": "stream",
     "text": [
      "用时114.46063661575317\n"
     ]
    },
    {
     "name": "stderr",
     "output_type": "stream",
     "text": [
      "2022-09-29 16:52:28,628 INFO Welcome to the CDS\n",
      "2022-09-29 16:52:28,630 INFO Sending request to https://cds.climate.copernicus.eu/api/v2/resources/reanalysis-era5-pressure-levels\n",
      "2022-09-29 16:52:28,894 INFO Request is queued\n",
      "2022-09-29 16:52:30,153 INFO Request is running\n",
      "2022-09-29 16:52:51,258 INFO Request is completed\n",
      "2022-09-29 16:52:51,261 INFO Downloading https://download-0019.copernicus-climate.eu/cache-compute-0019/cache/data5/adaptor.mars.internal-1664441565.0815835-8438-2-4a46b20b-928d-4b37-8949-d5e42e7a4734.nc to g:/ERA5_RH/ERA5_RH_201402.nc (111.1M)\n",
      "2022-09-29 16:54:29,488 INFO Download rate 1.1M/s                                                                      \n"
     ]
    },
    {
     "name": "stdout",
     "output_type": "stream",
     "text": [
      "用时122.0369942188263\n"
     ]
    },
    {
     "name": "stderr",
     "output_type": "stream",
     "text": [
      "2022-09-29 16:54:30,641 INFO Welcome to the CDS\n",
      "2022-09-29 16:54:30,643 INFO Sending request to https://cds.climate.copernicus.eu/api/v2/resources/reanalysis-era5-pressure-levels\n",
      "2022-09-29 16:54:30,896 INFO Request is queued\n",
      "2022-09-29 16:54:32,133 INFO Request is running\n",
      "2022-09-29 16:54:53,124 INFO Request is completed\n",
      "2022-09-29 16:54:53,125 INFO Downloading https://download-0011-clone.copernicus-climate.eu/cache-compute-0011/cache/data1/adaptor.mars.internal-1664441686.6722484-30261-1-8953a854-9ddb-4abb-bd6f-f6c9c16f5a82.nc to g:/ERA5_RH/ERA5_RH_201403.nc (123M)\n",
      "2022-09-29 16:56:08,818 INFO Download rate 1.6M/s                                                                      \n"
     ]
    },
    {
     "name": "stdout",
     "output_type": "stream",
     "text": [
      "用时99.38440608978271\n"
     ]
    },
    {
     "name": "stderr",
     "output_type": "stream",
     "text": [
      "2022-09-29 16:56:10,042 INFO Welcome to the CDS\n",
      "2022-09-29 16:56:10,042 INFO Sending request to https://cds.climate.copernicus.eu/api/v2/resources/reanalysis-era5-pressure-levels\n",
      "2022-09-29 16:56:10,296 INFO Request is queued\n",
      "2022-09-29 16:56:11,548 INFO Request is running\n",
      "2022-09-29 16:56:32,597 INFO Request is completed\n",
      "2022-09-29 16:56:32,598 INFO Downloading https://download-0003-clone.copernicus-climate.eu/cache-compute-0003/cache/data4/adaptor.mars.internal-1664441786.2228875-2854-3-b9211806-9bcf-4ecb-8502-bae0fcba746f.nc to g:/ERA5_RH/ERA5_RH_201404.nc (119M)\n",
      "2022-09-29 16:57:46,969 INFO Download rate 1.6M/s                                                                      \n"
     ]
    },
    {
     "name": "stdout",
     "output_type": "stream",
     "text": [
      "用时98.20486664772034\n"
     ]
    },
    {
     "name": "stderr",
     "output_type": "stream",
     "text": [
      "2022-09-29 16:57:48,242 INFO Welcome to the CDS\n",
      "2022-09-29 16:57:48,243 INFO Sending request to https://cds.climate.copernicus.eu/api/v2/resources/reanalysis-era5-pressure-levels\n",
      "2022-09-29 16:57:48,487 INFO Request is queued\n",
      "2022-09-29 16:57:49,736 INFO Request is running\n",
      "2022-09-29 16:58:10,772 INFO Request is completed\n",
      "2022-09-29 16:58:10,773 INFO Downloading https://download-0014-clone.copernicus-climate.eu/cache-compute-0014/cache/data1/adaptor.mars.internal-1664441884.2367847-22803-6-391d10c0-44f2-4fe6-b573-046669f2e30e.nc to g:/ERA5_RH/ERA5_RH_201405.nc (123M)\n",
      "2022-09-29 16:59:44,631 INFO Download rate 1.3M/s                                                                      \n"
     ]
    },
    {
     "name": "stdout",
     "output_type": "stream",
     "text": [
      "用时117.49058270454407\n"
     ]
    },
    {
     "name": "stderr",
     "output_type": "stream",
     "text": [
      "2022-09-29 16:59:45,711 INFO Welcome to the CDS\n",
      "2022-09-29 16:59:45,712 INFO Sending request to https://cds.climate.copernicus.eu/api/v2/resources/reanalysis-era5-pressure-levels\n",
      "2022-09-29 16:59:45,949 INFO Request is queued\n",
      "2022-09-29 16:59:47,164 INFO Request is running\n",
      "2022-09-29 17:00:08,070 INFO Request is completed\n",
      "2022-09-29 17:00:08,072 INFO Downloading https://download-0018.copernicus-climate.eu/cache-compute-0018/cache/data7/adaptor.mars.internal-1664442001.911549-26227-6-9b48cb56-aa0f-41ab-932a-ebed684914ce.nc to g:/ERA5_RH/ERA5_RH_201406.nc (119M)\n",
      "2022-09-29 17:02:51,059 ERROR Download interupted: HTTPSConnectionPool(host='download-0018.copernicus-climate.eu', port=443): Read timed out.\n",
      "2022-09-29 17:02:51,060 ERROR Download incomplete, downloaded 122459136 byte(s) out of 124767668\n",
      "2022-09-29 17:02:51,061 WARNING Sleeping 10 seconds\n",
      "2022-09-29 17:03:01,068 WARNING Resuming download at byte 122459136\n",
      "2022-09-29 17:03:04,492 INFO Download rate 690.6K/s                                                                    \n"
     ]
    },
    {
     "name": "stdout",
     "output_type": "stream",
     "text": [
      "用时199.92241883277893\n"
     ]
    },
    {
     "name": "stderr",
     "output_type": "stream",
     "text": [
      "2022-09-29 17:03:05,651 INFO Welcome to the CDS\n",
      "2022-09-29 17:03:05,652 INFO Sending request to https://cds.climate.copernicus.eu/api/v2/resources/reanalysis-era5-pressure-levels\n",
      "2022-09-29 17:03:05,907 INFO Request is queued\n",
      "2022-09-29 17:03:07,149 INFO Request is running\n",
      "2022-09-29 17:03:28,143 INFO Request is completed\n",
      "2022-09-29 17:03:28,146 INFO Downloading https://download-0009-clone.copernicus-climate.eu/cache-compute-0009/cache/data4/adaptor.mars.internal-1664442201.7939277-12944-8-0af06ad7-1286-4aa2-9b68-5692cee8a5f3.nc to g:/ERA5_RH/ERA5_RH_201407.nc (123M)\n",
      "2022-09-29 17:04:51,360 INFO Download rate 1.5M/s                                                                      \n"
     ]
    },
    {
     "name": "stdout",
     "output_type": "stream",
     "text": [
      "用时106.86182689666748\n"
     ]
    },
    {
     "name": "stderr",
     "output_type": "stream",
     "text": [
      "2022-09-29 17:04:52,507 INFO Welcome to the CDS\n",
      "2022-09-29 17:04:52,509 INFO Sending request to https://cds.climate.copernicus.eu/api/v2/resources/reanalysis-era5-pressure-levels\n",
      "2022-09-29 17:04:52,743 INFO Request is queued\n",
      "2022-09-29 17:04:53,975 INFO Request is running\n",
      "2022-09-29 17:05:14,924 INFO Request is completed\n",
      "2022-09-29 17:05:14,927 INFO Downloading https://download-0016.copernicus-climate.eu/cache-compute-0016/cache/data2/adaptor.mars.internal-1664442308.0009053-27197-5-3549d6fb-047e-406e-ac21-b27a551194c0.nc to g:/ERA5_RH/ERA5_RH_201408.nc (123M)\n",
      "2022-09-29 17:08:17,814 INFO Download rate 688.4K/s                                                                    \n"
     ]
    },
    {
     "name": "stdout",
     "output_type": "stream",
     "text": [
      "用时206.4013967514038\n"
     ]
    },
    {
     "name": "stderr",
     "output_type": "stream",
     "text": [
      "2022-09-29 17:08:18,902 INFO Welcome to the CDS\n",
      "2022-09-29 17:08:18,903 INFO Sending request to https://cds.climate.copernicus.eu/api/v2/resources/reanalysis-era5-pressure-levels\n",
      "2022-09-29 17:08:19,128 INFO Request is queued\n",
      "2022-09-29 17:08:20,356 INFO Request is running\n",
      "2022-09-29 17:08:41,377 INFO Request is completed\n",
      "2022-09-29 17:08:41,379 INFO Downloading https://download-0021.copernicus-climate.eu/cache-compute-0021/cache/data6/adaptor.mars.internal-1664442513.3459804-24950-10-711282e5-0984-45a9-954e-677233ecf5b0.nc to g:/ERA5_RH/ERA5_RH_201409.nc (119M)\n",
      "2022-09-29 17:12:11,404 INFO Download rate 580.1K/s                                                                    \n"
     ]
    },
    {
     "name": "stdout",
     "output_type": "stream",
     "text": [
      "用时233.69643473625183\n"
     ]
    },
    {
     "name": "stderr",
     "output_type": "stream",
     "text": [
      "2022-09-29 17:12:12,626 INFO Welcome to the CDS\n",
      "2022-09-29 17:12:12,627 INFO Sending request to https://cds.climate.copernicus.eu/api/v2/resources/reanalysis-era5-pressure-levels\n",
      "2022-09-29 17:12:12,884 INFO Request is queued\n",
      "2022-09-29 17:12:14,137 INFO Request is running\n",
      "2022-09-29 17:12:35,159 INFO Request is completed\n",
      "2022-09-29 17:12:35,162 INFO Downloading https://download-0020.copernicus-climate.eu/cache-compute-0020/cache/data6/adaptor.mars.internal-1664442747.882158-32758-10-f748108c-f185-4e99-a207-06dbb174d68f.nc to g:/ERA5_RH/ERA5_RH_201410.nc (123M)\n",
      "2022-09-29 17:15:19,714 INFO Download rate 765.1K/s                                                                    \n"
     ]
    },
    {
     "name": "stdout",
     "output_type": "stream",
     "text": [
      "用时188.2458734512329\n"
     ]
    },
    {
     "name": "stderr",
     "output_type": "stream",
     "text": [
      "2022-09-29 17:15:20,849 INFO Welcome to the CDS\n",
      "2022-09-29 17:15:20,849 INFO Sending request to https://cds.climate.copernicus.eu/api/v2/resources/reanalysis-era5-pressure-levels\n",
      "2022-09-29 17:15:21,114 INFO Request is queued\n",
      "2022-09-29 17:15:22,346 INFO Request is running\n",
      "2022-09-29 17:15:43,287 INFO Request is completed\n",
      "2022-09-29 17:15:43,288 INFO Downloading https://download-0013-clone.copernicus-climate.eu/cache-compute-0013/cache/data2/adaptor.mars.internal-1664442935.8120391-27366-11-c5d0da77-f656-44eb-8c65-545171f47fa8.nc to g:/ERA5_RH/ERA5_RH_201411.nc (119M)\n",
      "2022-09-29 17:18:17,952 INFO Download rate 787.8K/s                                                                    \n"
     ]
    },
    {
     "name": "stdout",
     "output_type": "stream",
     "text": [
      "用时178.34844493865967\n"
     ]
    },
    {
     "name": "stderr",
     "output_type": "stream",
     "text": [
      "2022-09-29 17:18:19,225 INFO Welcome to the CDS\n",
      "2022-09-29 17:18:19,226 INFO Sending request to https://cds.climate.copernicus.eu/api/v2/resources/reanalysis-era5-pressure-levels\n",
      "2022-09-29 17:18:19,520 INFO Request is queued\n",
      "2022-09-29 17:18:20,784 INFO Request is running\n",
      "2022-09-29 17:18:41,877 INFO Request is completed\n",
      "2022-09-29 17:18:41,879 INFO Downloading https://download-0020.copernicus-climate.eu/cache-compute-0020/cache/data3/adaptor.mars.internal-1664443113.5177128-32224-14-4339a37a-42c5-448e-8e4d-80941fbeaa12.nc to g:/ERA5_RH/ERA5_RH_201412.nc (123M)\n",
      "2022-09-29 17:21:45,139 INFO Download rate 687K/s                                                                      \n"
     ]
    },
    {
     "name": "stdout",
     "output_type": "stream",
     "text": [
      "用时207.07267236709595\n"
     ]
    },
    {
     "name": "stderr",
     "output_type": "stream",
     "text": [
      "2022-09-29 17:21:46,277 INFO Welcome to the CDS\n",
      "2022-09-29 17:21:46,278 INFO Sending request to https://cds.climate.copernicus.eu/api/v2/resources/reanalysis-era5-pressure-levels\n",
      "2022-09-29 17:21:46,561 INFO Request is queued\n",
      "2022-09-29 17:21:47,802 INFO Request is running\n",
      "2022-09-29 17:22:08,777 INFO Request is completed\n",
      "2022-09-29 17:22:08,778 INFO Downloading https://download-0014-clone.copernicus-climate.eu/cache-compute-0014/cache/data8/adaptor.mars.internal-1664443321.974747-23012-13-1bd3abb0-5d4b-426d-8258-35b549de4c30.nc to g:/ERA5_RH/ERA5_RH_201501.nc (123M)\n",
      "2022-09-29 17:24:31,915 INFO Download rate 879.6K/s                                                                    \n"
     ]
    },
    {
     "name": "stdout",
     "output_type": "stream",
     "text": [
      "用时166.8846890926361\n"
     ]
    },
    {
     "name": "stderr",
     "output_type": "stream",
     "text": [
      "2022-09-29 17:24:33,186 INFO Welcome to the CDS\n",
      "2022-09-29 17:24:33,186 INFO Sending request to https://cds.climate.copernicus.eu/api/v2/resources/reanalysis-era5-pressure-levels\n",
      "2022-09-29 17:24:33,448 INFO Request is queued\n",
      "2022-09-29 17:24:34,703 INFO Request is running\n",
      "2022-09-29 17:24:55,808 INFO Request is completed\n",
      "2022-09-29 17:24:55,809 INFO Downloading https://download-0013-clone.copernicus-climate.eu/cache-compute-0013/cache/data8/adaptor.mars.internal-1664443487.433883-24793-17-9a324513-414d-4de4-b9fd-984d31f3cb58.nc to g:/ERA5_RH/ERA5_RH_201502.nc (111.1M)\n",
      "2022-09-29 17:26:34,653 INFO Download rate 1.1M/s                                                                      \n"
     ]
    },
    {
     "name": "stdout",
     "output_type": "stream",
     "text": [
      "用时122.59549355506897\n"
     ]
    },
    {
     "name": "stderr",
     "output_type": "stream",
     "text": [
      "2022-09-29 17:26:35,753 INFO Welcome to the CDS\n",
      "2022-09-29 17:26:35,754 INFO Sending request to https://cds.climate.copernicus.eu/api/v2/resources/reanalysis-era5-pressure-levels\n",
      "2022-09-29 17:26:35,978 INFO Request is queued\n",
      "2022-09-29 17:26:37,212 INFO Request is running\n",
      "2022-09-29 17:26:58,145 INFO Request is completed\n",
      "2022-09-29 17:26:58,146 INFO Downloading https://download-0015-clone.copernicus-climate.eu/cache-compute-0015/cache/data8/adaptor.mars.internal-1664443611.2121108-5575-15-cc899a0f-0afe-4850-8556-cfba086a2a6d.nc to g:/ERA5_RH/ERA5_RH_201503.nc (123M)\n",
      "2022-09-29 17:28:47,487 INFO Download rate 1.1M/s                                                                      \n"
     ]
    },
    {
     "name": "stdout",
     "output_type": "stream",
     "text": [
      "用时133.0398964881897\n"
     ]
    },
    {
     "name": "stderr",
     "output_type": "stream",
     "text": [
      "2022-09-29 17:28:48,836 INFO Welcome to the CDS\n",
      "2022-09-29 17:28:48,837 INFO Sending request to https://cds.climate.copernicus.eu/api/v2/resources/reanalysis-era5-pressure-levels\n",
      "2022-09-29 17:28:49,111 INFO Request is queued\n",
      "2022-09-29 17:28:50,383 INFO Request is running\n",
      "2022-09-29 17:29:11,530 INFO Request is completed\n",
      "2022-09-29 17:29:11,532 INFO Downloading https://download-0001-clone.copernicus-climate.eu/cache-compute-0001/cache/data0/adaptor.mars.internal-1664443744.3225086-13152-11-841a313b-6374-4902-a3fc-dc2d722fc339.nc to g:/ERA5_RH/ERA5_RH_201504.nc (119M)\n",
      "2022-09-29 17:30:46,376 INFO Download rate 1.3M/s                                                                      \n"
     ]
    },
    {
     "name": "stdout",
     "output_type": "stream",
     "text": [
      "用时118.72295141220093\n"
     ]
    },
    {
     "name": "stderr",
     "output_type": "stream",
     "text": [
      "2022-09-29 17:30:47,525 INFO Welcome to the CDS\n",
      "2022-09-29 17:30:47,527 INFO Sending request to https://cds.climate.copernicus.eu/api/v2/resources/reanalysis-era5-pressure-levels\n",
      "2022-09-29 17:30:47,766 INFO Request is queued\n",
      "2022-09-29 17:30:48,996 INFO Request is running\n",
      "2022-09-29 17:31:09,974 INFO Request is completed\n",
      "2022-09-29 17:31:09,976 INFO Downloading https://download-0006-clone.copernicus-climate.eu/cache-compute-0006/cache/data3/adaptor.mars.internal-1664443862.388688-23385-5-d704ca44-d331-41b3-a3cc-655796f6159a.nc to g:/ERA5_RH/ERA5_RH_201505.nc (123M)\n",
      "2022-09-29 17:32:37,326 INFO Download rate 1.4M/s                                                                      \n"
     ]
    },
    {
     "name": "stdout",
     "output_type": "stream",
     "text": [
      "用时110.98563838005066\n"
     ]
    },
    {
     "name": "stderr",
     "output_type": "stream",
     "text": [
      "2022-09-29 17:32:38,524 INFO Welcome to the CDS\n",
      "2022-09-29 17:32:38,526 INFO Sending request to https://cds.climate.copernicus.eu/api/v2/resources/reanalysis-era5-pressure-levels\n",
      "2022-09-29 17:32:38,774 INFO Request is queued\n",
      "2022-09-29 17:32:40,025 INFO Request is running\n",
      "2022-09-29 17:33:01,039 INFO Request is completed\n",
      "2022-09-29 17:33:01,041 INFO Downloading https://download-0016.copernicus-climate.eu/cache-compute-0016/cache/data3/adaptor.mars.internal-1664443973.4303136-1193-15-ccaacf1f-d127-42d9-ad80-41e70ebc3711.nc to g:/ERA5_RH/ERA5_RH_201506.nc (119M)\n",
      "2022-09-29 17:33:56,771 INFO Download rate 2.1M/s                                                                      \n"
     ]
    },
    {
     "name": "stdout",
     "output_type": "stream",
     "text": [
      "用时78.7288281917572\n"
     ]
    },
    {
     "name": "stderr",
     "output_type": "stream",
     "text": [
      "2022-09-29 17:33:57,251 INFO Welcome to the CDS\n",
      "2022-09-29 17:33:57,252 INFO Sending request to https://cds.climate.copernicus.eu/api/v2/resources/reanalysis-era5-pressure-levels\n",
      "2022-09-29 17:33:57,495 INFO Request is queued\n",
      "2022-09-29 17:33:58,736 INFO Request is running\n",
      "2022-09-29 17:34:19,758 INFO Request is completed\n",
      "2022-09-29 17:34:19,759 INFO Downloading https://download-0021.copernicus-climate.eu/cache-compute-0021/cache/data1/adaptor.mars.internal-1664444051.7155035-25433-17-343b8d95-0178-4c0d-84bd-514713b30acf.nc to g:/ERA5_RH/ERA5_RH_201507.nc (123M)\n",
      "2022-09-29 17:35:55,245 INFO Download rate 1.3M/s                                                                      \n"
     ]
    },
    {
     "name": "stdout",
     "output_type": "stream",
     "text": [
      "用时119.1497552394867\n"
     ]
    },
    {
     "name": "stderr",
     "output_type": "stream",
     "text": [
      "2022-09-29 17:35:56,392 INFO Welcome to the CDS\n",
      "2022-09-29 17:35:56,393 INFO Sending request to https://cds.climate.copernicus.eu/api/v2/resources/reanalysis-era5-pressure-levels\n",
      "2022-09-29 17:35:56,636 INFO Request is queued\n",
      "2022-09-29 17:35:57,873 INFO Request is running\n",
      "2022-09-29 17:36:18,871 INFO Request is completed\n",
      "2022-09-29 17:36:18,872 INFO Downloading https://download-0002-clone.copernicus-climate.eu/cache-compute-0002/cache/data0/adaptor.mars.internal-1664444172.0276048-27671-1-739dd634-80c0-4571-aa6c-dbcc39a70eab.nc to g:/ERA5_RH/ERA5_RH_201508.nc (123M)\n",
      "2022-09-29 17:37:49,719 INFO Download rate 1.4M/s                                                                      \n"
     ]
    },
    {
     "name": "stdout",
     "output_type": "stream",
     "text": [
      "用时114.59636378288269\n"
     ]
    },
    {
     "name": "stderr",
     "output_type": "stream",
     "text": [
      "2022-09-29 17:37:51,020 INFO Welcome to the CDS\n",
      "2022-09-29 17:37:51,022 INFO Sending request to https://cds.climate.copernicus.eu/api/v2/resources/reanalysis-era5-pressure-levels\n",
      "2022-09-29 17:37:51,292 INFO Request is queued\n",
      "2022-09-29 17:37:52,570 INFO Request is running\n",
      "2022-09-29 17:38:13,703 INFO Request is completed\n",
      "2022-09-29 17:38:13,704 INFO Downloading https://download-0006-clone.copernicus-climate.eu/cache-compute-0006/cache/data2/adaptor.mars.internal-1664444285.404702-31879-2-830fe842-0faf-4a93-8564-314e71e4af97.nc to g:/ERA5_RH/ERA5_RH_201509.nc (119M)\n",
      "2022-09-29 17:39:15,644 INFO Download rate 1.9M/s                                                                      \n"
     ]
    },
    {
     "name": "stdout",
     "output_type": "stream",
     "text": [
      "用时85.14715147018433\n"
     ]
    },
    {
     "name": "stderr",
     "output_type": "stream",
     "text": [
      "2022-09-29 17:39:16,168 INFO Welcome to the CDS\n",
      "2022-09-29 17:39:16,169 INFO Sending request to https://cds.climate.copernicus.eu/api/v2/resources/reanalysis-era5-pressure-levels\n",
      "2022-09-29 17:39:16,436 INFO Request is queued\n",
      "2022-09-29 17:39:17,699 INFO Request is running\n",
      "2022-09-29 17:39:38,823 INFO Request is completed\n",
      "2022-09-29 17:39:38,826 INFO Downloading https://download-0013-clone.copernicus-climate.eu/cache-compute-0013/cache/data8/adaptor.mars.internal-1664444372.9367378-24932-17-aa1c8cec-2a0c-46ff-9185-b5a56fd93bef.nc to g:/ERA5_RH/ERA5_RH_201510.nc (123M)\n",
      "2022-09-29 19:35:48,684 INFO Download rate 18.1K/s                                                                     \n"
     ]
    },
    {
     "name": "stdout",
     "output_type": "stream",
     "text": [
      "用时6993.777027606964\n"
     ]
    },
    {
     "name": "stderr",
     "output_type": "stream",
     "text": [
      "2022-09-29 19:35:49,916 INFO Welcome to the CDS\n",
      "2022-09-29 19:35:49,916 INFO Sending request to https://cds.climate.copernicus.eu/api/v2/resources/reanalysis-era5-pressure-levels\n",
      "2022-09-29 19:35:50,151 INFO Request is queued\n",
      "2022-09-29 19:35:51,390 INFO Request is running\n",
      "2022-09-29 19:36:12,364 INFO Request is completed\n",
      "2022-09-29 19:36:12,367 INFO Downloading https://download-0001-clone.copernicus-climate.eu/cache-compute-0001/cache/data0/adaptor.mars.internal-1664451366.35482-9734-17-6b164eaf-b8a9-4e61-9a19-bca78d751f05.nc to g:/ERA5_RH/ERA5_RH_201511.nc (119M)\n",
      "2022-09-29 19:37:48,621 INFO Download rate 1.2M/s                                                                      \n"
     ]
    },
    {
     "name": "stdout",
     "output_type": "stream",
     "text": [
      "用时120.02143478393555\n"
     ]
    },
    {
     "name": "stderr",
     "output_type": "stream",
     "text": [
      "2022-09-29 19:37:49,981 INFO Welcome to the CDS\n",
      "2022-09-29 19:37:49,984 INFO Sending request to https://cds.climate.copernicus.eu/api/v2/resources/reanalysis-era5-pressure-levels\n",
      "2022-09-29 19:37:50,321 INFO Request is queued\n",
      "2022-09-29 19:37:51,599 INFO Request is running\n",
      "2022-09-29 19:38:12,790 INFO Request is completed\n",
      "2022-09-29 19:38:12,791 INFO Downloading https://download-0010-clone.copernicus-climate.eu/cache-compute-0010/cache/data4/adaptor.mars.internal-1664451486.0570252-4820-13-0c0cedfc-f4fe-4ba9-8157-fda218a7062f.nc to g:/ERA5_RH/ERA5_RH_201512.nc (123M)\n",
      "2022-09-29 19:40:01,327 INFO Download rate 1.1M/s                                                                      \n"
     ]
    },
    {
     "name": "stdout",
     "output_type": "stream",
     "text": [
      "用时132.5714499950409\n"
     ]
    },
    {
     "name": "stderr",
     "output_type": "stream",
     "text": [
      "2022-09-29 19:40:02,519 INFO Welcome to the CDS\n",
      "2022-09-29 19:40:02,520 INFO Sending request to https://cds.climate.copernicus.eu/api/v2/resources/reanalysis-era5-pressure-levels\n",
      "2022-09-29 19:40:02,819 INFO Request is queued\n",
      "2022-09-29 19:40:04,066 INFO Request is running\n",
      "2022-09-29 19:40:17,233 INFO Request is completed\n",
      "2022-09-29 19:40:17,236 INFO Downloading https://download-0008-clone.copernicus-climate.eu/cache-compute-0008/cache/data4/adaptor.mars.internal-1664451615.8639593-21218-4-89c85de0-8c8a-43c4-8b65-81495e6668ec.nc to g:/ERA5_RH/ERA5_RH_201601.nc (123M)\n",
      "2022-09-29 19:42:17,901 INFO Download rate 1M/s                                                                        \n"
     ]
    },
    {
     "name": "stdout",
     "output_type": "stream",
     "text": [
      "用时136.609361410141\n"
     ]
    },
    {
     "name": "stderr",
     "output_type": "stream",
     "text": [
      "2022-09-29 19:42:19,134 INFO Welcome to the CDS\n",
      "2022-09-29 19:42:19,135 INFO Sending request to https://cds.climate.copernicus.eu/api/v2/resources/reanalysis-era5-pressure-levels\n",
      "2022-09-29 19:42:19,417 INFO Request is queued\n",
      "2022-09-29 19:42:20,670 INFO Request is running\n",
      "2022-09-29 19:42:33,845 INFO Request is completed\n",
      "2022-09-29 19:42:33,846 INFO Downloading https://download-0004-clone.copernicus-climate.eu/cache-compute-0004/cache/data9/adaptor.mars.internal-1664451752.1881037-9032-14-b12b958d-7bc7-4725-85dc-c89594ff20d2.nc to g:/ERA5_RH/ERA5_RH_201602.nc (115M)\n",
      "2022-09-29 19:44:22,927 INFO Download rate 1.1M/s                                                                      \n"
     ]
    },
    {
     "name": "stdout",
     "output_type": "stream",
     "text": [
      "用时125.00847053527832\n"
     ]
    },
    {
     "name": "stderr",
     "output_type": "stream",
     "text": [
      "2022-09-29 19:44:24,134 INFO Welcome to the CDS\n",
      "2022-09-29 19:44:24,136 INFO Sending request to https://cds.climate.copernicus.eu/api/v2/resources/reanalysis-era5-pressure-levels\n",
      "2022-09-29 19:44:24,410 INFO Request is queued\n",
      "2022-09-29 19:44:25,652 INFO Request is running\n",
      "2022-09-29 19:44:46,653 INFO Request is completed\n",
      "2022-09-29 19:44:46,654 INFO Downloading https://download-0004-clone.copernicus-climate.eu/cache-compute-0004/cache/data3/adaptor.mars.internal-1664451879.3981292-9393-15-1c7304a6-5912-4700-a4fb-350947d7b805.nc to g:/ERA5_RH/ERA5_RH_201603.nc (123M)\n",
      "2022-09-29 19:46:49,259 INFO Download rate 1M/s                                                                        \n"
     ]
    },
    {
     "name": "stdout",
     "output_type": "stream",
     "text": [
      "用时146.33383679389954\n"
     ]
    },
    {
     "name": "stderr",
     "output_type": "stream",
     "text": [
      "2022-09-29 19:46:50,479 INFO Welcome to the CDS\n",
      "2022-09-29 19:46:50,481 INFO Sending request to https://cds.climate.copernicus.eu/api/v2/resources/reanalysis-era5-pressure-levels\n",
      "2022-09-29 19:46:50,736 INFO Request is queued\n",
      "2022-09-29 19:46:51,992 INFO Request is running\n",
      "2022-09-29 19:47:13,015 INFO Request is completed\n",
      "2022-09-29 19:47:13,016 INFO Downloading https://download-0021.copernicus-climate.eu/cache-compute-0021/cache/data5/adaptor.mars.internal-1664452026.1156142-25226-14-9dc2711a-530c-48bb-9628-1f930be6988b.nc to g:/ERA5_RH/ERA5_RH_201604.nc (119M)\n",
      "2022-09-29 19:49:50,701 INFO Download rate 772.7K/s                                                                    \n"
     ]
    },
    {
     "name": "stdout",
     "output_type": "stream",
     "text": [
      "用时181.2871322631836\n"
     ]
    },
    {
     "name": "stderr",
     "output_type": "stream",
     "text": [
      "2022-09-29 19:49:51,730 INFO Welcome to the CDS\n",
      "2022-09-29 19:49:51,731 INFO Sending request to https://cds.climate.copernicus.eu/api/v2/resources/reanalysis-era5-pressure-levels\n",
      "2022-09-29 19:49:51,949 INFO Request is queued\n",
      "2022-09-29 19:49:53,163 INFO Request is running\n",
      "2022-09-29 19:50:13,996 INFO Request is completed\n",
      "2022-09-29 19:50:13,998 INFO Downloading https://download-0011-clone.copernicus-climate.eu/cache-compute-0011/cache/data2/adaptor.mars.internal-1664452210.8781445-16465-2-d99331ba-c184-4770-bfc8-e49a2be0617e.nc to g:/ERA5_RH/ERA5_RH_201605.nc (123M)\n",
      "2022-09-29 19:51:58,664 INFO Download rate 1.2M/s                                                                      \n",
      "2022-09-29 19:51:59,718 INFO Welcome to the CDS\n"
     ]
    },
    {
     "name": "stdout",
     "output_type": "stream",
     "text": [
      "用时127.98513293266296\n"
     ]
    },
    {
     "name": "stderr",
     "output_type": "stream",
     "text": [
      "2022-09-29 19:51:59,720 INFO Sending request to https://cds.climate.copernicus.eu/api/v2/resources/reanalysis-era5-pressure-levels\n",
      "2022-09-29 19:51:59,957 INFO Request is queued\n",
      "2022-09-29 19:52:01,182 INFO Request is running\n",
      "2022-09-29 19:52:22,065 INFO Request is completed\n",
      "2022-09-29 19:52:22,066 INFO Downloading https://download-0004-clone.copernicus-climate.eu/cache-compute-0004/cache/data5/adaptor.mars.internal-1664452335.957237-24099-2-d9fb0c47-4bd2-4ec1-b7f4-2b78561d5f61.nc to g:/ERA5_RH/ERA5_RH_201606.nc (119M)\n",
      "2022-09-29 19:54:03,910 INFO Download rate 1.2M/s                                                                      \n"
     ]
    },
    {
     "name": "stdout",
     "output_type": "stream",
     "text": [
      "用时125.43471646308899\n"
     ]
    },
    {
     "name": "stderr",
     "output_type": "stream",
     "text": [
      "2022-09-29 19:54:05,197 INFO Welcome to the CDS\n",
      "2022-09-29 19:54:05,198 INFO Sending request to https://cds.climate.copernicus.eu/api/v2/resources/reanalysis-era5-pressure-levels\n",
      "2022-09-29 19:54:05,476 INFO Request is queued\n",
      "2022-09-29 19:54:06,740 INFO Request is running\n",
      "2022-09-29 19:54:27,841 INFO Request is completed\n",
      "2022-09-29 19:54:27,844 INFO Downloading https://download-0012-clone.copernicus-climate.eu/cache-compute-0012/cache/data4/adaptor.mars.internal-1664452461.2343557-903-19-d7252ed5-046e-44ef-9d38-a350bd70ed8e.nc to g:/ERA5_RH/ERA5_RH_201607.nc (123M)\n",
      "2022-09-29 19:56:21,257 INFO Download rate 1.1M/s                                                                      \n"
     ]
    },
    {
     "name": "stdout",
     "output_type": "stream",
     "text": [
      "用时137.27912092208862\n"
     ]
    },
    {
     "name": "stderr",
     "output_type": "stream",
     "text": [
      "2022-09-29 19:56:22,469 INFO Welcome to the CDS\n",
      "2022-09-29 19:56:22,470 INFO Sending request to https://cds.climate.copernicus.eu/api/v2/resources/reanalysis-era5-pressure-levels\n",
      "2022-09-29 19:56:22,760 INFO Request is queued\n",
      "2022-09-29 19:56:24,009 INFO Request is running\n",
      "2022-09-29 19:56:45,057 INFO Request is completed\n",
      "2022-09-29 19:56:45,060 INFO Downloading https://download-0014-clone.copernicus-climate.eu/cache-compute-0014/cache/data2/adaptor.mars.internal-1664452597.9108603-31660-16-873de835-1673-4ba6-a225-310b1a4a6733.nc to g:/ERA5_RH/ERA5_RH_201608.nc (123M)\n",
      "2022-09-29 19:58:55,519 INFO Download rate 965.1K/s                                                                    \n"
     ]
    },
    {
     "name": "stdout",
     "output_type": "stream",
     "text": [
      "用时154.14725041389465\n"
     ]
    },
    {
     "name": "stderr",
     "output_type": "stream",
     "text": [
      "2022-09-29 19:58:56,583 INFO Welcome to the CDS\n",
      "2022-09-29 19:58:56,585 INFO Sending request to https://cds.climate.copernicus.eu/api/v2/resources/reanalysis-era5-pressure-levels\n",
      "2022-09-29 19:58:56,809 INFO Request is queued\n",
      "2022-09-29 19:58:58,034 INFO Request is running\n",
      "2022-09-29 19:59:18,905 INFO Request is completed\n",
      "2022-09-29 19:59:18,906 INFO Downloading https://download-0007-clone.copernicus-climate.eu/cache-compute-0007/cache/data0/adaptor.mars.internal-1664452751.2353866-29022-16-0bfc0786-7695-4bec-b8bf-04a31dfc9681.nc to g:/ERA5_RH/ERA5_RH_201609.nc (119M)\n",
      "2022-09-29 20:00:39,334 INFO Download rate 1.5M/s                                                                      \n"
     ]
    },
    {
     "name": "stdout",
     "output_type": "stream",
     "text": [
      "用时103.80694627761841\n"
     ]
    },
    {
     "name": "stderr",
     "output_type": "stream",
     "text": [
      "2022-09-29 20:00:40,390 INFO Welcome to the CDS\n",
      "2022-09-29 20:00:40,392 INFO Sending request to https://cds.climate.copernicus.eu/api/v2/resources/reanalysis-era5-pressure-levels\n",
      "2022-09-29 20:00:40,626 INFO Request is queued\n",
      "2022-09-29 20:00:41,837 INFO Request is running\n",
      "2022-09-29 20:01:14,323 INFO Request is completed\n",
      "2022-09-29 20:01:14,326 INFO Downloading https://download-0005-clone.copernicus-climate.eu/cache-compute-0005/cache/data7/adaptor.mars.internal-1664452861.150576-32230-2-08118589-6888-4922-a97c-7721d6428fd6.nc to g:/ERA5_RH/ERA5_RH_201610.nc (123M)\n",
      "2022-09-29 20:02:25,728 INFO Download rate 1.7M/s                                                                      \n"
     ]
    },
    {
     "name": "stdout",
     "output_type": "stream",
     "text": [
      "用时106.49793744087219\n"
     ]
    },
    {
     "name": "stderr",
     "output_type": "stream",
     "text": [
      "2022-09-29 20:02:26,909 INFO Welcome to the CDS\n",
      "2022-09-29 20:02:26,910 INFO Sending request to https://cds.climate.copernicus.eu/api/v2/resources/reanalysis-era5-pressure-levels\n",
      "2022-09-29 20:02:27,158 INFO Request is queued\n",
      "2022-09-29 20:02:28,400 INFO Request is running\n",
      "2022-09-29 20:02:49,392 INFO Request is completed\n",
      "2022-09-29 20:02:49,395 INFO Downloading https://download-0003-clone.copernicus-climate.eu/cache-compute-0003/cache/data0/adaptor.mars.internal-1664452962.337811-20844-4-a4339c7e-cdad-4dab-88c4-8a89e56cc33c.nc to g:/ERA5_RH/ERA5_RH_201611.nc (119M)\n",
      "2022-09-29 20:04:43,561 INFO Download rate 1M/s                                                                        \n"
     ]
    },
    {
     "name": "stdout",
     "output_type": "stream",
     "text": [
      "用时137.82871294021606\n"
     ]
    },
    {
     "name": "stderr",
     "output_type": "stream",
     "text": [
      "2022-09-29 20:04:44,743 INFO Welcome to the CDS\n",
      "2022-09-29 20:04:44,745 INFO Sending request to https://cds.climate.copernicus.eu/api/v2/resources/reanalysis-era5-pressure-levels\n",
      "2022-09-29 20:04:44,988 INFO Request is queued\n",
      "2022-09-29 20:04:46,231 INFO Request is running\n",
      "2022-09-29 20:05:07,251 INFO Request is completed\n",
      "2022-09-29 20:05:07,252 INFO Downloading https://download-0008-clone.copernicus-climate.eu/cache-compute-0008/cache/data0/adaptor.mars.internal-1664453100.274838-5272-2-4c20f103-1b6c-4897-8bb6-68a7b47470ef.nc to g:/ERA5_RH/ERA5_RH_201612.nc (123M)\n",
      "2022-09-29 20:06:35,015 INFO Download rate 1.4M/s                                                                      \n"
     ]
    },
    {
     "name": "stdout",
     "output_type": "stream",
     "text": [
      "用时111.44971251487732\n"
     ]
    },
    {
     "name": "stderr",
     "output_type": "stream",
     "text": [
      "2022-09-29 20:06:36,191 INFO Welcome to the CDS\n",
      "2022-09-29 20:06:36,192 INFO Sending request to https://cds.climate.copernicus.eu/api/v2/resources/reanalysis-era5-pressure-levels\n",
      "2022-09-29 20:06:36,462 INFO Request is queued\n",
      "2022-09-29 20:06:37,711 INFO Request is running\n",
      "2022-09-29 20:06:58,714 INFO Request is completed\n",
      "2022-09-29 20:06:58,715 INFO Downloading https://download-0008-clone.copernicus-climate.eu/cache-compute-0008/cache/data0/adaptor.mars.internal-1664453212.8590364-29490-5-2ac2e14a-9de8-4496-90e4-3dfbb956b90b.nc to g:/ERA5_RH/ERA5_RH_201701.nc (123M)\n",
      "2022-09-29 20:08:02,838 INFO Download rate 1.9M/s                                                                      \n"
     ]
    },
    {
     "name": "stdout",
     "output_type": "stream",
     "text": [
      "用时87.1263689994812\n"
     ]
    },
    {
     "name": "stderr",
     "output_type": "stream",
     "text": [
      "2022-09-29 20:08:03,333 INFO Welcome to the CDS\n",
      "2022-09-29 20:08:03,334 INFO Sending request to https://cds.climate.copernicus.eu/api/v2/resources/reanalysis-era5-pressure-levels\n",
      "2022-09-29 20:08:03,573 INFO Request is queued\n",
      "2022-09-29 20:08:04,817 INFO Request is running\n",
      "2022-09-29 20:08:25,799 INFO Request is completed\n",
      "2022-09-29 20:08:25,801 INFO Downloading https://download-0008-clone.copernicus-climate.eu/cache-compute-0008/cache/data8/adaptor.mars.internal-1664453297.953425-28749-8-cccf650c-4fba-4b73-a073-d0fc86f079b4.nc to g:/ERA5_RH/ERA5_RH_201702.nc (111.1M)\n",
      "2022-09-29 20:09:12,725 INFO Download rate 2.4M/s                                                                      \n"
     ]
    },
    {
     "name": "stdout",
     "output_type": "stream",
     "text": [
      "用时69.87270283699036\n"
     ]
    },
    {
     "name": "stderr",
     "output_type": "stream",
     "text": [
      "2022-09-29 20:09:13,191 INFO Welcome to the CDS\n",
      "2022-09-29 20:09:13,192 INFO Sending request to https://cds.climate.copernicus.eu/api/v2/resources/reanalysis-era5-pressure-levels\n",
      "2022-09-29 20:09:13,452 INFO Request is queued\n",
      "2022-09-29 20:09:14,705 INFO Request is running\n",
      "2022-09-29 20:09:35,716 INFO Request is completed\n",
      "2022-09-29 20:09:35,719 INFO Downloading https://download-0012-clone.copernicus-climate.eu/cache-compute-0012/cache/data6/adaptor.mars.internal-1664453368.9213347-25056-14-1ff07394-667b-4522-98cd-9fb56b5daba4.nc to g:/ERA5_RH/ERA5_RH_201703.nc (123M)\n",
      "2022-09-29 20:10:50,792 INFO Download rate 1.6M/s                                                                      \n"
     ]
    },
    {
     "name": "stdout",
     "output_type": "stream",
     "text": [
      "用时98.73154759407043\n"
     ]
    },
    {
     "name": "stderr",
     "output_type": "stream",
     "text": [
      "2022-09-29 20:10:51,919 INFO Welcome to the CDS\n",
      "2022-09-29 20:10:51,921 INFO Sending request to https://cds.climate.copernicus.eu/api/v2/resources/reanalysis-era5-pressure-levels\n",
      "2022-09-29 20:10:52,156 INFO Request is queued\n",
      "2022-09-29 20:10:53,390 INFO Request is running\n",
      "2022-09-29 20:11:14,352 INFO Request is completed\n",
      "2022-09-29 20:11:14,354 INFO Downloading https://download-0004-clone.copernicus-climate.eu/cache-compute-0004/cache/data3/adaptor.mars.internal-1664453466.5477118-32406-5-0b1cfaf5-5aa4-4a85-bbba-4bee7b9bdaa3.nc to g:/ERA5_RH/ERA5_RH_201704.nc (119M)\n",
      "2022-09-29 20:11:54,766 INFO Download rate 2.9M/s                                                                      \n"
     ]
    },
    {
     "name": "stdout",
     "output_type": "stream",
     "text": [
      "用时63.302807569503784\n"
     ]
    },
    {
     "name": "stderr",
     "output_type": "stream",
     "text": [
      "2022-09-29 20:11:55,219 INFO Welcome to the CDS\n",
      "2022-09-29 20:11:55,220 INFO Sending request to https://cds.climate.copernicus.eu/api/v2/resources/reanalysis-era5-pressure-levels\n",
      "2022-09-29 20:11:55,485 INFO Request is queued\n",
      "2022-09-29 20:11:56,717 INFO Request is running\n",
      "2022-09-29 20:12:17,668 INFO Request is completed\n",
      "2022-09-29 20:12:17,670 INFO Downloading https://download-0013-clone.copernicus-climate.eu/cache-compute-0013/cache/data1/adaptor.mars.internal-1664453530.4215758-21312-6-977227f6-7db2-49ff-a8be-c600dcf63fb1.nc to g:/ERA5_RH/ERA5_RH_201705.nc (123M)\n",
      "2022-09-29 20:13:07,936 INFO Download rate 2.4M/s                                                                      \n",
      "2022-09-29 20:13:10,781 INFO Welcome to the CDS\n"
     ]
    },
    {
     "name": "stdout",
     "output_type": "stream",
     "text": [
      "用时75.58287477493286\n"
     ]
    },
    {
     "name": "stderr",
     "output_type": "stream",
     "text": [
      "2022-09-29 20:13:10,783 INFO Sending request to https://cds.climate.copernicus.eu/api/v2/resources/reanalysis-era5-pressure-levels\n",
      "2022-09-29 20:13:11,014 INFO Request is queued\n",
      "2022-09-29 20:13:12,227 INFO Request is running\n",
      "2022-09-29 20:13:33,067 INFO Request is completed\n",
      "2022-09-29 20:13:33,068 INFO Downloading https://download-0020.copernicus-climate.eu/cache-compute-0020/cache/data6/adaptor.mars.internal-1664453606.5192122-29966-6-77a8a802-5cc9-4443-aba5-301e1e918f97.nc to g:/ERA5_RH/ERA5_RH_201706.nc (119M)\n",
      "2022-09-29 20:14:47,731 INFO Download rate 1.6M/s                                                                      \n"
     ]
    },
    {
     "name": "stdout",
     "output_type": "stream",
     "text": [
      "用时98.21924138069153\n"
     ]
    },
    {
     "name": "stderr",
     "output_type": "stream",
     "text": [
      "2022-09-29 20:14:49,068 INFO Welcome to the CDS\n",
      "2022-09-29 20:14:49,069 INFO Sending request to https://cds.climate.copernicus.eu/api/v2/resources/reanalysis-era5-pressure-levels\n",
      "2022-09-29 20:14:49,341 INFO Request is queued\n",
      "2022-09-29 20:14:50,616 INFO Request is running\n",
      "2022-09-29 20:15:11,782 INFO Request is completed\n",
      "2022-09-29 20:15:11,783 INFO Downloading https://download-0017.copernicus-climate.eu/cache-compute-0017/cache/data2/adaptor.mars.internal-1664453704.020064-3322-8-dd534375-db08-4660-8be5-283a1561a0cb.nc to g:/ERA5_RH/ERA5_RH_201707.nc (123M)\n",
      "2022-09-29 20:15:53,113 INFO Download rate 3M/s                                                                        \n"
     ]
    },
    {
     "name": "stdout",
     "output_type": "stream",
     "text": [
      "用时64.58338618278503\n"
     ]
    },
    {
     "name": "stderr",
     "output_type": "stream",
     "text": [
      "2022-09-29 20:15:53,655 INFO Welcome to the CDS\n",
      "2022-09-29 20:15:53,656 INFO Sending request to https://cds.climate.copernicus.eu/api/v2/resources/reanalysis-era5-pressure-levels\n",
      "2022-09-29 20:15:53,967 INFO Request is queued\n",
      "2022-09-29 20:15:55,246 INFO Request is running\n",
      "2022-09-29 20:16:16,396 INFO Request is completed\n",
      "2022-09-29 20:16:16,397 INFO Downloading https://download-0001-clone.copernicus-climate.eu/cache-compute-0001/cache/data0/adaptor.mars.internal-1664453769.8969493-4187-11-3e5248cc-7cb5-4dd1-9d84-41ac9ce27734.nc to g:/ERA5_RH/ERA5_RH_201708.nc (123M)\n",
      "2022-09-29 20:18:14,411 INFO Download rate 1M/s                                                                        \n"
     ]
    },
    {
     "name": "stdout",
     "output_type": "stream",
     "text": [
      "用时142.0379045009613\n"
     ]
    },
    {
     "name": "stderr",
     "output_type": "stream",
     "text": [
      "2022-09-29 20:18:15,678 INFO Welcome to the CDS\n",
      "2022-09-29 20:18:15,679 INFO Sending request to https://cds.climate.copernicus.eu/api/v2/resources/reanalysis-era5-pressure-levels\n",
      "2022-09-29 20:18:15,971 INFO Request is queued\n",
      "2022-09-29 20:18:17,230 INFO Request is running\n",
      "2022-09-29 20:18:38,305 INFO Request is completed\n",
      "2022-09-29 20:18:38,308 INFO Downloading https://download-0010-clone.copernicus-climate.eu/cache-compute-0010/cache/data8/adaptor.mars.internal-1664453912.3980749-4064-2-092524dc-7d3f-4a39-b838-366fd238e8c8.nc to g:/ERA5_RH/ERA5_RH_201709.nc (119M)\n",
      "2022-09-29 20:20:56,538 INFO Download rate 881.5K/s                                                                    \n"
     ]
    },
    {
     "name": "stdout",
     "output_type": "stream",
     "text": [
      "用时162.01811361312866\n"
     ]
    },
    {
     "name": "stderr",
     "output_type": "stream",
     "text": [
      "2022-09-29 20:20:57,669 INFO Welcome to the CDS\n",
      "2022-09-29 20:20:57,671 INFO Sending request to https://cds.climate.copernicus.eu/api/v2/resources/reanalysis-era5-pressure-levels\n",
      "2022-09-29 20:20:57,936 INFO Request is queued\n",
      "2022-09-29 20:21:06,999 INFO Request is running\n",
      "2022-09-29 20:22:14,937 INFO Request is completed\n",
      "2022-09-29 20:22:14,940 INFO Downloading https://download-0017.copernicus-climate.eu/cache-compute-0017/cache/data9/adaptor.mars.internal-1664454113.6590526-1244-11-8fc6e05d-b323-4fb4-89f3-9ac1b6449b68.nc to g:/ERA5_RH/ERA5_RH_201710.nc (123M)\n",
      "2022-09-29 20:23:25,109 INFO Download rate 1.8M/s                                                                      \n"
     ]
    },
    {
     "name": "stdout",
     "output_type": "stream",
     "text": [
      "用时148.55825185775757\n"
     ]
    },
    {
     "name": "stderr",
     "output_type": "stream",
     "text": [
      "2022-09-29 20:23:26,221 INFO Welcome to the CDS\n",
      "2022-09-29 20:23:26,222 INFO Sending request to https://cds.climate.copernicus.eu/api/v2/resources/reanalysis-era5-pressure-levels\n",
      "2022-09-29 20:23:26,448 INFO Request is queued\n",
      "2022-09-29 20:23:27,675 INFO Request is running\n",
      "2022-09-29 20:23:48,610 INFO Request is completed\n",
      "2022-09-29 20:23:48,611 INFO Downloading https://download-0018.copernicus-climate.eu/cache-compute-0018/cache/data7/adaptor.mars.internal-1664454220.8021128-28956-1-48e63bb7-a872-4515-963c-2097f2de2243.nc to g:/ERA5_RH/ERA5_RH_201711.nc (119M)\n",
      "2022-09-29 20:24:39,791 INFO Download rate 2.3M/s                                                                      \n"
     ]
    },
    {
     "name": "stdout",
     "output_type": "stream",
     "text": [
      "用时74.01291131973267\n"
     ]
    },
    {
     "name": "stderr",
     "output_type": "stream",
     "text": [
      "2022-09-29 20:24:40,235 INFO Welcome to the CDS\n",
      "2022-09-29 20:24:40,237 INFO Sending request to https://cds.climate.copernicus.eu/api/v2/resources/reanalysis-era5-pressure-levels\n",
      "2022-09-29 20:24:40,506 INFO Request is queued\n",
      "2022-09-29 20:24:41,735 INFO Request is running\n",
      "2022-09-29 20:25:02,688 INFO Request is completed\n",
      "2022-09-29 20:25:02,688 INFO Downloading https://download-0012-clone.copernicus-climate.eu/cache-compute-0012/cache/data4/adaptor.mars.internal-1664454296.4450717-13691-17-14f47473-8c06-428c-bf85-b0e76bdda3dd.nc to g:/ERA5_RH/ERA5_RH_201712.nc (123M)\n",
      "2022-09-29 20:26:21,074 INFO Download rate 1.6M/s                                                                      \n"
     ]
    },
    {
     "name": "stdout",
     "output_type": "stream",
     "text": [
      "用时102.12581324577332\n"
     ]
    },
    {
     "name": "stderr",
     "output_type": "stream",
     "text": [
      "2022-09-29 20:26:22,406 INFO Welcome to the CDS\n",
      "2022-09-29 20:26:22,407 INFO Sending request to https://cds.climate.copernicus.eu/api/v2/resources/reanalysis-era5-pressure-levels\n",
      "2022-09-29 20:26:22,735 INFO Request is queued\n",
      "2022-09-29 20:26:24,011 INFO Request is running\n",
      "2022-09-29 20:26:45,153 INFO Request is completed\n",
      "2022-09-29 20:26:45,154 INFO Downloading https://download-0004-clone.copernicus-climate.eu/cache-compute-0004/cache/data6/adaptor.mars.internal-1664454397.639652-4666-6-94da7d51-f1b5-46a9-8590-4dcce57d038a.nc to g:/ERA5_RH/ERA5_RH_201801.nc (123M)\n",
      "2022-09-29 20:29:15,461 INFO Download rate 837.7K/s                                                                    \n",
      "2022-09-29 20:29:16,452 INFO Welcome to the CDS\n"
     ]
    },
    {
     "name": "stdout",
     "output_type": "stream",
     "text": [
      "用时174.11438393592834\n"
     ]
    },
    {
     "name": "stderr",
     "output_type": "stream",
     "text": [
      "2022-09-29 20:29:16,455 INFO Sending request to https://cds.climate.copernicus.eu/api/v2/resources/reanalysis-era5-pressure-levels\n",
      "2022-09-29 20:29:16,686 INFO Request is queued\n",
      "2022-09-29 20:29:17,902 INFO Request is running\n",
      "2022-09-29 20:29:38,743 INFO Request is completed\n",
      "2022-09-29 20:29:38,745 INFO Downloading https://download-0003-clone.copernicus-climate.eu/cache-compute-0003/cache/data2/adaptor.mars.internal-1664454570.2286067-26019-13-79fec830-0d64-4dac-8bec-c4122599374f.nc to g:/ERA5_RH/ERA5_RH_201802.nc (111.1M)\n",
      "2022-09-29 20:31:29,093 INFO Download rate 1M/s                                                                        \n"
     ]
    },
    {
     "name": "stdout",
     "output_type": "stream",
     "text": [
      "用时133.6769232749939\n"
     ]
    },
    {
     "name": "stderr",
     "output_type": "stream",
     "text": [
      "2022-09-29 20:31:30,140 INFO Welcome to the CDS\n",
      "2022-09-29 20:31:30,141 INFO Sending request to https://cds.climate.copernicus.eu/api/v2/resources/reanalysis-era5-pressure-levels\n",
      "2022-09-29 20:31:30,411 INFO Request is queued\n",
      "2022-09-29 20:31:31,630 INFO Request is running\n",
      "2022-09-29 20:31:52,573 INFO Request is completed\n",
      "2022-09-29 20:31:52,576 INFO Downloading https://download-0020.copernicus-climate.eu/cache-compute-0020/cache/data7/adaptor.mars.internal-1664454705.8877637-28220-17-706f5540-d3b3-43d8-a5c1-ec52b05ab61d.nc to g:/ERA5_RH/ERA5_RH_201803.nc (123M)\n",
      "2022-09-29 20:34:06,389 INFO Download rate 940.9K/s                                                                    \n"
     ]
    },
    {
     "name": "stdout",
     "output_type": "stream",
     "text": [
      "用时157.41914558410645\n"
     ]
    },
    {
     "name": "stderr",
     "output_type": "stream",
     "text": [
      "2022-09-29 20:34:07,592 INFO Welcome to the CDS\n",
      "2022-09-29 20:34:07,593 INFO Sending request to https://cds.climate.copernicus.eu/api/v2/resources/reanalysis-era5-pressure-levels\n",
      "2022-09-29 20:34:07,865 INFO Request is queued\n",
      "2022-09-29 20:34:09,112 INFO Request is running\n",
      "2022-09-29 20:34:30,105 INFO Request is completed\n",
      "2022-09-29 20:34:30,106 INFO Downloading https://download-0019.copernicus-climate.eu/cache-compute-0019/cache/data8/adaptor.mars.internal-1664454861.7064822-651-16-e841f6fd-15ad-44a0-904d-d12b31849e52.nc to g:/ERA5_RH/ERA5_RH_201804.nc (119M)\n",
      "2022-09-29 20:35:46,442 INFO Download rate 1.6M/s                                                                      \n"
     ]
    },
    {
     "name": "stdout",
     "output_type": "stream",
     "text": [
      "用时100.00804376602173\n"
     ]
    },
    {
     "name": "stderr",
     "output_type": "stream",
     "text": [
      "2022-09-29 20:35:47,594 INFO Welcome to the CDS\n",
      "2022-09-29 20:35:47,595 INFO Sending request to https://cds.climate.copernicus.eu/api/v2/resources/reanalysis-era5-pressure-levels\n",
      "2022-09-29 20:35:47,869 INFO Request is queued\n",
      "2022-09-29 20:35:49,104 INFO Request is running\n",
      "2022-09-29 20:36:10,123 INFO Request is completed\n",
      "2022-09-29 20:36:10,124 INFO Downloading https://download-0003-clone.copernicus-climate.eu/cache-compute-0003/cache/data3/adaptor.mars.internal-1664454962.2604918-4765-20-0446e6cc-d51a-4167-b091-52bfd749b21e.nc to g:/ERA5_RH/ERA5_RH_201805.nc (123M)\n",
      "2022-09-29 20:37:08,693 INFO Download rate 2.1M/s                                                                      \n"
     ]
    },
    {
     "name": "stdout",
     "output_type": "stream",
     "text": [
      "用时81.57019257545471\n"
     ]
    },
    {
     "name": "stderr",
     "output_type": "stream",
     "text": [
      "2022-09-29 20:37:09,173 INFO Welcome to the CDS\n",
      "2022-09-29 20:37:09,174 INFO Sending request to https://cds.climate.copernicus.eu/api/v2/resources/reanalysis-era5-pressure-levels\n",
      "2022-09-29 20:37:09,429 INFO Request is queued\n",
      "2022-09-29 20:37:10,677 INFO Request is running\n",
      "2022-09-29 20:37:31,704 INFO Request is completed\n",
      "2022-09-29 20:37:31,707 INFO Downloading https://download-0011-clone.copernicus-climate.eu/cache-compute-0011/cache/data3/adaptor.mars.internal-1664455043.5215414-25071-18-a01eb534-cbee-4b13-9c7d-4253d209b59e.nc to g:/ERA5_RH/ERA5_RH_201806.nc (119M)\n",
      "2022-09-29 20:38:55,855 INFO Download rate 1.4M/s                                                                      \n"
     ]
    },
    {
     "name": "stdout",
     "output_type": "stream",
     "text": [
      "用时107.8855345249176\n"
     ]
    },
    {
     "name": "stderr",
     "output_type": "stream",
     "text": [
      "2022-09-29 20:38:57,060 INFO Welcome to the CDS\n",
      "2022-09-29 20:38:57,061 INFO Sending request to https://cds.climate.copernicus.eu/api/v2/resources/reanalysis-era5-pressure-levels\n",
      "2022-09-29 20:38:57,675 INFO Request is queued\n",
      "2022-09-29 20:38:58,931 INFO Request is running\n",
      "2022-09-29 20:39:19,960 INFO Request is completed\n",
      "2022-09-29 20:39:19,962 INFO Downloading https://download-0011-clone.copernicus-climate.eu/cache-compute-0011/cache/data9/adaptor.mars.internal-1664455152.089724-26476-17-d551fa42-37dd-446b-856b-d21549b756ff.nc to g:/ERA5_RH/ERA5_RH_201807.nc (123M)\n",
      "2022-09-29 20:41:49,820 INFO Download rate 840.2K/s                                                                    \n"
     ]
    },
    {
     "name": "stdout",
     "output_type": "stream",
     "text": [
      "用时173.91045689582825\n"
     ]
    },
    {
     "name": "stderr",
     "output_type": "stream",
     "text": [
      "2022-09-29 20:41:50,952 INFO Welcome to the CDS\n",
      "2022-09-29 20:41:50,953 INFO Sending request to https://cds.climate.copernicus.eu/api/v2/resources/reanalysis-era5-pressure-levels\n",
      "2022-09-29 20:41:51,271 INFO Request is queued\n",
      "2022-09-29 20:41:52,503 INFO Request is running\n",
      "2022-09-29 20:42:13,439 INFO Request is completed\n",
      "2022-09-29 20:42:13,440 INFO Downloading https://download-0018.copernicus-climate.eu/cache-compute-0018/cache/data4/adaptor.mars.internal-1664455326.2321374-3013-3-b58327ad-e696-4b4d-922c-5ae0adb771d7.nc to g:/ERA5_RH/ERA5_RH_201808.nc (123M)\n",
      "2022-09-29 20:43:32,021 INFO Download rate 1.6M/s                                                                      \n"
     ]
    },
    {
     "name": "stdout",
     "output_type": "stream",
     "text": [
      "用时102.16954016685486\n"
     ]
    },
    {
     "name": "stderr",
     "output_type": "stream",
     "text": [
      "2022-09-29 20:43:33,126 INFO Welcome to the CDS\n",
      "2022-09-29 20:43:33,128 INFO Sending request to https://cds.climate.copernicus.eu/api/v2/resources/reanalysis-era5-pressure-levels\n",
      "2022-09-29 20:43:33,357 INFO Request is queued\n",
      "2022-09-29 20:43:34,588 INFO Request is running\n",
      "2022-09-29 20:43:55,511 INFO Request is completed\n",
      "2022-09-29 20:43:55,512 INFO Downloading https://download-0010-clone.copernicus-climate.eu/cache-compute-0010/cache/data9/adaptor.mars.internal-1664455429.2427874-30643-17-fa71a203-c83e-4ac6-84a4-906417b98a16.nc to g:/ERA5_RH/ERA5_RH_201809.nc (119M)\n",
      "2022-09-29 20:44:52,116 INFO Download rate 2.1M/s                                                                      \n"
     ]
    },
    {
     "name": "stdout",
     "output_type": "stream",
     "text": [
      "用时79.43856167793274\n"
     ]
    },
    {
     "name": "stderr",
     "output_type": "stream",
     "text": [
      "2022-09-29 20:44:52,563 INFO Welcome to the CDS\n",
      "2022-09-29 20:44:52,564 INFO Sending request to https://cds.climate.copernicus.eu/api/v2/resources/reanalysis-era5-pressure-levels\n",
      "2022-09-29 20:44:52,804 INFO Request is queued\n",
      "2022-09-29 20:44:54,031 INFO Request is running\n",
      "2022-09-29 20:45:14,959 INFO Request is completed\n",
      "2022-09-29 20:45:14,961 INFO Downloading https://download-0000-clone.copernicus-climate.eu/cache-compute-0000/cache/data0/adaptor.mars.internal-1664455508.799452-3165-4-a500d75f-cac6-4e4a-add5-da3f9da97f63.nc to g:/ERA5_RH/ERA5_RH_201810.nc (123M)\n",
      "2022-09-29 20:46:59,652 INFO Download rate 1.2M/s                                                                      \n"
     ]
    },
    {
     "name": "stdout",
     "output_type": "stream",
     "text": [
      "用时128.26632285118103\n"
     ]
    },
    {
     "name": "stderr",
     "output_type": "stream",
     "text": [
      "2022-09-29 20:47:00,850 INFO Welcome to the CDS\n",
      "2022-09-29 20:47:00,851 INFO Sending request to https://cds.climate.copernicus.eu/api/v2/resources/reanalysis-era5-pressure-levels\n",
      "2022-09-29 20:47:01,130 INFO Request is queued\n",
      "2022-09-29 20:47:02,376 INFO Request is running\n",
      "2022-09-29 20:47:23,395 INFO Request is completed\n",
      "2022-09-29 20:47:23,398 INFO Downloading https://download-0002-clone.copernicus-climate.eu/cache-compute-0002/cache/data4/adaptor.mars.internal-1664455636.4103768-3948-9-417226b2-8e68-4d03-bc20-2c43f2ef47bc.nc to g:/ERA5_RH/ERA5_RH_201811.nc (119M)\n",
      "2022-09-29 20:48:17,814 INFO Download rate 2.2M/s                                                                      \n"
     ]
    },
    {
     "name": "stdout",
     "output_type": "stream",
     "text": [
      "用时77.4394121170044\n"
     ]
    },
    {
     "name": "stderr",
     "output_type": "stream",
     "text": [
      "2022-09-29 20:48:18,285 INFO Welcome to the CDS\n",
      "2022-09-29 20:48:18,286 INFO Sending request to https://cds.climate.copernicus.eu/api/v2/resources/reanalysis-era5-pressure-levels\n",
      "2022-09-29 20:48:18,556 INFO Request is queued\n",
      "2022-09-29 20:48:19,807 INFO Request is running\n",
      "2022-09-29 20:48:40,813 INFO Request is completed\n",
      "2022-09-29 20:48:40,814 INFO Downloading https://download-0005-clone.copernicus-climate.eu/cache-compute-0005/cache/data7/adaptor.mars.internal-1664455714.0616899-12698-14-7a8e430e-be52-4819-9bdf-81ca707834ad.nc to g:/ERA5_RH/ERA5_RH_201812.nc (123M)\n",
      "2022-09-29 20:49:54,300 INFO Download rate 1.7M/s                                                                      \n"
     ]
    },
    {
     "name": "stdout",
     "output_type": "stream",
     "text": [
      "用时97.16863822937012\n"
     ]
    },
    {
     "name": "stderr",
     "output_type": "stream",
     "text": [
      "2022-09-29 20:49:55,451 INFO Welcome to the CDS\n",
      "2022-09-29 20:49:55,452 INFO Sending request to https://cds.climate.copernicus.eu/api/v2/resources/reanalysis-era5-pressure-levels\n",
      "2022-09-29 20:49:55,734 INFO Request is queued\n",
      "2022-09-29 20:49:56,971 INFO Request is running\n",
      "2022-09-29 20:50:17,938 INFO Request is completed\n",
      "2022-09-29 20:50:17,941 INFO Downloading https://download-0004-clone.copernicus-climate.eu/cache-compute-0004/cache/data4/adaptor.mars.internal-1664455810.8614106-14563-3-537f8c47-9b94-4178-bd7f-4e6f5789e6d5.nc to g:/ERA5_RH/ERA5_RH_201901.nc (123M)\n",
      "2022-09-29 20:51:41,934 INFO Download rate 1.5M/s                                                                      \n"
     ]
    },
    {
     "name": "stdout",
     "output_type": "stream",
     "text": [
      "用时107.66825532913208\n"
     ]
    },
    {
     "name": "stderr",
     "output_type": "stream",
     "text": [
      "2022-09-29 20:51:43,128 INFO Welcome to the CDS\n",
      "2022-09-29 20:51:43,129 INFO Sending request to https://cds.climate.copernicus.eu/api/v2/resources/reanalysis-era5-pressure-levels\n",
      "2022-09-29 20:51:43,436 INFO Request is queued\n",
      "2022-09-29 20:51:44,690 INFO Request is running\n",
      "2022-09-29 20:52:05,727 INFO Request is completed\n",
      "2022-09-29 20:52:05,730 INFO Downloading https://download-0007-clone.copernicus-climate.eu/cache-compute-0007/cache/data2/adaptor.mars.internal-1664455917.699953-2017-19-a3d6c632-1ca8-4222-9ebd-cc89e677b66e.nc to g:/ERA5_RH/ERA5_RH_201902.nc (111.1M)\n",
      "2022-09-29 20:53:07,164 INFO Download rate 1.8M/s                                                                      \n"
     ]
    },
    {
     "name": "stdout",
     "output_type": "stream",
     "text": [
      "用时84.51417446136475\n"
     ]
    },
    {
     "name": "stderr",
     "output_type": "stream",
     "text": [
      "2022-09-29 20:53:07,640 INFO Welcome to the CDS\n",
      "2022-09-29 20:53:07,640 INFO Sending request to https://cds.climate.copernicus.eu/api/v2/resources/reanalysis-era5-pressure-levels\n",
      "2022-09-29 20:53:07,887 INFO Request is queued\n",
      "2022-09-29 20:53:28,189 WARNING Recovering from connection error [('Connection aborted.', ConnectionResetError(10054, '远程主机强迫关闭了一个现有的连接。', None, 10054, None))], attemps 0 of 500\n",
      "2022-09-29 20:53:28,189 WARNING Retrying in 120 seconds\n",
      "2022-09-29 20:55:28,201 INFO Retrying now...\n",
      "2022-09-29 20:55:29,171 INFO Request is completed\n",
      "2022-09-29 20:55:29,173 INFO Downloading https://download-0013-clone.copernicus-climate.eu/cache-compute-0013/cache/data7/adaptor.mars.internal-1664456002.8606696-10485-2-051663f7-4701-4bf7-acea-26c17462a170.nc to g:/ERA5_RH/ERA5_RH_201903.nc (123M)\n",
      "2022-09-29 20:58:12,423 INFO Download rate 771.2K/s                                                                    \n"
     ]
    },
    {
     "name": "stdout",
     "output_type": "stream",
     "text": [
      "用时305.0174753665924\n"
     ]
    },
    {
     "name": "stderr",
     "output_type": "stream",
     "text": [
      "2022-09-29 20:58:13,386 INFO Welcome to the CDS\n",
      "2022-09-29 20:58:13,388 INFO Sending request to https://cds.climate.copernicus.eu/api/v2/resources/reanalysis-era5-pressure-levels\n",
      "2022-09-29 20:58:13,666 INFO Request is queued\n",
      "2022-09-29 20:58:14,919 INFO Request is running\n",
      "2022-09-29 20:58:35,939 INFO Request is completed\n",
      "2022-09-29 20:58:35,941 INFO Downloading https://download-0002-clone.copernicus-climate.eu/cache-compute-0002/cache/data5/adaptor.mars.internal-1664456309.0261354-9580-7-7dc31769-6180-4e11-8b1c-e9c1a1e85986.nc to g:/ERA5_RH/ERA5_RH_201904.nc (119M)\n",
      "2022-09-29 21:01:36,157 INFO Download rate 676.1K/s                                                                    \n"
     ]
    },
    {
     "name": "stdout",
     "output_type": "stream",
     "text": [
      "用时204.64142727851868\n"
     ]
    },
    {
     "name": "stderr",
     "output_type": "stream",
     "text": [
      "2022-09-29 21:01:37,286 INFO Welcome to the CDS\n",
      "2022-09-29 21:01:37,287 INFO Sending request to https://cds.climate.copernicus.eu/api/v2/resources/reanalysis-era5-pressure-levels\n",
      "2022-09-29 21:01:37,546 INFO Request is queued\n",
      "2022-09-29 21:01:38,772 INFO Request is running\n",
      "2022-09-29 21:01:59,709 INFO Request is completed\n",
      "2022-09-29 21:01:59,710 INFO Downloading https://download-0005-clone.copernicus-climate.eu/cache-compute-0005/cache/data9/adaptor.mars.internal-1664456515.2130532-19844-11-ae8d3b26-f6f0-48c8-8cba-0346ab81d5cd.nc to g:/ERA5_RH/ERA5_RH_201905.nc (123M)\n",
      "2022-09-29 21:03:03,179 INFO Download rate 1.9M/s                                                                      \n"
     ]
    },
    {
     "name": "stdout",
     "output_type": "stream",
     "text": [
      "用时86.33807587623596\n"
     ]
    },
    {
     "name": "stderr",
     "output_type": "stream",
     "text": [
      "2022-09-29 21:03:03,623 INFO Welcome to the CDS\n",
      "2022-09-29 21:03:03,624 INFO Sending request to https://cds.climate.copernicus.eu/api/v2/resources/reanalysis-era5-pressure-levels\n",
      "2022-09-29 21:03:03,867 INFO Request is queued\n",
      "2022-09-29 21:03:05,094 INFO Request is running\n",
      "2022-09-29 21:03:26,011 INFO Request is completed\n",
      "2022-09-29 21:03:26,014 INFO Downloading https://download-0009-clone.copernicus-climate.eu/cache-compute-0009/cache/data4/adaptor.mars.internal-1664456599.949089-26607-7-5ae80911-deec-45c7-91ce-8ac16c0279df.nc to g:/ERA5_RH/ERA5_RH_201906.nc (119M)\n",
      "2022-09-29 21:05:11,926 INFO Download rate 1.1M/s                                                                      \n"
     ]
    },
    {
     "name": "stdout",
     "output_type": "stream",
     "text": [
      "用时129.47209119796753\n"
     ]
    },
    {
     "name": "stderr",
     "output_type": "stream",
     "text": [
      "2022-09-29 21:05:13,112 INFO Welcome to the CDS\n",
      "2022-09-29 21:05:13,113 INFO Sending request to https://cds.climate.copernicus.eu/api/v2/resources/reanalysis-era5-pressure-levels\n",
      "2022-09-29 21:05:13,383 INFO Request is queued\n",
      "2022-09-29 21:05:14,625 INFO Request is running\n",
      "2022-09-29 21:05:35,638 INFO Request is completed\n",
      "2022-09-29 21:05:35,639 INFO Downloading https://download-0010-clone.copernicus-climate.eu/cache-compute-0010/cache/data2/adaptor.mars.internal-1664456732.6510134-15255-9-6ed98004-2fae-47c7-b128-5ad7deb91a17.nc to g:/ERA5_RH/ERA5_RH_201907.nc (123M)\n",
      "2022-09-29 21:06:37,457 INFO Download rate 2M/s                                                                        \n"
     ]
    },
    {
     "name": "stdout",
     "output_type": "stream",
     "text": [
      "用时84.81780457496643\n"
     ]
    },
    {
     "name": "stderr",
     "output_type": "stream",
     "text": [
      "2022-09-29 21:06:37,930 INFO Welcome to the CDS\n",
      "2022-09-29 21:06:37,931 INFO Sending request to https://cds.climate.copernicus.eu/api/v2/resources/reanalysis-era5-pressure-levels\n",
      "2022-09-29 21:06:38,187 INFO Request is queued\n",
      "2022-09-29 21:06:39,433 INFO Request is running\n",
      "2022-09-29 21:07:00,435 INFO Request is completed\n",
      "2022-09-29 21:07:00,436 INFO Downloading https://download-0010-clone.copernicus-climate.eu/cache-compute-0010/cache/data4/adaptor.mars.internal-1664456814.3008413-13360-12-9b993d5b-1fd1-4cd7-8763-37ea66de61c7.nc to g:/ERA5_RH/ERA5_RH_201908.nc (123M)\n",
      "2022-09-29 21:09:36,719 INFO Download rate 805.6K/s                                                                    \n"
     ]
    },
    {
     "name": "stdout",
     "output_type": "stream",
     "text": [
      "用时179.97968363761902\n"
     ]
    },
    {
     "name": "stderr",
     "output_type": "stream",
     "text": [
      "2022-09-29 21:09:37,913 INFO Welcome to the CDS\n",
      "2022-09-29 21:09:37,913 INFO Sending request to https://cds.climate.copernicus.eu/api/v2/resources/reanalysis-era5-pressure-levels\n",
      "2022-09-29 21:09:38,184 INFO Request is queued\n",
      "2022-09-29 21:09:39,418 INFO Request is running\n",
      "2022-09-29 21:10:00,437 INFO Request is completed\n",
      "2022-09-29 21:10:00,438 INFO Downloading https://download-0014-clone.copernicus-climate.eu/cache-compute-0014/cache/data1/adaptor.mars.internal-1664456993.0622497-22839-1-45fdad08-a8bf-4b20-9d80-81b77214ea01.nc to g:/ERA5_RH/ERA5_RH_201909.nc (119M)\n",
      "2022-09-29 21:11:33,460 INFO Download rate 1.3M/s                                                                      \n"
     ]
    },
    {
     "name": "stdout",
     "output_type": "stream",
     "text": [
      "用时116.82118201255798\n"
     ]
    },
    {
     "name": "stderr",
     "output_type": "stream",
     "text": [
      "2022-09-29 21:11:34,758 INFO Welcome to the CDS\n",
      "2022-09-29 21:11:34,759 INFO Sending request to https://cds.climate.copernicus.eu/api/v2/resources/reanalysis-era5-pressure-levels\n",
      "2022-09-29 21:11:35,049 INFO Request is queued\n",
      "2022-09-29 21:11:36,327 INFO Request is running\n",
      "2022-09-29 21:12:09,120 INFO Request is completed\n",
      "2022-09-29 21:12:09,121 INFO Downloading https://download-0012-clone.copernicus-climate.eu/cache-compute-0012/cache/data4/adaptor.mars.internal-1664457120.7738938-9173-13-a2f0eed9-dcd4-45dd-8f55-c9e1e3b4cffc.nc to g:/ERA5_RH/ERA5_RH_201910.nc (123M)\n",
      "2022-09-29 21:13:06,554 INFO Download rate 2.1M/s                                                                      \n"
     ]
    },
    {
     "name": "stdout",
     "output_type": "stream",
     "text": [
      "用时92.31542801856995\n"
     ]
    },
    {
     "name": "stderr",
     "output_type": "stream",
     "text": [
      "2022-09-29 21:13:07,077 INFO Welcome to the CDS\n",
      "2022-09-29 21:13:07,078 INFO Sending request to https://cds.climate.copernicus.eu/api/v2/resources/reanalysis-era5-pressure-levels\n",
      "2022-09-29 21:13:07,359 INFO Request is queued\n",
      "2022-09-29 21:13:08,628 INFO Request is running\n",
      "2022-09-29 21:13:29,752 INFO Request is completed\n",
      "2022-09-29 21:13:29,753 INFO Downloading https://download-0014-clone.copernicus-climate.eu/cache-compute-0014/cache/data3/adaptor.mars.internal-1664457201.8140023-4100-17-c0234000-249c-4667-97e9-c5968e5b77c5.nc to g:/ERA5_RH/ERA5_RH_201911.nc (119M)\n",
      "2022-09-29 21:14:53,743 ERROR Download interupted: HTTPSConnectionPool(host='download-0014-clone.copernicus-climate.eu', port=443): Read timed out.\n",
      "2022-09-29 21:14:53,745 ERROR Download incomplete, downloaded 67984384 byte(s) out of 124767668\n",
      "2022-09-29 21:14:53,747 WARNING Sleeping 10 seconds\n",
      "2022-09-29 21:15:03,761 WARNING Resuming download at byte 67984384\n",
      "2022-09-29 21:15:24,855 WARNING Recovering from connection error [HTTPSConnectionPool(host='download-0014-clone.copernicus-climate.eu', port=443): Max retries exceeded with url: /cache-compute-0014/cache/data3/adaptor.mars.internal-1664457201.8140023-4100-17-c0234000-249c-4667-97e9-c5968e5b77c5.nc (Caused by NewConnectionError('<urllib3.connection.HTTPSConnection object at 0x000001C3325E2DF0>: Failed to establish a new connection: [WinError 10060] 由于连接方在一段时间后没有正确答复或连接的主机没有反应，连接尝试失败。'))], attemps 0 of 500\n",
      "2022-09-29 21:15:24,857 WARNING Retrying in 120 seconds\n",
      "2022-09-29 21:17:24,864 INFO Retrying now...\n",
      "2022-09-29 21:20:17,206 INFO Download rate 299K/s                                                                      \n"
     ]
    },
    {
     "name": "stdout",
     "output_type": "stream",
     "text": [
      "用时430.3895218372345\n"
     ]
    },
    {
     "name": "stderr",
     "output_type": "stream",
     "text": [
      "2022-09-29 21:20:18,036 INFO Welcome to the CDS\n",
      "2022-09-29 21:20:18,038 INFO Sending request to https://cds.climate.copernicus.eu/api/v2/resources/reanalysis-era5-pressure-levels\n",
      "2022-09-29 21:20:18,259 INFO Request is queued\n",
      "2022-09-29 21:20:19,477 INFO Request is running\n",
      "2022-09-29 21:20:40,337 INFO Request is completed\n",
      "2022-09-29 21:20:40,340 INFO Downloading https://download-0012-clone.copernicus-climate.eu/cache-compute-0012/cache/data9/adaptor.mars.internal-1664457632.9896545-8520-15-a6804238-3455-48d7-8a0c-7afc8099ca0b.nc to g:/ERA5_RH/ERA5_RH_201912.nc (123M)\n",
      "2022-09-29 21:30:43,284 ERROR Download interupted: HTTPSConnectionPool(host='download-0012-clone.copernicus-climate.eu', port=443): Read timed out.\n",
      "2022-09-29 21:30:43,286 ERROR Download incomplete, downloaded 107546624 byte(s) out of 128926404\n",
      "2022-09-29 21:30:43,288 WARNING Sleeping 10 seconds\n",
      "2022-09-29 21:30:53,290 WARNING Resuming download at byte 107546624\n",
      "2022-09-29 21:31:17,136 INFO Download rate 197.7K/s                                                                    \n"
     ]
    },
    {
     "name": "stdout",
     "output_type": "stream",
     "text": [
      "用时660.9647946357727\n"
     ]
    },
    {
     "name": "stderr",
     "output_type": "stream",
     "text": [
      "2022-09-29 21:31:18,429 INFO Welcome to the CDS\n",
      "2022-09-29 21:31:18,431 INFO Sending request to https://cds.climate.copernicus.eu/api/v2/resources/reanalysis-era5-pressure-levels\n",
      "2022-09-29 21:31:18,704 INFO Request is queued\n",
      "2022-09-29 21:31:19,978 INFO Request is running\n",
      "2022-09-29 21:31:41,109 INFO Request is completed\n",
      "2022-09-29 21:31:41,111 INFO Downloading https://download-0020.copernicus-climate.eu/cache-compute-0020/cache/data1/adaptor.mars.internal-1664458293.3544338-29464-18-c0b1a2d2-2c95-4e87-986e-05f5e72fd451.nc to g:/ERA5_RH/ERA5_RH_202001.nc (123M)\n",
      "2022-09-29 21:32:47,174 INFO Download rate 1.9M/s                                                                      \n"
     ]
    },
    {
     "name": "stdout",
     "output_type": "stream",
     "text": [
      "用时89.9570779800415\n"
     ]
    },
    {
     "name": "stderr",
     "output_type": "stream",
     "text": [
      "2022-09-29 21:32:48,364 INFO Welcome to the CDS\n",
      "2022-09-29 21:32:48,365 INFO Sending request to https://cds.climate.copernicus.eu/api/v2/resources/reanalysis-era5-pressure-levels\n",
      "2022-09-29 21:32:48,618 INFO Request is queued\n",
      "2022-09-29 21:32:49,864 INFO Request is running\n",
      "2022-09-29 21:33:10,870 INFO Request is completed\n",
      "2022-09-29 21:33:10,870 INFO Downloading https://download-0017.copernicus-climate.eu/cache-compute-0017/cache/data6/adaptor.mars.internal-1664458384.0831099-14152-4-31e42821-3748-45d7-8b29-4d94eebf40e8.nc to g:/ERA5_RH/ERA5_RH_202002.nc (115M)\n",
      "2022-09-29 21:35:21,168 ERROR Download interupted: HTTPSConnectionPool(host='download-0017.copernicus-climate.eu', port=443): Read timed out.\n",
      "2022-09-29 21:35:21,170 ERROR Download incomplete, downloaded 19596288 byte(s) out of 120608932\n",
      "2022-09-29 21:35:21,171 WARNING Sleeping 10 seconds\n",
      "2022-09-29 21:35:31,186 WARNING Resuming download at byte 19596288\n",
      "2022-09-29 21:37:49,099 INFO Download rate 423.3K/s                                                                    \n"
     ]
    },
    {
     "name": "stdout",
     "output_type": "stream",
     "text": [
      "用时301.96436190605164\n"
     ]
    },
    {
     "name": "stderr",
     "output_type": "stream",
     "text": [
      "2022-09-29 21:37:50,334 INFO Welcome to the CDS\n",
      "2022-09-29 21:37:50,336 INFO Sending request to https://cds.climate.copernicus.eu/api/v2/resources/reanalysis-era5-pressure-levels\n",
      "2022-09-29 21:37:50,609 INFO Request is queued\n",
      "2022-09-29 21:37:51,842 INFO Request is running\n",
      "2022-09-29 21:38:12,844 INFO Request is completed\n",
      "2022-09-29 21:38:12,846 INFO Downloading https://download-0020.copernicus-climate.eu/cache-compute-0020/cache/data6/adaptor.mars.internal-1664458686.4240527-7546-6-ad6003e8-17f3-4621-aaa6-3fae7e5e11b9.nc to g:/ERA5_RH/ERA5_RH_202003.nc (123M)\n",
      "2022-09-29 21:39:18,898 INFO Download rate 1.9M/s                                                                      \n",
      "2022-09-29 21:39:19,891 INFO Welcome to the CDS\n"
     ]
    },
    {
     "name": "stdout",
     "output_type": "stream",
     "text": [
      "用时89.596355676651\n"
     ]
    },
    {
     "name": "stderr",
     "output_type": "stream",
     "text": [
      "2022-09-29 21:39:19,894 INFO Sending request to https://cds.climate.copernicus.eu/api/v2/resources/reanalysis-era5-pressure-levels\n",
      "2022-09-29 21:39:20,132 INFO Request is queued\n",
      "2022-09-29 21:39:21,361 INFO Request is running\n",
      "2022-09-29 21:39:42,302 INFO Request is completed\n",
      "2022-09-29 21:39:42,305 INFO Downloading https://download-0002-clone.copernicus-climate.eu/cache-compute-0002/cache/data7/adaptor.mars.internal-1664458774.93883-25879-14-524940d6-b015-46e5-815f-202f60f3a9f8.nc to g:/ERA5_RH/ERA5_RH_202004.nc (119M)\n",
      "2022-09-29 21:40:03,367 WARNING Recovering from connection error [HTTPSConnectionPool(host='download-0002-clone.copernicus-climate.eu', port=443): Max retries exceeded with url: /cache-compute-0002/cache/data7/adaptor.mars.internal-1664458774.93883-25879-14-524940d6-b015-46e5-815f-202f60f3a9f8.nc (Caused by NewConnectionError('<urllib3.connection.HTTPSConnection object at 0x000001C3314CBA90>: Failed to establish a new connection: [WinError 10060] 由于连接方在一段时间后没有正确答复或连接的主机没有反应，连接尝试失败。'))], attemps 0 of 500\n",
      "2022-09-29 21:40:03,370 WARNING Retrying in 120 seconds\n",
      "2022-09-29 21:42:03,387 INFO Retrying now...\n",
      "2022-09-29 21:44:42,529 INFO Download rate 405.8K/s                                                                    \n"
     ]
    },
    {
     "name": "stdout",
     "output_type": "stream",
     "text": [
      "用时322.8353853225708\n"
     ]
    },
    {
     "name": "stderr",
     "output_type": "stream",
     "text": [
      "2022-09-29 21:44:43,531 INFO Welcome to the CDS\n",
      "2022-09-29 21:44:43,532 INFO Sending request to https://cds.climate.copernicus.eu/api/v2/resources/reanalysis-era5-pressure-levels\n",
      "2022-09-29 21:44:43,788 INFO Request is queued\n",
      "2022-09-29 21:44:45,059 INFO Request is running\n",
      "2022-09-29 21:45:06,147 INFO Request is completed\n",
      "2022-09-29 21:45:06,149 INFO Downloading https://download-0005-clone.copernicus-climate.eu/cache-compute-0005/cache/data4/adaptor.mars.internal-1664459099.2002468-24429-16-3634cb40-e2b6-4b4d-aafc-c00b2863d69b.nc to g:/ERA5_RH/ERA5_RH_202005.nc (123M)\n",
      "2022-09-29 21:46:50,010 INFO Download rate 1.2M/s                                                                      \n"
     ]
    },
    {
     "name": "stdout",
     "output_type": "stream",
     "text": [
      "用时128.4632351398468\n"
     ]
    },
    {
     "name": "stderr",
     "output_type": "stream",
     "text": [
      "2022-09-29 21:46:51,241 INFO Welcome to the CDS\n",
      "2022-09-29 21:46:51,243 INFO Sending request to https://cds.climate.copernicus.eu/api/v2/resources/reanalysis-era5-pressure-levels\n",
      "2022-09-29 21:46:51,515 INFO Request is queued\n",
      "2022-09-29 21:46:52,770 INFO Request is running\n",
      "2022-09-29 21:47:05,985 INFO Request is completed\n",
      "2022-09-29 21:47:05,986 INFO Downloading https://download-0020.copernicus-climate.eu/cache-compute-0020/cache/data8/adaptor.mars.internal-1664459222.413485-11009-4-f9f342af-d503-4829-bc96-8277d9193800.nc to g:/ERA5_RH/ERA5_RH_202006.nc (119M)\n",
      "2022-09-29 21:48:05,814 INFO Download rate 2M/s                                                                        \n"
     ]
    },
    {
     "name": "stdout",
     "output_type": "stream",
     "text": [
      "用时75.06564354896545\n"
     ]
    },
    {
     "name": "stderr",
     "output_type": "stream",
     "text": [
      "2022-09-29 21:48:06,305 INFO Welcome to the CDS\n",
      "2022-09-29 21:48:06,306 INFO Sending request to https://cds.climate.copernicus.eu/api/v2/resources/reanalysis-era5-pressure-levels\n",
      "2022-09-29 21:48:06,612 INFO Request is queued\n",
      "2022-09-29 21:48:07,871 INFO Request is running\n",
      "2022-09-29 21:48:28,930 INFO Request is completed\n",
      "2022-09-29 21:48:28,932 INFO Downloading https://download-0009-clone.copernicus-climate.eu/cache-compute-0009/cache/data0/adaptor.mars.internal-1664459303.6641002-9882-12-d9afb916-494d-4dbd-a3d3-e24f98758907.nc to g:/ERA5_RH/ERA5_RH_202007.nc (123M)\n",
      "2022-09-29 21:50:16,951 INFO Download rate 1.1M/s                                                                      \n"
     ]
    },
    {
     "name": "stdout",
     "output_type": "stream",
     "text": [
      "用时131.83700680732727\n"
     ]
    },
    {
     "name": "stderr",
     "output_type": "stream",
     "text": [
      "2022-09-29 21:50:18,134 INFO Welcome to the CDS\n",
      "2022-09-29 21:50:18,135 INFO Sending request to https://cds.climate.copernicus.eu/api/v2/resources/reanalysis-era5-pressure-levels\n",
      "2022-09-29 21:50:18,398 INFO Request is queued\n",
      "2022-09-29 21:50:19,651 INFO Request is running\n",
      "2022-09-29 21:50:40,637 INFO Request is completed\n",
      "2022-09-29 21:50:40,640 INFO Downloading https://download-0017.copernicus-climate.eu/cache-compute-0017/cache/data6/adaptor.mars.internal-1664459432.5024552-11875-15-7a33b265-a642-4e07-8178-544872aec7ae.nc to g:/ERA5_RH/ERA5_RH_202008.nc (123M)\n",
      "2022-09-29 21:56:16,822 INFO Download rate 374.5K/s                                                                    \n"
     ]
    },
    {
     "name": "stdout",
     "output_type": "stream",
     "text": [
      "用时359.8693823814392\n"
     ]
    },
    {
     "name": "stderr",
     "output_type": "stream",
     "text": [
      "2022-09-29 21:56:18,005 INFO Welcome to the CDS\n",
      "2022-09-29 21:56:18,006 INFO Sending request to https://cds.climate.copernicus.eu/api/v2/resources/reanalysis-era5-pressure-levels\n",
      "2022-09-29 21:56:18,265 INFO Request is queued\n",
      "2022-09-29 21:56:19,510 INFO Request is running\n",
      "2022-09-29 21:56:40,525 INFO Request is completed\n",
      "2022-09-29 21:56:40,526 INFO Downloading https://download-0003-clone.copernicus-climate.eu/cache-compute-0003/cache/data9/adaptor.mars.internal-1664459791.5401301-9792-6-1c71ad50-b9df-4cd8-8936-713f9073327f.nc to g:/ERA5_RH/ERA5_RH_202009.nc (119M)\n",
      "2022-09-29 21:58:41,225 ERROR Download interupted: HTTPSConnectionPool(host='download-0003-clone.copernicus-climate.eu', port=443): Read timed out.\n",
      "2022-09-29 21:58:42,433 ERROR Download incomplete, downloaded 23157760 byte(s) out of 124767668\n",
      "2022-09-29 21:58:42,433 WARNING Sleeping 10 seconds\n",
      "2022-09-29 21:58:52,438 WARNING Resuming download at byte 23157760\n",
      "2022-09-29 22:03:09,034 INFO Download rate 313.6K/s                                                                    \n"
     ]
    },
    {
     "name": "stdout",
     "output_type": "stream",
     "text": [
      "用时412.2872030735016\n"
     ]
    },
    {
     "name": "stderr",
     "output_type": "stream",
     "text": [
      "2022-09-29 22:03:10,308 INFO Welcome to the CDS\n",
      "2022-09-29 22:03:10,309 INFO Sending request to https://cds.climate.copernicus.eu/api/v2/resources/reanalysis-era5-pressure-levels\n",
      "2022-09-29 22:03:10,567 INFO Request is queued\n",
      "2022-09-29 22:03:11,831 INFO Request is running\n",
      "2022-09-29 22:03:32,921 INFO Request is completed\n",
      "2022-09-29 22:03:32,923 INFO Downloading https://download-0017.copernicus-climate.eu/cache-compute-0017/cache/data6/adaptor.mars.internal-1664460205.973494-25720-7-61101789-a96d-49d3-ae80-ca26b44f6016.nc to g:/ERA5_RH/ERA5_RH_202010.nc (123M)\n",
      "2022-09-29 22:03:53,985 WARNING Recovering from connection error [HTTPSConnectionPool(host='download-0017.copernicus-climate.eu', port=443): Max retries exceeded with url: /cache-compute-0017/cache/data6/adaptor.mars.internal-1664460205.973494-25720-7-61101789-a96d-49d3-ae80-ca26b44f6016.nc (Caused by NewConnectionError('<urllib3.connection.HTTPSConnection object at 0x000001C3325E23A0>: Failed to establish a new connection: [WinError 10060] 由于连接方在一段时间后没有正确答复或连接的主机没有反应，连接尝试失败。'))], attemps 0 of 500\n",
      "2022-09-29 22:03:53,987 WARNING Retrying in 120 seconds\n",
      "2022-09-29 22:05:54,001 INFO Retrying now...\n",
      "2022-09-29 22:13:53,927 INFO Download rate 202.7K/s                                                                    \n"
     ]
    },
    {
     "name": "stdout",
     "output_type": "stream",
     "text": [
      "用时643.8685195446014\n"
     ]
    },
    {
     "name": "stderr",
     "output_type": "stream",
     "text": [
      "2022-09-29 22:13:54,948 INFO Welcome to the CDS\n",
      "2022-09-29 22:13:54,950 INFO Sending request to https://cds.climate.copernicus.eu/api/v2/resources/reanalysis-era5-pressure-levels\n",
      "2022-09-29 22:13:55,229 INFO Request is queued\n",
      "2022-09-29 22:13:56,487 INFO Request is running\n",
      "2022-09-29 22:14:17,571 INFO Request is completed\n",
      "2022-09-29 22:14:17,574 INFO Downloading https://download-0008-clone.copernicus-climate.eu/cache-compute-0008/cache/data5/adaptor.mars.internal-1664460849.4900272-19848-10-d5fa2ad1-5b3a-4260-a487-97d21c57e941.nc to g:/ERA5_RH/ERA5_RH_202011.nc (119M)\n",
      "2022-09-29 22:40:52,906 INFO Download rate 76.4K/s                                                                     \n"
     ]
    },
    {
     "name": "stdout",
     "output_type": "stream",
     "text": [
      "用时1619.9021933078766\n"
     ]
    },
    {
     "name": "stderr",
     "output_type": "stream",
     "text": [
      "2022-09-29 22:40:54,631 INFO Welcome to the CDS\n",
      "2022-09-29 22:40:54,633 INFO Sending request to https://cds.climate.copernicus.eu/api/v2/resources/reanalysis-era5-pressure-levels\n",
      "2022-09-29 22:40:54,907 INFO Request is queued\n",
      "2022-09-29 22:40:56,139 INFO Request is running\n",
      "2022-09-29 22:41:17,118 INFO Request is completed\n",
      "2022-09-29 22:41:17,119 INFO Downloading https://download-0013-clone.copernicus-climate.eu/cache-compute-0013/cache/data1/adaptor.mars.internal-1664462469.780237-29085-6-169eff8b-c9a7-4d2e-b0b8-4e4ea2ccf87d.nc to g:/ERA5_RH/ERA5_RH_202012.nc (123M)\n",
      "2022-09-29 23:00:03,547 INFO Download rate 111.8K/s                                                                    \n"
     ]
    },
    {
     "name": "stdout",
     "output_type": "stream",
     "text": [
      "用时1150.575097322464\n"
     ]
    },
    {
     "name": "stderr",
     "output_type": "stream",
     "text": [
      "2022-09-29 23:00:04,619 INFO Welcome to the CDS\n",
      "2022-09-29 23:00:04,621 INFO Sending request to https://cds.climate.copernicus.eu/api/v2/resources/reanalysis-era5-pressure-levels\n",
      "2022-09-29 23:00:04,852 INFO Request is queued\n",
      "2022-09-29 23:00:06,072 INFO Request is running\n",
      "2022-09-29 23:00:27,423 INFO Request is completed\n",
      "2022-09-29 23:00:27,425 INFO Downloading https://download-0004-clone.copernicus-climate.eu/cache-compute-0004/cache/data5/adaptor.mars.internal-1664463619.9023201-12456-4-ef01dab0-386d-45f4-81d4-d915dc77dff3.nc to g:/ERA5_RH/ERA5_RH_202101.nc (123M)\n",
      "2022-09-29 23:37:00,249 INFO Download rate 57.4K/s                                                                     \n"
     ]
    },
    {
     "name": "stdout",
     "output_type": "stream",
     "text": [
      "用时2216.8300652503967\n"
     ]
    },
    {
     "name": "stderr",
     "output_type": "stream",
     "text": [
      "2022-09-29 23:37:01,479 INFO Welcome to the CDS\n",
      "2022-09-29 23:37:01,481 INFO Sending request to https://cds.climate.copernicus.eu/api/v2/resources/reanalysis-era5-pressure-levels\n",
      "2022-09-29 23:37:01,730 INFO Request is queued\n",
      "2022-09-29 23:37:02,976 INFO Request is running\n",
      "2022-09-29 23:37:16,180 INFO Request is completed\n",
      "2022-09-29 23:37:16,183 INFO Downloading https://download-0007-clone.copernicus-climate.eu/cache-compute-0007/cache/data2/adaptor.mars.internal-1664465832.8418472-29840-20-30aa88ae-5bf7-4391-b08a-091e9e0726fd.nc to g:/ERA5_RH/ERA5_RH_202102.nc (111.1M)\n",
      "2022-09-29 23:57:55,606 INFO Download rate 91.8K/s                                                                     \n"
     ]
    },
    {
     "name": "stdout",
     "output_type": "stream",
     "text": [
      "用时1255.483009338379\n"
     ]
    },
    {
     "name": "stderr",
     "output_type": "stream",
     "text": [
      "2022-09-29 23:57:56,993 INFO Welcome to the CDS\n",
      "2022-09-29 23:57:56,995 INFO Sending request to https://cds.climate.copernicus.eu/api/v2/resources/reanalysis-era5-pressure-levels\n",
      "2022-09-29 23:57:57,277 INFO Request is queued\n",
      "2022-09-29 23:57:58,563 INFO Request is running\n",
      "2022-09-29 23:58:19,769 INFO Request is completed\n",
      "2022-09-29 23:58:19,771 INFO Downloading https://download-0017.copernicus-climate.eu/cache-compute-0017/cache/data5/adaptor.mars.internal-1664467090.2263472-15296-5-2c87afbe-1787-4b2d-8c0d-e7b7f7284aba.nc to g:/ERA5_RH/ERA5_RH_202103.nc (123M)\n",
      "2022-09-30 00:10:38,676 ERROR Download interupted: HTTPSConnectionPool(host='download-0017.copernicus-climate.eu', port=443): Read timed out.\n",
      "2022-09-30 00:10:38,677 ERROR Download incomplete, downloaded 127102976 byte(s) out of 128926404\n",
      "2022-09-30 00:10:38,677 WARNING Sleeping 10 seconds\n",
      "2022-09-30 00:10:48,682 WARNING Resuming download at byte 127102976\n",
      "2022-09-30 00:10:52,178 INFO Download rate 167.3K/s                                                                    \n"
     ]
    },
    {
     "name": "stdout",
     "output_type": "stream",
     "text": [
      "用时776.4189839363098\n"
     ]
    },
    {
     "name": "stderr",
     "output_type": "stream",
     "text": [
      "2022-09-30 00:10:53,377 INFO Welcome to the CDS\n",
      "2022-09-30 00:10:53,378 INFO Sending request to https://cds.climate.copernicus.eu/api/v2/resources/reanalysis-era5-pressure-levels\n",
      "2022-09-30 00:10:53,662 INFO Request is queued\n",
      "2022-09-30 00:10:54,911 INFO Request is running\n",
      "2022-09-30 00:11:08,075 INFO Request is completed\n",
      "2022-09-30 00:11:08,078 INFO Downloading https://download-0004-clone.copernicus-climate.eu/cache-compute-0004/cache/data5/adaptor.mars.internal-1664467865.0135486-16624-4-1a733153-cf4c-4440-8c37-42958ac8fecb.nc to g:/ERA5_RH/ERA5_RH_202104.nc (119M)\n",
      "2022-09-30 00:13:18,222 INFO Download rate 936.2K/s                                                                    \n",
      "2022-09-30 00:13:19,232 INFO Welcome to the CDS\n"
     ]
    },
    {
     "name": "stdout",
     "output_type": "stream",
     "text": [
      "用时145.8883502483368\n"
     ]
    },
    {
     "name": "stderr",
     "output_type": "stream",
     "text": [
      "2022-09-30 00:13:19,234 INFO Sending request to https://cds.climate.copernicus.eu/api/v2/resources/reanalysis-era5-pressure-levels\n",
      "2022-09-30 00:13:19,460 INFO Request is queued\n",
      "2022-09-30 00:13:20,669 INFO Request is running\n",
      "2022-09-30 00:13:41,523 INFO Request is completed\n",
      "2022-09-30 00:13:41,526 INFO Downloading https://download-0006-clone.copernicus-climate.eu/cache-compute-0006/cache/data0/adaptor.mars.internal-1664468011.3185263-12231-8-84760cfd-3c46-4425-a7d1-93e3f427641d.nc to g:/ERA5_RH/ERA5_RH_202105.nc (123M)\n",
      "2022-09-30 00:14:46,463 INFO Download rate 1.9M/s                                                                      \n"
     ]
    },
    {
     "name": "stdout",
     "output_type": "stream",
     "text": [
      "('Connection aborted.', RemoteDisconnected('Remote end closed connection without response'))\n",
      "用时87.48417711257935\n"
     ]
    },
    {
     "name": "stderr",
     "output_type": "stream",
     "text": [
      "2022-09-30 00:14:47,363 INFO Welcome to the CDS\n",
      "2022-09-30 00:14:47,365 INFO Sending request to https://cds.climate.copernicus.eu/api/v2/resources/reanalysis-era5-pressure-levels\n",
      "2022-09-30 00:14:47,589 INFO Request is queued\n",
      "2022-09-30 00:14:48,815 INFO Request is running\n",
      "2022-09-30 00:15:09,702 INFO Request is completed\n",
      "2022-09-30 00:15:09,705 INFO Downloading https://download-0000-clone.copernicus-climate.eu/cache-compute-0000/cache/data5/adaptor.mars.internal-1664468103.1859784-11484-2-f096a4ff-df29-4f7d-97b3-8b7dfa65023e.nc to g:/ERA5_RH/ERA5_RH_202106.nc (119M)\n",
      "2022-09-30 00:15:50,447 INFO Download rate 2.9M/s                                                                      \n",
      "2022-09-30 00:15:50,867 INFO Welcome to the CDS\n"
     ]
    },
    {
     "name": "stdout",
     "output_type": "stream",
     "text": [
      "用时64.14289402961731\n"
     ]
    },
    {
     "name": "stderr",
     "output_type": "stream",
     "text": [
      "2022-09-30 00:15:50,868 INFO Sending request to https://cds.climate.copernicus.eu/api/v2/resources/reanalysis-era5-pressure-levels\n",
      "2022-09-30 00:15:51,111 INFO Request is queued\n",
      "2022-09-30 00:15:52,325 INFO Request is running\n",
      "2022-09-30 00:16:13,202 INFO Request is completed\n",
      "2022-09-30 00:16:13,205 INFO Downloading https://download-0019.copernicus-climate.eu/cache-compute-0019/cache/data2/adaptor.mars.internal-1664468164.2815464-10371-3-691ccd48-9ccd-421e-b905-9124044e487b.nc to g:/ERA5_RH/ERA5_RH_202107.nc (123M)\n",
      "2022-09-30 00:17:46,022 INFO Download rate 1.3M/s                                                                      \n"
     ]
    },
    {
     "name": "stdout",
     "output_type": "stream",
     "text": [
      "用时116.29062223434448\n"
     ]
    },
    {
     "name": "stderr",
     "output_type": "stream",
     "text": [
      "2022-09-30 00:17:47,177 INFO Welcome to the CDS\n",
      "2022-09-30 00:17:47,178 INFO Sending request to https://cds.climate.copernicus.eu/api/v2/resources/reanalysis-era5-pressure-levels\n",
      "2022-09-30 00:17:47,416 INFO Request is queued\n",
      "2022-09-30 00:17:48,658 INFO Request is running\n",
      "2022-09-30 00:18:09,603 INFO Request is completed\n",
      "2022-09-30 00:18:09,605 INFO Downloading https://download-0015-clone.copernicus-climate.eu/cache-compute-0015/cache/data8/adaptor.mars.internal-1664468280.4995425-10967-15-6e20beda-9662-4fed-b143-f5da68a9a5f7.nc to g:/ERA5_RH/ERA5_RH_202108.nc (123M)\n",
      "2022-09-30 00:19:08,859 INFO Download rate 2.1M/s                                                                      \n"
     ]
    },
    {
     "name": "stdout",
     "output_type": "stream",
     "text": [
      "用时82.13749861717224\n"
     ]
    },
    {
     "name": "stderr",
     "output_type": "stream",
     "text": [
      "2022-09-30 00:19:09,313 INFO Welcome to the CDS\n",
      "2022-09-30 00:19:09,314 INFO Sending request to https://cds.climate.copernicus.eu/api/v2/resources/reanalysis-era5-pressure-levels\n",
      "2022-09-30 00:19:09,577 INFO Request is queued\n",
      "2022-09-30 00:19:10,805 INFO Request is running\n",
      "2022-09-30 00:19:31,772 INFO Request is completed\n",
      "2022-09-30 00:19:31,774 INFO Downloading https://download-0001-clone.copernicus-climate.eu/cache-compute-0001/cache/data1/adaptor.mars.internal-1664468362.8661814-22333-6-10aeb963-fb2d-4a59-b1c5-93c0442fab70.nc to g:/ERA5_RH/ERA5_RH_202109.nc (119M)\n",
      "2022-09-30 00:21:38,615 INFO Download rate 960.6K/s                                                                    \n"
     ]
    },
    {
     "name": "stdout",
     "output_type": "stream",
     "text": [
      "用时150.3548948764801\n"
     ]
    },
    {
     "name": "stderr",
     "output_type": "stream",
     "text": [
      "2022-09-30 00:21:39,654 INFO Welcome to the CDS\n",
      "2022-09-30 00:21:39,655 INFO Sending request to https://cds.climate.copernicus.eu/api/v2/resources/reanalysis-era5-pressure-levels\n",
      "2022-09-30 00:21:39,867 INFO Request is queued\n",
      "2022-09-30 00:21:41,091 INFO Request is running\n",
      "2022-09-30 00:22:01,948 INFO Request is completed\n",
      "2022-09-30 00:22:01,949 INFO Downloading https://download-0018.copernicus-climate.eu/cache-compute-0018/cache/data5/adaptor.mars.internal-1664468512.820042-9747-7-621d11a7-631a-4f94-a0f2-9308f6b4899b.nc to g:/ERA5_RH/ERA5_RH_202110.nc (123M)\n",
      "2022-09-30 00:24:28,253 INFO Download rate 860.6K/s                                                                    \n"
     ]
    },
    {
     "name": "stdout",
     "output_type": "stream",
     "text": [
      "用时169.78283834457397\n"
     ]
    },
    {
     "name": "stderr",
     "output_type": "stream",
     "text": [
      "2022-09-30 00:24:29,473 INFO Welcome to the CDS\n",
      "2022-09-30 00:24:29,475 INFO Sending request to https://cds.climate.copernicus.eu/api/v2/resources/reanalysis-era5-pressure-levels\n",
      "2022-09-30 00:24:29,744 INFO Request is queued\n",
      "2022-09-30 00:24:31,001 INFO Request is running\n",
      "2022-09-30 00:24:52,045 INFO Request is completed\n",
      "2022-09-30 00:24:52,046 INFO Downloading https://download-0008-clone.copernicus-climate.eu/cache-compute-0008/cache/data6/adaptor.mars.internal-1664468683.820981-19727-6-f17d55c7-1516-403b-949a-ee79d8b5a7a8.nc to g:/ERA5_RH/ERA5_RH_202111.nc (119M)\n",
      "2022-09-30 00:26:57,332 INFO Download rate 972.5K/s                                                                    \n"
     ]
    },
    {
     "name": "stdout",
     "output_type": "stream",
     "text": [
      "用时149.0275013446808\n"
     ]
    },
    {
     "name": "stderr",
     "output_type": "stream",
     "text": [
      "2022-09-30 00:26:58,488 INFO Welcome to the CDS\n",
      "2022-09-30 00:26:58,490 INFO Sending request to https://cds.climate.copernicus.eu/api/v2/resources/reanalysis-era5-pressure-levels\n",
      "2022-09-30 00:26:58,745 INFO Request is queued\n",
      "2022-09-30 00:26:59,987 INFO Request is running\n",
      "2022-09-30 00:28:54,441 INFO Request is completed\n",
      "2022-09-30 00:28:54,442 INFO Downloading https://download-0011-clone.copernicus-climate.eu/cache-compute-0011/cache/data2/adaptor.mars.internal-1664468896.8974617-15249-7-d4388af4-bae1-4e76-b20f-9f8b45c036db.nc to g:/ERA5_RH/ERA5_RH_202112.nc (123M)\n",
      "2022-09-30 00:29:37,566 INFO Download rate 2.9M/s                                                                      \n"
     ]
    },
    {
     "name": "stdout",
     "output_type": "stream",
     "text": [
      "用时159.54230618476868\n"
     ]
    }
   ],
   "source": [
    "import cdsapi\n",
    "import os\n",
    "import time\n",
    "\n",
    "c = cdsapi.Client()\n",
    "years = ('2001', '2002', '2003',\n",
    "            '2004', '2005', '2006',\n",
    "            '2007', '2008', '2009',\n",
    "            '2010', '2011', '2012',\n",
    "            '2013', '2014', '2015',\n",
    "            '2016', '2017', '2018',\n",
    "            '2019', '2020',\"2021\")\n",
    "months = ('01', '02', '03',\n",
    "            '04', '05', '06',\n",
    "            '07', '08', '09',\n",
    "            '10', '11', '12')\n",
    "for Y in years:\n",
    "    for M in months:\n",
    "        target_filename = \"g:/ERA5_RH/ERA5_RH_\" + Y + M + \".nc\"\n",
    "        if not os.path.isfile(target_filename):\n",
    "            start_time = time.time()\n",
    "            c.retrieve(\n",
    "            'reanalysis-era5-pressure-levels',\n",
    "            {\n",
    "                'product_type': 'reanalysis',\n",
    "                'variable': [\n",
    "                    'relative_humidity',\n",
    "                ],\n",
    "                'pressure_level': [\n",
    "                    '600', '700',\n",
    "                ],\n",
    "                'grid':[0.5, 0.5],\n",
    "              #'area':[12, 72, 42, 128],\n",
    "                'year': Y,\n",
    "                'month': M,\n",
    "                 'day':[\n",
    "                            '01','02','03',\n",
    "                            '04','05','06',\n",
    "                            '07','08','09',\n",
    "                            '10','11','12',\n",
    "                            '13','14','15',\n",
    "                            '16','17','18',\n",
    "                            '19','20','21',\n",
    "                            '22','23','24',\n",
    "                            '25','26','27',\n",
    "                            '28','29','30',\n",
    "                            '31'\n",
    "                        ],\n",
    "                'time': [\n",
    "                    '00:00', '06:00', '12:00',\n",
    "                    '18:00',\n",
    "                ],\n",
    "                'format': 'netcdf',\n",
    "            },\n",
    "            target_filename)\n",
    "            end_time = time.time()\n",
    "            print(\"用时{}\".format(end_time-start_time))"
   ]
  },
  {
   "cell_type": "code",
   "execution_count": null,
   "id": "a82e460a",
   "metadata": {},
   "outputs": [],
   "source": []
  }
 ],
 "metadata": {
  "kernelspec": {
   "display_name": "Python 3",
   "language": "python",
   "name": "python3"
  },
  "toc": {
   "base_numbering": 1,
   "nav_menu": {},
   "number_sections": true,
   "sideBar": true,
   "skip_h1_title": false,
   "title_cell": "Table of Contents",
   "title_sidebar": "Contents",
   "toc_cell": false,
   "toc_position": {},
   "toc_section_display": true,
   "toc_window_display": false
  }
 },
 "nbformat": 4,
 "nbformat_minor": 5
}
