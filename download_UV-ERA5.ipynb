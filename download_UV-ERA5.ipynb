{
 "cells": [
  {
   "cell_type": "code",
   "execution_count": 3,
   "id": "29715fde",
   "metadata": {
    "ExecuteTime": {
     "end_time": "2021-12-04T18:50:36.183607Z",
     "start_time": "2021-12-04T10:37:37.892804Z"
    },
    "scrolled": true
   },
   "outputs": [
    {
     "name": "stderr",
     "output_type": "stream",
     "text": [
      "2021-12-04 18:37:39,280 INFO Welcome to the CDS\n",
      "2021-12-04 18:37:39,281 INFO Sending request to https://cds.climate.copernicus.eu/api/v2/resources/reanalysis-era5-pressure-levels\n",
      "2021-12-04 18:37:39,619 INFO Request is completed\n",
      "2021-12-04 18:37:39,621 INFO Downloading https://download-0015.copernicus-climate.eu/cache-compute-0015/cache/data5/adaptor.mars.internal-1638612472.9053135-13073-1-f918e4c9-4d0d-46cc-9b24-1e10472cd472.nc to F:/ERA5_UV/ERA5_UV_199208.nc (245.9M)\n",
      "2021-12-04 18:43:35,273 ERROR Download interupted: HTTPSConnectionPool(host='download-0015.copernicus-climate.eu', port=443): Read timed out.\n",
      "2021-12-04 18:43:35,277 ERROR Download incomplete, downloaded 115552256 byte(s) out of 257847012\n",
      "2021-12-04 18:43:35,280 WARNING Sleeping 10 seconds\n",
      "2021-12-04 18:43:45,289 WARNING Resuming download at byte 115552256\n",
      "2021-12-04 18:47:18,679 INFO Download rate 434.9K/s                                                                    \n"
     ]
    },
    {
     "name": "stdout",
     "output_type": "stream",
     "text": [
      "用时582.0772032737732\n"
     ]
    },
    {
     "name": "stderr",
     "output_type": "stream",
     "text": [
      "2021-12-04 18:47:20,305 INFO Welcome to the CDS\n",
      "2021-12-04 18:47:20,308 INFO Sending request to https://cds.climate.copernicus.eu/api/v2/resources/reanalysis-era5-pressure-levels\n",
      "2021-12-04 18:47:20,594 INFO Request is queued\n",
      "2021-12-04 21:56:42,698 INFO Request is completed\n",
      "2021-12-04 21:56:42,700 INFO Downloading https://download-0005.copernicus-climate.eu/cache-compute-0005/cache/data6/adaptor.mars.internal-1638616149.438266-22292-8-280ee2ca-1ea6-4bf7-9730-efe067a7e447.nc to F:/ERA5_UV/ERA5_UV_199209.nc (238M)\n",
      "2021-12-04 22:02:34,789 INFO Download rate 692.1K/s                                                                    \n"
     ]
    },
    {
     "name": "stdout",
     "output_type": "stream",
     "text": [
      "用时11715.921011686325\n"
     ]
    },
    {
     "name": "stderr",
     "output_type": "stream",
     "text": [
      "2021-12-04 22:02:36,203 INFO Welcome to the CDS\n",
      "2021-12-04 22:02:36,204 INFO Sending request to https://cds.climate.copernicus.eu/api/v2/resources/reanalysis-era5-pressure-levels\n",
      "2021-12-04 22:02:36,482 INFO Request is queued\n",
      "2021-12-04 22:02:37,759 INFO Request is running\n",
      "2021-12-04 22:03:27,994 INFO Request is completed\n",
      "2021-12-04 22:03:27,995 INFO Downloading https://download-0007.copernicus-climate.eu/cache-compute-0007/cache/data0/adaptor.mars.internal-1638626584.4056113-15702-18-1e418cba-7527-4e52-b6a2-b81f6b7728fc.nc to F:/ERA5_UV/ERA5_UV_199210.nc (245.9M)\n",
      "2021-12-04 22:04:38,309 INFO Download rate 3.5M/s                                                                      \n"
     ]
    },
    {
     "name": "stdout",
     "output_type": "stream",
     "text": [
      "用时123.48993277549744\n"
     ]
    },
    {
     "name": "stderr",
     "output_type": "stream",
     "text": [
      "2021-12-04 22:04:39,684 INFO Welcome to the CDS\n",
      "2021-12-04 22:04:39,685 INFO Sending request to https://cds.climate.copernicus.eu/api/v2/resources/reanalysis-era5-pressure-levels\n",
      "2021-12-04 22:04:39,960 INFO Request is queued\n",
      "2021-12-04 22:04:41,252 INFO Request is running\n",
      "2021-12-04 22:05:14,122 INFO Request is completed\n",
      "2021-12-04 22:05:14,125 INFO Downloading https://download-0003.copernicus-climate.eu/cache-compute-0003/cache/data1/adaptor.mars.internal-1638626701.790156-10042-1-8d3421a0-3d5d-45d0-ae34-aad97fe91c05.nc to F:/ERA5_UV/ERA5_UV_199211.nc (238M)\n",
      "2021-12-04 22:07:11,350 INFO Download rate 2M/s                                                                        \n"
     ]
    },
    {
     "name": "stdout",
     "output_type": "stream",
     "text": [
      "用时153.0952594280243\n"
     ]
    },
    {
     "name": "stderr",
     "output_type": "stream",
     "text": [
      "2021-12-04 22:07:12,779 INFO Welcome to the CDS\n",
      "2021-12-04 22:07:12,780 INFO Sending request to https://cds.climate.copernicus.eu/api/v2/resources/reanalysis-era5-pressure-levels\n",
      "2021-12-04 22:07:13,057 INFO Request is queued\n",
      "2021-12-04 22:07:14,359 INFO Request is running\n",
      "2021-12-04 22:07:47,260 INFO Request is completed\n",
      "2021-12-04 22:07:47,261 INFO Downloading https://download-0003.copernicus-climate.eu/cache-compute-0003/cache/data9/adaptor.mars.internal-1638626854.8514338-9914-13-a9f8a1fd-92fd-44a1-bb06-5bcdbd27d7b1.nc to F:/ERA5_UV/ERA5_UV_199212.nc (245.9M)\n",
      "2021-12-04 22:10:02,986 INFO Download rate 1.8M/s                                                                      \n"
     ]
    },
    {
     "name": "stdout",
     "output_type": "stream",
     "text": [
      "用时171.45742988586426\n"
     ]
    },
    {
     "name": "stderr",
     "output_type": "stream",
     "text": [
      "2021-12-04 22:10:04,214 INFO Welcome to the CDS\n",
      "2021-12-04 22:10:04,216 INFO Sending request to https://cds.climate.copernicus.eu/api/v2/resources/reanalysis-era5-pressure-levels\n",
      "2021-12-04 22:10:04,476 INFO Request is queued\n",
      "2021-12-04 22:10:07,489 INFO Request is running\n",
      "2021-12-04 22:10:55,835 INFO Request is completed\n",
      "2021-12-04 22:10:55,838 INFO Downloading https://download-0007.copernicus-climate.eu/cache-compute-0007/cache/data2/adaptor.mars.internal-1638627033.1398726-21071-5-6af75b59-7b0f-485b-b907-7d02683ed16b.nc to F:/ERA5_UV/ERA5_UV_199301.nc (245.9M)\n",
      "2021-12-04 22:12:12,107 INFO Download rate 3.2M/s                                                                      \n"
     ]
    },
    {
     "name": "stdout",
     "output_type": "stream",
     "text": [
      "用时129.22575163841248\n"
     ]
    },
    {
     "name": "stderr",
     "output_type": "stream",
     "text": [
      "2021-12-04 22:12:13,466 INFO Welcome to the CDS\n",
      "2021-12-04 22:12:13,468 INFO Sending request to https://cds.climate.copernicus.eu/api/v2/resources/reanalysis-era5-pressure-levels\n",
      "2021-12-04 22:12:13,751 INFO Request is queued\n",
      "2021-12-04 22:12:28,347 INFO Request is running\n",
      "2021-12-04 22:13:05,260 INFO Request is completed\n",
      "2021-12-04 22:13:05,262 INFO Downloading https://download-0012.copernicus-climate.eu/cache-compute-0012/cache/data0/adaptor.mars.internal-1638627170.081597-7657-16-11a5baa3-68e1-4d45-953b-47f47ab27d46.nc to F:/ERA5_UV/ERA5_UV_199302.nc (222.1M)\n",
      "2021-12-04 22:15:22,010 INFO Download rate 1.6M/s                                                                      \n"
     ]
    },
    {
     "name": "stdout",
     "output_type": "stream",
     "text": [
      "用时190.07324647903442\n"
     ]
    },
    {
     "name": "stderr",
     "output_type": "stream",
     "text": [
      "2021-12-04 22:15:23,571 INFO Welcome to the CDS\n",
      "2021-12-04 22:15:23,574 INFO Sending request to https://cds.climate.copernicus.eu/api/v2/resources/reanalysis-era5-pressure-levels\n",
      "2021-12-04 22:15:23,883 INFO Request is queued\n",
      "2021-12-04 22:15:25,191 INFO Request is running\n",
      "2021-12-04 22:16:15,644 INFO Request is completed\n",
      "2021-12-04 22:16:15,646 INFO Downloading https://download-0009.copernicus-climate.eu/cache-compute-0009/cache/data0/adaptor.mars.internal-1638627361.0191195-24648-3-b06abbe7-1afb-49d6-80d3-51af58abecb0.nc to F:/ERA5_UV/ERA5_UV_199303.nc (245.9M)\n",
      "2021-12-04 22:19:27,445 INFO Download rate 1.3M/s                                                                      \n"
     ]
    },
    {
     "name": "stdout",
     "output_type": "stream",
     "text": [
      "用时245.30825352668762\n"
     ]
    },
    {
     "name": "stderr",
     "output_type": "stream",
     "text": [
      "2021-12-04 22:19:28,862 INFO Welcome to the CDS\n",
      "2021-12-04 22:19:28,862 INFO Sending request to https://cds.climate.copernicus.eu/api/v2/resources/reanalysis-era5-pressure-levels\n",
      "2021-12-04 22:19:29,137 INFO Request is queued\n",
      "2021-12-04 22:19:32,200 INFO Request is running\n",
      "2021-12-04 22:20:03,279 INFO Request is completed\n",
      "2021-12-04 22:20:03,282 INFO Downloading https://download-0009.copernicus-climate.eu/cache-compute-0009/cache/data9/adaptor.mars.internal-1638627593.9065604-29224-2-63cb090e-dbc4-4803-96f6-629d4dda731f.nc to F:/ERA5_UV/ERA5_UV_199304.nc (238M)\n",
      "2021-12-04 22:22:21,630 INFO Download rate 1.7M/s                                                                      \n"
     ]
    },
    {
     "name": "stdout",
     "output_type": "stream",
     "text": [
      "用时174.15080428123474\n"
     ]
    },
    {
     "name": "stderr",
     "output_type": "stream",
     "text": [
      "2021-12-04 22:22:23,006 INFO Welcome to the CDS\n",
      "2021-12-04 22:22:23,007 INFO Sending request to https://cds.climate.copernicus.eu/api/v2/resources/reanalysis-era5-pressure-levels\n",
      "2021-12-04 22:22:23,288 INFO Request is queued\n",
      "2021-12-04 22:22:24,564 INFO Request is running\n",
      "2021-12-04 22:23:14,778 INFO Request is completed\n",
      "2021-12-04 22:23:14,780 INFO Downloading https://download-0002.copernicus-climate.eu/cache-compute-0002/cache/data7/adaptor.mars.internal-1638627770.3930962-6365-11-aa0ca5c7-ba00-47dc-ab5c-0ae44dfac925.nc to F:/ERA5_UV/ERA5_UV_199305.nc (245.9M)\n",
      "2021-12-04 22:27:12,406 INFO Download rate 1M/s                                                                        \n"
     ]
    },
    {
     "name": "stdout",
     "output_type": "stream",
     "text": [
      "用时290.6854717731476\n"
     ]
    },
    {
     "name": "stderr",
     "output_type": "stream",
     "text": [
      "2021-12-04 22:27:13,662 INFO Welcome to the CDS\n",
      "2021-12-04 22:27:13,662 INFO Sending request to https://cds.climate.copernicus.eu/api/v2/resources/reanalysis-era5-pressure-levels\n",
      "2021-12-04 22:27:13,918 INFO Request is queued\n",
      "2021-12-04 22:27:15,169 INFO Request is running\n",
      "2021-12-04 22:27:47,866 INFO Request is completed\n",
      "2021-12-04 22:27:47,869 INFO Downloading https://download-0011.copernicus-climate.eu/cache-compute-0011/cache/data9/adaptor.mars.internal-1638628058.8767202-9920-5-0eafab95-6ed6-4c33-b7fd-d590a434ee2c.nc to F:/ERA5_UV/ERA5_UV_199306.nc (238M)\n",
      "2021-12-04 22:30:55,666 INFO Download rate 1.3M/s                                                                      \n"
     ]
    },
    {
     "name": "stdout",
     "output_type": "stream",
     "text": [
      "用时223.37642431259155\n"
     ]
    },
    {
     "name": "stderr",
     "output_type": "stream",
     "text": [
      "2021-12-04 22:30:57,090 INFO Welcome to the CDS\n",
      "2021-12-04 22:30:57,090 INFO Sending request to https://cds.climate.copernicus.eu/api/v2/resources/reanalysis-era5-pressure-levels\n",
      "2021-12-04 22:30:57,379 INFO Request is queued\n",
      "2021-12-04 22:31:00,455 INFO Request is running\n",
      "2021-12-04 22:31:48,936 INFO Request is completed\n",
      "2021-12-04 22:31:48,937 INFO Downloading https://download-0015.copernicus-climate.eu/cache-compute-0015/cache/data0/adaptor.mars.internal-1638628295.0389094-4465-4-5a808e5b-5e8b-4f1c-84c4-30023a334216.nc to F:/ERA5_UV/ERA5_UV_199307.nc (245.9M)\n",
      "2021-12-04 22:33:37,516 INFO Download rate 2.3M/s                                                                      \n"
     ]
    },
    {
     "name": "stdout",
     "output_type": "stream",
     "text": [
      "用时161.8180797100067\n"
     ]
    },
    {
     "name": "stderr",
     "output_type": "stream",
     "text": [
      "2021-12-04 22:33:38,884 INFO Welcome to the CDS\n",
      "2021-12-04 22:33:38,886 INFO Sending request to https://cds.climate.copernicus.eu/api/v2/resources/reanalysis-era5-pressure-levels\n",
      "2021-12-04 22:33:39,168 INFO Request is queued\n",
      "2021-12-04 22:33:40,446 INFO Request is running\n",
      "2021-12-04 22:34:13,312 INFO Request is completed\n",
      "2021-12-04 22:34:13,314 INFO Downloading https://download-0003.copernicus-climate.eu/cache-compute-0003/cache/data1/adaptor.mars.internal-1638628444.639071-22696-9-03031d93-75d7-40eb-aee3-6316ed019765.nc to F:/ERA5_UV/ERA5_UV_199308.nc (245.9M)\n",
      "2021-12-04 22:36:13,922 INFO Download rate 2M/s                                                                        \n"
     ]
    },
    {
     "name": "stdout",
     "output_type": "stream",
     "text": [
      "用时156.41338229179382\n"
     ]
    },
    {
     "name": "stderr",
     "output_type": "stream",
     "text": [
      "2021-12-04 22:36:15,294 INFO Welcome to the CDS\n",
      "2021-12-04 22:36:15,295 INFO Sending request to https://cds.climate.copernicus.eu/api/v2/resources/reanalysis-era5-pressure-levels\n",
      "2021-12-04 22:36:15,569 INFO Request is queued\n",
      "2021-12-04 22:36:21,173 INFO Request is running\n",
      "2021-12-04 22:37:07,090 INFO Request is completed\n",
      "2021-12-04 22:37:07,091 INFO Downloading https://download-0007.copernicus-climate.eu/cache-compute-0007/cache/data4/adaptor.mars.internal-1638628602.8788755-16727-16-937a5dae-0679-4012-ad3c-3f92b214237c.nc to F:/ERA5_UV/ERA5_UV_199309.nc (238M)\n",
      "2021-12-04 22:38:39,090 INFO Download rate 2.6M/s                                                                      \n"
     ]
    },
    {
     "name": "stdout",
     "output_type": "stream",
     "text": [
      "用时145.19901323318481\n"
     ]
    },
    {
     "name": "stderr",
     "output_type": "stream",
     "text": [
      "2021-12-04 22:38:40,526 INFO Welcome to the CDS\n",
      "2021-12-04 22:38:40,529 INFO Sending request to https://cds.climate.copernicus.eu/api/v2/resources/reanalysis-era5-pressure-levels\n",
      "2021-12-04 22:38:40,816 INFO Request is queued\n",
      "2021-12-04 22:38:42,135 INFO Request is running\n",
      "2021-12-04 22:39:15,129 INFO Request is completed\n",
      "2021-12-04 22:39:15,130 INFO Downloading https://download-0004.copernicus-climate.eu/cache-compute-0004/cache/data8/adaptor.mars.internal-1638628743.2232683-17434-3-a1f9a0c6-15e7-4121-80ba-13d79751907c.nc to F:/ERA5_UV/ERA5_UV_199310.nc (245.9M)\n",
      "2021-12-04 22:42:11,444 INFO Download rate 1.4M/s                                                                      \n"
     ]
    },
    {
     "name": "stdout",
     "output_type": "stream",
     "text": [
      "用时212.2268693447113\n"
     ]
    },
    {
     "name": "stderr",
     "output_type": "stream",
     "text": [
      "2021-12-04 22:42:12,696 INFO Welcome to the CDS\n",
      "2021-12-04 22:42:12,698 INFO Sending request to https://cds.climate.copernicus.eu/api/v2/resources/reanalysis-era5-pressure-levels\n",
      "2021-12-04 22:42:12,952 INFO Request is queued\n",
      "2021-12-04 22:42:14,216 INFO Request is running\n",
      "2021-12-04 22:42:47,020 INFO Request is completed\n",
      "2021-12-04 22:42:47,022 INFO Downloading https://download-0009.copernicus-climate.eu/cache-compute-0009/cache/data9/adaptor.mars.internal-1638628955.7018793-5941-2-e1b2f77b-66c0-4094-85fa-27fb0fc5cdc9.nc to F:/ERA5_UV/ERA5_UV_199311.nc (238M)\n",
      "2021-12-04 22:46:36,853 INFO Download rate 1M/s                                                                        \n"
     ]
    },
    {
     "name": "stdout",
     "output_type": "stream",
     "text": [
      "用时265.4796772003174\n"
     ]
    },
    {
     "name": "stderr",
     "output_type": "stream",
     "text": [
      "2021-12-04 22:46:38,205 INFO Welcome to the CDS\n",
      "2021-12-04 22:46:38,206 INFO Sending request to https://cds.climate.copernicus.eu/api/v2/resources/reanalysis-era5-pressure-levels\n",
      "2021-12-04 22:46:38,482 INFO Request is queued\n",
      "2021-12-04 22:46:39,767 INFO Request is running\n",
      "2021-12-04 22:47:12,637 INFO Request is completed\n",
      "2021-12-04 22:47:12,639 INFO Downloading https://download-0004.copernicus-climate.eu/cache-compute-0004/cache/data0/adaptor.mars.internal-1638629220.1289003-15166-9-e5346d3c-939f-4f82-903c-8bf4d4f68751.nc to F:/ERA5_UV/ERA5_UV_199312.nc (245.9M)\n",
      "2021-12-04 22:48:29,429 INFO Download rate 3.2M/s                                                                      \n"
     ]
    },
    {
     "name": "stdout",
     "output_type": "stream",
     "text": [
      "用时112.57913756370544\n"
     ]
    },
    {
     "name": "stderr",
     "output_type": "stream",
     "text": [
      "2021-12-04 22:48:30,787 INFO Welcome to the CDS\n",
      "2021-12-04 22:48:30,789 INFO Sending request to https://cds.climate.copernicus.eu/api/v2/resources/reanalysis-era5-pressure-levels\n",
      "2021-12-04 22:48:31,069 INFO Request is queued\n",
      "2021-12-04 22:48:32,350 INFO Request is running\n",
      "2021-12-04 22:49:22,588 INFO Request is completed\n",
      "2021-12-04 22:49:22,589 INFO Downloading https://download-0007.copernicus-climate.eu/cache-compute-0007/cache/data2/adaptor.mars.internal-1638629341.4569142-18354-19-98f0f92e-f025-4efe-a487-5e2912dd043c.nc to F:/ERA5_UV/ERA5_UV_199401.nc (245.9M)\n",
      "2021-12-04 22:52:14,186 INFO Download rate 1.4M/s                                                                      \n"
     ]
    },
    {
     "name": "stdout",
     "output_type": "stream",
     "text": [
      "用时224.86523509025574\n"
     ]
    },
    {
     "name": "stderr",
     "output_type": "stream",
     "text": [
      "2021-12-04 22:52:15,676 INFO Welcome to the CDS\n",
      "2021-12-04 22:52:15,677 INFO Sending request to https://cds.climate.copernicus.eu/api/v2/resources/reanalysis-era5-pressure-levels\n",
      "2021-12-04 22:52:15,984 INFO Request is queued\n",
      "2021-12-04 22:52:21,657 INFO Request is running\n",
      "2021-12-04 22:53:07,744 INFO Request is completed\n",
      "2021-12-04 22:53:07,746 INFO Downloading https://download-0015.copernicus-climate.eu/cache-compute-0015/cache/data7/adaptor.mars.internal-1638629565.4705164-17660-14-85797cd1-4dbf-4bfb-99d2-11611b35abf1.nc to F:/ERA5_UV/ERA5_UV_199402.nc (222.1M)\n",
      "2021-12-04 22:55:07,573 INFO Download rate 1.9M/s                                                                      \n"
     ]
    },
    {
     "name": "stdout",
     "output_type": "stream",
     "text": [
      "用时173.20678734779358\n"
     ]
    },
    {
     "name": "stderr",
     "output_type": "stream",
     "text": [
      "2021-12-04 22:55:08,829 INFO Welcome to the CDS\n",
      "2021-12-04 22:55:08,830 INFO Sending request to https://cds.climate.copernicus.eu/api/v2/resources/reanalysis-era5-pressure-levels\n",
      "2021-12-04 22:55:09,084 INFO Request is queued\n",
      "2021-12-04 22:55:14,597 INFO Request is running\n",
      "2021-12-04 22:56:00,460 INFO Request is completed\n",
      "2021-12-04 22:56:00,462 INFO Downloading https://download-0015.copernicus-climate.eu/cache-compute-0015/cache/data9/adaptor.mars.internal-1638629740.0508382-4492-16-3b97a30d-772b-4ed2-be34-2824a5d777df.nc to F:/ERA5_UV/ERA5_UV_199403.nc (245.9M)\n",
      "2021-12-04 22:59:26,416 INFO Download rate 1.2M/s                                                                      \n"
     ]
    },
    {
     "name": "stdout",
     "output_type": "stream",
     "text": [
      "用时258.93570256233215\n"
     ]
    },
    {
     "name": "stderr",
     "output_type": "stream",
     "text": [
      "2021-12-04 22:59:27,796 INFO Welcome to the CDS\n",
      "2021-12-04 22:59:27,797 INFO Sending request to https://cds.climate.copernicus.eu/api/v2/resources/reanalysis-era5-pressure-levels\n",
      "2021-12-04 22:59:28,075 INFO Request is queued\n",
      "2021-12-04 22:59:29,959 INFO Request is running\n",
      "2021-12-04 23:00:02,836 INFO Request is completed\n",
      "2021-12-04 23:00:02,839 INFO Downloading https://download-0012.copernicus-climate.eu/cache-compute-0012/cache/data1/adaptor.mars.internal-1638629992.9613993-24615-19-5f393ff1-6abf-4b3a-9ecb-4991a1cadf31.nc to F:/ERA5_UV/ERA5_UV_199404.nc (238M)\n",
      "2021-12-04 23:02:21,425 INFO Download rate 1.7M/s                                                                      \n"
     ]
    },
    {
     "name": "stdout",
     "output_type": "stream",
     "text": [
      "用时174.8841371536255\n"
     ]
    },
    {
     "name": "stderr",
     "output_type": "stream",
     "text": [
      "2021-12-04 23:02:22,655 INFO Welcome to the CDS\n",
      "2021-12-04 23:02:22,658 INFO Sending request to https://cds.climate.copernicus.eu/api/v2/resources/reanalysis-era5-pressure-levels\n",
      "2021-12-04 23:02:22,909 INFO Request is queued\n",
      "2021-12-04 23:02:24,159 INFO Request is running\n",
      "2021-12-04 23:02:56,912 INFO Request is completed\n",
      "2021-12-04 23:02:56,913 INFO Downloading https://download-0001.copernicus-climate.eu/cache-compute-0001/cache/data2/adaptor.mars.internal-1638630165.992884-10540-8-11778ef5-9029-46d1-b298-4272c4d49d25.nc to F:/ERA5_UV/ERA5_UV_199405.nc (245.9M)\n",
      "2021-12-04 23:05:05,289 INFO Download rate 1.9M/s                                                                      \n"
     ]
    },
    {
     "name": "stdout",
     "output_type": "stream",
     "text": [
      "用时163.98102593421936\n"
     ]
    },
    {
     "name": "stderr",
     "output_type": "stream",
     "text": [
      "2021-12-04 23:05:06,660 INFO Welcome to the CDS\n",
      "2021-12-04 23:05:06,661 INFO Sending request to https://cds.climate.copernicus.eu/api/v2/resources/reanalysis-era5-pressure-levels\n",
      "2021-12-04 23:05:06,939 INFO Request is queued\n",
      "2021-12-04 23:05:08,224 INFO Request is running\n",
      "2021-12-04 23:05:41,288 INFO Request is completed\n",
      "2021-12-04 23:05:41,290 INFO Downloading https://download-0009.copernicus-climate.eu/cache-compute-0009/cache/data2/adaptor.mars.internal-1638630332.6272526-17420-1-82ac0219-3446-4a90-8ef1-bab028b01837.nc to F:/ERA5_UV/ERA5_UV_199406.nc (238M)\n",
      "2021-12-04 23:08:23,294 INFO Download rate 1.5M/s                                                                      \n"
     ]
    },
    {
     "name": "stdout",
     "output_type": "stream",
     "text": [
      "用时197.88608694076538\n"
     ]
    },
    {
     "name": "stderr",
     "output_type": "stream",
     "text": [
      "2021-12-04 23:08:24,527 INFO Welcome to the CDS\n",
      "2021-12-04 23:08:24,530 INFO Sending request to https://cds.climate.copernicus.eu/api/v2/resources/reanalysis-era5-pressure-levels\n",
      "2021-12-04 23:08:24,792 INFO Request is queued\n",
      "2021-12-04 23:08:26,051 INFO Request is running\n",
      "2021-12-04 23:08:58,783 INFO Request is completed\n",
      "2021-12-04 23:08:58,786 INFO Downloading https://download-0009.copernicus-climate.eu/cache-compute-0009/cache/data2/adaptor.mars.internal-1638630528.9196277-18339-1-8284a8cc-23b9-4d99-901f-bc863a8c77cb.nc to F:/ERA5_UV/ERA5_UV_199407.nc (245.9M)\n",
      "2021-12-04 23:11:22,588 INFO Download rate 1.7M/s                                                                      \n"
     ]
    },
    {
     "name": "stdout",
     "output_type": "stream",
     "text": [
      "用时179.40468382835388\n"
     ]
    },
    {
     "name": "stderr",
     "output_type": "stream",
     "text": [
      "2021-12-04 23:11:23,959 INFO Welcome to the CDS\n",
      "2021-12-04 23:11:23,962 INFO Sending request to https://cds.climate.copernicus.eu/api/v2/resources/reanalysis-era5-pressure-levels\n",
      "2021-12-04 23:11:24,242 INFO Request is queued\n",
      "2021-12-04 23:11:25,523 INFO Request is running\n",
      "2021-12-04 23:12:15,758 INFO Request is completed\n",
      "2021-12-04 23:12:15,761 INFO Downloading https://download-0007.copernicus-climate.eu/cache-compute-0007/cache/data1/adaptor.mars.internal-1638630716.7560673-2980-1-9bfdb4f2-6ba0-4a97-b648-f8629ef4a364.nc to F:/ERA5_UV/ERA5_UV_199408.nc (245.9M)\n",
      "2021-12-04 23:13:58,719 INFO Download rate 2.4M/s                                                                      \n"
     ]
    },
    {
     "name": "stdout",
     "output_type": "stream",
     "text": [
      "用时156.0230643749237\n"
     ]
    },
    {
     "name": "stderr",
     "output_type": "stream",
     "text": [
      "2021-12-04 23:13:59,952 INFO Welcome to the CDS\n",
      "2021-12-04 23:13:59,954 INFO Sending request to https://cds.climate.copernicus.eu/api/v2/resources/reanalysis-era5-pressure-levels\n",
      "2021-12-04 23:14:00,205 INFO Request is queued\n",
      "2021-12-04 23:14:03,222 INFO Request is running\n",
      "2021-12-04 23:14:51,499 INFO Request is completed\n",
      "2021-12-04 23:14:51,501 INFO Downloading https://download-0002.copernicus-climate.eu/cache-compute-0002/cache/data4/adaptor.mars.internal-1638630867.3555763-2861-5-30b9ab4e-0fe0-43f1-b4ef-fa3e4fb19b95.nc to F:/ERA5_UV/ERA5_UV_199409.nc (238M)\n",
      "2021-12-04 23:16:28,451 INFO Download rate 2.5M/s                                                                      \n"
     ]
    },
    {
     "name": "stdout",
     "output_type": "stream",
     "text": [
      "用时149.83361148834229\n"
     ]
    },
    {
     "name": "stderr",
     "output_type": "stream",
     "text": [
      "2021-12-04 23:16:29,814 INFO Welcome to the CDS\n",
      "2021-12-04 23:16:29,815 INFO Sending request to https://cds.climate.copernicus.eu/api/v2/resources/reanalysis-era5-pressure-levels\n",
      "2021-12-04 23:16:30,090 INFO Request is queued\n",
      "2021-12-04 23:16:31,379 INFO Request is running\n",
      "2021-12-04 23:17:21,618 INFO Request is completed\n",
      "2021-12-04 23:17:21,619 INFO Downloading https://download-0007.copernicus-climate.eu/cache-compute-0007/cache/data1/adaptor.mars.internal-1638631022.249341-2980-7-afdf5cdd-bf37-4b50-bd28-809292f5fef9.nc to F:/ERA5_UV/ERA5_UV_199410.nc (245.9M)\n",
      "2021-12-04 23:18:25,835 INFO Download rate 3.8M/s                                                                      \n"
     ]
    },
    {
     "name": "stdout",
     "output_type": "stream",
     "text": [
      "用时116.57668447494507\n"
     ]
    },
    {
     "name": "stderr",
     "output_type": "stream",
     "text": [
      "2021-12-04 23:18:26,388 INFO Welcome to the CDS\n",
      "2021-12-04 23:18:26,390 INFO Sending request to https://cds.climate.copernicus.eu/api/v2/resources/reanalysis-era5-pressure-levels\n",
      "2021-12-04 23:18:26,676 INFO Request is queued\n",
      "2021-12-04 23:18:41,255 INFO Request is running\n",
      "2021-12-04 23:19:18,156 INFO Request is completed\n",
      "2021-12-04 23:19:18,157 INFO Downloading https://download-0002.copernicus-climate.eu/cache-compute-0002/cache/data3/adaptor.mars.internal-1638631143.479392-30350-14-cc91ed6f-e112-42b8-85f4-9b7229c8f40b.nc to F:/ERA5_UV/ERA5_UV_199411.nc (238M)\n",
      "2021-12-04 23:20:44,245 INFO Download rate 2.8M/s                                                                      \n"
     ]
    },
    {
     "name": "stdout",
     "output_type": "stream",
     "text": [
      "用时139.33799743652344\n"
     ]
    },
    {
     "name": "stderr",
     "output_type": "stream",
     "text": [
      "2021-12-04 23:20:45,755 INFO Welcome to the CDS\n",
      "2021-12-04 23:20:45,756 INFO Sending request to https://cds.climate.copernicus.eu/api/v2/resources/reanalysis-era5-pressure-levels\n",
      "2021-12-04 23:20:46,062 INFO Request is queued\n",
      "2021-12-04 23:20:47,366 INFO Request is running\n",
      "2021-12-04 23:21:37,755 INFO Request is completed\n",
      "2021-12-04 23:21:37,758 INFO Downloading https://download-0007.copernicus-climate.eu/cache-compute-0007/cache/data5/adaptor.mars.internal-1638631281.93347-29161-3-6b8afc3e-c4d1-4ccf-891a-8a1d52fe9bb7.nc to F:/ERA5_UV/ERA5_UV_199412.nc (245.9M)\n",
      "2021-12-04 23:23:17,070 INFO Download rate 2.5M/s                                                                      \n"
     ]
    },
    {
     "name": "stdout",
     "output_type": "stream",
     "text": [
      "用时152.62165021896362\n"
     ]
    },
    {
     "name": "stderr",
     "output_type": "stream",
     "text": [
      "2021-12-04 23:23:18,326 INFO Welcome to the CDS\n",
      "2021-12-04 23:23:18,327 INFO Sending request to https://cds.climate.copernicus.eu/api/v2/resources/reanalysis-era5-pressure-levels\n",
      "2021-12-04 23:23:18,581 INFO Request is queued\n",
      "2021-12-04 23:23:24,095 INFO Request is running\n",
      "2021-12-04 23:24:09,870 INFO Request is completed\n",
      "2021-12-04 23:24:09,871 INFO Downloading https://download-0002.copernicus-climate.eu/cache-compute-0002/cache/data9/adaptor.mars.internal-1638631427.796385-5169-12-d0f2b80d-e719-4cf8-a320-7bf7c241920a.nc to F:/ERA5_UV/ERA5_UV_199501.nc (245.9M)\n",
      "2021-12-04 23:27:30,453 INFO Download rate 1.2M/s                                                                      \n"
     ]
    },
    {
     "name": "stdout",
     "output_type": "stream",
     "text": [
      "用时253.372389793396\n"
     ]
    },
    {
     "name": "stderr",
     "output_type": "stream",
     "text": [
      "2021-12-04 23:27:31,696 INFO Welcome to the CDS\n",
      "2021-12-04 23:27:31,698 INFO Sending request to https://cds.climate.copernicus.eu/api/v2/resources/reanalysis-era5-pressure-levels\n",
      "2021-12-04 23:27:31,955 INFO Request is queued\n",
      "2021-12-04 23:27:54,264 INFO Request is running\n",
      "2021-12-04 23:28:23,257 INFO Request is completed\n",
      "2021-12-04 23:28:23,260 INFO Downloading https://download-0003.copernicus-climate.eu/cache-compute-0003/cache/data8/adaptor.mars.internal-1638631687.333836-15093-7-4823ed53-87bc-4a4c-aceb-1bbe1704499f.nc to F:/ERA5_UV/ERA5_UV_199502.nc (222.1M)\n",
      "2021-12-04 23:31:12,765 INFO Download rate 1.3M/s                                                                      \n"
     ]
    },
    {
     "name": "stdout",
     "output_type": "stream",
     "text": [
      "用时222.3168466091156\n"
     ]
    },
    {
     "name": "stderr",
     "output_type": "stream",
     "text": [
      "2021-12-04 23:31:14,016 INFO Welcome to the CDS\n",
      "2021-12-04 23:31:14,018 INFO Sending request to https://cds.climate.copernicus.eu/api/v2/resources/reanalysis-era5-pressure-levels\n",
      "2021-12-04 23:31:14,275 INFO Request is queued\n",
      "2021-12-04 23:31:28,739 INFO Request is running\n",
      "2021-12-04 23:32:05,573 INFO Request is completed\n",
      "2021-12-04 23:32:05,573 INFO Downloading https://download-0004.copernicus-climate.eu/cache-compute-0004/cache/data8/adaptor.mars.internal-1638631907.2675335-10980-3-bafa3ad8-722e-49d6-ad60-f088af536b42.nc to F:/ERA5_UV/ERA5_UV_199503.nc (245.9M)\n",
      "2021-12-04 23:34:03,735 INFO Download rate 2.1M/s                                                                      \n"
     ]
    },
    {
     "name": "stdout",
     "output_type": "stream",
     "text": [
      "用时171.04954528808594\n"
     ]
    },
    {
     "name": "stderr",
     "output_type": "stream",
     "text": [
      "2021-12-04 23:34:05,094 INFO Welcome to the CDS\n",
      "2021-12-04 23:34:05,096 INFO Sending request to https://cds.climate.copernicus.eu/api/v2/resources/reanalysis-era5-pressure-levels\n",
      "2021-12-04 23:34:05,375 INFO Request is queued\n",
      "2021-12-04 23:34:08,442 INFO Request is running\n",
      "2021-12-04 23:34:56,892 INFO Request is completed\n",
      "2021-12-04 23:34:56,892 INFO Downloading https://download-0007.copernicus-climate.eu/cache-compute-0007/cache/data1/adaptor.mars.internal-1638632075.5343747-13847-7-2ab089a3-f118-4bc8-8cba-e88e6ba75f04.nc to F:/ERA5_UV/ERA5_UV_199504.nc (238M)\n",
      "2021-12-04 23:37:55,739 INFO Download rate 1.3M/s                                                                      \n"
     ]
    },
    {
     "name": "stdout",
     "output_type": "stream",
     "text": [
      "用时231.9257833957672\n"
     ]
    },
    {
     "name": "stderr",
     "output_type": "stream",
     "text": [
      "2021-12-04 23:37:56,991 INFO Welcome to the CDS\n",
      "2021-12-04 23:37:56,992 INFO Sending request to https://cds.climate.copernicus.eu/api/v2/resources/reanalysis-era5-pressure-levels\n",
      "2021-12-04 23:37:57,244 INFO Request is queued\n",
      "2021-12-04 23:38:00,260 INFO Request is running\n",
      "2021-12-04 23:38:31,190 INFO Request is completed\n",
      "2021-12-04 23:38:31,190 INFO Downloading https://download-0004.copernicus-climate.eu/cache-compute-0004/cache/data4/adaptor.mars.internal-1638632300.1414835-3052-5-253f0298-f652-4df9-8b8c-c40ddc2c9033.nc to F:/ERA5_UV/ERA5_UV_199505.nc (245.9M)\n",
      "2021-12-04 23:41:41,565 INFO Download rate 1.3M/s                                                                      \n"
     ]
    },
    {
     "name": "stdout",
     "output_type": "stream",
     "text": [
      "用时225.81772136688232\n"
     ]
    },
    {
     "name": "stderr",
     "output_type": "stream",
     "text": [
      "2021-12-04 23:41:42,812 INFO Welcome to the CDS\n",
      "2021-12-04 23:41:42,813 INFO Sending request to https://cds.climate.copernicus.eu/api/v2/resources/reanalysis-era5-pressure-levels\n",
      "2021-12-04 23:41:43,067 INFO Request is queued\n",
      "2021-12-04 23:41:46,079 INFO Request is running\n",
      "2021-12-04 23:42:17,028 INFO Request is completed\n",
      "2021-12-04 23:42:17,029 INFO Downloading https://download-0014.copernicus-climate.eu/cache-compute-0014/cache/data6/adaptor.mars.internal-1638632527.4526-10033-2-bf206c99-101c-4077-b1d5-bd2f3222262b.nc to F:/ERA5_UV/ERA5_UV_199506.nc (238M)\n",
      "2021-12-04 23:43:16,319 INFO Download rate 4M/s                                                                        \n"
     ]
    },
    {
     "name": "stdout",
     "output_type": "stream",
     "text": [
      "用时94.0002019405365\n"
     ]
    },
    {
     "name": "stderr",
     "output_type": "stream",
     "text": [
      "2021-12-04 23:43:16,813 INFO Welcome to the CDS\n",
      "2021-12-04 23:43:16,815 INFO Sending request to https://cds.climate.copernicus.eu/api/v2/resources/reanalysis-era5-pressure-levels\n",
      "2021-12-04 23:43:17,071 INFO Request is queued\n",
      "2021-12-04 23:43:18,331 INFO Request is running\n",
      "2021-12-04 23:43:51,041 INFO Request is completed\n",
      "2021-12-04 23:43:51,042 INFO Downloading https://download-0010.copernicus-climate.eu/cache-compute-0010/cache/data2/adaptor.mars.internal-1638632624.0390248-22879-19-85df6b4c-1db6-4422-8b6a-4771fd190dfb.nc to F:/ERA5_UV/ERA5_UV_199507.nc (245.9M)\n",
      "2021-12-04 23:45:55,906 INFO Download rate 2M/s                                                                        \n"
     ]
    },
    {
     "name": "stdout",
     "output_type": "stream",
     "text": [
      "用时160.5314793586731\n"
     ]
    },
    {
     "name": "stderr",
     "output_type": "stream",
     "text": [
      "2021-12-04 23:45:57,399 INFO Welcome to the CDS\n",
      "2021-12-04 23:45:57,401 INFO Sending request to https://cds.climate.copernicus.eu/api/v2/resources/reanalysis-era5-pressure-levels\n",
      "2021-12-04 23:45:57,712 INFO Request is queued\n",
      "2021-12-04 23:46:03,372 INFO Request is running\n",
      "2021-12-04 23:46:32,027 INFO Request is completed\n",
      "2021-12-04 23:46:32,030 INFO Downloading https://download-0004.copernicus-climate.eu/cache-compute-0004/cache/data4/adaptor.mars.internal-1638632783.8364975-20977-2-0cff4ae3-8e59-47e4-8b5f-5a4b005cb970.nc to F:/ERA5_UV/ERA5_UV_199508.nc (245.9M)\n",
      "2021-12-04 23:48:02,376 INFO Download rate 2.7M/s                                                                      \n"
     ]
    },
    {
     "name": "stdout",
     "output_type": "stream",
     "text": [
      "用时126.38106226921082\n"
     ]
    },
    {
     "name": "stderr",
     "output_type": "stream",
     "text": [
      "2021-12-04 23:48:03,752 INFO Welcome to the CDS\n",
      "2021-12-04 23:48:03,754 INFO Sending request to https://cds.climate.copernicus.eu/api/v2/resources/reanalysis-era5-pressure-levels\n",
      "2021-12-04 23:48:04,040 INFO Request is queued\n",
      "2021-12-04 23:48:13,289 INFO Request is running\n",
      "2021-12-04 23:48:38,179 INFO Request is completed\n",
      "2021-12-04 23:48:38,182 INFO Downloading https://download-0000.copernicus-climate.eu/cache-compute-0000/cache/data1/adaptor.mars.internal-1638632910.1015177-24339-10-41f97db5-4055-407e-8e6a-506920a5a02c.nc to F:/ERA5_UV/ERA5_UV_199509.nc (238M)\n",
      "2021-12-04 23:49:31,910 INFO Download rate 4.4M/s                                                                      \n"
     ]
    },
    {
     "name": "stdout",
     "output_type": "stream",
     "text": [
      "用时88.70411396026611\n"
     ]
    },
    {
     "name": "stderr",
     "output_type": "stream",
     "text": [
      "2021-12-04 23:49:32,456 INFO Welcome to the CDS\n",
      "2021-12-04 23:49:32,457 INFO Sending request to https://cds.climate.copernicus.eu/api/v2/resources/reanalysis-era5-pressure-levels\n",
      "2021-12-04 23:49:32,734 INFO Request is queued\n",
      "2021-12-04 23:49:34,012 INFO Request is running\n",
      "2021-12-04 23:50:06,849 INFO Request is completed\n",
      "2021-12-04 23:50:06,851 INFO Downloading https://download-0004.copernicus-climate.eu/cache-compute-0004/cache/data8/adaptor.mars.internal-1638632994.3711412-30463-15-5c38d6b0-367b-435b-9b52-5194effde078.nc to F:/ERA5_UV/ERA5_UV_199510.nc (245.9M)\n",
      "2021-12-04 23:51:56,422 INFO Download rate 2.2M/s                                                                      \n"
     ]
    },
    {
     "name": "stdout",
     "output_type": "stream",
     "text": [
      "用时145.22623562812805\n"
     ]
    },
    {
     "name": "stderr",
     "output_type": "stream",
     "text": [
      "2021-12-04 23:51:57,661 INFO Welcome to the CDS\n",
      "2021-12-04 23:51:57,663 INFO Sending request to https://cds.climate.copernicus.eu/api/v2/resources/reanalysis-era5-pressure-levels\n",
      "2021-12-04 23:51:57,921 INFO Request is queued\n",
      "2021-12-04 23:51:59,194 INFO Request is running\n",
      "2021-12-04 23:52:31,914 INFO Request is completed\n",
      "2021-12-04 23:52:31,915 INFO Downloading https://download-0005.copernicus-climate.eu/cache-compute-0005/cache/data0/adaptor.mars.internal-1638633139.2593622-19407-11-5bebd5d8-4d82-443a-9610-1b28b9463e35.nc to F:/ERA5_UV/ERA5_UV_199511.nc (238M)\n",
      "2021-12-04 23:54:38,613 INFO Download rate 1.9M/s                                                                      \n"
     ]
    },
    {
     "name": "stdout",
     "output_type": "stream",
     "text": [
      "用时162.40833020210266\n"
     ]
    },
    {
     "name": "stderr",
     "output_type": "stream",
     "text": [
      "2021-12-04 23:54:40,120 INFO Welcome to the CDS\n",
      "2021-12-04 23:54:40,123 INFO Sending request to https://cds.climate.copernicus.eu/api/v2/resources/reanalysis-era5-pressure-levels\n",
      "2021-12-04 23:54:40,453 INFO Request is queued\n",
      "2021-12-04 23:54:43,560 INFO Request is running\n",
      "2021-12-04 23:55:14,750 INFO Request is completed\n",
      "2021-12-04 23:55:14,753 INFO Downloading https://download-0006.copernicus-climate.eu/cache-compute-0006/cache/data1/adaptor.mars.internal-1638633305.9147785-24808-16-2adbdb99-096c-472b-8810-def71da1df3c.nc to F:/ERA5_UV/ERA5_UV_199512.nc (245.9M)\n",
      "2021-12-04 23:57:18,461 INFO Download rate 2M/s                                                                        \n"
     ]
    },
    {
     "name": "stdout",
     "output_type": "stream",
     "text": [
      "用时160.10799598693848\n"
     ]
    },
    {
     "name": "stderr",
     "output_type": "stream",
     "text": [
      "2021-12-04 23:57:20,203 INFO Welcome to the CDS\n",
      "2021-12-04 23:57:20,205 INFO Sending request to https://cds.climate.copernicus.eu/api/v2/resources/reanalysis-era5-pressure-levels\n",
      "2021-12-04 23:57:20,491 INFO Request is queued\n",
      "2021-12-04 23:57:21,768 INFO Request is running\n",
      "2021-12-04 23:58:12,503 INFO Request is completed\n",
      "2021-12-04 23:58:12,504 INFO Downloading https://download-0010.copernicus-climate.eu/cache-compute-0010/cache/data8/adaptor.mars.internal-1638633473.1583805-22600-15-b6fb5b03-2e32-48e5-86f2-be0792c8e187.nc to F:/ERA5_UV/ERA5_UV_199601.nc (245.9M)\n",
      "2021-12-04 23:59:34,588 INFO Download rate 3M/s                                                                        \n"
     ]
    },
    {
     "name": "stdout",
     "output_type": "stream",
     "text": [
      "用时135.76749730110168\n"
     ]
    },
    {
     "name": "stderr",
     "output_type": "stream",
     "text": [
      "2021-12-04 23:59:35,975 INFO Welcome to the CDS\n",
      "2021-12-04 23:59:35,978 INFO Sending request to https://cds.climate.copernicus.eu/api/v2/resources/reanalysis-era5-pressure-levels\n",
      "2021-12-04 23:59:36,262 INFO Request is queued\n",
      "2021-12-04 23:59:37,548 INFO Request is running\n",
      "2021-12-05 00:00:10,404 INFO Request is completed\n",
      "2021-12-05 00:00:10,406 INFO Downloading https://download-0010.copernicus-climate.eu/cache-compute-0010/cache/data8/adaptor.mars.internal-1638633597.11258-3046-7-e35575c0-472c-4fd2-96e2-5f12fed8309d.nc to F:/ERA5_UV/ERA5_UV_199602.nc (230M)\n",
      "2021-12-05 00:01:25,818 INFO Download rate 3.1M/s                                                                      \n"
     ]
    },
    {
     "name": "stdout",
     "output_type": "stream",
     "text": [
      "用时111.21866488456726\n"
     ]
    },
    {
     "name": "stderr",
     "output_type": "stream",
     "text": [
      "2021-12-05 00:01:27,191 INFO Welcome to the CDS\n",
      "2021-12-05 00:01:27,193 INFO Sending request to https://cds.climate.copernicus.eu/api/v2/resources/reanalysis-era5-pressure-levels\n",
      "2021-12-05 00:01:27,475 INFO Request is queued\n",
      "2021-12-05 00:01:30,530 INFO Request is running\n",
      "2021-12-05 00:02:01,620 INFO Request is completed\n",
      "2021-12-05 00:02:01,622 INFO Downloading https://download-0003.copernicus-climate.eu/cache-compute-0003/cache/data9/adaptor.mars.internal-1638633711.1970935-29878-15-9ed5425a-00d4-4d9e-9fd7-3906bfca20bb.nc to F:/ERA5_UV/ERA5_UV_199603.nc (245.9M)\n",
      "2021-12-05 00:03:07,584 INFO Download rate 3.7M/s                                                                      \n"
     ]
    },
    {
     "name": "stdout",
     "output_type": "stream",
     "text": [
      "用时101.6597158908844\n"
     ]
    },
    {
     "name": "stderr",
     "output_type": "stream",
     "text": [
      "2021-12-05 00:03:08,828 INFO Welcome to the CDS\n",
      "2021-12-05 00:03:08,829 INFO Sending request to https://cds.climate.copernicus.eu/api/v2/resources/reanalysis-era5-pressure-levels\n",
      "2021-12-05 00:03:09,084 INFO Request is queued\n",
      "2021-12-05 00:03:12,088 INFO Request is running\n",
      "2021-12-05 00:03:43,036 INFO Request is completed\n",
      "2021-12-05 00:03:43,038 INFO Downloading https://download-0009.copernicus-climate.eu/cache-compute-0009/cache/data2/adaptor.mars.internal-1638633813.8527353-11726-6-750d1509-6cc0-44e6-aa88-2e3e98aa0b8a.nc to F:/ERA5_UV/ERA5_UV_199604.nc (238M)\n",
      "2021-12-05 00:05:54,158 INFO Download rate 1.8M/s                                                                      \n"
     ]
    },
    {
     "name": "stdout",
     "output_type": "stream",
     "text": [
      "用时166.683096408844\n"
     ]
    },
    {
     "name": "stderr",
     "output_type": "stream",
     "text": [
      "2021-12-05 00:05:55,540 INFO Welcome to the CDS\n",
      "2021-12-05 00:05:55,541 INFO Sending request to https://cds.climate.copernicus.eu/api/v2/resources/reanalysis-era5-pressure-levels\n",
      "2021-12-05 00:05:55,820 INFO Request is queued\n",
      "2021-12-05 00:05:57,105 INFO Request is running\n",
      "2021-12-05 00:06:29,987 INFO Request is completed\n",
      "2021-12-05 00:06:29,989 INFO Downloading https://download-0003.copernicus-climate.eu/cache-compute-0003/cache/data8/adaptor.mars.internal-1638633977.3610609-31908-7-bbf9818e-ce82-4a96-8a7b-650101712c87.nc to F:/ERA5_UV/ERA5_UV_199605.nc (245.9M)\n",
      "2021-12-05 00:08:41,387 INFO Download rate 1.9M/s                                                                      \n"
     ]
    },
    {
     "name": "stdout",
     "output_type": "stream",
     "text": [
      "用时167.1293830871582\n"
     ]
    },
    {
     "name": "stderr",
     "output_type": "stream",
     "text": [
      "2021-12-05 00:08:42,645 INFO Welcome to the CDS\n",
      "2021-12-05 00:08:42,646 INFO Sending request to https://cds.climate.copernicus.eu/api/v2/resources/reanalysis-era5-pressure-levels\n",
      "2021-12-05 00:08:42,897 INFO Request is queued\n",
      "2021-12-05 00:08:44,159 INFO Request is running\n",
      "2021-12-05 00:09:16,958 INFO Request is completed\n",
      "2021-12-05 00:09:16,959 INFO Downloading https://download-0009.copernicus-climate.eu/cache-compute-0009/cache/data5/adaptor.mars.internal-1638634144.853772-13087-8-747c67c3-3a27-4672-ae78-eff937ff70ff.nc to F:/ERA5_UV/ERA5_UV_199606.nc (238M)\n",
      "2021-12-05 00:10:39,458 INFO Download rate 2.9M/s                                                                      \n"
     ]
    },
    {
     "name": "stdout",
     "output_type": "stream",
     "text": [
      "用时118.14217114448547\n"
     ]
    },
    {
     "name": "stderr",
     "output_type": "stream",
     "text": [
      "2021-12-05 00:10:40,816 INFO Welcome to the CDS\n",
      "2021-12-05 00:10:40,819 INFO Sending request to https://cds.climate.copernicus.eu/api/v2/resources/reanalysis-era5-pressure-levels\n",
      "2021-12-05 00:10:41,113 INFO Request is queued\n",
      "2021-12-05 00:10:42,391 INFO Request is running\n",
      "2021-12-05 00:11:15,247 INFO Request is completed\n",
      "2021-12-05 00:11:15,249 INFO Downloading https://download-0004.copernicus-climate.eu/cache-compute-0004/cache/data3/adaptor.mars.internal-1638634265.1886904-20251-11-a9cf13b2-17a0-4413-9fb6-da74ecefd318.nc to F:/ERA5_UV/ERA5_UV_199607.nc (245.9M)\n",
      "2021-12-05 00:13:12,319 INFO Download rate 2.1M/s                                                                      \n"
     ]
    },
    {
     "name": "stdout",
     "output_type": "stream",
     "text": [
      "用时153.9094593524933\n"
     ]
    },
    {
     "name": "stderr",
     "output_type": "stream",
     "text": [
      "2021-12-05 00:13:14,748 INFO Welcome to the CDS\n",
      "2021-12-05 00:13:14,749 INFO Sending request to https://cds.climate.copernicus.eu/api/v2/resources/reanalysis-era5-pressure-levels\n",
      "2021-12-05 00:13:15,064 INFO Request is queued\n",
      "2021-12-05 00:13:16,374 INFO Request is running\n",
      "2021-12-05 00:14:06,757 INFO Request is completed\n",
      "2021-12-05 00:14:06,760 INFO Downloading https://download-0013.copernicus-climate.eu/cache-compute-0013/cache/data5/adaptor.mars.internal-1638634431.3111882-4120-15-c31fc8b1-1aaa-4dfe-98f6-05f6391a7b05.nc to F:/ERA5_UV/ERA5_UV_199608.nc (245.9M)\n",
      "2021-12-05 00:15:41,723 INFO Download rate 2.6M/s                                                                      \n"
     ]
    },
    {
     "name": "stdout",
     "output_type": "stream",
     "text": [
      "用时148.47853541374207\n"
     ]
    },
    {
     "name": "stderr",
     "output_type": "stream",
     "text": [
      "2021-12-05 00:15:43,230 INFO Welcome to the CDS\n",
      "2021-12-05 00:15:43,232 INFO Sending request to https://cds.climate.copernicus.eu/api/v2/resources/reanalysis-era5-pressure-levels\n",
      "2021-12-05 00:15:43,552 INFO Request is queued\n",
      "2021-12-05 00:15:44,862 INFO Request is running\n",
      "2021-12-05 00:16:17,883 INFO Request is completed\n",
      "2021-12-05 00:16:17,884 INFO Downloading https://download-0005.copernicus-climate.eu/cache-compute-0005/cache/data4/adaptor.mars.internal-1638634566.6553726-26008-20-e3fdc1be-6568-4863-86ff-e860046d1ffc.nc to F:/ERA5_UV/ERA5_UV_199609.nc (238M)\n",
      "2021-12-05 00:17:20,310 INFO Download rate 3.8M/s                                                                      \n"
     ]
    },
    {
     "name": "stdout",
     "output_type": "stream",
     "text": [
      "用时97.67769980430603\n"
     ]
    },
    {
     "name": "stderr",
     "output_type": "stream",
     "text": [
      "2021-12-05 00:17:20,908 INFO Welcome to the CDS\n",
      "2021-12-05 00:17:20,909 INFO Sending request to https://cds.climate.copernicus.eu/api/v2/resources/reanalysis-era5-pressure-levels\n",
      "2021-12-05 00:17:21,213 INFO Request is queued\n",
      "2021-12-05 00:17:35,932 INFO Request is running\n",
      "2021-12-05 00:18:12,925 INFO Request is completed\n",
      "2021-12-05 00:18:12,926 INFO Downloading https://download-0002.copernicus-climate.eu/cache-compute-0002/cache/data8/adaptor.mars.internal-1638634678.8878887-20355-11-8bed4955-316e-4fc1-9509-bd01b1065270.nc to F:/ERA5_UV/ERA5_UV_199610.nc (245.9M)\n",
      "2021-12-05 00:21:12,644 INFO Download rate 1.4M/s                                                                      \n"
     ]
    },
    {
     "name": "stdout",
     "output_type": "stream",
     "text": [
      "用时233.13626217842102\n"
     ]
    },
    {
     "name": "stderr",
     "output_type": "stream",
     "text": [
      "2021-12-05 00:21:14,018 INFO Welcome to the CDS\n",
      "2021-12-05 00:21:14,021 INFO Sending request to https://cds.climate.copernicus.eu/api/v2/resources/reanalysis-era5-pressure-levels\n",
      "2021-12-05 00:21:14,304 INFO Request is queued\n",
      "2021-12-05 00:21:15,581 INFO Request is running\n",
      "2021-12-05 00:21:48,437 INFO Request is completed\n",
      "2021-12-05 00:21:48,438 INFO Downloading https://download-0011.copernicus-climate.eu/cache-compute-0011/cache/data4/adaptor.mars.internal-1638634898.014431-3091-8-d8c556d9-3b67-450a-a0a2-d4de8804e74e.nc to F:/ERA5_UV/ERA5_UV_199611.nc (238M)\n",
      "2021-12-05 00:23:02,817 INFO Download rate 3.2M/s                                                                      \n"
     ]
    },
    {
     "name": "stdout",
     "output_type": "stream",
     "text": [
      "用时110.17522382736206\n"
     ]
    },
    {
     "name": "stderr",
     "output_type": "stream",
     "text": [
      "2021-12-05 00:23:04,195 INFO Welcome to the CDS\n",
      "2021-12-05 00:23:04,196 INFO Sending request to https://cds.climate.copernicus.eu/api/v2/resources/reanalysis-era5-pressure-levels\n",
      "2021-12-05 00:23:04,475 INFO Request is queued\n",
      "2021-12-05 00:23:05,759 INFO Request is running\n",
      "2021-12-05 00:23:38,602 INFO Request is completed\n",
      "2021-12-05 00:23:38,603 INFO Downloading https://download-0006.copernicus-climate.eu/cache-compute-0006/cache/data5/adaptor.mars.internal-1638635006.5732532-7636-5-958c1149-a9de-4716-ab90-33ce2924adfa.nc to F:/ERA5_UV/ERA5_UV_199612.nc (245.9M)\n",
      "2021-12-05 00:24:52,850 INFO Download rate 3.3M/s                                                                      \n"
     ]
    },
    {
     "name": "stdout",
     "output_type": "stream",
     "text": [
      "用时110.14894437789917\n"
     ]
    },
    {
     "name": "stderr",
     "output_type": "stream",
     "text": [
      "2021-12-05 00:24:54,368 INFO Welcome to the CDS\n",
      "2021-12-05 00:24:54,369 INFO Sending request to https://cds.climate.copernicus.eu/api/v2/resources/reanalysis-era5-pressure-levels\n",
      "2021-12-05 00:24:54,674 INFO Request is queued\n",
      "2021-12-05 00:24:55,990 INFO Request is running\n",
      "2021-12-05 00:25:46,396 INFO Request is completed\n",
      "2021-12-05 00:25:46,398 INFO Downloading https://download-0015.copernicus-climate.eu/cache-compute-0015/cache/data7/adaptor.mars.internal-1638635124.508707-25627-14-707e3911-bfdd-493c-86c3-38b0b0e4fff3.nc to F:/ERA5_UV/ERA5_UV_199701.nc (245.9M)\n",
      "2021-12-05 00:27:41,408 INFO Download rate 2.1M/s                                                                      \n"
     ]
    },
    {
     "name": "stdout",
     "output_type": "stream",
     "text": [
      "用时168.5342311859131\n"
     ]
    },
    {
     "name": "stderr",
     "output_type": "stream",
     "text": [
      "2021-12-05 00:27:42,902 INFO Welcome to the CDS\n",
      "2021-12-05 00:27:42,904 INFO Sending request to https://cds.climate.copernicus.eu/api/v2/resources/reanalysis-era5-pressure-levels\n",
      "2021-12-05 00:27:43,209 INFO Request is queued\n",
      "2021-12-05 00:27:44,517 INFO Request is running\n",
      "2021-12-05 00:28:17,532 INFO Request is completed\n",
      "2021-12-05 00:28:17,534 INFO Downloading https://download-0011.copernicus-climate.eu/cache-compute-0011/cache/data3/adaptor.mars.internal-1638635283.6833124-8640-11-cf33e9a5-e9c0-43a9-9f4b-b0c30fba246b.nc to F:/ERA5_UV/ERA5_UV_199702.nc (222.1M)\n",
      "2021-12-05 00:29:56,856 INFO Download rate 2.2M/s                                                                      \n"
     ]
    },
    {
     "name": "stdout",
     "output_type": "stream",
     "text": [
      "用时135.4400007724762\n"
     ]
    },
    {
     "name": "stderr",
     "output_type": "stream",
     "text": [
      "2021-12-05 00:29:58,341 INFO Welcome to the CDS\n",
      "2021-12-05 00:29:58,342 INFO Sending request to https://cds.climate.copernicus.eu/api/v2/resources/reanalysis-era5-pressure-levels\n",
      "2021-12-05 00:29:58,646 INFO Request is queued\n",
      "2021-12-05 00:30:01,768 INFO Request is running\n",
      "2021-12-05 00:30:32,970 INFO Request is completed\n",
      "2021-12-05 00:30:32,972 INFO Downloading https://download-0006.copernicus-climate.eu/cache-compute-0006/cache/data7/adaptor.mars.internal-1638635422.5164797-9361-9-c343769d-156e-4fb3-86ea-0bd053820bc9.nc to F:/ERA5_UV/ERA5_UV_199703.nc (245.9M)\n",
      "2021-12-05 00:32:33,876 INFO Download rate 2M/s                                                                        \n"
     ]
    },
    {
     "name": "stdout",
     "output_type": "stream",
     "text": [
      "用时156.91749024391174\n"
     ]
    },
    {
     "name": "stderr",
     "output_type": "stream",
     "text": [
      "2021-12-05 00:32:35,236 INFO Welcome to the CDS\n",
      "2021-12-05 00:32:35,237 INFO Sending request to https://cds.climate.copernicus.eu/api/v2/resources/reanalysis-era5-pressure-levels\n",
      "2021-12-05 00:32:35,512 INFO Request is queued\n",
      "2021-12-05 00:32:36,786 INFO Request is running\n",
      "2021-12-05 00:33:27,025 INFO Request is completed\n",
      "2021-12-05 00:33:27,028 INFO Downloading https://download-0011.copernicus-climate.eu/cache-compute-0011/cache/data5/adaptor.mars.internal-1638635586.1296453-9623-19-fffbe15d-5a16-4568-90a9-ef88c2f10670.nc to F:/ERA5_UV/ERA5_UV_199704.nc (238M)\n",
      "2021-12-05 00:36:37,365 INFO Download rate 1.3M/s                                                                      \n"
     ]
    },
    {
     "name": "stdout",
     "output_type": "stream",
     "text": [
      "用时243.39094829559326\n"
     ]
    },
    {
     "name": "stderr",
     "output_type": "stream",
     "text": [
      "2021-12-05 00:36:38,603 INFO Welcome to the CDS\n",
      "2021-12-05 00:36:38,604 INFO Sending request to https://cds.climate.copernicus.eu/api/v2/resources/reanalysis-era5-pressure-levels\n",
      "2021-12-05 00:36:38,855 INFO Request is queued\n",
      "2021-12-05 00:36:40,116 INFO Request is running\n",
      "2021-12-05 00:37:12,830 INFO Request is completed\n",
      "2021-12-05 00:37:12,832 INFO Downloading https://download-0000.copernicus-climate.eu/cache-compute-0000/cache/data1/adaptor.mars.internal-1638635823.3599977-14810-17-4f8bf085-9b1a-4b78-8507-dfdff084d1e7.nc to F:/ERA5_UV/ERA5_UV_199705.nc (245.9M)\n",
      "2021-12-05 00:38:43,055 INFO Download rate 2.7M/s                                                                      \n"
     ]
    },
    {
     "name": "stdout",
     "output_type": "stream",
     "text": [
      "用时125.79539752006531\n"
     ]
    },
    {
     "name": "stderr",
     "output_type": "stream",
     "text": [
      "2021-12-05 00:38:44,426 INFO Welcome to the CDS\n",
      "2021-12-05 00:38:44,429 INFO Sending request to https://cds.climate.copernicus.eu/api/v2/resources/reanalysis-era5-pressure-levels\n",
      "2021-12-05 00:38:44,712 INFO Request is queued\n",
      "2021-12-05 00:38:45,985 INFO Request is running\n",
      "2021-12-05 00:39:18,856 INFO Request is completed\n",
      "2021-12-05 00:39:18,859 INFO Downloading https://download-0014.copernicus-climate.eu/cache-compute-0014/cache/data9/adaptor.mars.internal-1638635946.6172307-4294-16-d35474de-f876-41b4-8d3b-0c7d2c586e30.nc to F:/ERA5_UV/ERA5_UV_199706.nc (238M)\n",
      "2021-12-05 00:41:10,965 INFO Download rate 2.1M/s                                                                      \n"
     ]
    },
    {
     "name": "stdout",
     "output_type": "stream",
     "text": [
      "用时147.94489097595215\n"
     ]
    },
    {
     "name": "stderr",
     "output_type": "stream",
     "text": [
      "2021-12-05 00:41:12,371 INFO Welcome to the CDS\n",
      "2021-12-05 00:41:12,371 INFO Sending request to https://cds.climate.copernicus.eu/api/v2/resources/reanalysis-era5-pressure-levels\n",
      "2021-12-05 00:41:12,651 INFO Request is queued\n",
      "2021-12-05 00:41:13,929 INFO Request is running\n",
      "2021-12-05 00:41:46,790 INFO Request is completed\n",
      "2021-12-05 00:41:46,792 INFO Downloading https://download-0001.copernicus-climate.eu/cache-compute-0001/cache/data1/adaptor.mars.internal-1638636096.4418309-19960-8-8db6924c-3382-45bf-9e97-511d6f19d6c0.nc to F:/ERA5_UV/ERA5_UV_199707.nc (245.9M)\n",
      "2021-12-05 00:44:23,038 INFO Download rate 1.6M/s                                                                      \n"
     ]
    },
    {
     "name": "stdout",
     "output_type": "stream",
     "text": [
      "用时192.06935334205627\n"
     ]
    },
    {
     "name": "stderr",
     "output_type": "stream",
     "text": [
      "2021-12-05 00:44:24,437 INFO Welcome to the CDS\n",
      "2021-12-05 00:44:24,438 INFO Sending request to https://cds.climate.copernicus.eu/api/v2/resources/reanalysis-era5-pressure-levels\n",
      "2021-12-05 00:44:24,711 INFO Request is queued\n",
      "2021-12-05 00:44:27,777 INFO Request is running\n",
      "2021-12-05 00:45:16,201 INFO Request is completed\n",
      "2021-12-05 00:45:16,201 INFO Downloading https://download-0002.copernicus-climate.eu/cache-compute-0002/cache/data9/adaptor.mars.internal-1638636294.4688563-14765-12-8a2d3f8f-c053-4456-bbd5-b446045c5e5d.nc to F:/ERA5_UV/ERA5_UV_199708.nc (245.9M)\n",
      "2021-12-05 00:46:28,709 INFO Download rate 3.4M/s                                                                      \n"
     ]
    },
    {
     "name": "stdout",
     "output_type": "stream",
     "text": [
      "用时125.62858486175537\n"
     ]
    },
    {
     "name": "stderr",
     "output_type": "stream",
     "text": [
      "2021-12-05 00:46:30,068 INFO Welcome to the CDS\n",
      "2021-12-05 00:46:30,069 INFO Sending request to https://cds.climate.copernicus.eu/api/v2/resources/reanalysis-era5-pressure-levels\n",
      "2021-12-05 00:46:30,344 INFO Request is queued\n",
      "2021-12-05 00:46:31,626 INFO Request is running\n",
      "2021-12-05 00:47:04,497 INFO Request is completed\n",
      "2021-12-05 00:47:04,501 INFO Downloading https://download-0011.copernicus-climate.eu/cache-compute-0011/cache/data1/adaptor.mars.internal-1638636413.191594-14690-20-3c686ac5-6660-45d6-a9d9-bccc2caa1715.nc to F:/ERA5_UV/ERA5_UV_199709.nc (238M)\n",
      "2021-12-05 00:48:34,116 INFO Download rate 2.7M/s                                                                      \n"
     ]
    },
    {
     "name": "stdout",
     "output_type": "stream",
     "text": [
      "用时125.41535425186157\n"
     ]
    },
    {
     "name": "stderr",
     "output_type": "stream",
     "text": [
      "2021-12-05 00:48:35,486 INFO Welcome to the CDS\n",
      "2021-12-05 00:48:35,487 INFO Sending request to https://cds.climate.copernicus.eu/api/v2/resources/reanalysis-era5-pressure-levels\n",
      "2021-12-05 00:48:35,764 INFO Request is queued\n",
      "2021-12-05 00:48:37,039 INFO Request is running\n",
      "2021-12-05 00:49:09,876 INFO Request is completed\n",
      "2021-12-05 00:49:09,878 INFO Downloading https://download-0010.copernicus-climate.eu/cache-compute-0010/cache/data1/adaptor.mars.internal-1638636538.7481244-25180-1-a500a22d-af1d-4ef5-9327-7f1be6972825.nc to F:/ERA5_UV/ERA5_UV_199710.nc (245.9M)\n",
      "2021-12-05 00:50:52,323 INFO Download rate 2.4M/s                                                                      \n"
     ]
    },
    {
     "name": "stdout",
     "output_type": "stream",
     "text": [
      "用时138.31821727752686\n"
     ]
    },
    {
     "name": "stderr",
     "output_type": "stream",
     "text": [
      "2021-12-05 00:50:53,830 INFO Welcome to the CDS\n",
      "2021-12-05 00:50:53,833 INFO Sending request to https://cds.climate.copernicus.eu/api/v2/resources/reanalysis-era5-pressure-levels\n",
      "2021-12-05 00:50:54,143 INFO Request is queued\n",
      "2021-12-05 00:50:55,451 INFO Request is running\n",
      "2021-12-05 00:51:28,468 INFO Request is completed\n",
      "2021-12-05 00:51:28,469 INFO Downloading https://download-0009.copernicus-climate.eu/cache-compute-0009/cache/data1/adaptor.mars.internal-1638636676.5479991-4049-4-e8621102-eaf1-4ef5-9ee2-b228da1c5106.nc to F:/ERA5_UV/ERA5_UV_199711.nc (238M)\n",
      "2021-12-05 00:52:48,676 INFO Download rate 3M/s                                                                        \n"
     ]
    },
    {
     "name": "stdout",
     "output_type": "stream",
     "text": [
      "用时116.34718418121338\n"
     ]
    },
    {
     "name": "stderr",
     "output_type": "stream",
     "text": [
      "2021-12-05 00:52:50,181 INFO Welcome to the CDS\n",
      "2021-12-05 00:52:50,184 INFO Sending request to https://cds.climate.copernicus.eu/api/v2/resources/reanalysis-era5-pressure-levels\n",
      "2021-12-05 00:52:50,492 INFO Request is queued\n",
      "2021-12-05 00:52:51,799 INFO Request is running\n",
      "2021-12-05 00:53:24,819 INFO Request is completed\n",
      "2021-12-05 00:53:24,822 INFO Downloading https://download-0006.copernicus-climate.eu/cache-compute-0006/cache/data6/adaptor.mars.internal-1638636794.63488-3541-13-392b5d03-8947-434f-9407-10bf2ff058b5.nc to F:/ERA5_UV/ERA5_UV_199712.nc (245.9M)\n",
      "2021-12-05 00:54:35,911 INFO Download rate 3.5M/s                                                                      \n"
     ]
    },
    {
     "name": "stdout",
     "output_type": "stream",
     "text": [
      "用时107.12877011299133\n"
     ]
    },
    {
     "name": "stderr",
     "output_type": "stream",
     "text": [
      "2021-12-05 00:54:37,283 INFO Welcome to the CDS\n",
      "2021-12-05 00:54:37,286 INFO Sending request to https://cds.climate.copernicus.eu/api/v2/resources/reanalysis-era5-pressure-levels\n",
      "2021-12-05 00:54:37,568 INFO Request is queued\n",
      "2021-12-05 00:54:38,848 INFO Request is running\n",
      "2021-12-05 00:55:11,702 INFO Request is completed\n",
      "2021-12-05 00:55:11,703 INFO Downloading https://download-0003.copernicus-climate.eu/cache-compute-0003/cache/data9/adaptor.mars.internal-1638636898.8140965-24441-10-03908d12-1133-4251-8845-b2e589e5fe97.nc to F:/ERA5_UV/ERA5_UV_199801.nc (245.9M)\n",
      "2021-12-05 00:56:37,173 INFO Download rate 2.9M/s                                                                      \n"
     ]
    },
    {
     "name": "stdout",
     "output_type": "stream",
     "text": [
      "用时121.15830588340759\n"
     ]
    },
    {
     "name": "stderr",
     "output_type": "stream",
     "text": [
      "2021-12-05 00:56:38,413 INFO Welcome to the CDS\n",
      "2021-12-05 00:56:38,416 INFO Sending request to https://cds.climate.copernicus.eu/api/v2/resources/reanalysis-era5-pressure-levels\n",
      "2021-12-05 00:56:38,677 INFO Request is queued\n",
      "2021-12-05 00:56:39,930 INFO Request is running\n",
      "2021-12-05 00:57:12,644 INFO Request is completed\n",
      "2021-12-05 00:57:12,645 INFO Downloading https://download-0002.copernicus-climate.eu/cache-compute-0002/cache/data4/adaptor.mars.internal-1638637022.6886687-19331-10-b662f301-e7da-4a68-ad8d-8667c6e5c018.nc to F:/ERA5_UV/ERA5_UV_199802.nc (222.1M)\n",
      "2021-12-05 00:58:32,959 INFO Download rate 2.8M/s                                                                      \n"
     ]
    },
    {
     "name": "stdout",
     "output_type": "stream",
     "text": [
      "用时115.90793371200562\n"
     ]
    },
    {
     "name": "stderr",
     "output_type": "stream",
     "text": [
      "2021-12-05 00:58:34,354 INFO Welcome to the CDS\n",
      "2021-12-05 00:58:34,356 INFO Sending request to https://cds.climate.copernicus.eu/api/v2/resources/reanalysis-era5-pressure-levels\n",
      "2021-12-05 00:58:34,641 INFO Request is queued\n",
      "2021-12-05 00:58:35,922 INFO Request is running\n",
      "2021-12-05 00:59:08,772 INFO Request is completed\n",
      "2021-12-05 00:59:08,773 INFO Downloading https://download-0014.copernicus-climate.eu/cache-compute-0014/cache/data1/adaptor.mars.internal-1638637137.965628-16381-19-11074f5a-11ef-44c0-90e7-bb2c4c821484.nc to F:/ERA5_UV/ERA5_UV_199803.nc (245.9M)\n",
      "2021-12-05 01:00:29,990 INFO Download rate 3M/s                                                                        \n"
     ]
    },
    {
     "name": "stdout",
     "output_type": "stream",
     "text": [
      "用时117.00970101356506\n"
     ]
    },
    {
     "name": "stderr",
     "output_type": "stream",
     "text": [
      "2021-12-05 01:00:31,363 INFO Welcome to the CDS\n",
      "2021-12-05 01:00:31,365 INFO Sending request to https://cds.climate.copernicus.eu/api/v2/resources/reanalysis-era5-pressure-levels\n",
      "2021-12-05 01:00:31,654 INFO Request is queued\n",
      "2021-12-05 01:00:32,939 INFO Request is running\n",
      "2021-12-05 01:01:05,816 INFO Request is completed\n",
      "2021-12-05 01:01:05,817 INFO Downloading https://download-0006.copernicus-climate.eu/cache-compute-0006/cache/data6/adaptor.mars.internal-1638637257.7148924-26865-3-0d531a17-e69c-4f10-a01b-6925884c5df3.nc to F:/ERA5_UV/ERA5_UV_199804.nc (238M)\n",
      "2021-12-05 01:02:38,464 INFO Download rate 2.6M/s                                                                      \n"
     ]
    },
    {
     "name": "stdout",
     "output_type": "stream",
     "text": [
      "用时128.57413864135742\n"
     ]
    },
    {
     "name": "stderr",
     "output_type": "stream",
     "text": [
      "2021-12-05 01:02:39,962 INFO Welcome to the CDS\n",
      "2021-12-05 01:02:39,965 INFO Sending request to https://cds.climate.copernicus.eu/api/v2/resources/reanalysis-era5-pressure-levels\n",
      "2021-12-05 01:02:40,277 INFO Request is queued\n",
      "2021-12-05 01:02:41,588 INFO Request is running\n",
      "2021-12-05 01:03:32,007 INFO Request is completed\n",
      "2021-12-05 01:03:32,009 INFO Downloading https://download-0009.copernicus-climate.eu/cache-compute-0009/cache/data4/adaptor.mars.internal-1638637390.9132373-9225-7-212575d1-3b94-42df-9c3f-9ae47a4d663a.nc to F:/ERA5_UV/ERA5_UV_199805.nc (245.9M)\n",
      "2021-12-05 01:06:39,601 INFO Download rate 1.3M/s                                                                      \n"
     ]
    },
    {
     "name": "stdout",
     "output_type": "stream",
     "text": [
      "用时241.02355861663818\n"
     ]
    },
    {
     "name": "stderr",
     "output_type": "stream",
     "text": [
      "2021-12-05 01:06:40,961 INFO Welcome to the CDS\n",
      "2021-12-05 01:06:40,962 INFO Sending request to https://cds.climate.copernicus.eu/api/v2/resources/reanalysis-era5-pressure-levels\n",
      "2021-12-05 01:06:41,242 INFO Request is queued\n",
      "2021-12-05 01:06:42,518 INFO Request is running\n",
      "2021-12-05 01:07:32,746 INFO Request is completed\n",
      "2021-12-05 01:07:32,748 INFO Downloading https://download-0002.copernicus-climate.eu/cache-compute-0002/cache/data8/adaptor.mars.internal-1638637629.9502838-27624-6-aba83f1d-58c7-4160-a111-79df99377784.nc to F:/ERA5_UV/ERA5_UV_199806.nc (238M)\n",
      "2021-12-05 01:10:04,233 INFO Download rate 1.6M/s                                                                      \n"
     ]
    },
    {
     "name": "stdout",
     "output_type": "stream",
     "text": [
      "用时204.7592613697052\n"
     ]
    },
    {
     "name": "stderr",
     "output_type": "stream",
     "text": [
      "2021-12-05 01:10:05,746 INFO Welcome to the CDS\n",
      "2021-12-05 01:10:05,748 INFO Sending request to https://cds.climate.copernicus.eu/api/v2/resources/reanalysis-era5-pressure-levels\n",
      "2021-12-05 01:10:06,065 INFO Request is queued\n",
      "2021-12-05 01:10:07,375 INFO Request is running\n",
      "2021-12-05 01:10:57,769 INFO Request is completed\n",
      "2021-12-05 01:10:57,772 INFO Downloading https://download-0001.copernicus-climate.eu/cache-compute-0001/cache/data0/adaptor.mars.internal-1638637839.899569-473-19-4a0b4906-e127-4f20-990d-4d67deed0616.nc to F:/ERA5_UV/ERA5_UV_199807.nc (245.9M)\n",
      "2021-12-05 01:13:55,032 INFO Download rate 1.4M/s                                                                      \n"
     ]
    },
    {
     "name": "stdout",
     "output_type": "stream",
     "text": [
      "用时230.7101879119873\n"
     ]
    },
    {
     "name": "stderr",
     "output_type": "stream",
     "text": [
      "2021-12-05 01:13:56,435 INFO Welcome to the CDS\n",
      "2021-12-05 01:13:56,438 INFO Sending request to https://cds.climate.copernicus.eu/api/v2/resources/reanalysis-era5-pressure-levels\n",
      "2021-12-05 01:13:56,719 INFO Request is queued\n",
      "2021-12-05 01:13:58,008 INFO Request is running\n",
      "2021-12-05 01:14:30,862 INFO Request is completed\n",
      "2021-12-05 01:14:30,864 INFO Downloading https://download-0011.copernicus-climate.eu/cache-compute-0011/cache/data0/adaptor.mars.internal-1638638059.8042033-31503-12-b7437f04-d1df-4ed2-8951-f703d9badb39.nc to F:/ERA5_UV/ERA5_UV_199808.nc (245.9M)\n",
      "2021-12-05 01:15:59,741 INFO Download rate 2.8M/s                                                                      \n"
     ]
    },
    {
     "name": "stdout",
     "output_type": "stream",
     "text": [
      "用时124.77452993392944\n"
     ]
    },
    {
     "name": "stderr",
     "output_type": "stream",
     "text": [
      "2021-12-05 01:16:01,237 INFO Welcome to the CDS\n",
      "2021-12-05 01:16:01,239 INFO Sending request to https://cds.climate.copernicus.eu/api/v2/resources/reanalysis-era5-pressure-levels\n",
      "2021-12-05 01:16:01,550 INFO Request is queued\n",
      "2021-12-05 01:16:02,859 INFO Request is running\n",
      "2021-12-05 01:16:53,274 INFO Request is completed\n",
      "2021-12-05 01:16:53,276 INFO Downloading https://download-0001.copernicus-climate.eu/cache-compute-0001/cache/data4/adaptor.mars.internal-1638638195.0324776-2406-9-5e9da993-e6f5-47b9-8d18-7a30d810f27c.nc to F:/ERA5_UV/ERA5_UV_199809.nc (238M)\n",
      "2021-12-05 01:18:28,118 INFO Download rate 2.5M/s                                                                      \n"
     ]
    },
    {
     "name": "stdout",
     "output_type": "stream",
     "text": [
      "用时148.29344964027405\n"
     ]
    },
    {
     "name": "stderr",
     "output_type": "stream",
     "text": [
      "2021-12-05 01:18:29,505 INFO Welcome to the CDS\n",
      "2021-12-05 01:18:29,507 INFO Sending request to https://cds.climate.copernicus.eu/api/v2/resources/reanalysis-era5-pressure-levels\n",
      "2021-12-05 01:18:29,791 INFO Request is queued\n",
      "2021-12-05 01:18:31,067 INFO Request is running\n",
      "2021-12-05 01:19:03,910 INFO Request is completed\n",
      "2021-12-05 01:19:03,913 INFO Downloading https://download-0003.copernicus-climate.eu/cache-compute-0003/cache/data7/adaptor.mars.internal-1638638331.8499284-32190-19-afada454-6464-41c1-bdc0-61a2a288b16a.nc to F:/ERA5_UV/ERA5_UV_199810.nc (245.9M)\n",
      "2021-12-05 01:20:42,097 INFO Download rate 2.5M/s                                                                      \n"
     ]
    },
    {
     "name": "stdout",
     "output_type": "stream",
     "text": [
      "用时134.08408737182617\n"
     ]
    },
    {
     "name": "stderr",
     "output_type": "stream",
     "text": [
      "2021-12-05 01:20:43,617 INFO Welcome to the CDS\n",
      "2021-12-05 01:20:43,620 INFO Sending request to https://cds.climate.copernicus.eu/api/v2/resources/reanalysis-era5-pressure-levels\n",
      "2021-12-05 01:20:43,928 INFO Request is queued\n",
      "2021-12-05 01:20:45,245 INFO Request is running\n",
      "2021-12-05 01:21:18,287 INFO Request is completed\n",
      "2021-12-05 01:21:18,289 INFO Downloading https://download-0012.copernicus-climate.eu/cache-compute-0012/cache/data1/adaptor.mars.internal-1638638466.3869543-26312-11-7eeafff1-7b83-47c8-a810-7196da6a1270.nc to F:/ERA5_UV/ERA5_UV_199811.nc (238M)\n",
      "2021-12-05 01:23:34,516 INFO Download rate 1.7M/s                                                                      \n"
     ]
    },
    {
     "name": "stdout",
     "output_type": "stream",
     "text": [
      "用时172.40902590751648\n"
     ]
    },
    {
     "name": "stderr",
     "output_type": "stream",
     "text": [
      "2021-12-05 01:23:36,024 INFO Welcome to the CDS\n",
      "2021-12-05 01:23:36,026 INFO Sending request to https://cds.climate.copernicus.eu/api/v2/resources/reanalysis-era5-pressure-levels\n",
      "2021-12-05 01:23:36,339 INFO Request is queued\n",
      "2021-12-05 01:23:37,646 INFO Request is running\n",
      "2021-12-05 01:24:10,696 INFO Request is completed\n",
      "2021-12-05 01:24:10,699 INFO Downloading https://download-0004.copernicus-climate.eu/cache-compute-0004/cache/data5/adaptor.mars.internal-1638638639.419866-6874-14-d314df88-1ca3-4c0d-985d-0ae118e852de.nc to F:/ERA5_UV/ERA5_UV_199812.nc (245.9M)\n",
      "2021-12-05 01:26:39,921 INFO Download rate 1.6M/s                                                                      \n"
     ]
    },
    {
     "name": "stdout",
     "output_type": "stream",
     "text": [
      "用时185.30176997184753\n"
     ]
    },
    {
     "name": "stderr",
     "output_type": "stream",
     "text": [
      "2021-12-05 01:26:41,297 INFO Welcome to the CDS\n",
      "2021-12-05 01:26:41,298 INFO Sending request to https://cds.climate.copernicus.eu/api/v2/resources/reanalysis-era5-pressure-levels\n",
      "2021-12-05 01:26:41,576 INFO Request is queued\n",
      "2021-12-05 01:26:42,860 INFO Request is running\n",
      "2021-12-05 01:27:15,732 INFO Request is completed\n",
      "2021-12-05 01:27:15,735 INFO Downloading https://download-0005.copernicus-climate.eu/cache-compute-0005/cache/data0/adaptor.mars.internal-1638638825.3722408-7292-11-902e1cc7-a573-425b-89cd-e431c02ba972.nc to F:/ERA5_UV/ERA5_UV_199901.nc (245.9M)\n",
      "2021-12-05 01:28:27,059 INFO Download rate 3.4M/s                                                                      \n"
     ]
    },
    {
     "name": "stdout",
     "output_type": "stream",
     "text": [
      "用时107.02005004882812\n"
     ]
    },
    {
     "name": "stderr",
     "output_type": "stream",
     "text": [
      "2021-12-05 01:28:28,298 INFO Welcome to the CDS\n",
      "2021-12-05 01:28:28,300 INFO Sending request to https://cds.climate.copernicus.eu/api/v2/resources/reanalysis-era5-pressure-levels\n",
      "2021-12-05 01:28:28,580 INFO Request is queued\n",
      "2021-12-05 01:28:29,840 INFO Request is running\n",
      "2021-12-05 01:29:02,534 INFO Request is completed\n",
      "2021-12-05 01:29:02,536 INFO Downloading https://download-0001.copernicus-climate.eu/cache-compute-0001/cache/data0/adaptor.mars.internal-1638638934.1083922-21052-19-8907edba-c7d1-4f79-8ee7-23c06537fdd9.nc to F:/ERA5_UV/ERA5_UV_199902.nc (222.1M)\n",
      "2021-12-05 01:32:21,205 INFO Download rate 1.1M/s                                                                      \n"
     ]
    },
    {
     "name": "stdout",
     "output_type": "stream",
     "text": [
      "用时234.1407172679901\n"
     ]
    },
    {
     "name": "stderr",
     "output_type": "stream",
     "text": [
      "2021-12-05 01:32:22,435 INFO Welcome to the CDS\n",
      "2021-12-05 01:32:22,436 INFO Sending request to https://cds.climate.copernicus.eu/api/v2/resources/reanalysis-era5-pressure-levels\n",
      "2021-12-05 01:32:22,687 INFO Request is queued\n",
      "2021-12-05 01:32:23,943 INFO Request is running\n",
      "2021-12-05 01:32:56,628 INFO Request is completed\n",
      "2021-12-05 01:32:56,631 INFO Downloading https://download-0005.copernicus-climate.eu/cache-compute-0005/cache/data0/adaptor.mars.internal-1638639166.3058805-10051-6-321a22a6-d016-43f4-b4b5-7ddbefc447a1.nc to F:/ERA5_UV/ERA5_UV_199903.nc (245.9M)\n",
      "2021-12-05 01:34:59,424 INFO Download rate 2M/s                                                                        \n"
     ]
    },
    {
     "name": "stdout",
     "output_type": "stream",
     "text": [
      "用时158.34294867515564\n"
     ]
    },
    {
     "name": "stderr",
     "output_type": "stream",
     "text": [
      "2021-12-05 01:35:00,810 INFO Welcome to the CDS\n",
      "2021-12-05 01:35:00,812 INFO Sending request to https://cds.climate.copernicus.eu/api/v2/resources/reanalysis-era5-pressure-levels\n",
      "2021-12-05 01:35:01,115 INFO Request is queued\n",
      "2021-12-05 01:35:02,401 INFO Request is running\n",
      "2021-12-05 01:35:52,624 INFO Request is completed\n",
      "2021-12-05 01:35:52,626 INFO Downloading https://download-0002.copernicus-climate.eu/cache-compute-0002/cache/data5/adaptor.mars.internal-1638639327.9034603-3725-19-3b780ae4-4a6b-41ed-9823-987c08813a7f.nc to F:/ERA5_UV/ERA5_UV_199904.nc (238M)\n",
      "2021-12-05 01:39:46,985 INFO Download rate 1M/s                                                                        \n"
     ]
    },
    {
     "name": "stdout",
     "output_type": "stream",
     "text": [
      "用时287.6549451351166\n"
     ]
    },
    {
     "name": "stderr",
     "output_type": "stream",
     "text": [
      "2021-12-05 01:39:48,492 INFO Welcome to the CDS\n",
      "2021-12-05 01:39:48,492 INFO Sending request to https://cds.climate.copernicus.eu/api/v2/resources/reanalysis-era5-pressure-levels\n",
      "2021-12-05 01:39:48,836 INFO Request is queued\n",
      "2021-12-05 01:39:50,139 INFO Request is running\n",
      "2021-12-05 01:40:23,160 INFO Request is completed\n",
      "2021-12-05 01:40:23,163 INFO Downloading https://download-0002.copernicus-climate.eu/cache-compute-0002/cache/data6/adaptor.mars.internal-1638639613.6948204-15963-16-0671187d-d7b4-43d0-91db-f3d5310c6674.nc to F:/ERA5_UV/ERA5_UV_199905.nc (245.9M)\n",
      "2021-12-05 01:42:57,208 INFO Download rate 1.6M/s                                                                      \n"
     ]
    },
    {
     "name": "stdout",
     "output_type": "stream",
     "text": [
      "用时190.12320709228516\n"
     ]
    },
    {
     "name": "stderr",
     "output_type": "stream",
     "text": [
      "2021-12-05 01:42:58,592 INFO Welcome to the CDS\n",
      "2021-12-05 01:42:58,595 INFO Sending request to https://cds.climate.copernicus.eu/api/v2/resources/reanalysis-era5-pressure-levels\n",
      "2021-12-05 01:42:58,877 INFO Request is queued\n",
      "2021-12-05 01:43:00,160 INFO Request is running\n",
      "2021-12-05 01:43:33,000 INFO Request is completed\n",
      "2021-12-05 01:43:33,003 INFO Downloading https://download-0003.copernicus-climate.eu/cache-compute-0003/cache/data9/adaptor.mars.internal-1638639800.3801792-6285-8-ef1780af-9ce3-4e48-bc93-722e7fdbc78a.nc to F:/ERA5_UV/ERA5_UV_199906.nc (238M)\n",
      "2021-12-05 01:46:27,673 INFO Download rate 1.4M/s                                                                      \n"
     ]
    },
    {
     "name": "stdout",
     "output_type": "stream",
     "text": [
      "用时210.44385933876038\n"
     ]
    },
    {
     "name": "stderr",
     "output_type": "stream",
     "text": [
      "2021-12-05 01:46:29,035 INFO Welcome to the CDS\n",
      "2021-12-05 01:46:29,038 INFO Sending request to https://cds.climate.copernicus.eu/api/v2/resources/reanalysis-era5-pressure-levels\n",
      "2021-12-05 01:46:29,319 INFO Request is queued\n",
      "2021-12-05 01:46:30,605 INFO Request is running\n",
      "2021-12-05 01:47:03,475 INFO Request is completed\n",
      "2021-12-05 01:47:03,477 INFO Downloading https://download-0012.copernicus-climate.eu/cache-compute-0012/cache/data4/adaptor.mars.internal-1638640014.3981109-6058-1-85ba2f39-f30f-4b5e-8cfe-0155de7324ab.nc to F:/ERA5_UV/ERA5_UV_199907.nc (245.9M)\n",
      "2021-12-05 01:50:06,483 INFO Download rate 1.3M/s                                                                      \n"
     ]
    },
    {
     "name": "stdout",
     "output_type": "stream",
     "text": [
      "用时218.9167754650116\n"
     ]
    },
    {
     "name": "stderr",
     "output_type": "stream",
     "text": [
      "2021-12-05 01:50:07,975 INFO Welcome to the CDS\n",
      "2021-12-05 01:50:07,975 INFO Sending request to https://cds.climate.copernicus.eu/api/v2/resources/reanalysis-era5-pressure-levels\n",
      "2021-12-05 01:50:08,278 INFO Request is queued\n",
      "2021-12-05 01:50:09,585 INFO Request is running\n",
      "2021-12-05 01:50:42,491 INFO Request is completed\n",
      "2021-12-05 01:50:42,492 INFO Downloading https://download-0002.copernicus-climate.eu/cache-compute-0002/cache/data1/adaptor.mars.internal-1638640230.7623096-21134-4-a7450a44-3074-4eaa-a559-2b82a7538aa6.nc to F:/ERA5_UV/ERA5_UV_199908.nc (245.9M)\n",
      "2021-12-05 01:54:34,634 INFO Download rate 1.1M/s                                                                      \n"
     ]
    },
    {
     "name": "stdout",
     "output_type": "stream",
     "text": [
      "用时268.1640145778656\n"
     ]
    },
    {
     "name": "stderr",
     "output_type": "stream",
     "text": [
      "2021-12-05 01:54:36,140 INFO Welcome to the CDS\n",
      "2021-12-05 01:54:36,142 INFO Sending request to https://cds.climate.copernicus.eu/api/v2/resources/reanalysis-era5-pressure-levels\n",
      "2021-12-05 01:54:36,452 INFO Request is queued\n",
      "2021-12-05 01:54:37,766 INFO Request is running\n",
      "2021-12-05 01:55:10,793 INFO Request is completed\n",
      "2021-12-05 01:55:10,796 INFO Downloading https://download-0010.copernicus-climate.eu/cache-compute-0010/cache/data7/adaptor.mars.internal-1638640499.1547081-28066-15-500da787-3f05-4f88-9b22-9ed04ee46ad0.nc to F:/ERA5_UV/ERA5_UV_199909.nc (238M)\n",
      "2021-12-05 01:56:52,861 INFO Download rate 2.3M/s                                                                      \n"
     ]
    },
    {
     "name": "stdout",
     "output_type": "stream",
     "text": [
      "用时138.21033453941345\n"
     ]
    },
    {
     "name": "stderr",
     "output_type": "stream",
     "text": [
      "2021-12-05 01:56:54,353 INFO Welcome to the CDS\n",
      "2021-12-05 01:56:54,354 INFO Sending request to https://cds.climate.copernicus.eu/api/v2/resources/reanalysis-era5-pressure-levels\n",
      "2021-12-05 01:56:54,657 INFO Request is queued\n",
      "2021-12-05 01:56:55,973 INFO Request is running\n",
      "2021-12-05 01:57:28,994 INFO Request is completed\n",
      "2021-12-05 01:57:28,995 INFO Downloading https://download-0002.copernicus-climate.eu/cache-compute-0002/cache/data0/adaptor.mars.internal-1638640636.8423426-24922-3-672a491c-535a-4123-bd3e-a8f5491414ee.nc to F:/ERA5_UV/ERA5_UV_199910.nc (245.9M)\n",
      "2021-12-05 02:00:36,305 INFO Download rate 1.3M/s                                                                      \n"
     ]
    },
    {
     "name": "stdout",
     "output_type": "stream",
     "text": [
      "用时223.3508322238922\n"
     ]
    },
    {
     "name": "stderr",
     "output_type": "stream",
     "text": [
      "2021-12-05 02:00:37,675 INFO Welcome to the CDS\n",
      "2021-12-05 02:00:37,677 INFO Sending request to https://cds.climate.copernicus.eu/api/v2/resources/reanalysis-era5-pressure-levels\n",
      "2021-12-05 02:00:37,958 INFO Request is queued\n",
      "2021-12-05 02:00:39,244 INFO Request is running\n",
      "2021-12-05 02:01:12,097 INFO Request is completed\n",
      "2021-12-05 02:01:12,100 INFO Downloading https://download-0002.copernicus-climate.eu/cache-compute-0002/cache/data6/adaptor.mars.internal-1638640861.5618746-25843-16-b4ca9d46-9184-4cfe-901a-cb1f918a60a9.nc to F:/ERA5_UV/ERA5_UV_199911.nc (238M)\n",
      "2021-12-05 02:03:40,106 INFO Download rate 1.6M/s                                                                      \n"
     ]
    },
    {
     "name": "stdout",
     "output_type": "stream",
     "text": [
      "用时183.6962878704071\n"
     ]
    },
    {
     "name": "stderr",
     "output_type": "stream",
     "text": [
      "2021-12-05 02:03:41,350 INFO Welcome to the CDS\n",
      "2021-12-05 02:03:41,353 INFO Sending request to https://cds.climate.copernicus.eu/api/v2/resources/reanalysis-era5-pressure-levels\n",
      "2021-12-05 02:03:41,610 INFO Request is queued\n",
      "2021-12-05 02:03:42,860 INFO Request is running\n",
      "2021-12-05 02:04:15,548 INFO Request is completed\n",
      "2021-12-05 02:04:15,550 INFO Downloading https://download-0005.copernicus-climate.eu/cache-compute-0005/cache/data1/adaptor.mars.internal-1638641043.4637659-28203-19-670be615-97ed-4084-90bd-2ca315be54b9.nc to F:/ERA5_UV/ERA5_UV_199912.nc (245.9M)\n",
      "2021-12-05 02:06:19,120 INFO Download rate 2M/s                                                                        \n"
     ]
    },
    {
     "name": "stdout",
     "output_type": "stream",
     "text": [
      "用时159.13127160072327\n"
     ]
    },
    {
     "name": "stderr",
     "output_type": "stream",
     "text": [
      "2021-12-05 02:06:20,510 INFO Welcome to the CDS\n",
      "2021-12-05 02:06:20,511 INFO Sending request to https://cds.climate.copernicus.eu/api/v2/resources/reanalysis-era5-pressure-levels\n",
      "2021-12-05 02:06:20,787 INFO Request is queued\n",
      "2021-12-05 02:06:22,078 INFO Request is running\n",
      "2021-12-05 02:06:54,944 INFO Request is completed\n",
      "2021-12-05 02:06:54,947 INFO Downloading https://download-0003.copernicus-climate.eu/cache-compute-0003/cache/data5/adaptor.mars.internal-1638641203.3040192-30431-5-6bd0169a-53c9-4deb-94bd-721bb498b3b0.nc to F:/ERA5_UV/ERA5_UV_200001.nc (245.9M)\n",
      "2021-12-05 02:09:45,697 INFO Download rate 1.4M/s                                                                      \n"
     ]
    },
    {
     "name": "stdout",
     "output_type": "stream",
     "text": [
      "用时206.67782282829285\n"
     ]
    },
    {
     "name": "stderr",
     "output_type": "stream",
     "text": [
      "2021-12-05 02:09:47,216 INFO Welcome to the CDS\n",
      "2021-12-05 02:09:47,218 INFO Sending request to https://cds.climate.copernicus.eu/api/v2/resources/reanalysis-era5-pressure-levels\n",
      "2021-12-05 02:09:47,531 INFO Request is queued\n",
      "2021-12-05 02:09:48,842 INFO Request is running\n",
      "2021-12-05 02:10:21,850 INFO Request is completed\n",
      "2021-12-05 02:10:21,851 INFO Downloading https://download-0001.copernicus-climate.eu/cache-compute-0001/cache/data1/adaptor.mars.internal-1638641409.6935859-3339-18-6e81700f-5adb-49b3-bbf7-ae7187b7f91b.nc to F:/ERA5_UV/ERA5_UV_200002.nc (230M)\n",
      "2021-12-05 02:15:33,016 ERROR Download interupted: HTTPSConnectionPool(host='download-0001.copernicus-climate.eu', port=443): Read timed out.\n",
      "2021-12-05 02:15:33,018 ERROR Download incomplete, downloaded 206311424 byte(s) out of 241212100\n",
      "2021-12-05 02:15:33,020 WARNING Sleeping 10 seconds\n",
      "2021-12-05 02:15:43,037 WARNING Resuming download at byte 206311424\n",
      "2021-12-05 02:16:45,719 ERROR Download interupted: HTTPSConnectionPool(host='download-0001.copernicus-climate.eu', port=443): Read timed out.\n",
      "2021-12-05 02:16:45,721 ERROR Download incomplete, downloaded 207211520 byte(s) out of 241212100\n",
      "2021-12-05 02:16:45,723 WARNING Sleeping 15.0 seconds\n",
      "2021-12-05 02:17:00,736 WARNING Resuming download at byte 207211520\n",
      "2021-12-05 02:17:25,142 INFO Download rate 556.5K/s                                                                    \n"
     ]
    },
    {
     "name": "stdout",
     "output_type": "stream",
     "text": [
      "用时459.320187330246\n"
     ]
    },
    {
     "name": "stderr",
     "output_type": "stream",
     "text": [
      "2021-12-05 02:17:26,506 INFO Welcome to the CDS\n",
      "2021-12-05 02:17:26,507 INFO Sending request to https://cds.climate.copernicus.eu/api/v2/resources/reanalysis-era5-pressure-levels\n",
      "2021-12-05 02:17:26,785 INFO Request is queued\n",
      "2021-12-05 02:17:28,064 INFO Request is running\n",
      "2021-12-05 02:18:00,920 INFO Request is completed\n",
      "2021-12-05 02:18:00,921 INFO Downloading https://download-0014.copernicus-climate.eu/cache-compute-0014/cache/data1/adaptor.mars.internal-1638641870.9229033-25287-19-5000fb66-0289-4f6f-b956-c804ffeb12b3.nc to F:/ERA5_UV/ERA5_UV_200003.nc (245.9M)\n",
      "2021-12-05 02:21:34,325 INFO Download rate 1.2M/s                                                                      \n"
     ]
    },
    {
     "name": "stdout",
     "output_type": "stream",
     "text": [
      "用时249.08211255073547\n"
     ]
    },
    {
     "name": "stderr",
     "output_type": "stream",
     "text": [
      "2021-12-05 02:21:35,568 INFO Welcome to the CDS\n",
      "2021-12-05 02:21:35,570 INFO Sending request to https://cds.climate.copernicus.eu/api/v2/resources/reanalysis-era5-pressure-levels\n",
      "2021-12-05 02:21:35,826 INFO Request is queued\n",
      "2021-12-05 02:21:37,078 INFO Request is running\n",
      "2021-12-05 02:22:27,100 INFO Request is completed\n",
      "2021-12-05 02:22:27,103 INFO Downloading https://download-0004.copernicus-climate.eu/cache-compute-0004/cache/data3/adaptor.mars.internal-1638642123.211371-11238-2-2fef5c7f-93a5-46e1-89fd-cff07890f4b3.nc to F:/ERA5_UV/ERA5_UV_200004.nc (238M)\n",
      "2021-12-05 02:25:59,273 INFO Download rate 1.1M/s                                                                      \n"
     ]
    },
    {
     "name": "stdout",
     "output_type": "stream",
     "text": [
      "用时265.1652386188507\n"
     ]
    },
    {
     "name": "stderr",
     "output_type": "stream",
     "text": [
      "2021-12-05 02:26:00,781 INFO Welcome to the CDS\n",
      "2021-12-05 02:26:00,782 INFO Sending request to https://cds.climate.copernicus.eu/api/v2/resources/reanalysis-era5-pressure-levels\n",
      "2021-12-05 02:26:01,083 INFO Request is queued\n",
      "2021-12-05 02:26:02,390 INFO Request is running\n",
      "2021-12-05 02:26:35,409 INFO Request is completed\n",
      "2021-12-05 02:26:35,411 INFO Downloading https://download-0001.copernicus-climate.eu/cache-compute-0001/cache/data7/adaptor.mars.internal-1638642387.08371-7006-14-a7b56ff4-8f31-4f4f-8f52-947b85d08ef0.nc to F:/ERA5_UV/ERA5_UV_200005.nc (245.9M)\n",
      "2021-12-05 02:28:43,218 INFO Download rate 1.9M/s                                                                      \n"
     ]
    },
    {
     "name": "stdout",
     "output_type": "stream",
     "text": [
      "用时163.71639323234558\n"
     ]
    },
    {
     "name": "stderr",
     "output_type": "stream",
     "text": [
      "2021-12-05 02:28:44,450 INFO Welcome to the CDS\n",
      "2021-12-05 02:28:44,451 INFO Sending request to https://cds.climate.copernicus.eu/api/v2/resources/reanalysis-era5-pressure-levels\n",
      "2021-12-05 02:28:44,703 INFO Request is queued\n",
      "2021-12-05 02:28:45,960 INFO Request is running\n",
      "2021-12-05 02:29:18,686 INFO Request is completed\n",
      "2021-12-05 02:29:18,687 INFO Downloading https://download-0002.copernicus-climate.eu/cache-compute-0002/cache/data5/adaptor.mars.internal-1638642548.725427-11857-19-15742444-019d-4c4b-a740-a71411f20138.nc to F:/ERA5_UV/ERA5_UV_200006.nc (238M)\n",
      "2021-12-05 02:31:34,385 INFO Download rate 1.8M/s                                                                      \n"
     ]
    },
    {
     "name": "stdout",
     "output_type": "stream",
     "text": [
      "用时171.39617443084717\n"
     ]
    },
    {
     "name": "stderr",
     "output_type": "stream",
     "text": [
      "2021-12-05 02:31:35,901 INFO Welcome to the CDS\n",
      "2021-12-05 02:31:35,902 INFO Sending request to https://cds.climate.copernicus.eu/api/v2/resources/reanalysis-era5-pressure-levels\n",
      "2021-12-05 02:31:36,205 INFO Request is queued\n",
      "2021-12-05 02:31:37,505 INFO Request is running\n",
      "2021-12-05 02:32:27,924 INFO Request is completed\n",
      "2021-12-05 02:32:27,927 INFO Downloading https://download-0005.copernicus-climate.eu/cache-compute-0005/cache/data0/adaptor.mars.internal-1638642724.6433618-11937-17-aa1e8448-27ca-4e2c-bd52-bed1597c6167.nc to F:/ERA5_UV/ERA5_UV_200007.nc (245.9M)\n",
      "2021-12-05 02:34:05,280 INFO Download rate 2.5M/s                                                                      \n"
     ]
    },
    {
     "name": "stdout",
     "output_type": "stream",
     "text": [
      "用时150.88880014419556\n"
     ]
    },
    {
     "name": "stderr",
     "output_type": "stream",
     "text": [
      "2021-12-05 02:34:06,788 INFO Welcome to the CDS\n",
      "2021-12-05 02:34:06,790 INFO Sending request to https://cds.climate.copernicus.eu/api/v2/resources/reanalysis-era5-pressure-levels\n",
      "2021-12-05 02:34:07,141 INFO Request is queued\n",
      "2021-12-05 02:34:08,461 INFO Request is running\n",
      "2021-12-05 02:34:41,506 INFO Request is completed\n",
      "2021-12-05 02:34:41,507 INFO Downloading https://download-0001.copernicus-climate.eu/cache-compute-0001/cache/data4/adaptor.mars.internal-1638642870.6139886-18832-7-ae39dfd4-7efa-44ea-b4ab-ccddc6849dc3.nc to F:/ERA5_UV/ERA5_UV_200008.nc (245.9M)\n",
      "2021-12-05 02:38:43,977 INFO Download rate 1M/s                                                                        \n"
     ]
    },
    {
     "name": "stdout",
     "output_type": "stream",
     "text": [
      "用时278.58298683166504\n"
     ]
    },
    {
     "name": "stderr",
     "output_type": "stream",
     "text": [
      "2021-12-05 02:38:45,344 INFO Welcome to the CDS\n",
      "2021-12-05 02:38:45,345 INFO Sending request to https://cds.climate.copernicus.eu/api/v2/resources/reanalysis-era5-pressure-levels\n",
      "2021-12-05 02:38:45,621 INFO Request is queued\n",
      "2021-12-05 02:38:46,892 INFO Request is running\n",
      "2021-12-05 02:39:19,720 INFO Request is completed\n",
      "2021-12-05 02:39:19,723 INFO Downloading https://download-0000.copernicus-climate.eu/cache-compute-0000/cache/data4/adaptor.mars.internal-1638643145.7291367-14706-2-d07a69cd-aa12-41b7-9603-df766514a503.nc to F:/ERA5_UV/ERA5_UV_200009.nc (238M)\n",
      "2021-12-05 02:42:24,371 INFO Download rate 1.3M/s                                                                      \n"
     ]
    },
    {
     "name": "stdout",
     "output_type": "stream",
     "text": [
      "用时220.48752355575562\n"
     ]
    },
    {
     "name": "stderr",
     "output_type": "stream",
     "text": [
      "2021-12-05 02:42:25,866 INFO Welcome to the CDS\n",
      "2021-12-05 02:42:25,868 INFO Sending request to https://cds.climate.copernicus.eu/api/v2/resources/reanalysis-era5-pressure-levels\n",
      "2021-12-05 02:42:26,179 INFO Request is queued\n",
      "2021-12-05 02:42:27,479 INFO Request is running\n",
      "2021-12-05 02:43:00,868 INFO Request is completed\n",
      "2021-12-05 02:43:00,870 INFO Downloading https://download-0014.copernicus-climate.eu/cache-compute-0014/cache/data7/adaptor.mars.internal-1638643369.8825734-12113-13-40fbddc3-2023-4fb6-8835-03f44d34a262.nc to F:/ERA5_UV/ERA5_UV_200010.nc (245.9M)\n",
      "2021-12-05 02:45:08,037 INFO Download rate 1.9M/s                                                                      \n"
     ]
    },
    {
     "name": "stdout",
     "output_type": "stream",
     "text": [
      "用时163.68032455444336\n"
     ]
    },
    {
     "name": "stderr",
     "output_type": "stream",
     "text": [
      "2021-12-05 02:45:09,543 INFO Welcome to the CDS\n",
      "2021-12-05 02:45:09,545 INFO Sending request to https://cds.climate.copernicus.eu/api/v2/resources/reanalysis-era5-pressure-levels\n",
      "2021-12-05 02:45:09,856 INFO Request is queued\n",
      "2021-12-05 02:45:11,167 INFO Request is running\n",
      "2021-12-05 02:45:44,506 INFO Request is completed\n",
      "2021-12-05 02:45:44,509 INFO Downloading https://download-0010.copernicus-climate.eu/cache-compute-0010/cache/data6/adaptor.mars.internal-1638643532.9948144-27489-11-9ee108ff-c7f7-474c-a668-e81cc69c7f90.nc to F:/ERA5_UV/ERA5_UV_200011.nc (238M)\n",
      "2021-12-05 02:47:31,795 INFO Download rate 2.2M/s                                                                      \n"
     ]
    },
    {
     "name": "stdout",
     "output_type": "stream",
     "text": [
      "用时143.7513449192047\n"
     ]
    },
    {
     "name": "stderr",
     "output_type": "stream",
     "text": [
      "2021-12-05 02:47:33,295 INFO Welcome to the CDS\n",
      "2021-12-05 02:47:33,297 INFO Sending request to https://cds.climate.copernicus.eu/api/v2/resources/reanalysis-era5-pressure-levels\n",
      "2021-12-05 02:47:33,607 INFO Request is queued\n",
      "2021-12-05 02:47:34,910 INFO Request is running\n",
      "2021-12-05 02:48:07,934 INFO Request is completed\n",
      "2021-12-05 02:48:07,937 INFO Downloading https://download-0012.copernicus-climate.eu/cache-compute-0012/cache/data2/adaptor.mars.internal-1638643677.605612-17135-20-ca3b5283-ee65-4558-81f6-1bf0f59bc240.nc to F:/ERA5_UV/ERA5_UV_200012.nc (245.9M)\n",
      "2021-12-05 02:50:35,010 INFO Download rate 1.7M/s                                                                      \n"
     ]
    },
    {
     "name": "stdout",
     "output_type": "stream",
     "text": [
      "用时183.1059193611145\n"
     ]
    }
   ],
   "source": [
    "import cdsapi\n",
    "import os\n",
    "import time\n",
    "\n",
    "c = cdsapi.Client()\n",
    "years = ('1980', '1981', '1982',\n",
    "            '1983', '1984', '1985',\n",
    "            '1986', '1987', '1988',\n",
    "            '1989', '1990', '1991',\n",
    "            '1992', '1993', '1994',\n",
    "            '1995', '1996', '1997',\n",
    "            '1998', '1999', '2000',\n",
    "            '2001', '2002', '2003',\n",
    "            '2004', '2005', '2006',\n",
    "            '2007', '2008', '2009',\n",
    "            '2010', '2011', '2012',\n",
    "            '2013', '2014', '2015',\n",
    "            '2016', '2017', '2018',\n",
    "            '2019', '2020')\n",
    "months = ('01', '02', '03',\n",
    "            '04', '05', '06',\n",
    "            '07', '08', '09',\n",
    "            '10', '11', '12')\n",
    "for Y in years:\n",
    "    for M in months:\n",
    "        target_filename = \"F:/ERA5_UV/ERA5_UV_\" + Y + M + \".nc\"\n",
    "        if not os.path.isfile(target_filename):\n",
    "            start_time = time.time()\n",
    "            c.retrieve(\n",
    "            'reanalysis-era5-pressure-levels',\n",
    "            {\n",
    "                'product_type': 'reanalysis',\n",
    "                'variable': [\n",
    "                    'u_component_of_wind', 'v_component_of_wind',\n",
    "                ],\n",
    "                'pressure_level': [\n",
    "                    '200', '850',\n",
    "                ],\n",
    "                'grid':[0.5, 0.5],\n",
    "              #'area':[12, 72, 42, 128],\n",
    "                'year': Y,\n",
    "                'month': M,\n",
    "                 'day':[\n",
    "                            '01','02','03',\n",
    "                            '04','05','06',\n",
    "                            '07','08','09',\n",
    "                            '10','11','12',\n",
    "                            '13','14','15',\n",
    "                            '16','17','18',\n",
    "                            '19','20','21',\n",
    "                            '22','23','24',\n",
    "                            '25','26','27',\n",
    "                            '28','29','30',\n",
    "                            '31'\n",
    "                        ],\n",
    "                'time': [\n",
    "                    '00:00', '06:00', '12:00',\n",
    "                    '18:00',\n",
    "                ],\n",
    "                'format': 'netcdf',\n",
    "            },\n",
    "            target_filename)\n",
    "            end_time = time.time()\n",
    "            print(\"用时{}\".format(end_time-start_time))"
   ]
  },
  {
   "cell_type": "code",
   "execution_count": null,
   "id": "4cbf59e6",
   "metadata": {},
   "outputs": [],
   "source": [
    "download"
   ]
  }
 ],
 "metadata": {
  "kernelspec": {
   "display_name": "Python 3",
   "language": "python",
   "name": "python3"
  },
  "language_info": {
   "codemirror_mode": {
    "name": "ipython",
    "version": 3
   },
   "file_extension": ".py",
   "mimetype": "text/x-python",
   "name": "python",
   "nbconvert_exporter": "python",
   "pygments_lexer": "ipython3",
   "version": "3.8.8"
  },
  "toc": {
   "base_numbering": 1,
   "nav_menu": {},
   "number_sections": true,
   "sideBar": true,
   "skip_h1_title": false,
   "title_cell": "Table of Contents",
   "title_sidebar": "Contents",
   "toc_cell": false,
   "toc_position": {},
   "toc_section_display": true,
   "toc_window_display": false
  },
  "varInspector": {
   "cols": {
    "lenName": 16,
    "lenType": 16,
    "lenVar": 40
   },
   "kernels_config": {
    "python": {
     "delete_cmd_postfix": "",
     "delete_cmd_prefix": "del ",
     "library": "var_list.py",
     "varRefreshCmd": "print(var_dic_list())"
    },
    "r": {
     "delete_cmd_postfix": ") ",
     "delete_cmd_prefix": "rm(",
     "library": "var_list.r",
     "varRefreshCmd": "cat(var_dic_list()) "
    }
   },
   "types_to_exclude": [
    "module",
    "function",
    "builtin_function_or_method",
    "instance",
    "_Feature"
   ],
   "window_display": false
  }
 },
 "nbformat": 4,
 "nbformat_minor": 5
}
