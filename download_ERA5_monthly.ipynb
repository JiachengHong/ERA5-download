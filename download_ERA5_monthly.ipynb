{
 "cells": [
  {
   "cell_type": "markdown",
   "id": "d72d99d4",
   "metadata": {
    "ExecuteTime": {
     "end_time": "2022-05-20T08:35:52.195413Z",
     "start_time": "2022-05-20T08:35:52.174583Z"
    }
   },
   "source": [
    "# reanalysis-era5-pressure-levels-monthly-means"
   ]
  },
  {
   "cell_type": "code",
   "execution_count": 1,
   "id": "f7122128",
   "metadata": {
    "ExecuteTime": {
     "end_time": "2022-05-27T06:08:29.175332Z",
     "start_time": "2022-05-27T06:08:29.159340Z"
    },
    "cell_style": "center",
    "scrolled": true
   },
   "outputs": [],
   "source": [
    "import cdsapi\n",
    "import os\n",
    "import time\n",
    "\n",
    "c = cdsapi.Client()\n",
    "years = ('1979','1980', '1981', '1982',\n",
    "            '1983', '1984', '1985',\n",
    "            '1986', '1987', '1988',\n",
    "            '1989', '1990', '1991',\n",
    "            '1992', '1993', '1994',\n",
    "            '1995', '1996', '1997',\n",
    "            '1998', '1999', '2000',\n",
    "            '2001', '2002', '2003',\n",
    "            '2004', '2005', '2006',\n",
    "            '2007', '2008', '2009',\n",
    "            '2010', '2011', '2012',\n",
    "            '2013', '2014', '2015',\n",
    "            '2016', '2017', '2018',\n",
    "            '2019', '2020','2021')\n",
    "\n",
    "varias='vorticity'\n",
    "for Y in years:\n",
    "    target_filename = \"e:/era5-monthly/\"+ varias +  \"/\" + varias + \"_\" + Y  + \".nc\"\n",
    "    if not os.path.isfile(target_filename):\n",
    "        start_time = time.time()\n",
    "        c.retrieve(\n",
    "        'reanalysis-era5-pressure-levels-monthly-means',\n",
    "        {\n",
    "            'variable': varias,\n",
    "          #  'grid':[0.5, 0.5],\n",
    "          #'area':[12, 72, 42, 128],\n",
    "            'year': Y,\n",
    "              'month': [\n",
    "                    '01', '02', '03',\n",
    "                    '04', '05', '06',\n",
    "                    '07', '08', '09',\n",
    "                    '10', '11', '12',\n",
    "                ],\n",
    "                'time': '00:00',\n",
    "                'variable': varias,\n",
    "                'pressure_level': [\n",
    "                    '1', '2', '3',\n",
    "                    '5', '7', '10',\n",
    "                    '20', '30', '50',\n",
    "                    '70', '100', '125',\n",
    "                    '150', '175', '200',\n",
    "                    '225', '250', '300',\n",
    "                    '350', '400', '450',\n",
    "                    '500', '550', '600',\n",
    "                    '650', '700', '750',\n",
    "                    '775', '800', '825',\n",
    "                    '850', '875', '900',\n",
    "                    '925', '950', '975',\n",
    "                    '1000',\n",
    "                ],\n",
    "                'product_type': 'monthly_averaged_reanalysis',\n",
    "           \" format\":\"netcdf\",\n",
    "            },\n",
    "        target_filename)\n",
    "        end_time = time.time()\n",
    "        print(\"用时{}\".format(end_time-start_time))"
   ]
  },
  {
   "cell_type": "markdown",
   "id": "9ecfc3fa",
   "metadata": {},
   "source": [
    "# reanalysis-era5-single-levels-monthly-means"
   ]
  },
  {
   "cell_type": "code",
   "execution_count": 2,
   "id": "538b5fbb",
   "metadata": {
    "ExecuteTime": {
     "end_time": "2022-05-27T06:08:39.647556Z",
     "start_time": "2022-05-27T06:08:39.628195Z"
    }
   },
   "outputs": [],
   "source": [
    "import cdsapi\n",
    "import os\n",
    "import time\n",
    "\n",
    "import cdsapi\n",
    "\n",
    "years = ('1979','1980', '1981', '1982',\n",
    "            '1983', '1984', '1985',\n",
    "            '1986', '1987', '1988',\n",
    "            '1989', '1990', '1991',\n",
    "            '1992', '1993', '1994',\n",
    "            '1995', '1996', '1997',\n",
    "            '1998', '1999', '2000',\n",
    "            '2001', '2002', '2003',\n",
    "            '2004', '2005', '2006',\n",
    "            '2007', '2008', '2009',\n",
    "            '2010', '2011', '2012',\n",
    "            '2013', '2014', '2015',\n",
    "            '2016', '2017', '2018',\n",
    "            '2019', '2020','2021')\n",
    "\n",
    "varias= \"Sea surface temperature\"  #'mean_sea_level_pressure'\n",
    "for Y in years:\n",
    "    target_filename = \"e:/era5-monthly/\"+ varias +  \"/\" + varias + \"_\" + Y  + \".nc\"\n",
    "    if not os.path.isfile(target_filename):\n",
    "        start_time = time.time()\n",
    "        c.retrieve(\n",
    "            'reanalysis-era5-single-levels-monthly-means',\n",
    "            {\n",
    "                'format': 'netcdf',\n",
    "                'product_type': 'monthly_averaged_reanalysis',\n",
    "                'variable': varias,\n",
    "                'year': Y,\n",
    "                'month': [\n",
    "                    '01', '02', '03',\n",
    "                    '04', '05', '06',\n",
    "                    '07', '08', '09',\n",
    "                    '10', '11', '12',\n",
    "                ],\n",
    "                'time': '00:00',\n",
    "            },\n",
    "        target_filename)\n",
    "        end_time = time.time()\n",
    "        print(\"用时{}\".format(end_time-start_time))"
   ]
  },
  {
   "cell_type": "code",
   "execution_count": null,
   "id": "b99ad7d7",
   "metadata": {},
   "outputs": [],
   "source": []
  }
 ],
 "metadata": {
  "kernelspec": {
   "display_name": "Python 3",
   "language": "python",
   "name": "python3"
  },
  "language_info": {
   "codemirror_mode": {
    "name": "ipython",
    "version": 3
   },
   "file_extension": ".py",
   "mimetype": "text/x-python",
   "name": "python",
   "nbconvert_exporter": "python",
   "pygments_lexer": "ipython3",
   "version": "3.8.8"
  },
  "toc": {
   "base_numbering": 1,
   "nav_menu": {},
   "number_sections": true,
   "sideBar": true,
   "skip_h1_title": false,
   "title_cell": "Table of Contents",
   "title_sidebar": "Contents",
   "toc_cell": false,
   "toc_position": {},
   "toc_section_display": true,
   "toc_window_display": true
  },
  "varInspector": {
   "cols": {
    "lenName": 16,
    "lenType": 16,
    "lenVar": 40
   },
   "kernels_config": {
    "python": {
     "delete_cmd_postfix": "",
     "delete_cmd_prefix": "del ",
     "library": "var_list.py",
     "varRefreshCmd": "print(var_dic_list())"
    },
    "r": {
     "delete_cmd_postfix": ") ",
     "delete_cmd_prefix": "rm(",
     "library": "var_list.r",
     "varRefreshCmd": "cat(var_dic_list()) "
    }
   },
   "types_to_exclude": [
    "module",
    "function",
    "builtin_function_or_method",
    "instance",
    "_Feature"
   ],
   "window_display": false
  }
 },
 "nbformat": 4,
 "nbformat_minor": 5
}
