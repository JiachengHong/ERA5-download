{
 "cells": [
  {
   "cell_type": "markdown",
   "id": "d72d99d4",
   "metadata": {
    "ExecuteTime": {
     "end_time": "2022-05-20T08:35:52.195413Z",
     "start_time": "2022-05-20T08:35:52.174583Z"
    }
   },
   "source": [
    "# reanalysis-era5-pressure-levels-monthly-means"
   ]
  },
  {
   "cell_type": "code",
   "execution_count": 4,
   "id": "f7122128",
   "metadata": {
    "ExecuteTime": {
     "end_time": "2022-05-26T16:52:24.093000Z",
     "start_time": "2022-05-26T01:16:21.131000Z"
    },
    "cell_style": "center",
    "scrolled": true
   },
   "outputs": [
    {
     "name": "stderr",
     "output_type": "stream",
     "text": [
      "2022-05-26 09:16:22,609 INFO Welcome to the CDS\n",
      "2022-05-26 09:16:22,611 INFO Sending request to https://cds.climate.copernicus.eu/api/v2/resources/reanalysis-era5-pressure-levels-monthly-means\n",
      "2022-05-26 09:16:22,914 INFO Request is queued\n",
      "2022-05-26 09:16:24,188 INFO Request is running\n",
      "2022-05-26 09:16:57,448 INFO Request is completed\n",
      "2022-05-26 09:16:57,454 INFO Downloading https://download-0002-clone.copernicus-climate.eu/cache-compute-0002/cache/data6/adaptor.mars.internal-1653527783.0725734-17417-11-d384f920-08f2-4bbb-8374-ce9666b5b3c1.grib to e:/era5-monthly/vorticity/vorticity_1979.nc (879.3M)\n",
      "2022-05-26 09:33:12,728 INFO Download rate 923.2K/s                            \n"
     ]
    },
    {
     "name": "stdout",
     "output_type": "stream",
     "text": [
      "用时1013.0210003852844\n"
     ]
    },
    {
     "name": "stderr",
     "output_type": "stream",
     "text": [
      "2022-05-26 09:33:14,411 INFO Welcome to the CDS\n",
      "2022-05-26 09:33:14,411 INFO Sending request to https://cds.climate.copernicus.eu/api/v2/resources/reanalysis-era5-pressure-levels-monthly-means\n",
      "2022-05-26 09:33:14,702 INFO Request is queued\n",
      "2022-05-26 09:33:17,728 INFO Request is running\n",
      "2022-05-26 09:34:05,976 INFO Request is completed\n",
      "2022-05-26 09:34:05,977 INFO Downloading https://download-0010-clone.copernicus-climate.eu/cache-compute-0010/cache/data4/adaptor.mars.internal-1653528799.8136125-3680-12-c9dcaff9-409a-4392-9963-d9ff78a155b2.grib to e:/era5-monthly/vorticity/vorticity_1980.nc (879.3M)\n",
      "2022-05-26 09:41:39,319 INFO Download rate 1.9M/s                              \n"
     ]
    },
    {
     "name": "stdout",
     "output_type": "stream",
     "text": [
      "用时506.529000043869\n"
     ]
    },
    {
     "name": "stderr",
     "output_type": "stream",
     "text": [
      "2022-05-26 09:41:40,897 INFO Welcome to the CDS\n",
      "2022-05-26 09:41:40,899 INFO Sending request to https://cds.climate.copernicus.eu/api/v2/resources/reanalysis-era5-pressure-levels-monthly-means\n",
      "2022-05-26 09:41:41,144 INFO Request is queued\n",
      "2022-05-26 09:41:46,564 INFO Request is running\n",
      "2022-05-26 09:42:32,201 INFO Request is completed\n",
      "2022-05-26 09:42:32,206 INFO Downloading https://download-0007-clone.copernicus-climate.eu/cache-compute-0007/cache/data1/adaptor.mars.internal-1653529308.8749769-9581-14-11878afa-7edd-45fc-b93b-5dc1f1e69b0c.grib to e:/era5-monthly/vorticity/vorticity_1981.nc (879.3M)\n",
      "2022-05-26 09:49:05,507 INFO Download rate 2.2M/s                              \n"
     ]
    },
    {
     "name": "stdout",
     "output_type": "stream",
     "text": [
      "用时446.4190001487732\n"
     ]
    },
    {
     "name": "stderr",
     "output_type": "stream",
     "text": [
      "2022-05-26 09:49:07,351 INFO Welcome to the CDS\n",
      "2022-05-26 09:49:07,355 INFO Sending request to https://cds.climate.copernicus.eu/api/v2/resources/reanalysis-era5-pressure-levels-monthly-means\n",
      "2022-05-26 09:49:07,651 INFO Request is queued\n",
      "2022-05-26 09:49:08,907 INFO Request is running\n",
      "2022-05-26 09:49:58,904 INFO Request is completed\n",
      "2022-05-26 09:49:58,907 INFO Downloading https://download-0009-clone.copernicus-climate.eu/cache-compute-0009/cache/data7/adaptor.mars.internal-1653529750.729749-26140-14-d045e823-fd9c-448b-9794-a38cb4760ec7.grib to e:/era5-monthly/vorticity/vorticity_1982.nc (879.3M)\n",
      "2022-05-26 09:54:12,739 INFO Download rate 3.5M/s                              \n"
     ]
    },
    {
     "name": "stdout",
     "output_type": "stream",
     "text": [
      "用时307.15499997138977\n"
     ]
    },
    {
     "name": "stderr",
     "output_type": "stream",
     "text": [
      "2022-05-26 09:54:14,512 INFO Welcome to the CDS\n",
      "2022-05-26 09:54:14,516 INFO Sending request to https://cds.climate.copernicus.eu/api/v2/resources/reanalysis-era5-pressure-levels-monthly-means\n",
      "2022-05-26 09:54:14,796 INFO Request is queued\n",
      "2022-05-26 09:54:20,752 INFO Request is running\n",
      "2022-05-26 09:55:06,542 INFO Request is completed\n",
      "2022-05-26 09:55:06,548 INFO Downloading https://download-0009-clone.copernicus-climate.eu/cache-compute-0009/cache/data0/adaptor.mars.internal-1653530061.4554524-5890-7-ab7b8c28-070c-4155-9a7f-487f3473f833.grib to e:/era5-monthly/vorticity/vorticity_1983.nc (879.3M)\n",
      "2022-05-26 09:58:38,263 INFO Download rate 4.2M/s                              \n"
     ]
    },
    {
     "name": "stdout",
     "output_type": "stream",
     "text": [
      "用时265.4909996986389\n"
     ]
    },
    {
     "name": "stderr",
     "output_type": "stream",
     "text": [
      "2022-05-26 09:58:39,982 INFO Welcome to the CDS\n",
      "2022-05-26 09:58:39,985 INFO Sending request to https://cds.climate.copernicus.eu/api/v2/resources/reanalysis-era5-pressure-levels-monthly-means\n",
      "2022-05-26 09:58:40,351 INFO Request is queued\n",
      "2022-05-26 09:58:41,583 INFO Request is running\n",
      "2022-05-26 09:59:31,422 INFO Request is completed\n",
      "2022-05-26 09:59:31,423 INFO Downloading https://download-0012-clone.copernicus-climate.eu/cache-compute-0012/cache/data6/adaptor.mars.internal-1653530324.7008343-11706-4-82520020-1c29-446a-b499-aef9cd127bb7.grib to e:/era5-monthly/vorticity/vorticity_1984.nc (879.3M)\n",
      "2022-05-26 10:40:50,536 INFO Download rate 363.2K/s                            \n"
     ]
    },
    {
     "name": "stdout",
     "output_type": "stream",
     "text": [
      "用时2532.305000066757\n"
     ]
    },
    {
     "name": "stderr",
     "output_type": "stream",
     "text": [
      "2022-05-26 10:40:52,289 INFO Welcome to the CDS\n",
      "2022-05-26 10:40:52,292 INFO Sending request to https://cds.climate.copernicus.eu/api/v2/resources/reanalysis-era5-pressure-levels-monthly-means\n",
      "2022-05-26 10:40:52,559 INFO Request is queued\n",
      "2022-05-26 10:40:55,499 INFO Request is running\n",
      "2022-05-26 10:41:43,621 INFO Request is completed\n",
      "2022-05-26 10:41:43,624 INFO Downloading https://download-0013-clone.copernicus-climate.eu/cache-compute-0013/cache/data4/adaptor.mars.internal-1653532858.8466907-31000-12-ea83ef97-712c-4a1b-b12c-4164a1c94a85.grib to e:/era5-monthly/vorticity/vorticity_1985.nc (879.3M)\n",
      "2022-05-26 10:45:27,161 INFO Download rate 3.9M/s                              \n"
     ]
    },
    {
     "name": "stdout",
     "output_type": "stream",
     "text": [
      "用时276.6509997844696\n"
     ]
    },
    {
     "name": "stderr",
     "output_type": "stream",
     "text": [
      "2022-05-26 10:45:28,960 INFO Welcome to the CDS\n",
      "2022-05-26 10:45:28,960 INFO Sending request to https://cds.climate.copernicus.eu/api/v2/resources/reanalysis-era5-pressure-levels-monthly-means\n",
      "2022-05-26 10:45:29,251 INFO Request is queued\n",
      "2022-05-26 10:45:43,641 INFO Request is running\n",
      "2022-05-26 10:46:20,421 INFO Request is completed\n",
      "2022-05-26 10:46:20,422 INFO Downloading https://download-0015-clone.copernicus-climate.eu/cache-compute-0015/cache/data0/adaptor.mars.internal-1653533141.6764917-10066-6-6920d44b-6eec-42bd-b08b-50c4d12cda3a.grib to e:/era5-monthly/vorticity/vorticity_1986.nc (879.3M)\n",
      "2022-05-26 10:55:07,235 INFO Download rate 1.7M/s                              \n"
     ]
    },
    {
     "name": "stdout",
     "output_type": "stream",
     "text": [
      "用时579.9750001430511\n"
     ]
    },
    {
     "name": "stderr",
     "output_type": "stream",
     "text": [
      "2022-05-26 10:55:08,937 INFO Welcome to the CDS\n",
      "2022-05-26 10:55:08,940 INFO Sending request to https://cds.climate.copernicus.eu/api/v2/resources/reanalysis-era5-pressure-levels-monthly-means\n",
      "2022-05-26 10:55:09,244 INFO Request is queued\n",
      "2022-05-26 10:56:00,480 INFO Request is running\n",
      "2022-05-26 10:56:26,363 INFO Request is completed\n",
      "2022-05-26 10:56:26,367 INFO Downloading https://download-0003-clone.copernicus-climate.eu/cache-compute-0003/cache/data6/adaptor.mars.internal-1653533754.4671881-16183-4-e83af53e-14a9-47bf-908f-c18c11d70814.grib to e:/era5-monthly/vorticity/vorticity_1987.nc (879.3M)\n",
      "2022-05-26 10:59:24,569 INFO Download rate 4.9M/s                              \n"
     ]
    },
    {
     "name": "stdout",
     "output_type": "stream",
     "text": [
      "用时257.52699971199036\n"
     ]
    },
    {
     "name": "stderr",
     "output_type": "stream",
     "text": [
      "2022-05-26 10:59:26,479 INFO Welcome to the CDS\n",
      "2022-05-26 10:59:26,480 INFO Sending request to https://cds.climate.copernicus.eu/api/v2/resources/reanalysis-era5-pressure-levels-monthly-means\n",
      "2022-05-26 10:59:26,779 INFO Request is queued\n",
      "2022-05-26 11:00:18,092 INFO Request is running\n",
      "2022-05-26 11:01:22,671 INFO Request is completed\n",
      "2022-05-26 11:01:22,671 INFO Downloading https://download-0012-clone.copernicus-climate.eu/cache-compute-0012/cache/data4/adaptor.mars.internal-1653534013.8045702-9191-12-ab5acd1e-0f4c-4e5b-97a1-372d6d2fba51.grib to e:/era5-monthly/vorticity/vorticity_1988.nc (879.3M)\n",
      "2022-05-26 11:04:02,695 INFO Download rate 5.5M/s                              \n"
     ]
    },
    {
     "name": "stdout",
     "output_type": "stream",
     "text": [
      "用时278.01199984550476\n"
     ]
    },
    {
     "name": "stderr",
     "output_type": "stream",
     "text": [
      "2022-05-26 11:04:04,494 INFO Welcome to the CDS\n",
      "2022-05-26 11:04:04,497 INFO Sending request to https://cds.climate.copernicus.eu/api/v2/resources/reanalysis-era5-pressure-levels-monthly-means\n",
      "2022-05-26 11:04:04,792 INFO Request is queued\n",
      "2022-05-26 11:04:56,113 INFO Request is running\n",
      "2022-05-26 11:05:22,003 INFO Request is completed\n",
      "2022-05-26 11:05:22,003 INFO Downloading https://download-0005-clone.copernicus-climate.eu/cache-compute-0005/cache/data7/adaptor.mars.internal-1653534286.348446-19380-15-2d321b64-a990-4e22-9c40-069f14d6b2e6.grib to e:/era5-monthly/vorticity/vorticity_1989.nc (879.3M)\n",
      "2022-05-26 11:07:42,688 INFO Download rate 6.3M/s                              \n"
     ]
    },
    {
     "name": "stdout",
     "output_type": "stream",
     "text": [
      "用时219.96099996566772\n"
     ]
    },
    {
     "name": "stderr",
     "output_type": "stream",
     "text": [
      "2022-05-26 11:07:44,455 INFO Welcome to the CDS\n",
      "2022-05-26 11:07:44,456 INFO Sending request to https://cds.climate.copernicus.eu/api/v2/resources/reanalysis-era5-pressure-levels-monthly-means\n",
      "2022-05-26 11:07:44,753 INFO Request is queued\n",
      "2022-05-26 11:08:18,721 INFO Request is running\n",
      "2022-05-26 11:09:01,940 INFO Request is completed\n",
      "2022-05-26 11:09:01,942 INFO Downloading https://download-0002-clone.copernicus-climate.eu/cache-compute-0002/cache/data5/adaptor.mars.internal-1653534488.6433172-13205-8-1f889092-11be-4d15-afe0-100eba41b1e9.grib to e:/era5-monthly/vorticity/vorticity_1990.nc (879.3M)\n",
      "2022-05-26 11:12:07,723 INFO Download rate 4.7M/s                              \n"
     ]
    },
    {
     "name": "stdout",
     "output_type": "stream",
     "text": [
      "用时265.1300001144409\n"
     ]
    },
    {
     "name": "stderr",
     "output_type": "stream",
     "text": [
      "2022-05-26 11:12:09,593 INFO Welcome to the CDS\n",
      "2022-05-26 11:12:09,593 INFO Sending request to https://cds.climate.copernicus.eu/api/v2/resources/reanalysis-era5-pressure-levels-monthly-means\n",
      "2022-05-26 11:12:09,900 INFO Request is queued\n",
      "2022-05-26 11:13:27,115 INFO Request is running\n",
      "2022-05-26 11:14:05,815 INFO Request is completed\n",
      "2022-05-26 11:14:05,816 INFO Downloading https://download-0015-clone.copernicus-climate.eu/cache-compute-0015/cache/data2/adaptor.mars.internal-1653534791.5842352-12810-4-3ba2b14c-d277-444d-b31a-1b3524727345.grib to e:/era5-monthly/vorticity/vorticity_1991.nc (879.3M)\n",
      "2022-05-26 11:16:28,745 INFO Download rate 6.2M/s                              \n"
     ]
    },
    {
     "name": "stdout",
     "output_type": "stream",
     "text": [
      "用时260.9130003452301\n"
     ]
    },
    {
     "name": "stderr",
     "output_type": "stream",
     "text": [
      "2022-05-26 11:16:30,486 INFO Welcome to the CDS\n",
      "2022-05-26 11:16:30,487 INFO Sending request to https://cds.climate.copernicus.eu/api/v2/resources/reanalysis-era5-pressure-levels-monthly-means\n",
      "2022-05-26 11:16:30,758 INFO Request is queued\n",
      "2022-05-26 11:17:47,858 INFO Request is running\n",
      "2022-05-26 11:18:26,558 INFO Request is completed\n",
      "2022-05-26 11:18:26,560 INFO Downloading https://download-0009-clone.copernicus-climate.eu/cache-compute-0009/cache/data2/adaptor.mars.internal-1653535052.09586-4505-3-891dc52c-2749-4e32-8924-4da652f39737.grib to e:/era5-monthly/vorticity/vorticity_1992.nc (879.3M)\n",
      "2022-05-26 11:20:57,726 INFO Download rate 5.8M/s                              \n"
     ]
    },
    {
     "name": "stdout",
     "output_type": "stream",
     "text": [
      "用时269.03000020980835\n"
     ]
    },
    {
     "name": "stderr",
     "output_type": "stream",
     "text": [
      "2022-05-26 11:20:59,526 INFO Welcome to the CDS\n",
      "2022-05-26 11:20:59,529 INFO Sending request to https://cds.climate.copernicus.eu/api/v2/resources/reanalysis-era5-pressure-levels-monthly-means\n",
      "2022-05-26 11:20:59,815 INFO Request is queued\n",
      "2022-05-26 11:22:16,896 INFO Request is running\n",
      "2022-05-26 11:22:55,576 INFO Request is completed\n",
      "2022-05-26 11:22:55,578 INFO Downloading https://download-0003-clone.copernicus-climate.eu/cache-compute-0003/cache/data6/adaptor.mars.internal-1653535331.4598796-19697-11-c7fb5a71-49e2-4115-8249-56c25f6170ac.grib to e:/era5-monthly/vorticity/vorticity_1993.nc (879.3M)\n",
      "2022-05-26 11:25:15,542 INFO Download rate 6.3M/s                              \n"
     ]
    },
    {
     "name": "stdout",
     "output_type": "stream",
     "text": [
      "用时257.8239998817444\n"
     ]
    },
    {
     "name": "stderr",
     "output_type": "stream",
     "text": [
      "2022-05-26 11:25:17,367 INFO Welcome to the CDS\n",
      "2022-05-26 11:25:17,368 INFO Sending request to https://cds.climate.copernicus.eu/api/v2/resources/reanalysis-era5-pressure-levels-monthly-means\n",
      "2022-05-26 11:25:17,654 INFO Request is queued\n",
      "2022-05-26 11:25:51,672 INFO Request is running\n",
      "2022-05-26 11:26:34,908 INFO Request is completed\n",
      "2022-05-26 11:26:34,913 INFO Downloading https://download-0015-clone.copernicus-climate.eu/cache-compute-0015/cache/data9/adaptor.mars.internal-1653535548.9963503-21576-7-a92834af-a62f-42a0-900c-a4c6dbce7946.grib to e:/era5-monthly/vorticity/vorticity_1994.nc (879.3M)\n",
      "2022-05-26 11:29:08,296 INFO Download rate 5.7M/s                              \n"
     ]
    },
    {
     "name": "stdout",
     "output_type": "stream",
     "text": [
      "用时232.83899998664856\n"
     ]
    },
    {
     "name": "stderr",
     "output_type": "stream",
     "text": [
      "2022-05-26 11:29:10,209 INFO Welcome to the CDS\n",
      "2022-05-26 11:29:10,210 INFO Sending request to https://cds.climate.copernicus.eu/api/v2/resources/reanalysis-era5-pressure-levels-monthly-means\n",
      "2022-05-26 11:29:10,516 INFO Request is queued\n",
      "2022-05-26 11:29:19,697 INFO Request is running\n",
      "2022-05-26 11:30:01,888 INFO Request is completed\n",
      "2022-05-26 11:30:01,891 INFO Downloading https://download-0007-clone.copernicus-climate.eu/cache-compute-0007/cache/data0/adaptor.mars.internal-1653535762.15397-19204-13-890fcfad-02f5-4e70-b876-cdf7383b6730.grib to e:/era5-monthly/vorticity/vorticity_1995.nc (879.3M)\n",
      "2022-05-26 11:32:28,095 INFO Download rate 6M/s                                \n"
     ]
    },
    {
     "name": "stdout",
     "output_type": "stream",
     "text": [
      "用时199.41699981689453\n"
     ]
    },
    {
     "name": "stderr",
     "output_type": "stream",
     "text": [
      "2022-05-26 11:32:29,616 INFO Welcome to the CDS\n",
      "2022-05-26 11:32:29,621 INFO Sending request to https://cds.climate.copernicus.eu/api/v2/resources/reanalysis-era5-pressure-levels-monthly-means\n",
      "2022-05-26 11:32:29,902 INFO Request is queued\n",
      "2022-05-26 11:33:21,107 INFO Request is running\n",
      "2022-05-26 11:34:25,667 INFO Request is completed\n",
      "2022-05-26 11:34:25,672 INFO Downloading https://download-0012-clone.copernicus-climate.eu/cache-compute-0012/cache/data9/adaptor.mars.internal-1653536002.2593226-18901-15-3d75a757-9b7c-4827-81c3-3d82f9dc6427.grib to e:/era5-monthly/vorticity/vorticity_1996.nc (879.3M)\n",
      "2022-05-26 11:36:46,401 INFO Download rate 6.2M/s                              \n"
     ]
    },
    {
     "name": "stdout",
     "output_type": "stream",
     "text": [
      "用时258.55799984931946\n"
     ]
    },
    {
     "name": "stderr",
     "output_type": "stream",
     "text": [
      "2022-05-26 11:36:48,164 INFO Welcome to the CDS\n",
      "2022-05-26 11:36:48,166 INFO Sending request to https://cds.climate.copernicus.eu/api/v2/resources/reanalysis-era5-pressure-levels-monthly-means\n",
      "2022-05-26 11:36:48,443 INFO Request is queued\n",
      "2022-05-26 11:37:22,291 INFO Request is running\n",
      "2022-05-26 11:38:05,497 INFO Request is completed\n",
      "2022-05-26 11:38:05,499 INFO Downloading https://download-0005-clone.copernicus-climate.eu/cache-compute-0005/cache/data2/adaptor.mars.internal-1653536241.2438326-10388-13-5a7cc7e8-a0e7-4a4a-a246-16653191c32a.grib to e:/era5-monthly/vorticity/vorticity_1997.nc (879.3M)\n",
      "2022-05-26 11:40:54,740 INFO Download rate 5.2M/s                              \n"
     ]
    },
    {
     "name": "stdout",
     "output_type": "stream",
     "text": [
      "用时248.34299993515015\n"
     ]
    },
    {
     "name": "stderr",
     "output_type": "stream",
     "text": [
      "2022-05-26 11:40:56,506 INFO Welcome to the CDS\n",
      "2022-05-26 11:40:56,507 INFO Sending request to https://cds.climate.copernicus.eu/api/v2/resources/reanalysis-era5-pressure-levels-monthly-means\n",
      "2022-05-26 11:40:56,788 INFO Request is queued\n",
      "2022-05-26 11:41:11,182 INFO Request is running\n",
      "2022-05-26 11:41:47,999 INFO Request is completed\n",
      "2022-05-26 11:41:48,003 INFO Downloading https://download-0013-clone.copernicus-climate.eu/cache-compute-0013/cache/data3/adaptor.mars.internal-1653536471.7395093-30656-11-4db64d55-b66f-454a-aa1d-669462e328d6.grib to e:/era5-monthly/vorticity/vorticity_1998.nc (879.3M)\n",
      "2022-05-26 11:48:16,667 INFO Download rate 2.3M/s                              \n"
     ]
    },
    {
     "name": "stdout",
     "output_type": "stream",
     "text": [
      "用时442.0720000267029\n"
     ]
    },
    {
     "name": "stderr",
     "output_type": "stream",
     "text": [
      "2022-05-26 11:48:18,619 INFO Welcome to the CDS\n",
      "2022-05-26 11:48:18,624 INFO Sending request to https://cds.climate.copernicus.eu/api/v2/resources/reanalysis-era5-pressure-levels-monthly-means\n",
      "2022-05-26 11:48:18,960 INFO Request is queued\n",
      "2022-05-26 11:48:22,009 INFO Request is running\n",
      "2022-05-26 11:49:10,391 INFO Request is completed\n",
      "2022-05-26 11:49:10,394 INFO Downloading https://download-0010-clone.copernicus-climate.eu/cache-compute-0010/cache/data3/adaptor.mars.internal-1653536903.7347922-22674-11-3fb1cccc-3974-4b58-9b4c-f3f9b263956d.grib to e:/era5-monthly/vorticity/vorticity_1999.nc (879.3M)\n",
      "2022-05-26 11:51:42,854 INFO Download rate 5.8M/s                              \n"
     ]
    },
    {
     "name": "stdout",
     "output_type": "stream",
     "text": [
      "用时206.1289999485016\n"
     ]
    },
    {
     "name": "stderr",
     "output_type": "stream",
     "text": [
      "2022-05-26 11:51:44,730 INFO Welcome to the CDS\n",
      "2022-05-26 11:51:44,735 INFO Sending request to https://cds.climate.copernicus.eu/api/v2/resources/reanalysis-era5-pressure-levels-monthly-means\n",
      "2022-05-26 11:51:45,039 INFO Request is queued\n",
      "2022-05-26 11:51:48,060 INFO Request is running\n",
      "2022-05-26 11:52:36,355 INFO Request is completed\n",
      "2022-05-26 11:52:36,356 INFO Downloading https://download-0006-clone.copernicus-climate.eu/cache-compute-0006/cache/data5/adaptor.mars.internal-1653537110.9119322-3639-3-6dc04950-8333-4591-b9e4-93c06e0c2f52.grib to e:/era5-monthly/vorticity/vorticity_2000.nc (879.3M)\n",
      "2022-05-26 11:55:18,052 INFO Download rate 5.4M/s                              \n"
     ]
    },
    {
     "name": "stdout",
     "output_type": "stream",
     "text": [
      "用时215.268000125885\n"
     ]
    },
    {
     "name": "stderr",
     "output_type": "stream",
     "text": [
      "2022-05-26 11:55:20,022 INFO Welcome to the CDS\n",
      "2022-05-26 11:55:20,023 INFO Sending request to https://cds.climate.copernicus.eu/api/v2/resources/reanalysis-era5-pressure-levels-monthly-means\n",
      "2022-05-26 11:55:20,340 INFO Request is queued\n",
      "2022-05-26 11:55:21,611 INFO Request is running\n",
      "2022-05-26 11:56:11,761 INFO Request is completed\n",
      "2022-05-26 11:56:11,766 INFO Downloading https://download-0009-clone.copernicus-climate.eu/cache-compute-0009/cache/data0/adaptor.mars.internal-1653537324.3250747-12223-18-d38446bf-c424-4b81-8cb4-e8edbaed4cb8.grib to e:/era5-monthly/vorticity/vorticity_2001.nc (879.3M)\n",
      "2022-05-26 11:59:18,260 INFO Download rate 4.7M/s                              \n"
     ]
    },
    {
     "name": "stdout",
     "output_type": "stream",
     "text": [
      "用时240.04699993133545\n"
     ]
    },
    {
     "name": "stderr",
     "output_type": "stream",
     "text": [
      "2022-05-26 11:59:20,105 INFO Welcome to the CDS\n",
      "2022-05-26 11:59:20,107 INFO Sending request to https://cds.climate.copernicus.eu/api/v2/resources/reanalysis-era5-pressure-levels-monthly-means\n",
      "2022-05-26 11:59:20,401 INFO Request is queued\n",
      "2022-05-26 11:59:21,641 INFO Request is running\n",
      "2022-05-26 12:00:11,540 INFO Request is completed\n",
      "2022-05-26 12:00:11,542 INFO Downloading https://download-0003-clone.copernicus-climate.eu/cache-compute-0003/cache/data9/adaptor.mars.internal-1653537563.221652-31918-16-8175ede3-16ba-46ee-9664-04d032206436.grib to e:/era5-monthly/vorticity/vorticity_2002.nc (879.3M)\n",
      "2022-05-26 12:02:48,100 INFO Download rate 5.6M/s                              \n"
     ]
    },
    {
     "name": "stdout",
     "output_type": "stream",
     "text": [
      "用时209.72300004959106\n"
     ]
    },
    {
     "name": "stderr",
     "output_type": "stream",
     "text": [
      "2022-05-26 12:02:49,753 INFO Welcome to the CDS\n",
      "2022-05-26 12:02:49,753 INFO Sending request to https://cds.climate.copernicus.eu/api/v2/resources/reanalysis-era5-pressure-levels-monthly-means\n",
      "2022-05-26 12:02:50,020 INFO Request is queued\n",
      "2022-05-26 12:02:52,991 INFO Request is running\n",
      "2022-05-26 12:03:41,200 INFO Request is completed\n",
      "2022-05-26 12:03:41,201 INFO Downloading https://download-0007-clone.copernicus-climate.eu/cache-compute-0007/cache/data1/adaptor.mars.internal-1653537775.9162076-31911-17-4b37d141-b9f1-42bc-8066-c66c4c0c9ab8.grib to e:/era5-monthly/vorticity/vorticity_2003.nc (879.3M)\n",
      "2022-05-26 12:18:13,895 INFO Download rate 1M/s                                \n"
     ]
    },
    {
     "name": "stdout",
     "output_type": "stream",
     "text": [
      "用时926.0120000839233\n"
     ]
    },
    {
     "name": "stderr",
     "output_type": "stream",
     "text": [
      "2022-05-26 12:18:15,803 INFO Welcome to the CDS\n",
      "2022-05-26 12:18:15,803 INFO Sending request to https://cds.climate.copernicus.eu/api/v2/resources/reanalysis-era5-pressure-levels-monthly-means\n",
      "2022-05-26 12:18:16,115 INFO Request is queued\n",
      "2022-05-26 12:18:19,210 INFO Request is running\n",
      "2022-05-26 12:19:07,695 INFO Request is completed\n",
      "2022-05-26 12:19:07,700 INFO Downloading https://download-0012-clone.copernicus-climate.eu/cache-compute-0012/cache/data5/adaptor.mars.internal-1653538701.027142-20530-18-4039136c-7a35-48a0-9537-d9c2aa52379a.grib to e:/era5-monthly/vorticity/vorticity_2004.nc (879.3M)\n",
      "2022-05-26 12:22:03,225 INFO Download rate 5M/s                                \n"
     ]
    },
    {
     "name": "stdout",
     "output_type": "stream",
     "text": [
      "用时229.30600023269653\n"
     ]
    },
    {
     "name": "stderr",
     "output_type": "stream",
     "text": [
      "2022-05-26 12:22:05,094 INFO Welcome to the CDS\n",
      "2022-05-26 12:22:05,095 INFO Sending request to https://cds.climate.copernicus.eu/api/v2/resources/reanalysis-era5-pressure-levels-monthly-means\n",
      "2022-05-26 12:22:05,406 INFO Request is queued\n",
      "2022-05-26 12:22:19,945 INFO Request is running\n",
      "2022-05-26 12:23:22,819 INFO Request is completed\n",
      "2022-05-26 12:23:22,825 INFO Downloading https://download-0006-clone.copernicus-climate.eu/cache-compute-0006/cache/data8/adaptor.mars.internal-1653538938.2034988-10623-18-2411f8cc-2018-46a3-b589-89bd6dad0914.grib to e:/era5-monthly/vorticity/vorticity_2005.nc (879.3M)\n",
      "2022-05-26 13:05:32,595 ERROR Download interupted: HTTPSConnectionPool(host='download-0006-clone.copernicus-climate.eu', port=443): Read timed out.\n",
      "2022-05-26 13:05:32,595 ERROR Download incomplete, downloaded 240638976 byte(s) out of 922010400\n",
      "2022-05-26 13:05:32,598 WARNING Sleeping 10 seconds\n",
      "2022-05-26 13:05:42,607 WARNING Resuming download at byte 240638976\n",
      "2022-05-26 13:57:29,150 INFO Download rate 159.5K/s                            \n"
     ]
    },
    {
     "name": "stdout",
     "output_type": "stream",
     "text": [
      "用时5726.056999921799\n"
     ]
    },
    {
     "name": "stderr",
     "output_type": "stream",
     "text": [
      "2022-05-26 13:57:31,191 INFO Welcome to the CDS\n",
      "2022-05-26 13:57:31,196 INFO Sending request to https://cds.climate.copernicus.eu/api/v2/resources/reanalysis-era5-pressure-levels-monthly-means\n",
      "2022-05-26 13:57:31,532 INFO Request is queued\n",
      "2022-05-26 13:57:32,804 INFO Request is running\n",
      "2022-05-26 13:58:23,073 INFO Request is completed\n",
      "2022-05-26 13:58:23,075 INFO Downloading https://download-0013-clone.copernicus-climate.eu/cache-compute-0013/cache/data6/adaptor.mars.internal-1653544656.626996-28474-15-88f47372-27a1-438d-91a4-5ce71fd1842f.grib to e:/era5-monthly/vorticity/vorticity_2006.nc (879.3M)\n",
      "2022-05-26 14:15:05,427 INFO Download rate 898.3K/s                            \n"
     ]
    },
    {
     "name": "stdout",
     "output_type": "stream",
     "text": [
      "用时1056.0890002250671\n"
     ]
    },
    {
     "name": "stderr",
     "output_type": "stream",
     "text": [
      "2022-05-26 14:15:07,224 INFO Welcome to the CDS\n",
      "2022-05-26 14:15:07,226 INFO Sending request to https://cds.climate.copernicus.eu/api/v2/resources/reanalysis-era5-pressure-levels-monthly-means\n",
      "2022-05-26 14:15:07,563 INFO Request is queued\n",
      "2022-05-26 14:15:08,804 INFO Request is running\n",
      "2022-05-26 14:15:58,750 INFO Request is completed\n",
      "2022-05-26 14:15:58,752 INFO Downloading https://download-0010-clone.copernicus-climate.eu/cache-compute-0010/cache/data1/adaptor.mars.internal-1653545711.8694441-12300-6-1e333ff1-4613-4e18-829d-4269281bc0c5.grib to e:/era5-monthly/vorticity/vorticity_2007.nc (879.3M)\n",
      "2022-05-26 14:22:17,662 INFO Download rate 2.3M/s                              \n"
     ]
    },
    {
     "name": "stdout",
     "output_type": "stream",
     "text": [
      "用时432.31599974632263\n"
     ]
    },
    {
     "name": "stderr",
     "output_type": "stream",
     "text": [
      "2022-05-26 14:22:19,576 INFO Welcome to the CDS\n",
      "2022-05-26 14:22:19,580 INFO Sending request to https://cds.climate.copernicus.eu/api/v2/resources/reanalysis-era5-pressure-levels-monthly-means\n",
      "2022-05-26 14:22:19,966 INFO Request is queued\n",
      "2022-05-26 14:22:21,266 INFO Request is running\n",
      "2022-05-26 14:22:54,190 INFO Request is completed\n",
      "2022-05-26 14:22:54,192 INFO Downloading https://download-0011-clone.copernicus-climate.eu/cache-compute-0011/cache/data3/adaptor.mars.internal-1653546143.7728035-23608-15-ee01005e-3f21-4a37-b79f-61f4bfc437d7.grib to e:/era5-monthly/vorticity/vorticity_2008.nc (879.3M)\n",
      "2022-05-26 15:17:45,308 INFO Download rate 273.6K/s                            \n"
     ]
    },
    {
     "name": "stdout",
     "output_type": "stream",
     "text": [
      "用时3327.358999967575\n"
     ]
    },
    {
     "name": "stderr",
     "output_type": "stream",
     "text": [
      "2022-05-26 15:17:46,924 INFO Welcome to the CDS\n",
      "2022-05-26 15:17:46,926 INFO Sending request to https://cds.climate.copernicus.eu/api/v2/resources/reanalysis-era5-pressure-levels-monthly-means\n",
      "2022-05-26 15:17:47,233 INFO Request is queued\n",
      "2022-05-26 15:17:52,766 INFO Request is running\n",
      "2022-05-26 15:18:38,606 INFO Request is completed\n",
      "2022-05-26 15:18:38,607 INFO Downloading https://download-0000-clone.copernicus-climate.eu/cache-compute-0000/cache/data2/adaptor.mars.internal-1653549475.9156103-29697-9-9db1b459-1162-4933-89a1-ffe317d64fa3.grib to e:/era5-monthly/vorticity/vorticity_2009.nc (879.3M)\n",
      "2022-05-26 15:22:03,623 INFO Download rate 4.3M/s                              \n"
     ]
    },
    {
     "name": "stdout",
     "output_type": "stream",
     "text": [
      "用时258.4889998435974\n"
     ]
    },
    {
     "name": "stderr",
     "output_type": "stream",
     "text": [
      "2022-05-26 15:22:05,385 INFO Welcome to the CDS\n",
      "2022-05-26 15:22:05,387 INFO Sending request to https://cds.climate.copernicus.eu/api/v2/resources/reanalysis-era5-pressure-levels-monthly-means\n",
      "2022-05-26 15:22:05,665 INFO Request is queued\n",
      "2022-05-26 15:22:39,495 INFO Request is running\n",
      "2022-05-26 15:23:22,677 INFO Request is completed\n",
      "2022-05-26 15:23:22,681 INFO Downloading https://download-0001-clone.copernicus-climate.eu/cache-compute-0001/cache/data3/adaptor.mars.internal-1653549753.2131183-21327-19-1753e492-aaf4-4668-92bd-38f077c080ce.grib to e:/era5-monthly/vorticity/vorticity_2010.nc (879.3M)\n",
      "2022-05-26 15:26:30,966 INFO Download rate 4.7M/s                              \n"
     ]
    },
    {
     "name": "stdout",
     "output_type": "stream",
     "text": [
      "用时267.4309997558594\n"
     ]
    },
    {
     "name": "stderr",
     "output_type": "stream",
     "text": [
      "2022-05-26 15:26:32,867 INFO Welcome to the CDS\n",
      "2022-05-26 15:26:32,870 INFO Sending request to https://cds.climate.copernicus.eu/api/v2/resources/reanalysis-era5-pressure-levels-monthly-means\n",
      "2022-05-26 15:26:33,208 INFO Request is queued\n",
      "2022-05-26 15:26:55,767 INFO Request is running\n",
      "2022-05-26 15:27:24,848 INFO Request is completed\n",
      "2022-05-26 15:27:24,851 INFO Downloading https://download-0010-clone.copernicus-climate.eu/cache-compute-0010/cache/data3/adaptor.mars.internal-1653550012.281645-3671-11-623da3ef-5175-41b5-aed3-9f81555d1dd9.grib to e:/era5-monthly/vorticity/vorticity_2011.nc (879.3M)\n",
      "2022-05-26 15:35:14,338 INFO Download rate 1.9M/s                              \n"
     ]
    },
    {
     "name": "stdout",
     "output_type": "stream",
     "text": [
      "用时523.4700000286102\n"
     ]
    },
    {
     "name": "stderr",
     "output_type": "stream",
     "text": [
      "2022-05-26 15:35:16,348 INFO Welcome to the CDS\n",
      "2022-05-26 15:35:16,351 INFO Sending request to https://cds.climate.copernicus.eu/api/v2/resources/reanalysis-era5-pressure-levels-monthly-means\n",
      "2022-05-26 15:35:16,689 INFO Request is queued\n",
      "2022-05-26 15:39:38,582 INFO Request is completed\n",
      "2022-05-26 15:39:38,583 INFO Downloading https://download-0005-clone.copernicus-climate.eu/cache-compute-0005/cache/data2/adaptor.mars.internal-1653550703.18193-32621-10-e3f17359-f999-4f95-8678-5c98ae131b95.grib to e:/era5-monthly/vorticity/vorticity_2012.nc (879.3M)\n",
      "2022-05-26 15:40:00,715 WARNING Recovering from connection error [HTTPSConnectionPool(host='download-0005-clone.copernicus-climate.eu', port=443): Max retries exceeded with url: /cache-compute-0005/cache/data2/adaptor.mars.internal-1653550703.18193-32621-10-e3f17359-f999-4f95-8678-5c98ae131b95.grib (Caused by NewConnectionError('<urllib3.connection.HTTPSConnection object at 0x0000000005B14AF0>: Failed to establish a new connection: [WinError 10060] 由于连接方在一段时间后没有正确答复或连接的主机没有反应，连接尝试失败。'))], attemps 0 of 500\n",
      "2022-05-26 15:40:00,719 WARNING Retrying in 120 seconds\n",
      "2022-05-26 15:42:00,721 INFO Retrying now...\n",
      "2022-05-26 16:50:59,750 INFO Download rate 210.3K/s                            \n"
     ]
    },
    {
     "name": "stdout",
     "output_type": "stream",
     "text": [
      "用时4543.680000066757\n"
     ]
    },
    {
     "name": "stderr",
     "output_type": "stream",
     "text": [
      "2022-05-26 16:51:01,243 INFO Welcome to the CDS\n",
      "2022-05-26 16:51:01,246 INFO Sending request to https://cds.climate.copernicus.eu/api/v2/resources/reanalysis-era5-pressure-levels-monthly-means\n",
      "2022-05-26 16:51:01,519 INFO Request is queued\n",
      "2022-05-26 17:01:26,854 INFO Request is completed\n",
      "2022-05-26 17:01:26,856 INFO Downloading https://download-0001-clone.copernicus-climate.eu/cache-compute-0001/cache/data2/adaptor.mars.internal-1653555590.4325063-6214-8-8110f924-96df-4e3c-986d-16eae96c36ae.grib to e:/era5-monthly/vorticity/vorticity_2013.nc (879.3M)\n",
      "2022-05-26 17:04:12,644 INFO Download rate 5.3M/s                              \n"
     ]
    },
    {
     "name": "stdout",
     "output_type": "stream",
     "text": [
      "用时794.309999704361\n"
     ]
    },
    {
     "name": "stderr",
     "output_type": "stream",
     "text": [
      "2022-05-26 17:04:14,325 INFO Welcome to the CDS\n",
      "2022-05-26 17:04:14,328 INFO Sending request to https://cds.climate.copernicus.eu/api/v2/resources/reanalysis-era5-pressure-levels-monthly-means\n",
      "2022-05-26 17:04:14,625 INFO Request is queued\n",
      "2022-05-26 17:12:39,329 INFO Request is running\n",
      "2022-05-26 17:14:40,950 INFO Request is completed\n",
      "2022-05-26 17:14:40,952 INFO Downloading https://download-0008-clone.copernicus-climate.eu/cache-compute-0008/cache/data7/adaptor.mars.internal-1653556350.1467195-9573-17-fe8c715e-0578-41de-8080-7defd1650297.grib to e:/era5-monthly/vorticity/vorticity_2014.nc (879.3M)\n",
      "2022-05-26 17:17:02,720 INFO Download rate 6.2M/s                              \n"
     ]
    },
    {
     "name": "stdout",
     "output_type": "stream",
     "text": [
      "用时770.231999874115\n"
     ]
    },
    {
     "name": "stderr",
     "output_type": "stream",
     "text": [
      "2022-05-26 17:17:04,547 INFO Welcome to the CDS\n",
      "2022-05-26 17:17:04,551 INFO Sending request to https://cds.climate.copernicus.eu/api/v2/resources/reanalysis-era5-pressure-levels-monthly-means\n",
      "2022-05-26 17:17:04,840 INFO Request is queued\n",
      "2022-05-26 17:27:30,721 INFO Request is completed\n",
      "2022-05-26 17:27:30,723 INFO Downloading https://download-0015-clone.copernicus-climate.eu/cache-compute-0015/cache/data9/adaptor.mars.internal-1653557207.1886957-8095-10-29520b01-0af5-49b7-b419-b166d62db9d3.grib to e:/era5-monthly/vorticity/vorticity_2015.nc (879.3M)\n",
      "2022-05-26 17:29:56,006 INFO Download rate 6.1M/s                              \n"
     ]
    },
    {
     "name": "stdout",
     "output_type": "stream",
     "text": [
      "用时773.2269999980927\n"
     ]
    },
    {
     "name": "stderr",
     "output_type": "stream",
     "text": [
      "2022-05-26 17:29:57,763 INFO Welcome to the CDS\n",
      "2022-05-26 17:29:57,764 INFO Sending request to https://cds.climate.copernicus.eu/api/v2/resources/reanalysis-era5-pressure-levels-monthly-means\n",
      "2022-05-26 17:29:58,035 INFO Request is queued\n",
      "2022-05-26 17:40:26,536 INFO Request is completed\n",
      "2022-05-26 17:40:26,537 INFO Downloading https://download-0005-clone.copernicus-climate.eu/cache-compute-0005/cache/data5/adaptor.mars.internal-1653557943.7835815-16148-3-c43593f4-669b-4bc1-9eef-388f20db3c6c.grib to e:/era5-monthly/vorticity/vorticity_2016.nc (879.3M)\n",
      "2022-05-26 18:01:40,899 INFO Download rate 706.6K/s                            \n"
     ]
    },
    {
     "name": "stdout",
     "output_type": "stream",
     "text": [
      "用时1904.6719999313354\n"
     ]
    },
    {
     "name": "stderr",
     "output_type": "stream",
     "text": [
      "2022-05-26 18:01:42,444 INFO Welcome to the CDS\n",
      "2022-05-26 18:01:42,444 INFO Sending request to https://cds.climate.copernicus.eu/api/v2/resources/reanalysis-era5-pressure-levels-monthly-means\n",
      "2022-05-26 18:01:42,723 INFO Request is queued\n",
      "2022-05-26 18:12:10,256 INFO Request is completed\n",
      "2022-05-26 18:12:10,260 INFO Downloading https://download-0008-clone.copernicus-climate.eu/cache-compute-0008/cache/data8/adaptor.mars.internal-1653559869.5133348-6094-6-b34bdc19-a31f-4bfc-bbef-c1c0ea84c6ba.grib to e:/era5-monthly/vorticity/vorticity_2017.nc (879.3M)\n",
      "2022-05-26 18:35:48,203 INFO Download rate 635K/s                              \n"
     ]
    },
    {
     "name": "stdout",
     "output_type": "stream",
     "text": [
      "用时2047.5809998512268\n"
     ]
    },
    {
     "name": "stderr",
     "output_type": "stream",
     "text": [
      "2022-05-26 18:35:50,075 INFO Welcome to the CDS\n",
      "2022-05-26 18:35:50,076 INFO Sending request to https://cds.climate.copernicus.eu/api/v2/resources/reanalysis-era5-pressure-levels-monthly-means\n",
      "2022-05-26 18:35:50,401 INFO Request is queued\n",
      "2022-05-26 18:48:18,223 INFO Request is running\n",
      "2022-05-26 18:50:19,623 INFO Request is completed\n",
      "2022-05-26 18:50:19,624 INFO Downloading https://download-0004-clone.copernicus-climate.eu/cache-compute-0004/cache/data4/adaptor.mars.internal-1653562071.586773-9472-4-8d9f264a-3723-4b01-afa7-0d7e58bbe8a5.grib to e:/era5-monthly/vorticity/vorticity_2018.nc (879.3M)\n",
      "2022-05-26 19:12:35,107 ERROR Download interupted: HTTPSConnectionPool(host='download-0004-clone.copernicus-climate.eu', port=443): Read timed out.\n",
      "2022-05-26 19:12:35,108 ERROR Download incomplete, downloaded 84319232 byte(s) out of 922010400\n",
      "2022-05-26 19:12:35,112 WARNING Sleeping 10 seconds\n",
      "2022-05-26 19:12:45,124 WARNING Resuming download at byte 84319232\n",
      "2022-05-27 00:33:55,832 INFO Download rate 43.7K/s                             \n"
     ]
    },
    {
     "name": "stdout",
     "output_type": "stream",
     "text": [
      "用时21487.574999809265\n"
     ]
    },
    {
     "name": "stderr",
     "output_type": "stream",
     "text": [
      "2022-05-27 00:33:57,615 INFO Welcome to the CDS\n",
      "2022-05-27 00:33:57,615 INFO Sending request to https://cds.climate.copernicus.eu/api/v2/resources/reanalysis-era5-pressure-levels-monthly-means\n",
      "2022-05-27 00:33:57,912 INFO Request is queued\n",
      "2022-05-27 00:35:53,993 INFO Request is running\n",
      "2022-05-27 00:36:51,928 INFO Request is completed\n",
      "2022-05-27 00:36:51,934 INFO Downloading https://download-0013-clone.copernicus-climate.eu/cache-compute-0013/cache/data7/adaptor.mars.internal-1653582939.629509-24519-7-4be3ee5e-ce95-4cb5-8ad8-d71fff6b98fe.grib to e:/era5-monthly/vorticity/vorticity_2019.nc (879.3M)\n",
      "2022-05-27 00:40:32,016 INFO Download rate 4M/s                                \n"
     ]
    },
    {
     "name": "stdout",
     "output_type": "stream",
     "text": [
      "用时396.0639998912811\n"
     ]
    },
    {
     "name": "stderr",
     "output_type": "stream",
     "text": [
      "2022-05-27 00:40:33,697 INFO Welcome to the CDS\n",
      "2022-05-27 00:40:33,700 INFO Sending request to https://cds.climate.copernicus.eu/api/v2/resources/reanalysis-era5-pressure-levels-monthly-means\n",
      "2022-05-27 00:40:34,015 INFO Request is queued\n",
      "2022-05-27 00:42:30,091 INFO Request is running\n",
      "2022-05-27 00:43:28,025 INFO Request is completed\n",
      "2022-05-27 00:43:28,031 INFO Downloading https://download-0013-clone.copernicus-climate.eu/cache-compute-0013/cache/data9/adaptor.mars.internal-1653583337.0634208-23857-17-efcf65c7-272a-4097-8e7c-1af6a19d60cc.grib to e:/era5-monthly/vorticity/vorticity_2020.nc (879.3M)\n",
      "2022-05-27 00:45:24,125 INFO Download rate 7.6M/s                              \n"
     ]
    },
    {
     "name": "stdout",
     "output_type": "stream",
     "text": [
      "用时291.90000009536743\n"
     ]
    },
    {
     "name": "stderr",
     "output_type": "stream",
     "text": [
      "2022-05-27 00:45:25,564 INFO Welcome to the CDS\n",
      "2022-05-27 00:45:25,566 INFO Sending request to https://cds.climate.copernicus.eu/api/v2/resources/reanalysis-era5-pressure-levels-monthly-means\n",
      "2022-05-27 00:45:25,839 INFO Request is queued\n",
      "2022-05-27 00:46:16,979 INFO Request is running\n",
      "2022-05-27 00:46:42,825 INFO Request is completed\n",
      "2022-05-27 00:46:42,828 INFO Downloading https://download-0005-clone.copernicus-climate.eu/cache-compute-0005/cache/data5/adaptor.mars.internal-1653583572.396906-21905-15-eb5a5d90-9160-4926-8d6d-5c1fb8f3fa33.grib to e:/era5-monthly/vorticity/vorticity_2021.nc (879.3M)\n",
      "2022-05-27 00:52:22,599 INFO Download rate 2.6M/s                              \n"
     ]
    },
    {
     "name": "stdout",
     "output_type": "stream",
     "text": [
      "用时418.757000207901\n"
     ]
    }
   ],
   "source": [
    "import cdsapi\n",
    "import os\n",
    "import time\n",
    "\n",
    "c = cdsapi.Client()\n",
    "years = ('1979','1980', '1981', '1982',\n",
    "            '1983', '1984', '1985',\n",
    "            '1986', '1987', '1988',\n",
    "            '1989', '1990', '1991',\n",
    "            '1992', '1993', '1994',\n",
    "            '1995', '1996', '1997',\n",
    "            '1998', '1999', '2000',\n",
    "            '2001', '2002', '2003',\n",
    "            '2004', '2005', '2006',\n",
    "            '2007', '2008', '2009',\n",
    "            '2010', '2011', '2012',\n",
    "            '2013', '2014', '2015',\n",
    "            '2016', '2017', '2018',\n",
    "            '2019', '2020','2021')\n",
    "\n",
    "varias='vorticity'\n",
    "for Y in years:\n",
    "    target_filename = \"e:/era5-monthly/\"+ varias +  \"/\" + varias + \"_\" + Y  + \".nc\"\n",
    "    if not os.path.isfile(target_filename):\n",
    "        start_time = time.time()\n",
    "        c.retrieve(\n",
    "        'reanalysis-era5-pressure-levels-monthly-means',\n",
    "        {\n",
    "            'variable': varias,\n",
    "          #  'grid':[0.5, 0.5],\n",
    "          #'area':[12, 72, 42, 128],\n",
    "            'year': Y,\n",
    "              'month': [\n",
    "                    '01', '02', '03',\n",
    "                    '04', '05', '06',\n",
    "                    '07', '08', '09',\n",
    "                    '10', '11', '12',\n",
    "                ],\n",
    "                'time': '00:00',\n",
    "                'variable': varias,\n",
    "                'pressure_level': [\n",
    "                    '1', '2', '3',\n",
    "                    '5', '7', '10',\n",
    "                    '20', '30', '50',\n",
    "                    '70', '100', '125',\n",
    "                    '150', '175', '200',\n",
    "                    '225', '250', '300',\n",
    "                    '350', '400', '450',\n",
    "                    '500', '550', '600',\n",
    "                    '650', '700', '750',\n",
    "                    '775', '800', '825',\n",
    "                    '850', '875', '900',\n",
    "                    '925', '950', '975',\n",
    "                    '1000',\n",
    "                ],\n",
    "                'product_type': 'monthly_averaged_reanalysis',\n",
    "           \" format\":\"netcdf\",\n",
    "            },\n",
    "        target_filename)\n",
    "        end_time = time.time()\n",
    "        print(\"用时{}\".format(end_time-start_time))"
   ]
  },
  {
   "cell_type": "raw",
   "id": "43eb11d8",
   "metadata": {},
   "source": []
  },
  {
   "cell_type": "markdown",
   "id": "9ecfc3fa",
   "metadata": {},
   "source": [
    "# reanalysis-era5-single-levels-monthly-means"
   ]
  },
  {
   "cell_type": "code",
   "execution_count": 3,
   "id": "538b5fbb",
   "metadata": {
    "ExecuteTime": {
     "end_time": "2022-05-24T04:03:46.368000Z",
     "start_time": "2022-05-24T02:16:00.211000Z"
    }
   },
   "outputs": [
    {
     "name": "stderr",
     "output_type": "stream",
     "text": [
      "2022-05-24 10:16:01,686 INFO Welcome to the CDS\n",
      "2022-05-24 10:16:01,689 INFO Sending request to https://cds.climate.copernicus.eu/api/v2/resources/reanalysis-era5-single-levels-monthly-means\n",
      "2022-05-24 10:16:01,987 INFO Request is queued\n",
      "2022-05-24 10:16:24,244 INFO Request is running\n",
      "2022-05-24 10:16:35,875 INFO Request is completed\n",
      "2022-05-24 10:16:35,875 INFO Downloading https://download-0006-clone.copernicus-climate.eu/cache-compute-0006/cache/data6/adaptor.mars.internal-1653358590.003214-27568-2-cdeeb307-5441-4a03-b8c4-54a8e92157ed.nc to e:/era5-monthly/Sea surface temperature/Sea surface temperature_1979.nc (23.8M)\n",
      "2022-05-24 10:17:33,266 INFO Download rate 424.2K/s                            \n"
     ]
    },
    {
     "name": "stdout",
     "output_type": "stream",
     "text": [
      "用时93.2960000038147\n"
     ]
    },
    {
     "name": "stderr",
     "output_type": "stream",
     "text": [
      "2022-05-24 10:17:33,756 INFO Welcome to the CDS\n",
      "2022-05-24 10:17:33,756 INFO Sending request to https://cds.climate.copernicus.eu/api/v2/resources/reanalysis-era5-single-levels-monthly-means\n",
      "2022-05-24 10:17:34,047 INFO Request is queued\n",
      "2022-05-24 10:17:48,464 INFO Request is running\n",
      "2022-05-24 10:17:56,305 INFO Request is completed\n",
      "2022-05-24 10:17:56,307 INFO Downloading https://download-0015-clone.copernicus-climate.eu/cache-compute-0015/cache/data7/adaptor.mars.internal-1653358676.092417-8019-12-259ccbdf-1b85-4c6f-b6d4-489dc5aad8a4.nc to e:/era5-monthly/Sea surface temperature/Sea surface temperature_1980.nc (23.8M)\n",
      "2022-05-24 10:18:18,255 INFO Download rate 1.1M/s                              \n"
     ]
    },
    {
     "name": "stdout",
     "output_type": "stream",
     "text": [
      "用时44.99899983406067\n"
     ]
    },
    {
     "name": "stderr",
     "output_type": "stream",
     "text": [
      "2022-05-24 10:18:18,756 INFO Welcome to the CDS\n",
      "2022-05-24 10:18:18,758 INFO Sending request to https://cds.climate.copernicus.eu/api/v2/resources/reanalysis-era5-single-levels-monthly-means\n",
      "2022-05-24 10:18:19,046 INFO Request is queued\n",
      "2022-05-24 10:18:33,476 INFO Request is running\n",
      "2022-05-24 10:18:52,956 INFO Request is completed\n",
      "2022-05-24 10:18:52,957 INFO Downloading https://download-0014-clone.copernicus-climate.eu/cache-compute-0014/cache/data0/adaptor.mars.internal-1653358723.4228-31861-2-5495be2d-cedc-4995-a7df-54af5ebbab9f.nc to e:/era5-monthly/Sea surface temperature/Sea surface temperature_1981.nc (23.8M)\n",
      "2022-05-24 10:19:04,430 INFO Download rate 2.1M/s                              \n"
     ]
    },
    {
     "name": "stdout",
     "output_type": "stream",
     "text": [
      "用时46.16599988937378\n"
     ]
    },
    {
     "name": "stderr",
     "output_type": "stream",
     "text": [
      "2022-05-24 10:19:04,924 INFO Welcome to the CDS\n",
      "2022-05-24 10:19:04,926 INFO Sending request to https://cds.climate.copernicus.eu/api/v2/resources/reanalysis-era5-single-levels-monthly-means\n",
      "2022-05-24 10:19:05,216 INFO Request is queued\n",
      "2022-05-24 10:25:28,127 INFO Request is completed\n",
      "2022-05-24 10:25:28,128 INFO Downloading https://download-0011-clone.copernicus-climate.eu/cache-compute-0011/cache/data8/adaptor.mars.internal-1653359066.3252225-30332-15-380418b1-f2b0-4f97-9bae-57b9150300a1.nc to e:/era5-monthly/Sea surface temperature/Sea surface temperature_1982.nc (23.8M)\n",
      "2022-05-24 10:27:28,073 INFO Download rate 203K/s                              \n"
     ]
    },
    {
     "name": "stdout",
     "output_type": "stream",
     "text": [
      "用时505.1399998664856\n"
     ]
    },
    {
     "name": "stderr",
     "output_type": "stream",
     "text": [
      "2022-05-24 10:27:30,097 INFO Welcome to the CDS\n",
      "2022-05-24 10:27:30,100 INFO Sending request to https://cds.climate.copernicus.eu/api/v2/resources/reanalysis-era5-single-levels-monthly-means\n",
      "2022-05-24 10:27:30,476 INFO Request is queued\n",
      "2022-05-24 10:27:39,830 INFO Request is running\n",
      "2022-05-24 10:27:53,056 INFO Request is completed\n",
      "2022-05-24 10:27:53,057 INFO Downloading https://download-0002-clone.copernicus-climate.eu/cache-compute-0002/cache/data6/adaptor.mars.internal-1653359270.0652769-32325-8-22ed9a08-97e9-4722-9266-a167e1a8182c.nc to e:/era5-monthly/Sea surface temperature/Sea surface temperature_1983.nc (23.8M)\n",
      "2022-05-24 10:37:51,408 INFO Download rate 40.7K/s                             \n"
     ]
    },
    {
     "name": "stdout",
     "output_type": "stream",
     "text": [
      "用时623.1319999694824\n"
     ]
    },
    {
     "name": "stderr",
     "output_type": "stream",
     "text": [
      "2022-05-24 10:37:53,239 INFO Welcome to the CDS\n",
      "2022-05-24 10:37:53,243 INFO Sending request to https://cds.climate.copernicus.eu/api/v2/resources/reanalysis-era5-single-levels-monthly-means\n",
      "2022-05-24 10:37:53,598 INFO Request is queued\n",
      "2022-05-24 10:38:08,246 INFO Request is running\n",
      "2022-05-24 10:38:16,588 INFO Request is completed\n",
      "2022-05-24 10:38:16,592 INFO Downloading https://download-0006-clone.copernicus-climate.eu/cache-compute-0006/cache/data7/adaptor.mars.internal-1653359890.6406271-28921-12-2c1d9227-3b93-4e43-997b-f45c0f6287e8.nc to e:/era5-monthly/Sea surface temperature/Sea surface temperature_1984.nc (23.8M)\n",
      "2022-05-24 10:39:26,995 INFO Download rate 345.8K/s                            \n"
     ]
    },
    {
     "name": "stdout",
     "output_type": "stream",
     "text": [
      "用时95.65399980545044\n"
     ]
    },
    {
     "name": "stderr",
     "output_type": "stream",
     "text": [
      "2022-05-24 10:39:28,873 INFO Welcome to the CDS\n",
      "2022-05-24 10:39:28,875 INFO Sending request to https://cds.climate.copernicus.eu/api/v2/resources/reanalysis-era5-single-levels-monthly-means\n",
      "2022-05-24 10:39:29,198 INFO Request is queued\n",
      "2022-05-24 10:39:30,447 INFO Request is running\n",
      "2022-05-24 10:39:43,699 INFO Request is completed\n",
      "2022-05-24 10:39:43,700 INFO Downloading https://download-0008-clone.copernicus-climate.eu/cache-compute-0008/cache/data9/adaptor.mars.internal-1653359980.466929-30424-12-99560d89-ac02-4509-accf-bf85431e683b.nc to e:/era5-monthly/Sea surface temperature/Sea surface temperature_1985.nc (23.8M)\n",
      "2022-05-24 10:44:24,812 INFO Download rate 86.6K/s                             \n"
     ]
    },
    {
     "name": "stdout",
     "output_type": "stream",
     "text": [
      "用时297.63700008392334\n"
     ]
    },
    {
     "name": "stderr",
     "output_type": "stream",
     "text": [
      "2022-05-24 10:44:26,548 INFO Welcome to the CDS\n",
      "2022-05-24 10:44:26,550 INFO Sending request to https://cds.climate.copernicus.eu/api/v2/resources/reanalysis-era5-single-levels-monthly-means\n",
      "2022-05-24 10:44:26,878 INFO Request is queued\n",
      "2022-05-24 10:44:29,897 INFO Request is running\n",
      "2022-05-24 10:44:49,311 INFO Request is completed\n",
      "2022-05-24 10:44:49,315 INFO Downloading https://download-0010-clone.copernicus-climate.eu/cache-compute-0010/cache/data9/adaptor.mars.internal-1653360284.9274843-5884-10-4ad64211-d8fe-45a4-98ed-35daf5b19a05.nc to e:/era5-monthly/Sea surface temperature/Sea surface temperature_1986.nc (23.8M)\n",
      "2022-05-24 10:52:32,801 INFO Download rate 52.5K/s                             \n"
     ]
    },
    {
     "name": "stdout",
     "output_type": "stream",
     "text": [
      "用时488.24399995803833\n"
     ]
    },
    {
     "name": "stderr",
     "output_type": "stream",
     "text": [
      "2022-05-24 10:52:34,729 INFO Welcome to the CDS\n",
      "2022-05-24 10:52:34,734 INFO Sending request to https://cds.climate.copernicus.eu/api/v2/resources/reanalysis-era5-single-levels-monthly-means\n",
      "2022-05-24 10:52:35,519 INFO Request is queued\n",
      "2022-05-24 10:52:36,780 INFO Request is running\n",
      "2022-05-24 10:52:49,960 INFO Request is completed\n",
      "2022-05-24 10:52:49,964 INFO Downloading https://download-0001-clone.copernicus-climate.eu/cache-compute-0001/cache/data3/adaptor.mars.internal-1653360767.3862386-4030-15-69404b9d-b565-4f4b-baa0-7ee2a5a8064b.nc to e:/era5-monthly/Sea surface temperature/Sea surface temperature_1987.nc (23.8M)\n",
      "2022-05-24 11:01:39,830 INFO Download rate 45.9K/s                             \n"
     ]
    },
    {
     "name": "stdout",
     "output_type": "stream",
     "text": [
      "用时547.0629997253418\n"
     ]
    },
    {
     "name": "stderr",
     "output_type": "stream",
     "text": [
      "2022-05-24 11:01:42,358 INFO Welcome to the CDS\n",
      "2022-05-24 11:01:42,361 INFO Sending request to https://cds.climate.copernicus.eu/api/v2/resources/reanalysis-era5-single-levels-monthly-means\n",
      "2022-05-24 11:01:42,691 INFO Request is queued\n",
      "2022-05-24 11:01:43,961 INFO Request is running\n",
      "2022-05-24 11:01:57,253 INFO Request is completed\n",
      "2022-05-24 11:01:57,256 INFO Downloading https://download-0001-clone.copernicus-climate.eu/cache-compute-0001/cache/data2/adaptor.mars.internal-1653361317.0182047-12467-9-1a223149-1437-475f-8ba1-6b1cfb6162dc.nc to e:/era5-monthly/Sea surface temperature/Sea surface temperature_1988.nc (23.8M)\n",
      "2022-05-24 11:09:23,609 INFO Download rate 54.5K/s                             \n"
     ]
    },
    {
     "name": "stdout",
     "output_type": "stream",
     "text": [
      "用时463.6740002632141\n"
     ]
    },
    {
     "name": "stderr",
     "output_type": "stream",
     "text": [
      "2022-05-24 11:09:25,492 INFO Welcome to the CDS\n",
      "2022-05-24 11:09:25,496 INFO Sending request to https://cds.climate.copernicus.eu/api/v2/resources/reanalysis-era5-single-levels-monthly-means\n",
      "2022-05-24 11:09:25,791 INFO Request is queued\n",
      "2022-05-24 11:09:27,062 INFO Request is running\n",
      "2022-05-24 11:09:34,980 INFO Request is completed\n",
      "2022-05-24 11:09:34,980 INFO Downloading https://download-0006-clone.copernicus-climate.eu/cache-compute-0006/cache/data9/adaptor.mars.internal-1653361773.3707635-28540-9-135bfcae-71d0-41f5-9533-6c33010d20ad.nc to e:/era5-monthly/Sea surface temperature/Sea surface temperature_1989.nc (23.8M)\n",
      "2022-05-24 11:28:57,886 INFO Download rate 20.9K/s                             \n"
     ]
    },
    {
     "name": "stdout",
     "output_type": "stream",
     "text": [
      "用时1174.4459998607635\n"
     ]
    },
    {
     "name": "stderr",
     "output_type": "stream",
     "text": [
      "2022-05-24 11:28:59,967 INFO Welcome to the CDS\n",
      "2022-05-24 11:28:59,967 INFO Sending request to https://cds.climate.copernicus.eu/api/v2/resources/reanalysis-era5-single-levels-monthly-means\n",
      "2022-05-24 11:29:00,305 INFO Request is queued\n",
      "2022-05-24 11:29:01,615 INFO Request is running\n",
      "2022-05-24 11:29:09,654 INFO Request is completed\n",
      "2022-05-24 11:29:09,655 INFO Downloading https://download-0011-clone.copernicus-climate.eu/cache-compute-0011/cache/data4/adaptor.mars.internal-1653362949.0256243-22148-6-6324c593-835b-407c-a6bf-904e93e9e740.nc to e:/era5-monthly/Sea surface temperature/Sea surface temperature_1990.nc (23.8M)\n",
      "2022-05-24 11:30:47,680 INFO Download rate 248.3K/s                            \n"
     ]
    },
    {
     "name": "stdout",
     "output_type": "stream",
     "text": [
      "用时109.43700003623962\n"
     ]
    },
    {
     "name": "stderr",
     "output_type": "stream",
     "text": [
      "2022-05-24 11:30:49,384 INFO Welcome to the CDS\n",
      "2022-05-24 11:30:49,385 INFO Sending request to https://cds.climate.copernicus.eu/api/v2/resources/reanalysis-era5-single-levels-monthly-means\n",
      "2022-05-24 11:30:49,684 INFO Request is queued\n",
      "2022-05-24 11:30:58,873 INFO Request is running\n",
      "2022-05-24 11:31:12,065 INFO Request is completed\n",
      "2022-05-24 11:31:12,069 INFO Downloading https://download-0013-clone.copernicus-climate.eu/cache-compute-0013/cache/data2/adaptor.mars.internal-1653363067.6861537-18307-16-c7ef31c2-b676-421e-bdc0-55c85f0c4d28.nc to e:/era5-monthly/Sea surface temperature/Sea surface temperature_1991.nc (23.8M)\n",
      "2022-05-24 11:36:48,555 INFO Download rate 72.3K/s                             \n"
     ]
    },
    {
     "name": "stdout",
     "output_type": "stream",
     "text": [
      "用时361.25299978256226\n"
     ]
    },
    {
     "name": "stderr",
     "output_type": "stream",
     "text": [
      "2022-05-24 11:36:50,690 INFO Welcome to the CDS\n",
      "2022-05-24 11:36:50,695 INFO Sending request to https://cds.climate.copernicus.eu/api/v2/resources/reanalysis-era5-single-levels-monthly-means\n",
      "2022-05-24 11:36:51,013 INFO Request is queued\n",
      "2022-05-24 11:36:52,315 INFO Request is running\n",
      "2022-05-24 11:37:00,321 INFO Request is completed\n",
      "2022-05-24 11:37:00,327 INFO Downloading https://download-0003-clone.copernicus-climate.eu/cache-compute-0003/cache/data9/adaptor.mars.internal-1653363419.1285462-16283-16-5e237483-193c-42a4-a4e5-3bb777209c00.nc to e:/era5-monthly/Sea surface temperature/Sea surface temperature_1992.nc (23.8M)\n",
      "2022-05-24 11:37:11,812 INFO Download rate 2.1M/s                              \n"
     ]
    },
    {
     "name": "stdout",
     "output_type": "stream",
     "text": [
      "用时21.709999799728394\n"
     ]
    },
    {
     "name": "stderr",
     "output_type": "stream",
     "text": [
      "2022-05-24 11:37:12,395 INFO Welcome to the CDS\n",
      "2022-05-24 11:37:12,396 INFO Sending request to https://cds.climate.copernicus.eu/api/v2/resources/reanalysis-era5-single-levels-monthly-means\n",
      "2022-05-24 11:37:12,746 INFO Request is queued\n",
      "2022-05-24 11:37:14,062 INFO Request is running\n",
      "2022-05-24 11:37:22,116 INFO Request is completed\n",
      "2022-05-24 11:37:22,121 INFO Downloading https://download-0003-clone.copernicus-climate.eu/cache-compute-0003/cache/data6/adaptor.mars.internal-1653363440.6845632-16283-17-4c21090a-b45f-481d-890e-e30e68833abd.nc to e:/era5-monthly/Sea surface temperature/Sea surface temperature_1993.nc (23.8M)\n",
      "2022-05-24 11:37:28,677 INFO Download rate 3.6M/s                              \n"
     ]
    },
    {
     "name": "stdout",
     "output_type": "stream",
     "text": [
      "用时16.884999990463257\n"
     ]
    },
    {
     "name": "stderr",
     "output_type": "stream",
     "text": [
      "2022-05-24 11:37:29,270 INFO Welcome to the CDS\n",
      "2022-05-24 11:37:29,271 INFO Sending request to https://cds.climate.copernicus.eu/api/v2/resources/reanalysis-era5-single-levels-monthly-means\n",
      "2022-05-24 11:37:29,636 INFO Request is queued\n",
      "2022-05-24 11:37:30,948 INFO Request is running\n",
      "2022-05-24 11:37:39,026 INFO Request is completed\n",
      "2022-05-24 11:37:39,029 INFO Downloading https://download-0000-clone.copernicus-climate.eu/cache-compute-0000/cache/data7/adaptor.mars.internal-1653363458.0456583-19172-19-4f4d335e-a00b-4e64-b1e2-9ff6d84b9c8f.nc to e:/era5-monthly/Sea surface temperature/Sea surface temperature_1994.nc (23.8M)\n",
      "2022-05-24 11:39:36,552 INFO Download rate 207.1K/s                            \n"
     ]
    },
    {
     "name": "stdout",
     "output_type": "stream",
     "text": [
      "用时129.13399982452393\n"
     ]
    },
    {
     "name": "stderr",
     "output_type": "stream",
     "text": [
      "2022-05-24 11:39:38,375 INFO Welcome to the CDS\n",
      "2022-05-24 11:39:38,375 INFO Sending request to https://cds.climate.copernicus.eu/api/v2/resources/reanalysis-era5-single-levels-monthly-means\n",
      "2022-05-24 11:39:38,674 INFO Request is queued\n",
      "2022-05-24 11:39:41,721 INFO Request is running\n",
      "2022-05-24 11:39:47,875 INFO Request is completed\n",
      "2022-05-24 11:39:47,875 INFO Downloading https://download-0006-clone.copernicus-climate.eu/cache-compute-0006/cache/data3/adaptor.mars.internal-1653363587.5980477-23856-15-11747196-f3aa-4a10-8cc3-0f103b40b8ca.nc to e:/era5-monthly/Sea surface temperature/Sea surface temperature_1995.nc (23.8M)\n",
      "2022-05-24 11:40:03,963 INFO Download rate 1.5M/s                              \n"
     ]
    },
    {
     "name": "stdout",
     "output_type": "stream",
     "text": [
      "用时26.123000144958496\n"
     ]
    },
    {
     "name": "stderr",
     "output_type": "stream",
     "text": [
      "2022-05-24 11:40:04,496 INFO Welcome to the CDS\n",
      "2022-05-24 11:40:04,499 INFO Sending request to https://cds.climate.copernicus.eu/api/v2/resources/reanalysis-era5-single-levels-monthly-means\n",
      "2022-05-24 11:40:04,806 INFO Request is queued\n",
      "2022-05-24 11:40:06,088 INFO Request is running\n",
      "2022-05-24 11:40:14,016 INFO Request is completed\n",
      "2022-05-24 11:40:14,020 INFO Downloading https://download-0007-clone.copernicus-climate.eu/cache-compute-0007/cache/data1/adaptor.mars.internal-1653363614.1782343-7681-17-418a0d0b-414f-464c-a8a2-1595ad41feba.nc to e:/era5-monthly/Sea surface temperature/Sea surface temperature_1996.nc (23.8M)\n",
      "2022-05-24 11:40:20,868 INFO Download rate 3.5M/s                              \n"
     ]
    },
    {
     "name": "stdout",
     "output_type": "stream",
     "text": [
      "用时16.908999919891357\n"
     ]
    },
    {
     "name": "stderr",
     "output_type": "stream",
     "text": [
      "2022-05-24 11:40:21,407 INFO Welcome to the CDS\n",
      "2022-05-24 11:40:21,407 INFO Sending request to https://cds.climate.copernicus.eu/api/v2/resources/reanalysis-era5-single-levels-monthly-means\n",
      "2022-05-24 11:40:21,708 INFO Request is queued\n",
      "2022-05-24 11:40:24,742 INFO Request is running\n",
      "2022-05-24 11:40:55,759 INFO Request is completed\n",
      "2022-05-24 11:40:55,760 INFO Downloading https://download-0004-clone.copernicus-climate.eu/cache-compute-0004/cache/data6/adaptor.mars.internal-1653363648.8609288-4513-15-ce518ec2-0e39-47af-81a2-2d2c3359691e.nc to e:/era5-monthly/Sea surface temperature/Sea surface temperature_1997.nc (23.8M)\n",
      "2022-05-24 11:41:02,699 INFO Download rate 3.4M/s                              \n"
     ]
    },
    {
     "name": "stdout",
     "output_type": "stream",
     "text": [
      "用时41.82299995422363\n"
     ]
    },
    {
     "name": "stderr",
     "output_type": "stream",
     "text": [
      "2022-05-24 11:41:03,225 INFO Welcome to the CDS\n",
      "2022-05-24 11:41:03,226 INFO Sending request to https://cds.climate.copernicus.eu/api/v2/resources/reanalysis-era5-single-levels-monthly-means\n",
      "2022-05-24 11:41:03,534 INFO Request is queued\n",
      "2022-05-24 11:41:04,798 INFO Request is running\n",
      "2022-05-24 11:41:25,911 INFO Request is completed\n",
      "2022-05-24 11:41:25,915 INFO Downloading https://download-0007-clone.copernicus-climate.eu/cache-compute-0007/cache/data8/adaptor.mars.internal-1653363679.0117269-7681-19-d2f7efd9-70fd-4bb1-a90c-9c08c66e6fa0.nc to e:/era5-monthly/Sea surface temperature/Sea surface temperature_1998.nc (23.8M)\n",
      "2022-05-24 11:41:32,692 INFO Download rate 3.5M/s                              \n"
     ]
    },
    {
     "name": "stdout",
     "output_type": "stream",
     "text": [
      "用时29.98099994659424\n"
     ]
    },
    {
     "name": "stderr",
     "output_type": "stream",
     "text": [
      "2022-05-24 11:41:33,215 INFO Welcome to the CDS\n",
      "2022-05-24 11:41:33,219 INFO Sending request to https://cds.climate.copernicus.eu/api/v2/resources/reanalysis-era5-single-levels-monthly-means\n",
      "2022-05-24 11:41:33,523 INFO Request is queued\n",
      "2022-05-24 11:41:36,563 INFO Request is running\n",
      "2022-05-24 11:41:42,719 INFO Request is completed\n",
      "2022-05-24 11:41:42,721 INFO Downloading https://download-0008-clone.copernicus-climate.eu/cache-compute-0008/cache/data7/adaptor.mars.internal-1653363702.9352057-3702-17-6b726bc2-b875-4e4f-8ff2-b97ca6f41244.nc to e:/era5-monthly/Sea surface temperature/Sea surface temperature_1999.nc (23.8M)\n",
      "2022-05-24 11:47:17,337 INFO Download rate 72.8K/s                             \n"
     ]
    },
    {
     "name": "stdout",
     "output_type": "stream",
     "text": [
      "用时346.19999980926514\n"
     ]
    },
    {
     "name": "stderr",
     "output_type": "stream",
     "text": [
      "2022-05-24 11:47:19,486 INFO Welcome to the CDS\n",
      "2022-05-24 11:47:19,488 INFO Sending request to https://cds.climate.copernicus.eu/api/v2/resources/reanalysis-era5-single-levels-monthly-means\n",
      "2022-05-24 11:47:19,828 INFO Request is queued\n",
      "2022-05-24 11:47:25,526 INFO Request is running\n",
      "2022-05-24 11:47:34,577 INFO Request is completed\n",
      "2022-05-24 11:47:34,580 INFO Downloading https://download-0014-clone.copernicus-climate.eu/cache-compute-0014/cache/data2/adaptor.mars.internal-1653364054.6396327-28687-8-69a9bcf5-7683-4820-a0c1-ae319497aaca.nc to e:/era5-monthly/Sea surface temperature/Sea surface temperature_2000.nc (23.8M)\n",
      "2022-05-24 11:47:42,947 INFO Download rate 2.8M/s                              \n"
     ]
    },
    {
     "name": "stdout",
     "output_type": "stream",
     "text": [
      "用时24.12999987602234\n"
     ]
    },
    {
     "name": "stderr",
     "output_type": "stream",
     "text": [
      "2022-05-24 11:47:43,578 INFO Welcome to the CDS\n",
      "2022-05-24 11:47:43,583 INFO Sending request to https://cds.climate.copernicus.eu/api/v2/resources/reanalysis-era5-single-levels-monthly-means\n",
      "2022-05-24 11:47:43,927 INFO Request is queued\n",
      "2022-05-24 11:52:06,703 INFO Request is completed\n",
      "2022-05-24 11:52:06,703 INFO Downloading https://download-0001-clone.copernicus-climate.eu/cache-compute-0001/cache/data8/adaptor.mars.internal-1653364256.7795765-28678-2-77e881aa-8399-4cb7-8a98-f40176a17eea.nc to e:/era5-monthly/Sea surface temperature/Sea surface temperature_2001.nc (23.8M)\n",
      "2022-05-24 11:52:26,025 INFO Download rate 1.2M/s                              \n"
     ]
    },
    {
     "name": "stdout",
     "output_type": "stream",
     "text": [
      "用时283.01900005340576\n"
     ]
    },
    {
     "name": "stderr",
     "output_type": "stream",
     "text": [
      "2022-05-24 11:52:26,575 INFO Welcome to the CDS\n",
      "2022-05-24 11:52:26,577 INFO Sending request to https://cds.climate.copernicus.eu/api/v2/resources/reanalysis-era5-single-levels-monthly-means\n",
      "2022-05-24 11:52:26,894 INFO Request is queued\n",
      "2022-05-24 11:52:32,507 INFO Request is running\n",
      "2022-05-24 11:52:41,497 INFO Request is completed\n",
      "2022-05-24 11:52:41,499 INFO Downloading https://download-0008-clone.copernicus-climate.eu/cache-compute-0008/cache/data1/adaptor.mars.internal-1653364361.883924-3180-19-2ca9b1f1-c4b7-4660-9cfd-cc09b5b4c821.nc to e:/era5-monthly/Sea surface temperature/Sea surface temperature_2002.nc (23.8M)\n",
      "2022-05-24 11:52:48,937 INFO Download rate 3.2M/s                              \n"
     ]
    },
    {
     "name": "stdout",
     "output_type": "stream",
     "text": [
      "用时22.9060001373291\n"
     ]
    },
    {
     "name": "stderr",
     "output_type": "stream",
     "text": [
      "2022-05-24 11:52:49,495 INFO Welcome to the CDS\n",
      "2022-05-24 11:52:49,496 INFO Sending request to https://cds.climate.copernicus.eu/api/v2/resources/reanalysis-era5-single-levels-monthly-means\n",
      "2022-05-24 11:52:49,819 INFO Request is queued\n",
      "2022-05-24 11:52:52,897 INFO Request is running\n",
      "2022-05-24 11:53:12,309 INFO Request is completed\n",
      "2022-05-24 11:53:12,313 INFO Downloading https://download-0004-clone.copernicus-climate.eu/cache-compute-0004/cache/data2/adaptor.mars.internal-1653364391.089264-12993-1-d07977ef-8d59-4d82-b633-c64019d0d255.nc to e:/era5-monthly/Sea surface temperature/Sea surface temperature_2003.nc (23.8M)\n",
      "2022-05-24 11:53:20,271 INFO Download rate 3M/s                                \n"
     ]
    },
    {
     "name": "stdout",
     "output_type": "stream",
     "text": [
      "用时31.331000089645386\n"
     ]
    },
    {
     "name": "stderr",
     "output_type": "stream",
     "text": [
      "2022-05-24 11:53:20,812 INFO Welcome to the CDS\n",
      "2022-05-24 11:53:20,814 INFO Sending request to https://cds.climate.copernicus.eu/api/v2/resources/reanalysis-era5-single-levels-monthly-means\n",
      "2022-05-24 11:53:21,121 INFO Request is queued\n",
      "2022-05-24 11:53:26,678 INFO Request is running\n",
      "2022-05-24 11:53:55,226 INFO Request is completed\n",
      "2022-05-24 11:53:55,227 INFO Downloading https://download-0008-clone.copernicus-climate.eu/cache-compute-0008/cache/data9/adaptor.mars.internal-1653364424.4275625-13083-1-247a283a-c262-4258-9c8a-487798535ec5.nc to e:/era5-monthly/Sea surface temperature/Sea surface temperature_2004.nc (23.8M)\n",
      "2022-05-24 11:54:02,534 INFO Download rate 3.3M/s                              \n"
     ]
    },
    {
     "name": "stdout",
     "output_type": "stream",
     "text": [
      "用时42.28999996185303\n"
     ]
    },
    {
     "name": "stderr",
     "output_type": "stream",
     "text": [
      "2022-05-24 11:54:03,139 INFO Welcome to the CDS\n",
      "2022-05-24 11:54:03,143 INFO Sending request to https://cds.climate.copernicus.eu/api/v2/resources/reanalysis-era5-single-levels-monthly-means\n",
      "2022-05-24 11:54:03,576 INFO Request is queued\n",
      "2022-05-24 11:54:06,628 INFO Request is running\n",
      "2022-05-24 11:54:26,137 INFO Request is completed\n",
      "2022-05-24 11:54:26,139 INFO Downloading https://download-0008-clone.copernicus-climate.eu/cache-compute-0008/cache/data9/adaptor.mars.internal-1653364466.0836031-10659-12-5e25b3e6-93e6-4ebb-8141-eb3e9087b20f.nc to e:/era5-monthly/Sea surface temperature/Sea surface temperature_2005.nc (23.8M)\n",
      "2022-05-24 11:54:32,078 INFO Download rate 4M/s                                \n"
     ]
    },
    {
     "name": "stdout",
     "output_type": "stream",
     "text": [
      "用时29.52900004386902\n"
     ]
    },
    {
     "name": "stderr",
     "output_type": "stream",
     "text": [
      "2022-05-24 11:54:32,644 INFO Welcome to the CDS\n",
      "2022-05-24 11:54:32,644 INFO Sending request to https://cds.climate.copernicus.eu/api/v2/resources/reanalysis-era5-single-levels-monthly-means\n",
      "2022-05-24 11:54:32,955 INFO Request is queued\n",
      "2022-05-24 11:55:50,308 INFO Request is running\n",
      "2022-05-24 11:56:29,039 INFO Request is completed\n",
      "2022-05-24 11:56:29,039 INFO Downloading https://download-0012-clone.copernicus-climate.eu/cache-compute-0012/cache/data6/adaptor.mars.internal-1653364552.718619-19354-17-e3781706-9fac-4b4a-9407-c1fbe122b2c9.nc to e:/era5-monthly/Sea surface temperature/Sea surface temperature_2006.nc (23.8M)\n",
      "2022-05-24 11:56:36,886 INFO Download rate 3M/s                                \n"
     ]
    },
    {
     "name": "stdout",
     "output_type": "stream",
     "text": [
      "用时124.80800008773804\n"
     ]
    },
    {
     "name": "stderr",
     "output_type": "stream",
     "text": [
      "2022-05-24 11:56:37,454 INFO Welcome to the CDS\n",
      "2022-05-24 11:56:37,457 INFO Sending request to https://cds.climate.copernicus.eu/api/v2/resources/reanalysis-era5-single-levels-monthly-means\n",
      "2022-05-24 11:56:37,774 INFO Request is queued\n",
      "2022-05-24 11:56:40,827 INFO Request is running\n",
      "2022-05-24 11:57:00,220 INFO Request is completed\n",
      "2022-05-24 11:57:00,220 INFO Downloading https://download-0003-clone.copernicus-climate.eu/cache-compute-0003/cache/data0/adaptor.mars.internal-1653364613.3705583-868-11-21f08f51-a7a9-4ad1-b4c0-f3afc79e3950.nc to e:/era5-monthly/Sea surface temperature/Sea surface temperature_2007.nc (23.8M)\n",
      "2022-05-24 11:57:07,267 INFO Download rate 3.4M/s                              \n"
     ]
    },
    {
     "name": "stdout",
     "output_type": "stream",
     "text": [
      "用时30.360999822616577\n"
     ]
    },
    {
     "name": "stderr",
     "output_type": "stream",
     "text": [
      "2022-05-24 11:57:07,808 INFO Welcome to the CDS\n",
      "2022-05-24 11:57:07,809 INFO Sending request to https://cds.climate.copernicus.eu/api/v2/resources/reanalysis-era5-single-levels-monthly-means\n",
      "2022-05-24 11:57:08,118 INFO Request is queued\n",
      "2022-05-24 11:57:13,687 INFO Request is running\n",
      "2022-05-24 11:57:22,688 INFO Request is completed\n",
      "2022-05-24 11:57:22,689 INFO Downloading https://download-0012-clone.copernicus-climate.eu/cache-compute-0012/cache/data8/adaptor.mars.internal-1653364640.4466574-17239-9-8449024b-05a6-4ca4-8bf0-06eccf241ffc.nc to e:/era5-monthly/Sea surface temperature/Sea surface temperature_2008.nc (23.8M)\n",
      "2022-05-24 11:57:28,832 INFO Download rate 3.9M/s                              \n"
     ]
    },
    {
     "name": "stdout",
     "output_type": "stream",
     "text": [
      "用时21.575999975204468\n"
     ]
    },
    {
     "name": "stderr",
     "output_type": "stream",
     "text": [
      "2022-05-24 11:57:29,400 INFO Welcome to the CDS\n",
      "2022-05-24 11:57:29,404 INFO Sending request to https://cds.climate.copernicus.eu/api/v2/resources/reanalysis-era5-single-levels-monthly-means\n",
      "2022-05-24 11:57:29,739 INFO Request is queued\n",
      "2022-05-24 11:57:32,809 INFO Request is running\n",
      "2022-05-24 11:57:52,223 INFO Request is completed\n",
      "2022-05-24 11:57:52,228 INFO Downloading https://download-0006-clone.copernicus-climate.eu/cache-compute-0006/cache/data5/adaptor.mars.internal-1653364666.002658-27288-14-4486c904-b1ff-4a11-abe2-4dc4570a7498.nc to e:/era5-monthly/Sea surface temperature/Sea surface temperature_2009.nc (23.8M)\n",
      "2022-05-24 11:58:00,171 INFO Download rate 3M/s                                \n"
     ]
    },
    {
     "name": "stdout",
     "output_type": "stream",
     "text": [
      "用时31.346999883651733\n"
     ]
    },
    {
     "name": "stderr",
     "output_type": "stream",
     "text": [
      "2022-05-24 11:58:00,750 INFO Welcome to the CDS\n",
      "2022-05-24 11:58:00,755 INFO Sending request to https://cds.climate.copernicus.eu/api/v2/resources/reanalysis-era5-single-levels-monthly-means\n",
      "2022-05-24 11:58:01,089 INFO Request is queued\n",
      "2022-05-24 11:58:02,383 INFO Request is running\n",
      "2022-05-24 11:58:15,692 INFO Request is completed\n",
      "2022-05-24 11:58:15,695 INFO Downloading https://download-0014-clone.copernicus-climate.eu/cache-compute-0014/cache/data6/adaptor.mars.internal-1653364693.8977556-4986-8-c2803eef-3151-42fb-b05a-01ccb10b3c71.nc to e:/era5-monthly/Sea surface temperature/Sea surface temperature_2010.nc (23.8M)\n",
      "2022-05-24 11:58:24,056 INFO Download rate 2.8M/s                              \n"
     ]
    },
    {
     "name": "stdout",
     "output_type": "stream",
     "text": [
      "用时23.874000072479248\n"
     ]
    },
    {
     "name": "stderr",
     "output_type": "stream",
     "text": [
      "2022-05-24 11:58:24,618 INFO Welcome to the CDS\n",
      "2022-05-24 11:58:24,619 INFO Sending request to https://cds.climate.copernicus.eu/api/v2/resources/reanalysis-era5-single-levels-monthly-means\n",
      "2022-05-24 11:58:24,939 INFO Request is queued\n",
      "2022-05-24 11:58:26,217 INFO Request is running\n",
      "2022-05-24 11:58:39,520 INFO Request is completed\n",
      "2022-05-24 11:58:39,524 INFO Downloading https://download-0005-clone.copernicus-climate.eu/cache-compute-0005/cache/data6/adaptor.mars.internal-1653364718.2855904-22536-6-252f0b99-d7b0-4b29-96f2-cf733eacd184.nc to e:/era5-monthly/Sea surface temperature/Sea surface temperature_2011.nc (23.8M)\n",
      "2022-05-24 11:58:47,309 INFO Download rate 3.1M/s                              \n"
     ]
    },
    {
     "name": "stdout",
     "output_type": "stream",
     "text": [
      "用时23.249000072479248\n"
     ]
    },
    {
     "name": "stderr",
     "output_type": "stream",
     "text": [
      "2022-05-24 11:58:47,862 INFO Welcome to the CDS\n",
      "2022-05-24 11:58:47,864 INFO Sending request to https://cds.climate.copernicus.eu/api/v2/resources/reanalysis-era5-single-levels-monthly-means\n",
      "2022-05-24 11:58:48,180 INFO Request is queued\n",
      "2022-05-24 11:58:51,240 INFO Request is running\n",
      "2022-05-24 11:59:12,062 INFO Request is completed\n",
      "2022-05-24 11:59:12,067 INFO Downloading https://download-0014-clone.copernicus-climate.eu/cache-compute-0014/cache/data2/adaptor.mars.internal-1653364748.9794977-4986-9-19cb283c-9e98-4b17-b9f6-bf9e7239d521.nc to e:/era5-monthly/Sea surface temperature/Sea surface temperature_2012.nc (23.8M)\n",
      "2022-05-24 11:59:21,577 INFO Download rate 2.5M/s                              \n"
     ]
    },
    {
     "name": "stdout",
     "output_type": "stream",
     "text": [
      "用时34.247000217437744\n"
     ]
    },
    {
     "name": "stderr",
     "output_type": "stream",
     "text": [
      "2022-05-24 11:59:22,110 INFO Welcome to the CDS\n",
      "2022-05-24 11:59:22,113 INFO Sending request to https://cds.climate.copernicus.eu/api/v2/resources/reanalysis-era5-single-levels-monthly-means\n",
      "2022-05-24 11:59:22,532 INFO Request is queued\n",
      "2022-05-24 11:59:25,559 INFO Request is running\n",
      "2022-05-24 11:59:37,028 INFO Request is completed\n",
      "2022-05-24 11:59:37,029 INFO Downloading https://download-0012-clone.copernicus-climate.eu/cache-compute-0012/cache/data3/adaptor.mars.internal-1653364773.7220383-22323-3-864d7332-36d9-4100-a698-5b0e14f741e8.nc to e:/era5-monthly/Sea surface temperature/Sea surface temperature_2013.nc (23.8M)\n",
      "2022-05-24 11:59:45,875 INFO Download rate 2.7M/s                              \n"
     ]
    },
    {
     "name": "stdout",
     "output_type": "stream",
     "text": [
      "用时24.289000034332275\n"
     ]
    },
    {
     "name": "stderr",
     "output_type": "stream",
     "text": [
      "2022-05-24 11:59:46,376 INFO Welcome to the CDS\n",
      "2022-05-24 11:59:46,377 INFO Sending request to https://cds.climate.copernicus.eu/api/v2/resources/reanalysis-era5-single-levels-monthly-means\n",
      "2022-05-24 11:59:46,665 INFO Request is queued\n",
      "2022-05-24 11:59:47,918 INFO Request is running\n",
      "2022-05-24 12:00:01,139 INFO Request is completed\n",
      "2022-05-24 12:00:01,140 INFO Downloading https://download-0010-clone.copernicus-climate.eu/cache-compute-0010/cache/data5/adaptor.mars.internal-1653364799.4007957-5556-1-313a678c-8d3d-4010-9dea-4f3956407be8.nc to e:/era5-monthly/Sea surface temperature/Sea surface temperature_2014.nc (23.8M)\n",
      "2022-05-24 12:00:10,825 INFO Download rate 2.5M/s                              \n"
     ]
    },
    {
     "name": "stdout",
     "output_type": "stream",
     "text": [
      "用时24.954999923706055\n"
     ]
    },
    {
     "name": "stderr",
     "output_type": "stream",
     "text": [
      "2022-05-24 12:00:11,348 INFO Welcome to the CDS\n",
      "2022-05-24 12:00:11,348 INFO Sending request to https://cds.climate.copernicus.eu/api/v2/resources/reanalysis-era5-single-levels-monthly-means\n",
      "2022-05-24 12:00:11,660 INFO Request is queued\n",
      "2022-05-24 12:00:12,920 INFO Request is running\n",
      "2022-05-24 12:00:20,849 INFO Request is completed\n",
      "2022-05-24 12:00:20,854 INFO Downloading https://download-0010-clone.copernicus-climate.eu/cache-compute-0010/cache/data7/adaptor.mars.internal-1653364818.7547581-5556-2-998f43b1-9360-456e-aac8-8cceda996529.nc to e:/era5-monthly/Sea surface temperature/Sea surface temperature_2015.nc (23.8M)\n",
      "2022-05-24 12:00:29,275 INFO Download rate 2.8M/s                              \n"
     ]
    },
    {
     "name": "stdout",
     "output_type": "stream",
     "text": [
      "用时18.44700002670288\n"
     ]
    },
    {
     "name": "stderr",
     "output_type": "stream",
     "text": [
      "2022-05-24 12:00:29,799 INFO Welcome to the CDS\n",
      "2022-05-24 12:00:29,800 INFO Sending request to https://cds.climate.copernicus.eu/api/v2/resources/reanalysis-era5-single-levels-monthly-means\n",
      "2022-05-24 12:00:30,110 INFO Request is queued\n",
      "2022-05-24 12:00:33,129 INFO Request is running\n",
      "2022-05-24 12:00:44,611 INFO Request is completed\n",
      "2022-05-24 12:00:44,615 INFO Downloading https://download-0000-clone.copernicus-climate.eu/cache-compute-0000/cache/data0/adaptor.mars.internal-1653364840.2977831-31733-3-ee6dd372-9afc-4a79-b896-2d5c4b093668.nc to e:/era5-monthly/Sea surface temperature/Sea surface temperature_2016.nc (23.8M)\n",
      "2022-05-24 12:00:52,454 INFO Download rate 3M/s                                \n"
     ]
    },
    {
     "name": "stdout",
     "output_type": "stream",
     "text": [
      "用时23.167999982833862\n"
     ]
    },
    {
     "name": "stderr",
     "output_type": "stream",
     "text": [
      "2022-05-24 12:00:52,958 INFO Welcome to the CDS\n",
      "2022-05-24 12:00:52,960 INFO Sending request to https://cds.climate.copernicus.eu/api/v2/resources/reanalysis-era5-single-levels-monthly-means\n",
      "2022-05-24 12:00:53,269 INFO Request is queued\n",
      "2022-05-24 12:00:58,767 INFO Request is running\n",
      "2022-05-24 12:01:15,591 INFO Request is completed\n",
      "2022-05-24 12:01:15,595 INFO Downloading https://download-0001-clone.copernicus-climate.eu/cache-compute-0001/cache/data4/adaptor.mars.internal-1653364870.626563-26477-19-951a21db-1cab-47d8-97c3-a400a194d978.nc to e:/era5-monthly/Sea surface temperature/Sea surface temperature_2017.nc (23.8M)\n",
      "2022-05-24 12:01:27,220 INFO Download rate 2M/s                                \n"
     ]
    },
    {
     "name": "stdout",
     "output_type": "stream",
     "text": [
      "用时34.76700019836426\n"
     ]
    },
    {
     "name": "stderr",
     "output_type": "stream",
     "text": [
      "2022-05-24 12:01:27,740 INFO Welcome to the CDS\n",
      "2022-05-24 12:01:27,743 INFO Sending request to https://cds.climate.copernicus.eu/api/v2/resources/reanalysis-era5-single-levels-monthly-means\n",
      "2022-05-24 12:01:28,060 INFO Request is queued\n",
      "2022-05-24 12:01:29,329 INFO Request is running\n",
      "2022-05-24 12:01:50,422 INFO Request is completed\n",
      "2022-05-24 12:01:50,425 INFO Downloading https://download-0003-clone.copernicus-climate.eu/cache-compute-0003/cache/data6/adaptor.mars.internal-1653364908.0360315-27657-4-d239e005-b19b-44a0-a664-e5cae9a6d0bd.nc to e:/era5-monthly/Sea surface temperature/Sea surface temperature_2018.nc (23.8M)\n",
      "2022-05-24 12:02:00,480 INFO Download rate 2.4M/s                              \n"
     ]
    },
    {
     "name": "stdout",
     "output_type": "stream",
     "text": [
      "用时33.2720000743866\n"
     ]
    },
    {
     "name": "stderr",
     "output_type": "stream",
     "text": [
      "2022-05-24 12:02:01,000 INFO Welcome to the CDS\n",
      "2022-05-24 12:02:01,003 INFO Sending request to https://cds.climate.copernicus.eu/api/v2/resources/reanalysis-era5-single-levels-monthly-means\n",
      "2022-05-24 12:02:01,310 INFO Request is queued\n",
      "2022-05-24 12:02:02,571 INFO Request is running\n",
      "2022-05-24 12:02:15,779 INFO Request is completed\n",
      "2022-05-24 12:02:15,780 INFO Downloading https://download-0010-clone.copernicus-climate.eu/cache-compute-0010/cache/data8/adaptor.mars.internal-1653364934.2216008-30154-16-ae3fcfac-28d7-4567-b077-36b0f2173ca3.nc to e:/era5-monthly/Sea surface temperature/Sea surface temperature_2019.nc (23.8M)\n",
      "2022-05-24 12:02:28,774 INFO Download rate 1.8M/s                              \n"
     ]
    },
    {
     "name": "stdout",
     "output_type": "stream",
     "text": [
      "用时28.287999868392944\n"
     ]
    },
    {
     "name": "stderr",
     "output_type": "stream",
     "text": [
      "2022-05-24 12:02:29,289 INFO Welcome to the CDS\n",
      "2022-05-24 12:02:29,291 INFO Sending request to https://cds.climate.copernicus.eu/api/v2/resources/reanalysis-era5-single-levels-monthly-means\n",
      "2022-05-24 12:02:29,590 INFO Request is queued\n",
      "2022-05-24 12:02:32,621 INFO Request is running\n",
      "2022-05-24 12:03:03,621 INFO Request is completed\n",
      "2022-05-24 12:03:03,625 INFO Downloading https://download-0000-clone.copernicus-climate.eu/cache-compute-0000/cache/data5/adaptor.mars.internal-1653364974.3163679-27761-15-fae70602-ef00-4500-82cc-720e9775f6df.nc to e:/era5-monthly/Sea surface temperature/Sea surface temperature_2020.nc (23.8M)\n",
      "2022-05-24 12:03:14,733 INFO Download rate 2.1M/s                              \n"
     ]
    },
    {
     "name": "stdout",
     "output_type": "stream",
     "text": [
      "用时45.96000003814697\n"
     ]
    },
    {
     "name": "stderr",
     "output_type": "stream",
     "text": [
      "2022-05-24 12:03:15,259 INFO Welcome to the CDS\n",
      "2022-05-24 12:03:15,259 INFO Sending request to https://cds.climate.copernicus.eu/api/v2/resources/reanalysis-era5-single-levels-monthly-means\n",
      "2022-05-24 12:03:15,569 INFO Request is queued\n",
      "2022-05-24 12:03:16,840 INFO Request is running\n",
      "2022-05-24 12:03:30,069 INFO Request is completed\n",
      "2022-05-24 12:03:30,070 INFO Downloading https://download-0005-clone.copernicus-climate.eu/cache-compute-0005/cache/data8/adaptor.mars.internal-1653365005.4594436-31930-7-138476a9-9bf0-4199-a6ac-a7313ffec667.nc to e:/era5-monthly/Sea surface temperature/Sea surface temperature_2021.nc (23.8M)\n",
      "2022-05-24 12:03:46,092 INFO Download rate 1.5M/s                              \n"
     ]
    },
    {
     "name": "stdout",
     "output_type": "stream",
     "text": [
      "用时31.357999801635742\n"
     ]
    }
   ],
   "source": [
    "import cdsapi\n",
    "import os\n",
    "import time\n",
    "\n",
    "import cdsapi\n",
    "\n",
    "years = ('1979','1980', '1981', '1982',\n",
    "            '1983', '1984', '1985',\n",
    "            '1986', '1987', '1988',\n",
    "            '1989', '1990', '1991',\n",
    "            '1992', '1993', '1994',\n",
    "            '1995', '1996', '1997',\n",
    "            '1998', '1999', '2000',\n",
    "            '2001', '2002', '2003',\n",
    "            '2004', '2005', '2006',\n",
    "            '2007', '2008', '2009',\n",
    "            '2010', '2011', '2012',\n",
    "            '2013', '2014', '2015',\n",
    "            '2016', '2017', '2018',\n",
    "            '2019', '2020','2021')\n",
    "\n",
    "varias= \"Sea surface temperature\"  #'mean_sea_level_pressure'\n",
    "for Y in years:\n",
    "    target_filename = \"e:/era5-monthly/\"+ varias +  \"/\" + varias + \"_\" + Y  + \".nc\"\n",
    "    if not os.path.isfile(target_filename):\n",
    "        start_time = time.time()\n",
    "        c.retrieve(\n",
    "            'reanalysis-era5-single-levels-monthly-means',\n",
    "            {\n",
    "                'format': 'netcdf',\n",
    "                'product_type': 'monthly_averaged_reanalysis',\n",
    "                'variable': varias,\n",
    "                'year': Y,\n",
    "                'month': [\n",
    "                    '01', '02', '03',\n",
    "                    '04', '05', '06',\n",
    "                    '07', '08', '09',\n",
    "                    '10', '11', '12',\n",
    "                ],\n",
    "                'time': '00:00',\n",
    "            },\n",
    "        target_filename)\n",
    "        end_time = time.time()\n",
    "        print(\"用时{}\".format(end_time-start_time))"
   ]
  },
  {
   "cell_type": "code",
   "execution_count": null,
   "id": "b99ad7d7",
   "metadata": {},
   "outputs": [],
   "source": []
  }
 ],
 "metadata": {
  "kernelspec": {
   "display_name": "Python 3",
   "language": "python",
   "name": "python3"
  },
  "language_info": {
   "codemirror_mode": {
    "name": "ipython",
    "version": 3
   },
   "file_extension": ".py",
   "mimetype": "text/x-python",
   "name": "python",
   "nbconvert_exporter": "python",
   "pygments_lexer": "ipython3",
   "version": "3.8.8"
  },
  "toc": {
   "base_numbering": 1,
   "nav_menu": {},
   "number_sections": true,
   "sideBar": true,
   "skip_h1_title": false,
   "title_cell": "Table of Contents",
   "title_sidebar": "Contents",
   "toc_cell": false,
   "toc_position": {},
   "toc_section_display": true,
   "toc_window_display": true
  },
  "varInspector": {
   "cols": {
    "lenName": 16,
    "lenType": 16,
    "lenVar": 40
   },
   "kernels_config": {
    "python": {
     "delete_cmd_postfix": "",
     "delete_cmd_prefix": "del ",
     "library": "var_list.py",
     "varRefreshCmd": "print(var_dic_list())"
    },
    "r": {
     "delete_cmd_postfix": ") ",
     "delete_cmd_prefix": "rm(",
     "library": "var_list.r",
     "varRefreshCmd": "cat(var_dic_list()) "
    }
   },
   "types_to_exclude": [
    "module",
    "function",
    "builtin_function_or_method",
    "instance",
    "_Feature"
   ],
   "window_display": false
  }
 },
 "nbformat": 4,
 "nbformat_minor": 5
}
